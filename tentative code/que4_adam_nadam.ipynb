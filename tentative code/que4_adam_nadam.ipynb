{
 "cells": [
  {
   "cell_type": "code",
   "execution_count": null,
   "metadata": {},
   "outputs": [
    {
     "name": "stderr",
     "output_type": "stream",
     "text": [
      "\u001b[34m\u001b[1mwandb\u001b[0m: Using wandb-core as the SDK backend.  Please refer to https://wandb.me/wandb-core for more information.\n"
     ]
    },
    {
     "name": "stdout",
     "output_type": "stream",
     "text": [
      "Create sweep with ID: tbphh202\n",
      "Sweep URL: https://wandb.ai/ed24s401-indian-institute-of-technology-madras/q4_sweep_project/sweeps/tbphh202\n"
     ]
    },
    {
     "name": "stderr",
     "output_type": "stream",
     "text": [
      "\u001b[34m\u001b[1mwandb\u001b[0m: Agent Starting Run: vvg5vttr with config:\n",
      "\u001b[34m\u001b[1mwandb\u001b[0m: \tactivation: relu\n",
      "\u001b[34m\u001b[1mwandb\u001b[0m: \tbatch_size: 32\n",
      "\u001b[34m\u001b[1mwandb\u001b[0m: \tbeta1: 0.9\n",
      "\u001b[34m\u001b[1mwandb\u001b[0m: \tbeta2: 0.999\n",
      "\u001b[34m\u001b[1mwandb\u001b[0m: \tbeta_rms: 0.9\n",
      "\u001b[34m\u001b[1mwandb\u001b[0m: \tepochs: 15\n",
      "\u001b[34m\u001b[1mwandb\u001b[0m: \tepsilon: 1e-08\n",
      "\u001b[34m\u001b[1mwandb\u001b[0m: \thidden_size: 256\n",
      "\u001b[34m\u001b[1mwandb\u001b[0m: \tinit_type: xavier\n",
      "\u001b[34m\u001b[1mwandb\u001b[0m: \tlearning_rate: 0.005\n",
      "\u001b[34m\u001b[1mwandb\u001b[0m: \tmomentum: 0.9\n",
      "\u001b[34m\u001b[1mwandb\u001b[0m: \tnum_hidden_layers: 3\n",
      "\u001b[34m\u001b[1mwandb\u001b[0m: \toptimizer: adam\n",
      "\u001b[34m\u001b[1mwandb\u001b[0m: \tweight_decay: 0\n",
      "\u001b[34m\u001b[1mwandb\u001b[0m: Currently logged in as: \u001b[33med24s401\u001b[0m (\u001b[33med24s401-indian-institute-of-technology-madras\u001b[0m) to \u001b[32mhttps://api.wandb.ai\u001b[0m. Use \u001b[1m`wandb login --relogin`\u001b[0m to force relogin\n"
     ]
    },
    {
     "data": {
      "text/html": [
       "creating run (0.3s)"
      ],
      "text/plain": [
       "<IPython.core.display.HTML object>"
      ]
     },
     "metadata": {},
     "output_type": "display_data"
    },
    {
     "data": {
      "text/html": [
       "Tracking run with wandb version 0.19.8"
      ],
      "text/plain": [
       "<IPython.core.display.HTML object>"
      ]
     },
     "metadata": {},
     "output_type": "display_data"
    },
    {
     "data": {
      "text/html": [
       "Run data is saved locally in <code>d:\\IIT M\\SEM2\\ED5340Data Science Theory and practice\\Practice\\wandb\\run-20250317_121201-vvg5vttr</code>"
      ],
      "text/plain": [
       "<IPython.core.display.HTML object>"
      ]
     },
     "metadata": {},
     "output_type": "display_data"
    },
    {
     "data": {
      "text/html": [
       "Syncing run <strong><a href='https://wandb.ai/ed24s401-indian-institute-of-technology-madras/q4_sweep_project/runs/vvg5vttr' target=\"_blank\">northern-sweep-1</a></strong> to <a href='https://wandb.ai/ed24s401-indian-institute-of-technology-madras/q4_sweep_project' target=\"_blank\">Weights & Biases</a> (<a href='https://wandb.me/developer-guide' target=\"_blank\">docs</a>)<br>Sweep page: <a href='https://wandb.ai/ed24s401-indian-institute-of-technology-madras/q4_sweep_project/sweeps/tbphh202' target=\"_blank\">https://wandb.ai/ed24s401-indian-institute-of-technology-madras/q4_sweep_project/sweeps/tbphh202</a>"
      ],
      "text/plain": [
       "<IPython.core.display.HTML object>"
      ]
     },
     "metadata": {},
     "output_type": "display_data"
    },
    {
     "data": {
      "text/html": [
       " View project at <a href='https://wandb.ai/ed24s401-indian-institute-of-technology-madras/q4_sweep_project' target=\"_blank\">https://wandb.ai/ed24s401-indian-institute-of-technology-madras/q4_sweep_project</a>"
      ],
      "text/plain": [
       "<IPython.core.display.HTML object>"
      ]
     },
     "metadata": {},
     "output_type": "display_data"
    },
    {
     "data": {
      "text/html": [
       " View sweep at <a href='https://wandb.ai/ed24s401-indian-institute-of-technology-madras/q4_sweep_project/sweeps/tbphh202' target=\"_blank\">https://wandb.ai/ed24s401-indian-institute-of-technology-madras/q4_sweep_project/sweeps/tbphh202</a>"
      ],
      "text/plain": [
       "<IPython.core.display.HTML object>"
      ]
     },
     "metadata": {},
     "output_type": "display_data"
    },
    {
     "data": {
      "text/html": [
       " View run at <a href='https://wandb.ai/ed24s401-indian-institute-of-technology-madras/q4_sweep_project/runs/vvg5vttr' target=\"_blank\">https://wandb.ai/ed24s401-indian-institute-of-technology-madras/q4_sweep_project/runs/vvg5vttr</a>"
      ],
      "text/plain": [
       "<IPython.core.display.HTML object>"
      ]
     },
     "metadata": {},
     "output_type": "display_data"
    },
    {
     "name": "stdout",
     "output_type": "stream",
     "text": [
      "Epoch 1/15 - loss=0.5460, val_acc=0.8470, val_loss=0.4313800753755172\n",
      "Epoch 2/15 - loss=0.4277, val_acc=0.8442, val_loss=0.42233274853858394\n",
      "Epoch 3/15 - loss=0.3970, val_acc=0.8567, val_loss=0.38684253322232853\n",
      "Epoch 4/15 - loss=0.3729, val_acc=0.8613, val_loss=0.40310718068059503\n",
      "Epoch 5/15 - loss=0.3694, val_acc=0.8658, val_loss=0.3797990675807041\n",
      "Epoch 6/15 - loss=0.3591, val_acc=0.8587, val_loss=0.3971590549282658\n",
      "Epoch 7/15 - loss=0.3442, val_acc=0.8653, val_loss=0.3900859654684136\n",
      "Epoch 8/15 - loss=0.3400, val_acc=0.8688, val_loss=0.362453378967503\n",
      "Epoch 9/15 - loss=0.3324, val_acc=0.8625, val_loss=0.3884308457926465\n",
      "Epoch 10/15 - loss=0.3277, val_acc=0.8687, val_loss=0.4257646814918029\n",
      "Epoch 11/15 - loss=0.3246, val_acc=0.8757, val_loss=0.3719614796062187\n",
      "Epoch 12/15 - loss=0.3189, val_acc=0.8702, val_loss=0.3855816356567572\n",
      "Epoch 13/15 - loss=0.3272, val_acc=0.8705, val_loss=0.4053483735611952\n",
      "Epoch 14/15 - loss=0.3169, val_acc=0.8780, val_loss=0.34395362717023575\n",
      "Epoch 15/15 - loss=0.3091, val_acc=0.8713, val_loss=0.35280880725377367\n",
      "test accuracy  0.8669\n"
     ]
    },
    {
     "data": {
      "text/html": [],
      "text/plain": [
       "<IPython.core.display.HTML object>"
      ]
     },
     "metadata": {},
     "output_type": "display_data"
    },
    {
     "data": {
      "text/html": [
       "<br>    <style><br>        .wandb-row {<br>            display: flex;<br>            flex-direction: row;<br>            flex-wrap: wrap;<br>            justify-content: flex-start;<br>            width: 100%;<br>        }<br>        .wandb-col {<br>            display: flex;<br>            flex-direction: column;<br>            flex-basis: 100%;<br>            flex: 1;<br>            padding: 10px;<br>        }<br>    </style><br><div class=\"wandb-row\"><div class=\"wandb-col\"><h3>Run history:</h3><br/><table class=\"wandb\"><tr><td>epoch</td><td>▁▁▂▃▃▃▄▅▅▅▆▇▇▇█</td></tr><tr><td>test_accuracy</td><td>▁</td></tr><tr><td>training_loss</td><td>█▅▄▃▃▂▂▂▂▂▁▁▂▁▁</td></tr><tr><td>validation loss</td><td>█▇▄▆▄▅▅▂▅█▃▄▆▁▂</td></tr><tr><td>validation_accuracy</td><td>▂▁▄▅▅▄▅▆▅▆█▆▆█▇</td></tr></table><br/></div><div class=\"wandb-col\"><h3>Run summary:</h3><br/><table class=\"wandb\"><tr><td>epoch</td><td>15</td></tr><tr><td>test_accuracy</td><td>0.8669</td></tr><tr><td>training_loss</td><td>0.30905</td></tr><tr><td>validation loss</td><td>0.35281</td></tr><tr><td>validation_accuracy</td><td>0.87133</td></tr></table><br/></div></div>"
      ],
      "text/plain": [
       "<IPython.core.display.HTML object>"
      ]
     },
     "metadata": {},
     "output_type": "display_data"
    },
    {
     "data": {
      "text/html": [
       " View run <strong style=\"color:#cdcd00\">hl_3_bs_32_ac_relu_opt_adam</strong> at: <a href='https://wandb.ai/ed24s401-indian-institute-of-technology-madras/q4_sweep_project/runs/vvg5vttr' target=\"_blank\">https://wandb.ai/ed24s401-indian-institute-of-technology-madras/q4_sweep_project/runs/vvg5vttr</a><br> View project at: <a href='https://wandb.ai/ed24s401-indian-institute-of-technology-madras/q4_sweep_project' target=\"_blank\">https://wandb.ai/ed24s401-indian-institute-of-technology-madras/q4_sweep_project</a><br>Synced 5 W&B file(s), 0 media file(s), 0 artifact file(s) and 0 other file(s)"
      ],
      "text/plain": [
       "<IPython.core.display.HTML object>"
      ]
     },
     "metadata": {},
     "output_type": "display_data"
    },
    {
     "data": {
      "text/html": [
       "Find logs at: <code>.\\wandb\\run-20250317_121201-vvg5vttr\\logs</code>"
      ],
      "text/plain": [
       "<IPython.core.display.HTML object>"
      ]
     },
     "metadata": {},
     "output_type": "display_data"
    },
    {
     "name": "stderr",
     "output_type": "stream",
     "text": [
      "\u001b[34m\u001b[1mwandb\u001b[0m: Agent Starting Run: 2tgpvh18 with config:\n",
      "\u001b[34m\u001b[1mwandb\u001b[0m: \tactivation: relu\n",
      "\u001b[34m\u001b[1mwandb\u001b[0m: \tbatch_size: 32\n",
      "\u001b[34m\u001b[1mwandb\u001b[0m: \tbeta1: 0.9\n",
      "\u001b[34m\u001b[1mwandb\u001b[0m: \tbeta2: 0.999\n",
      "\u001b[34m\u001b[1mwandb\u001b[0m: \tbeta_rms: 0.9\n",
      "\u001b[34m\u001b[1mwandb\u001b[0m: \tepochs: 15\n",
      "\u001b[34m\u001b[1mwandb\u001b[0m: \tepsilon: 1e-08\n",
      "\u001b[34m\u001b[1mwandb\u001b[0m: \thidden_size: 256\n",
      "\u001b[34m\u001b[1mwandb\u001b[0m: \tinit_type: xavier\n",
      "\u001b[34m\u001b[1mwandb\u001b[0m: \tlearning_rate: 0.005\n",
      "\u001b[34m\u001b[1mwandb\u001b[0m: \tmomentum: 0.9\n",
      "\u001b[34m\u001b[1mwandb\u001b[0m: \tnum_hidden_layers: 3\n",
      "\u001b[34m\u001b[1mwandb\u001b[0m: \toptimizer: adam\n",
      "\u001b[34m\u001b[1mwandb\u001b[0m: \tweight_decay: 0\n"
     ]
    },
    {
     "data": {
      "text/html": [
       "creating run (0.5s)"
      ],
      "text/plain": [
       "<IPython.core.display.HTML object>"
      ]
     },
     "metadata": {},
     "output_type": "display_data"
    },
    {
     "data": {
      "text/html": [
       "Tracking run with wandb version 0.19.8"
      ],
      "text/plain": [
       "<IPython.core.display.HTML object>"
      ]
     },
     "metadata": {},
     "output_type": "display_data"
    },
    {
     "data": {
      "text/html": [
       "Run data is saved locally in <code>d:\\IIT M\\SEM2\\ED5340Data Science Theory and practice\\Practice\\wandb\\run-20250317_122519-2tgpvh18</code>"
      ],
      "text/plain": [
       "<IPython.core.display.HTML object>"
      ]
     },
     "metadata": {},
     "output_type": "display_data"
    },
    {
     "data": {
      "text/html": [
       "Syncing run <strong><a href='https://wandb.ai/ed24s401-indian-institute-of-technology-madras/q4_sweep_project/runs/2tgpvh18' target=\"_blank\">young-sweep-2</a></strong> to <a href='https://wandb.ai/ed24s401-indian-institute-of-technology-madras/q4_sweep_project' target=\"_blank\">Weights & Biases</a> (<a href='https://wandb.me/developer-guide' target=\"_blank\">docs</a>)<br>Sweep page: <a href='https://wandb.ai/ed24s401-indian-institute-of-technology-madras/q4_sweep_project/sweeps/tbphh202' target=\"_blank\">https://wandb.ai/ed24s401-indian-institute-of-technology-madras/q4_sweep_project/sweeps/tbphh202</a>"
      ],
      "text/plain": [
       "<IPython.core.display.HTML object>"
      ]
     },
     "metadata": {},
     "output_type": "display_data"
    },
    {
     "data": {
      "text/html": [
       " View project at <a href='https://wandb.ai/ed24s401-indian-institute-of-technology-madras/q4_sweep_project' target=\"_blank\">https://wandb.ai/ed24s401-indian-institute-of-technology-madras/q4_sweep_project</a>"
      ],
      "text/plain": [
       "<IPython.core.display.HTML object>"
      ]
     },
     "metadata": {},
     "output_type": "display_data"
    },
    {
     "data": {
      "text/html": [
       " View sweep at <a href='https://wandb.ai/ed24s401-indian-institute-of-technology-madras/q4_sweep_project/sweeps/tbphh202' target=\"_blank\">https://wandb.ai/ed24s401-indian-institute-of-technology-madras/q4_sweep_project/sweeps/tbphh202</a>"
      ],
      "text/plain": [
       "<IPython.core.display.HTML object>"
      ]
     },
     "metadata": {},
     "output_type": "display_data"
    },
    {
     "data": {
      "text/html": [
       " View run at <a href='https://wandb.ai/ed24s401-indian-institute-of-technology-madras/q4_sweep_project/runs/2tgpvh18' target=\"_blank\">https://wandb.ai/ed24s401-indian-institute-of-technology-madras/q4_sweep_project/runs/2tgpvh18</a>"
      ],
      "text/plain": [
       "<IPython.core.display.HTML object>"
      ]
     },
     "metadata": {},
     "output_type": "display_data"
    },
    {
     "name": "stdout",
     "output_type": "stream",
     "text": [
      "Epoch 1/15 - loss=0.5460, val_acc=0.8470, val_loss=0.4313800753755172\n",
      "Epoch 2/15 - loss=0.4277, val_acc=0.8442, val_loss=0.42233274853858394\n",
      "Epoch 3/15 - loss=0.3970, val_acc=0.8567, val_loss=0.38684253322232853\n",
      "Epoch 4/15 - loss=0.3729, val_acc=0.8613, val_loss=0.40310718068059503\n",
      "Epoch 5/15 - loss=0.3694, val_acc=0.8658, val_loss=0.3797990675807041\n",
      "Epoch 6/15 - loss=0.3591, val_acc=0.8587, val_loss=0.3971590549282658\n",
      "Epoch 7/15 - loss=0.3442, val_acc=0.8653, val_loss=0.3900859654684136\n",
      "Epoch 8/15 - loss=0.3400, val_acc=0.8688, val_loss=0.362453378967503\n",
      "Epoch 9/15 - loss=0.3324, val_acc=0.8625, val_loss=0.3884308457926465\n",
      "Epoch 10/15 - loss=0.3277, val_acc=0.8687, val_loss=0.4257646814918029\n",
      "Epoch 11/15 - loss=0.3246, val_acc=0.8757, val_loss=0.3719614796062187\n",
      "Epoch 12/15 - loss=0.3189, val_acc=0.8702, val_loss=0.3855816356567572\n",
      "Epoch 13/15 - loss=0.3272, val_acc=0.8705, val_loss=0.4053483735611952\n",
      "Epoch 14/15 - loss=0.3169, val_acc=0.8780, val_loss=0.34395362717023575\n",
      "Epoch 15/15 - loss=0.3091, val_acc=0.8713, val_loss=0.35280880725377367\n",
      "test accuracy  0.8669\n"
     ]
    },
    {
     "data": {
      "text/html": [],
      "text/plain": [
       "<IPython.core.display.HTML object>"
      ]
     },
     "metadata": {},
     "output_type": "display_data"
    },
    {
     "data": {
      "text/html": [
       "<br>    <style><br>        .wandb-row {<br>            display: flex;<br>            flex-direction: row;<br>            flex-wrap: wrap;<br>            justify-content: flex-start;<br>            width: 100%;<br>        }<br>        .wandb-col {<br>            display: flex;<br>            flex-direction: column;<br>            flex-basis: 100%;<br>            flex: 1;<br>            padding: 10px;<br>        }<br>    </style><br><div class=\"wandb-row\"><div class=\"wandb-col\"><h3>Run history:</h3><br/><table class=\"wandb\"><tr><td>epoch</td><td>▁▁▂▃▃▃▄▅▅▅▆▇▇▇█</td></tr><tr><td>test_accuracy</td><td>▁</td></tr><tr><td>training_loss</td><td>█▅▄▃▃▂▂▂▂▂▁▁▂▁▁</td></tr><tr><td>validation loss</td><td>█▇▄▆▄▅▅▂▅█▃▄▆▁▂</td></tr><tr><td>validation_accuracy</td><td>▂▁▄▅▅▄▅▆▅▆█▆▆█▇</td></tr></table><br/></div><div class=\"wandb-col\"><h3>Run summary:</h3><br/><table class=\"wandb\"><tr><td>epoch</td><td>15</td></tr><tr><td>test_accuracy</td><td>0.8669</td></tr><tr><td>training_loss</td><td>0.30905</td></tr><tr><td>validation loss</td><td>0.35281</td></tr><tr><td>validation_accuracy</td><td>0.87133</td></tr></table><br/></div></div>"
      ],
      "text/plain": [
       "<IPython.core.display.HTML object>"
      ]
     },
     "metadata": {},
     "output_type": "display_data"
    },
    {
     "data": {
      "text/html": [
       " View run <strong style=\"color:#cdcd00\">hl_3_bs_32_ac_relu_opt_adam</strong> at: <a href='https://wandb.ai/ed24s401-indian-institute-of-technology-madras/q4_sweep_project/runs/2tgpvh18' target=\"_blank\">https://wandb.ai/ed24s401-indian-institute-of-technology-madras/q4_sweep_project/runs/2tgpvh18</a><br> View project at: <a href='https://wandb.ai/ed24s401-indian-institute-of-technology-madras/q4_sweep_project' target=\"_blank\">https://wandb.ai/ed24s401-indian-institute-of-technology-madras/q4_sweep_project</a><br>Synced 5 W&B file(s), 0 media file(s), 0 artifact file(s) and 0 other file(s)"
      ],
      "text/plain": [
       "<IPython.core.display.HTML object>"
      ]
     },
     "metadata": {},
     "output_type": "display_data"
    },
    {
     "data": {
      "text/html": [
       "Find logs at: <code>.\\wandb\\run-20250317_122519-2tgpvh18\\logs</code>"
      ],
      "text/plain": [
       "<IPython.core.display.HTML object>"
      ]
     },
     "metadata": {},
     "output_type": "display_data"
    },
    {
     "name": "stderr",
     "output_type": "stream",
     "text": [
      "\u001b[34m\u001b[1mwandb\u001b[0m: Agent Starting Run: 28640awz with config:\n",
      "\u001b[34m\u001b[1mwandb\u001b[0m: \tactivation: relu\n",
      "\u001b[34m\u001b[1mwandb\u001b[0m: \tbatch_size: 32\n",
      "\u001b[34m\u001b[1mwandb\u001b[0m: \tbeta1: 0.9\n",
      "\u001b[34m\u001b[1mwandb\u001b[0m: \tbeta2: 0.999\n",
      "\u001b[34m\u001b[1mwandb\u001b[0m: \tbeta_rms: 0.9\n",
      "\u001b[34m\u001b[1mwandb\u001b[0m: \tepochs: 15\n",
      "\u001b[34m\u001b[1mwandb\u001b[0m: \tepsilon: 1e-08\n",
      "\u001b[34m\u001b[1mwandb\u001b[0m: \thidden_size: 128\n",
      "\u001b[34m\u001b[1mwandb\u001b[0m: \tinit_type: xavier\n",
      "\u001b[34m\u001b[1mwandb\u001b[0m: \tlearning_rate: 0.005\n",
      "\u001b[34m\u001b[1mwandb\u001b[0m: \tmomentum: 0.9\n",
      "\u001b[34m\u001b[1mwandb\u001b[0m: \tnum_hidden_layers: 3\n",
      "\u001b[34m\u001b[1mwandb\u001b[0m: \toptimizer: adam\n",
      "\u001b[34m\u001b[1mwandb\u001b[0m: \tweight_decay: 0\n"
     ]
    },
    {
     "data": {
      "text/html": [
       "creating run (0.1s)"
      ],
      "text/plain": [
       "<IPython.core.display.HTML object>"
      ]
     },
     "metadata": {},
     "output_type": "display_data"
    },
    {
     "data": {
      "text/html": [
       "Tracking run with wandb version 0.19.8"
      ],
      "text/plain": [
       "<IPython.core.display.HTML object>"
      ]
     },
     "metadata": {},
     "output_type": "display_data"
    },
    {
     "data": {
      "text/html": [
       "Run data is saved locally in <code>d:\\IIT M\\SEM2\\ED5340Data Science Theory and practice\\Practice\\wandb\\run-20250317_123754-28640awz</code>"
      ],
      "text/plain": [
       "<IPython.core.display.HTML object>"
      ]
     },
     "metadata": {},
     "output_type": "display_data"
    },
    {
     "data": {
      "text/html": [
       "Syncing run <strong><a href='https://wandb.ai/ed24s401-indian-institute-of-technology-madras/q4_sweep_project/runs/28640awz' target=\"_blank\">leafy-sweep-3</a></strong> to <a href='https://wandb.ai/ed24s401-indian-institute-of-technology-madras/q4_sweep_project' target=\"_blank\">Weights & Biases</a> (<a href='https://wandb.me/developer-guide' target=\"_blank\">docs</a>)<br>Sweep page: <a href='https://wandb.ai/ed24s401-indian-institute-of-technology-madras/q4_sweep_project/sweeps/tbphh202' target=\"_blank\">https://wandb.ai/ed24s401-indian-institute-of-technology-madras/q4_sweep_project/sweeps/tbphh202</a>"
      ],
      "text/plain": [
       "<IPython.core.display.HTML object>"
      ]
     },
     "metadata": {},
     "output_type": "display_data"
    },
    {
     "data": {
      "text/html": [
       " View project at <a href='https://wandb.ai/ed24s401-indian-institute-of-technology-madras/q4_sweep_project' target=\"_blank\">https://wandb.ai/ed24s401-indian-institute-of-technology-madras/q4_sweep_project</a>"
      ],
      "text/plain": [
       "<IPython.core.display.HTML object>"
      ]
     },
     "metadata": {},
     "output_type": "display_data"
    },
    {
     "data": {
      "text/html": [
       " View sweep at <a href='https://wandb.ai/ed24s401-indian-institute-of-technology-madras/q4_sweep_project/sweeps/tbphh202' target=\"_blank\">https://wandb.ai/ed24s401-indian-institute-of-technology-madras/q4_sweep_project/sweeps/tbphh202</a>"
      ],
      "text/plain": [
       "<IPython.core.display.HTML object>"
      ]
     },
     "metadata": {},
     "output_type": "display_data"
    },
    {
     "data": {
      "text/html": [
       " View run at <a href='https://wandb.ai/ed24s401-indian-institute-of-technology-madras/q4_sweep_project/runs/28640awz' target=\"_blank\">https://wandb.ai/ed24s401-indian-institute-of-technology-madras/q4_sweep_project/runs/28640awz</a>"
      ],
      "text/plain": [
       "<IPython.core.display.HTML object>"
      ]
     },
     "metadata": {},
     "output_type": "display_data"
    },
    {
     "name": "stdout",
     "output_type": "stream",
     "text": [
      "Epoch 1/15 - loss=0.5367, val_acc=0.8330, val_loss=0.4643269985308462\n",
      "Epoch 2/15 - loss=0.4169, val_acc=0.8532, val_loss=0.40373668157989295\n",
      "Epoch 3/15 - loss=0.3897, val_acc=0.8462, val_loss=0.4096803144640486\n",
      "Epoch 4/15 - loss=0.3672, val_acc=0.8698, val_loss=0.38513054858439594\n",
      "Epoch 5/15 - loss=0.3559, val_acc=0.8547, val_loss=0.3898804972014513\n",
      "Epoch 6/15 - loss=0.3480, val_acc=0.8678, val_loss=0.3620215535867382\n",
      "Epoch 7/15 - loss=0.3452, val_acc=0.8683, val_loss=0.3762228741273175\n",
      "Epoch 8/15 - loss=0.3351, val_acc=0.8627, val_loss=0.3771779528756746\n",
      "Epoch 9/15 - loss=0.3219, val_acc=0.8743, val_loss=0.34143927287951586\n",
      "Epoch 10/15 - loss=0.3191, val_acc=0.8760, val_loss=0.3394106004457124\n",
      "Epoch 11/15 - loss=0.3179, val_acc=0.8738, val_loss=0.3535693977691643\n",
      "Epoch 12/15 - loss=0.3134, val_acc=0.8765, val_loss=0.3657335364763806\n",
      "Epoch 13/15 - loss=0.3080, val_acc=0.8662, val_loss=0.369186363644204\n",
      "Epoch 14/15 - loss=0.3046, val_acc=0.8758, val_loss=0.372315636082725\n",
      "Epoch 15/15 - loss=0.3018, val_acc=0.8602, val_loss=0.4019068861018039\n",
      "test accuracy  0.8511\n"
     ]
    },
    {
     "data": {
      "text/html": [],
      "text/plain": [
       "<IPython.core.display.HTML object>"
      ]
     },
     "metadata": {},
     "output_type": "display_data"
    },
    {
     "data": {
      "text/html": [
       "<br>    <style><br>        .wandb-row {<br>            display: flex;<br>            flex-direction: row;<br>            flex-wrap: wrap;<br>            justify-content: flex-start;<br>            width: 100%;<br>        }<br>        .wandb-col {<br>            display: flex;<br>            flex-direction: column;<br>            flex-basis: 100%;<br>            flex: 1;<br>            padding: 10px;<br>        }<br>    </style><br><div class=\"wandb-row\"><div class=\"wandb-col\"><h3>Run history:</h3><br/><table class=\"wandb\"><tr><td>epoch</td><td>▁▁▂▃▃▃▄▅▅▅▆▇▇▇█</td></tr><tr><td>test_accuracy</td><td>▁</td></tr><tr><td>training_loss</td><td>█▄▄▃▃▂▂▂▂▂▁▁▁▁▁</td></tr><tr><td>validation loss</td><td>█▅▅▄▄▂▃▃▁▁▂▂▃▃▅</td></tr><tr><td>validation_accuracy</td><td>▁▄▃▇▄▇▇▆████▆█▅</td></tr></table><br/></div><div class=\"wandb-col\"><h3>Run summary:</h3><br/><table class=\"wandb\"><tr><td>epoch</td><td>15</td></tr><tr><td>test_accuracy</td><td>0.8511</td></tr><tr><td>training_loss</td><td>0.30181</td></tr><tr><td>validation loss</td><td>0.40191</td></tr><tr><td>validation_accuracy</td><td>0.86017</td></tr></table><br/></div></div>"
      ],
      "text/plain": [
       "<IPython.core.display.HTML object>"
      ]
     },
     "metadata": {},
     "output_type": "display_data"
    },
    {
     "data": {
      "text/html": [
       " View run <strong style=\"color:#cdcd00\">hl_3_bs_32_ac_relu_opt_adam</strong> at: <a href='https://wandb.ai/ed24s401-indian-institute-of-technology-madras/q4_sweep_project/runs/28640awz' target=\"_blank\">https://wandb.ai/ed24s401-indian-institute-of-technology-madras/q4_sweep_project/runs/28640awz</a><br> View project at: <a href='https://wandb.ai/ed24s401-indian-institute-of-technology-madras/q4_sweep_project' target=\"_blank\">https://wandb.ai/ed24s401-indian-institute-of-technology-madras/q4_sweep_project</a><br>Synced 5 W&B file(s), 0 media file(s), 0 artifact file(s) and 0 other file(s)"
      ],
      "text/plain": [
       "<IPython.core.display.HTML object>"
      ]
     },
     "metadata": {},
     "output_type": "display_data"
    },
    {
     "data": {
      "text/html": [
       "Find logs at: <code>.\\wandb\\run-20250317_123754-28640awz\\logs</code>"
      ],
      "text/plain": [
       "<IPython.core.display.HTML object>"
      ]
     },
     "metadata": {},
     "output_type": "display_data"
    },
    {
     "name": "stderr",
     "output_type": "stream",
     "text": [
      "\u001b[34m\u001b[1mwandb\u001b[0m: Agent Starting Run: ydwfsxn1 with config:\n",
      "\u001b[34m\u001b[1mwandb\u001b[0m: \tactivation: relu\n",
      "\u001b[34m\u001b[1mwandb\u001b[0m: \tbatch_size: 32\n",
      "\u001b[34m\u001b[1mwandb\u001b[0m: \tbeta1: 0.9\n",
      "\u001b[34m\u001b[1mwandb\u001b[0m: \tbeta2: 0.999\n",
      "\u001b[34m\u001b[1mwandb\u001b[0m: \tbeta_rms: 0.9\n",
      "\u001b[34m\u001b[1mwandb\u001b[0m: \tepochs: 15\n",
      "\u001b[34m\u001b[1mwandb\u001b[0m: \tepsilon: 1e-08\n",
      "\u001b[34m\u001b[1mwandb\u001b[0m: \thidden_size: 128\n",
      "\u001b[34m\u001b[1mwandb\u001b[0m: \tinit_type: xavier\n",
      "\u001b[34m\u001b[1mwandb\u001b[0m: \tlearning_rate: 0.005\n",
      "\u001b[34m\u001b[1mwandb\u001b[0m: \tmomentum: 0.9\n",
      "\u001b[34m\u001b[1mwandb\u001b[0m: \tnum_hidden_layers: 3\n",
      "\u001b[34m\u001b[1mwandb\u001b[0m: \toptimizer: adam\n",
      "\u001b[34m\u001b[1mwandb\u001b[0m: \tweight_decay: 0\n"
     ]
    },
    {
     "data": {
      "text/html": [
       "creating run (0.1s)"
      ],
      "text/plain": [
       "<IPython.core.display.HTML object>"
      ]
     },
     "metadata": {},
     "output_type": "display_data"
    },
    {
     "data": {
      "text/html": [
       "Tracking run with wandb version 0.19.8"
      ],
      "text/plain": [
       "<IPython.core.display.HTML object>"
      ]
     },
     "metadata": {},
     "output_type": "display_data"
    },
    {
     "data": {
      "text/html": [
       "Run data is saved locally in <code>d:\\IIT M\\SEM2\\ED5340Data Science Theory and practice\\Practice\\wandb\\run-20250317_124329-ydwfsxn1</code>"
      ],
      "text/plain": [
       "<IPython.core.display.HTML object>"
      ]
     },
     "metadata": {},
     "output_type": "display_data"
    },
    {
     "data": {
      "text/html": [
       "Syncing run <strong><a href='https://wandb.ai/ed24s401-indian-institute-of-technology-madras/q4_sweep_project/runs/ydwfsxn1' target=\"_blank\">sunny-sweep-4</a></strong> to <a href='https://wandb.ai/ed24s401-indian-institute-of-technology-madras/q4_sweep_project' target=\"_blank\">Weights & Biases</a> (<a href='https://wandb.me/developer-guide' target=\"_blank\">docs</a>)<br>Sweep page: <a href='https://wandb.ai/ed24s401-indian-institute-of-technology-madras/q4_sweep_project/sweeps/tbphh202' target=\"_blank\">https://wandb.ai/ed24s401-indian-institute-of-technology-madras/q4_sweep_project/sweeps/tbphh202</a>"
      ],
      "text/plain": [
       "<IPython.core.display.HTML object>"
      ]
     },
     "metadata": {},
     "output_type": "display_data"
    },
    {
     "data": {
      "text/html": [
       " View project at <a href='https://wandb.ai/ed24s401-indian-institute-of-technology-madras/q4_sweep_project' target=\"_blank\">https://wandb.ai/ed24s401-indian-institute-of-technology-madras/q4_sweep_project</a>"
      ],
      "text/plain": [
       "<IPython.core.display.HTML object>"
      ]
     },
     "metadata": {},
     "output_type": "display_data"
    },
    {
     "data": {
      "text/html": [
       " View sweep at <a href='https://wandb.ai/ed24s401-indian-institute-of-technology-madras/q4_sweep_project/sweeps/tbphh202' target=\"_blank\">https://wandb.ai/ed24s401-indian-institute-of-technology-madras/q4_sweep_project/sweeps/tbphh202</a>"
      ],
      "text/plain": [
       "<IPython.core.display.HTML object>"
      ]
     },
     "metadata": {},
     "output_type": "display_data"
    },
    {
     "data": {
      "text/html": [
       " View run at <a href='https://wandb.ai/ed24s401-indian-institute-of-technology-madras/q4_sweep_project/runs/ydwfsxn1' target=\"_blank\">https://wandb.ai/ed24s401-indian-institute-of-technology-madras/q4_sweep_project/runs/ydwfsxn1</a>"
      ],
      "text/plain": [
       "<IPython.core.display.HTML object>"
      ]
     },
     "metadata": {},
     "output_type": "display_data"
    },
    {
     "name": "stdout",
     "output_type": "stream",
     "text": [
      "Epoch 1/15 - loss=0.5367, val_acc=0.8330, val_loss=0.4643269985308462\n",
      "Epoch 2/15 - loss=0.4169, val_acc=0.8532, val_loss=0.40373668157989295\n",
      "Epoch 3/15 - loss=0.3897, val_acc=0.8462, val_loss=0.4096803144640486\n",
      "Epoch 4/15 - loss=0.3672, val_acc=0.8698, val_loss=0.38513054858439594\n",
      "Epoch 5/15 - loss=0.3559, val_acc=0.8547, val_loss=0.3898804972014513\n",
      "Epoch 6/15 - loss=0.3480, val_acc=0.8678, val_loss=0.3620215535867382\n",
      "Epoch 7/15 - loss=0.3452, val_acc=0.8683, val_loss=0.3762228741273175\n"
     ]
    }
   ],
   "source": [
    "import numpy as np\n",
    "import wandb\n",
    "from keras.datasets import fashion_mnist\n",
    "\n",
    "\n",
    "# Neural Network Class: feed_forward_NN_4\n",
    "\n",
    "class feed_forward_NN_4:\n",
    "    def __init__(self,\n",
    "                 layers,\n",
    "                 optimizer,\n",
    "                 learning_rate,\n",
    "                 momentum,\n",
    "                 beta1,\n",
    "                 beta2,\n",
    "                 beta_rms,\n",
    "                 epsilon,\n",
    "                 weight_decay,\n",
    "                 init_type,\n",
    "                 activation\n",
    "                 ):\n",
    "    \n",
    "        \n",
    "        self.layers = layers\n",
    "        self.layer_n = len(layers)\n",
    "        self.optimizer = optimizer.lower()\n",
    "        self.lr = learning_rate\n",
    "        self.momentum = momentum\n",
    "        self.beta1 = beta1\n",
    "        self.beta2 = beta2\n",
    "        self.beta_rms = beta_rms\n",
    "        self.epsilon = epsilon\n",
    "        self.weight_decay = weight_decay\n",
    "        self.init_type = init_type.lower()\n",
    "        self.activation = activation.lower()\n",
    "        \n",
    "\n",
    "        # Initialize Weights & BiaseS\n",
    "        self.weights = []\n",
    "        self.biases = []\n",
    "        for i in range(self.layer_n - 1):\n",
    "            if self.init_type == \"xavier\":\n",
    "                # \"Xavier\" initialization\n",
    "                w = np.random.randn(layers[i], layers[i+1]) * np.sqrt(1.0 / layers[i])\n",
    "            else:\n",
    "                # \"random\" initialization\n",
    "                w = np.random.randn(layers[i], layers[i+1]) * np.sqrt(2.0 / layers[i])\n",
    "            b = np.zeros((1, layers[i+1]))\n",
    "            self.weights.append(w)\n",
    "            self.biases.append(b)\n",
    "\n",
    "        # initialize extra Params \n",
    "        if self.optimizer in [\"momentum\", \"nesterov\", \"rmsprop\", \"adam\", \"nadam\"]:\n",
    "            self.v_w = [np.zeros_like(w) for w in self.weights]\n",
    "            self.v_b = [np.zeros_like(b) for b in self.biases]\n",
    "        if self.optimizer in [\"adam\", \"nadam\"]:\n",
    "            self.m_w = [np.zeros_like(w) for w in self.weights]\n",
    "            self.m_b = [np.zeros_like(b) for b in self.biases]\n",
    "            self.t = 0\n",
    "\n",
    "    # activations \n",
    "    def sigmoid(self, x):\n",
    "        return 1 / (1 + np.exp(-np.clip(x, -500, 500)))\n",
    "    \n",
    "    def tanh(self, x):\n",
    "        return np.tanh(x)\n",
    "    \n",
    "    def relu(self, x):\n",
    "        return np.maximum(0, x)\n",
    "\n",
    "    def activate(self, x):\n",
    "        if self.activation == \"sigmoid\":\n",
    "            return self.sigmoid(x)\n",
    "        elif self.activation == \"tanh\":\n",
    "            return self.tanh(x)\n",
    "        elif self.activation == \"relu\":\n",
    "            return self.relu(x)\n",
    "        else:\n",
    "            return self.sigmoid(x) \n",
    "        \n",
    "    # derivatives\n",
    "    def derivative(self, a):\n",
    "\n",
    "        if self.activation == \"sigmoid\":\n",
    "            return a * (1 - a)\n",
    "        elif self.activation == \"tanh\":\n",
    "            return 1 - a**2\n",
    "        elif self.activation == \"relu\":\n",
    "            return (a > 0).astype(float)\n",
    "        else:\n",
    "            return a * (1 - a) \n",
    "\n",
    "    def softmax(self, x):\n",
    "        exp_x = np.exp(x - np.max(x, axis=1, keepdims=True))\n",
    "        return exp_x / np.sum(exp_x, axis=1, keepdims=True)\n",
    "\n",
    "    # Forward Pass\n",
    "    def forward_pass(self, x):\n",
    "        self.h = [x]  \n",
    "        # Hidden layers\n",
    "        for i in range(self.layer_n - 2):\n",
    "            z = np.dot(self.h[i], self.weights[i]) + self.biases[i]\n",
    "            act = self.activate(z)\n",
    "            self.h.append(act)\n",
    "        # Output layer- softmax\n",
    "        z_out = np.dot(self.h[-1], self.weights[-1]) + self.biases[-1]\n",
    "        out = self.softmax(z_out)\n",
    "        self.h.append(out)\n",
    "        return self.h\n",
    "\n",
    "    # Backward Pass\n",
    "    def backward_prop(self, y_true):\n",
    "        m = y_true.shape[0]\n",
    "        dw = [None] * (self.layer_n - 1)\n",
    "        db = [None] * (self.layer_n - 1)\n",
    "\n",
    "        # Cross-entropy derivative for output layer\n",
    "        delta = self.h[-1] - y_true  # shape: (batch_size, output_dim)\n",
    "\n",
    "        # Propagation\n",
    "        for i in reversed(range(self.layer_n - 1)):\n",
    "            dw[i] = np.dot(self.h[i].T, delta) / m\n",
    "            db[i] = np.sum(delta, axis=0, keepdims=True) / m\n",
    "            if i > 0:\n",
    "                # For hidden layers, multiply by derivative of activation\n",
    "                delta = np.dot(delta, self.weights[i].T) * self.derivative(self.h[i])\n",
    "        return dw, db\n",
    "\n",
    "    # Param Updates for \"Non-Nesterov\" \n",
    "    def _update_params(self, dw, db):\n",
    "        # Add weight decay to each gradient\n",
    "        for i in range(self.layer_n - 1):\n",
    "            dw[i] += self.weight_decay * self.weights[i]\n",
    "\n",
    "        if self.optimizer == \"sgd\":\n",
    "            for i in range(self.layer_n - 1):\n",
    "                self.weights[i] -= self.lr * dw[i]\n",
    "                self.biases[i] -= self.lr * db[i]\n",
    "\n",
    "        elif self.optimizer == \"momentum\":\n",
    "            for i in range(self.layer_n - 1):\n",
    "                self.v_w[i] = self.momentum * self.v_w[i] + dw[i]\n",
    "                self.v_b[i] = self.momentum * self.v_b[i] + db[i]\n",
    "                self.weights[i] -= self.lr * self.v_w[i]\n",
    "                self.biases[i] -= self.lr * self.v_b[i]\n",
    "\n",
    "        elif self.optimizer == \"rmsprop\":\n",
    "            for i in range(self.layer_n - 1):\n",
    "                self.v_w[i] = self.beta_rms * self.v_w[i] + (1 - self.beta_rms) * (dw[i] ** 2)\n",
    "                self.v_b[i] = self.beta_rms * self.v_b[i] + (1 - self.beta_rms) * (db[i] ** 2)\n",
    "                self.weights[i] -= self.lr * dw[i] / (np.sqrt(self.v_w[i]) + self.epsilon)\n",
    "                self.biases[i]  -= self.lr * db[i] / (np.sqrt(self.v_b[i]) + self.epsilon)\n",
    "\n",
    "        elif self.optimizer == \"adam\":\n",
    "            self.t += 1\n",
    "            for i in range(self.layer_n - 1):\n",
    "                self.m_w[i] = self.beta1 * self.m_w[i] + (1 - self.beta1) * dw[i]\n",
    "                self.m_b[i] = self.beta1 * self.m_b[i] + (1 - self.beta1) * db[i]\n",
    "                self.v_w[i] = self.beta2 * self.v_w[i] + (1 - self.beta2) * (dw[i] ** 2)\n",
    "                self.v_b[i] = self.beta2 * self.v_b[i] + (1 - self.beta2) * (db[i] ** 2)\n",
    "\n",
    "                # bias correction\n",
    "                m_w_hat = self.m_w[i] / (1 - self.beta1 ** self.t)\n",
    "                m_b_hat = self.m_b[i] / (1 - self.beta1 ** self.t)\n",
    "                v_w_hat = self.v_w[i] / (1 - self.beta2 ** self.t)\n",
    "                v_b_hat = self.v_b[i] / (1 - self.beta2 ** self.t)\n",
    "\n",
    "                self.weights[i] -= self.lr * m_w_hat / (np.sqrt(v_w_hat) + self.epsilon)\n",
    "                self.biases[i]  -= self.lr * m_b_hat / (np.sqrt(v_b_hat) + self.epsilon)\n",
    "\n",
    "        elif self.optimizer == \"nadam\":\n",
    "            self.t += 1\n",
    "            for i in range(self.layer_n - 1):\n",
    "                self.m_w[i] = self.beta1 * self.m_w[i] + (1 - self.beta1) * dw[i]\n",
    "                self.m_b[i] = self.beta1 * self.m_b[i] + (1 - self.beta1) * db[i]\n",
    "                self.v_w[i] = self.beta2 * self.v_w[i] + (1 - self.beta2) * (dw[i] ** 2)\n",
    "                self.v_b[i] = self.beta2 * self.v_b[i] + (1 - self.beta2) * (db[i] ** 2)\n",
    "\n",
    "                # bias correction\n",
    "                m_w_hat = self.m_w[i] / (1 - self.beta1 ** (self.t + 1))\n",
    "                m_b_hat = self.m_b[i] / (1 - self.beta1 ** (self.t + 1))\n",
    "                v_w_hat = self.v_w[i] / (1 - self.beta2 ** (self.t + 1))\n",
    "                v_b_hat = self.v_b[i] / (1 - self.beta2 ** (self.t + 1))\n",
    "\n",
    "                grad_term_w = self.beta1 * m_w_hat + (1 - self.beta1) * dw[i] / (1 - self.beta1 ** (self.t + 1))\n",
    "                grad_term_b = self.beta1 * m_b_hat + (1 - self.beta1) * db[i] / (1 - self.beta1 ** (self.t + 1))\n",
    "\n",
    "                self.weights[i] -= self.lr * grad_term_w / (np.sqrt(v_w_hat) + self.epsilon)\n",
    "                self.biases[i]  -= self.lr * grad_term_b / (np.sqrt(v_b_hat) + self.epsilon)\n",
    "\n",
    "    # Training Step  with \"Nesterov\"\n",
    "    def _train_step(self, x_batch, y_batch):\n",
    "        if self.optimizer == \"nesterov\":\n",
    "            # to look-ahead: w_look = w - momentum * v\n",
    "            for i in range(self.layer_n - 1):\n",
    "                self.weights[i] -= self.lr*self.momentum * self.v_w[i]\n",
    "                self.biases[i]  -= self.lr*self.momentum * self.v_b[i]\n",
    "\n",
    "            # Forward at the look-ahead position\n",
    "            self.forward_pass(x_batch)\n",
    "            out = self.h[-1]\n",
    "            l2_norm_weights = 0\n",
    "            for i in range(len(self.weights)):\n",
    "                l2_norm_weights += np.sum(self.weights[i] ** 2)\n",
    "            # for i in range(len(self.biases)):\n",
    "            #     l2_norm_bias += np.sum(self.biases[i] ** 2)\n",
    "                    \n",
    "            l2_norm_params = l2_norm_weights #+ l2_norm_bias\n",
    "            \n",
    "            loss = -np.mean(np.sum(y_batch * np.log(out + 1e-10), axis = 1)) +  (self.weight_decay/2) * l2_norm_params # (1e-10) to prevent underflow\n",
    "            #loss = -np.mean(np.sum(y_batch * np.log(out + 1e-10), axis=1))\n",
    "            dW, dB = self.backward_prop(y_batch)\n",
    "\n",
    "            # add weight decay here\n",
    "            for i in range(self.layer_n - 1):\n",
    "                dW[i] += self.weight_decay * self.weights[i]\n",
    "\n",
    "            # backward at the look-ahead position (go back to w_t)\n",
    "            for i in range(self.layer_n - 1):\n",
    "                self.weights[i] += self.lr*self.momentum * self.v_w[i]\n",
    "                self.biases[i]  += self.lr*self.momentum * self.v_b[i]\n",
    "\n",
    "            # update velocity: u_t = momentum*u_{t-1} + dW\n",
    "            for i in range(self.layer_n - 1):\n",
    "                self.v_w[i] = self.momentum * self.v_w[i] + dW[i]\n",
    "                self.v_b[i] = self.momentum * self.v_b[i] + dB[i]\n",
    "\n",
    "            # final param update: w = w - lr*u_t\n",
    "            for i in range(self.layer_n - 1):\n",
    "                self.weights[i] -= self.lr * self.v_w[i]\n",
    "                self.biases[i]  -= self.lr * self.v_b[i]\n",
    "\n",
    "            return loss\n",
    "        else:\n",
    "            # Normal forward/back\n",
    "            self.forward_pass(x_batch)\n",
    "            out = self.h[-1]\n",
    "\n",
    "            l2_norm_weights=0\n",
    "            l2_norm_bias= 0\n",
    "            for i in range(len(self.weights)):\n",
    "                l2_norm_weights += np.sum(self.weights[i] ** 2)\n",
    "            # for i in range(len(self.biases)):\n",
    "            #     l2_norm_bias += np.sum(self.biases[i] ** 2)\n",
    "                    \n",
    "            l2_norm_params = l2_norm_weights #+ l2_norm_bias\n",
    "            \n",
    "            loss = -np.mean(np.sum(y_batch * np.log(out + 1e-10), axis = 1)) +  (self.weight_decay/2) * l2_norm_params \n",
    "\n",
    "            #loss = -np.mean(np.sum(y_batch * np.log(out + 1e-10), axis=1))\n",
    "            dW, dB = self.backward_prop(y_batch)\n",
    "            self._update_params(dW, dB)\n",
    "            return loss\n",
    "\n",
    "    # Outer Training Loop \n",
    "    def training(self, x_train, y_train, x_val, y_val, epochs, batch_size):\n",
    "       \n",
    "        for ep in range(epochs):\n",
    "            idx = np.random.permutation(x_train.shape[0])\n",
    "            x_train_shuff = x_train[idx]\n",
    "            y_train_shuff = y_train[idx]\n",
    "            n_batches = len(x_train) // batch_size\n",
    "            epoch_loss = 0.0\n",
    "            for b in range(n_batches):\n",
    "                start = b * batch_size\n",
    "                end = start + batch_size\n",
    "                x_batch = x_train_shuff[start:end]\n",
    "                y_batch = y_train_shuff[start:end]\n",
    "                loss = self._train_step(x_batch, y_batch)\n",
    "                epoch_loss += loss\n",
    "            avg_loss = epoch_loss / n_batches\n",
    "\n",
    "            # Validation\n",
    "\n",
    "            preds = self.predict(x_val)\n",
    "            val_labels = np.argmax(y_val, axis=1)\n",
    "            val_acc = np.mean(preds == val_labels)\n",
    "\n",
    "            val_outputs = self.forward_pass(x_val)[-1]\n",
    "        \n",
    "            # Cross-entropy loss for validation\n",
    "            val_loss = -np.mean(np.sum(y_val * np.log(val_outputs + 1e-10), axis=1))\n",
    "\n",
    "            # Log metrics to wandb\n",
    "            wandb.log({\"epoch\": ep+1, \"training_loss\": avg_loss, \"validation_accuracy\": val_acc, \"validation loss\": val_loss})\n",
    "            print(f\"Epoch {ep+1}/{epochs} - loss={avg_loss:.4f}, val_acc={val_acc:.4f}, val_loss={val_loss}\" )\n",
    "\n",
    "    #Prediction \n",
    "    def predict(self, X):\n",
    "        self.forward_pass(X)\n",
    "        return np.argmax(self.h[-1], axis=1)\n",
    "\n",
    "\n",
    "\n",
    "\n",
    "# (x_train_full, y_train_full), (x_test, y_test) = fashion_mnist.load_data()\n",
    "# x_train_full = x_train_full.reshape(x_train_full.shape[0], -1) / 255.0\n",
    "# x_test = x_test.reshape(x_test.shape[0], -1) / 255.0\n",
    "\n",
    "# np.random.seed(42)\n",
    "# idx = np.arange(x_train_full.shape[0])\n",
    "# np.random.shuffle(idx)\n",
    "# x_train_full = x_train_full[idx]\n",
    "# y_train_full = y_train_full[idx]\n",
    "\n",
    "# # 90% training, 10% validation \n",
    "# train_size=int(.9*len(x_train_full))\n",
    "\n",
    "# x_train, y_train=x_train_full[:train_size],y_train_full[:train_size]\n",
    "# x_val, y_val=x_train_full[train_size:], y_train_full[train_size:]\n",
    "\n",
    "# num_classes = 10\n",
    "# y_train_1h = np.eye(num_classes)[y_train]\n",
    "# y_val_1h = np.eye(num_classes)[y_val]\n",
    "# y_test_1h = np.eye(num_classes)[y_test]\n",
    "\n",
    "# # model\n",
    "# model = feed_forward_NN_4(\n",
    "#     layers=[784] + [32] *3 + [10],\n",
    "# optimizer=\"nesterov\",\n",
    "# learning_rate=0.01,\n",
    "# momentum=0.9,\n",
    "# beta1=0.9,\n",
    "# beta2=0.999,\n",
    "# beta_rms=0.9,\n",
    "# epsilon=1e-4,\n",
    "# weight_decay=0.0005,\n",
    "# init_type=\"xavier\",\n",
    "# activation=\"relu\")\n",
    "\n",
    "#     # Train the model\n",
    "# model.training(\n",
    "#         x_train=x_train,\n",
    "#         y_train=y_train_1h,\n",
    "#         x_val=x_val,\n",
    "#         y_val=y_val_1h,\n",
    "#         epochs=10,\n",
    "#         batch_size=32\n",
    "#     )\n",
    "\n",
    "#     #Evaluation on test set\n",
    "# test_preds = model.predict(x_test)\n",
    "# test_labels = np.argmax(y_test_1h, axis=1)\n",
    "# test_acc = np.mean(test_preds == test_labels)\n",
    "# print(\"test accuracy \",test_acc)\n",
    "# #wandb.log({\"test_accuracy\": test_acc})\n",
    "\n",
    "\n",
    "\n",
    "\n",
    "# train_sweep() function\n",
    "\n",
    "def train_sweep():\n",
    "    # Initialize wandb\n",
    "    wandb.init()\n",
    "    config = wandb.config\n",
    "\n",
    "    #custom run name from hyperparameters\n",
    "    run_name = f\"hl_{config.num_hidden_layers}_bs_{config.batch_size}_ac_{config.activation}_opt_{config.optimizer}\"\n",
    "    wandb.run.name = run_name\n",
    "\n",
    "    # Load Fashion-MNIST\n",
    "    (x_train_full, y_train_full), (x_test, y_test) = fashion_mnist.load_data()\n",
    "    x_train_full = x_train_full.reshape(x_train_full.shape[0], -1) / 255.0\n",
    "    x_test = x_test.reshape(x_test.shape[0], -1) / 255.0\n",
    "\n",
    "    np.random.seed(42)\n",
    "    idx = np.arange(x_train_full.shape[0])\n",
    "    np.random.shuffle(idx)\n",
    "    x_train_full = x_train_full[idx]\n",
    "    y_train_full = y_train_full[idx]\n",
    "\n",
    "    # 90% training, 10% validation \n",
    "    train_size=int(.9*len(x_train_full))\n",
    "\n",
    "    x_train, y_train=x_train_full[:train_size],y_train_full[:train_size]\n",
    "    x_val, y_val=x_train_full[train_size:], y_train_full[train_size:]\n",
    "\n",
    "    num_classes = 10\n",
    "    y_train_1h = np.eye(num_classes)[y_train]\n",
    "    y_val_1h = np.eye(num_classes)[y_val]\n",
    "    y_test_1h = np.eye(num_classes)[y_test]\n",
    "\n",
    "    # model\n",
    "    model = feed_forward_NN_4(\n",
    "        layers=[784] + [config.hidden_size] * config.num_hidden_layers + [10],\n",
    "        optimizer=config.optimizer,\n",
    "        learning_rate=config.learning_rate,\n",
    "        momentum=config.momentum,\n",
    "        beta1=config.beta1,\n",
    "        beta2=config.beta2,\n",
    "        beta_rms=config.beta_rms,\n",
    "        epsilon=config.epsilon,\n",
    "        weight_decay=config.weight_decay,\n",
    "        init_type=config.init_type,\n",
    "        activation=config.activation\n",
    "    )\n",
    "\n",
    "    # Train the model\n",
    "    model.training(\n",
    "        x_train=x_train,\n",
    "        y_train=y_train_1h,\n",
    "        x_val=x_val,\n",
    "        y_val=y_val_1h,\n",
    "        epochs=config.epochs,\n",
    "        batch_size=config.batch_size\n",
    "    )\n",
    "\n",
    "    #Evaluation on test set\n",
    "    test_preds = model.predict(x_test)\n",
    "    test_labels = np.argmax(y_test_1h, axis=1)\n",
    "    test_acc = np.mean(test_preds == test_labels)\n",
    "    \n",
    "    wandb.log({\"test_accuracy\": test_acc})\n",
    "    print(\"test accuracy \",test_acc)\n",
    "\n",
    "\n",
    "# sweep configuration\n",
    "sweep_config = {\n",
    "    \"method\": \"random\", \n",
    "    \"metric\": {\n",
    "        \"name\": \"validation_accuracy\",\n",
    "        \"goal\": \"maximize\"\n",
    "    },\n",
    "    \"parameters\": {\n",
    "        \"epochs\": {\"values\": [15]},\n",
    "        \"num_hidden_layers\": {\"values\": [3]},\n",
    "        \"hidden_size\": {\"values\": [64,128]},\n",
    "        \"weight_decay\": {\"values\": [0.0]},\n",
    "        \"learning_rate\": {\"values\": [5e-3,1e-3]},\n",
    "        \"optimizer\": {\"values\": [\"adam\"]},\n",
    "        \"batch_size\": {\"values\": [32]},\n",
    "        \"init_type\": {\"values\": [\"xavier\"]},\n",
    "        \"activation\": {\"values\": [\"relu\"]},\n",
    "        \"momentum\": {\"values\": [0.9]},\n",
    "        \"beta1\": {\"values\": [0.9]},\n",
    "        \"beta2\": {\"values\": [0.999]},\n",
    "        \"beta_rms\": {\"values\": [0.9]},\n",
    "        \"epsilon\": {\"values\": [1e-8]}\n",
    "    }\n",
    "}\n",
    "\n",
    "# Running the sweep\n",
    "\n",
    "if __name__ == \"__main__\":\n",
    "    # Creating sweep\n",
    "    sweep_id = wandb.sweep(sweep_config, project=\"q4_sweep_project\")\n",
    "    # Launching sweep agent\n",
    "    wandb.agent(sweep_id, function=train_sweep)\n"
   ]
  },
  {
   "cell_type": "code",
   "execution_count": null,
   "metadata": {},
   "outputs": [],
   "source": []
  },
  {
   "cell_type": "code",
   "execution_count": null,
   "metadata": {},
   "outputs": [
    {
     "name": "stderr",
     "output_type": "stream",
     "text": [
      "\u001b[34m\u001b[1mwandb\u001b[0m: Using wandb-core as the SDK backend.  Please refer to https://wandb.me/wandb-core for more information.\n"
     ]
    },
    {
     "name": "stdout",
     "output_type": "stream",
     "text": [
      "Create sweep with ID: fqdtz4g7\n",
      "Sweep URL: https://wandb.ai/ed24s401-indian-institute-of-technology-madras/q4_sweep_project/sweeps/fqdtz4g7\n"
     ]
    },
    {
     "name": "stderr",
     "output_type": "stream",
     "text": [
      "\u001b[34m\u001b[1mwandb\u001b[0m: Agent Starting Run: ohot1yen with config:\n",
      "\u001b[34m\u001b[1mwandb\u001b[0m: \tactivation: relu\n",
      "\u001b[34m\u001b[1mwandb\u001b[0m: \tbatch_size: 32\n",
      "\u001b[34m\u001b[1mwandb\u001b[0m: \tbeta1: 0.9\n",
      "\u001b[34m\u001b[1mwandb\u001b[0m: \tbeta2: 0.999\n",
      "\u001b[34m\u001b[1mwandb\u001b[0m: \tbeta_rms: 0.9\n",
      "\u001b[34m\u001b[1mwandb\u001b[0m: \tepochs: 15\n",
      "\u001b[34m\u001b[1mwandb\u001b[0m: \tepsilon: 1e-08\n",
      "\u001b[34m\u001b[1mwandb\u001b[0m: \thidden_size: 128\n",
      "\u001b[34m\u001b[1mwandb\u001b[0m: \tinit_type: random\n",
      "\u001b[34m\u001b[1mwandb\u001b[0m: \tlearning_rate: 0.001\n",
      "\u001b[34m\u001b[1mwandb\u001b[0m: \tmomentum: 0.9\n",
      "\u001b[34m\u001b[1mwandb\u001b[0m: \tnum_hidden_layers: 3\n",
      "\u001b[34m\u001b[1mwandb\u001b[0m: \toptimizer: nadam\n",
      "\u001b[34m\u001b[1mwandb\u001b[0m: \tweight_decay: 0\n",
      "\u001b[34m\u001b[1mwandb\u001b[0m: Currently logged in as: \u001b[33med24s401\u001b[0m (\u001b[33med24s401-indian-institute-of-technology-madras\u001b[0m) to \u001b[32mhttps://api.wandb.ai\u001b[0m. Use \u001b[1m`wandb login --relogin`\u001b[0m to force relogin\n"
     ]
    },
    {
     "data": {
      "text/html": [
       "creating run (0.1s)"
      ],
      "text/plain": [
       "<IPython.core.display.HTML object>"
      ]
     },
     "metadata": {},
     "output_type": "display_data"
    },
    {
     "data": {
      "text/html": [
       "Tracking run with wandb version 0.19.8"
      ],
      "text/plain": [
       "<IPython.core.display.HTML object>"
      ]
     },
     "metadata": {},
     "output_type": "display_data"
    },
    {
     "data": {
      "text/html": [
       "Run data is saved locally in <code>d:\\IIT M\\SEM2\\ED5340Data Science Theory and practice\\Practice\\wandb\\run-20250317_135848-ohot1yen</code>"
      ],
      "text/plain": [
       "<IPython.core.display.HTML object>"
      ]
     },
     "metadata": {},
     "output_type": "display_data"
    },
    {
     "data": {
      "text/html": [
       "Syncing run <strong><a href='https://wandb.ai/ed24s401-indian-institute-of-technology-madras/q4_sweep_project/runs/ohot1yen' target=\"_blank\">polished-sweep-1</a></strong> to <a href='https://wandb.ai/ed24s401-indian-institute-of-technology-madras/q4_sweep_project' target=\"_blank\">Weights & Biases</a> (<a href='https://wandb.me/developer-guide' target=\"_blank\">docs</a>)<br>Sweep page: <a href='https://wandb.ai/ed24s401-indian-institute-of-technology-madras/q4_sweep_project/sweeps/fqdtz4g7' target=\"_blank\">https://wandb.ai/ed24s401-indian-institute-of-technology-madras/q4_sweep_project/sweeps/fqdtz4g7</a>"
      ],
      "text/plain": [
       "<IPython.core.display.HTML object>"
      ]
     },
     "metadata": {},
     "output_type": "display_data"
    },
    {
     "data": {
      "text/html": [
       " View project at <a href='https://wandb.ai/ed24s401-indian-institute-of-technology-madras/q4_sweep_project' target=\"_blank\">https://wandb.ai/ed24s401-indian-institute-of-technology-madras/q4_sweep_project</a>"
      ],
      "text/plain": [
       "<IPython.core.display.HTML object>"
      ]
     },
     "metadata": {},
     "output_type": "display_data"
    },
    {
     "data": {
      "text/html": [
       " View sweep at <a href='https://wandb.ai/ed24s401-indian-institute-of-technology-madras/q4_sweep_project/sweeps/fqdtz4g7' target=\"_blank\">https://wandb.ai/ed24s401-indian-institute-of-technology-madras/q4_sweep_project/sweeps/fqdtz4g7</a>"
      ],
      "text/plain": [
       "<IPython.core.display.HTML object>"
      ]
     },
     "metadata": {},
     "output_type": "display_data"
    },
    {
     "data": {
      "text/html": [
       " View run at <a href='https://wandb.ai/ed24s401-indian-institute-of-technology-madras/q4_sweep_project/runs/ohot1yen' target=\"_blank\">https://wandb.ai/ed24s401-indian-institute-of-technology-madras/q4_sweep_project/runs/ohot1yen</a>"
      ],
      "text/plain": [
       "<IPython.core.display.HTML object>"
      ]
     },
     "metadata": {},
     "output_type": "display_data"
    },
    {
     "name": "stdout",
     "output_type": "stream",
     "text": [
      "Epoch 1/15 - loss=0.4769, val_acc=0.8518, val_loss=0.40060060396598857\n",
      "Epoch 2/15 - loss=0.3621, val_acc=0.8680, val_loss=0.3611647742387115\n",
      "Epoch 3/15 - loss=0.3289, val_acc=0.8670, val_loss=0.3534777875825798\n",
      "Epoch 4/15 - loss=0.3095, val_acc=0.8732, val_loss=0.3482778639171706\n",
      "Epoch 5/15 - loss=0.2909, val_acc=0.8735, val_loss=0.33800089407360445\n",
      "Epoch 6/15 - loss=0.2788, val_acc=0.8852, val_loss=0.3181620776500594\n",
      "Epoch 7/15 - loss=0.2641, val_acc=0.8860, val_loss=0.3173986692505926\n",
      "Epoch 8/15 - loss=0.2556, val_acc=0.8862, val_loss=0.31423058026336115\n",
      "Epoch 9/15 - loss=0.2419, val_acc=0.8832, val_loss=0.3406884992620306\n",
      "Epoch 10/15 - loss=0.2351, val_acc=0.8875, val_loss=0.30044659833502785\n",
      "Epoch 11/15 - loss=0.2274, val_acc=0.8897, val_loss=0.3239642810268094\n",
      "Epoch 12/15 - loss=0.2198, val_acc=0.8857, val_loss=0.33989585383123366\n",
      "Epoch 13/15 - loss=0.2124, val_acc=0.8888, val_loss=0.3058144514547397\n",
      "Epoch 14/15 - loss=0.2053, val_acc=0.8937, val_loss=0.3083127319936225\n",
      "Epoch 15/15 - loss=0.1984, val_acc=0.8885, val_loss=0.3295129496953604\n",
      "test accuracy  0.8892\n"
     ]
    },
    {
     "data": {
      "text/html": [],
      "text/plain": [
       "<IPython.core.display.HTML object>"
      ]
     },
     "metadata": {},
     "output_type": "display_data"
    },
    {
     "data": {
      "text/html": [
       "<br>    <style><br>        .wandb-row {<br>            display: flex;<br>            flex-direction: row;<br>            flex-wrap: wrap;<br>            justify-content: flex-start;<br>            width: 100%;<br>        }<br>        .wandb-col {<br>            display: flex;<br>            flex-direction: column;<br>            flex-basis: 100%;<br>            flex: 1;<br>            padding: 10px;<br>        }<br>    </style><br><div class=\"wandb-row\"><div class=\"wandb-col\"><h3>Run history:</h3><br/><table class=\"wandb\"><tr><td>epoch</td><td>▁▁▂▃▃▃▄▅▅▅▆▇▇▇█</td></tr><tr><td>test_accuracy</td><td>▁</td></tr><tr><td>training_loss</td><td>█▅▄▄▃▃▃▂▂▂▂▂▁▁▁</td></tr><tr><td>validation loss</td><td>█▅▅▄▄▂▂▂▄▁▃▄▁▂▃</td></tr><tr><td>validation_accuracy</td><td>▁▄▄▅▅▇▇▇▆▇▇▇▇█▇</td></tr></table><br/></div><div class=\"wandb-col\"><h3>Run summary:</h3><br/><table class=\"wandb\"><tr><td>epoch</td><td>15</td></tr><tr><td>test_accuracy</td><td>0.8892</td></tr><tr><td>training_loss</td><td>0.19835</td></tr><tr><td>validation loss</td><td>0.32951</td></tr><tr><td>validation_accuracy</td><td>0.8885</td></tr></table><br/></div></div>"
      ],
      "text/plain": [
       "<IPython.core.display.HTML object>"
      ]
     },
     "metadata": {},
     "output_type": "display_data"
    },
    {
     "data": {
      "text/html": [
       " View run <strong style=\"color:#cdcd00\">hl_3_bs_32_ac_relu_opt_nadam</strong> at: <a href='https://wandb.ai/ed24s401-indian-institute-of-technology-madras/q4_sweep_project/runs/ohot1yen' target=\"_blank\">https://wandb.ai/ed24s401-indian-institute-of-technology-madras/q4_sweep_project/runs/ohot1yen</a><br> View project at: <a href='https://wandb.ai/ed24s401-indian-institute-of-technology-madras/q4_sweep_project' target=\"_blank\">https://wandb.ai/ed24s401-indian-institute-of-technology-madras/q4_sweep_project</a><br>Synced 5 W&B file(s), 0 media file(s), 0 artifact file(s) and 0 other file(s)"
      ],
      "text/plain": [
       "<IPython.core.display.HTML object>"
      ]
     },
     "metadata": {},
     "output_type": "display_data"
    },
    {
     "data": {
      "text/html": [
       "Find logs at: <code>.\\wandb\\run-20250317_135848-ohot1yen\\logs</code>"
      ],
      "text/plain": [
       "<IPython.core.display.HTML object>"
      ]
     },
     "metadata": {},
     "output_type": "display_data"
    },
    {
     "name": "stderr",
     "output_type": "stream",
     "text": [
      "\u001b[34m\u001b[1mwandb\u001b[0m: Sweep Agent: Waiting for job.\n",
      "\u001b[34m\u001b[1mwandb\u001b[0m: Job received.\n",
      "\u001b[34m\u001b[1mwandb\u001b[0m: Agent Starting Run: 5wyvxtmp with config:\n",
      "\u001b[34m\u001b[1mwandb\u001b[0m: \tactivation: relu\n",
      "\u001b[34m\u001b[1mwandb\u001b[0m: \tbatch_size: 32\n",
      "\u001b[34m\u001b[1mwandb\u001b[0m: \tbeta1: 0.9\n",
      "\u001b[34m\u001b[1mwandb\u001b[0m: \tbeta2: 0.999\n",
      "\u001b[34m\u001b[1mwandb\u001b[0m: \tbeta_rms: 0.9\n",
      "\u001b[34m\u001b[1mwandb\u001b[0m: \tepochs: 15\n",
      "\u001b[34m\u001b[1mwandb\u001b[0m: \tepsilon: 1e-08\n",
      "\u001b[34m\u001b[1mwandb\u001b[0m: \thidden_size: 64\n",
      "\u001b[34m\u001b[1mwandb\u001b[0m: \tinit_type: xavier\n",
      "\u001b[34m\u001b[1mwandb\u001b[0m: \tlearning_rate: 0.0001\n",
      "\u001b[34m\u001b[1mwandb\u001b[0m: \tmomentum: 0.9\n",
      "\u001b[34m\u001b[1mwandb\u001b[0m: \tnum_hidden_layers: 4\n",
      "\u001b[34m\u001b[1mwandb\u001b[0m: \toptimizer: nadam\n",
      "\u001b[34m\u001b[1mwandb\u001b[0m: \tweight_decay: 0\n"
     ]
    },
    {
     "data": {
      "text/html": [
       "creating run (0.2s)"
      ],
      "text/plain": [
       "<IPython.core.display.HTML object>"
      ]
     },
     "metadata": {},
     "output_type": "display_data"
    },
    {
     "data": {
      "text/html": [
       "Tracking run with wandb version 0.19.8"
      ],
      "text/plain": [
       "<IPython.core.display.HTML object>"
      ]
     },
     "metadata": {},
     "output_type": "display_data"
    },
    {
     "data": {
      "text/html": [
       "Run data is saved locally in <code>d:\\IIT M\\SEM2\\ED5340Data Science Theory and practice\\Practice\\wandb\\run-20250317_140311-5wyvxtmp</code>"
      ],
      "text/plain": [
       "<IPython.core.display.HTML object>"
      ]
     },
     "metadata": {},
     "output_type": "display_data"
    },
    {
     "data": {
      "text/html": [
       "Syncing run <strong><a href='https://wandb.ai/ed24s401-indian-institute-of-technology-madras/q4_sweep_project/runs/5wyvxtmp' target=\"_blank\">olive-sweep-2</a></strong> to <a href='https://wandb.ai/ed24s401-indian-institute-of-technology-madras/q4_sweep_project' target=\"_blank\">Weights & Biases</a> (<a href='https://wandb.me/developer-guide' target=\"_blank\">docs</a>)<br>Sweep page: <a href='https://wandb.ai/ed24s401-indian-institute-of-technology-madras/q4_sweep_project/sweeps/fqdtz4g7' target=\"_blank\">https://wandb.ai/ed24s401-indian-institute-of-technology-madras/q4_sweep_project/sweeps/fqdtz4g7</a>"
      ],
      "text/plain": [
       "<IPython.core.display.HTML object>"
      ]
     },
     "metadata": {},
     "output_type": "display_data"
    },
    {
     "data": {
      "text/html": [
       " View project at <a href='https://wandb.ai/ed24s401-indian-institute-of-technology-madras/q4_sweep_project' target=\"_blank\">https://wandb.ai/ed24s401-indian-institute-of-technology-madras/q4_sweep_project</a>"
      ],
      "text/plain": [
       "<IPython.core.display.HTML object>"
      ]
     },
     "metadata": {},
     "output_type": "display_data"
    },
    {
     "data": {
      "text/html": [
       " View sweep at <a href='https://wandb.ai/ed24s401-indian-institute-of-technology-madras/q4_sweep_project/sweeps/fqdtz4g7' target=\"_blank\">https://wandb.ai/ed24s401-indian-institute-of-technology-madras/q4_sweep_project/sweeps/fqdtz4g7</a>"
      ],
      "text/plain": [
       "<IPython.core.display.HTML object>"
      ]
     },
     "metadata": {},
     "output_type": "display_data"
    },
    {
     "data": {
      "text/html": [
       " View run at <a href='https://wandb.ai/ed24s401-indian-institute-of-technology-madras/q4_sweep_project/runs/5wyvxtmp' target=\"_blank\">https://wandb.ai/ed24s401-indian-institute-of-technology-madras/q4_sweep_project/runs/5wyvxtmp</a>"
      ],
      "text/plain": [
       "<IPython.core.display.HTML object>"
      ]
     },
     "metadata": {},
     "output_type": "display_data"
    },
    {
     "name": "stdout",
     "output_type": "stream",
     "text": [
      "Epoch 1/15 - loss=0.7885, val_acc=0.8087, val_loss=0.5533356808456145\n",
      "Epoch 2/15 - loss=0.4806, val_acc=0.8382, val_loss=0.4575927928078974\n",
      "Epoch 3/15 - loss=0.4284, val_acc=0.8500, val_loss=0.4310807654363351\n",
      "Epoch 4/15 - loss=0.4017, val_acc=0.8565, val_loss=0.401306930252314\n",
      "Epoch 5/15 - loss=0.3836, val_acc=0.8592, val_loss=0.3914466705850863\n",
      "Epoch 6/15 - loss=0.3710, val_acc=0.8632, val_loss=0.3823828862680102\n",
      "Epoch 7/15 - loss=0.3590, val_acc=0.8658, val_loss=0.3703948660501879\n",
      "Epoch 8/15 - loss=0.3491, val_acc=0.8693, val_loss=0.3625794887560769\n",
      "Epoch 9/15 - loss=0.3400, val_acc=0.8653, val_loss=0.3626237102509242\n",
      "Epoch 10/15 - loss=0.3332, val_acc=0.8648, val_loss=0.3555114453265892\n",
      "Epoch 11/15 - loss=0.3258, val_acc=0.8735, val_loss=0.3515976609162414\n",
      "Epoch 12/15 - loss=0.3186, val_acc=0.8767, val_loss=0.34292758133342993\n",
      "Epoch 13/15 - loss=0.3125, val_acc=0.8745, val_loss=0.3478598843153571\n",
      "Epoch 14/15 - loss=0.3068, val_acc=0.8775, val_loss=0.34019948414623197\n",
      "Epoch 15/15 - loss=0.3015, val_acc=0.8773, val_loss=0.33879042822337174\n",
      "test accuracy  0.8706\n"
     ]
    },
    {
     "data": {
      "text/html": [],
      "text/plain": [
       "<IPython.core.display.HTML object>"
      ]
     },
     "metadata": {},
     "output_type": "display_data"
    },
    {
     "data": {
      "text/html": [
       "<br>    <style><br>        .wandb-row {<br>            display: flex;<br>            flex-direction: row;<br>            flex-wrap: wrap;<br>            justify-content: flex-start;<br>            width: 100%;<br>        }<br>        .wandb-col {<br>            display: flex;<br>            flex-direction: column;<br>            flex-basis: 100%;<br>            flex: 1;<br>            padding: 10px;<br>        }<br>    </style><br><div class=\"wandb-row\"><div class=\"wandb-col\"><h3>Run history:</h3><br/><table class=\"wandb\"><tr><td>epoch</td><td>▁▁▂▃▃▃▄▅▅▅▆▇▇▇█</td></tr><tr><td>test_accuracy</td><td>▁</td></tr><tr><td>training_loss</td><td>█▄▃▂▂▂▂▂▂▁▁▁▁▁▁</td></tr><tr><td>validation loss</td><td>█▅▄▃▃▂▂▂▂▂▁▁▁▁▁</td></tr><tr><td>validation_accuracy</td><td>▁▄▅▆▆▇▇▇▇▇█████</td></tr></table><br/></div><div class=\"wandb-col\"><h3>Run summary:</h3><br/><table class=\"wandb\"><tr><td>epoch</td><td>15</td></tr><tr><td>test_accuracy</td><td>0.8706</td></tr><tr><td>training_loss</td><td>0.30154</td></tr><tr><td>validation loss</td><td>0.33879</td></tr><tr><td>validation_accuracy</td><td>0.87733</td></tr></table><br/></div></div>"
      ],
      "text/plain": [
       "<IPython.core.display.HTML object>"
      ]
     },
     "metadata": {},
     "output_type": "display_data"
    },
    {
     "data": {
      "text/html": [
       " View run <strong style=\"color:#cdcd00\">hl_4_bs_32_ac_relu_opt_nadam</strong> at: <a href='https://wandb.ai/ed24s401-indian-institute-of-technology-madras/q4_sweep_project/runs/5wyvxtmp' target=\"_blank\">https://wandb.ai/ed24s401-indian-institute-of-technology-madras/q4_sweep_project/runs/5wyvxtmp</a><br> View project at: <a href='https://wandb.ai/ed24s401-indian-institute-of-technology-madras/q4_sweep_project' target=\"_blank\">https://wandb.ai/ed24s401-indian-institute-of-technology-madras/q4_sweep_project</a><br>Synced 5 W&B file(s), 0 media file(s), 0 artifact file(s) and 0 other file(s)"
      ],
      "text/plain": [
       "<IPython.core.display.HTML object>"
      ]
     },
     "metadata": {},
     "output_type": "display_data"
    },
    {
     "data": {
      "text/html": [
       "Find logs at: <code>.\\wandb\\run-20250317_140311-5wyvxtmp\\logs</code>"
      ],
      "text/plain": [
       "<IPython.core.display.HTML object>"
      ]
     },
     "metadata": {},
     "output_type": "display_data"
    },
    {
     "name": "stderr",
     "output_type": "stream",
     "text": [
      "\u001b[34m\u001b[1mwandb\u001b[0m: Agent Starting Run: l6xwvvi5 with config:\n",
      "\u001b[34m\u001b[1mwandb\u001b[0m: \tactivation: relu\n",
      "\u001b[34m\u001b[1mwandb\u001b[0m: \tbatch_size: 32\n",
      "\u001b[34m\u001b[1mwandb\u001b[0m: \tbeta1: 0.9\n",
      "\u001b[34m\u001b[1mwandb\u001b[0m: \tbeta2: 0.999\n",
      "\u001b[34m\u001b[1mwandb\u001b[0m: \tbeta_rms: 0.9\n",
      "\u001b[34m\u001b[1mwandb\u001b[0m: \tepochs: 15\n",
      "\u001b[34m\u001b[1mwandb\u001b[0m: \tepsilon: 1e-08\n",
      "\u001b[34m\u001b[1mwandb\u001b[0m: \thidden_size: 128\n",
      "\u001b[34m\u001b[1mwandb\u001b[0m: \tinit_type: xavier\n",
      "\u001b[34m\u001b[1mwandb\u001b[0m: \tlearning_rate: 0.0001\n",
      "\u001b[34m\u001b[1mwandb\u001b[0m: \tmomentum: 0.9\n",
      "\u001b[34m\u001b[1mwandb\u001b[0m: \tnum_hidden_layers: 3\n",
      "\u001b[34m\u001b[1mwandb\u001b[0m: \toptimizer: adam\n",
      "\u001b[34m\u001b[1mwandb\u001b[0m: \tweight_decay: 0\n"
     ]
    },
    {
     "data": {
      "text/html": [
       "Tracking run with wandb version 0.19.8"
      ],
      "text/plain": [
       "<IPython.core.display.HTML object>"
      ]
     },
     "metadata": {},
     "output_type": "display_data"
    },
    {
     "data": {
      "text/html": [
       "Run data is saved locally in <code>d:\\IIT M\\SEM2\\ED5340Data Science Theory and practice\\Practice\\wandb\\run-20250317_140503-l6xwvvi5</code>"
      ],
      "text/plain": [
       "<IPython.core.display.HTML object>"
      ]
     },
     "metadata": {},
     "output_type": "display_data"
    },
    {
     "data": {
      "text/html": [
       "Syncing run <strong><a href='https://wandb.ai/ed24s401-indian-institute-of-technology-madras/q4_sweep_project/runs/l6xwvvi5' target=\"_blank\">glorious-sweep-3</a></strong> to <a href='https://wandb.ai/ed24s401-indian-institute-of-technology-madras/q4_sweep_project' target=\"_blank\">Weights & Biases</a> (<a href='https://wandb.me/developer-guide' target=\"_blank\">docs</a>)<br>Sweep page: <a href='https://wandb.ai/ed24s401-indian-institute-of-technology-madras/q4_sweep_project/sweeps/fqdtz4g7' target=\"_blank\">https://wandb.ai/ed24s401-indian-institute-of-technology-madras/q4_sweep_project/sweeps/fqdtz4g7</a>"
      ],
      "text/plain": [
       "<IPython.core.display.HTML object>"
      ]
     },
     "metadata": {},
     "output_type": "display_data"
    },
    {
     "data": {
      "text/html": [
       " View project at <a href='https://wandb.ai/ed24s401-indian-institute-of-technology-madras/q4_sweep_project' target=\"_blank\">https://wandb.ai/ed24s401-indian-institute-of-technology-madras/q4_sweep_project</a>"
      ],
      "text/plain": [
       "<IPython.core.display.HTML object>"
      ]
     },
     "metadata": {},
     "output_type": "display_data"
    },
    {
     "data": {
      "text/html": [
       " View sweep at <a href='https://wandb.ai/ed24s401-indian-institute-of-technology-madras/q4_sweep_project/sweeps/fqdtz4g7' target=\"_blank\">https://wandb.ai/ed24s401-indian-institute-of-technology-madras/q4_sweep_project/sweeps/fqdtz4g7</a>"
      ],
      "text/plain": [
       "<IPython.core.display.HTML object>"
      ]
     },
     "metadata": {},
     "output_type": "display_data"
    },
    {
     "data": {
      "text/html": [
       " View run at <a href='https://wandb.ai/ed24s401-indian-institute-of-technology-madras/q4_sweep_project/runs/l6xwvvi5' target=\"_blank\">https://wandb.ai/ed24s401-indian-institute-of-technology-madras/q4_sweep_project/runs/l6xwvvi5</a>"
      ],
      "text/plain": [
       "<IPython.core.display.HTML object>"
      ]
     },
     "metadata": {},
     "output_type": "display_data"
    },
    {
     "name": "stdout",
     "output_type": "stream",
     "text": [
      "Epoch 1/15 - loss=0.7003, val_acc=0.8220, val_loss=0.4943318380748373\n",
      "Epoch 2/15 - loss=0.4455, val_acc=0.8453, val_loss=0.4272136531671892\n",
      "Epoch 3/15 - loss=0.4050, val_acc=0.8513, val_loss=0.4170393582911953\n",
      "Epoch 4/15 - loss=0.3805, val_acc=0.8595, val_loss=0.3825536575852357\n",
      "Epoch 5/15 - loss=0.3603, val_acc=0.8628, val_loss=0.37099440208518414\n",
      "Epoch 6/15 - loss=0.3468, val_acc=0.8693, val_loss=0.3573359847989474\n",
      "Epoch 7/15 - loss=0.3328, val_acc=0.8708, val_loss=0.3482750134588486\n",
      "Epoch 8/15 - loss=0.3219, val_acc=0.8737, val_loss=0.33455455284190694\n",
      "Epoch 9/15 - loss=0.3102, val_acc=0.8758, val_loss=0.3333025842760965\n",
      "Epoch 10/15 - loss=0.3008, val_acc=0.8777, val_loss=0.32892516834399954\n",
      "Epoch 11/15 - loss=0.2928, val_acc=0.8778, val_loss=0.32822808067028963\n",
      "Epoch 12/15 - loss=0.2849, val_acc=0.8802, val_loss=0.3242672803580722\n",
      "Epoch 13/15 - loss=0.2780, val_acc=0.8798, val_loss=0.31821372008848\n",
      "Epoch 14/15 - loss=0.2710, val_acc=0.8833, val_loss=0.30992415812016627\n",
      "Epoch 15/15 - loss=0.2640, val_acc=0.8805, val_loss=0.3222599832328888\n",
      "test accuracy  0.8761\n"
     ]
    },
    {
     "data": {
      "text/html": [],
      "text/plain": [
       "<IPython.core.display.HTML object>"
      ]
     },
     "metadata": {},
     "output_type": "display_data"
    },
    {
     "data": {
      "text/html": [
       "<br>    <style><br>        .wandb-row {<br>            display: flex;<br>            flex-direction: row;<br>            flex-wrap: wrap;<br>            justify-content: flex-start;<br>            width: 100%;<br>        }<br>        .wandb-col {<br>            display: flex;<br>            flex-direction: column;<br>            flex-basis: 100%;<br>            flex: 1;<br>            padding: 10px;<br>        }<br>    </style><br><div class=\"wandb-row\"><div class=\"wandb-col\"><h3>Run history:</h3><br/><table class=\"wandb\"><tr><td>epoch</td><td>▁▁▂▃▃▃▄▅▅▅▆▇▇▇█</td></tr><tr><td>test_accuracy</td><td>▁</td></tr><tr><td>training_loss</td><td>█▄▃▃▃▂▂▂▂▂▁▁▁▁▁</td></tr><tr><td>validation loss</td><td>█▅▅▄▃▃▂▂▂▂▂▂▁▁▁</td></tr><tr><td>validation_accuracy</td><td>▁▄▄▅▆▆▇▇▇▇▇████</td></tr></table><br/></div><div class=\"wandb-col\"><h3>Run summary:</h3><br/><table class=\"wandb\"><tr><td>epoch</td><td>15</td></tr><tr><td>test_accuracy</td><td>0.8761</td></tr><tr><td>training_loss</td><td>0.26401</td></tr><tr><td>validation loss</td><td>0.32226</td></tr><tr><td>validation_accuracy</td><td>0.8805</td></tr></table><br/></div></div>"
      ],
      "text/plain": [
       "<IPython.core.display.HTML object>"
      ]
     },
     "metadata": {},
     "output_type": "display_data"
    },
    {
     "data": {
      "text/html": [
       " View run <strong style=\"color:#cdcd00\">hl_3_bs_32_ac_relu_opt_adam</strong> at: <a href='https://wandb.ai/ed24s401-indian-institute-of-technology-madras/q4_sweep_project/runs/l6xwvvi5' target=\"_blank\">https://wandb.ai/ed24s401-indian-institute-of-technology-madras/q4_sweep_project/runs/l6xwvvi5</a><br> View project at: <a href='https://wandb.ai/ed24s401-indian-institute-of-technology-madras/q4_sweep_project' target=\"_blank\">https://wandb.ai/ed24s401-indian-institute-of-technology-madras/q4_sweep_project</a><br>Synced 5 W&B file(s), 0 media file(s), 0 artifact file(s) and 0 other file(s)"
      ],
      "text/plain": [
       "<IPython.core.display.HTML object>"
      ]
     },
     "metadata": {},
     "output_type": "display_data"
    },
    {
     "data": {
      "text/html": [
       "Find logs at: <code>.\\wandb\\run-20250317_140503-l6xwvvi5\\logs</code>"
      ],
      "text/plain": [
       "<IPython.core.display.HTML object>"
      ]
     },
     "metadata": {},
     "output_type": "display_data"
    },
    {
     "name": "stderr",
     "output_type": "stream",
     "text": [
      "\u001b[34m\u001b[1mwandb\u001b[0m: Sweep Agent: Waiting for job.\n",
      "\u001b[34m\u001b[1mwandb\u001b[0m: Job received.\n",
      "\u001b[34m\u001b[1mwandb\u001b[0m: Agent Starting Run: 97on6uxu with config:\n",
      "\u001b[34m\u001b[1mwandb\u001b[0m: \tactivation: relu\n",
      "\u001b[34m\u001b[1mwandb\u001b[0m: \tbatch_size: 32\n",
      "\u001b[34m\u001b[1mwandb\u001b[0m: \tbeta1: 0.9\n",
      "\u001b[34m\u001b[1mwandb\u001b[0m: \tbeta2: 0.999\n",
      "\u001b[34m\u001b[1mwandb\u001b[0m: \tbeta_rms: 0.9\n",
      "\u001b[34m\u001b[1mwandb\u001b[0m: \tepochs: 15\n",
      "\u001b[34m\u001b[1mwandb\u001b[0m: \tepsilon: 1e-08\n",
      "\u001b[34m\u001b[1mwandb\u001b[0m: \thidden_size: 128\n",
      "\u001b[34m\u001b[1mwandb\u001b[0m: \tinit_type: xavier\n",
      "\u001b[34m\u001b[1mwandb\u001b[0m: \tlearning_rate: 0.001\n",
      "\u001b[34m\u001b[1mwandb\u001b[0m: \tmomentum: 0.9\n",
      "\u001b[34m\u001b[1mwandb\u001b[0m: \tnum_hidden_layers: 3\n",
      "\u001b[34m\u001b[1mwandb\u001b[0m: \toptimizer: nadam\n",
      "\u001b[34m\u001b[1mwandb\u001b[0m: \tweight_decay: 0\n"
     ]
    },
    {
     "data": {
      "text/html": [
       "creating run (0.2s)"
      ],
      "text/plain": [
       "<IPython.core.display.HTML object>"
      ]
     },
     "metadata": {},
     "output_type": "display_data"
    },
    {
     "data": {
      "text/html": [
       "Tracking run with wandb version 0.19.8"
      ],
      "text/plain": [
       "<IPython.core.display.HTML object>"
      ]
     },
     "metadata": {},
     "output_type": "display_data"
    },
    {
     "data": {
      "text/html": [
       "Run data is saved locally in <code>d:\\IIT M\\SEM2\\ED5340Data Science Theory and practice\\Practice\\wandb\\run-20250317_140835-97on6uxu</code>"
      ],
      "text/plain": [
       "<IPython.core.display.HTML object>"
      ]
     },
     "metadata": {},
     "output_type": "display_data"
    },
    {
     "data": {
      "text/html": [
       "Syncing run <strong><a href='https://wandb.ai/ed24s401-indian-institute-of-technology-madras/q4_sweep_project/runs/97on6uxu' target=\"_blank\">valiant-sweep-4</a></strong> to <a href='https://wandb.ai/ed24s401-indian-institute-of-technology-madras/q4_sweep_project' target=\"_blank\">Weights & Biases</a> (<a href='https://wandb.me/developer-guide' target=\"_blank\">docs</a>)<br>Sweep page: <a href='https://wandb.ai/ed24s401-indian-institute-of-technology-madras/q4_sweep_project/sweeps/fqdtz4g7' target=\"_blank\">https://wandb.ai/ed24s401-indian-institute-of-technology-madras/q4_sweep_project/sweeps/fqdtz4g7</a>"
      ],
      "text/plain": [
       "<IPython.core.display.HTML object>"
      ]
     },
     "metadata": {},
     "output_type": "display_data"
    },
    {
     "data": {
      "text/html": [
       " View project at <a href='https://wandb.ai/ed24s401-indian-institute-of-technology-madras/q4_sweep_project' target=\"_blank\">https://wandb.ai/ed24s401-indian-institute-of-technology-madras/q4_sweep_project</a>"
      ],
      "text/plain": [
       "<IPython.core.display.HTML object>"
      ]
     },
     "metadata": {},
     "output_type": "display_data"
    },
    {
     "data": {
      "text/html": [
       " View sweep at <a href='https://wandb.ai/ed24s401-indian-institute-of-technology-madras/q4_sweep_project/sweeps/fqdtz4g7' target=\"_blank\">https://wandb.ai/ed24s401-indian-institute-of-technology-madras/q4_sweep_project/sweeps/fqdtz4g7</a>"
      ],
      "text/plain": [
       "<IPython.core.display.HTML object>"
      ]
     },
     "metadata": {},
     "output_type": "display_data"
    },
    {
     "data": {
      "text/html": [
       " View run at <a href='https://wandb.ai/ed24s401-indian-institute-of-technology-madras/q4_sweep_project/runs/97on6uxu' target=\"_blank\">https://wandb.ai/ed24s401-indian-institute-of-technology-madras/q4_sweep_project/runs/97on6uxu</a>"
      ],
      "text/plain": [
       "<IPython.core.display.HTML object>"
      ]
     },
     "metadata": {},
     "output_type": "display_data"
    },
    {
     "name": "stdout",
     "output_type": "stream",
     "text": [
      "Epoch 1/15 - loss=0.4864, val_acc=0.8558, val_loss=0.39414863926527977\n",
      "Epoch 2/15 - loss=0.3656, val_acc=0.8697, val_loss=0.35466168373727985\n",
      "Epoch 3/15 - loss=0.3330, val_acc=0.8645, val_loss=0.3551483422911853\n",
      "Epoch 4/15 - loss=0.3114, val_acc=0.8717, val_loss=0.3477499508047815\n",
      "Epoch 5/15 - loss=0.2925, val_acc=0.8755, val_loss=0.33793942679718947\n",
      "Epoch 6/15 - loss=0.2817, val_acc=0.8843, val_loss=0.3165049359637797\n",
      "Epoch 7/15 - loss=0.2657, val_acc=0.8862, val_loss=0.3200998692929277\n",
      "Epoch 8/15 - loss=0.2566, val_acc=0.8868, val_loss=0.3246274174481567\n",
      "Epoch 9/15 - loss=0.2438, val_acc=0.8838, val_loss=0.31929888356391967\n",
      "Epoch 10/15 - loss=0.2341, val_acc=0.8862, val_loss=0.3044654284737919\n",
      "Epoch 11/15 - loss=0.2271, val_acc=0.8882, val_loss=0.32792625455069924\n",
      "Epoch 12/15 - loss=0.2206, val_acc=0.8873, val_loss=0.32132468162556554\n",
      "Epoch 13/15 - loss=0.2123, val_acc=0.8848, val_loss=0.334373050016081\n",
      "Epoch 14/15 - loss=0.2056, val_acc=0.8922, val_loss=0.3208257262307884\n",
      "Epoch 15/15 - loss=0.1979, val_acc=0.8880, val_loss=0.33917706953346655\n",
      "test accuracy  0.8854\n"
     ]
    },
    {
     "data": {
      "text/html": [],
      "text/plain": [
       "<IPython.core.display.HTML object>"
      ]
     },
     "metadata": {},
     "output_type": "display_data"
    },
    {
     "data": {
      "text/html": [
       "<br>    <style><br>        .wandb-row {<br>            display: flex;<br>            flex-direction: row;<br>            flex-wrap: wrap;<br>            justify-content: flex-start;<br>            width: 100%;<br>        }<br>        .wandb-col {<br>            display: flex;<br>            flex-direction: column;<br>            flex-basis: 100%;<br>            flex: 1;<br>            padding: 10px;<br>        }<br>    </style><br><div class=\"wandb-row\"><div class=\"wandb-col\"><h3>Run history:</h3><br/><table class=\"wandb\"><tr><td>epoch</td><td>▁▁▂▃▃▃▄▅▅▅▆▇▇▇█</td></tr><tr><td>test_accuracy</td><td>▁</td></tr><tr><td>training_loss</td><td>█▅▄▄▃▃▃▂▂▂▂▂▁▁▁</td></tr><tr><td>validation loss</td><td>█▅▅▄▄▂▂▃▂▁▃▂▃▂▄</td></tr><tr><td>validation_accuracy</td><td>▁▄▃▄▅▆▇▇▆▇▇▇▇█▇</td></tr></table><br/></div><div class=\"wandb-col\"><h3>Run summary:</h3><br/><table class=\"wandb\"><tr><td>epoch</td><td>15</td></tr><tr><td>test_accuracy</td><td>0.8854</td></tr><tr><td>training_loss</td><td>0.19786</td></tr><tr><td>validation loss</td><td>0.33918</td></tr><tr><td>validation_accuracy</td><td>0.888</td></tr></table><br/></div></div>"
      ],
      "text/plain": [
       "<IPython.core.display.HTML object>"
      ]
     },
     "metadata": {},
     "output_type": "display_data"
    },
    {
     "data": {
      "text/html": [
       " View run <strong style=\"color:#cdcd00\">hl_3_bs_32_ac_relu_opt_nadam</strong> at: <a href='https://wandb.ai/ed24s401-indian-institute-of-technology-madras/q4_sweep_project/runs/97on6uxu' target=\"_blank\">https://wandb.ai/ed24s401-indian-institute-of-technology-madras/q4_sweep_project/runs/97on6uxu</a><br> View project at: <a href='https://wandb.ai/ed24s401-indian-institute-of-technology-madras/q4_sweep_project' target=\"_blank\">https://wandb.ai/ed24s401-indian-institute-of-technology-madras/q4_sweep_project</a><br>Synced 5 W&B file(s), 0 media file(s), 0 artifact file(s) and 0 other file(s)"
      ],
      "text/plain": [
       "<IPython.core.display.HTML object>"
      ]
     },
     "metadata": {},
     "output_type": "display_data"
    },
    {
     "data": {
      "text/html": [
       "Find logs at: <code>.\\wandb\\run-20250317_140835-97on6uxu\\logs</code>"
      ],
      "text/plain": [
       "<IPython.core.display.HTML object>"
      ]
     },
     "metadata": {},
     "output_type": "display_data"
    },
    {
     "name": "stderr",
     "output_type": "stream",
     "text": [
      "\u001b[34m\u001b[1mwandb\u001b[0m: Agent Starting Run: 9l5v5mg7 with config:\n",
      "\u001b[34m\u001b[1mwandb\u001b[0m: \tactivation: relu\n",
      "\u001b[34m\u001b[1mwandb\u001b[0m: \tbatch_size: 32\n",
      "\u001b[34m\u001b[1mwandb\u001b[0m: \tbeta1: 0.9\n",
      "\u001b[34m\u001b[1mwandb\u001b[0m: \tbeta2: 0.999\n",
      "\u001b[34m\u001b[1mwandb\u001b[0m: \tbeta_rms: 0.9\n",
      "\u001b[34m\u001b[1mwandb\u001b[0m: \tepochs: 15\n",
      "\u001b[34m\u001b[1mwandb\u001b[0m: \tepsilon: 1e-08\n",
      "\u001b[34m\u001b[1mwandb\u001b[0m: \thidden_size: 64\n",
      "\u001b[34m\u001b[1mwandb\u001b[0m: \tinit_type: random\n",
      "\u001b[34m\u001b[1mwandb\u001b[0m: \tlearning_rate: 0.0001\n",
      "\u001b[34m\u001b[1mwandb\u001b[0m: \tmomentum: 0.9\n",
      "\u001b[34m\u001b[1mwandb\u001b[0m: \tnum_hidden_layers: 4\n",
      "\u001b[34m\u001b[1mwandb\u001b[0m: \toptimizer: nadam\n",
      "\u001b[34m\u001b[1mwandb\u001b[0m: \tweight_decay: 0\n"
     ]
    },
    {
     "data": {
      "text/html": [],
      "text/plain": [
       "<IPython.core.display.HTML object>"
      ]
     },
     "metadata": {},
     "output_type": "display_data"
    },
    {
     "data": {
      "text/html": [
       "Tracking run with wandb version 0.19.8"
      ],
      "text/plain": [
       "<IPython.core.display.HTML object>"
      ]
     },
     "metadata": {},
     "output_type": "display_data"
    },
    {
     "data": {
      "text/html": [
       "Run data is saved locally in <code>d:\\IIT M\\SEM2\\ED5340Data Science Theory and practice\\Practice\\wandb\\run-20250317_141323-9l5v5mg7</code>"
      ],
      "text/plain": [
       "<IPython.core.display.HTML object>"
      ]
     },
     "metadata": {},
     "output_type": "display_data"
    },
    {
     "data": {
      "text/html": [
       "Syncing run <strong><a href='https://wandb.ai/ed24s401-indian-institute-of-technology-madras/q4_sweep_project/runs/9l5v5mg7' target=\"_blank\">honest-sweep-5</a></strong> to <a href='https://wandb.ai/ed24s401-indian-institute-of-technology-madras/q4_sweep_project' target=\"_blank\">Weights & Biases</a> (<a href='https://wandb.me/developer-guide' target=\"_blank\">docs</a>)<br>Sweep page: <a href='https://wandb.ai/ed24s401-indian-institute-of-technology-madras/q4_sweep_project/sweeps/fqdtz4g7' target=\"_blank\">https://wandb.ai/ed24s401-indian-institute-of-technology-madras/q4_sweep_project/sweeps/fqdtz4g7</a>"
      ],
      "text/plain": [
       "<IPython.core.display.HTML object>"
      ]
     },
     "metadata": {},
     "output_type": "display_data"
    },
    {
     "data": {
      "text/html": [
       " View project at <a href='https://wandb.ai/ed24s401-indian-institute-of-technology-madras/q4_sweep_project' target=\"_blank\">https://wandb.ai/ed24s401-indian-institute-of-technology-madras/q4_sweep_project</a>"
      ],
      "text/plain": [
       "<IPython.core.display.HTML object>"
      ]
     },
     "metadata": {},
     "output_type": "display_data"
    },
    {
     "data": {
      "text/html": [
       " View sweep at <a href='https://wandb.ai/ed24s401-indian-institute-of-technology-madras/q4_sweep_project/sweeps/fqdtz4g7' target=\"_blank\">https://wandb.ai/ed24s401-indian-institute-of-technology-madras/q4_sweep_project/sweeps/fqdtz4g7</a>"
      ],
      "text/plain": [
       "<IPython.core.display.HTML object>"
      ]
     },
     "metadata": {},
     "output_type": "display_data"
    },
    {
     "data": {
      "text/html": [
       " View run at <a href='https://wandb.ai/ed24s401-indian-institute-of-technology-madras/q4_sweep_project/runs/9l5v5mg7' target=\"_blank\">https://wandb.ai/ed24s401-indian-institute-of-technology-madras/q4_sweep_project/runs/9l5v5mg7</a>"
      ],
      "text/plain": [
       "<IPython.core.display.HTML object>"
      ]
     },
     "metadata": {},
     "output_type": "display_data"
    },
    {
     "name": "stdout",
     "output_type": "stream",
     "text": [
      "Epoch 1/15 - loss=0.7136, val_acc=0.8215, val_loss=0.514249439221173\n",
      "Epoch 2/15 - loss=0.4450, val_acc=0.8522, val_loss=0.424631159802466\n",
      "Epoch 3/15 - loss=0.4010, val_acc=0.8568, val_loss=0.4077086254771315\n",
      "Epoch 4/15 - loss=0.3764, val_acc=0.8647, val_loss=0.38313558974950057\n",
      "Epoch 5/15 - loss=0.3581, val_acc=0.8687, val_loss=0.36678927111228254\n",
      "Epoch 6/15 - loss=0.3451, val_acc=0.8715, val_loss=0.36454694910194924\n",
      "Epoch 7/15 - loss=0.3324, val_acc=0.8742, val_loss=0.3506223913021616\n",
      "Epoch 8/15 - loss=0.3225, val_acc=0.8763, val_loss=0.3426140422574846\n",
      "Epoch 9/15 - loss=0.3129, val_acc=0.8692, val_loss=0.34419958776581877\n",
      "Epoch 10/15 - loss=0.3051, val_acc=0.8725, val_loss=0.33756536300903056\n",
      "Epoch 11/15 - loss=0.2980, val_acc=0.8773, val_loss=0.33536077214787013\n",
      "Epoch 12/15 - loss=0.2908, val_acc=0.8792, val_loss=0.32726795845946033\n",
      "Epoch 13/15 - loss=0.2836, val_acc=0.8810, val_loss=0.332058711502308\n",
      "Epoch 14/15 - loss=0.2789, val_acc=0.8793, val_loss=0.32688582932803106\n",
      "Epoch 15/15 - loss=0.2725, val_acc=0.8793, val_loss=0.3319976309088411\n",
      "test accuracy  0.871\n"
     ]
    },
    {
     "data": {
      "text/html": [],
      "text/plain": [
       "<IPython.core.display.HTML object>"
      ]
     },
     "metadata": {},
     "output_type": "display_data"
    },
    {
     "data": {
      "text/html": [
       "<br>    <style><br>        .wandb-row {<br>            display: flex;<br>            flex-direction: row;<br>            flex-wrap: wrap;<br>            justify-content: flex-start;<br>            width: 100%;<br>        }<br>        .wandb-col {<br>            display: flex;<br>            flex-direction: column;<br>            flex-basis: 100%;<br>            flex: 1;<br>            padding: 10px;<br>        }<br>    </style><br><div class=\"wandb-row\"><div class=\"wandb-col\"><h3>Run history:</h3><br/><table class=\"wandb\"><tr><td>epoch</td><td>▁▁▂▃▃▃▄▅▅▅▆▇▇▇█</td></tr><tr><td>test_accuracy</td><td>▁</td></tr><tr><td>training_loss</td><td>█▄▃▃▂▂▂▂▂▂▁▁▁▁▁</td></tr><tr><td>validation loss</td><td>█▅▄▃▂▂▂▂▂▁▁▁▁▁▁</td></tr><tr><td>validation_accuracy</td><td>▁▅▅▆▇▇▇▇▇▇█████</td></tr></table><br/></div><div class=\"wandb-col\"><h3>Run summary:</h3><br/><table class=\"wandb\"><tr><td>epoch</td><td>15</td></tr><tr><td>test_accuracy</td><td>0.871</td></tr><tr><td>training_loss</td><td>0.27249</td></tr><tr><td>validation loss</td><td>0.332</td></tr><tr><td>validation_accuracy</td><td>0.87933</td></tr></table><br/></div></div>"
      ],
      "text/plain": [
       "<IPython.core.display.HTML object>"
      ]
     },
     "metadata": {},
     "output_type": "display_data"
    },
    {
     "data": {
      "text/html": [
       " View run <strong style=\"color:#cdcd00\">hl_4_bs_32_ac_relu_opt_nadam</strong> at: <a href='https://wandb.ai/ed24s401-indian-institute-of-technology-madras/q4_sweep_project/runs/9l5v5mg7' target=\"_blank\">https://wandb.ai/ed24s401-indian-institute-of-technology-madras/q4_sweep_project/runs/9l5v5mg7</a><br> View project at: <a href='https://wandb.ai/ed24s401-indian-institute-of-technology-madras/q4_sweep_project' target=\"_blank\">https://wandb.ai/ed24s401-indian-institute-of-technology-madras/q4_sweep_project</a><br>Synced 5 W&B file(s), 0 media file(s), 0 artifact file(s) and 0 other file(s)"
      ],
      "text/plain": [
       "<IPython.core.display.HTML object>"
      ]
     },
     "metadata": {},
     "output_type": "display_data"
    },
    {
     "data": {
      "text/html": [
       "Find logs at: <code>.\\wandb\\run-20250317_141323-9l5v5mg7\\logs</code>"
      ],
      "text/plain": [
       "<IPython.core.display.HTML object>"
      ]
     },
     "metadata": {},
     "output_type": "display_data"
    },
    {
     "name": "stderr",
     "output_type": "stream",
     "text": [
      "\u001b[34m\u001b[1mwandb\u001b[0m: Agent Starting Run: kuspv0cm with config:\n",
      "\u001b[34m\u001b[1mwandb\u001b[0m: \tactivation: relu\n",
      "\u001b[34m\u001b[1mwandb\u001b[0m: \tbatch_size: 32\n",
      "\u001b[34m\u001b[1mwandb\u001b[0m: \tbeta1: 0.9\n",
      "\u001b[34m\u001b[1mwandb\u001b[0m: \tbeta2: 0.999\n",
      "\u001b[34m\u001b[1mwandb\u001b[0m: \tbeta_rms: 0.9\n",
      "\u001b[34m\u001b[1mwandb\u001b[0m: \tepochs: 15\n",
      "\u001b[34m\u001b[1mwandb\u001b[0m: \tepsilon: 1e-08\n",
      "\u001b[34m\u001b[1mwandb\u001b[0m: \thidden_size: 128\n",
      "\u001b[34m\u001b[1mwandb\u001b[0m: \tinit_type: random\n",
      "\u001b[34m\u001b[1mwandb\u001b[0m: \tlearning_rate: 0.001\n",
      "\u001b[34m\u001b[1mwandb\u001b[0m: \tmomentum: 0.9\n",
      "\u001b[34m\u001b[1mwandb\u001b[0m: \tnum_hidden_layers: 3\n",
      "\u001b[34m\u001b[1mwandb\u001b[0m: \toptimizer: adam\n",
      "\u001b[34m\u001b[1mwandb\u001b[0m: \tweight_decay: 0\n"
     ]
    },
    {
     "data": {
      "text/html": [
       "creating run (0.6s)"
      ],
      "text/plain": [
       "<IPython.core.display.HTML object>"
      ]
     },
     "metadata": {},
     "output_type": "display_data"
    },
    {
     "data": {
      "text/html": [
       "Tracking run with wandb version 0.19.8"
      ],
      "text/plain": [
       "<IPython.core.display.HTML object>"
      ]
     },
     "metadata": {},
     "output_type": "display_data"
    },
    {
     "data": {
      "text/html": [
       "Run data is saved locally in <code>d:\\IIT M\\SEM2\\ED5340Data Science Theory and practice\\Practice\\wandb\\run-20250317_141529-kuspv0cm</code>"
      ],
      "text/plain": [
       "<IPython.core.display.HTML object>"
      ]
     },
     "metadata": {},
     "output_type": "display_data"
    },
    {
     "data": {
      "text/html": [
       "Syncing run <strong><a href='https://wandb.ai/ed24s401-indian-institute-of-technology-madras/q4_sweep_project/runs/kuspv0cm' target=\"_blank\">misunderstood-sweep-6</a></strong> to <a href='https://wandb.ai/ed24s401-indian-institute-of-technology-madras/q4_sweep_project' target=\"_blank\">Weights & Biases</a> (<a href='https://wandb.me/developer-guide' target=\"_blank\">docs</a>)<br>Sweep page: <a href='https://wandb.ai/ed24s401-indian-institute-of-technology-madras/q4_sweep_project/sweeps/fqdtz4g7' target=\"_blank\">https://wandb.ai/ed24s401-indian-institute-of-technology-madras/q4_sweep_project/sweeps/fqdtz4g7</a>"
      ],
      "text/plain": [
       "<IPython.core.display.HTML object>"
      ]
     },
     "metadata": {},
     "output_type": "display_data"
    },
    {
     "data": {
      "text/html": [
       " View project at <a href='https://wandb.ai/ed24s401-indian-institute-of-technology-madras/q4_sweep_project' target=\"_blank\">https://wandb.ai/ed24s401-indian-institute-of-technology-madras/q4_sweep_project</a>"
      ],
      "text/plain": [
       "<IPython.core.display.HTML object>"
      ]
     },
     "metadata": {},
     "output_type": "display_data"
    },
    {
     "data": {
      "text/html": [
       " View sweep at <a href='https://wandb.ai/ed24s401-indian-institute-of-technology-madras/q4_sweep_project/sweeps/fqdtz4g7' target=\"_blank\">https://wandb.ai/ed24s401-indian-institute-of-technology-madras/q4_sweep_project/sweeps/fqdtz4g7</a>"
      ],
      "text/plain": [
       "<IPython.core.display.HTML object>"
      ]
     },
     "metadata": {},
     "output_type": "display_data"
    },
    {
     "data": {
      "text/html": [
       " View run at <a href='https://wandb.ai/ed24s401-indian-institute-of-technology-madras/q4_sweep_project/runs/kuspv0cm' target=\"_blank\">https://wandb.ai/ed24s401-indian-institute-of-technology-madras/q4_sweep_project/runs/kuspv0cm</a>"
      ],
      "text/plain": [
       "<IPython.core.display.HTML object>"
      ]
     },
     "metadata": {},
     "output_type": "display_data"
    },
    {
     "name": "stdout",
     "output_type": "stream",
     "text": [
      "Epoch 1/15 - loss=0.4983, val_acc=0.8520, val_loss=0.39620568058328415\n",
      "Epoch 2/15 - loss=0.3740, val_acc=0.8683, val_loss=0.35397257665943666\n",
      "Epoch 3/15 - loss=0.3386, val_acc=0.8603, val_loss=0.3735516517537113\n",
      "Epoch 4/15 - loss=0.3171, val_acc=0.8702, val_loss=0.35227046469350487\n",
      "Epoch 5/15 - loss=0.2992, val_acc=0.8717, val_loss=0.3392147276409889\n",
      "Epoch 6/15 - loss=0.2862, val_acc=0.8913, val_loss=0.3076140956708525\n",
      "Epoch 7/15 - loss=0.2720, val_acc=0.8900, val_loss=0.3109438713703989\n",
      "Epoch 8/15 - loss=0.2614, val_acc=0.8868, val_loss=0.3136543904148377\n",
      "Epoch 9/15 - loss=0.2490, val_acc=0.8853, val_loss=0.3142703619804999\n",
      "Epoch 10/15 - loss=0.2408, val_acc=0.8875, val_loss=0.3045127358453091\n",
      "Epoch 11/15 - loss=0.2317, val_acc=0.8908, val_loss=0.31719448859125154\n",
      "Epoch 12/15 - loss=0.2256, val_acc=0.8867, val_loss=0.3221218955050082\n",
      "Epoch 13/15 - loss=0.2162, val_acc=0.8900, val_loss=0.3026525728061711\n",
      "Epoch 14/15 - loss=0.2084, val_acc=0.8947, val_loss=0.30650302112360034\n",
      "Epoch 15/15 - loss=0.2002, val_acc=0.8862, val_loss=0.3288880969592476\n",
      "test accuracy  0.8767\n"
     ]
    },
    {
     "data": {
      "text/html": [],
      "text/plain": [
       "<IPython.core.display.HTML object>"
      ]
     },
     "metadata": {},
     "output_type": "display_data"
    },
    {
     "data": {
      "text/html": [
       "<br>    <style><br>        .wandb-row {<br>            display: flex;<br>            flex-direction: row;<br>            flex-wrap: wrap;<br>            justify-content: flex-start;<br>            width: 100%;<br>        }<br>        .wandb-col {<br>            display: flex;<br>            flex-direction: column;<br>            flex-basis: 100%;<br>            flex: 1;<br>            padding: 10px;<br>        }<br>    </style><br><div class=\"wandb-row\"><div class=\"wandb-col\"><h3>Run history:</h3><br/><table class=\"wandb\"><tr><td>epoch</td><td>▁▁▂▃▃▃▄▅▅▅▆▇▇▇█</td></tr><tr><td>test_accuracy</td><td>▁</td></tr><tr><td>training_loss</td><td>█▅▄▄▃▃▃▂▂▂▂▂▁▁▁</td></tr><tr><td>validation loss</td><td>█▅▆▅▄▁▂▂▂▁▂▂▁▁▃</td></tr><tr><td>validation_accuracy</td><td>▁▄▂▄▄▇▇▇▆▇▇▇▇█▇</td></tr></table><br/></div><div class=\"wandb-col\"><h3>Run summary:</h3><br/><table class=\"wandb\"><tr><td>epoch</td><td>15</td></tr><tr><td>test_accuracy</td><td>0.8767</td></tr><tr><td>training_loss</td><td>0.2002</td></tr><tr><td>validation loss</td><td>0.32889</td></tr><tr><td>validation_accuracy</td><td>0.88617</td></tr></table><br/></div></div>"
      ],
      "text/plain": [
       "<IPython.core.display.HTML object>"
      ]
     },
     "metadata": {},
     "output_type": "display_data"
    },
    {
     "data": {
      "text/html": [
       " View run <strong style=\"color:#cdcd00\">hl_3_bs_32_ac_relu_opt_adam</strong> at: <a href='https://wandb.ai/ed24s401-indian-institute-of-technology-madras/q4_sweep_project/runs/kuspv0cm' target=\"_blank\">https://wandb.ai/ed24s401-indian-institute-of-technology-madras/q4_sweep_project/runs/kuspv0cm</a><br> View project at: <a href='https://wandb.ai/ed24s401-indian-institute-of-technology-madras/q4_sweep_project' target=\"_blank\">https://wandb.ai/ed24s401-indian-institute-of-technology-madras/q4_sweep_project</a><br>Synced 5 W&B file(s), 0 media file(s), 0 artifact file(s) and 0 other file(s)"
      ],
      "text/plain": [
       "<IPython.core.display.HTML object>"
      ]
     },
     "metadata": {},
     "output_type": "display_data"
    },
    {
     "data": {
      "text/html": [
       "Find logs at: <code>.\\wandb\\run-20250317_141529-kuspv0cm\\logs</code>"
      ],
      "text/plain": [
       "<IPython.core.display.HTML object>"
      ]
     },
     "metadata": {},
     "output_type": "display_data"
    },
    {
     "name": "stderr",
     "output_type": "stream",
     "text": [
      "\u001b[34m\u001b[1mwandb\u001b[0m: Agent Starting Run: sfas1vq6 with config:\n",
      "\u001b[34m\u001b[1mwandb\u001b[0m: \tactivation: relu\n",
      "\u001b[34m\u001b[1mwandb\u001b[0m: \tbatch_size: 32\n",
      "\u001b[34m\u001b[1mwandb\u001b[0m: \tbeta1: 0.9\n",
      "\u001b[34m\u001b[1mwandb\u001b[0m: \tbeta2: 0.999\n",
      "\u001b[34m\u001b[1mwandb\u001b[0m: \tbeta_rms: 0.9\n",
      "\u001b[34m\u001b[1mwandb\u001b[0m: \tepochs: 15\n",
      "\u001b[34m\u001b[1mwandb\u001b[0m: \tepsilon: 1e-08\n",
      "\u001b[34m\u001b[1mwandb\u001b[0m: \thidden_size: 64\n",
      "\u001b[34m\u001b[1mwandb\u001b[0m: \tinit_type: xavier\n",
      "\u001b[34m\u001b[1mwandb\u001b[0m: \tlearning_rate: 0.001\n",
      "\u001b[34m\u001b[1mwandb\u001b[0m: \tmomentum: 0.9\n",
      "\u001b[34m\u001b[1mwandb\u001b[0m: \tnum_hidden_layers: 3\n",
      "\u001b[34m\u001b[1mwandb\u001b[0m: \toptimizer: adam\n",
      "\u001b[34m\u001b[1mwandb\u001b[0m: \tweight_decay: 0\n"
     ]
    },
    {
     "data": {
      "text/html": [
       "creating run (0.1s)"
      ],
      "text/plain": [
       "<IPython.core.display.HTML object>"
      ]
     },
     "metadata": {},
     "output_type": "display_data"
    },
    {
     "data": {
      "text/html": [
       "Tracking run with wandb version 0.19.8"
      ],
      "text/plain": [
       "<IPython.core.display.HTML object>"
      ]
     },
     "metadata": {},
     "output_type": "display_data"
    },
    {
     "data": {
      "text/html": [
       "Run data is saved locally in <code>d:\\IIT M\\SEM2\\ED5340Data Science Theory and practice\\Practice\\wandb\\run-20250317_141927-sfas1vq6</code>"
      ],
      "text/plain": [
       "<IPython.core.display.HTML object>"
      ]
     },
     "metadata": {},
     "output_type": "display_data"
    },
    {
     "data": {
      "text/html": [
       "Syncing run <strong><a href='https://wandb.ai/ed24s401-indian-institute-of-technology-madras/q4_sweep_project/runs/sfas1vq6' target=\"_blank\">trim-sweep-7</a></strong> to <a href='https://wandb.ai/ed24s401-indian-institute-of-technology-madras/q4_sweep_project' target=\"_blank\">Weights & Biases</a> (<a href='https://wandb.me/developer-guide' target=\"_blank\">docs</a>)<br>Sweep page: <a href='https://wandb.ai/ed24s401-indian-institute-of-technology-madras/q4_sweep_project/sweeps/fqdtz4g7' target=\"_blank\">https://wandb.ai/ed24s401-indian-institute-of-technology-madras/q4_sweep_project/sweeps/fqdtz4g7</a>"
      ],
      "text/plain": [
       "<IPython.core.display.HTML object>"
      ]
     },
     "metadata": {},
     "output_type": "display_data"
    },
    {
     "data": {
      "text/html": [
       " View project at <a href='https://wandb.ai/ed24s401-indian-institute-of-technology-madras/q4_sweep_project' target=\"_blank\">https://wandb.ai/ed24s401-indian-institute-of-technology-madras/q4_sweep_project</a>"
      ],
      "text/plain": [
       "<IPython.core.display.HTML object>"
      ]
     },
     "metadata": {},
     "output_type": "display_data"
    },
    {
     "data": {
      "text/html": [
       " View sweep at <a href='https://wandb.ai/ed24s401-indian-institute-of-technology-madras/q4_sweep_project/sweeps/fqdtz4g7' target=\"_blank\">https://wandb.ai/ed24s401-indian-institute-of-technology-madras/q4_sweep_project/sweeps/fqdtz4g7</a>"
      ],
      "text/plain": [
       "<IPython.core.display.HTML object>"
      ]
     },
     "metadata": {},
     "output_type": "display_data"
    },
    {
     "data": {
      "text/html": [
       " View run at <a href='https://wandb.ai/ed24s401-indian-institute-of-technology-madras/q4_sweep_project/runs/sfas1vq6' target=\"_blank\">https://wandb.ai/ed24s401-indian-institute-of-technology-madras/q4_sweep_project/runs/sfas1vq6</a>"
      ],
      "text/plain": [
       "<IPython.core.display.HTML object>"
      ]
     },
     "metadata": {},
     "output_type": "display_data"
    },
    {
     "name": "stdout",
     "output_type": "stream",
     "text": [
      "Epoch 1/15 - loss=0.5227, val_acc=0.8418, val_loss=0.4190571691064101\n",
      "Epoch 2/15 - loss=0.3794, val_acc=0.8588, val_loss=0.38165079268040614\n",
      "Epoch 3/15 - loss=0.3448, val_acc=0.8722, val_loss=0.3394224718640618\n",
      "Epoch 4/15 - loss=0.3230, val_acc=0.8742, val_loss=0.33376045545819505\n",
      "Epoch 5/15 - loss=0.3045, val_acc=0.8765, val_loss=0.3328886604925862\n",
      "Epoch 6/15 - loss=0.2925, val_acc=0.8813, val_loss=0.32026988218612995\n",
      "Epoch 7/15 - loss=0.2806, val_acc=0.8793, val_loss=0.3319029520970732\n",
      "Epoch 8/15 - loss=0.2715, val_acc=0.8825, val_loss=0.3093203109126555\n",
      "Epoch 9/15 - loss=0.2600, val_acc=0.8850, val_loss=0.3084745316614946\n",
      "Epoch 10/15 - loss=0.2517, val_acc=0.8825, val_loss=0.31247891546735035\n",
      "Epoch 11/15 - loss=0.2457, val_acc=0.8768, val_loss=0.32989977623803163\n",
      "Epoch 12/15 - loss=0.2384, val_acc=0.8865, val_loss=0.3035031063714345\n",
      "Epoch 13/15 - loss=0.2320, val_acc=0.8825, val_loss=0.3233565565951363\n",
      "Epoch 14/15 - loss=0.2275, val_acc=0.8913, val_loss=0.29329948867355904\n",
      "Epoch 15/15 - loss=0.2212, val_acc=0.8830, val_loss=0.32809202861276526\n",
      "test accuracy  0.8773\n"
     ]
    },
    {
     "data": {
      "text/html": [],
      "text/plain": [
       "<IPython.core.display.HTML object>"
      ]
     },
     "metadata": {},
     "output_type": "display_data"
    },
    {
     "data": {
      "text/html": [
       "<br>    <style><br>        .wandb-row {<br>            display: flex;<br>            flex-direction: row;<br>            flex-wrap: wrap;<br>            justify-content: flex-start;<br>            width: 100%;<br>        }<br>        .wandb-col {<br>            display: flex;<br>            flex-direction: column;<br>            flex-basis: 100%;<br>            flex: 1;<br>            padding: 10px;<br>        }<br>    </style><br><div class=\"wandb-row\"><div class=\"wandb-col\"><h3>Run history:</h3><br/><table class=\"wandb\"><tr><td>epoch</td><td>▁▁▂▃▃▃▄▅▅▅▆▇▇▇█</td></tr><tr><td>test_accuracy</td><td>▁</td></tr><tr><td>training_loss</td><td>█▅▄▃▃▃▂▂▂▂▂▁▁▁▁</td></tr><tr><td>validation loss</td><td>█▆▄▃▃▃▃▂▂▂▃▂▃▁▃</td></tr><tr><td>validation_accuracy</td><td>▁▃▅▆▆▇▆▇▇▇▆▇▇█▇</td></tr></table><br/></div><div class=\"wandb-col\"><h3>Run summary:</h3><br/><table class=\"wandb\"><tr><td>epoch</td><td>15</td></tr><tr><td>test_accuracy</td><td>0.8773</td></tr><tr><td>training_loss</td><td>0.2212</td></tr><tr><td>validation loss</td><td>0.32809</td></tr><tr><td>validation_accuracy</td><td>0.883</td></tr></table><br/></div></div>"
      ],
      "text/plain": [
       "<IPython.core.display.HTML object>"
      ]
     },
     "metadata": {},
     "output_type": "display_data"
    },
    {
     "data": {
      "text/html": [
       " View run <strong style=\"color:#cdcd00\">hl_3_bs_32_ac_relu_opt_adam</strong> at: <a href='https://wandb.ai/ed24s401-indian-institute-of-technology-madras/q4_sweep_project/runs/sfas1vq6' target=\"_blank\">https://wandb.ai/ed24s401-indian-institute-of-technology-madras/q4_sweep_project/runs/sfas1vq6</a><br> View project at: <a href='https://wandb.ai/ed24s401-indian-institute-of-technology-madras/q4_sweep_project' target=\"_blank\">https://wandb.ai/ed24s401-indian-institute-of-technology-madras/q4_sweep_project</a><br>Synced 5 W&B file(s), 0 media file(s), 0 artifact file(s) and 0 other file(s)"
      ],
      "text/plain": [
       "<IPython.core.display.HTML object>"
      ]
     },
     "metadata": {},
     "output_type": "display_data"
    },
    {
     "data": {
      "text/html": [
       "Find logs at: <code>.\\wandb\\run-20250317_141927-sfas1vq6\\logs</code>"
      ],
      "text/plain": [
       "<IPython.core.display.HTML object>"
      ]
     },
     "metadata": {},
     "output_type": "display_data"
    },
    {
     "name": "stderr",
     "output_type": "stream",
     "text": [
      "\u001b[34m\u001b[1mwandb\u001b[0m: Agent Starting Run: x80z2wtp with config:\n",
      "\u001b[34m\u001b[1mwandb\u001b[0m: \tactivation: relu\n",
      "\u001b[34m\u001b[1mwandb\u001b[0m: \tbatch_size: 32\n",
      "\u001b[34m\u001b[1mwandb\u001b[0m: \tbeta1: 0.9\n",
      "\u001b[34m\u001b[1mwandb\u001b[0m: \tbeta2: 0.999\n",
      "\u001b[34m\u001b[1mwandb\u001b[0m: \tbeta_rms: 0.9\n",
      "\u001b[34m\u001b[1mwandb\u001b[0m: \tepochs: 15\n",
      "\u001b[34m\u001b[1mwandb\u001b[0m: \tepsilon: 1e-08\n",
      "\u001b[34m\u001b[1mwandb\u001b[0m: \thidden_size: 64\n",
      "\u001b[34m\u001b[1mwandb\u001b[0m: \tinit_type: xavier\n",
      "\u001b[34m\u001b[1mwandb\u001b[0m: \tlearning_rate: 0.0001\n",
      "\u001b[34m\u001b[1mwandb\u001b[0m: \tmomentum: 0.9\n",
      "\u001b[34m\u001b[1mwandb\u001b[0m: \tnum_hidden_layers: 3\n",
      "\u001b[34m\u001b[1mwandb\u001b[0m: \toptimizer: adam\n",
      "\u001b[34m\u001b[1mwandb\u001b[0m: \tweight_decay: 0\n"
     ]
    },
    {
     "data": {
      "text/html": [],
      "text/plain": [
       "<IPython.core.display.HTML object>"
      ]
     },
     "metadata": {},
     "output_type": "display_data"
    },
    {
     "data": {
      "text/html": [
       "Tracking run with wandb version 0.19.8"
      ],
      "text/plain": [
       "<IPython.core.display.HTML object>"
      ]
     },
     "metadata": {},
     "output_type": "display_data"
    },
    {
     "data": {
      "text/html": [
       "Run data is saved locally in <code>d:\\IIT M\\SEM2\\ED5340Data Science Theory and practice\\Practice\\wandb\\run-20250317_142113-x80z2wtp</code>"
      ],
      "text/plain": [
       "<IPython.core.display.HTML object>"
      ]
     },
     "metadata": {},
     "output_type": "display_data"
    },
    {
     "data": {
      "text/html": [
       "Syncing run <strong><a href='https://wandb.ai/ed24s401-indian-institute-of-technology-madras/q4_sweep_project/runs/x80z2wtp' target=\"_blank\">dry-sweep-8</a></strong> to <a href='https://wandb.ai/ed24s401-indian-institute-of-technology-madras/q4_sweep_project' target=\"_blank\">Weights & Biases</a> (<a href='https://wandb.me/developer-guide' target=\"_blank\">docs</a>)<br>Sweep page: <a href='https://wandb.ai/ed24s401-indian-institute-of-technology-madras/q4_sweep_project/sweeps/fqdtz4g7' target=\"_blank\">https://wandb.ai/ed24s401-indian-institute-of-technology-madras/q4_sweep_project/sweeps/fqdtz4g7</a>"
      ],
      "text/plain": [
       "<IPython.core.display.HTML object>"
      ]
     },
     "metadata": {},
     "output_type": "display_data"
    },
    {
     "data": {
      "text/html": [
       " View project at <a href='https://wandb.ai/ed24s401-indian-institute-of-technology-madras/q4_sweep_project' target=\"_blank\">https://wandb.ai/ed24s401-indian-institute-of-technology-madras/q4_sweep_project</a>"
      ],
      "text/plain": [
       "<IPython.core.display.HTML object>"
      ]
     },
     "metadata": {},
     "output_type": "display_data"
    },
    {
     "data": {
      "text/html": [
       " View sweep at <a href='https://wandb.ai/ed24s401-indian-institute-of-technology-madras/q4_sweep_project/sweeps/fqdtz4g7' target=\"_blank\">https://wandb.ai/ed24s401-indian-institute-of-technology-madras/q4_sweep_project/sweeps/fqdtz4g7</a>"
      ],
      "text/plain": [
       "<IPython.core.display.HTML object>"
      ]
     },
     "metadata": {},
     "output_type": "display_data"
    },
    {
     "data": {
      "text/html": [
       " View run at <a href='https://wandb.ai/ed24s401-indian-institute-of-technology-madras/q4_sweep_project/runs/x80z2wtp' target=\"_blank\">https://wandb.ai/ed24s401-indian-institute-of-technology-madras/q4_sweep_project/runs/x80z2wtp</a>"
      ],
      "text/plain": [
       "<IPython.core.display.HTML object>"
      ]
     },
     "metadata": {},
     "output_type": "display_data"
    },
    {
     "name": "stdout",
     "output_type": "stream",
     "text": [
      "Epoch 1/15 - loss=0.7933, val_acc=0.8160, val_loss=0.5245966101830507\n",
      "Epoch 2/15 - loss=0.4833, val_acc=0.8368, val_loss=0.4603758925063214\n",
      "Epoch 3/15 - loss=0.4372, val_acc=0.8405, val_loss=0.43951944542969096\n",
      "Epoch 4/15 - loss=0.4108, val_acc=0.8535, val_loss=0.4092619256140888\n",
      "Epoch 5/15 - loss=0.3916, val_acc=0.8582, val_loss=0.3980041108024879\n",
      "Epoch 6/15 - loss=0.3772, val_acc=0.8598, val_loss=0.3870382981188369\n",
      "Epoch 7/15 - loss=0.3651, val_acc=0.8555, val_loss=0.38731085643957164\n",
      "Epoch 8/15 - loss=0.3544, val_acc=0.8698, val_loss=0.36207905602593593\n",
      "Epoch 9/15 - loss=0.3441, val_acc=0.8733, val_loss=0.35626490768384306\n",
      "Epoch 10/15 - loss=0.3373, val_acc=0.8743, val_loss=0.3521419088860554\n",
      "Epoch 11/15 - loss=0.3278, val_acc=0.8713, val_loss=0.3560201447453623\n",
      "Epoch 12/15 - loss=0.3235, val_acc=0.8750, val_loss=0.34315261245936207\n",
      "Epoch 13/15 - loss=0.3160, val_acc=0.8735, val_loss=0.3422829032823996\n",
      "Epoch 14/15 - loss=0.3113, val_acc=0.8725, val_loss=0.34418188888518186\n",
      "Epoch 15/15 - loss=0.3062, val_acc=0.8800, val_loss=0.3249721102461755\n",
      "test accuracy  0.8717\n"
     ]
    },
    {
     "data": {
      "text/html": [],
      "text/plain": [
       "<IPython.core.display.HTML object>"
      ]
     },
     "metadata": {},
     "output_type": "display_data"
    },
    {
     "data": {
      "text/html": [
       "<br>    <style><br>        .wandb-row {<br>            display: flex;<br>            flex-direction: row;<br>            flex-wrap: wrap;<br>            justify-content: flex-start;<br>            width: 100%;<br>        }<br>        .wandb-col {<br>            display: flex;<br>            flex-direction: column;<br>            flex-basis: 100%;<br>            flex: 1;<br>            padding: 10px;<br>        }<br>    </style><br><div class=\"wandb-row\"><div class=\"wandb-col\"><h3>Run history:</h3><br/><table class=\"wandb\"><tr><td>epoch</td><td>▁▁▂▃▃▃▄▅▅▅▆▇▇▇█</td></tr><tr><td>test_accuracy</td><td>▁</td></tr><tr><td>training_loss</td><td>█▄▃▃▂▂▂▂▂▁▁▁▁▁▁</td></tr><tr><td>validation loss</td><td>█▆▅▄▄▃▃▂▂▂▂▂▂▂▁</td></tr><tr><td>validation_accuracy</td><td>▁▃▄▅▆▆▅▇▇▇▇▇▇▇█</td></tr></table><br/></div><div class=\"wandb-col\"><h3>Run summary:</h3><br/><table class=\"wandb\"><tr><td>epoch</td><td>15</td></tr><tr><td>test_accuracy</td><td>0.8717</td></tr><tr><td>training_loss</td><td>0.30619</td></tr><tr><td>validation loss</td><td>0.32497</td></tr><tr><td>validation_accuracy</td><td>0.88</td></tr></table><br/></div></div>"
      ],
      "text/plain": [
       "<IPython.core.display.HTML object>"
      ]
     },
     "metadata": {},
     "output_type": "display_data"
    },
    {
     "data": {
      "text/html": [
       " View run <strong style=\"color:#cdcd00\">hl_3_bs_32_ac_relu_opt_adam</strong> at: <a href='https://wandb.ai/ed24s401-indian-institute-of-technology-madras/q4_sweep_project/runs/x80z2wtp' target=\"_blank\">https://wandb.ai/ed24s401-indian-institute-of-technology-madras/q4_sweep_project/runs/x80z2wtp</a><br> View project at: <a href='https://wandb.ai/ed24s401-indian-institute-of-technology-madras/q4_sweep_project' target=\"_blank\">https://wandb.ai/ed24s401-indian-institute-of-technology-madras/q4_sweep_project</a><br>Synced 5 W&B file(s), 0 media file(s), 0 artifact file(s) and 0 other file(s)"
      ],
      "text/plain": [
       "<IPython.core.display.HTML object>"
      ]
     },
     "metadata": {},
     "output_type": "display_data"
    },
    {
     "data": {
      "text/html": [
       "Find logs at: <code>.\\wandb\\run-20250317_142113-x80z2wtp\\logs</code>"
      ],
      "text/plain": [
       "<IPython.core.display.HTML object>"
      ]
     },
     "metadata": {},
     "output_type": "display_data"
    },
    {
     "name": "stderr",
     "output_type": "stream",
     "text": [
      "\u001b[34m\u001b[1mwandb\u001b[0m: Sweep Agent: Waiting for job.\n",
      "\u001b[34m\u001b[1mwandb\u001b[0m: Job received.\n",
      "\u001b[34m\u001b[1mwandb\u001b[0m: Agent Starting Run: rme04wsv with config:\n",
      "\u001b[34m\u001b[1mwandb\u001b[0m: \tactivation: relu\n",
      "\u001b[34m\u001b[1mwandb\u001b[0m: \tbatch_size: 32\n",
      "\u001b[34m\u001b[1mwandb\u001b[0m: \tbeta1: 0.9\n",
      "\u001b[34m\u001b[1mwandb\u001b[0m: \tbeta2: 0.999\n",
      "\u001b[34m\u001b[1mwandb\u001b[0m: \tbeta_rms: 0.9\n",
      "\u001b[34m\u001b[1mwandb\u001b[0m: \tepochs: 15\n",
      "\u001b[34m\u001b[1mwandb\u001b[0m: \tepsilon: 1e-08\n",
      "\u001b[34m\u001b[1mwandb\u001b[0m: \thidden_size: 64\n",
      "\u001b[34m\u001b[1mwandb\u001b[0m: \tinit_type: xavier\n",
      "\u001b[34m\u001b[1mwandb\u001b[0m: \tlearning_rate: 0.0001\n",
      "\u001b[34m\u001b[1mwandb\u001b[0m: \tmomentum: 0.9\n",
      "\u001b[34m\u001b[1mwandb\u001b[0m: \tnum_hidden_layers: 4\n",
      "\u001b[34m\u001b[1mwandb\u001b[0m: \toptimizer: nadam\n",
      "\u001b[34m\u001b[1mwandb\u001b[0m: \tweight_decay: 0\n"
     ]
    },
    {
     "data": {
      "text/html": [
       "creating run (0.1s)"
      ],
      "text/plain": [
       "<IPython.core.display.HTML object>"
      ]
     },
     "metadata": {},
     "output_type": "display_data"
    },
    {
     "data": {
      "text/html": [
       "Tracking run with wandb version 0.19.8"
      ],
      "text/plain": [
       "<IPython.core.display.HTML object>"
      ]
     },
     "metadata": {},
     "output_type": "display_data"
    },
    {
     "data": {
      "text/html": [
       "Run data is saved locally in <code>d:\\IIT M\\SEM2\\ED5340Data Science Theory and practice\\Practice\\wandb\\run-20250317_142304-rme04wsv</code>"
      ],
      "text/plain": [
       "<IPython.core.display.HTML object>"
      ]
     },
     "metadata": {},
     "output_type": "display_data"
    },
    {
     "data": {
      "text/html": [
       "Syncing run <strong><a href='https://wandb.ai/ed24s401-indian-institute-of-technology-madras/q4_sweep_project/runs/rme04wsv' target=\"_blank\">rosy-sweep-9</a></strong> to <a href='https://wandb.ai/ed24s401-indian-institute-of-technology-madras/q4_sweep_project' target=\"_blank\">Weights & Biases</a> (<a href='https://wandb.me/developer-guide' target=\"_blank\">docs</a>)<br>Sweep page: <a href='https://wandb.ai/ed24s401-indian-institute-of-technology-madras/q4_sweep_project/sweeps/fqdtz4g7' target=\"_blank\">https://wandb.ai/ed24s401-indian-institute-of-technology-madras/q4_sweep_project/sweeps/fqdtz4g7</a>"
      ],
      "text/plain": [
       "<IPython.core.display.HTML object>"
      ]
     },
     "metadata": {},
     "output_type": "display_data"
    },
    {
     "data": {
      "text/html": [
       " View project at <a href='https://wandb.ai/ed24s401-indian-institute-of-technology-madras/q4_sweep_project' target=\"_blank\">https://wandb.ai/ed24s401-indian-institute-of-technology-madras/q4_sweep_project</a>"
      ],
      "text/plain": [
       "<IPython.core.display.HTML object>"
      ]
     },
     "metadata": {},
     "output_type": "display_data"
    },
    {
     "data": {
      "text/html": [
       " View sweep at <a href='https://wandb.ai/ed24s401-indian-institute-of-technology-madras/q4_sweep_project/sweeps/fqdtz4g7' target=\"_blank\">https://wandb.ai/ed24s401-indian-institute-of-technology-madras/q4_sweep_project/sweeps/fqdtz4g7</a>"
      ],
      "text/plain": [
       "<IPython.core.display.HTML object>"
      ]
     },
     "metadata": {},
     "output_type": "display_data"
    },
    {
     "data": {
      "text/html": [
       " View run at <a href='https://wandb.ai/ed24s401-indian-institute-of-technology-madras/q4_sweep_project/runs/rme04wsv' target=\"_blank\">https://wandb.ai/ed24s401-indian-institute-of-technology-madras/q4_sweep_project/runs/rme04wsv</a>"
      ],
      "text/plain": [
       "<IPython.core.display.HTML object>"
      ]
     },
     "metadata": {},
     "output_type": "display_data"
    },
    {
     "name": "stdout",
     "output_type": "stream",
     "text": [
      "Epoch 1/15 - loss=0.7885, val_acc=0.8087, val_loss=0.5533356808456145\n",
      "Epoch 2/15 - loss=0.4806, val_acc=0.8382, val_loss=0.4575927928078974\n",
      "Epoch 3/15 - loss=0.4284, val_acc=0.8500, val_loss=0.4310807654363351\n",
      "Epoch 4/15 - loss=0.4017, val_acc=0.8565, val_loss=0.401306930252314\n",
      "Epoch 5/15 - loss=0.3836, val_acc=0.8592, val_loss=0.3914466705850863\n",
      "Epoch 6/15 - loss=0.3710, val_acc=0.8632, val_loss=0.3823828862680102\n",
      "Epoch 7/15 - loss=0.3590, val_acc=0.8658, val_loss=0.3703948660501879\n",
      "Epoch 8/15 - loss=0.3491, val_acc=0.8693, val_loss=0.3625794887560769\n",
      "Epoch 9/15 - loss=0.3400, val_acc=0.8653, val_loss=0.3626237102509242\n",
      "Epoch 10/15 - loss=0.3332, val_acc=0.8648, val_loss=0.3555114453265892\n",
      "Epoch 11/15 - loss=0.3258, val_acc=0.8735, val_loss=0.3515976609162414\n",
      "Epoch 12/15 - loss=0.3186, val_acc=0.8767, val_loss=0.34292758133342993\n",
      "Epoch 13/15 - loss=0.3125, val_acc=0.8745, val_loss=0.3478598843153571\n",
      "Epoch 14/15 - loss=0.3068, val_acc=0.8775, val_loss=0.34019948414623197\n",
      "Epoch 15/15 - loss=0.3015, val_acc=0.8773, val_loss=0.33879042822337174\n",
      "test accuracy  0.8706\n"
     ]
    },
    {
     "data": {
      "text/html": [],
      "text/plain": [
       "<IPython.core.display.HTML object>"
      ]
     },
     "metadata": {},
     "output_type": "display_data"
    },
    {
     "data": {
      "text/html": [
       "<br>    <style><br>        .wandb-row {<br>            display: flex;<br>            flex-direction: row;<br>            flex-wrap: wrap;<br>            justify-content: flex-start;<br>            width: 100%;<br>        }<br>        .wandb-col {<br>            display: flex;<br>            flex-direction: column;<br>            flex-basis: 100%;<br>            flex: 1;<br>            padding: 10px;<br>        }<br>    </style><br><div class=\"wandb-row\"><div class=\"wandb-col\"><h3>Run history:</h3><br/><table class=\"wandb\"><tr><td>epoch</td><td>▁▁▂▃▃▃▄▅▅▅▆▇▇▇█</td></tr><tr><td>test_accuracy</td><td>▁</td></tr><tr><td>training_loss</td><td>█▄▃▂▂▂▂▂▂▁▁▁▁▁▁</td></tr><tr><td>validation loss</td><td>█▅▄▃▃▂▂▂▂▂▁▁▁▁▁</td></tr><tr><td>validation_accuracy</td><td>▁▄▅▆▆▇▇▇▇▇█████</td></tr></table><br/></div><div class=\"wandb-col\"><h3>Run summary:</h3><br/><table class=\"wandb\"><tr><td>epoch</td><td>15</td></tr><tr><td>test_accuracy</td><td>0.8706</td></tr><tr><td>training_loss</td><td>0.30154</td></tr><tr><td>validation loss</td><td>0.33879</td></tr><tr><td>validation_accuracy</td><td>0.87733</td></tr></table><br/></div></div>"
      ],
      "text/plain": [
       "<IPython.core.display.HTML object>"
      ]
     },
     "metadata": {},
     "output_type": "display_data"
    },
    {
     "data": {
      "text/html": [
       " View run <strong style=\"color:#cdcd00\">hl_4_bs_32_ac_relu_opt_nadam</strong> at: <a href='https://wandb.ai/ed24s401-indian-institute-of-technology-madras/q4_sweep_project/runs/rme04wsv' target=\"_blank\">https://wandb.ai/ed24s401-indian-institute-of-technology-madras/q4_sweep_project/runs/rme04wsv</a><br> View project at: <a href='https://wandb.ai/ed24s401-indian-institute-of-technology-madras/q4_sweep_project' target=\"_blank\">https://wandb.ai/ed24s401-indian-institute-of-technology-madras/q4_sweep_project</a><br>Synced 5 W&B file(s), 0 media file(s), 0 artifact file(s) and 0 other file(s)"
      ],
      "text/plain": [
       "<IPython.core.display.HTML object>"
      ]
     },
     "metadata": {},
     "output_type": "display_data"
    },
    {
     "data": {
      "text/html": [
       "Find logs at: <code>.\\wandb\\run-20250317_142304-rme04wsv\\logs</code>"
      ],
      "text/plain": [
       "<IPython.core.display.HTML object>"
      ]
     },
     "metadata": {},
     "output_type": "display_data"
    },
    {
     "name": "stderr",
     "output_type": "stream",
     "text": [
      "\u001b[34m\u001b[1mwandb\u001b[0m: Agent Starting Run: 428bnhlq with config:\n",
      "\u001b[34m\u001b[1mwandb\u001b[0m: \tactivation: relu\n",
      "\u001b[34m\u001b[1mwandb\u001b[0m: \tbatch_size: 32\n",
      "\u001b[34m\u001b[1mwandb\u001b[0m: \tbeta1: 0.9\n",
      "\u001b[34m\u001b[1mwandb\u001b[0m: \tbeta2: 0.999\n",
      "\u001b[34m\u001b[1mwandb\u001b[0m: \tbeta_rms: 0.9\n",
      "\u001b[34m\u001b[1mwandb\u001b[0m: \tepochs: 15\n",
      "\u001b[34m\u001b[1mwandb\u001b[0m: \tepsilon: 1e-08\n",
      "\u001b[34m\u001b[1mwandb\u001b[0m: \thidden_size: 64\n",
      "\u001b[34m\u001b[1mwandb\u001b[0m: \tinit_type: xavier\n",
      "\u001b[34m\u001b[1mwandb\u001b[0m: \tlearning_rate: 0.001\n",
      "\u001b[34m\u001b[1mwandb\u001b[0m: \tmomentum: 0.9\n",
      "\u001b[34m\u001b[1mwandb\u001b[0m: \tnum_hidden_layers: 3\n",
      "\u001b[34m\u001b[1mwandb\u001b[0m: \toptimizer: nadam\n",
      "\u001b[34m\u001b[1mwandb\u001b[0m: \tweight_decay: 0\n"
     ]
    },
    {
     "data": {
      "text/html": [],
      "text/plain": [
       "<IPython.core.display.HTML object>"
      ]
     },
     "metadata": {},
     "output_type": "display_data"
    },
    {
     "data": {
      "text/html": [
       "Tracking run with wandb version 0.19.8"
      ],
      "text/plain": [
       "<IPython.core.display.HTML object>"
      ]
     },
     "metadata": {},
     "output_type": "display_data"
    },
    {
     "data": {
      "text/html": [
       "Run data is saved locally in <code>d:\\IIT M\\SEM2\\ED5340Data Science Theory and practice\\Practice\\wandb\\run-20250317_142512-428bnhlq</code>"
      ],
      "text/plain": [
       "<IPython.core.display.HTML object>"
      ]
     },
     "metadata": {},
     "output_type": "display_data"
    },
    {
     "data": {
      "text/html": [
       "Syncing run <strong><a href='https://wandb.ai/ed24s401-indian-institute-of-technology-madras/q4_sweep_project/runs/428bnhlq' target=\"_blank\">grateful-sweep-10</a></strong> to <a href='https://wandb.ai/ed24s401-indian-institute-of-technology-madras/q4_sweep_project' target=\"_blank\">Weights & Biases</a> (<a href='https://wandb.me/developer-guide' target=\"_blank\">docs</a>)<br>Sweep page: <a href='https://wandb.ai/ed24s401-indian-institute-of-technology-madras/q4_sweep_project/sweeps/fqdtz4g7' target=\"_blank\">https://wandb.ai/ed24s401-indian-institute-of-technology-madras/q4_sweep_project/sweeps/fqdtz4g7</a>"
      ],
      "text/plain": [
       "<IPython.core.display.HTML object>"
      ]
     },
     "metadata": {},
     "output_type": "display_data"
    },
    {
     "data": {
      "text/html": [
       " View project at <a href='https://wandb.ai/ed24s401-indian-institute-of-technology-madras/q4_sweep_project' target=\"_blank\">https://wandb.ai/ed24s401-indian-institute-of-technology-madras/q4_sweep_project</a>"
      ],
      "text/plain": [
       "<IPython.core.display.HTML object>"
      ]
     },
     "metadata": {},
     "output_type": "display_data"
    },
    {
     "data": {
      "text/html": [
       " View sweep at <a href='https://wandb.ai/ed24s401-indian-institute-of-technology-madras/q4_sweep_project/sweeps/fqdtz4g7' target=\"_blank\">https://wandb.ai/ed24s401-indian-institute-of-technology-madras/q4_sweep_project/sweeps/fqdtz4g7</a>"
      ],
      "text/plain": [
       "<IPython.core.display.HTML object>"
      ]
     },
     "metadata": {},
     "output_type": "display_data"
    },
    {
     "data": {
      "text/html": [
       " View run at <a href='https://wandb.ai/ed24s401-indian-institute-of-technology-madras/q4_sweep_project/runs/428bnhlq' target=\"_blank\">https://wandb.ai/ed24s401-indian-institute-of-technology-madras/q4_sweep_project/runs/428bnhlq</a>"
      ],
      "text/plain": [
       "<IPython.core.display.HTML object>"
      ]
     },
     "metadata": {},
     "output_type": "display_data"
    },
    {
     "name": "stdout",
     "output_type": "stream",
     "text": [
      "Epoch 1/15 - loss=0.5133, val_acc=0.8485, val_loss=0.4114296920941669\n",
      "Epoch 2/15 - loss=0.3796, val_acc=0.8603, val_loss=0.3794051494724149\n",
      "Epoch 3/15 - loss=0.3459, val_acc=0.8763, val_loss=0.33713876249912106\n",
      "Epoch 4/15 - loss=0.3222, val_acc=0.8700, val_loss=0.34271211559632137\n",
      "Epoch 5/15 - loss=0.3044, val_acc=0.8753, val_loss=0.3313880690685784\n",
      "Epoch 6/15 - loss=0.2903, val_acc=0.8735, val_loss=0.3363463944589117\n",
      "Epoch 7/15 - loss=0.2790, val_acc=0.8783, val_loss=0.32034813919621125\n",
      "Epoch 8/15 - loss=0.2700, val_acc=0.8845, val_loss=0.31434802523022465\n",
      "Epoch 9/15 - loss=0.2598, val_acc=0.8873, val_loss=0.313987339211229\n",
      "Epoch 10/15 - loss=0.2496, val_acc=0.8768, val_loss=0.33179118224869625\n",
      "Epoch 11/15 - loss=0.2447, val_acc=0.8833, val_loss=0.323373830177318\n",
      "Epoch 12/15 - loss=0.2356, val_acc=0.8862, val_loss=0.3169624628450392\n",
      "Epoch 13/15 - loss=0.2317, val_acc=0.8805, val_loss=0.32292701420760844\n",
      "Epoch 14/15 - loss=0.2261, val_acc=0.8872, val_loss=0.3094077637191036\n",
      "Epoch 15/15 - loss=0.2173, val_acc=0.8912, val_loss=0.3032175031927561\n",
      "test accuracy  0.8867\n"
     ]
    },
    {
     "data": {
      "text/html": [],
      "text/plain": [
       "<IPython.core.display.HTML object>"
      ]
     },
     "metadata": {},
     "output_type": "display_data"
    },
    {
     "data": {
      "text/html": [
       "<br>    <style><br>        .wandb-row {<br>            display: flex;<br>            flex-direction: row;<br>            flex-wrap: wrap;<br>            justify-content: flex-start;<br>            width: 100%;<br>        }<br>        .wandb-col {<br>            display: flex;<br>            flex-direction: column;<br>            flex-basis: 100%;<br>            flex: 1;<br>            padding: 10px;<br>        }<br>    </style><br><div class=\"wandb-row\"><div class=\"wandb-col\"><h3>Run history:</h3><br/><table class=\"wandb\"><tr><td>epoch</td><td>▁▁▂▃▃▃▄▅▅▅▆▇▇▇█</td></tr><tr><td>test_accuracy</td><td>▁</td></tr><tr><td>training_loss</td><td>█▅▄▃▃▃▂▂▂▂▂▁▁▁▁</td></tr><tr><td>validation loss</td><td>█▆▃▄▃▃▂▂▂▃▂▂▂▁▁</td></tr><tr><td>validation_accuracy</td><td>▁▃▆▅▅▅▆▇▇▆▇▇▆▇█</td></tr></table><br/></div><div class=\"wandb-col\"><h3>Run summary:</h3><br/><table class=\"wandb\"><tr><td>epoch</td><td>15</td></tr><tr><td>test_accuracy</td><td>0.8867</td></tr><tr><td>training_loss</td><td>0.21732</td></tr><tr><td>validation loss</td><td>0.30322</td></tr><tr><td>validation_accuracy</td><td>0.89117</td></tr></table><br/></div></div>"
      ],
      "text/plain": [
       "<IPython.core.display.HTML object>"
      ]
     },
     "metadata": {},
     "output_type": "display_data"
    },
    {
     "data": {
      "text/html": [
       " View run <strong style=\"color:#cdcd00\">hl_3_bs_32_ac_relu_opt_nadam</strong> at: <a href='https://wandb.ai/ed24s401-indian-institute-of-technology-madras/q4_sweep_project/runs/428bnhlq' target=\"_blank\">https://wandb.ai/ed24s401-indian-institute-of-technology-madras/q4_sweep_project/runs/428bnhlq</a><br> View project at: <a href='https://wandb.ai/ed24s401-indian-institute-of-technology-madras/q4_sweep_project' target=\"_blank\">https://wandb.ai/ed24s401-indian-institute-of-technology-madras/q4_sweep_project</a><br>Synced 5 W&B file(s), 0 media file(s), 0 artifact file(s) and 0 other file(s)"
      ],
      "text/plain": [
       "<IPython.core.display.HTML object>"
      ]
     },
     "metadata": {},
     "output_type": "display_data"
    },
    {
     "data": {
      "text/html": [
       "Find logs at: <code>.\\wandb\\run-20250317_142512-428bnhlq\\logs</code>"
      ],
      "text/plain": [
       "<IPython.core.display.HTML object>"
      ]
     },
     "metadata": {},
     "output_type": "display_data"
    },
    {
     "name": "stderr",
     "output_type": "stream",
     "text": [
      "\u001b[34m\u001b[1mwandb\u001b[0m: Agent Starting Run: 26dscs5d with config:\n",
      "\u001b[34m\u001b[1mwandb\u001b[0m: \tactivation: relu\n",
      "\u001b[34m\u001b[1mwandb\u001b[0m: \tbatch_size: 32\n",
      "\u001b[34m\u001b[1mwandb\u001b[0m: \tbeta1: 0.9\n",
      "\u001b[34m\u001b[1mwandb\u001b[0m: \tbeta2: 0.999\n",
      "\u001b[34m\u001b[1mwandb\u001b[0m: \tbeta_rms: 0.9\n",
      "\u001b[34m\u001b[1mwandb\u001b[0m: \tepochs: 15\n",
      "\u001b[34m\u001b[1mwandb\u001b[0m: \tepsilon: 1e-08\n",
      "\u001b[34m\u001b[1mwandb\u001b[0m: \thidden_size: 64\n",
      "\u001b[34m\u001b[1mwandb\u001b[0m: \tinit_type: random\n",
      "\u001b[34m\u001b[1mwandb\u001b[0m: \tlearning_rate: 0.001\n",
      "\u001b[34m\u001b[1mwandb\u001b[0m: \tmomentum: 0.9\n",
      "\u001b[34m\u001b[1mwandb\u001b[0m: \tnum_hidden_layers: 3\n",
      "\u001b[34m\u001b[1mwandb\u001b[0m: \toptimizer: nadam\n",
      "\u001b[34m\u001b[1mwandb\u001b[0m: \tweight_decay: 0\n"
     ]
    },
    {
     "data": {
      "text/html": [
       "Tracking run with wandb version 0.19.8"
      ],
      "text/plain": [
       "<IPython.core.display.HTML object>"
      ]
     },
     "metadata": {},
     "output_type": "display_data"
    },
    {
     "data": {
      "text/html": [
       "Run data is saved locally in <code>d:\\IIT M\\SEM2\\ED5340Data Science Theory and practice\\Practice\\wandb\\run-20250317_142746-26dscs5d</code>"
      ],
      "text/plain": [
       "<IPython.core.display.HTML object>"
      ]
     },
     "metadata": {},
     "output_type": "display_data"
    },
    {
     "data": {
      "text/html": [
       "Syncing run <strong><a href='https://wandb.ai/ed24s401-indian-institute-of-technology-madras/q4_sweep_project/runs/26dscs5d' target=\"_blank\">vivid-sweep-11</a></strong> to <a href='https://wandb.ai/ed24s401-indian-institute-of-technology-madras/q4_sweep_project' target=\"_blank\">Weights & Biases</a> (<a href='https://wandb.me/developer-guide' target=\"_blank\">docs</a>)<br>Sweep page: <a href='https://wandb.ai/ed24s401-indian-institute-of-technology-madras/q4_sweep_project/sweeps/fqdtz4g7' target=\"_blank\">https://wandb.ai/ed24s401-indian-institute-of-technology-madras/q4_sweep_project/sweeps/fqdtz4g7</a>"
      ],
      "text/plain": [
       "<IPython.core.display.HTML object>"
      ]
     },
     "metadata": {},
     "output_type": "display_data"
    },
    {
     "data": {
      "text/html": [
       " View project at <a href='https://wandb.ai/ed24s401-indian-institute-of-technology-madras/q4_sweep_project' target=\"_blank\">https://wandb.ai/ed24s401-indian-institute-of-technology-madras/q4_sweep_project</a>"
      ],
      "text/plain": [
       "<IPython.core.display.HTML object>"
      ]
     },
     "metadata": {},
     "output_type": "display_data"
    },
    {
     "data": {
      "text/html": [
       " View sweep at <a href='https://wandb.ai/ed24s401-indian-institute-of-technology-madras/q4_sweep_project/sweeps/fqdtz4g7' target=\"_blank\">https://wandb.ai/ed24s401-indian-institute-of-technology-madras/q4_sweep_project/sweeps/fqdtz4g7</a>"
      ],
      "text/plain": [
       "<IPython.core.display.HTML object>"
      ]
     },
     "metadata": {},
     "output_type": "display_data"
    },
    {
     "data": {
      "text/html": [
       " View run at <a href='https://wandb.ai/ed24s401-indian-institute-of-technology-madras/q4_sweep_project/runs/26dscs5d' target=\"_blank\">https://wandb.ai/ed24s401-indian-institute-of-technology-madras/q4_sweep_project/runs/26dscs5d</a>"
      ],
      "text/plain": [
       "<IPython.core.display.HTML object>"
      ]
     },
     "metadata": {},
     "output_type": "display_data"
    },
    {
     "name": "stdout",
     "output_type": "stream",
     "text": [
      "Epoch 1/15 - loss=0.4908, val_acc=0.8410, val_loss=0.41903148234283516\n",
      "Epoch 2/15 - loss=0.3753, val_acc=0.8565, val_loss=0.38272879688989025\n",
      "Epoch 3/15 - loss=0.3423, val_acc=0.8773, val_loss=0.33378893553610617\n",
      "Epoch 4/15 - loss=0.3188, val_acc=0.8733, val_loss=0.3317447920329504\n",
      "Epoch 5/15 - loss=0.3035, val_acc=0.8762, val_loss=0.33493537058426126\n",
      "Epoch 6/15 - loss=0.2878, val_acc=0.8802, val_loss=0.3259554224533894\n",
      "Epoch 7/15 - loss=0.2786, val_acc=0.8732, val_loss=0.3369888480798871\n",
      "Epoch 8/15 - loss=0.2685, val_acc=0.8812, val_loss=0.32079680068523847\n",
      "Epoch 9/15 - loss=0.2588, val_acc=0.8818, val_loss=0.32251568475432324\n",
      "Epoch 10/15 - loss=0.2511, val_acc=0.8763, val_loss=0.32763735423097445\n",
      "Epoch 11/15 - loss=0.2446, val_acc=0.8783, val_loss=0.33602265006410215\n",
      "Epoch 12/15 - loss=0.2366, val_acc=0.8887, val_loss=0.3165670001630858\n",
      "Epoch 13/15 - loss=0.2304, val_acc=0.8810, val_loss=0.3365970947740969\n"
     ]
    }
   ],
   "source": [
    "import numpy as np\n",
    "import wandb\n",
    "from keras.datasets import fashion_mnist\n",
    "\n",
    "\n",
    "# Neural Network Class: feed_forward_NN_4\n",
    "\n",
    "class feed_forward_NN_4adam:\n",
    "    def __init__(self,\n",
    "                 layers,\n",
    "                 optimizer,\n",
    "                 learning_rate,\n",
    "                 momentum,\n",
    "                 beta1,\n",
    "                 beta2,\n",
    "                 beta_rms,\n",
    "                 epsilon,\n",
    "                 weight_decay,\n",
    "                 init_type,\n",
    "                 activation\n",
    "                 ):\n",
    "    \n",
    "        \n",
    "        self.layers = layers\n",
    "        self.layer_n = len(layers)\n",
    "        self.optimizer = optimizer.lower()\n",
    "        self.lr = learning_rate\n",
    "        self.momentum = momentum\n",
    "        self.beta1 = beta1\n",
    "        self.beta2 = beta2\n",
    "        self.beta_rms = beta_rms\n",
    "        self.epsilon = epsilon\n",
    "        self.weight_decay = weight_decay\n",
    "        self.init_type = init_type.lower()\n",
    "        self.activation = activation.lower()\n",
    "        \n",
    "\n",
    "        # Initialize Weights & BiaseS\n",
    "        self.weights = []\n",
    "        self.biases = []\n",
    "        for i in range(self.layer_n - 1):\n",
    "            if self.init_type == \"xavier\":\n",
    "                # \"Xavier\" initialization\n",
    "                w = np.random.randn(layers[i], layers[i+1]) * np.sqrt(1.0 / layers[i])\n",
    "            else:\n",
    "                # \"random\" initialization\n",
    "                w = np.random.randn(layers[i], layers[i+1]) * np.sqrt(2.0 / layers[i])\n",
    "            b = np.zeros((1, layers[i+1]))\n",
    "            self.weights.append(w)\n",
    "            self.biases.append(b)\n",
    "\n",
    "        # initialize extra Params \n",
    "        if self.optimizer in [\"momentum\", \"nesterov\", \"rmsprop\", \"adam\", \"nadam\"]:\n",
    "            self.v_w = [np.zeros_like(w) for w in self.weights]\n",
    "            self.v_b = [np.zeros_like(b) for b in self.biases]\n",
    "        if self.optimizer in [\"adam\", \"nadam\"]:\n",
    "            self.m_w = [np.zeros_like(w) for w in self.weights]\n",
    "            self.m_b = [np.zeros_like(b) for b in self.biases]\n",
    "            self.t = 0\n",
    "\n",
    "    # activations \n",
    "    def sigmoid(self, x):\n",
    "        return 1 / (1 + np.exp(-np.clip(x, -500, 500)))\n",
    "    \n",
    "    def tanh(self, x):\n",
    "        return np.tanh(x)\n",
    "    \n",
    "    def relu(self, x):\n",
    "        return np.maximum(0, x)\n",
    "\n",
    "    def activate(self, x):\n",
    "        if self.activation == \"sigmoid\":\n",
    "            return self.sigmoid(x)\n",
    "        elif self.activation == \"tanh\":\n",
    "            return self.tanh(x)\n",
    "        elif self.activation == \"relu\":\n",
    "            return self.relu(x)\n",
    "        else:\n",
    "            return self.sigmoid(x) \n",
    "        \n",
    "    # derivatives\n",
    "    def derivative(self, a):\n",
    "\n",
    "        if self.activation == \"sigmoid\":\n",
    "            return a * (1 - a)\n",
    "        elif self.activation == \"tanh\":\n",
    "            return 1 - a**2\n",
    "        elif self.activation == \"relu\":\n",
    "            return (a > 0).astype(float)\n",
    "        else:\n",
    "            return a * (1 - a) \n",
    "\n",
    "    def softmax(self, x):\n",
    "        exp_x = np.exp(x - np.max(x, axis=1, keepdims=True))\n",
    "        return exp_x / np.sum(exp_x, axis=1, keepdims=True)\n",
    "\n",
    "    # Forward Pass\n",
    "    def forward_pass(self, x):\n",
    "        self.h = [x]  \n",
    "        # Hidden layers\n",
    "        for i in range(self.layer_n - 2):\n",
    "            z = np.dot(self.h[i], self.weights[i]) + self.biases[i]\n",
    "            act = self.activate(z)\n",
    "            self.h.append(act)\n",
    "        # Output layer- softmax\n",
    "        z_out = np.dot(self.h[-1], self.weights[-1]) + self.biases[-1]\n",
    "        out = self.softmax(z_out)\n",
    "        self.h.append(out)\n",
    "        return self.h\n",
    "\n",
    "    # Backward Pass\n",
    "    def backward_prop(self, y_true):\n",
    "        m = y_true.shape[0]\n",
    "        dw = [None] * (self.layer_n - 1)\n",
    "        db = [None] * (self.layer_n - 1)\n",
    "\n",
    "        # Cross-entropy derivative for output layer\n",
    "        delta = self.h[-1] - y_true  # shape: (batch_size, output_dim)\n",
    "\n",
    "        # Propagation\n",
    "        for i in reversed(range(self.layer_n - 1)):\n",
    "            dw[i] = np.dot(self.h[i].T, delta) / m\n",
    "            db[i] = np.sum(delta, axis=0, keepdims=True) / m\n",
    "            if i > 0:\n",
    "                # For hidden layers, multiply by derivative of activation\n",
    "                delta = np.dot(delta, self.weights[i].T) * self.derivative(self.h[i])\n",
    "        return dw, db\n",
    "\n",
    "    # Param Updates for \"Non-Nesterov\" \n",
    "    def _update_params(self, dw, db):\n",
    "        # Add weight decay to each gradient\n",
    "        for i in range(self.layer_n - 1):\n",
    "            dw[i] += self.weight_decay * self.weights[i]\n",
    "\n",
    "        if self.optimizer == \"sgd\":\n",
    "            for i in range(self.layer_n - 1):\n",
    "                self.weights[i] -= self.lr * dw[i]\n",
    "                self.biases[i] -= self.lr * db[i]\n",
    "\n",
    "        elif self.optimizer == \"momentum\":\n",
    "            for i in range(self.layer_n - 1):\n",
    "                self.v_w[i] = self.momentum * self.v_w[i] + dw[i]\n",
    "                self.v_b[i] = self.momentum * self.v_b[i] + db[i]\n",
    "                self.weights[i] -= self.lr * self.v_w[i]\n",
    "                self.biases[i] -= self.lr * self.v_b[i]\n",
    "\n",
    "        elif self.optimizer == \"rmsprop\":\n",
    "            for i in range(self.layer_n - 1):\n",
    "                self.v_w[i] = self.beta_rms * self.v_w[i] + (1 - self.beta_rms) * (dw[i] ** 2)\n",
    "                self.v_b[i] = self.beta_rms * self.v_b[i] + (1 - self.beta_rms) * (db[i] ** 2)\n",
    "                self.weights[i] -= self.lr * dw[i] / (np.sqrt(self.v_w[i]) + self.epsilon)\n",
    "                self.biases[i]  -= self.lr * db[i] / (np.sqrt(self.v_b[i]) + self.epsilon)\n",
    "\n",
    "        elif self.optimizer == \"adam\":\n",
    "            self.t += 1\n",
    "            for i in range(self.layer_n - 1):\n",
    "                self.m_w[i] = self.beta1 * self.m_w[i] + (1 - self.beta1) * dw[i]\n",
    "                self.m_b[i] = self.beta1 * self.m_b[i] + (1 - self.beta1) * db[i]\n",
    "                self.v_w[i] = self.beta2 * self.v_w[i] + (1 - self.beta2) * (dw[i] ** 2)\n",
    "                self.v_b[i] = self.beta2 * self.v_b[i] + (1 - self.beta2) * (db[i] ** 2)\n",
    "\n",
    "                # bias correction\n",
    "                m_w_hat = self.m_w[i] / (1 - self.beta1 ** self.t)\n",
    "                m_b_hat = self.m_b[i] / (1 - self.beta1 ** self.t)\n",
    "                v_w_hat = self.v_w[i] / (1 - self.beta2 ** self.t)\n",
    "                v_b_hat = self.v_b[i] / (1 - self.beta2 ** self.t)\n",
    "\n",
    "                self.weights[i] -= self.lr * m_w_hat / (np.sqrt(v_w_hat) + self.epsilon)\n",
    "                self.biases[i]  -= self.lr * m_b_hat / (np.sqrt(v_b_hat) + self.epsilon)\n",
    "\n",
    "        elif self.optimizer == \"nadam\":\n",
    "            self.t += 1\n",
    "            for i in range(self.layer_n - 1):\n",
    "                self.m_w[i] = self.beta1 * self.m_w[i] + (1 - self.beta1) * dw[i]\n",
    "                self.m_b[i] = self.beta1 * self.m_b[i] + (1 - self.beta1) * db[i]\n",
    "                self.v_w[i] = self.beta2 * self.v_w[i] + (1 - self.beta2) * (dw[i] ** 2)\n",
    "                self.v_b[i] = self.beta2 * self.v_b[i] + (1 - self.beta2) * (db[i] ** 2)\n",
    "\n",
    "                # bias correction\n",
    "                m_w_hat = self.m_w[i] / (1 - self.beta1 ** (self.t + 1))\n",
    "                m_b_hat = self.m_b[i] / (1 - self.beta1 ** (self.t + 1))\n",
    "                v_w_hat = self.v_w[i] / (1 - self.beta2 ** (self.t + 1))\n",
    "                v_b_hat = self.v_b[i] / (1 - self.beta2 ** (self.t + 1))\n",
    "\n",
    "                grad_term_w = self.beta1 * m_w_hat + (1 - self.beta1) * dw[i] / (1 - self.beta1 ** (self.t + 1))\n",
    "                grad_term_b = self.beta1 * m_b_hat + (1 - self.beta1) * db[i] / (1 - self.beta1 ** (self.t + 1))\n",
    "\n",
    "                self.weights[i] -= self.lr * grad_term_w / (np.sqrt(v_w_hat) + self.epsilon)\n",
    "                self.biases[i]  -= self.lr * grad_term_b / (np.sqrt(v_b_hat) + self.epsilon)\n",
    "\n",
    "    # Training Step  with \"Nesterov\"\n",
    "    def _train_step(self, x_batch, y_batch):\n",
    "        if self.optimizer == \"nesterov\":\n",
    "            # to look-ahead: w_look = w - momentum * v\n",
    "            for i in range(self.layer_n - 1):\n",
    "                self.weights[i] -= self.lr*self.momentum * self.v_w[i]\n",
    "                self.biases[i]  -= self.lr*self.momentum * self.v_b[i]\n",
    "\n",
    "            # Forward at the look-ahead position\n",
    "            self.forward_pass(x_batch)\n",
    "            out = self.h[-1]\n",
    "            l2_norm_weights = 0\n",
    "            for i in range(len(self.weights)):\n",
    "                l2_norm_weights += np.sum(self.weights[i] ** 2)\n",
    "            # for i in range(len(self.biases)):\n",
    "            #     l2_norm_bias += np.sum(self.biases[i] ** 2)\n",
    "                    \n",
    "            l2_norm_params = l2_norm_weights #+ l2_norm_bias\n",
    "            \n",
    "            loss = -np.mean(np.sum(y_batch * np.log(out + 1e-10), axis = 1)) +  (self.weight_decay/2) * l2_norm_params # (1e-10) to prevent underflow\n",
    "            #loss = -np.mean(np.sum(y_batch * np.log(out + 1e-10), axis=1))\n",
    "            dW, dB = self.backward_prop(y_batch)\n",
    "\n",
    "            # add weight decay here\n",
    "            for i in range(self.layer_n - 1):\n",
    "                dW[i] += self.weight_decay * self.weights[i]\n",
    "\n",
    "            # backward at the look-ahead position (go back to w_t)\n",
    "            for i in range(self.layer_n - 1):\n",
    "                self.weights[i] += self.lr*self.momentum * self.v_w[i]\n",
    "                self.biases[i]  += self.lr*self.momentum * self.v_b[i]\n",
    "\n",
    "            # update velocity: u_t = momentum*u_{t-1} + dW\n",
    "            for i in range(self.layer_n - 1):\n",
    "                self.v_w[i] = self.momentum * self.v_w[i] + dW[i]\n",
    "                self.v_b[i] = self.momentum * self.v_b[i] + dB[i]\n",
    "\n",
    "            # final param update: w = w - lr*u_t\n",
    "            for i in range(self.layer_n - 1):\n",
    "                self.weights[i] -= self.lr * self.v_w[i]\n",
    "                self.biases[i]  -= self.lr * self.v_b[i]\n",
    "\n",
    "            return loss\n",
    "        else:\n",
    "            # Normal forward/back\n",
    "            self.forward_pass(x_batch)\n",
    "            out = self.h[-1]\n",
    "\n",
    "            l2_norm_weights=0\n",
    "            l2_norm_bias= 0\n",
    "            for i in range(len(self.weights)):\n",
    "                l2_norm_weights += np.sum(self.weights[i] ** 2)\n",
    "            # for i in range(len(self.biases)):\n",
    "            #     l2_norm_bias += np.sum(self.biases[i] ** 2)\n",
    "                    \n",
    "            l2_norm_params = l2_norm_weights #+ l2_norm_bias\n",
    "            \n",
    "            loss = -np.mean(np.sum(y_batch * np.log(out + 1e-10), axis = 1)) +  (self.weight_decay/2) * l2_norm_params \n",
    "\n",
    "            #loss = -np.mean(np.sum(y_batch * np.log(out + 1e-10), axis=1))\n",
    "            dW, dB = self.backward_prop(y_batch)\n",
    "            self._update_params(dW, dB)\n",
    "            return loss\n",
    "\n",
    "    # Outer Training Loop \n",
    "    def training(self, x_train, y_train, x_val, y_val, epochs, batch_size):\n",
    "       \n",
    "        for ep in range(epochs):\n",
    "            idx = np.random.permutation(x_train.shape[0])\n",
    "            x_train_shuff = x_train[idx]\n",
    "            y_train_shuff = y_train[idx]\n",
    "            n_batches = len(x_train) // batch_size\n",
    "            epoch_loss = 0.0\n",
    "            for b in range(n_batches):\n",
    "                start = b * batch_size\n",
    "                end = start + batch_size\n",
    "                x_batch = x_train_shuff[start:end]\n",
    "                y_batch = y_train_shuff[start:end]\n",
    "                loss = self._train_step(x_batch, y_batch)\n",
    "                epoch_loss += loss\n",
    "            avg_loss = epoch_loss / n_batches\n",
    "\n",
    "            # Validation\n",
    "\n",
    "            preds = self.predict(x_val)\n",
    "            val_labels = np.argmax(y_val, axis=1)\n",
    "            val_acc = np.mean(preds == val_labels)\n",
    "\n",
    "            val_outputs = self.forward_pass(x_val)[-1]\n",
    "        \n",
    "            # Cross-entropy loss for validation\n",
    "            val_loss = -np.mean(np.sum(y_val * np.log(val_outputs + 1e-10), axis=1))\n",
    "\n",
    "            # Log metrics to wandb\n",
    "            wandb.log({\"epoch\": ep+1, \"training_loss\": avg_loss, \"validation_accuracy\": val_acc, \"validation loss\": val_loss})\n",
    "            print(f\"Epoch {ep+1}/{epochs} - loss={avg_loss:.4f}, val_acc={val_acc:.4f}, val_loss={val_loss}\" )\n",
    "\n",
    "    #Prediction \n",
    "    def predict(self, X):\n",
    "        self.forward_pass(X)\n",
    "        return np.argmax(self.h[-1], axis=1)\n",
    "\n",
    "\n",
    "\n",
    "\n",
    "# (x_train_full, y_train_full), (x_test, y_test) = fashion_mnist.load_data()\n",
    "# x_train_full = x_train_full.reshape(x_train_full.shape[0], -1) / 255.0\n",
    "# x_test = x_test.reshape(x_test.shape[0], -1) / 255.0\n",
    "\n",
    "# np.random.seed(42)\n",
    "# idx = np.arange(x_train_full.shape[0])\n",
    "# np.random.shuffle(idx)\n",
    "# x_train_full = x_train_full[idx]\n",
    "# y_train_full = y_train_full[idx]\n",
    "\n",
    "# # 90% training, 10% validation \n",
    "# train_size=int(.9*len(x_train_full))\n",
    "\n",
    "# x_train, y_train=x_train_full[:train_size],y_train_full[:train_size]\n",
    "# x_val, y_val=x_train_full[train_size:], y_train_full[train_size:]\n",
    "\n",
    "# num_classes = 10\n",
    "# y_train_1h = np.eye(num_classes)[y_train]\n",
    "# y_val_1h = np.eye(num_classes)[y_val]\n",
    "# y_test_1h = np.eye(num_classes)[y_test]\n",
    "\n",
    "# # model\n",
    "# model = feed_forward_NN_4(\n",
    "#     layers=[784] + [32] *3 + [10],\n",
    "# optimizer=\"nesterov\",\n",
    "# learning_rate=0.01,\n",
    "# momentum=0.9,\n",
    "# beta1=0.9,\n",
    "# beta2=0.999,\n",
    "# beta_rms=0.9,\n",
    "# epsilon=1e-4,\n",
    "# weight_decay=0.0005,\n",
    "# init_type=\"xavier\",\n",
    "# activation=\"relu\")\n",
    "\n",
    "#     # Train the model\n",
    "# model.training(\n",
    "#         x_train=x_train,\n",
    "#         y_train=y_train_1h,\n",
    "#         x_val=x_val,\n",
    "#         y_val=y_val_1h,\n",
    "#         epochs=10,\n",
    "#         batch_size=32\n",
    "#     )\n",
    "\n",
    "#     #Evaluation on test set\n",
    "# test_preds = model.predict(x_test)\n",
    "# test_labels = np.argmax(y_test_1h, axis=1)\n",
    "# test_acc = np.mean(test_preds == test_labels)\n",
    "# print(\"test accuracy \",test_acc)\n",
    "# #wandb.log({\"test_accuracy\": test_acc})\n",
    "\n",
    "\n",
    "\n",
    "\n",
    "# train_sweep() function\n",
    "\n",
    "def train_sweep():\n",
    "    # Initialize wandb\n",
    "    wandb.init()\n",
    "    config = wandb.config\n",
    "\n",
    "    #custom run name from hyperparameters\n",
    "    run_name = f\"hl_{config.num_hidden_layers}_bs_{config.batch_size}_ac_{config.activation}_opt_{config.optimizer}\"\n",
    "    wandb.run.name = run_name\n",
    "\n",
    "    # Load Fashion-MNIST\n",
    "    (x_train_full, y_train_full), (x_test, y_test) = fashion_mnist.load_data()\n",
    "    x_train_full = x_train_full.reshape(x_train_full.shape[0], -1) / 255.0\n",
    "    x_test = x_test.reshape(x_test.shape[0], -1) / 255.0\n",
    "\n",
    "    np.random.seed(42)\n",
    "    idx = np.arange(x_train_full.shape[0])\n",
    "    np.random.shuffle(idx)\n",
    "    x_train_full = x_train_full[idx]\n",
    "    y_train_full = y_train_full[idx]\n",
    "\n",
    "    # 90% training, 10% validation \n",
    "    train_size=int(.9*len(x_train_full))\n",
    "\n",
    "    x_train, y_train=x_train_full[:train_size],y_train_full[:train_size]\n",
    "    x_val, y_val=x_train_full[train_size:], y_train_full[train_size:]\n",
    "\n",
    "    num_classes = 10\n",
    "    y_train_1h = np.eye(num_classes)[y_train]\n",
    "    y_val_1h = np.eye(num_classes)[y_val]\n",
    "    y_test_1h = np.eye(num_classes)[y_test]\n",
    "\n",
    "    # model\n",
    "    model = feed_forward_NN_4adam(\n",
    "        layers=[784] + [config.hidden_size] * config.num_hidden_layers + [10],\n",
    "        optimizer=config.optimizer,\n",
    "        learning_rate=config.learning_rate,\n",
    "        momentum=config.momentum,\n",
    "        beta1=config.beta1,\n",
    "        beta2=config.beta2,\n",
    "        beta_rms=config.beta_rms,\n",
    "        epsilon=config.epsilon,\n",
    "        weight_decay=config.weight_decay,\n",
    "        init_type=config.init_type,\n",
    "        activation=config.activation\n",
    "    )\n",
    "\n",
    "    # Train the model\n",
    "    model.training(\n",
    "        x_train=x_train,\n",
    "        y_train=y_train_1h,\n",
    "        x_val=x_val,\n",
    "        y_val=y_val_1h,\n",
    "        epochs=config.epochs,\n",
    "        batch_size=config.batch_size\n",
    "    )\n",
    "\n",
    "    #Evaluation on test set\n",
    "    test_preds = model.predict(x_test)\n",
    "    test_labels = np.argmax(y_test_1h, axis=1)\n",
    "    test_acc = np.mean(test_preds == test_labels)\n",
    "    \n",
    "    wandb.log({\"test_accuracy\": test_acc})\n",
    "    print(\"test accuracy \",test_acc)\n",
    "\n",
    "\n",
    "# sweep configuration\n",
    "sweep_config = {\n",
    "    \"method\": \"random\", \n",
    "    \"metric\": {\n",
    "        \"name\": \"validation_accuracy\",\n",
    "        \"goal\": \"maximize\"\n",
    "    },\n",
    "    \"parameters\": {\n",
    "        \"epochs\": {\"values\": [15]},\n",
    "        \"num_hidden_layers\": {\"values\": [3,4]},\n",
    "        \"hidden_size\": {\"values\": [64,128]},\n",
    "        \"weight_decay\": {\"values\": [0.0]},\n",
    "        \"learning_rate\": {\"values\": [1e-3,1e-4]},\n",
    "        \"optimizer\": {\"values\": [\"adam\",\"nadam\"]},\n",
    "        \"batch_size\": {\"values\": [32]},\n",
    "        \"init_type\": {\"values\": [\"xavier\",\"random\"]},\n",
    "        \"activation\": {\"values\": [\"relu\"]},\n",
    "        \"momentum\": {\"values\": [0.9]},\n",
    "        \"beta1\": {\"values\": [0.9]},\n",
    "        \"beta2\": {\"values\": [0.999]},\n",
    "        \"beta_rms\": {\"values\": [0.9]},\n",
    "        \"epsilon\": {\"values\": [1e-8]}\n",
    "    }\n",
    "}\n",
    "\n",
    "# Running the sweep\n",
    "\n",
    "if __name__ == \"__main__\":\n",
    "    # Creating sweep\n",
    "    sweep_id = wandb.sweep(sweep_config, project=\"q4_sweep_project\")\n",
    "    # Launching sweep agent\n",
    "    wandb.agent(sweep_id, function=train_sweep)\n"
   ]
  }
 ],
 "metadata": {
  "kernelspec": {
   "display_name": "Python 3",
   "language": "python",
   "name": "python3"
  },
  "language_info": {
   "codemirror_mode": {
    "name": "ipython",
    "version": 3
   },
   "file_extension": ".py",
   "mimetype": "text/x-python",
   "name": "python",
   "nbconvert_exporter": "python",
   "pygments_lexer": "ipython3",
   "version": "3.11.6"
  }
 },
 "nbformat": 4,
 "nbformat_minor": 2
}
