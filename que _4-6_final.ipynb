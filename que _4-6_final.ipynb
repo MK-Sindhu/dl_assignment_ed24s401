{
 "cells": [
  {
   "cell_type": "code",
   "execution_count": null,
   "metadata": {},
   "outputs": [
    {
     "name": "stderr",
     "output_type": "stream",
     "text": [
      "\u001b[34m\u001b[1mwandb\u001b[0m: Using wandb-core as the SDK backend.  Please refer to https://wandb.me/wandb-core for more information.\n"
     ]
    },
    {
     "name": "stdout",
     "output_type": "stream",
     "text": [
      "Create sweep with ID: hp8fw2uv\n",
      "Sweep URL: https://wandb.ai/ed24s401-indian-institute-of-technology-madras/q4_sweep_project/sweeps/hp8fw2uv\n"
     ]
    },
    {
     "name": "stderr",
     "output_type": "stream",
     "text": [
      "\u001b[34m\u001b[1mwandb\u001b[0m: Agent Starting Run: mlk210ay with config:\n",
      "\u001b[34m\u001b[1mwandb\u001b[0m: \tactivation: relu\n",
      "\u001b[34m\u001b[1mwandb\u001b[0m: \tbatch_size: 64\n",
      "\u001b[34m\u001b[1mwandb\u001b[0m: \tbeta1: 0.9\n",
      "\u001b[34m\u001b[1mwandb\u001b[0m: \tbeta2: 0.999\n",
      "\u001b[34m\u001b[1mwandb\u001b[0m: \tbeta_rms: 0.9\n",
      "\u001b[34m\u001b[1mwandb\u001b[0m: \tepochs: 5\n",
      "\u001b[34m\u001b[1mwandb\u001b[0m: \tepsilon: 1e-08\n",
      "\u001b[34m\u001b[1mwandb\u001b[0m: \thidden_size: 128\n",
      "\u001b[34m\u001b[1mwandb\u001b[0m: \tinit_type: xavier\n",
      "\u001b[34m\u001b[1mwandb\u001b[0m: \tlearning_rate: 0.0001\n",
      "\u001b[34m\u001b[1mwandb\u001b[0m: \tloss_func: cross_entropy\n",
      "\u001b[34m\u001b[1mwandb\u001b[0m: \tmomentum: 0.9\n",
      "\u001b[34m\u001b[1mwandb\u001b[0m: \tnum_hidden_layers: 3\n",
      "\u001b[34m\u001b[1mwandb\u001b[0m: \toptimizer: rmsprop\n",
      "\u001b[34m\u001b[1mwandb\u001b[0m: \tweight_decay: 0.5\n",
      "\u001b[34m\u001b[1mwandb\u001b[0m: Currently logged in as: \u001b[33med24s401\u001b[0m (\u001b[33med24s401-indian-institute-of-technology-madras\u001b[0m) to \u001b[32mhttps://api.wandb.ai\u001b[0m. Use \u001b[1m`wandb login --relogin`\u001b[0m to force relogin\n"
     ]
    },
    {
     "data": {
      "text/html": [
       "Tracking run with wandb version 0.19.8"
      ],
      "text/plain": [
       "<IPython.core.display.HTML object>"
      ]
     },
     "metadata": {},
     "output_type": "display_data"
    },
    {
     "data": {
      "text/html": [
       "Run data is saved locally in <code>c:\\Users\\acer\\OneDrive\\Documents\\GitHub\\dl_assignment_ed24s401\\wandb\\run-20250317_133741-mlk210ay</code>"
      ],
      "text/plain": [
       "<IPython.core.display.HTML object>"
      ]
     },
     "metadata": {},
     "output_type": "display_data"
    },
    {
     "data": {
      "text/html": [
       "Syncing run <strong><a href='https://wandb.ai/ed24s401-indian-institute-of-technology-madras/q4_sweep_project/runs/mlk210ay' target=\"_blank\">firm-sweep-1</a></strong> to <a href='https://wandb.ai/ed24s401-indian-institute-of-technology-madras/q4_sweep_project' target=\"_blank\">Weights & Biases</a> (<a href='https://wandb.me/developer-guide' target=\"_blank\">docs</a>)<br>Sweep page: <a href='https://wandb.ai/ed24s401-indian-institute-of-technology-madras/q4_sweep_project/sweeps/hp8fw2uv' target=\"_blank\">https://wandb.ai/ed24s401-indian-institute-of-technology-madras/q4_sweep_project/sweeps/hp8fw2uv</a>"
      ],
      "text/plain": [
       "<IPython.core.display.HTML object>"
      ]
     },
     "metadata": {},
     "output_type": "display_data"
    },
    {
     "data": {
      "text/html": [
       " View project at <a href='https://wandb.ai/ed24s401-indian-institute-of-technology-madras/q4_sweep_project' target=\"_blank\">https://wandb.ai/ed24s401-indian-institute-of-technology-madras/q4_sweep_project</a>"
      ],
      "text/plain": [
       "<IPython.core.display.HTML object>"
      ]
     },
     "metadata": {},
     "output_type": "display_data"
    },
    {
     "data": {
      "text/html": [
       " View sweep at <a href='https://wandb.ai/ed24s401-indian-institute-of-technology-madras/q4_sweep_project/sweeps/hp8fw2uv' target=\"_blank\">https://wandb.ai/ed24s401-indian-institute-of-technology-madras/q4_sweep_project/sweeps/hp8fw2uv</a>"
      ],
      "text/plain": [
       "<IPython.core.display.HTML object>"
      ]
     },
     "metadata": {},
     "output_type": "display_data"
    },
    {
     "data": {
      "text/html": [
       " View run at <a href='https://wandb.ai/ed24s401-indian-institute-of-technology-madras/q4_sweep_project/runs/mlk210ay' target=\"_blank\">https://wandb.ai/ed24s401-indian-institute-of-technology-madras/q4_sweep_project/runs/mlk210ay</a>"
      ],
      "text/plain": [
       "<IPython.core.display.HTML object>"
      ]
     },
     "metadata": {},
     "output_type": "display_data"
    },
    {
     "name": "stdout",
     "output_type": "stream",
     "text": [
      "Epoch 1/5 - loss=40.8990, val_acc=0.1673, val_loss=2.2907739061868595\n",
      "Epoch 2/5 - loss=6.6646, val_acc=0.1023, val_loss=2.302511084192579\n",
      "Epoch 3/5 - loss=2.6305, val_acc=0.1023, val_loss=2.302519634067361\n",
      "Epoch 4/5 - loss=2.3150, val_acc=0.1012, val_loss=2.302534656067891\n",
      "Epoch 5/5 - loss=2.3029, val_acc=0.1012, val_loss=2.302546886691154\n",
      "test accuracy  0.1\n"
     ]
    },
    {
     "data": {
      "text/html": [],
      "text/plain": [
       "<IPython.core.display.HTML object>"
      ]
     },
     "metadata": {},
     "output_type": "display_data"
    },
    {
     "data": {
      "text/html": [
       "<br>    <style><br>        .wandb-row {<br>            display: flex;<br>            flex-direction: row;<br>            flex-wrap: wrap;<br>            justify-content: flex-start;<br>            width: 100%;<br>        }<br>        .wandb-col {<br>            display: flex;<br>            flex-direction: column;<br>            flex-basis: 100%;<br>            flex: 1;<br>            padding: 10px;<br>        }<br>    </style><br><div class=\"wandb-row\"><div class=\"wandb-col\"><h3>Run history:</h3><br/><table class=\"wandb\"><tr><td>epoch</td><td>▁▃▅▆█</td></tr><tr><td>test_accuracy</td><td>▁</td></tr><tr><td>training_loss</td><td>█▂▁▁▁</td></tr><tr><td>validation loss</td><td>▁████</td></tr><tr><td>validation_accuracy</td><td>█▁▁▁▁</td></tr></table><br/></div><div class=\"wandb-col\"><h3>Run summary:</h3><br/><table class=\"wandb\"><tr><td>epoch</td><td>5</td></tr><tr><td>test_accuracy</td><td>0.1</td></tr><tr><td>training_loss</td><td>2.30294</td></tr><tr><td>validation loss</td><td>2.30255</td></tr><tr><td>validation_accuracy</td><td>0.10117</td></tr></table><br/></div></div>"
      ],
      "text/plain": [
       "<IPython.core.display.HTML object>"
      ]
     },
     "metadata": {},
     "output_type": "display_data"
    },
    {
     "data": {
      "text/html": [
       " View run <strong style=\"color:#cdcd00\">hl_3_hs_128_bs_64_ac_relu_opt_rmsprop</strong> at: <a href='https://wandb.ai/ed24s401-indian-institute-of-technology-madras/q4_sweep_project/runs/mlk210ay' target=\"_blank\">https://wandb.ai/ed24s401-indian-institute-of-technology-madras/q4_sweep_project/runs/mlk210ay</a><br> View project at: <a href='https://wandb.ai/ed24s401-indian-institute-of-technology-madras/q4_sweep_project' target=\"_blank\">https://wandb.ai/ed24s401-indian-institute-of-technology-madras/q4_sweep_project</a><br>Synced 5 W&B file(s), 0 media file(s), 0 artifact file(s) and 0 other file(s)"
      ],
      "text/plain": [
       "<IPython.core.display.HTML object>"
      ]
     },
     "metadata": {},
     "output_type": "display_data"
    },
    {
     "data": {
      "text/html": [
       "Find logs at: <code>.\\wandb\\run-20250317_133741-mlk210ay\\logs</code>"
      ],
      "text/plain": [
       "<IPython.core.display.HTML object>"
      ]
     },
     "metadata": {},
     "output_type": "display_data"
    },
    {
     "name": "stderr",
     "output_type": "stream",
     "text": [
      "\u001b[34m\u001b[1mwandb\u001b[0m: Agent Starting Run: zo5r9aii with config:\n",
      "\u001b[34m\u001b[1mwandb\u001b[0m: \tactivation: tanh\n",
      "\u001b[34m\u001b[1mwandb\u001b[0m: \tbatch_size: 16\n",
      "\u001b[34m\u001b[1mwandb\u001b[0m: \tbeta1: 0.9\n",
      "\u001b[34m\u001b[1mwandb\u001b[0m: \tbeta2: 0.999\n",
      "\u001b[34m\u001b[1mwandb\u001b[0m: \tbeta_rms: 0.9\n",
      "\u001b[34m\u001b[1mwandb\u001b[0m: \tepochs: 5\n",
      "\u001b[34m\u001b[1mwandb\u001b[0m: \tepsilon: 1e-08\n",
      "\u001b[34m\u001b[1mwandb\u001b[0m: \thidden_size: 128\n",
      "\u001b[34m\u001b[1mwandb\u001b[0m: \tinit_type: xavier\n",
      "\u001b[34m\u001b[1mwandb\u001b[0m: \tlearning_rate: 0.001\n",
      "\u001b[34m\u001b[1mwandb\u001b[0m: \tloss_func: cross_entropy\n",
      "\u001b[34m\u001b[1mwandb\u001b[0m: \tmomentum: 0.9\n",
      "\u001b[34m\u001b[1mwandb\u001b[0m: \tnum_hidden_layers: 3\n",
      "\u001b[34m\u001b[1mwandb\u001b[0m: \toptimizer: adam\n",
      "\u001b[34m\u001b[1mwandb\u001b[0m: \tweight_decay: 0.0005\n"
     ]
    },
    {
     "data": {
      "text/html": [
       "Tracking run with wandb version 0.19.8"
      ],
      "text/plain": [
       "<IPython.core.display.HTML object>"
      ]
     },
     "metadata": {},
     "output_type": "display_data"
    },
    {
     "data": {
      "text/html": [
       "Run data is saved locally in <code>c:\\Users\\acer\\OneDrive\\Documents\\GitHub\\dl_assignment_ed24s401\\wandb\\run-20250317_133819-zo5r9aii</code>"
      ],
      "text/plain": [
       "<IPython.core.display.HTML object>"
      ]
     },
     "metadata": {},
     "output_type": "display_data"
    },
    {
     "data": {
      "text/html": [
       "Syncing run <strong><a href='https://wandb.ai/ed24s401-indian-institute-of-technology-madras/q4_sweep_project/runs/zo5r9aii' target=\"_blank\">lyric-sweep-2</a></strong> to <a href='https://wandb.ai/ed24s401-indian-institute-of-technology-madras/q4_sweep_project' target=\"_blank\">Weights & Biases</a> (<a href='https://wandb.me/developer-guide' target=\"_blank\">docs</a>)<br>Sweep page: <a href='https://wandb.ai/ed24s401-indian-institute-of-technology-madras/q4_sweep_project/sweeps/hp8fw2uv' target=\"_blank\">https://wandb.ai/ed24s401-indian-institute-of-technology-madras/q4_sweep_project/sweeps/hp8fw2uv</a>"
      ],
      "text/plain": [
       "<IPython.core.display.HTML object>"
      ]
     },
     "metadata": {},
     "output_type": "display_data"
    },
    {
     "data": {
      "text/html": [
       " View project at <a href='https://wandb.ai/ed24s401-indian-institute-of-technology-madras/q4_sweep_project' target=\"_blank\">https://wandb.ai/ed24s401-indian-institute-of-technology-madras/q4_sweep_project</a>"
      ],
      "text/plain": [
       "<IPython.core.display.HTML object>"
      ]
     },
     "metadata": {},
     "output_type": "display_data"
    },
    {
     "data": {
      "text/html": [
       " View sweep at <a href='https://wandb.ai/ed24s401-indian-institute-of-technology-madras/q4_sweep_project/sweeps/hp8fw2uv' target=\"_blank\">https://wandb.ai/ed24s401-indian-institute-of-technology-madras/q4_sweep_project/sweeps/hp8fw2uv</a>"
      ],
      "text/plain": [
       "<IPython.core.display.HTML object>"
      ]
     },
     "metadata": {},
     "output_type": "display_data"
    },
    {
     "data": {
      "text/html": [
       " View run at <a href='https://wandb.ai/ed24s401-indian-institute-of-technology-madras/q4_sweep_project/runs/zo5r9aii' target=\"_blank\">https://wandb.ai/ed24s401-indian-institute-of-technology-madras/q4_sweep_project/runs/zo5r9aii</a>"
      ],
      "text/plain": [
       "<IPython.core.display.HTML object>"
      ]
     },
     "metadata": {},
     "output_type": "display_data"
    },
    {
     "name": "stdout",
     "output_type": "stream",
     "text": [
      "Epoch 1/5 - loss=0.6101, val_acc=0.8373, val_loss=0.4390277663963681\n",
      "Epoch 2/5 - loss=0.5187, val_acc=0.8545, val_loss=0.39593892756785254\n",
      "Epoch 3/5 - loss=0.4910, val_acc=0.8418, val_loss=0.4371763767167325\n",
      "Epoch 4/5 - loss=0.4770, val_acc=0.8488, val_loss=0.40828071301098734\n",
      "Epoch 5/5 - loss=0.4679, val_acc=0.8687, val_loss=0.3627857876854914\n",
      "test accuracy  0.8607\n"
     ]
    },
    {
     "data": {
      "text/html": [],
      "text/plain": [
       "<IPython.core.display.HTML object>"
      ]
     },
     "metadata": {},
     "output_type": "display_data"
    },
    {
     "data": {
      "text/html": [
       "<br>    <style><br>        .wandb-row {<br>            display: flex;<br>            flex-direction: row;<br>            flex-wrap: wrap;<br>            justify-content: flex-start;<br>            width: 100%;<br>        }<br>        .wandb-col {<br>            display: flex;<br>            flex-direction: column;<br>            flex-basis: 100%;<br>            flex: 1;<br>            padding: 10px;<br>        }<br>    </style><br><div class=\"wandb-row\"><div class=\"wandb-col\"><h3>Run history:</h3><br/><table class=\"wandb\"><tr><td>epoch</td><td>▁▃▅▆█</td></tr><tr><td>test_accuracy</td><td>▁</td></tr><tr><td>training_loss</td><td>█▃▂▁▁</td></tr><tr><td>validation loss</td><td>█▄█▅▁</td></tr><tr><td>validation_accuracy</td><td>▁▅▂▄█</td></tr></table><br/></div><div class=\"wandb-col\"><h3>Run summary:</h3><br/><table class=\"wandb\"><tr><td>epoch</td><td>5</td></tr><tr><td>test_accuracy</td><td>0.8607</td></tr><tr><td>training_loss</td><td>0.46789</td></tr><tr><td>validation loss</td><td>0.36279</td></tr><tr><td>validation_accuracy</td><td>0.86867</td></tr></table><br/></div></div>"
      ],
      "text/plain": [
       "<IPython.core.display.HTML object>"
      ]
     },
     "metadata": {},
     "output_type": "display_data"
    },
    {
     "data": {
      "text/html": [
       " View run <strong style=\"color:#cdcd00\">hl_3_hs_128_bs_16_ac_tanh_opt_adam</strong> at: <a href='https://wandb.ai/ed24s401-indian-institute-of-technology-madras/q4_sweep_project/runs/zo5r9aii' target=\"_blank\">https://wandb.ai/ed24s401-indian-institute-of-technology-madras/q4_sweep_project/runs/zo5r9aii</a><br> View project at: <a href='https://wandb.ai/ed24s401-indian-institute-of-technology-madras/q4_sweep_project' target=\"_blank\">https://wandb.ai/ed24s401-indian-institute-of-technology-madras/q4_sweep_project</a><br>Synced 5 W&B file(s), 0 media file(s), 0 artifact file(s) and 0 other file(s)"
      ],
      "text/plain": [
       "<IPython.core.display.HTML object>"
      ]
     },
     "metadata": {},
     "output_type": "display_data"
    },
    {
     "data": {
      "text/html": [
       "Find logs at: <code>.\\wandb\\run-20250317_133819-zo5r9aii\\logs</code>"
      ],
      "text/plain": [
       "<IPython.core.display.HTML object>"
      ]
     },
     "metadata": {},
     "output_type": "display_data"
    },
    {
     "name": "stderr",
     "output_type": "stream",
     "text": [
      "\u001b[34m\u001b[1mwandb\u001b[0m: Agent Starting Run: ija6sh2a with config:\n",
      "\u001b[34m\u001b[1mwandb\u001b[0m: \tactivation: tanh\n",
      "\u001b[34m\u001b[1mwandb\u001b[0m: \tbatch_size: 64\n",
      "\u001b[34m\u001b[1mwandb\u001b[0m: \tbeta1: 0.9\n",
      "\u001b[34m\u001b[1mwandb\u001b[0m: \tbeta2: 0.99\n",
      "\u001b[34m\u001b[1mwandb\u001b[0m: \tbeta_rms: 0.9\n",
      "\u001b[34m\u001b[1mwandb\u001b[0m: \tepochs: 5\n",
      "\u001b[34m\u001b[1mwandb\u001b[0m: \tepsilon: 1e-08\n",
      "\u001b[34m\u001b[1mwandb\u001b[0m: \thidden_size: 64\n",
      "\u001b[34m\u001b[1mwandb\u001b[0m: \tinit_type: random\n",
      "\u001b[34m\u001b[1mwandb\u001b[0m: \tlearning_rate: 0.0001\n",
      "\u001b[34m\u001b[1mwandb\u001b[0m: \tloss_func: cross_entropy\n",
      "\u001b[34m\u001b[1mwandb\u001b[0m: \tmomentum: 0.9\n",
      "\u001b[34m\u001b[1mwandb\u001b[0m: \tnum_hidden_layers: 5\n",
      "\u001b[34m\u001b[1mwandb\u001b[0m: \toptimizer: rmsprop\n",
      "\u001b[34m\u001b[1mwandb\u001b[0m: \tweight_decay: 0\n"
     ]
    },
    {
     "data": {
      "text/html": [
       "Tracking run with wandb version 0.19.8"
      ],
      "text/plain": [
       "<IPython.core.display.HTML object>"
      ]
     },
     "metadata": {},
     "output_type": "display_data"
    },
    {
     "data": {
      "text/html": [
       "Run data is saved locally in <code>c:\\Users\\acer\\OneDrive\\Documents\\GitHub\\dl_assignment_ed24s401\\wandb\\run-20250317_134033-ija6sh2a</code>"
      ],
      "text/plain": [
       "<IPython.core.display.HTML object>"
      ]
     },
     "metadata": {},
     "output_type": "display_data"
    },
    {
     "data": {
      "text/html": [
       "Syncing run <strong><a href='https://wandb.ai/ed24s401-indian-institute-of-technology-madras/q4_sweep_project/runs/ija6sh2a' target=\"_blank\">efficient-sweep-3</a></strong> to <a href='https://wandb.ai/ed24s401-indian-institute-of-technology-madras/q4_sweep_project' target=\"_blank\">Weights & Biases</a> (<a href='https://wandb.me/developer-guide' target=\"_blank\">docs</a>)<br>Sweep page: <a href='https://wandb.ai/ed24s401-indian-institute-of-technology-madras/q4_sweep_project/sweeps/hp8fw2uv' target=\"_blank\">https://wandb.ai/ed24s401-indian-institute-of-technology-madras/q4_sweep_project/sweeps/hp8fw2uv</a>"
      ],
      "text/plain": [
       "<IPython.core.display.HTML object>"
      ]
     },
     "metadata": {},
     "output_type": "display_data"
    },
    {
     "data": {
      "text/html": [
       " View project at <a href='https://wandb.ai/ed24s401-indian-institute-of-technology-madras/q4_sweep_project' target=\"_blank\">https://wandb.ai/ed24s401-indian-institute-of-technology-madras/q4_sweep_project</a>"
      ],
      "text/plain": [
       "<IPython.core.display.HTML object>"
      ]
     },
     "metadata": {},
     "output_type": "display_data"
    },
    {
     "data": {
      "text/html": [
       " View sweep at <a href='https://wandb.ai/ed24s401-indian-institute-of-technology-madras/q4_sweep_project/sweeps/hp8fw2uv' target=\"_blank\">https://wandb.ai/ed24s401-indian-institute-of-technology-madras/q4_sweep_project/sweeps/hp8fw2uv</a>"
      ],
      "text/plain": [
       "<IPython.core.display.HTML object>"
      ]
     },
     "metadata": {},
     "output_type": "display_data"
    },
    {
     "data": {
      "text/html": [
       " View run at <a href='https://wandb.ai/ed24s401-indian-institute-of-technology-madras/q4_sweep_project/runs/ija6sh2a' target=\"_blank\">https://wandb.ai/ed24s401-indian-institute-of-technology-madras/q4_sweep_project/runs/ija6sh2a</a>"
      ],
      "text/plain": [
       "<IPython.core.display.HTML object>"
      ]
     },
     "metadata": {},
     "output_type": "display_data"
    },
    {
     "name": "stdout",
     "output_type": "stream",
     "text": [
      "Epoch 1/5 - loss=0.7588, val_acc=0.8158, val_loss=0.5184272025717886\n",
      "Epoch 2/5 - loss=0.4650, val_acc=0.8398, val_loss=0.44410415451702656\n",
      "Epoch 3/5 - loss=0.4151, val_acc=0.8452, val_loss=0.4202374809979013\n",
      "Epoch 4/5 - loss=0.3870, val_acc=0.8592, val_loss=0.3883624201772921\n",
      "Epoch 5/5 - loss=0.3686, val_acc=0.8598, val_loss=0.3782924943300987\n",
      "test accuracy  0.8554\n"
     ]
    },
    {
     "data": {
      "text/html": [],
      "text/plain": [
       "<IPython.core.display.HTML object>"
      ]
     },
     "metadata": {},
     "output_type": "display_data"
    },
    {
     "data": {
      "text/html": [
       "<br>    <style><br>        .wandb-row {<br>            display: flex;<br>            flex-direction: row;<br>            flex-wrap: wrap;<br>            justify-content: flex-start;<br>            width: 100%;<br>        }<br>        .wandb-col {<br>            display: flex;<br>            flex-direction: column;<br>            flex-basis: 100%;<br>            flex: 1;<br>            padding: 10px;<br>        }<br>    </style><br><div class=\"wandb-row\"><div class=\"wandb-col\"><h3>Run history:</h3><br/><table class=\"wandb\"><tr><td>epoch</td><td>▁▃▅▆█</td></tr><tr><td>test_accuracy</td><td>▁</td></tr><tr><td>training_loss</td><td>█▃▂▁▁</td></tr><tr><td>validation loss</td><td>█▄▃▂▁</td></tr><tr><td>validation_accuracy</td><td>▁▅▆██</td></tr></table><br/></div><div class=\"wandb-col\"><h3>Run summary:</h3><br/><table class=\"wandb\"><tr><td>epoch</td><td>5</td></tr><tr><td>test_accuracy</td><td>0.8554</td></tr><tr><td>training_loss</td><td>0.36864</td></tr><tr><td>validation loss</td><td>0.37829</td></tr><tr><td>validation_accuracy</td><td>0.85983</td></tr></table><br/></div></div>"
      ],
      "text/plain": [
       "<IPython.core.display.HTML object>"
      ]
     },
     "metadata": {},
     "output_type": "display_data"
    },
    {
     "data": {
      "text/html": [
       " View run <strong style=\"color:#cdcd00\">hl_5_hs_64_bs_64_ac_tanh_opt_rmsprop</strong> at: <a href='https://wandb.ai/ed24s401-indian-institute-of-technology-madras/q4_sweep_project/runs/ija6sh2a' target=\"_blank\">https://wandb.ai/ed24s401-indian-institute-of-technology-madras/q4_sweep_project/runs/ija6sh2a</a><br> View project at: <a href='https://wandb.ai/ed24s401-indian-institute-of-technology-madras/q4_sweep_project' target=\"_blank\">https://wandb.ai/ed24s401-indian-institute-of-technology-madras/q4_sweep_project</a><br>Synced 5 W&B file(s), 0 media file(s), 0 artifact file(s) and 0 other file(s)"
      ],
      "text/plain": [
       "<IPython.core.display.HTML object>"
      ]
     },
     "metadata": {},
     "output_type": "display_data"
    },
    {
     "data": {
      "text/html": [
       "Find logs at: <code>.\\wandb\\run-20250317_134033-ija6sh2a\\logs</code>"
      ],
      "text/plain": [
       "<IPython.core.display.HTML object>"
      ]
     },
     "metadata": {},
     "output_type": "display_data"
    },
    {
     "name": "stderr",
     "output_type": "stream",
     "text": [
      "\u001b[34m\u001b[1mwandb\u001b[0m: Agent Starting Run: bb0hvefn with config:\n",
      "\u001b[34m\u001b[1mwandb\u001b[0m: \tactivation: relu\n",
      "\u001b[34m\u001b[1mwandb\u001b[0m: \tbatch_size: 16\n",
      "\u001b[34m\u001b[1mwandb\u001b[0m: \tbeta1: 0.9\n",
      "\u001b[34m\u001b[1mwandb\u001b[0m: \tbeta2: 0.99\n",
      "\u001b[34m\u001b[1mwandb\u001b[0m: \tbeta_rms: 0.9\n",
      "\u001b[34m\u001b[1mwandb\u001b[0m: \tepochs: 10\n",
      "\u001b[34m\u001b[1mwandb\u001b[0m: \tepsilon: 1e-08\n",
      "\u001b[34m\u001b[1mwandb\u001b[0m: \thidden_size: 32\n",
      "\u001b[34m\u001b[1mwandb\u001b[0m: \tinit_type: xavier\n",
      "\u001b[34m\u001b[1mwandb\u001b[0m: \tlearning_rate: 0.001\n",
      "\u001b[34m\u001b[1mwandb\u001b[0m: \tloss_func: cross_entropy\n",
      "\u001b[34m\u001b[1mwandb\u001b[0m: \tmomentum: 0.9\n",
      "\u001b[34m\u001b[1mwandb\u001b[0m: \tnum_hidden_layers: 4\n",
      "\u001b[34m\u001b[1mwandb\u001b[0m: \toptimizer: rmsprop\n",
      "\u001b[34m\u001b[1mwandb\u001b[0m: \tweight_decay: 0.5\n"
     ]
    },
    {
     "data": {
      "text/html": [
       "Tracking run with wandb version 0.19.8"
      ],
      "text/plain": [
       "<IPython.core.display.HTML object>"
      ]
     },
     "metadata": {},
     "output_type": "display_data"
    },
    {
     "data": {
      "text/html": [
       "Run data is saved locally in <code>c:\\Users\\acer\\OneDrive\\Documents\\GitHub\\dl_assignment_ed24s401\\wandb\\run-20250317_134054-bb0hvefn</code>"
      ],
      "text/plain": [
       "<IPython.core.display.HTML object>"
      ]
     },
     "metadata": {},
     "output_type": "display_data"
    },
    {
     "data": {
      "text/html": [
       "Syncing run <strong><a href='https://wandb.ai/ed24s401-indian-institute-of-technology-madras/q4_sweep_project/runs/bb0hvefn' target=\"_blank\">fancy-sweep-4</a></strong> to <a href='https://wandb.ai/ed24s401-indian-institute-of-technology-madras/q4_sweep_project' target=\"_blank\">Weights & Biases</a> (<a href='https://wandb.me/developer-guide' target=\"_blank\">docs</a>)<br>Sweep page: <a href='https://wandb.ai/ed24s401-indian-institute-of-technology-madras/q4_sweep_project/sweeps/hp8fw2uv' target=\"_blank\">https://wandb.ai/ed24s401-indian-institute-of-technology-madras/q4_sweep_project/sweeps/hp8fw2uv</a>"
      ],
      "text/plain": [
       "<IPython.core.display.HTML object>"
      ]
     },
     "metadata": {},
     "output_type": "display_data"
    },
    {
     "data": {
      "text/html": [
       " View project at <a href='https://wandb.ai/ed24s401-indian-institute-of-technology-madras/q4_sweep_project' target=\"_blank\">https://wandb.ai/ed24s401-indian-institute-of-technology-madras/q4_sweep_project</a>"
      ],
      "text/plain": [
       "<IPython.core.display.HTML object>"
      ]
     },
     "metadata": {},
     "output_type": "display_data"
    },
    {
     "data": {
      "text/html": [
       " View sweep at <a href='https://wandb.ai/ed24s401-indian-institute-of-technology-madras/q4_sweep_project/sweeps/hp8fw2uv' target=\"_blank\">https://wandb.ai/ed24s401-indian-institute-of-technology-madras/q4_sweep_project/sweeps/hp8fw2uv</a>"
      ],
      "text/plain": [
       "<IPython.core.display.HTML object>"
      ]
     },
     "metadata": {},
     "output_type": "display_data"
    },
    {
     "data": {
      "text/html": [
       " View run at <a href='https://wandb.ai/ed24s401-indian-institute-of-technology-madras/q4_sweep_project/runs/bb0hvefn' target=\"_blank\">https://wandb.ai/ed24s401-indian-institute-of-technology-madras/q4_sweep_project/runs/bb0hvefn</a>"
      ],
      "text/plain": [
       "<IPython.core.display.HTML object>"
      ]
     },
     "metadata": {},
     "output_type": "display_data"
    },
    {
     "name": "stdout",
     "output_type": "stream",
     "text": [
      "Epoch 1/10 - loss=3.0499, val_acc=0.1000, val_loss=2.3027245423011324\n",
      "Epoch 2/10 - loss=2.3046, val_acc=0.0995, val_loss=2.302657744278535\n",
      "Epoch 3/10 - loss=2.3046, val_acc=0.1013, val_loss=2.3026158621076434\n",
      "Epoch 4/10 - loss=2.3046, val_acc=0.0995, val_loss=2.3029372600833877\n",
      "Epoch 5/10 - loss=2.3046, val_acc=0.1000, val_loss=2.302757839927576\n",
      "Epoch 6/10 - loss=2.3047, val_acc=0.0995, val_loss=2.302648088478558\n",
      "Epoch 7/10 - loss=2.3046, val_acc=0.1012, val_loss=2.30274709989466\n",
      "Epoch 8/10 - loss=2.3046, val_acc=0.0977, val_loss=2.302744582622311\n",
      "Epoch 9/10 - loss=2.3046, val_acc=0.0977, val_loss=2.3028527201531817\n",
      "Epoch 10/10 - loss=2.3046, val_acc=0.1013, val_loss=2.3025718950696463\n",
      "test accuracy  0.1\n"
     ]
    },
    {
     "data": {
      "text/html": [],
      "text/plain": [
       "<IPython.core.display.HTML object>"
      ]
     },
     "metadata": {},
     "output_type": "display_data"
    },
    {
     "data": {
      "text/html": [
       "<br>    <style><br>        .wandb-row {<br>            display: flex;<br>            flex-direction: row;<br>            flex-wrap: wrap;<br>            justify-content: flex-start;<br>            width: 100%;<br>        }<br>        .wandb-col {<br>            display: flex;<br>            flex-direction: column;<br>            flex-basis: 100%;<br>            flex: 1;<br>            padding: 10px;<br>        }<br>    </style><br><div class=\"wandb-row\"><div class=\"wandb-col\"><h3>Run history:</h3><br/><table class=\"wandb\"><tr><td>epoch</td><td>▁▂▃▃▄▅▆▆▇█</td></tr><tr><td>test_accuracy</td><td>▁</td></tr><tr><td>training_loss</td><td>█▁▁▁▁▁▁▁▁▁</td></tr><tr><td>validation loss</td><td>▄▃▂█▅▂▄▄▆▁</td></tr><tr><td>validation_accuracy</td><td>▅▅█▅▅▅█▁▁█</td></tr></table><br/></div><div class=\"wandb-col\"><h3>Run summary:</h3><br/><table class=\"wandb\"><tr><td>epoch</td><td>10</td></tr><tr><td>test_accuracy</td><td>0.1</td></tr><tr><td>training_loss</td><td>2.30463</td></tr><tr><td>validation loss</td><td>2.30257</td></tr><tr><td>validation_accuracy</td><td>0.10133</td></tr></table><br/></div></div>"
      ],
      "text/plain": [
       "<IPython.core.display.HTML object>"
      ]
     },
     "metadata": {},
     "output_type": "display_data"
    },
    {
     "data": {
      "text/html": [
       " View run <strong style=\"color:#cdcd00\">hl_4_hs_32_bs_16_ac_relu_opt_rmsprop</strong> at: <a href='https://wandb.ai/ed24s401-indian-institute-of-technology-madras/q4_sweep_project/runs/bb0hvefn' target=\"_blank\">https://wandb.ai/ed24s401-indian-institute-of-technology-madras/q4_sweep_project/runs/bb0hvefn</a><br> View project at: <a href='https://wandb.ai/ed24s401-indian-institute-of-technology-madras/q4_sweep_project' target=\"_blank\">https://wandb.ai/ed24s401-indian-institute-of-technology-madras/q4_sweep_project</a><br>Synced 5 W&B file(s), 0 media file(s), 0 artifact file(s) and 0 other file(s)"
      ],
      "text/plain": [
       "<IPython.core.display.HTML object>"
      ]
     },
     "metadata": {},
     "output_type": "display_data"
    },
    {
     "data": {
      "text/html": [
       "Find logs at: <code>.\\wandb\\run-20250317_134054-bb0hvefn\\logs</code>"
      ],
      "text/plain": [
       "<IPython.core.display.HTML object>"
      ]
     },
     "metadata": {},
     "output_type": "display_data"
    },
    {
     "name": "stderr",
     "output_type": "stream",
     "text": [
      "\u001b[34m\u001b[1mwandb\u001b[0m: Agent Starting Run: rctxp2hl with config:\n",
      "\u001b[34m\u001b[1mwandb\u001b[0m: \tactivation: sigmoid\n",
      "\u001b[34m\u001b[1mwandb\u001b[0m: \tbatch_size: 32\n",
      "\u001b[34m\u001b[1mwandb\u001b[0m: \tbeta1: 0.9\n",
      "\u001b[34m\u001b[1mwandb\u001b[0m: \tbeta2: 0.999\n",
      "\u001b[34m\u001b[1mwandb\u001b[0m: \tbeta_rms: 0.9\n",
      "\u001b[34m\u001b[1mwandb\u001b[0m: \tepochs: 5\n",
      "\u001b[34m\u001b[1mwandb\u001b[0m: \tepsilon: 1e-08\n",
      "\u001b[34m\u001b[1mwandb\u001b[0m: \thidden_size: 128\n",
      "\u001b[34m\u001b[1mwandb\u001b[0m: \tinit_type: xavier\n",
      "\u001b[34m\u001b[1mwandb\u001b[0m: \tlearning_rate: 0.0001\n",
      "\u001b[34m\u001b[1mwandb\u001b[0m: \tloss_func: cross_entropy\n",
      "\u001b[34m\u001b[1mwandb\u001b[0m: \tmomentum: 0.9\n",
      "\u001b[34m\u001b[1mwandb\u001b[0m: \tnum_hidden_layers: 4\n",
      "\u001b[34m\u001b[1mwandb\u001b[0m: \toptimizer: nesterov\n",
      "\u001b[34m\u001b[1mwandb\u001b[0m: \tweight_decay: 0\n"
     ]
    },
    {
     "data": {
      "text/html": [
       "Tracking run with wandb version 0.19.8"
      ],
      "text/plain": [
       "<IPython.core.display.HTML object>"
      ]
     },
     "metadata": {},
     "output_type": "display_data"
    },
    {
     "data": {
      "text/html": [
       "Run data is saved locally in <code>c:\\Users\\acer\\OneDrive\\Documents\\GitHub\\dl_assignment_ed24s401\\wandb\\run-20250317_134136-rctxp2hl</code>"
      ],
      "text/plain": [
       "<IPython.core.display.HTML object>"
      ]
     },
     "metadata": {},
     "output_type": "display_data"
    },
    {
     "data": {
      "text/html": [
       "Syncing run <strong><a href='https://wandb.ai/ed24s401-indian-institute-of-technology-madras/q4_sweep_project/runs/rctxp2hl' target=\"_blank\">different-sweep-5</a></strong> to <a href='https://wandb.ai/ed24s401-indian-institute-of-technology-madras/q4_sweep_project' target=\"_blank\">Weights & Biases</a> (<a href='https://wandb.me/developer-guide' target=\"_blank\">docs</a>)<br>Sweep page: <a href='https://wandb.ai/ed24s401-indian-institute-of-technology-madras/q4_sweep_project/sweeps/hp8fw2uv' target=\"_blank\">https://wandb.ai/ed24s401-indian-institute-of-technology-madras/q4_sweep_project/sweeps/hp8fw2uv</a>"
      ],
      "text/plain": [
       "<IPython.core.display.HTML object>"
      ]
     },
     "metadata": {},
     "output_type": "display_data"
    },
    {
     "data": {
      "text/html": [
       " View project at <a href='https://wandb.ai/ed24s401-indian-institute-of-technology-madras/q4_sweep_project' target=\"_blank\">https://wandb.ai/ed24s401-indian-institute-of-technology-madras/q4_sweep_project</a>"
      ],
      "text/plain": [
       "<IPython.core.display.HTML object>"
      ]
     },
     "metadata": {},
     "output_type": "display_data"
    },
    {
     "data": {
      "text/html": [
       " View sweep at <a href='https://wandb.ai/ed24s401-indian-institute-of-technology-madras/q4_sweep_project/sweeps/hp8fw2uv' target=\"_blank\">https://wandb.ai/ed24s401-indian-institute-of-technology-madras/q4_sweep_project/sweeps/hp8fw2uv</a>"
      ],
      "text/plain": [
       "<IPython.core.display.HTML object>"
      ]
     },
     "metadata": {},
     "output_type": "display_data"
    },
    {
     "data": {
      "text/html": [
       " View run at <a href='https://wandb.ai/ed24s401-indian-institute-of-technology-madras/q4_sweep_project/runs/rctxp2hl' target=\"_blank\">https://wandb.ai/ed24s401-indian-institute-of-technology-madras/q4_sweep_project/runs/rctxp2hl</a>"
      ],
      "text/plain": [
       "<IPython.core.display.HTML object>"
      ]
     },
     "metadata": {},
     "output_type": "display_data"
    },
    {
     "name": "stdout",
     "output_type": "stream",
     "text": [
      "Epoch 1/5 - loss=2.3115, val_acc=0.0993, val_loss=2.303015199282377\n",
      "Epoch 2/5 - loss=2.3030, val_acc=0.1018, val_loss=2.3026813279945904\n",
      "Epoch 3/5 - loss=2.3029, val_acc=0.0995, val_loss=2.302968128227342\n",
      "Epoch 4/5 - loss=2.3029, val_acc=0.0977, val_loss=2.30262918864855\n",
      "Epoch 5/5 - loss=2.3027, val_acc=0.0977, val_loss=2.3027720963458433\n",
      "test accuracy  0.1\n"
     ]
    },
    {
     "data": {
      "text/html": [],
      "text/plain": [
       "<IPython.core.display.HTML object>"
      ]
     },
     "metadata": {},
     "output_type": "display_data"
    },
    {
     "data": {
      "text/html": [
       "<br>    <style><br>        .wandb-row {<br>            display: flex;<br>            flex-direction: row;<br>            flex-wrap: wrap;<br>            justify-content: flex-start;<br>            width: 100%;<br>        }<br>        .wandb-col {<br>            display: flex;<br>            flex-direction: column;<br>            flex-basis: 100%;<br>            flex: 1;<br>            padding: 10px;<br>        }<br>    </style><br><div class=\"wandb-row\"><div class=\"wandb-col\"><h3>Run history:</h3><br/><table class=\"wandb\"><tr><td>epoch</td><td>▁▃▅▆█</td></tr><tr><td>test_accuracy</td><td>▁</td></tr><tr><td>training_loss</td><td>█▁▁▁▁</td></tr><tr><td>validation loss</td><td>█▂▇▁▄</td></tr><tr><td>validation_accuracy</td><td>▄█▄▁▁</td></tr></table><br/></div><div class=\"wandb-col\"><h3>Run summary:</h3><br/><table class=\"wandb\"><tr><td>epoch</td><td>5</td></tr><tr><td>test_accuracy</td><td>0.1</td></tr><tr><td>training_loss</td><td>2.30269</td></tr><tr><td>validation loss</td><td>2.30277</td></tr><tr><td>validation_accuracy</td><td>0.09767</td></tr></table><br/></div></div>"
      ],
      "text/plain": [
       "<IPython.core.display.HTML object>"
      ]
     },
     "metadata": {},
     "output_type": "display_data"
    },
    {
     "data": {
      "text/html": [
       " View run <strong style=\"color:#cdcd00\">hl_4_hs_128_bs_32_ac_sigmoid_opt_nesterov</strong> at: <a href='https://wandb.ai/ed24s401-indian-institute-of-technology-madras/q4_sweep_project/runs/rctxp2hl' target=\"_blank\">https://wandb.ai/ed24s401-indian-institute-of-technology-madras/q4_sweep_project/runs/rctxp2hl</a><br> View project at: <a href='https://wandb.ai/ed24s401-indian-institute-of-technology-madras/q4_sweep_project' target=\"_blank\">https://wandb.ai/ed24s401-indian-institute-of-technology-madras/q4_sweep_project</a><br>Synced 5 W&B file(s), 0 media file(s), 0 artifact file(s) and 0 other file(s)"
      ],
      "text/plain": [
       "<IPython.core.display.HTML object>"
      ]
     },
     "metadata": {},
     "output_type": "display_data"
    },
    {
     "data": {
      "text/html": [
       "Find logs at: <code>.\\wandb\\run-20250317_134136-rctxp2hl\\logs</code>"
      ],
      "text/plain": [
       "<IPython.core.display.HTML object>"
      ]
     },
     "metadata": {},
     "output_type": "display_data"
    },
    {
     "name": "stderr",
     "output_type": "stream",
     "text": [
      "\u001b[34m\u001b[1mwandb\u001b[0m: Sweep Agent: Waiting for job.\n",
      "\u001b[34m\u001b[1mwandb\u001b[0m: Job received.\n",
      "\u001b[34m\u001b[1mwandb\u001b[0m: Agent Starting Run: 3za4mz8a with config:\n",
      "\u001b[34m\u001b[1mwandb\u001b[0m: \tactivation: relu\n",
      "\u001b[34m\u001b[1mwandb\u001b[0m: \tbatch_size: 32\n",
      "\u001b[34m\u001b[1mwandb\u001b[0m: \tbeta1: 0.9\n",
      "\u001b[34m\u001b[1mwandb\u001b[0m: \tbeta2: 0.99\n",
      "\u001b[34m\u001b[1mwandb\u001b[0m: \tbeta_rms: 0.9\n",
      "\u001b[34m\u001b[1mwandb\u001b[0m: \tepochs: 10\n",
      "\u001b[34m\u001b[1mwandb\u001b[0m: \tepsilon: 1e-08\n",
      "\u001b[34m\u001b[1mwandb\u001b[0m: \thidden_size: 64\n",
      "\u001b[34m\u001b[1mwandb\u001b[0m: \tinit_type: xavier\n",
      "\u001b[34m\u001b[1mwandb\u001b[0m: \tlearning_rate: 0.001\n",
      "\u001b[34m\u001b[1mwandb\u001b[0m: \tloss_func: cross_entropy\n",
      "\u001b[34m\u001b[1mwandb\u001b[0m: \tmomentum: 0.9\n",
      "\u001b[34m\u001b[1mwandb\u001b[0m: \tnum_hidden_layers: 3\n",
      "\u001b[34m\u001b[1mwandb\u001b[0m: \toptimizer: nadam\n",
      "\u001b[34m\u001b[1mwandb\u001b[0m: \tweight_decay: 0\n"
     ]
    },
    {
     "data": {
      "text/html": [
       "Tracking run with wandb version 0.19.8"
      ],
      "text/plain": [
       "<IPython.core.display.HTML object>"
      ]
     },
     "metadata": {},
     "output_type": "display_data"
    },
    {
     "data": {
      "text/html": [
       "Run data is saved locally in <code>c:\\Users\\acer\\OneDrive\\Documents\\GitHub\\dl_assignment_ed24s401\\wandb\\run-20250317_134229-3za4mz8a</code>"
      ],
      "text/plain": [
       "<IPython.core.display.HTML object>"
      ]
     },
     "metadata": {},
     "output_type": "display_data"
    },
    {
     "data": {
      "text/html": [
       "Syncing run <strong><a href='https://wandb.ai/ed24s401-indian-institute-of-technology-madras/q4_sweep_project/runs/3za4mz8a' target=\"_blank\">atomic-sweep-6</a></strong> to <a href='https://wandb.ai/ed24s401-indian-institute-of-technology-madras/q4_sweep_project' target=\"_blank\">Weights & Biases</a> (<a href='https://wandb.me/developer-guide' target=\"_blank\">docs</a>)<br>Sweep page: <a href='https://wandb.ai/ed24s401-indian-institute-of-technology-madras/q4_sweep_project/sweeps/hp8fw2uv' target=\"_blank\">https://wandb.ai/ed24s401-indian-institute-of-technology-madras/q4_sweep_project/sweeps/hp8fw2uv</a>"
      ],
      "text/plain": [
       "<IPython.core.display.HTML object>"
      ]
     },
     "metadata": {},
     "output_type": "display_data"
    },
    {
     "data": {
      "text/html": [
       " View project at <a href='https://wandb.ai/ed24s401-indian-institute-of-technology-madras/q4_sweep_project' target=\"_blank\">https://wandb.ai/ed24s401-indian-institute-of-technology-madras/q4_sweep_project</a>"
      ],
      "text/plain": [
       "<IPython.core.display.HTML object>"
      ]
     },
     "metadata": {},
     "output_type": "display_data"
    },
    {
     "data": {
      "text/html": [
       " View sweep at <a href='https://wandb.ai/ed24s401-indian-institute-of-technology-madras/q4_sweep_project/sweeps/hp8fw2uv' target=\"_blank\">https://wandb.ai/ed24s401-indian-institute-of-technology-madras/q4_sweep_project/sweeps/hp8fw2uv</a>"
      ],
      "text/plain": [
       "<IPython.core.display.HTML object>"
      ]
     },
     "metadata": {},
     "output_type": "display_data"
    },
    {
     "data": {
      "text/html": [
       " View run at <a href='https://wandb.ai/ed24s401-indian-institute-of-technology-madras/q4_sweep_project/runs/3za4mz8a' target=\"_blank\">https://wandb.ai/ed24s401-indian-institute-of-technology-madras/q4_sweep_project/runs/3za4mz8a</a>"
      ],
      "text/plain": [
       "<IPython.core.display.HTML object>"
      ]
     },
     "metadata": {},
     "output_type": "display_data"
    },
    {
     "name": "stdout",
     "output_type": "stream",
     "text": [
      "Epoch 1/10 - loss=0.5167, val_acc=0.8475, val_loss=0.4157992602449881\n",
      "Epoch 2/10 - loss=0.3826, val_acc=0.8623, val_loss=0.3724421827394258\n",
      "Epoch 3/10 - loss=0.3459, val_acc=0.8782, val_loss=0.3431994676871723\n",
      "Epoch 4/10 - loss=0.3220, val_acc=0.8783, val_loss=0.33124194239118143\n",
      "Epoch 5/10 - loss=0.3054, val_acc=0.8755, val_loss=0.3335823233260507\n",
      "Epoch 6/10 - loss=0.2903, val_acc=0.8783, val_loss=0.326151366963755\n",
      "Epoch 7/10 - loss=0.2799, val_acc=0.8837, val_loss=0.3199459992153886\n",
      "Epoch 8/10 - loss=0.2703, val_acc=0.8803, val_loss=0.3241656205503574\n",
      "Epoch 9/10 - loss=0.2599, val_acc=0.8880, val_loss=0.30563255950964774\n",
      "Epoch 10/10 - loss=0.2546, val_acc=0.8827, val_loss=0.32142511341451585\n",
      "test accuracy  0.8795\n"
     ]
    },
    {
     "data": {
      "text/html": [],
      "text/plain": [
       "<IPython.core.display.HTML object>"
      ]
     },
     "metadata": {},
     "output_type": "display_data"
    },
    {
     "data": {
      "text/html": [
       "<br>    <style><br>        .wandb-row {<br>            display: flex;<br>            flex-direction: row;<br>            flex-wrap: wrap;<br>            justify-content: flex-start;<br>            width: 100%;<br>        }<br>        .wandb-col {<br>            display: flex;<br>            flex-direction: column;<br>            flex-basis: 100%;<br>            flex: 1;<br>            padding: 10px;<br>        }<br>    </style><br><div class=\"wandb-row\"><div class=\"wandb-col\"><h3>Run history:</h3><br/><table class=\"wandb\"><tr><td>epoch</td><td>▁▂▃▃▄▅▆▆▇█</td></tr><tr><td>test_accuracy</td><td>▁</td></tr><tr><td>training_loss</td><td>█▄▃▃▂▂▂▁▁▁</td></tr><tr><td>validation loss</td><td>█▅▃▃▃▂▂▂▁▂</td></tr><tr><td>validation_accuracy</td><td>▁▄▆▆▆▆▇▇█▇</td></tr></table><br/></div><div class=\"wandb-col\"><h3>Run summary:</h3><br/><table class=\"wandb\"><tr><td>epoch</td><td>10</td></tr><tr><td>test_accuracy</td><td>0.8795</td></tr><tr><td>training_loss</td><td>0.25455</td></tr><tr><td>validation loss</td><td>0.32143</td></tr><tr><td>validation_accuracy</td><td>0.88267</td></tr></table><br/></div></div>"
      ],
      "text/plain": [
       "<IPython.core.display.HTML object>"
      ]
     },
     "metadata": {},
     "output_type": "display_data"
    },
    {
     "data": {
      "text/html": [
       " View run <strong style=\"color:#cdcd00\">hl_3_hs_64_bs_32_ac_relu_opt_nadam</strong> at: <a href='https://wandb.ai/ed24s401-indian-institute-of-technology-madras/q4_sweep_project/runs/3za4mz8a' target=\"_blank\">https://wandb.ai/ed24s401-indian-institute-of-technology-madras/q4_sweep_project/runs/3za4mz8a</a><br> View project at: <a href='https://wandb.ai/ed24s401-indian-institute-of-technology-madras/q4_sweep_project' target=\"_blank\">https://wandb.ai/ed24s401-indian-institute-of-technology-madras/q4_sweep_project</a><br>Synced 5 W&B file(s), 0 media file(s), 0 artifact file(s) and 0 other file(s)"
      ],
      "text/plain": [
       "<IPython.core.display.HTML object>"
      ]
     },
     "metadata": {},
     "output_type": "display_data"
    },
    {
     "data": {
      "text/html": [
       "Find logs at: <code>.\\wandb\\run-20250317_134229-3za4mz8a\\logs</code>"
      ],
      "text/plain": [
       "<IPython.core.display.HTML object>"
      ]
     },
     "metadata": {},
     "output_type": "display_data"
    },
    {
     "name": "stderr",
     "output_type": "stream",
     "text": [
      "\u001b[34m\u001b[1mwandb\u001b[0m: Agent Starting Run: 1bjpmgm4 with config:\n",
      "\u001b[34m\u001b[1mwandb\u001b[0m: \tactivation: sigmoid\n",
      "\u001b[34m\u001b[1mwandb\u001b[0m: \tbatch_size: 32\n",
      "\u001b[34m\u001b[1mwandb\u001b[0m: \tbeta1: 0.9\n",
      "\u001b[34m\u001b[1mwandb\u001b[0m: \tbeta2: 0.99\n",
      "\u001b[34m\u001b[1mwandb\u001b[0m: \tbeta_rms: 0.9\n",
      "\u001b[34m\u001b[1mwandb\u001b[0m: \tepochs: 10\n",
      "\u001b[34m\u001b[1mwandb\u001b[0m: \tepsilon: 1e-08\n",
      "\u001b[34m\u001b[1mwandb\u001b[0m: \thidden_size: 32\n",
      "\u001b[34m\u001b[1mwandb\u001b[0m: \tinit_type: random\n",
      "\u001b[34m\u001b[1mwandb\u001b[0m: \tlearning_rate: 0.0001\n",
      "\u001b[34m\u001b[1mwandb\u001b[0m: \tloss_func: cross_entropy\n",
      "\u001b[34m\u001b[1mwandb\u001b[0m: \tmomentum: 0.9\n",
      "\u001b[34m\u001b[1mwandb\u001b[0m: \tnum_hidden_layers: 3\n",
      "\u001b[34m\u001b[1mwandb\u001b[0m: \toptimizer: nesterov\n",
      "\u001b[34m\u001b[1mwandb\u001b[0m: \tweight_decay: 0.0005\n"
     ]
    },
    {
     "data": {
      "text/html": [
       "creating run (1.3s)"
      ],
      "text/plain": [
       "<IPython.core.display.HTML object>"
      ]
     },
     "metadata": {},
     "output_type": "display_data"
    },
    {
     "data": {
      "text/html": [
       "Tracking run with wandb version 0.19.8"
      ],
      "text/plain": [
       "<IPython.core.display.HTML object>"
      ]
     },
     "metadata": {},
     "output_type": "display_data"
    },
    {
     "data": {
      "text/html": [
       "Run data is saved locally in <code>c:\\Users\\acer\\OneDrive\\Documents\\GitHub\\dl_assignment_ed24s401\\wandb\\run-20250317_134348-1bjpmgm4</code>"
      ],
      "text/plain": [
       "<IPython.core.display.HTML object>"
      ]
     },
     "metadata": {},
     "output_type": "display_data"
    },
    {
     "data": {
      "text/html": [
       "Syncing run <strong><a href='https://wandb.ai/ed24s401-indian-institute-of-technology-madras/q4_sweep_project/runs/1bjpmgm4' target=\"_blank\">copper-sweep-7</a></strong> to <a href='https://wandb.ai/ed24s401-indian-institute-of-technology-madras/q4_sweep_project' target=\"_blank\">Weights & Biases</a> (<a href='https://wandb.me/developer-guide' target=\"_blank\">docs</a>)<br>Sweep page: <a href='https://wandb.ai/ed24s401-indian-institute-of-technology-madras/q4_sweep_project/sweeps/hp8fw2uv' target=\"_blank\">https://wandb.ai/ed24s401-indian-institute-of-technology-madras/q4_sweep_project/sweeps/hp8fw2uv</a>"
      ],
      "text/plain": [
       "<IPython.core.display.HTML object>"
      ]
     },
     "metadata": {},
     "output_type": "display_data"
    },
    {
     "data": {
      "text/html": [
       " View project at <a href='https://wandb.ai/ed24s401-indian-institute-of-technology-madras/q4_sweep_project' target=\"_blank\">https://wandb.ai/ed24s401-indian-institute-of-technology-madras/q4_sweep_project</a>"
      ],
      "text/plain": [
       "<IPython.core.display.HTML object>"
      ]
     },
     "metadata": {},
     "output_type": "display_data"
    },
    {
     "data": {
      "text/html": [
       " View sweep at <a href='https://wandb.ai/ed24s401-indian-institute-of-technology-madras/q4_sweep_project/sweeps/hp8fw2uv' target=\"_blank\">https://wandb.ai/ed24s401-indian-institute-of-technology-madras/q4_sweep_project/sweeps/hp8fw2uv</a>"
      ],
      "text/plain": [
       "<IPython.core.display.HTML object>"
      ]
     },
     "metadata": {},
     "output_type": "display_data"
    },
    {
     "data": {
      "text/html": [
       " View run at <a href='https://wandb.ai/ed24s401-indian-institute-of-technology-madras/q4_sweep_project/runs/1bjpmgm4' target=\"_blank\">https://wandb.ai/ed24s401-indian-institute-of-technology-madras/q4_sweep_project/runs/1bjpmgm4</a>"
      ],
      "text/plain": [
       "<IPython.core.display.HTML object>"
      ]
     },
     "metadata": {},
     "output_type": "display_data"
    },
    {
     "name": "stdout",
     "output_type": "stream",
     "text": [
      "Epoch 1/10 - loss=2.4294, val_acc=0.1012, val_loss=2.3070099067544882\n",
      "Epoch 2/10 - loss=2.3524, val_acc=0.2153, val_loss=2.2949199972316405\n",
      "Epoch 3/10 - loss=2.3451, val_acc=0.2393, val_loss=2.289798684137088\n",
      "Epoch 4/10 - loss=2.3400, val_acc=0.2873, val_loss=2.2848715584484522\n",
      "Epoch 5/10 - loss=2.3349, val_acc=0.3177, val_loss=2.27964418416063\n",
      "Epoch 6/10 - loss=2.3296, val_acc=0.3298, val_loss=2.2740921762453583\n",
      "Epoch 7/10 - loss=2.3238, val_acc=0.3200, val_loss=2.268079310237216\n",
      "Epoch 8/10 - loss=2.3175, val_acc=0.3377, val_loss=2.2613472085350392\n",
      "Epoch 9/10 - loss=2.3105, val_acc=0.3270, val_loss=2.253804328705537\n",
      "Epoch 10/10 - loss=2.3025, val_acc=0.3237, val_loss=2.2450918236727397\n",
      "test accuracy  0.3184\n"
     ]
    },
    {
     "data": {
      "text/html": [],
      "text/plain": [
       "<IPython.core.display.HTML object>"
      ]
     },
     "metadata": {},
     "output_type": "display_data"
    },
    {
     "data": {
      "text/html": [
       "<br>    <style><br>        .wandb-row {<br>            display: flex;<br>            flex-direction: row;<br>            flex-wrap: wrap;<br>            justify-content: flex-start;<br>            width: 100%;<br>        }<br>        .wandb-col {<br>            display: flex;<br>            flex-direction: column;<br>            flex-basis: 100%;<br>            flex: 1;<br>            padding: 10px;<br>        }<br>    </style><br><div class=\"wandb-row\"><div class=\"wandb-col\"><h3>Run history:</h3><br/><table class=\"wandb\"><tr><td>epoch</td><td>▁▂▃▃▄▅▆▆▇█</td></tr><tr><td>test_accuracy</td><td>▁</td></tr><tr><td>training_loss</td><td>█▄▃▃▃▂▂▂▁▁</td></tr><tr><td>validation loss</td><td>█▇▆▅▅▄▄▃▂▁</td></tr><tr><td>validation_accuracy</td><td>▁▄▅▇▇█▇███</td></tr></table><br/></div><div class=\"wandb-col\"><h3>Run summary:</h3><br/><table class=\"wandb\"><tr><td>epoch</td><td>10</td></tr><tr><td>test_accuracy</td><td>0.3184</td></tr><tr><td>training_loss</td><td>2.30249</td></tr><tr><td>validation loss</td><td>2.24509</td></tr><tr><td>validation_accuracy</td><td>0.32367</td></tr></table><br/></div></div>"
      ],
      "text/plain": [
       "<IPython.core.display.HTML object>"
      ]
     },
     "metadata": {},
     "output_type": "display_data"
    },
    {
     "data": {
      "text/html": [
       " View run <strong style=\"color:#cdcd00\">hl_3_hs_32_bs_32_ac_sigmoid_opt_nesterov</strong> at: <a href='https://wandb.ai/ed24s401-indian-institute-of-technology-madras/q4_sweep_project/runs/1bjpmgm4' target=\"_blank\">https://wandb.ai/ed24s401-indian-institute-of-technology-madras/q4_sweep_project/runs/1bjpmgm4</a><br> View project at: <a href='https://wandb.ai/ed24s401-indian-institute-of-technology-madras/q4_sweep_project' target=\"_blank\">https://wandb.ai/ed24s401-indian-institute-of-technology-madras/q4_sweep_project</a><br>Synced 5 W&B file(s), 0 media file(s), 0 artifact file(s) and 0 other file(s)"
      ],
      "text/plain": [
       "<IPython.core.display.HTML object>"
      ]
     },
     "metadata": {},
     "output_type": "display_data"
    },
    {
     "data": {
      "text/html": [
       "Find logs at: <code>.\\wandb\\run-20250317_134348-1bjpmgm4\\logs</code>"
      ],
      "text/plain": [
       "<IPython.core.display.HTML object>"
      ]
     },
     "metadata": {},
     "output_type": "display_data"
    },
    {
     "name": "stderr",
     "output_type": "stream",
     "text": [
      "\u001b[34m\u001b[1mwandb\u001b[0m: Agent Starting Run: a244evgq with config:\n",
      "\u001b[34m\u001b[1mwandb\u001b[0m: \tactivation: relu\n",
      "\u001b[34m\u001b[1mwandb\u001b[0m: \tbatch_size: 64\n",
      "\u001b[34m\u001b[1mwandb\u001b[0m: \tbeta1: 0.9\n",
      "\u001b[34m\u001b[1mwandb\u001b[0m: \tbeta2: 0.99\n",
      "\u001b[34m\u001b[1mwandb\u001b[0m: \tbeta_rms: 0.9\n",
      "\u001b[34m\u001b[1mwandb\u001b[0m: \tepochs: 10\n",
      "\u001b[34m\u001b[1mwandb\u001b[0m: \tepsilon: 1e-08\n",
      "\u001b[34m\u001b[1mwandb\u001b[0m: \thidden_size: 32\n",
      "\u001b[34m\u001b[1mwandb\u001b[0m: \tinit_type: random\n",
      "\u001b[34m\u001b[1mwandb\u001b[0m: \tlearning_rate: 0.0001\n",
      "\u001b[34m\u001b[1mwandb\u001b[0m: \tloss_func: cross_entropy\n",
      "\u001b[34m\u001b[1mwandb\u001b[0m: \tmomentum: 0.9\n",
      "\u001b[34m\u001b[1mwandb\u001b[0m: \tnum_hidden_layers: 3\n",
      "\u001b[34m\u001b[1mwandb\u001b[0m: \toptimizer: momentum\n",
      "\u001b[34m\u001b[1mwandb\u001b[0m: \tweight_decay: 0.5\n"
     ]
    },
    {
     "data": {
      "text/html": [
       "Tracking run with wandb version 0.19.8"
      ],
      "text/plain": [
       "<IPython.core.display.HTML object>"
      ]
     },
     "metadata": {},
     "output_type": "display_data"
    },
    {
     "data": {
      "text/html": [
       "Run data is saved locally in <code>c:\\Users\\acer\\OneDrive\\Documents\\GitHub\\dl_assignment_ed24s401\\wandb\\run-20250317_134415-a244evgq</code>"
      ],
      "text/plain": [
       "<IPython.core.display.HTML object>"
      ]
     },
     "metadata": {},
     "output_type": "display_data"
    },
    {
     "data": {
      "text/html": [
       "Syncing run <strong><a href='https://wandb.ai/ed24s401-indian-institute-of-technology-madras/q4_sweep_project/runs/a244evgq' target=\"_blank\">stoic-sweep-8</a></strong> to <a href='https://wandb.ai/ed24s401-indian-institute-of-technology-madras/q4_sweep_project' target=\"_blank\">Weights & Biases</a> (<a href='https://wandb.me/developer-guide' target=\"_blank\">docs</a>)<br>Sweep page: <a href='https://wandb.ai/ed24s401-indian-institute-of-technology-madras/q4_sweep_project/sweeps/hp8fw2uv' target=\"_blank\">https://wandb.ai/ed24s401-indian-institute-of-technology-madras/q4_sweep_project/sweeps/hp8fw2uv</a>"
      ],
      "text/plain": [
       "<IPython.core.display.HTML object>"
      ]
     },
     "metadata": {},
     "output_type": "display_data"
    },
    {
     "data": {
      "text/html": [
       " View project at <a href='https://wandb.ai/ed24s401-indian-institute-of-technology-madras/q4_sweep_project' target=\"_blank\">https://wandb.ai/ed24s401-indian-institute-of-technology-madras/q4_sweep_project</a>"
      ],
      "text/plain": [
       "<IPython.core.display.HTML object>"
      ]
     },
     "metadata": {},
     "output_type": "display_data"
    },
    {
     "data": {
      "text/html": [
       " View sweep at <a href='https://wandb.ai/ed24s401-indian-institute-of-technology-madras/q4_sweep_project/sweeps/hp8fw2uv' target=\"_blank\">https://wandb.ai/ed24s401-indian-institute-of-technology-madras/q4_sweep_project/sweeps/hp8fw2uv</a>"
      ],
      "text/plain": [
       "<IPython.core.display.HTML object>"
      ]
     },
     "metadata": {},
     "output_type": "display_data"
    },
    {
     "data": {
      "text/html": [
       " View run at <a href='https://wandb.ai/ed24s401-indian-institute-of-technology-madras/q4_sweep_project/runs/a244evgq' target=\"_blank\">https://wandb.ai/ed24s401-indian-institute-of-technology-madras/q4_sweep_project/runs/a244evgq</a>"
      ],
      "text/plain": [
       "<IPython.core.display.HTML object>"
      ]
     },
     "metadata": {},
     "output_type": "display_data"
    },
    {
     "name": "stdout",
     "output_type": "stream",
     "text": [
      "Epoch 1/10 - loss=38.2100, val_acc=0.2527, val_loss=2.1529700224466186\n",
      "Epoch 2/10 - loss=17.7579, val_acc=0.3050, val_loss=2.2196834643680896\n",
      "Epoch 3/10 - loss=9.0057, val_acc=0.3358, val_loss=2.270609800008005\n",
      "Epoch 4/10 - loss=5.2158, val_acc=0.1360, val_loss=2.293251642564492\n",
      "Epoch 5/10 - loss=3.5659, val_acc=0.1023, val_loss=2.3005726386969183\n",
      "Epoch 6/10 - loss=2.8483, val_acc=0.1023, val_loss=2.302328513479357\n",
      "Epoch 7/10 - loss=2.5375, val_acc=0.1023, val_loss=2.302650588733575\n",
      "Epoch 8/10 - loss=2.4035, val_acc=0.1023, val_loss=2.3026902196403487\n",
      "Epoch 9/10 - loss=2.3459, val_acc=0.1023, val_loss=2.3026800799254716\n",
      "Epoch 10/10 - loss=2.3212, val_acc=0.0977, val_loss=2.3026656438330813\n",
      "test accuracy  0.1\n"
     ]
    },
    {
     "data": {
      "text/html": [],
      "text/plain": [
       "<IPython.core.display.HTML object>"
      ]
     },
     "metadata": {},
     "output_type": "display_data"
    },
    {
     "data": {
      "text/html": [
       "<br>    <style><br>        .wandb-row {<br>            display: flex;<br>            flex-direction: row;<br>            flex-wrap: wrap;<br>            justify-content: flex-start;<br>            width: 100%;<br>        }<br>        .wandb-col {<br>            display: flex;<br>            flex-direction: column;<br>            flex-basis: 100%;<br>            flex: 1;<br>            padding: 10px;<br>        }<br>    </style><br><div class=\"wandb-row\"><div class=\"wandb-col\"><h3>Run history:</h3><br/><table class=\"wandb\"><tr><td>epoch</td><td>▁▂▃▃▄▅▆▆▇█</td></tr><tr><td>test_accuracy</td><td>▁</td></tr><tr><td>training_loss</td><td>█▄▂▂▁▁▁▁▁▁</td></tr><tr><td>validation loss</td><td>▁▄▇███████</td></tr><tr><td>validation_accuracy</td><td>▆▇█▂▁▁▁▁▁▁</td></tr></table><br/></div><div class=\"wandb-col\"><h3>Run summary:</h3><br/><table class=\"wandb\"><tr><td>epoch</td><td>10</td></tr><tr><td>test_accuracy</td><td>0.1</td></tr><tr><td>training_loss</td><td>2.32123</td></tr><tr><td>validation loss</td><td>2.30267</td></tr><tr><td>validation_accuracy</td><td>0.09767</td></tr></table><br/></div></div>"
      ],
      "text/plain": [
       "<IPython.core.display.HTML object>"
      ]
     },
     "metadata": {},
     "output_type": "display_data"
    },
    {
     "data": {
      "text/html": [
       " View run <strong style=\"color:#cdcd00\">hl_3_hs_32_bs_64_ac_relu_opt_momentum</strong> at: <a href='https://wandb.ai/ed24s401-indian-institute-of-technology-madras/q4_sweep_project/runs/a244evgq' target=\"_blank\">https://wandb.ai/ed24s401-indian-institute-of-technology-madras/q4_sweep_project/runs/a244evgq</a><br> View project at: <a href='https://wandb.ai/ed24s401-indian-institute-of-technology-madras/q4_sweep_project' target=\"_blank\">https://wandb.ai/ed24s401-indian-institute-of-technology-madras/q4_sweep_project</a><br>Synced 5 W&B file(s), 0 media file(s), 0 artifact file(s) and 0 other file(s)"
      ],
      "text/plain": [
       "<IPython.core.display.HTML object>"
      ]
     },
     "metadata": {},
     "output_type": "display_data"
    },
    {
     "data": {
      "text/html": [
       "Find logs at: <code>.\\wandb\\run-20250317_134415-a244evgq\\logs</code>"
      ],
      "text/plain": [
       "<IPython.core.display.HTML object>"
      ]
     },
     "metadata": {},
     "output_type": "display_data"
    },
    {
     "name": "stderr",
     "output_type": "stream",
     "text": [
      "\u001b[34m\u001b[1mwandb\u001b[0m: Agent Starting Run: gp485gz7 with config:\n",
      "\u001b[34m\u001b[1mwandb\u001b[0m: \tactivation: tanh\n",
      "\u001b[34m\u001b[1mwandb\u001b[0m: \tbatch_size: 16\n",
      "\u001b[34m\u001b[1mwandb\u001b[0m: \tbeta1: 0.9\n",
      "\u001b[34m\u001b[1mwandb\u001b[0m: \tbeta2: 0.99\n",
      "\u001b[34m\u001b[1mwandb\u001b[0m: \tbeta_rms: 0.9\n",
      "\u001b[34m\u001b[1mwandb\u001b[0m: \tepochs: 5\n",
      "\u001b[34m\u001b[1mwandb\u001b[0m: \tepsilon: 1e-08\n",
      "\u001b[34m\u001b[1mwandb\u001b[0m: \thidden_size: 128\n",
      "\u001b[34m\u001b[1mwandb\u001b[0m: \tinit_type: random\n",
      "\u001b[34m\u001b[1mwandb\u001b[0m: \tlearning_rate: 0.0001\n",
      "\u001b[34m\u001b[1mwandb\u001b[0m: \tloss_func: cross_entropy\n",
      "\u001b[34m\u001b[1mwandb\u001b[0m: \tmomentum: 0.9\n",
      "\u001b[34m\u001b[1mwandb\u001b[0m: \tnum_hidden_layers: 5\n",
      "\u001b[34m\u001b[1mwandb\u001b[0m: \toptimizer: nadam\n",
      "\u001b[34m\u001b[1mwandb\u001b[0m: \tweight_decay: 0.0005\n"
     ]
    },
    {
     "data": {
      "text/html": [
       "Tracking run with wandb version 0.19.8"
      ],
      "text/plain": [
       "<IPython.core.display.HTML object>"
      ]
     },
     "metadata": {},
     "output_type": "display_data"
    },
    {
     "data": {
      "text/html": [
       "Run data is saved locally in <code>c:\\Users\\acer\\OneDrive\\Documents\\GitHub\\dl_assignment_ed24s401\\wandb\\run-20250317_134432-gp485gz7</code>"
      ],
      "text/plain": [
       "<IPython.core.display.HTML object>"
      ]
     },
     "metadata": {},
     "output_type": "display_data"
    },
    {
     "data": {
      "text/html": [
       "Syncing run <strong><a href='https://wandb.ai/ed24s401-indian-institute-of-technology-madras/q4_sweep_project/runs/gp485gz7' target=\"_blank\">happy-sweep-9</a></strong> to <a href='https://wandb.ai/ed24s401-indian-institute-of-technology-madras/q4_sweep_project' target=\"_blank\">Weights & Biases</a> (<a href='https://wandb.me/developer-guide' target=\"_blank\">docs</a>)<br>Sweep page: <a href='https://wandb.ai/ed24s401-indian-institute-of-technology-madras/q4_sweep_project/sweeps/hp8fw2uv' target=\"_blank\">https://wandb.ai/ed24s401-indian-institute-of-technology-madras/q4_sweep_project/sweeps/hp8fw2uv</a>"
      ],
      "text/plain": [
       "<IPython.core.display.HTML object>"
      ]
     },
     "metadata": {},
     "output_type": "display_data"
    },
    {
     "data": {
      "text/html": [
       " View project at <a href='https://wandb.ai/ed24s401-indian-institute-of-technology-madras/q4_sweep_project' target=\"_blank\">https://wandb.ai/ed24s401-indian-institute-of-technology-madras/q4_sweep_project</a>"
      ],
      "text/plain": [
       "<IPython.core.display.HTML object>"
      ]
     },
     "metadata": {},
     "output_type": "display_data"
    },
    {
     "data": {
      "text/html": [
       " View sweep at <a href='https://wandb.ai/ed24s401-indian-institute-of-technology-madras/q4_sweep_project/sweeps/hp8fw2uv' target=\"_blank\">https://wandb.ai/ed24s401-indian-institute-of-technology-madras/q4_sweep_project/sweeps/hp8fw2uv</a>"
      ],
      "text/plain": [
       "<IPython.core.display.HTML object>"
      ]
     },
     "metadata": {},
     "output_type": "display_data"
    },
    {
     "data": {
      "text/html": [
       " View run at <a href='https://wandb.ai/ed24s401-indian-institute-of-technology-madras/q4_sweep_project/runs/gp485gz7' target=\"_blank\">https://wandb.ai/ed24s401-indian-institute-of-technology-madras/q4_sweep_project/runs/gp485gz7</a>"
      ],
      "text/plain": [
       "<IPython.core.display.HTML object>"
      ]
     },
     "metadata": {},
     "output_type": "display_data"
    },
    {
     "name": "stdout",
     "output_type": "stream",
     "text": [
      "Epoch 1/5 - loss=0.8307, val_acc=0.8495, val_loss=0.41277935955795053\n",
      "Epoch 2/5 - loss=0.6824, val_acc=0.8645, val_loss=0.3757961226085417\n",
      "Epoch 3/5 - loss=0.6375, val_acc=0.8607, val_loss=0.3725148016237982\n",
      "Epoch 4/5 - loss=0.6055, val_acc=0.8757, val_loss=0.3394944504837161\n",
      "Epoch 5/5 - loss=0.5796, val_acc=0.8763, val_loss=0.32667168781466793\n",
      "test accuracy  0.8709\n"
     ]
    },
    {
     "data": {
      "text/html": [],
      "text/plain": [
       "<IPython.core.display.HTML object>"
      ]
     },
     "metadata": {},
     "output_type": "display_data"
    },
    {
     "data": {
      "text/html": [
       "<br>    <style><br>        .wandb-row {<br>            display: flex;<br>            flex-direction: row;<br>            flex-wrap: wrap;<br>            justify-content: flex-start;<br>            width: 100%;<br>        }<br>        .wandb-col {<br>            display: flex;<br>            flex-direction: column;<br>            flex-basis: 100%;<br>            flex: 1;<br>            padding: 10px;<br>        }<br>    </style><br><div class=\"wandb-row\"><div class=\"wandb-col\"><h3>Run history:</h3><br/><table class=\"wandb\"><tr><td>epoch</td><td>▁▃▅▆█</td></tr><tr><td>test_accuracy</td><td>▁</td></tr><tr><td>training_loss</td><td>█▄▃▂▁</td></tr><tr><td>validation loss</td><td>█▅▅▂▁</td></tr><tr><td>validation_accuracy</td><td>▁▅▄██</td></tr></table><br/></div><div class=\"wandb-col\"><h3>Run summary:</h3><br/><table class=\"wandb\"><tr><td>epoch</td><td>5</td></tr><tr><td>test_accuracy</td><td>0.8709</td></tr><tr><td>training_loss</td><td>0.57962</td></tr><tr><td>validation loss</td><td>0.32667</td></tr><tr><td>validation_accuracy</td><td>0.87633</td></tr></table><br/></div></div>"
      ],
      "text/plain": [
       "<IPython.core.display.HTML object>"
      ]
     },
     "metadata": {},
     "output_type": "display_data"
    },
    {
     "data": {
      "text/html": [
       " View run <strong style=\"color:#cdcd00\">hl_5_hs_128_bs_16_ac_tanh_opt_nadam</strong> at: <a href='https://wandb.ai/ed24s401-indian-institute-of-technology-madras/q4_sweep_project/runs/gp485gz7' target=\"_blank\">https://wandb.ai/ed24s401-indian-institute-of-technology-madras/q4_sweep_project/runs/gp485gz7</a><br> View project at: <a href='https://wandb.ai/ed24s401-indian-institute-of-technology-madras/q4_sweep_project' target=\"_blank\">https://wandb.ai/ed24s401-indian-institute-of-technology-madras/q4_sweep_project</a><br>Synced 5 W&B file(s), 0 media file(s), 0 artifact file(s) and 0 other file(s)"
      ],
      "text/plain": [
       "<IPython.core.display.HTML object>"
      ]
     },
     "metadata": {},
     "output_type": "display_data"
    },
    {
     "data": {
      "text/html": [
       "Find logs at: <code>.\\wandb\\run-20250317_134432-gp485gz7\\logs</code>"
      ],
      "text/plain": [
       "<IPython.core.display.HTML object>"
      ]
     },
     "metadata": {},
     "output_type": "display_data"
    },
    {
     "name": "stderr",
     "output_type": "stream",
     "text": [
      "\u001b[34m\u001b[1mwandb\u001b[0m: Agent Starting Run: 4tcaqm1z with config:\n",
      "\u001b[34m\u001b[1mwandb\u001b[0m: \tactivation: relu\n",
      "\u001b[34m\u001b[1mwandb\u001b[0m: \tbatch_size: 16\n",
      "\u001b[34m\u001b[1mwandb\u001b[0m: \tbeta1: 0.9\n",
      "\u001b[34m\u001b[1mwandb\u001b[0m: \tbeta2: 0.999\n",
      "\u001b[34m\u001b[1mwandb\u001b[0m: \tbeta_rms: 0.9\n",
      "\u001b[34m\u001b[1mwandb\u001b[0m: \tepochs: 5\n",
      "\u001b[34m\u001b[1mwandb\u001b[0m: \tepsilon: 1e-08\n",
      "\u001b[34m\u001b[1mwandb\u001b[0m: \thidden_size: 32\n",
      "\u001b[34m\u001b[1mwandb\u001b[0m: \tinit_type: random\n",
      "\u001b[34m\u001b[1mwandb\u001b[0m: \tlearning_rate: 0.001\n",
      "\u001b[34m\u001b[1mwandb\u001b[0m: \tloss_func: cross_entropy\n",
      "\u001b[34m\u001b[1mwandb\u001b[0m: \tmomentum: 0.9\n",
      "\u001b[34m\u001b[1mwandb\u001b[0m: \tnum_hidden_layers: 3\n",
      "\u001b[34m\u001b[1mwandb\u001b[0m: \toptimizer: sgd\n",
      "\u001b[34m\u001b[1mwandb\u001b[0m: \tweight_decay: 0\n"
     ]
    },
    {
     "data": {
      "text/html": [
       "creating run (0.3s)"
      ],
      "text/plain": [
       "<IPython.core.display.HTML object>"
      ]
     },
     "metadata": {},
     "output_type": "display_data"
    },
    {
     "data": {
      "text/html": [
       "Tracking run with wandb version 0.19.8"
      ],
      "text/plain": [
       "<IPython.core.display.HTML object>"
      ]
     },
     "metadata": {},
     "output_type": "display_data"
    },
    {
     "data": {
      "text/html": [
       "Run data is saved locally in <code>c:\\Users\\acer\\OneDrive\\Documents\\GitHub\\dl_assignment_ed24s401\\wandb\\run-20250317_134619-4tcaqm1z</code>"
      ],
      "text/plain": [
       "<IPython.core.display.HTML object>"
      ]
     },
     "metadata": {},
     "output_type": "display_data"
    },
    {
     "data": {
      "text/html": [
       "Syncing run <strong><a href='https://wandb.ai/ed24s401-indian-institute-of-technology-madras/q4_sweep_project/runs/4tcaqm1z' target=\"_blank\">logical-sweep-10</a></strong> to <a href='https://wandb.ai/ed24s401-indian-institute-of-technology-madras/q4_sweep_project' target=\"_blank\">Weights & Biases</a> (<a href='https://wandb.me/developer-guide' target=\"_blank\">docs</a>)<br>Sweep page: <a href='https://wandb.ai/ed24s401-indian-institute-of-technology-madras/q4_sweep_project/sweeps/hp8fw2uv' target=\"_blank\">https://wandb.ai/ed24s401-indian-institute-of-technology-madras/q4_sweep_project/sweeps/hp8fw2uv</a>"
      ],
      "text/plain": [
       "<IPython.core.display.HTML object>"
      ]
     },
     "metadata": {},
     "output_type": "display_data"
    },
    {
     "data": {
      "text/html": [
       " View project at <a href='https://wandb.ai/ed24s401-indian-institute-of-technology-madras/q4_sweep_project' target=\"_blank\">https://wandb.ai/ed24s401-indian-institute-of-technology-madras/q4_sweep_project</a>"
      ],
      "text/plain": [
       "<IPython.core.display.HTML object>"
      ]
     },
     "metadata": {},
     "output_type": "display_data"
    },
    {
     "data": {
      "text/html": [
       " View sweep at <a href='https://wandb.ai/ed24s401-indian-institute-of-technology-madras/q4_sweep_project/sweeps/hp8fw2uv' target=\"_blank\">https://wandb.ai/ed24s401-indian-institute-of-technology-madras/q4_sweep_project/sweeps/hp8fw2uv</a>"
      ],
      "text/plain": [
       "<IPython.core.display.HTML object>"
      ]
     },
     "metadata": {},
     "output_type": "display_data"
    },
    {
     "data": {
      "text/html": [
       " View run at <a href='https://wandb.ai/ed24s401-indian-institute-of-technology-madras/q4_sweep_project/runs/4tcaqm1z' target=\"_blank\">https://wandb.ai/ed24s401-indian-institute-of-technology-madras/q4_sweep_project/runs/4tcaqm1z</a>"
      ],
      "text/plain": [
       "<IPython.core.display.HTML object>"
      ]
     },
     "metadata": {},
     "output_type": "display_data"
    },
    {
     "name": "stdout",
     "output_type": "stream",
     "text": [
      "Epoch 1/5 - loss=1.3679, val_acc=0.7063, val_loss=0.8329415952754935\n",
      "Epoch 2/5 - loss=0.7221, val_acc=0.7687, val_loss=0.6608629474838044\n",
      "Epoch 3/5 - loss=0.6029, val_acc=0.7983, val_loss=0.5786175086804313\n",
      "Epoch 4/5 - loss=0.5460, val_acc=0.8128, val_loss=0.5379657745643167\n",
      "Epoch 5/5 - loss=0.5127, val_acc=0.8207, val_loss=0.5109834376221335\n",
      "test accuracy  0.8185\n"
     ]
    },
    {
     "data": {
      "text/html": [],
      "text/plain": [
       "<IPython.core.display.HTML object>"
      ]
     },
     "metadata": {},
     "output_type": "display_data"
    },
    {
     "data": {
      "text/html": [
       "<br>    <style><br>        .wandb-row {<br>            display: flex;<br>            flex-direction: row;<br>            flex-wrap: wrap;<br>            justify-content: flex-start;<br>            width: 100%;<br>        }<br>        .wandb-col {<br>            display: flex;<br>            flex-direction: column;<br>            flex-basis: 100%;<br>            flex: 1;<br>            padding: 10px;<br>        }<br>    </style><br><div class=\"wandb-row\"><div class=\"wandb-col\"><h3>Run history:</h3><br/><table class=\"wandb\"><tr><td>epoch</td><td>▁▃▅▆█</td></tr><tr><td>test_accuracy</td><td>▁</td></tr><tr><td>training_loss</td><td>█▃▂▁▁</td></tr><tr><td>validation loss</td><td>█▄▂▂▁</td></tr><tr><td>validation_accuracy</td><td>▁▅▇██</td></tr></table><br/></div><div class=\"wandb-col\"><h3>Run summary:</h3><br/><table class=\"wandb\"><tr><td>epoch</td><td>5</td></tr><tr><td>test_accuracy</td><td>0.8185</td></tr><tr><td>training_loss</td><td>0.51271</td></tr><tr><td>validation loss</td><td>0.51098</td></tr><tr><td>validation_accuracy</td><td>0.82067</td></tr></table><br/></div></div>"
      ],
      "text/plain": [
       "<IPython.core.display.HTML object>"
      ]
     },
     "metadata": {},
     "output_type": "display_data"
    },
    {
     "data": {
      "text/html": [
       " View run <strong style=\"color:#cdcd00\">hl_3_hs_32_bs_16_ac_relu_opt_sgd</strong> at: <a href='https://wandb.ai/ed24s401-indian-institute-of-technology-madras/q4_sweep_project/runs/4tcaqm1z' target=\"_blank\">https://wandb.ai/ed24s401-indian-institute-of-technology-madras/q4_sweep_project/runs/4tcaqm1z</a><br> View project at: <a href='https://wandb.ai/ed24s401-indian-institute-of-technology-madras/q4_sweep_project' target=\"_blank\">https://wandb.ai/ed24s401-indian-institute-of-technology-madras/q4_sweep_project</a><br>Synced 5 W&B file(s), 0 media file(s), 0 artifact file(s) and 0 other file(s)"
      ],
      "text/plain": [
       "<IPython.core.display.HTML object>"
      ]
     },
     "metadata": {},
     "output_type": "display_data"
    },
    {
     "data": {
      "text/html": [
       "Find logs at: <code>.\\wandb\\run-20250317_134619-4tcaqm1z\\logs</code>"
      ],
      "text/plain": [
       "<IPython.core.display.HTML object>"
      ]
     },
     "metadata": {},
     "output_type": "display_data"
    },
    {
     "name": "stderr",
     "output_type": "stream",
     "text": [
      "\u001b[34m\u001b[1mwandb\u001b[0m: Agent Starting Run: yvtb999e with config:\n",
      "\u001b[34m\u001b[1mwandb\u001b[0m: \tactivation: sigmoid\n",
      "\u001b[34m\u001b[1mwandb\u001b[0m: \tbatch_size: 64\n",
      "\u001b[34m\u001b[1mwandb\u001b[0m: \tbeta1: 0.9\n",
      "\u001b[34m\u001b[1mwandb\u001b[0m: \tbeta2: 0.99\n",
      "\u001b[34m\u001b[1mwandb\u001b[0m: \tbeta_rms: 0.9\n",
      "\u001b[34m\u001b[1mwandb\u001b[0m: \tepochs: 5\n",
      "\u001b[34m\u001b[1mwandb\u001b[0m: \tepsilon: 1e-08\n",
      "\u001b[34m\u001b[1mwandb\u001b[0m: \thidden_size: 128\n",
      "\u001b[34m\u001b[1mwandb\u001b[0m: \tinit_type: random\n",
      "\u001b[34m\u001b[1mwandb\u001b[0m: \tlearning_rate: 0.0001\n",
      "\u001b[34m\u001b[1mwandb\u001b[0m: \tloss_func: cross_entropy\n",
      "\u001b[34m\u001b[1mwandb\u001b[0m: \tmomentum: 0.9\n",
      "\u001b[34m\u001b[1mwandb\u001b[0m: \tnum_hidden_layers: 4\n",
      "\u001b[34m\u001b[1mwandb\u001b[0m: \toptimizer: sgd\n",
      "\u001b[34m\u001b[1mwandb\u001b[0m: \tweight_decay: 0.5\n"
     ]
    },
    {
     "data": {
      "text/html": [],
      "text/plain": [
       "<IPython.core.display.HTML object>"
      ]
     },
     "metadata": {},
     "output_type": "display_data"
    },
    {
     "data": {
      "text/html": [
       "Tracking run with wandb version 0.19.8"
      ],
      "text/plain": [
       "<IPython.core.display.HTML object>"
      ]
     },
     "metadata": {},
     "output_type": "display_data"
    },
    {
     "data": {
      "text/html": [
       "Run data is saved locally in <code>c:\\Users\\acer\\OneDrive\\Documents\\GitHub\\dl_assignment_ed24s401\\wandb\\run-20250317_134640-yvtb999e</code>"
      ],
      "text/plain": [
       "<IPython.core.display.HTML object>"
      ]
     },
     "metadata": {},
     "output_type": "display_data"
    },
    {
     "data": {
      "text/html": [
       "Syncing run <strong><a href='https://wandb.ai/ed24s401-indian-institute-of-technology-madras/q4_sweep_project/runs/yvtb999e' target=\"_blank\">glorious-sweep-11</a></strong> to <a href='https://wandb.ai/ed24s401-indian-institute-of-technology-madras/q4_sweep_project' target=\"_blank\">Weights & Biases</a> (<a href='https://wandb.me/developer-guide' target=\"_blank\">docs</a>)<br>Sweep page: <a href='https://wandb.ai/ed24s401-indian-institute-of-technology-madras/q4_sweep_project/sweeps/hp8fw2uv' target=\"_blank\">https://wandb.ai/ed24s401-indian-institute-of-technology-madras/q4_sweep_project/sweeps/hp8fw2uv</a>"
      ],
      "text/plain": [
       "<IPython.core.display.HTML object>"
      ]
     },
     "metadata": {},
     "output_type": "display_data"
    },
    {
     "data": {
      "text/html": [
       " View project at <a href='https://wandb.ai/ed24s401-indian-institute-of-technology-madras/q4_sweep_project' target=\"_blank\">https://wandb.ai/ed24s401-indian-institute-of-technology-madras/q4_sweep_project</a>"
      ],
      "text/plain": [
       "<IPython.core.display.HTML object>"
      ]
     },
     "metadata": {},
     "output_type": "display_data"
    },
    {
     "data": {
      "text/html": [
       " View sweep at <a href='https://wandb.ai/ed24s401-indian-institute-of-technology-madras/q4_sweep_project/sweeps/hp8fw2uv' target=\"_blank\">https://wandb.ai/ed24s401-indian-institute-of-technology-madras/q4_sweep_project/sweeps/hp8fw2uv</a>"
      ],
      "text/plain": [
       "<IPython.core.display.HTML object>"
      ]
     },
     "metadata": {},
     "output_type": "display_data"
    },
    {
     "data": {
      "text/html": [
       " View run at <a href='https://wandb.ai/ed24s401-indian-institute-of-technology-madras/q4_sweep_project/runs/yvtb999e' target=\"_blank\">https://wandb.ai/ed24s401-indian-institute-of-technology-madras/q4_sweep_project/runs/yvtb999e</a>"
      ],
      "text/plain": [
       "<IPython.core.display.HTML object>"
      ]
     },
     "metadata": {},
     "output_type": "display_data"
    },
    {
     "name": "stdout",
     "output_type": "stream",
     "text": [
      "Epoch 1/5 - loss=251.8533, val_acc=0.1023, val_loss=2.3938381049310484\n",
      "Epoch 2/5 - loss=231.6148, val_acc=0.1023, val_loss=2.3486768101089224\n",
      "Epoch 3/5 - loss=213.0452, val_acc=0.0972, val_loss=2.32615257681437\n",
      "Epoch 4/5 - loss=195.9921, val_acc=0.0953, val_loss=2.3147223430369794\n",
      "Epoch 5/5 - loss=180.3253, val_acc=0.0977, val_loss=2.308852765237357\n",
      "test accuracy  0.1\n"
     ]
    },
    {
     "data": {
      "text/html": [],
      "text/plain": [
       "<IPython.core.display.HTML object>"
      ]
     },
     "metadata": {},
     "output_type": "display_data"
    },
    {
     "data": {
      "text/html": [
       "<br>    <style><br>        .wandb-row {<br>            display: flex;<br>            flex-direction: row;<br>            flex-wrap: wrap;<br>            justify-content: flex-start;<br>            width: 100%;<br>        }<br>        .wandb-col {<br>            display: flex;<br>            flex-direction: column;<br>            flex-basis: 100%;<br>            flex: 1;<br>            padding: 10px;<br>        }<br>    </style><br><div class=\"wandb-row\"><div class=\"wandb-col\"><h3>Run history:</h3><br/><table class=\"wandb\"><tr><td>epoch</td><td>▁▃▅▆█</td></tr><tr><td>test_accuracy</td><td>▁</td></tr><tr><td>training_loss</td><td>█▆▄▃▁</td></tr><tr><td>validation loss</td><td>█▄▂▁▁</td></tr><tr><td>validation_accuracy</td><td>██▃▁▃</td></tr></table><br/></div><div class=\"wandb-col\"><h3>Run summary:</h3><br/><table class=\"wandb\"><tr><td>epoch</td><td>5</td></tr><tr><td>test_accuracy</td><td>0.1</td></tr><tr><td>training_loss</td><td>180.32527</td></tr><tr><td>validation loss</td><td>2.30885</td></tr><tr><td>validation_accuracy</td><td>0.09767</td></tr></table><br/></div></div>"
      ],
      "text/plain": [
       "<IPython.core.display.HTML object>"
      ]
     },
     "metadata": {},
     "output_type": "display_data"
    },
    {
     "data": {
      "text/html": [
       " View run <strong style=\"color:#cdcd00\">hl_4_hs_128_bs_64_ac_sigmoid_opt_sgd</strong> at: <a href='https://wandb.ai/ed24s401-indian-institute-of-technology-madras/q4_sweep_project/runs/yvtb999e' target=\"_blank\">https://wandb.ai/ed24s401-indian-institute-of-technology-madras/q4_sweep_project/runs/yvtb999e</a><br> View project at: <a href='https://wandb.ai/ed24s401-indian-institute-of-technology-madras/q4_sweep_project' target=\"_blank\">https://wandb.ai/ed24s401-indian-institute-of-technology-madras/q4_sweep_project</a><br>Synced 5 W&B file(s), 0 media file(s), 0 artifact file(s) and 0 other file(s)"
      ],
      "text/plain": [
       "<IPython.core.display.HTML object>"
      ]
     },
     "metadata": {},
     "output_type": "display_data"
    },
    {
     "data": {
      "text/html": [
       "Find logs at: <code>.\\wandb\\run-20250317_134640-yvtb999e\\logs</code>"
      ],
      "text/plain": [
       "<IPython.core.display.HTML object>"
      ]
     },
     "metadata": {},
     "output_type": "display_data"
    },
    {
     "name": "stderr",
     "output_type": "stream",
     "text": [
      "\u001b[34m\u001b[1mwandb\u001b[0m: Agent Starting Run: hlbte7bc with config:\n",
      "\u001b[34m\u001b[1mwandb\u001b[0m: \tactivation: sigmoid\n",
      "\u001b[34m\u001b[1mwandb\u001b[0m: \tbatch_size: 64\n",
      "\u001b[34m\u001b[1mwandb\u001b[0m: \tbeta1: 0.9\n",
      "\u001b[34m\u001b[1mwandb\u001b[0m: \tbeta2: 0.99\n",
      "\u001b[34m\u001b[1mwandb\u001b[0m: \tbeta_rms: 0.9\n",
      "\u001b[34m\u001b[1mwandb\u001b[0m: \tepochs: 5\n",
      "\u001b[34m\u001b[1mwandb\u001b[0m: \tepsilon: 1e-08\n",
      "\u001b[34m\u001b[1mwandb\u001b[0m: \thidden_size: 128\n",
      "\u001b[34m\u001b[1mwandb\u001b[0m: \tinit_type: random\n",
      "\u001b[34m\u001b[1mwandb\u001b[0m: \tlearning_rate: 0.0001\n",
      "\u001b[34m\u001b[1mwandb\u001b[0m: \tloss_func: cross_entropy\n",
      "\u001b[34m\u001b[1mwandb\u001b[0m: \tmomentum: 0.9\n",
      "\u001b[34m\u001b[1mwandb\u001b[0m: \tnum_hidden_layers: 5\n",
      "\u001b[34m\u001b[1mwandb\u001b[0m: \toptimizer: nadam\n",
      "\u001b[34m\u001b[1mwandb\u001b[0m: \tweight_decay: 0.5\n"
     ]
    },
    {
     "data": {
      "text/html": [
       "Tracking run with wandb version 0.19.8"
      ],
      "text/plain": [
       "<IPython.core.display.HTML object>"
      ]
     },
     "metadata": {},
     "output_type": "display_data"
    },
    {
     "data": {
      "text/html": [
       "Run data is saved locally in <code>c:\\Users\\acer\\OneDrive\\Documents\\GitHub\\dl_assignment_ed24s401\\wandb\\run-20250317_134706-hlbte7bc</code>"
      ],
      "text/plain": [
       "<IPython.core.display.HTML object>"
      ]
     },
     "metadata": {},
     "output_type": "display_data"
    },
    {
     "data": {
      "text/html": [
       "Syncing run <strong><a href='https://wandb.ai/ed24s401-indian-institute-of-technology-madras/q4_sweep_project/runs/hlbte7bc' target=\"_blank\">decent-sweep-12</a></strong> to <a href='https://wandb.ai/ed24s401-indian-institute-of-technology-madras/q4_sweep_project' target=\"_blank\">Weights & Biases</a> (<a href='https://wandb.me/developer-guide' target=\"_blank\">docs</a>)<br>Sweep page: <a href='https://wandb.ai/ed24s401-indian-institute-of-technology-madras/q4_sweep_project/sweeps/hp8fw2uv' target=\"_blank\">https://wandb.ai/ed24s401-indian-institute-of-technology-madras/q4_sweep_project/sweeps/hp8fw2uv</a>"
      ],
      "text/plain": [
       "<IPython.core.display.HTML object>"
      ]
     },
     "metadata": {},
     "output_type": "display_data"
    },
    {
     "data": {
      "text/html": [
       " View project at <a href='https://wandb.ai/ed24s401-indian-institute-of-technology-madras/q4_sweep_project' target=\"_blank\">https://wandb.ai/ed24s401-indian-institute-of-technology-madras/q4_sweep_project</a>"
      ],
      "text/plain": [
       "<IPython.core.display.HTML object>"
      ]
     },
     "metadata": {},
     "output_type": "display_data"
    },
    {
     "data": {
      "text/html": [
       " View sweep at <a href='https://wandb.ai/ed24s401-indian-institute-of-technology-madras/q4_sweep_project/sweeps/hp8fw2uv' target=\"_blank\">https://wandb.ai/ed24s401-indian-institute-of-technology-madras/q4_sweep_project/sweeps/hp8fw2uv</a>"
      ],
      "text/plain": [
       "<IPython.core.display.HTML object>"
      ]
     },
     "metadata": {},
     "output_type": "display_data"
    },
    {
     "data": {
      "text/html": [
       " View run at <a href='https://wandb.ai/ed24s401-indian-institute-of-technology-madras/q4_sweep_project/runs/hlbte7bc' target=\"_blank\">https://wandb.ai/ed24s401-indian-institute-of-technology-madras/q4_sweep_project/runs/hlbte7bc</a>"
      ],
      "text/plain": [
       "<IPython.core.display.HTML object>"
      ]
     },
     "metadata": {},
     "output_type": "display_data"
    },
    {
     "name": "stdout",
     "output_type": "stream",
     "text": [
      "Epoch 1/5 - loss=180.8732, val_acc=0.1023, val_loss=2.304111544043523\n",
      "Epoch 2/5 - loss=48.8240, val_acc=0.1023, val_loss=2.303070952149344\n",
      "Epoch 3/5 - loss=12.4699, val_acc=0.1018, val_loss=2.3030267502451522\n",
      "Epoch 4/5 - loss=3.9583, val_acc=0.0995, val_loss=2.302777034733915\n",
      "Epoch 5/5 - loss=2.4948, val_acc=0.1023, val_loss=2.3029602736661166\n",
      "test accuracy  0.1\n"
     ]
    },
    {
     "data": {
      "text/html": [],
      "text/plain": [
       "<IPython.core.display.HTML object>"
      ]
     },
     "metadata": {},
     "output_type": "display_data"
    },
    {
     "data": {
      "text/html": [
       "<br>    <style><br>        .wandb-row {<br>            display: flex;<br>            flex-direction: row;<br>            flex-wrap: wrap;<br>            justify-content: flex-start;<br>            width: 100%;<br>        }<br>        .wandb-col {<br>            display: flex;<br>            flex-direction: column;<br>            flex-basis: 100%;<br>            flex: 1;<br>            padding: 10px;<br>        }<br>    </style><br><div class=\"wandb-row\"><div class=\"wandb-col\"><h3>Run history:</h3><br/><table class=\"wandb\"><tr><td>epoch</td><td>▁▃▅▆█</td></tr><tr><td>test_accuracy</td><td>▁</td></tr><tr><td>training_loss</td><td>█▃▁▁▁</td></tr><tr><td>validation loss</td><td>█▃▂▁▂</td></tr><tr><td>validation_accuracy</td><td>██▇▁█</td></tr></table><br/></div><div class=\"wandb-col\"><h3>Run summary:</h3><br/><table class=\"wandb\"><tr><td>epoch</td><td>5</td></tr><tr><td>test_accuracy</td><td>0.1</td></tr><tr><td>training_loss</td><td>2.49483</td></tr><tr><td>validation loss</td><td>2.30296</td></tr><tr><td>validation_accuracy</td><td>0.10233</td></tr></table><br/></div></div>"
      ],
      "text/plain": [
       "<IPython.core.display.HTML object>"
      ]
     },
     "metadata": {},
     "output_type": "display_data"
    },
    {
     "data": {
      "text/html": [
       " View run <strong style=\"color:#cdcd00\">hl_5_hs_128_bs_64_ac_sigmoid_opt_nadam</strong> at: <a href='https://wandb.ai/ed24s401-indian-institute-of-technology-madras/q4_sweep_project/runs/hlbte7bc' target=\"_blank\">https://wandb.ai/ed24s401-indian-institute-of-technology-madras/q4_sweep_project/runs/hlbte7bc</a><br> View project at: <a href='https://wandb.ai/ed24s401-indian-institute-of-technology-madras/q4_sweep_project' target=\"_blank\">https://wandb.ai/ed24s401-indian-institute-of-technology-madras/q4_sweep_project</a><br>Synced 5 W&B file(s), 0 media file(s), 0 artifact file(s) and 0 other file(s)"
      ],
      "text/plain": [
       "<IPython.core.display.HTML object>"
      ]
     },
     "metadata": {},
     "output_type": "display_data"
    },
    {
     "data": {
      "text/html": [
       "Find logs at: <code>.\\wandb\\run-20250317_134706-hlbte7bc\\logs</code>"
      ],
      "text/plain": [
       "<IPython.core.display.HTML object>"
      ]
     },
     "metadata": {},
     "output_type": "display_data"
    },
    {
     "name": "stderr",
     "output_type": "stream",
     "text": [
      "\u001b[34m\u001b[1mwandb\u001b[0m: Agent Starting Run: 3x8nhhq6 with config:\n",
      "\u001b[34m\u001b[1mwandb\u001b[0m: \tactivation: relu\n",
      "\u001b[34m\u001b[1mwandb\u001b[0m: \tbatch_size: 16\n",
      "\u001b[34m\u001b[1mwandb\u001b[0m: \tbeta1: 0.9\n",
      "\u001b[34m\u001b[1mwandb\u001b[0m: \tbeta2: 0.999\n",
      "\u001b[34m\u001b[1mwandb\u001b[0m: \tbeta_rms: 0.9\n",
      "\u001b[34m\u001b[1mwandb\u001b[0m: \tepochs: 10\n",
      "\u001b[34m\u001b[1mwandb\u001b[0m: \tepsilon: 1e-08\n",
      "\u001b[34m\u001b[1mwandb\u001b[0m: \thidden_size: 128\n",
      "\u001b[34m\u001b[1mwandb\u001b[0m: \tinit_type: xavier\n",
      "\u001b[34m\u001b[1mwandb\u001b[0m: \tlearning_rate: 0.0001\n",
      "\u001b[34m\u001b[1mwandb\u001b[0m: \tloss_func: cross_entropy\n",
      "\u001b[34m\u001b[1mwandb\u001b[0m: \tmomentum: 0.9\n",
      "\u001b[34m\u001b[1mwandb\u001b[0m: \tnum_hidden_layers: 4\n",
      "\u001b[34m\u001b[1mwandb\u001b[0m: \toptimizer: adam\n",
      "\u001b[34m\u001b[1mwandb\u001b[0m: \tweight_decay: 0\n"
     ]
    },
    {
     "data": {
      "text/html": [
       "creating run (0.3s)"
      ],
      "text/plain": [
       "<IPython.core.display.HTML object>"
      ]
     },
     "metadata": {},
     "output_type": "display_data"
    },
    {
     "data": {
      "text/html": [
       "Tracking run with wandb version 0.19.8"
      ],
      "text/plain": [
       "<IPython.core.display.HTML object>"
      ]
     },
     "metadata": {},
     "output_type": "display_data"
    },
    {
     "data": {
      "text/html": [
       "Run data is saved locally in <code>c:\\Users\\acer\\OneDrive\\Documents\\GitHub\\dl_assignment_ed24s401\\wandb\\run-20250317_134755-3x8nhhq6</code>"
      ],
      "text/plain": [
       "<IPython.core.display.HTML object>"
      ]
     },
     "metadata": {},
     "output_type": "display_data"
    },
    {
     "data": {
      "text/html": [
       "Syncing run <strong><a href='https://wandb.ai/ed24s401-indian-institute-of-technology-madras/q4_sweep_project/runs/3x8nhhq6' target=\"_blank\">rare-sweep-13</a></strong> to <a href='https://wandb.ai/ed24s401-indian-institute-of-technology-madras/q4_sweep_project' target=\"_blank\">Weights & Biases</a> (<a href='https://wandb.me/developer-guide' target=\"_blank\">docs</a>)<br>Sweep page: <a href='https://wandb.ai/ed24s401-indian-institute-of-technology-madras/q4_sweep_project/sweeps/hp8fw2uv' target=\"_blank\">https://wandb.ai/ed24s401-indian-institute-of-technology-madras/q4_sweep_project/sweeps/hp8fw2uv</a>"
      ],
      "text/plain": [
       "<IPython.core.display.HTML object>"
      ]
     },
     "metadata": {},
     "output_type": "display_data"
    },
    {
     "data": {
      "text/html": [
       " View project at <a href='https://wandb.ai/ed24s401-indian-institute-of-technology-madras/q4_sweep_project' target=\"_blank\">https://wandb.ai/ed24s401-indian-institute-of-technology-madras/q4_sweep_project</a>"
      ],
      "text/plain": [
       "<IPython.core.display.HTML object>"
      ]
     },
     "metadata": {},
     "output_type": "display_data"
    },
    {
     "data": {
      "text/html": [
       " View sweep at <a href='https://wandb.ai/ed24s401-indian-institute-of-technology-madras/q4_sweep_project/sweeps/hp8fw2uv' target=\"_blank\">https://wandb.ai/ed24s401-indian-institute-of-technology-madras/q4_sweep_project/sweeps/hp8fw2uv</a>"
      ],
      "text/plain": [
       "<IPython.core.display.HTML object>"
      ]
     },
     "metadata": {},
     "output_type": "display_data"
    },
    {
     "data": {
      "text/html": [
       " View run at <a href='https://wandb.ai/ed24s401-indian-institute-of-technology-madras/q4_sweep_project/runs/3x8nhhq6' target=\"_blank\">https://wandb.ai/ed24s401-indian-institute-of-technology-madras/q4_sweep_project/runs/3x8nhhq6</a>"
      ],
      "text/plain": [
       "<IPython.core.display.HTML object>"
      ]
     },
     "metadata": {},
     "output_type": "display_data"
    },
    {
     "name": "stdout",
     "output_type": "stream",
     "text": [
      "Epoch 1/10 - loss=0.6152, val_acc=0.8390, val_loss=0.4499839346746184\n",
      "Epoch 2/10 - loss=0.4193, val_acc=0.8580, val_loss=0.39119279730481915\n",
      "Epoch 3/10 - loss=0.3775, val_acc=0.8652, val_loss=0.3800032651587875\n",
      "Epoch 4/10 - loss=0.3514, val_acc=0.8635, val_loss=0.376188775243125\n",
      "Epoch 5/10 - loss=0.3308, val_acc=0.8747, val_loss=0.3425675286821864\n",
      "Epoch 6/10 - loss=0.3154, val_acc=0.8767, val_loss=0.3326182716398669\n",
      "Epoch 7/10 - loss=0.3006, val_acc=0.8782, val_loss=0.3219800155367676\n",
      "Epoch 8/10 - loss=0.2876, val_acc=0.8815, val_loss=0.3194324392290063\n",
      "Epoch 9/10 - loss=0.2786, val_acc=0.8783, val_loss=0.3263217315349846\n",
      "Epoch 10/10 - loss=0.2669, val_acc=0.8897, val_loss=0.2989923942204972\n",
      "test accuracy  0.8831\n"
     ]
    },
    {
     "data": {
      "text/html": [],
      "text/plain": [
       "<IPython.core.display.HTML object>"
      ]
     },
     "metadata": {},
     "output_type": "display_data"
    },
    {
     "data": {
      "text/html": [
       "<br>    <style><br>        .wandb-row {<br>            display: flex;<br>            flex-direction: row;<br>            flex-wrap: wrap;<br>            justify-content: flex-start;<br>            width: 100%;<br>        }<br>        .wandb-col {<br>            display: flex;<br>            flex-direction: column;<br>            flex-basis: 100%;<br>            flex: 1;<br>            padding: 10px;<br>        }<br>    </style><br><div class=\"wandb-row\"><div class=\"wandb-col\"><h3>Run history:</h3><br/><table class=\"wandb\"><tr><td>epoch</td><td>▁▂▃▃▄▅▆▆▇█</td></tr><tr><td>test_accuracy</td><td>▁</td></tr><tr><td>training_loss</td><td>█▄▃▃▂▂▂▁▁▁</td></tr><tr><td>validation loss</td><td>█▅▅▅▃▃▂▂▂▁</td></tr><tr><td>validation_accuracy</td><td>▁▄▅▄▆▆▆▇▆█</td></tr></table><br/></div><div class=\"wandb-col\"><h3>Run summary:</h3><br/><table class=\"wandb\"><tr><td>epoch</td><td>10</td></tr><tr><td>test_accuracy</td><td>0.8831</td></tr><tr><td>training_loss</td><td>0.2669</td></tr><tr><td>validation loss</td><td>0.29899</td></tr><tr><td>validation_accuracy</td><td>0.88967</td></tr></table><br/></div></div>"
      ],
      "text/plain": [
       "<IPython.core.display.HTML object>"
      ]
     },
     "metadata": {},
     "output_type": "display_data"
    },
    {
     "data": {
      "text/html": [
       " View run <strong style=\"color:#cdcd00\">hl_4_hs_128_bs_16_ac_relu_opt_adam</strong> at: <a href='https://wandb.ai/ed24s401-indian-institute-of-technology-madras/q4_sweep_project/runs/3x8nhhq6' target=\"_blank\">https://wandb.ai/ed24s401-indian-institute-of-technology-madras/q4_sweep_project/runs/3x8nhhq6</a><br> View project at: <a href='https://wandb.ai/ed24s401-indian-institute-of-technology-madras/q4_sweep_project' target=\"_blank\">https://wandb.ai/ed24s401-indian-institute-of-technology-madras/q4_sweep_project</a><br>Synced 5 W&B file(s), 0 media file(s), 0 artifact file(s) and 0 other file(s)"
      ],
      "text/plain": [
       "<IPython.core.display.HTML object>"
      ]
     },
     "metadata": {},
     "output_type": "display_data"
    },
    {
     "data": {
      "text/html": [
       "Find logs at: <code>.\\wandb\\run-20250317_134755-3x8nhhq6\\logs</code>"
      ],
      "text/plain": [
       "<IPython.core.display.HTML object>"
      ]
     },
     "metadata": {},
     "output_type": "display_data"
    },
    {
     "name": "stderr",
     "output_type": "stream",
     "text": [
      "\u001b[34m\u001b[1mwandb\u001b[0m: Agent Starting Run: 8ey81hmb with config:\n",
      "\u001b[34m\u001b[1mwandb\u001b[0m: \tactivation: tanh\n",
      "\u001b[34m\u001b[1mwandb\u001b[0m: \tbatch_size: 64\n",
      "\u001b[34m\u001b[1mwandb\u001b[0m: \tbeta1: 0.9\n",
      "\u001b[34m\u001b[1mwandb\u001b[0m: \tbeta2: 0.999\n",
      "\u001b[34m\u001b[1mwandb\u001b[0m: \tbeta_rms: 0.9\n",
      "\u001b[34m\u001b[1mwandb\u001b[0m: \tepochs: 5\n",
      "\u001b[34m\u001b[1mwandb\u001b[0m: \tepsilon: 1e-08\n",
      "\u001b[34m\u001b[1mwandb\u001b[0m: \thidden_size: 128\n",
      "\u001b[34m\u001b[1mwandb\u001b[0m: \tinit_type: xavier\n",
      "\u001b[34m\u001b[1mwandb\u001b[0m: \tlearning_rate: 0.0001\n",
      "\u001b[34m\u001b[1mwandb\u001b[0m: \tloss_func: cross_entropy\n",
      "\u001b[34m\u001b[1mwandb\u001b[0m: \tmomentum: 0.9\n",
      "\u001b[34m\u001b[1mwandb\u001b[0m: \tnum_hidden_layers: 5\n",
      "\u001b[34m\u001b[1mwandb\u001b[0m: \toptimizer: momentum\n",
      "\u001b[34m\u001b[1mwandb\u001b[0m: \tweight_decay: 0.0005\n"
     ]
    },
    {
     "data": {
      "text/html": [
       "creating run (0.3s)"
      ],
      "text/plain": [
       "<IPython.core.display.HTML object>"
      ]
     },
     "metadata": {},
     "output_type": "display_data"
    },
    {
     "data": {
      "text/html": [
       "Tracking run with wandb version 0.19.8"
      ],
      "text/plain": [
       "<IPython.core.display.HTML object>"
      ]
     },
     "metadata": {},
     "output_type": "display_data"
    },
    {
     "data": {
      "text/html": [
       "Run data is saved locally in <code>c:\\Users\\acer\\OneDrive\\Documents\\GitHub\\dl_assignment_ed24s401\\wandb\\run-20250317_135055-8ey81hmb</code>"
      ],
      "text/plain": [
       "<IPython.core.display.HTML object>"
      ]
     },
     "metadata": {},
     "output_type": "display_data"
    },
    {
     "data": {
      "text/html": [
       "Syncing run <strong><a href='https://wandb.ai/ed24s401-indian-institute-of-technology-madras/q4_sweep_project/runs/8ey81hmb' target=\"_blank\">wise-sweep-14</a></strong> to <a href='https://wandb.ai/ed24s401-indian-institute-of-technology-madras/q4_sweep_project' target=\"_blank\">Weights & Biases</a> (<a href='https://wandb.me/developer-guide' target=\"_blank\">docs</a>)<br>Sweep page: <a href='https://wandb.ai/ed24s401-indian-institute-of-technology-madras/q4_sweep_project/sweeps/hp8fw2uv' target=\"_blank\">https://wandb.ai/ed24s401-indian-institute-of-technology-madras/q4_sweep_project/sweeps/hp8fw2uv</a>"
      ],
      "text/plain": [
       "<IPython.core.display.HTML object>"
      ]
     },
     "metadata": {},
     "output_type": "display_data"
    },
    {
     "data": {
      "text/html": [
       " View project at <a href='https://wandb.ai/ed24s401-indian-institute-of-technology-madras/q4_sweep_project' target=\"_blank\">https://wandb.ai/ed24s401-indian-institute-of-technology-madras/q4_sweep_project</a>"
      ],
      "text/plain": [
       "<IPython.core.display.HTML object>"
      ]
     },
     "metadata": {},
     "output_type": "display_data"
    },
    {
     "data": {
      "text/html": [
       " View sweep at <a href='https://wandb.ai/ed24s401-indian-institute-of-technology-madras/q4_sweep_project/sweeps/hp8fw2uv' target=\"_blank\">https://wandb.ai/ed24s401-indian-institute-of-technology-madras/q4_sweep_project/sweeps/hp8fw2uv</a>"
      ],
      "text/plain": [
       "<IPython.core.display.HTML object>"
      ]
     },
     "metadata": {},
     "output_type": "display_data"
    },
    {
     "data": {
      "text/html": [
       " View run at <a href='https://wandb.ai/ed24s401-indian-institute-of-technology-madras/q4_sweep_project/runs/8ey81hmb' target=\"_blank\">https://wandb.ai/ed24s401-indian-institute-of-technology-madras/q4_sweep_project/runs/8ey81hmb</a>"
      ],
      "text/plain": [
       "<IPython.core.display.HTML object>"
      ]
     },
     "metadata": {},
     "output_type": "display_data"
    },
    {
     "name": "stdout",
     "output_type": "stream",
     "text": [
      "Epoch 1/5 - loss=1.9928, val_acc=0.6273, val_loss=1.4259939003865498\n",
      "Epoch 2/5 - loss=1.3861, val_acc=0.6603, val_loss=1.0840363631127985\n",
      "Epoch 3/5 - loss=1.1483, val_acc=0.6915, val_loss=0.9198249040450425\n",
      "Epoch 4/5 - loss=1.0200, val_acc=0.7233, val_loss=0.8207315511756907\n",
      "Epoch 5/5 - loss=0.9377, val_acc=0.7377, val_loss=0.7522250816356751\n",
      "test accuracy  0.7352\n"
     ]
    },
    {
     "data": {
      "text/html": [],
      "text/plain": [
       "<IPython.core.display.HTML object>"
      ]
     },
     "metadata": {},
     "output_type": "display_data"
    },
    {
     "data": {
      "text/html": [
       "<br>    <style><br>        .wandb-row {<br>            display: flex;<br>            flex-direction: row;<br>            flex-wrap: wrap;<br>            justify-content: flex-start;<br>            width: 100%;<br>        }<br>        .wandb-col {<br>            display: flex;<br>            flex-direction: column;<br>            flex-basis: 100%;<br>            flex: 1;<br>            padding: 10px;<br>        }<br>    </style><br><div class=\"wandb-row\"><div class=\"wandb-col\"><h3>Run history:</h3><br/><table class=\"wandb\"><tr><td>epoch</td><td>▁▃▅▆█</td></tr><tr><td>test_accuracy</td><td>▁</td></tr><tr><td>training_loss</td><td>█▄▂▂▁</td></tr><tr><td>validation loss</td><td>█▄▃▂▁</td></tr><tr><td>validation_accuracy</td><td>▁▃▅▇█</td></tr></table><br/></div><div class=\"wandb-col\"><h3>Run summary:</h3><br/><table class=\"wandb\"><tr><td>epoch</td><td>5</td></tr><tr><td>test_accuracy</td><td>0.7352</td></tr><tr><td>training_loss</td><td>0.93768</td></tr><tr><td>validation loss</td><td>0.75223</td></tr><tr><td>validation_accuracy</td><td>0.73767</td></tr></table><br/></div></div>"
      ],
      "text/plain": [
       "<IPython.core.display.HTML object>"
      ]
     },
     "metadata": {},
     "output_type": "display_data"
    },
    {
     "data": {
      "text/html": [
       " View run <strong style=\"color:#cdcd00\">hl_5_hs_128_bs_64_ac_tanh_opt_momentum</strong> at: <a href='https://wandb.ai/ed24s401-indian-institute-of-technology-madras/q4_sweep_project/runs/8ey81hmb' target=\"_blank\">https://wandb.ai/ed24s401-indian-institute-of-technology-madras/q4_sweep_project/runs/8ey81hmb</a><br> View project at: <a href='https://wandb.ai/ed24s401-indian-institute-of-technology-madras/q4_sweep_project' target=\"_blank\">https://wandb.ai/ed24s401-indian-institute-of-technology-madras/q4_sweep_project</a><br>Synced 5 W&B file(s), 0 media file(s), 0 artifact file(s) and 0 other file(s)"
      ],
      "text/plain": [
       "<IPython.core.display.HTML object>"
      ]
     },
     "metadata": {},
     "output_type": "display_data"
    },
    {
     "data": {
      "text/html": [
       "Find logs at: <code>.\\wandb\\run-20250317_135055-8ey81hmb\\logs</code>"
      ],
      "text/plain": [
       "<IPython.core.display.HTML object>"
      ]
     },
     "metadata": {},
     "output_type": "display_data"
    },
    {
     "name": "stderr",
     "output_type": "stream",
     "text": [
      "\u001b[34m\u001b[1mwandb\u001b[0m: Agent Starting Run: cpxmamc8 with config:\n",
      "\u001b[34m\u001b[1mwandb\u001b[0m: \tactivation: sigmoid\n",
      "\u001b[34m\u001b[1mwandb\u001b[0m: \tbatch_size: 64\n",
      "\u001b[34m\u001b[1mwandb\u001b[0m: \tbeta1: 0.9\n",
      "\u001b[34m\u001b[1mwandb\u001b[0m: \tbeta2: 0.999\n",
      "\u001b[34m\u001b[1mwandb\u001b[0m: \tbeta_rms: 0.9\n",
      "\u001b[34m\u001b[1mwandb\u001b[0m: \tepochs: 5\n",
      "\u001b[34m\u001b[1mwandb\u001b[0m: \tepsilon: 1e-08\n",
      "\u001b[34m\u001b[1mwandb\u001b[0m: \thidden_size: 64\n",
      "\u001b[34m\u001b[1mwandb\u001b[0m: \tinit_type: random\n",
      "\u001b[34m\u001b[1mwandb\u001b[0m: \tlearning_rate: 0.0001\n",
      "\u001b[34m\u001b[1mwandb\u001b[0m: \tloss_func: cross_entropy\n",
      "\u001b[34m\u001b[1mwandb\u001b[0m: \tmomentum: 0.9\n",
      "\u001b[34m\u001b[1mwandb\u001b[0m: \tnum_hidden_layers: 3\n",
      "\u001b[34m\u001b[1mwandb\u001b[0m: \toptimizer: momentum\n",
      "\u001b[34m\u001b[1mwandb\u001b[0m: \tweight_decay: 0.0005\n"
     ]
    },
    {
     "data": {
      "text/html": [],
      "text/plain": [
       "<IPython.core.display.HTML object>"
      ]
     },
     "metadata": {},
     "output_type": "display_data"
    },
    {
     "data": {
      "text/html": [
       "Tracking run with wandb version 0.19.8"
      ],
      "text/plain": [
       "<IPython.core.display.HTML object>"
      ]
     },
     "metadata": {},
     "output_type": "display_data"
    },
    {
     "data": {
      "text/html": [
       "Run data is saved locally in <code>c:\\Users\\acer\\OneDrive\\Documents\\GitHub\\dl_assignment_ed24s401\\wandb\\run-20250317_135122-cpxmamc8</code>"
      ],
      "text/plain": [
       "<IPython.core.display.HTML object>"
      ]
     },
     "metadata": {},
     "output_type": "display_data"
    },
    {
     "data": {
      "text/html": [
       "Syncing run <strong><a href='https://wandb.ai/ed24s401-indian-institute-of-technology-madras/q4_sweep_project/runs/cpxmamc8' target=\"_blank\">chocolate-sweep-15</a></strong> to <a href='https://wandb.ai/ed24s401-indian-institute-of-technology-madras/q4_sweep_project' target=\"_blank\">Weights & Biases</a> (<a href='https://wandb.me/developer-guide' target=\"_blank\">docs</a>)<br>Sweep page: <a href='https://wandb.ai/ed24s401-indian-institute-of-technology-madras/q4_sweep_project/sweeps/hp8fw2uv' target=\"_blank\">https://wandb.ai/ed24s401-indian-institute-of-technology-madras/q4_sweep_project/sweeps/hp8fw2uv</a>"
      ],
      "text/plain": [
       "<IPython.core.display.HTML object>"
      ]
     },
     "metadata": {},
     "output_type": "display_data"
    },
    {
     "data": {
      "text/html": [
       " View project at <a href='https://wandb.ai/ed24s401-indian-institute-of-technology-madras/q4_sweep_project' target=\"_blank\">https://wandb.ai/ed24s401-indian-institute-of-technology-madras/q4_sweep_project</a>"
      ],
      "text/plain": [
       "<IPython.core.display.HTML object>"
      ]
     },
     "metadata": {},
     "output_type": "display_data"
    },
    {
     "data": {
      "text/html": [
       " View sweep at <a href='https://wandb.ai/ed24s401-indian-institute-of-technology-madras/q4_sweep_project/sweeps/hp8fw2uv' target=\"_blank\">https://wandb.ai/ed24s401-indian-institute-of-technology-madras/q4_sweep_project/sweeps/hp8fw2uv</a>"
      ],
      "text/plain": [
       "<IPython.core.display.HTML object>"
      ]
     },
     "metadata": {},
     "output_type": "display_data"
    },
    {
     "data": {
      "text/html": [
       " View run at <a href='https://wandb.ai/ed24s401-indian-institute-of-technology-madras/q4_sweep_project/runs/cpxmamc8' target=\"_blank\">https://wandb.ai/ed24s401-indian-institute-of-technology-madras/q4_sweep_project/runs/cpxmamc8</a>"
      ],
      "text/plain": [
       "<IPython.core.display.HTML object>"
      ]
     },
     "metadata": {},
     "output_type": "display_data"
    },
    {
     "name": "stdout",
     "output_type": "stream",
     "text": [
      "Epoch 1/5 - loss=2.4307, val_acc=0.1705, val_loss=2.298290245268061\n",
      "Epoch 2/5 - loss=2.3957, val_acc=0.2630, val_loss=2.292100398869779\n",
      "Epoch 3/5 - loss=2.3919, val_acc=0.2612, val_loss=2.2892188969531557\n",
      "Epoch 4/5 - loss=2.3889, val_acc=0.3587, val_loss=2.2861675791027025\n",
      "Epoch 5/5 - loss=2.3858, val_acc=0.3885, val_loss=2.2830662579796006\n",
      "test accuracy  0.3795\n"
     ]
    },
    {
     "data": {
      "text/html": [],
      "text/plain": [
       "<IPython.core.display.HTML object>"
      ]
     },
     "metadata": {},
     "output_type": "display_data"
    },
    {
     "data": {
      "text/html": [
       "<br>    <style><br>        .wandb-row {<br>            display: flex;<br>            flex-direction: row;<br>            flex-wrap: wrap;<br>            justify-content: flex-start;<br>            width: 100%;<br>        }<br>        .wandb-col {<br>            display: flex;<br>            flex-direction: column;<br>            flex-basis: 100%;<br>            flex: 1;<br>            padding: 10px;<br>        }<br>    </style><br><div class=\"wandb-row\"><div class=\"wandb-col\"><h3>Run history:</h3><br/><table class=\"wandb\"><tr><td>epoch</td><td>▁▃▅▆█</td></tr><tr><td>test_accuracy</td><td>▁</td></tr><tr><td>training_loss</td><td>█▃▂▁▁</td></tr><tr><td>validation loss</td><td>█▅▄▂▁</td></tr><tr><td>validation_accuracy</td><td>▁▄▄▇█</td></tr></table><br/></div><div class=\"wandb-col\"><h3>Run summary:</h3><br/><table class=\"wandb\"><tr><td>epoch</td><td>5</td></tr><tr><td>test_accuracy</td><td>0.3795</td></tr><tr><td>training_loss</td><td>2.3858</td></tr><tr><td>validation loss</td><td>2.28307</td></tr><tr><td>validation_accuracy</td><td>0.3885</td></tr></table><br/></div></div>"
      ],
      "text/plain": [
       "<IPython.core.display.HTML object>"
      ]
     },
     "metadata": {},
     "output_type": "display_data"
    },
    {
     "data": {
      "text/html": [
       " View run <strong style=\"color:#cdcd00\">hl_3_hs_64_bs_64_ac_sigmoid_opt_momentum</strong> at: <a href='https://wandb.ai/ed24s401-indian-institute-of-technology-madras/q4_sweep_project/runs/cpxmamc8' target=\"_blank\">https://wandb.ai/ed24s401-indian-institute-of-technology-madras/q4_sweep_project/runs/cpxmamc8</a><br> View project at: <a href='https://wandb.ai/ed24s401-indian-institute-of-technology-madras/q4_sweep_project' target=\"_blank\">https://wandb.ai/ed24s401-indian-institute-of-technology-madras/q4_sweep_project</a><br>Synced 5 W&B file(s), 0 media file(s), 0 artifact file(s) and 0 other file(s)"
      ],
      "text/plain": [
       "<IPython.core.display.HTML object>"
      ]
     },
     "metadata": {},
     "output_type": "display_data"
    },
    {
     "data": {
      "text/html": [
       "Find logs at: <code>.\\wandb\\run-20250317_135122-cpxmamc8\\logs</code>"
      ],
      "text/plain": [
       "<IPython.core.display.HTML object>"
      ]
     },
     "metadata": {},
     "output_type": "display_data"
    },
    {
     "name": "stderr",
     "output_type": "stream",
     "text": [
      "\u001b[34m\u001b[1mwandb\u001b[0m: Agent Starting Run: em5ifhe9 with config:\n",
      "\u001b[34m\u001b[1mwandb\u001b[0m: \tactivation: sigmoid\n",
      "\u001b[34m\u001b[1mwandb\u001b[0m: \tbatch_size: 32\n",
      "\u001b[34m\u001b[1mwandb\u001b[0m: \tbeta1: 0.9\n",
      "\u001b[34m\u001b[1mwandb\u001b[0m: \tbeta2: 0.99\n",
      "\u001b[34m\u001b[1mwandb\u001b[0m: \tbeta_rms: 0.9\n",
      "\u001b[34m\u001b[1mwandb\u001b[0m: \tepochs: 5\n",
      "\u001b[34m\u001b[1mwandb\u001b[0m: \tepsilon: 1e-08\n",
      "\u001b[34m\u001b[1mwandb\u001b[0m: \thidden_size: 128\n",
      "\u001b[34m\u001b[1mwandb\u001b[0m: \tinit_type: random\n",
      "\u001b[34m\u001b[1mwandb\u001b[0m: \tlearning_rate: 0.0001\n",
      "\u001b[34m\u001b[1mwandb\u001b[0m: \tloss_func: cross_entropy\n",
      "\u001b[34m\u001b[1mwandb\u001b[0m: \tmomentum: 0.9\n",
      "\u001b[34m\u001b[1mwandb\u001b[0m: \tnum_hidden_layers: 3\n",
      "\u001b[34m\u001b[1mwandb\u001b[0m: \toptimizer: sgd\n",
      "\u001b[34m\u001b[1mwandb\u001b[0m: \tweight_decay: 0.5\n"
     ]
    },
    {
     "data": {
      "text/html": [
       "Tracking run with wandb version 0.19.8"
      ],
      "text/plain": [
       "<IPython.core.display.HTML object>"
      ]
     },
     "metadata": {},
     "output_type": "display_data"
    },
    {
     "data": {
      "text/html": [
       "Run data is saved locally in <code>c:\\Users\\acer\\OneDrive\\Documents\\GitHub\\dl_assignment_ed24s401\\wandb\\run-20250317_135138-em5ifhe9</code>"
      ],
      "text/plain": [
       "<IPython.core.display.HTML object>"
      ]
     },
     "metadata": {},
     "output_type": "display_data"
    },
    {
     "data": {
      "text/html": [
       "Syncing run <strong><a href='https://wandb.ai/ed24s401-indian-institute-of-technology-madras/q4_sweep_project/runs/em5ifhe9' target=\"_blank\">comic-sweep-16</a></strong> to <a href='https://wandb.ai/ed24s401-indian-institute-of-technology-madras/q4_sweep_project' target=\"_blank\">Weights & Biases</a> (<a href='https://wandb.me/developer-guide' target=\"_blank\">docs</a>)<br>Sweep page: <a href='https://wandb.ai/ed24s401-indian-institute-of-technology-madras/q4_sweep_project/sweeps/hp8fw2uv' target=\"_blank\">https://wandb.ai/ed24s401-indian-institute-of-technology-madras/q4_sweep_project/sweeps/hp8fw2uv</a>"
      ],
      "text/plain": [
       "<IPython.core.display.HTML object>"
      ]
     },
     "metadata": {},
     "output_type": "display_data"
    },
    {
     "data": {
      "text/html": [
       " View project at <a href='https://wandb.ai/ed24s401-indian-institute-of-technology-madras/q4_sweep_project' target=\"_blank\">https://wandb.ai/ed24s401-indian-institute-of-technology-madras/q4_sweep_project</a>"
      ],
      "text/plain": [
       "<IPython.core.display.HTML object>"
      ]
     },
     "metadata": {},
     "output_type": "display_data"
    },
    {
     "data": {
      "text/html": [
       " View sweep at <a href='https://wandb.ai/ed24s401-indian-institute-of-technology-madras/q4_sweep_project/sweeps/hp8fw2uv' target=\"_blank\">https://wandb.ai/ed24s401-indian-institute-of-technology-madras/q4_sweep_project/sweeps/hp8fw2uv</a>"
      ],
      "text/plain": [
       "<IPython.core.display.HTML object>"
      ]
     },
     "metadata": {},
     "output_type": "display_data"
    },
    {
     "data": {
      "text/html": [
       " View run at <a href='https://wandb.ai/ed24s401-indian-institute-of-technology-madras/q4_sweep_project/runs/em5ifhe9' target=\"_blank\">https://wandb.ai/ed24s401-indian-institute-of-technology-madras/q4_sweep_project/runs/em5ifhe9</a>"
      ],
      "text/plain": [
       "<IPython.core.display.HTML object>"
      ]
     },
     "metadata": {},
     "output_type": "display_data"
    },
    {
     "name": "stdout",
     "output_type": "stream",
     "text": [
      "Epoch 1/5 - loss=182.4454, val_acc=0.0977, val_loss=2.3738836219136847\n",
      "Epoch 2/5 - loss=154.3880, val_acc=0.0977, val_loss=2.3233749222177487\n",
      "Epoch 3/5 - loss=130.7537, val_acc=0.0977, val_loss=2.308703639578245\n",
      "Epoch 4/5 - loss=110.8062, val_acc=0.0977, val_loss=2.304416810720981\n",
      "Epoch 5/5 - loss=93.9603, val_acc=0.0977, val_loss=2.303096475750441\n",
      "test accuracy  0.1\n"
     ]
    },
    {
     "data": {
      "text/html": [],
      "text/plain": [
       "<IPython.core.display.HTML object>"
      ]
     },
     "metadata": {},
     "output_type": "display_data"
    },
    {
     "data": {
      "text/html": [
       "<br>    <style><br>        .wandb-row {<br>            display: flex;<br>            flex-direction: row;<br>            flex-wrap: wrap;<br>            justify-content: flex-start;<br>            width: 100%;<br>        }<br>        .wandb-col {<br>            display: flex;<br>            flex-direction: column;<br>            flex-basis: 100%;<br>            flex: 1;<br>            padding: 10px;<br>        }<br>    </style><br><div class=\"wandb-row\"><div class=\"wandb-col\"><h3>Run history:</h3><br/><table class=\"wandb\"><tr><td>epoch</td><td>▁▃▅▆█</td></tr><tr><td>test_accuracy</td><td>▁</td></tr><tr><td>training_loss</td><td>█▆▄▂▁</td></tr><tr><td>validation loss</td><td>█▃▂▁▁</td></tr><tr><td>validation_accuracy</td><td>▁▁▁▁▁</td></tr></table><br/></div><div class=\"wandb-col\"><h3>Run summary:</h3><br/><table class=\"wandb\"><tr><td>epoch</td><td>5</td></tr><tr><td>test_accuracy</td><td>0.1</td></tr><tr><td>training_loss</td><td>93.96026</td></tr><tr><td>validation loss</td><td>2.3031</td></tr><tr><td>validation_accuracy</td><td>0.09767</td></tr></table><br/></div></div>"
      ],
      "text/plain": [
       "<IPython.core.display.HTML object>"
      ]
     },
     "metadata": {},
     "output_type": "display_data"
    },
    {
     "data": {
      "text/html": [
       " View run <strong style=\"color:#cdcd00\">hl_3_hs_128_bs_32_ac_sigmoid_opt_sgd</strong> at: <a href='https://wandb.ai/ed24s401-indian-institute-of-technology-madras/q4_sweep_project/runs/em5ifhe9' target=\"_blank\">https://wandb.ai/ed24s401-indian-institute-of-technology-madras/q4_sweep_project/runs/em5ifhe9</a><br> View project at: <a href='https://wandb.ai/ed24s401-indian-institute-of-technology-madras/q4_sweep_project' target=\"_blank\">https://wandb.ai/ed24s401-indian-institute-of-technology-madras/q4_sweep_project</a><br>Synced 5 W&B file(s), 0 media file(s), 0 artifact file(s) and 0 other file(s)"
      ],
      "text/plain": [
       "<IPython.core.display.HTML object>"
      ]
     },
     "metadata": {},
     "output_type": "display_data"
    },
    {
     "data": {
      "text/html": [
       "Find logs at: <code>.\\wandb\\run-20250317_135138-em5ifhe9\\logs</code>"
      ],
      "text/plain": [
       "<IPython.core.display.HTML object>"
      ]
     },
     "metadata": {},
     "output_type": "display_data"
    },
    {
     "name": "stderr",
     "output_type": "stream",
     "text": [
      "\u001b[34m\u001b[1mwandb\u001b[0m: Agent Starting Run: dtqe0tzb with config:\n",
      "\u001b[34m\u001b[1mwandb\u001b[0m: \tactivation: relu\n",
      "\u001b[34m\u001b[1mwandb\u001b[0m: \tbatch_size: 32\n",
      "\u001b[34m\u001b[1mwandb\u001b[0m: \tbeta1: 0.9\n",
      "\u001b[34m\u001b[1mwandb\u001b[0m: \tbeta2: 0.99\n",
      "\u001b[34m\u001b[1mwandb\u001b[0m: \tbeta_rms: 0.9\n",
      "\u001b[34m\u001b[1mwandb\u001b[0m: \tepochs: 10\n",
      "\u001b[34m\u001b[1mwandb\u001b[0m: \tepsilon: 1e-08\n",
      "\u001b[34m\u001b[1mwandb\u001b[0m: \thidden_size: 128\n",
      "\u001b[34m\u001b[1mwandb\u001b[0m: \tinit_type: random\n",
      "\u001b[34m\u001b[1mwandb\u001b[0m: \tlearning_rate: 0.0001\n",
      "\u001b[34m\u001b[1mwandb\u001b[0m: \tloss_func: cross_entropy\n",
      "\u001b[34m\u001b[1mwandb\u001b[0m: \tmomentum: 0.9\n",
      "\u001b[34m\u001b[1mwandb\u001b[0m: \tnum_hidden_layers: 4\n",
      "\u001b[34m\u001b[1mwandb\u001b[0m: \toptimizer: nesterov\n",
      "\u001b[34m\u001b[1mwandb\u001b[0m: \tweight_decay: 0.5\n"
     ]
    },
    {
     "data": {
      "text/html": [
       "creating run (0.2s)"
      ],
      "text/plain": [
       "<IPython.core.display.HTML object>"
      ]
     },
     "metadata": {},
     "output_type": "display_data"
    },
    {
     "data": {
      "text/html": [
       "Tracking run with wandb version 0.19.8"
      ],
      "text/plain": [
       "<IPython.core.display.HTML object>"
      ]
     },
     "metadata": {},
     "output_type": "display_data"
    },
    {
     "data": {
      "text/html": [
       "Run data is saved locally in <code>c:\\Users\\acer\\OneDrive\\Documents\\GitHub\\dl_assignment_ed24s401\\wandb\\run-20250317_135209-dtqe0tzb</code>"
      ],
      "text/plain": [
       "<IPython.core.display.HTML object>"
      ]
     },
     "metadata": {},
     "output_type": "display_data"
    },
    {
     "data": {
      "text/html": [
       "Syncing run <strong><a href='https://wandb.ai/ed24s401-indian-institute-of-technology-madras/q4_sweep_project/runs/dtqe0tzb' target=\"_blank\">jumping-sweep-17</a></strong> to <a href='https://wandb.ai/ed24s401-indian-institute-of-technology-madras/q4_sweep_project' target=\"_blank\">Weights & Biases</a> (<a href='https://wandb.me/developer-guide' target=\"_blank\">docs</a>)<br>Sweep page: <a href='https://wandb.ai/ed24s401-indian-institute-of-technology-madras/q4_sweep_project/sweeps/hp8fw2uv' target=\"_blank\">https://wandb.ai/ed24s401-indian-institute-of-technology-madras/q4_sweep_project/sweeps/hp8fw2uv</a>"
      ],
      "text/plain": [
       "<IPython.core.display.HTML object>"
      ]
     },
     "metadata": {},
     "output_type": "display_data"
    },
    {
     "data": {
      "text/html": [
       " View project at <a href='https://wandb.ai/ed24s401-indian-institute-of-technology-madras/q4_sweep_project' target=\"_blank\">https://wandb.ai/ed24s401-indian-institute-of-technology-madras/q4_sweep_project</a>"
      ],
      "text/plain": [
       "<IPython.core.display.HTML object>"
      ]
     },
     "metadata": {},
     "output_type": "display_data"
    },
    {
     "data": {
      "text/html": [
       " View sweep at <a href='https://wandb.ai/ed24s401-indian-institute-of-technology-madras/q4_sweep_project/sweeps/hp8fw2uv' target=\"_blank\">https://wandb.ai/ed24s401-indian-institute-of-technology-madras/q4_sweep_project/sweeps/hp8fw2uv</a>"
      ],
      "text/plain": [
       "<IPython.core.display.HTML object>"
      ]
     },
     "metadata": {},
     "output_type": "display_data"
    },
    {
     "data": {
      "text/html": [
       " View run at <a href='https://wandb.ai/ed24s401-indian-institute-of-technology-madras/q4_sweep_project/runs/dtqe0tzb' target=\"_blank\">https://wandb.ai/ed24s401-indian-institute-of-technology-madras/q4_sweep_project/runs/dtqe0tzb</a>"
      ],
      "text/plain": [
       "<IPython.core.display.HTML object>"
      ]
     },
     "metadata": {},
     "output_type": "display_data"
    },
    {
     "name": "stdout",
     "output_type": "stream",
     "text": [
      "Epoch 1/10 - loss=128.6928, val_acc=0.4420, val_loss=2.2151189375752893\n",
      "Epoch 2/10 - loss=25.6893, val_acc=0.1012, val_loss=2.3001445861100263\n",
      "Epoch 3/10 - loss=6.6138, val_acc=0.1012, val_loss=2.3026731434812504\n",
      "Epoch 4/10 - loss=3.0951, val_acc=0.1012, val_loss=2.3026643854000675\n",
      "Epoch 5/10 - loss=2.4483, val_acc=0.1012, val_loss=2.3026412936363205\n",
      "Epoch 6/10 - loss=2.3294, val_acc=0.1012, val_loss=2.302626679796253\n",
      "Epoch 7/10 - loss=2.3076, val_acc=0.1012, val_loss=2.3026175928454595\n",
      "Epoch 8/10 - loss=2.3035, val_acc=0.1012, val_loss=2.3026100601872797\n",
      "Epoch 9/10 - loss=2.3028, val_acc=0.1012, val_loss=2.302606772972771\n",
      "Epoch 10/10 - loss=2.3026, val_acc=0.1012, val_loss=2.302606618142486\n",
      "test accuracy  0.1\n"
     ]
    },
    {
     "data": {
      "text/html": [],
      "text/plain": [
       "<IPython.core.display.HTML object>"
      ]
     },
     "metadata": {},
     "output_type": "display_data"
    },
    {
     "data": {
      "text/html": [
       "<br>    <style><br>        .wandb-row {<br>            display: flex;<br>            flex-direction: row;<br>            flex-wrap: wrap;<br>            justify-content: flex-start;<br>            width: 100%;<br>        }<br>        .wandb-col {<br>            display: flex;<br>            flex-direction: column;<br>            flex-basis: 100%;<br>            flex: 1;<br>            padding: 10px;<br>        }<br>    </style><br><div class=\"wandb-row\"><div class=\"wandb-col\"><h3>Run history:</h3><br/><table class=\"wandb\"><tr><td>epoch</td><td>▁▂▃▃▄▅▆▆▇█</td></tr><tr><td>test_accuracy</td><td>▁</td></tr><tr><td>training_loss</td><td>█▂▁▁▁▁▁▁▁▁</td></tr><tr><td>validation loss</td><td>▁█████████</td></tr><tr><td>validation_accuracy</td><td>█▁▁▁▁▁▁▁▁▁</td></tr></table><br/></div><div class=\"wandb-col\"><h3>Run summary:</h3><br/><table class=\"wandb\"><tr><td>epoch</td><td>10</td></tr><tr><td>test_accuracy</td><td>0.1</td></tr><tr><td>training_loss</td><td>2.30265</td></tr><tr><td>validation loss</td><td>2.30261</td></tr><tr><td>validation_accuracy</td><td>0.10117</td></tr></table><br/></div></div>"
      ],
      "text/plain": [
       "<IPython.core.display.HTML object>"
      ]
     },
     "metadata": {},
     "output_type": "display_data"
    },
    {
     "data": {
      "text/html": [
       " View run <strong style=\"color:#cdcd00\">hl_4_hs_128_bs_32_ac_relu_opt_nesterov</strong> at: <a href='https://wandb.ai/ed24s401-indian-institute-of-technology-madras/q4_sweep_project/runs/dtqe0tzb' target=\"_blank\">https://wandb.ai/ed24s401-indian-institute-of-technology-madras/q4_sweep_project/runs/dtqe0tzb</a><br> View project at: <a href='https://wandb.ai/ed24s401-indian-institute-of-technology-madras/q4_sweep_project' target=\"_blank\">https://wandb.ai/ed24s401-indian-institute-of-technology-madras/q4_sweep_project</a><br>Synced 5 W&B file(s), 0 media file(s), 0 artifact file(s) and 0 other file(s)"
      ],
      "text/plain": [
       "<IPython.core.display.HTML object>"
      ]
     },
     "metadata": {},
     "output_type": "display_data"
    },
    {
     "data": {
      "text/html": [
       "Find logs at: <code>.\\wandb\\run-20250317_135209-dtqe0tzb\\logs</code>"
      ],
      "text/plain": [
       "<IPython.core.display.HTML object>"
      ]
     },
     "metadata": {},
     "output_type": "display_data"
    },
    {
     "name": "stderr",
     "output_type": "stream",
     "text": [
      "\u001b[34m\u001b[1mwandb\u001b[0m: Sweep Agent: Waiting for job.\n",
      "\u001b[34m\u001b[1mwandb\u001b[0m: Job received.\n",
      "\u001b[34m\u001b[1mwandb\u001b[0m: Agent Starting Run: g7f41slr with config:\n",
      "\u001b[34m\u001b[1mwandb\u001b[0m: \tactivation: sigmoid\n",
      "\u001b[34m\u001b[1mwandb\u001b[0m: \tbatch_size: 32\n",
      "\u001b[34m\u001b[1mwandb\u001b[0m: \tbeta1: 0.9\n",
      "\u001b[34m\u001b[1mwandb\u001b[0m: \tbeta2: 0.999\n",
      "\u001b[34m\u001b[1mwandb\u001b[0m: \tbeta_rms: 0.9\n",
      "\u001b[34m\u001b[1mwandb\u001b[0m: \tepochs: 10\n",
      "\u001b[34m\u001b[1mwandb\u001b[0m: \tepsilon: 1e-08\n",
      "\u001b[34m\u001b[1mwandb\u001b[0m: \thidden_size: 32\n",
      "\u001b[34m\u001b[1mwandb\u001b[0m: \tinit_type: random\n",
      "\u001b[34m\u001b[1mwandb\u001b[0m: \tlearning_rate: 0.0001\n",
      "\u001b[34m\u001b[1mwandb\u001b[0m: \tloss_func: cross_entropy\n",
      "\u001b[34m\u001b[1mwandb\u001b[0m: \tmomentum: 0.9\n",
      "\u001b[34m\u001b[1mwandb\u001b[0m: \tnum_hidden_layers: 5\n",
      "\u001b[34m\u001b[1mwandb\u001b[0m: \toptimizer: rmsprop\n",
      "\u001b[34m\u001b[1mwandb\u001b[0m: \tweight_decay: 0.5\n"
     ]
    },
    {
     "data": {
      "text/html": [
       "Waiting for wandb.init()..."
      ],
      "text/plain": [
       "<IPython.core.display.HTML object>"
      ]
     },
     "metadata": {},
     "output_type": "display_data"
    },
    {
     "data": {
      "text/html": [
       "Tracking run with wandb version 0.19.8"
      ],
      "text/plain": [
       "<IPython.core.display.HTML object>"
      ]
     },
     "metadata": {},
     "output_type": "display_data"
    },
    {
     "data": {
      "text/html": [
       "Run data is saved locally in <code>c:\\Users\\acer\\OneDrive\\Documents\\GitHub\\dl_assignment_ed24s401\\wandb\\run-20250317_135323-g7f41slr</code>"
      ],
      "text/plain": [
       "<IPython.core.display.HTML object>"
      ]
     },
     "metadata": {},
     "output_type": "display_data"
    },
    {
     "data": {
      "text/html": [
       "Syncing run <strong><a href='https://wandb.ai/ed24s401-indian-institute-of-technology-madras/q4_sweep_project/runs/g7f41slr' target=\"_blank\">legendary-sweep-18</a></strong> to <a href='https://wandb.ai/ed24s401-indian-institute-of-technology-madras/q4_sweep_project' target=\"_blank\">Weights & Biases</a> (<a href='https://wandb.me/developer-guide' target=\"_blank\">docs</a>)<br>Sweep page: <a href='https://wandb.ai/ed24s401-indian-institute-of-technology-madras/q4_sweep_project/sweeps/hp8fw2uv' target=\"_blank\">https://wandb.ai/ed24s401-indian-institute-of-technology-madras/q4_sweep_project/sweeps/hp8fw2uv</a>"
      ],
      "text/plain": [
       "<IPython.core.display.HTML object>"
      ]
     },
     "metadata": {},
     "output_type": "display_data"
    },
    {
     "data": {
      "text/html": [
       " View project at <a href='https://wandb.ai/ed24s401-indian-institute-of-technology-madras/q4_sweep_project' target=\"_blank\">https://wandb.ai/ed24s401-indian-institute-of-technology-madras/q4_sweep_project</a>"
      ],
      "text/plain": [
       "<IPython.core.display.HTML object>"
      ]
     },
     "metadata": {},
     "output_type": "display_data"
    },
    {
     "data": {
      "text/html": [
       " View sweep at <a href='https://wandb.ai/ed24s401-indian-institute-of-technology-madras/q4_sweep_project/sweeps/hp8fw2uv' target=\"_blank\">https://wandb.ai/ed24s401-indian-institute-of-technology-madras/q4_sweep_project/sweeps/hp8fw2uv</a>"
      ],
      "text/plain": [
       "<IPython.core.display.HTML object>"
      ]
     },
     "metadata": {},
     "output_type": "display_data"
    },
    {
     "data": {
      "text/html": [
       " View run at <a href='https://wandb.ai/ed24s401-indian-institute-of-technology-madras/q4_sweep_project/runs/g7f41slr' target=\"_blank\">https://wandb.ai/ed24s401-indian-institute-of-technology-madras/q4_sweep_project/runs/g7f41slr</a>"
      ],
      "text/plain": [
       "<IPython.core.display.HTML object>"
      ]
     },
     "metadata": {},
     "output_type": "display_data"
    },
    {
     "name": "stdout",
     "output_type": "stream",
     "text": [
      "Epoch 1/10 - loss=45.3385, val_acc=0.0977, val_loss=2.3065861077214893\n",
      "Epoch 2/10 - loss=13.2579, val_acc=0.0985, val_loss=2.3030876323980247\n",
      "Epoch 3/10 - loss=4.6072, val_acc=0.1012, val_loss=2.3027356068787497\n",
      "Epoch 4/10 - loss=2.6406, val_acc=0.0995, val_loss=2.3028134202696977\n",
      "Epoch 5/10 - loss=2.3274, val_acc=0.0995, val_loss=2.3027409489126622\n",
      "Epoch 6/10 - loss=2.3044, val_acc=0.1000, val_loss=2.302717264944213\n",
      "Epoch 7/10 - loss=2.3033, val_acc=0.1012, val_loss=2.3027971206067117\n",
      "Epoch 8/10 - loss=2.3032, val_acc=0.1000, val_loss=2.302723224421464\n",
      "Epoch 9/10 - loss=2.3033, val_acc=0.1012, val_loss=2.3026905624401897\n",
      "Epoch 10/10 - loss=2.3032, val_acc=0.1012, val_loss=2.302597006468284\n",
      "test accuracy  0.1\n"
     ]
    },
    {
     "data": {
      "text/html": [],
      "text/plain": [
       "<IPython.core.display.HTML object>"
      ]
     },
     "metadata": {},
     "output_type": "display_data"
    },
    {
     "data": {
      "text/html": [
       "<br>    <style><br>        .wandb-row {<br>            display: flex;<br>            flex-direction: row;<br>            flex-wrap: wrap;<br>            justify-content: flex-start;<br>            width: 100%;<br>        }<br>        .wandb-col {<br>            display: flex;<br>            flex-direction: column;<br>            flex-basis: 100%;<br>            flex: 1;<br>            padding: 10px;<br>        }<br>    </style><br><div class=\"wandb-row\"><div class=\"wandb-col\"><h3>Run history:</h3><br/><table class=\"wandb\"><tr><td>epoch</td><td>▁▂▃▃▄▅▆▆▇█</td></tr><tr><td>test_accuracy</td><td>▁</td></tr><tr><td>training_loss</td><td>█▃▁▁▁▁▁▁▁▁</td></tr><tr><td>validation loss</td><td>█▂▁▁▁▁▁▁▁▁</td></tr><tr><td>validation_accuracy</td><td>▁▃█▅▅▆█▆██</td></tr></table><br/></div><div class=\"wandb-col\"><h3>Run summary:</h3><br/><table class=\"wandb\"><tr><td>epoch</td><td>10</td></tr><tr><td>test_accuracy</td><td>0.1</td></tr><tr><td>training_loss</td><td>2.30317</td></tr><tr><td>validation loss</td><td>2.3026</td></tr><tr><td>validation_accuracy</td><td>0.10117</td></tr></table><br/></div></div>"
      ],
      "text/plain": [
       "<IPython.core.display.HTML object>"
      ]
     },
     "metadata": {},
     "output_type": "display_data"
    },
    {
     "data": {
      "text/html": [
       " View run <strong style=\"color:#cdcd00\">hl_5_hs_32_bs_32_ac_sigmoid_opt_rmsprop</strong> at: <a href='https://wandb.ai/ed24s401-indian-institute-of-technology-madras/q4_sweep_project/runs/g7f41slr' target=\"_blank\">https://wandb.ai/ed24s401-indian-institute-of-technology-madras/q4_sweep_project/runs/g7f41slr</a><br> View project at: <a href='https://wandb.ai/ed24s401-indian-institute-of-technology-madras/q4_sweep_project' target=\"_blank\">https://wandb.ai/ed24s401-indian-institute-of-technology-madras/q4_sweep_project</a><br>Synced 5 W&B file(s), 0 media file(s), 0 artifact file(s) and 0 other file(s)"
      ],
      "text/plain": [
       "<IPython.core.display.HTML object>"
      ]
     },
     "metadata": {},
     "output_type": "display_data"
    },
    {
     "data": {
      "text/html": [
       "Find logs at: <code>.\\wandb\\run-20250317_135323-g7f41slr\\logs</code>"
      ],
      "text/plain": [
       "<IPython.core.display.HTML object>"
      ]
     },
     "metadata": {},
     "output_type": "display_data"
    },
    {
     "name": "stderr",
     "output_type": "stream",
     "text": [
      "\u001b[34m\u001b[1mwandb\u001b[0m: Agent Starting Run: b87vjdoi with config:\n",
      "\u001b[34m\u001b[1mwandb\u001b[0m: \tactivation: relu\n",
      "\u001b[34m\u001b[1mwandb\u001b[0m: \tbatch_size: 16\n",
      "\u001b[34m\u001b[1mwandb\u001b[0m: \tbeta1: 0.9\n",
      "\u001b[34m\u001b[1mwandb\u001b[0m: \tbeta2: 0.99\n",
      "\u001b[34m\u001b[1mwandb\u001b[0m: \tbeta_rms: 0.9\n",
      "\u001b[34m\u001b[1mwandb\u001b[0m: \tepochs: 5\n",
      "\u001b[34m\u001b[1mwandb\u001b[0m: \tepsilon: 1e-08\n",
      "\u001b[34m\u001b[1mwandb\u001b[0m: \thidden_size: 32\n",
      "\u001b[34m\u001b[1mwandb\u001b[0m: \tinit_type: xavier\n",
      "\u001b[34m\u001b[1mwandb\u001b[0m: \tlearning_rate: 0.0001\n",
      "\u001b[34m\u001b[1mwandb\u001b[0m: \tloss_func: cross_entropy\n",
      "\u001b[34m\u001b[1mwandb\u001b[0m: \tmomentum: 0.9\n",
      "\u001b[34m\u001b[1mwandb\u001b[0m: \tnum_hidden_layers: 5\n",
      "\u001b[34m\u001b[1mwandb\u001b[0m: \toptimizer: adam\n",
      "\u001b[34m\u001b[1mwandb\u001b[0m: \tweight_decay: 0.0005\n"
     ]
    },
    {
     "data": {
      "text/html": [],
      "text/plain": [
       "<IPython.core.display.HTML object>"
      ]
     },
     "metadata": {},
     "output_type": "display_data"
    },
    {
     "data": {
      "text/html": [
       "Tracking run with wandb version 0.19.8"
      ],
      "text/plain": [
       "<IPython.core.display.HTML object>"
      ]
     },
     "metadata": {},
     "output_type": "display_data"
    },
    {
     "data": {
      "text/html": [
       "Run data is saved locally in <code>c:\\Users\\acer\\OneDrive\\Documents\\GitHub\\dl_assignment_ed24s401\\wandb\\run-20250317_135356-b87vjdoi</code>"
      ],
      "text/plain": [
       "<IPython.core.display.HTML object>"
      ]
     },
     "metadata": {},
     "output_type": "display_data"
    },
    {
     "data": {
      "text/html": [
       "Syncing run <strong><a href='https://wandb.ai/ed24s401-indian-institute-of-technology-madras/q4_sweep_project/runs/b87vjdoi' target=\"_blank\">brisk-sweep-19</a></strong> to <a href='https://wandb.ai/ed24s401-indian-institute-of-technology-madras/q4_sweep_project' target=\"_blank\">Weights & Biases</a> (<a href='https://wandb.me/developer-guide' target=\"_blank\">docs</a>)<br>Sweep page: <a href='https://wandb.ai/ed24s401-indian-institute-of-technology-madras/q4_sweep_project/sweeps/hp8fw2uv' target=\"_blank\">https://wandb.ai/ed24s401-indian-institute-of-technology-madras/q4_sweep_project/sweeps/hp8fw2uv</a>"
      ],
      "text/plain": [
       "<IPython.core.display.HTML object>"
      ]
     },
     "metadata": {},
     "output_type": "display_data"
    },
    {
     "data": {
      "text/html": [
       " View project at <a href='https://wandb.ai/ed24s401-indian-institute-of-technology-madras/q4_sweep_project' target=\"_blank\">https://wandb.ai/ed24s401-indian-institute-of-technology-madras/q4_sweep_project</a>"
      ],
      "text/plain": [
       "<IPython.core.display.HTML object>"
      ]
     },
     "metadata": {},
     "output_type": "display_data"
    },
    {
     "data": {
      "text/html": [
       " View sweep at <a href='https://wandb.ai/ed24s401-indian-institute-of-technology-madras/q4_sweep_project/sweeps/hp8fw2uv' target=\"_blank\">https://wandb.ai/ed24s401-indian-institute-of-technology-madras/q4_sweep_project/sweeps/hp8fw2uv</a>"
      ],
      "text/plain": [
       "<IPython.core.display.HTML object>"
      ]
     },
     "metadata": {},
     "output_type": "display_data"
    },
    {
     "data": {
      "text/html": [
       " View run at <a href='https://wandb.ai/ed24s401-indian-institute-of-technology-madras/q4_sweep_project/runs/b87vjdoi' target=\"_blank\">https://wandb.ai/ed24s401-indian-institute-of-technology-madras/q4_sweep_project/runs/b87vjdoi</a>"
      ],
      "text/plain": [
       "<IPython.core.display.HTML object>"
      ]
     },
     "metadata": {},
     "output_type": "display_data"
    },
    {
     "name": "stdout",
     "output_type": "stream",
     "text": [
      "Epoch 1/5 - loss=0.9986, val_acc=0.7373, val_loss=0.7070792639155095\n",
      "Epoch 2/5 - loss=0.6427, val_acc=0.8027, val_loss=0.5699640093095261\n",
      "Epoch 3/5 - loss=0.5414, val_acc=0.8285, val_loss=0.4965142704079345\n",
      "Epoch 4/5 - loss=0.4911, val_acc=0.8408, val_loss=0.45182286148104567\n",
      "Epoch 5/5 - loss=0.4631, val_acc=0.8510, val_loss=0.4297944786402634\n",
      "test accuracy  0.8426\n"
     ]
    },
    {
     "data": {
      "text/html": [],
      "text/plain": [
       "<IPython.core.display.HTML object>"
      ]
     },
     "metadata": {},
     "output_type": "display_data"
    },
    {
     "data": {
      "text/html": [
       "<br>    <style><br>        .wandb-row {<br>            display: flex;<br>            flex-direction: row;<br>            flex-wrap: wrap;<br>            justify-content: flex-start;<br>            width: 100%;<br>        }<br>        .wandb-col {<br>            display: flex;<br>            flex-direction: column;<br>            flex-basis: 100%;<br>            flex: 1;<br>            padding: 10px;<br>        }<br>    </style><br><div class=\"wandb-row\"><div class=\"wandb-col\"><h3>Run history:</h3><br/><table class=\"wandb\"><tr><td>epoch</td><td>▁▃▅▆█</td></tr><tr><td>test_accuracy</td><td>▁</td></tr><tr><td>training_loss</td><td>█▃▂▁▁</td></tr><tr><td>validation loss</td><td>█▅▃▂▁</td></tr><tr><td>validation_accuracy</td><td>▁▅▇▇█</td></tr></table><br/></div><div class=\"wandb-col\"><h3>Run summary:</h3><br/><table class=\"wandb\"><tr><td>epoch</td><td>5</td></tr><tr><td>test_accuracy</td><td>0.8426</td></tr><tr><td>training_loss</td><td>0.46308</td></tr><tr><td>validation loss</td><td>0.42979</td></tr><tr><td>validation_accuracy</td><td>0.851</td></tr></table><br/></div></div>"
      ],
      "text/plain": [
       "<IPython.core.display.HTML object>"
      ]
     },
     "metadata": {},
     "output_type": "display_data"
    },
    {
     "data": {
      "text/html": [
       " View run <strong style=\"color:#cdcd00\">hl_5_hs_32_bs_16_ac_relu_opt_adam</strong> at: <a href='https://wandb.ai/ed24s401-indian-institute-of-technology-madras/q4_sweep_project/runs/b87vjdoi' target=\"_blank\">https://wandb.ai/ed24s401-indian-institute-of-technology-madras/q4_sweep_project/runs/b87vjdoi</a><br> View project at: <a href='https://wandb.ai/ed24s401-indian-institute-of-technology-madras/q4_sweep_project' target=\"_blank\">https://wandb.ai/ed24s401-indian-institute-of-technology-madras/q4_sweep_project</a><br>Synced 5 W&B file(s), 0 media file(s), 0 artifact file(s) and 0 other file(s)"
      ],
      "text/plain": [
       "<IPython.core.display.HTML object>"
      ]
     },
     "metadata": {},
     "output_type": "display_data"
    },
    {
     "data": {
      "text/html": [
       "Find logs at: <code>.\\wandb\\run-20250317_135356-b87vjdoi\\logs</code>"
      ],
      "text/plain": [
       "<IPython.core.display.HTML object>"
      ]
     },
     "metadata": {},
     "output_type": "display_data"
    },
    {
     "name": "stderr",
     "output_type": "stream",
     "text": [
      "\u001b[34m\u001b[1mwandb\u001b[0m: Agent Starting Run: slc8rcbu with config:\n",
      "\u001b[34m\u001b[1mwandb\u001b[0m: \tactivation: relu\n",
      "\u001b[34m\u001b[1mwandb\u001b[0m: \tbatch_size: 32\n",
      "\u001b[34m\u001b[1mwandb\u001b[0m: \tbeta1: 0.9\n",
      "\u001b[34m\u001b[1mwandb\u001b[0m: \tbeta2: 0.999\n",
      "\u001b[34m\u001b[1mwandb\u001b[0m: \tbeta_rms: 0.9\n",
      "\u001b[34m\u001b[1mwandb\u001b[0m: \tepochs: 10\n",
      "\u001b[34m\u001b[1mwandb\u001b[0m: \tepsilon: 1e-08\n",
      "\u001b[34m\u001b[1mwandb\u001b[0m: \thidden_size: 32\n",
      "\u001b[34m\u001b[1mwandb\u001b[0m: \tinit_type: random\n",
      "\u001b[34m\u001b[1mwandb\u001b[0m: \tlearning_rate: 0.001\n",
      "\u001b[34m\u001b[1mwandb\u001b[0m: \tloss_func: cross_entropy\n",
      "\u001b[34m\u001b[1mwandb\u001b[0m: \tmomentum: 0.9\n",
      "\u001b[34m\u001b[1mwandb\u001b[0m: \tnum_hidden_layers: 5\n",
      "\u001b[34m\u001b[1mwandb\u001b[0m: \toptimizer: sgd\n",
      "\u001b[34m\u001b[1mwandb\u001b[0m: \tweight_decay: 0.0005\n"
     ]
    },
    {
     "data": {
      "text/html": [
       "creating run (0.2s)"
      ],
      "text/plain": [
       "<IPython.core.display.HTML object>"
      ]
     },
     "metadata": {},
     "output_type": "display_data"
    },
    {
     "data": {
      "text/html": [
       "Tracking run with wandb version 0.19.8"
      ],
      "text/plain": [
       "<IPython.core.display.HTML object>"
      ]
     },
     "metadata": {},
     "output_type": "display_data"
    },
    {
     "data": {
      "text/html": [
       "Run data is saved locally in <code>c:\\Users\\acer\\OneDrive\\Documents\\GitHub\\dl_assignment_ed24s401\\wandb\\run-20250317_135427-slc8rcbu</code>"
      ],
      "text/plain": [
       "<IPython.core.display.HTML object>"
      ]
     },
     "metadata": {},
     "output_type": "display_data"
    },
    {
     "data": {
      "text/html": [
       "Syncing run <strong><a href='https://wandb.ai/ed24s401-indian-institute-of-technology-madras/q4_sweep_project/runs/slc8rcbu' target=\"_blank\">flowing-sweep-20</a></strong> to <a href='https://wandb.ai/ed24s401-indian-institute-of-technology-madras/q4_sweep_project' target=\"_blank\">Weights & Biases</a> (<a href='https://wandb.me/developer-guide' target=\"_blank\">docs</a>)<br>Sweep page: <a href='https://wandb.ai/ed24s401-indian-institute-of-technology-madras/q4_sweep_project/sweeps/hp8fw2uv' target=\"_blank\">https://wandb.ai/ed24s401-indian-institute-of-technology-madras/q4_sweep_project/sweeps/hp8fw2uv</a>"
      ],
      "text/plain": [
       "<IPython.core.display.HTML object>"
      ]
     },
     "metadata": {},
     "output_type": "display_data"
    },
    {
     "data": {
      "text/html": [
       " View project at <a href='https://wandb.ai/ed24s401-indian-institute-of-technology-madras/q4_sweep_project' target=\"_blank\">https://wandb.ai/ed24s401-indian-institute-of-technology-madras/q4_sweep_project</a>"
      ],
      "text/plain": [
       "<IPython.core.display.HTML object>"
      ]
     },
     "metadata": {},
     "output_type": "display_data"
    },
    {
     "data": {
      "text/html": [
       " View sweep at <a href='https://wandb.ai/ed24s401-indian-institute-of-technology-madras/q4_sweep_project/sweeps/hp8fw2uv' target=\"_blank\">https://wandb.ai/ed24s401-indian-institute-of-technology-madras/q4_sweep_project/sweeps/hp8fw2uv</a>"
      ],
      "text/plain": [
       "<IPython.core.display.HTML object>"
      ]
     },
     "metadata": {},
     "output_type": "display_data"
    },
    {
     "data": {
      "text/html": [
       " View run at <a href='https://wandb.ai/ed24s401-indian-institute-of-technology-madras/q4_sweep_project/runs/slc8rcbu' target=\"_blank\">https://wandb.ai/ed24s401-indian-institute-of-technology-madras/q4_sweep_project/runs/slc8rcbu</a>"
      ],
      "text/plain": [
       "<IPython.core.display.HTML object>"
      ]
     },
     "metadata": {},
     "output_type": "display_data"
    },
    {
     "name": "stdout",
     "output_type": "stream",
     "text": [
      "Epoch 1/10 - loss=1.7876, val_acc=0.6128, val_loss=1.2224024267055946\n",
      "Epoch 2/10 - loss=1.0528, val_acc=0.6810, val_loss=0.8561838379181044\n",
      "Epoch 3/10 - loss=0.8704, val_acc=0.7128, val_loss=0.7643719064714508\n",
      "Epoch 4/10 - loss=0.7922, val_acc=0.7433, val_loss=0.6951883972663191\n",
      "Epoch 5/10 - loss=0.7399, val_acc=0.7640, val_loss=0.6575126325764058\n",
      "Epoch 6/10 - loss=0.7000, val_acc=0.7860, val_loss=0.6151650424617933\n",
      "Epoch 7/10 - loss=0.6662, val_acc=0.7980, val_loss=0.590694356190673\n",
      "Epoch 8/10 - loss=0.6380, val_acc=0.8095, val_loss=0.5625736558759356\n",
      "Epoch 9/10 - loss=0.6156, val_acc=0.8118, val_loss=0.5451017928268878\n",
      "Epoch 10/10 - loss=0.5980, val_acc=0.8158, val_loss=0.5330872100364479\n",
      "test accuracy  0.8154\n"
     ]
    },
    {
     "data": {
      "text/html": [],
      "text/plain": [
       "<IPython.core.display.HTML object>"
      ]
     },
     "metadata": {},
     "output_type": "display_data"
    },
    {
     "data": {
      "text/html": [
       "<br>    <style><br>        .wandb-row {<br>            display: flex;<br>            flex-direction: row;<br>            flex-wrap: wrap;<br>            justify-content: flex-start;<br>            width: 100%;<br>        }<br>        .wandb-col {<br>            display: flex;<br>            flex-direction: column;<br>            flex-basis: 100%;<br>            flex: 1;<br>            padding: 10px;<br>        }<br>    </style><br><div class=\"wandb-row\"><div class=\"wandb-col\"><h3>Run history:</h3><br/><table class=\"wandb\"><tr><td>epoch</td><td>▁▂▃▃▄▅▆▆▇█</td></tr><tr><td>test_accuracy</td><td>▁</td></tr><tr><td>training_loss</td><td>█▄▃▂▂▂▁▁▁▁</td></tr><tr><td>validation loss</td><td>█▄▃▃▂▂▂▁▁▁</td></tr><tr><td>validation_accuracy</td><td>▁▃▄▆▆▇▇███</td></tr></table><br/></div><div class=\"wandb-col\"><h3>Run summary:</h3><br/><table class=\"wandb\"><tr><td>epoch</td><td>10</td></tr><tr><td>test_accuracy</td><td>0.8154</td></tr><tr><td>training_loss</td><td>0.59804</td></tr><tr><td>validation loss</td><td>0.53309</td></tr><tr><td>validation_accuracy</td><td>0.81583</td></tr></table><br/></div></div>"
      ],
      "text/plain": [
       "<IPython.core.display.HTML object>"
      ]
     },
     "metadata": {},
     "output_type": "display_data"
    },
    {
     "data": {
      "text/html": [
       " View run <strong style=\"color:#cdcd00\">hl_5_hs_32_bs_32_ac_relu_opt_sgd</strong> at: <a href='https://wandb.ai/ed24s401-indian-institute-of-technology-madras/q4_sweep_project/runs/slc8rcbu' target=\"_blank\">https://wandb.ai/ed24s401-indian-institute-of-technology-madras/q4_sweep_project/runs/slc8rcbu</a><br> View project at: <a href='https://wandb.ai/ed24s401-indian-institute-of-technology-madras/q4_sweep_project' target=\"_blank\">https://wandb.ai/ed24s401-indian-institute-of-technology-madras/q4_sweep_project</a><br>Synced 5 W&B file(s), 0 media file(s), 0 artifact file(s) and 0 other file(s)"
      ],
      "text/plain": [
       "<IPython.core.display.HTML object>"
      ]
     },
     "metadata": {},
     "output_type": "display_data"
    },
    {
     "data": {
      "text/html": [
       "Find logs at: <code>.\\wandb\\run-20250317_135427-slc8rcbu\\logs</code>"
      ],
      "text/plain": [
       "<IPython.core.display.HTML object>"
      ]
     },
     "metadata": {},
     "output_type": "display_data"
    },
    {
     "name": "stderr",
     "output_type": "stream",
     "text": [
      "\u001b[34m\u001b[1mwandb\u001b[0m: Agent Starting Run: 837nkmc5 with config:\n",
      "\u001b[34m\u001b[1mwandb\u001b[0m: \tactivation: relu\n",
      "\u001b[34m\u001b[1mwandb\u001b[0m: \tbatch_size: 16\n",
      "\u001b[34m\u001b[1mwandb\u001b[0m: \tbeta1: 0.9\n",
      "\u001b[34m\u001b[1mwandb\u001b[0m: \tbeta2: 0.999\n",
      "\u001b[34m\u001b[1mwandb\u001b[0m: \tbeta_rms: 0.9\n",
      "\u001b[34m\u001b[1mwandb\u001b[0m: \tepochs: 5\n",
      "\u001b[34m\u001b[1mwandb\u001b[0m: \tepsilon: 1e-08\n",
      "\u001b[34m\u001b[1mwandb\u001b[0m: \thidden_size: 128\n",
      "\u001b[34m\u001b[1mwandb\u001b[0m: \tinit_type: random\n",
      "\u001b[34m\u001b[1mwandb\u001b[0m: \tlearning_rate: 0.001\n",
      "\u001b[34m\u001b[1mwandb\u001b[0m: \tloss_func: cross_entropy\n",
      "\u001b[34m\u001b[1mwandb\u001b[0m: \tmomentum: 0.9\n",
      "\u001b[34m\u001b[1mwandb\u001b[0m: \tnum_hidden_layers: 4\n",
      "\u001b[34m\u001b[1mwandb\u001b[0m: \toptimizer: adam\n",
      "\u001b[34m\u001b[1mwandb\u001b[0m: \tweight_decay: 0.0005\n"
     ]
    },
    {
     "data": {
      "text/html": [
       "creating run (0.2s)"
      ],
      "text/plain": [
       "<IPython.core.display.HTML object>"
      ]
     },
     "metadata": {},
     "output_type": "display_data"
    },
    {
     "data": {
      "text/html": [
       "Tracking run with wandb version 0.19.8"
      ],
      "text/plain": [
       "<IPython.core.display.HTML object>"
      ]
     },
     "metadata": {},
     "output_type": "display_data"
    },
    {
     "data": {
      "text/html": [
       "Run data is saved locally in <code>c:\\Users\\acer\\OneDrive\\Documents\\GitHub\\dl_assignment_ed24s401\\wandb\\run-20250317_135449-837nkmc5</code>"
      ],
      "text/plain": [
       "<IPython.core.display.HTML object>"
      ]
     },
     "metadata": {},
     "output_type": "display_data"
    },
    {
     "data": {
      "text/html": [
       "Syncing run <strong><a href='https://wandb.ai/ed24s401-indian-institute-of-technology-madras/q4_sweep_project/runs/837nkmc5' target=\"_blank\">deft-sweep-21</a></strong> to <a href='https://wandb.ai/ed24s401-indian-institute-of-technology-madras/q4_sweep_project' target=\"_blank\">Weights & Biases</a> (<a href='https://wandb.me/developer-guide' target=\"_blank\">docs</a>)<br>Sweep page: <a href='https://wandb.ai/ed24s401-indian-institute-of-technology-madras/q4_sweep_project/sweeps/hp8fw2uv' target=\"_blank\">https://wandb.ai/ed24s401-indian-institute-of-technology-madras/q4_sweep_project/sweeps/hp8fw2uv</a>"
      ],
      "text/plain": [
       "<IPython.core.display.HTML object>"
      ]
     },
     "metadata": {},
     "output_type": "display_data"
    },
    {
     "data": {
      "text/html": [
       " View project at <a href='https://wandb.ai/ed24s401-indian-institute-of-technology-madras/q4_sweep_project' target=\"_blank\">https://wandb.ai/ed24s401-indian-institute-of-technology-madras/q4_sweep_project</a>"
      ],
      "text/plain": [
       "<IPython.core.display.HTML object>"
      ]
     },
     "metadata": {},
     "output_type": "display_data"
    },
    {
     "data": {
      "text/html": [
       " View sweep at <a href='https://wandb.ai/ed24s401-indian-institute-of-technology-madras/q4_sweep_project/sweeps/hp8fw2uv' target=\"_blank\">https://wandb.ai/ed24s401-indian-institute-of-technology-madras/q4_sweep_project/sweeps/hp8fw2uv</a>"
      ],
      "text/plain": [
       "<IPython.core.display.HTML object>"
      ]
     },
     "metadata": {},
     "output_type": "display_data"
    },
    {
     "data": {
      "text/html": [
       " View run at <a href='https://wandb.ai/ed24s401-indian-institute-of-technology-madras/q4_sweep_project/runs/837nkmc5' target=\"_blank\">https://wandb.ai/ed24s401-indian-institute-of-technology-madras/q4_sweep_project/runs/837nkmc5</a>"
      ],
      "text/plain": [
       "<IPython.core.display.HTML object>"
      ]
     },
     "metadata": {},
     "output_type": "display_data"
    },
    {
     "name": "stdout",
     "output_type": "stream",
     "text": [
      "Epoch 1/5 - loss=0.6748, val_acc=0.8267, val_loss=0.4648631724119012\n",
      "Epoch 2/5 - loss=0.5208, val_acc=0.8425, val_loss=0.42602637067653315\n",
      "Epoch 3/5 - loss=0.4756, val_acc=0.8575, val_loss=0.389321786758338\n",
      "Epoch 4/5 - loss=0.4515, val_acc=0.8633, val_loss=0.37249648773847743\n",
      "Epoch 5/5 - loss=0.4344, val_acc=0.8738, val_loss=0.34761762462200835\n",
      "test accuracy  0.8659\n"
     ]
    },
    {
     "data": {
      "text/html": [],
      "text/plain": [
       "<IPython.core.display.HTML object>"
      ]
     },
     "metadata": {},
     "output_type": "display_data"
    },
    {
     "data": {
      "text/html": [
       "<br>    <style><br>        .wandb-row {<br>            display: flex;<br>            flex-direction: row;<br>            flex-wrap: wrap;<br>            justify-content: flex-start;<br>            width: 100%;<br>        }<br>        .wandb-col {<br>            display: flex;<br>            flex-direction: column;<br>            flex-basis: 100%;<br>            flex: 1;<br>            padding: 10px;<br>        }<br>    </style><br><div class=\"wandb-row\"><div class=\"wandb-col\"><h3>Run history:</h3><br/><table class=\"wandb\"><tr><td>epoch</td><td>▁▃▅▆█</td></tr><tr><td>test_accuracy</td><td>▁</td></tr><tr><td>training_loss</td><td>█▄▂▁▁</td></tr><tr><td>validation loss</td><td>█▆▃▂▁</td></tr><tr><td>validation_accuracy</td><td>▁▃▆▆█</td></tr></table><br/></div><div class=\"wandb-col\"><h3>Run summary:</h3><br/><table class=\"wandb\"><tr><td>epoch</td><td>5</td></tr><tr><td>test_accuracy</td><td>0.8659</td></tr><tr><td>training_loss</td><td>0.4344</td></tr><tr><td>validation loss</td><td>0.34762</td></tr><tr><td>validation_accuracy</td><td>0.87383</td></tr></table><br/></div></div>"
      ],
      "text/plain": [
       "<IPython.core.display.HTML object>"
      ]
     },
     "metadata": {},
     "output_type": "display_data"
    },
    {
     "data": {
      "text/html": [
       " View run <strong style=\"color:#cdcd00\">hl_4_hs_128_bs_16_ac_relu_opt_adam</strong> at: <a href='https://wandb.ai/ed24s401-indian-institute-of-technology-madras/q4_sweep_project/runs/837nkmc5' target=\"_blank\">https://wandb.ai/ed24s401-indian-institute-of-technology-madras/q4_sweep_project/runs/837nkmc5</a><br> View project at: <a href='https://wandb.ai/ed24s401-indian-institute-of-technology-madras/q4_sweep_project' target=\"_blank\">https://wandb.ai/ed24s401-indian-institute-of-technology-madras/q4_sweep_project</a><br>Synced 5 W&B file(s), 0 media file(s), 0 artifact file(s) and 0 other file(s)"
      ],
      "text/plain": [
       "<IPython.core.display.HTML object>"
      ]
     },
     "metadata": {},
     "output_type": "display_data"
    },
    {
     "data": {
      "text/html": [
       "Find logs at: <code>.\\wandb\\run-20250317_135449-837nkmc5\\logs</code>"
      ],
      "text/plain": [
       "<IPython.core.display.HTML object>"
      ]
     },
     "metadata": {},
     "output_type": "display_data"
    },
    {
     "name": "stderr",
     "output_type": "stream",
     "text": [
      "\u001b[34m\u001b[1mwandb\u001b[0m: Sweep Agent: Waiting for job.\n",
      "\u001b[34m\u001b[1mwandb\u001b[0m: Job received.\n",
      "\u001b[34m\u001b[1mwandb\u001b[0m: Agent Starting Run: 0gufytxs with config:\n",
      "\u001b[34m\u001b[1mwandb\u001b[0m: \tactivation: sigmoid\n",
      "\u001b[34m\u001b[1mwandb\u001b[0m: \tbatch_size: 32\n",
      "\u001b[34m\u001b[1mwandb\u001b[0m: \tbeta1: 0.9\n",
      "\u001b[34m\u001b[1mwandb\u001b[0m: \tbeta2: 0.999\n",
      "\u001b[34m\u001b[1mwandb\u001b[0m: \tbeta_rms: 0.9\n",
      "\u001b[34m\u001b[1mwandb\u001b[0m: \tepochs: 10\n",
      "\u001b[34m\u001b[1mwandb\u001b[0m: \tepsilon: 1e-08\n",
      "\u001b[34m\u001b[1mwandb\u001b[0m: \thidden_size: 64\n",
      "\u001b[34m\u001b[1mwandb\u001b[0m: \tinit_type: random\n",
      "\u001b[34m\u001b[1mwandb\u001b[0m: \tlearning_rate: 0.0001\n",
      "\u001b[34m\u001b[1mwandb\u001b[0m: \tloss_func: cross_entropy\n",
      "\u001b[34m\u001b[1mwandb\u001b[0m: \tmomentum: 0.9\n",
      "\u001b[34m\u001b[1mwandb\u001b[0m: \tnum_hidden_layers: 5\n",
      "\u001b[34m\u001b[1mwandb\u001b[0m: \toptimizer: sgd\n",
      "\u001b[34m\u001b[1mwandb\u001b[0m: \tweight_decay: 0.0005\n"
     ]
    },
    {
     "data": {
      "text/html": [
       "creating run (0.0s)"
      ],
      "text/plain": [
       "<IPython.core.display.HTML object>"
      ]
     },
     "metadata": {},
     "output_type": "display_data"
    },
    {
     "data": {
      "text/html": [
       "Tracking run with wandb version 0.19.8"
      ],
      "text/plain": [
       "<IPython.core.display.HTML object>"
      ]
     },
     "metadata": {},
     "output_type": "display_data"
    },
    {
     "data": {
      "text/html": [
       "Run data is saved locally in <code>c:\\Users\\acer\\OneDrive\\Documents\\GitHub\\dl_assignment_ed24s401\\wandb\\run-20250317_135623-0gufytxs</code>"
      ],
      "text/plain": [
       "<IPython.core.display.HTML object>"
      ]
     },
     "metadata": {},
     "output_type": "display_data"
    },
    {
     "data": {
      "text/html": [
       "Syncing run <strong><a href='https://wandb.ai/ed24s401-indian-institute-of-technology-madras/q4_sweep_project/runs/0gufytxs' target=\"_blank\">astral-sweep-22</a></strong> to <a href='https://wandb.ai/ed24s401-indian-institute-of-technology-madras/q4_sweep_project' target=\"_blank\">Weights & Biases</a> (<a href='https://wandb.me/developer-guide' target=\"_blank\">docs</a>)<br>Sweep page: <a href='https://wandb.ai/ed24s401-indian-institute-of-technology-madras/q4_sweep_project/sweeps/hp8fw2uv' target=\"_blank\">https://wandb.ai/ed24s401-indian-institute-of-technology-madras/q4_sweep_project/sweeps/hp8fw2uv</a>"
      ],
      "text/plain": [
       "<IPython.core.display.HTML object>"
      ]
     },
     "metadata": {},
     "output_type": "display_data"
    },
    {
     "data": {
      "text/html": [
       " View project at <a href='https://wandb.ai/ed24s401-indian-institute-of-technology-madras/q4_sweep_project' target=\"_blank\">https://wandb.ai/ed24s401-indian-institute-of-technology-madras/q4_sweep_project</a>"
      ],
      "text/plain": [
       "<IPython.core.display.HTML object>"
      ]
     },
     "metadata": {},
     "output_type": "display_data"
    },
    {
     "data": {
      "text/html": [
       " View sweep at <a href='https://wandb.ai/ed24s401-indian-institute-of-technology-madras/q4_sweep_project/sweeps/hp8fw2uv' target=\"_blank\">https://wandb.ai/ed24s401-indian-institute-of-technology-madras/q4_sweep_project/sweeps/hp8fw2uv</a>"
      ],
      "text/plain": [
       "<IPython.core.display.HTML object>"
      ]
     },
     "metadata": {},
     "output_type": "display_data"
    },
    {
     "data": {
      "text/html": [
       " View run at <a href='https://wandb.ai/ed24s401-indian-institute-of-technology-madras/q4_sweep_project/runs/0gufytxs' target=\"_blank\">https://wandb.ai/ed24s401-indian-institute-of-technology-madras/q4_sweep_project/runs/0gufytxs</a>"
      ],
      "text/plain": [
       "<IPython.core.display.HTML object>"
      ]
     },
     "metadata": {},
     "output_type": "display_data"
    },
    {
     "name": "stdout",
     "output_type": "stream",
     "text": [
      "Epoch 1/10 - loss=2.6492, val_acc=0.0977, val_loss=2.432119962393201\n",
      "Epoch 2/10 - loss=2.5563, val_acc=0.0977, val_loss=2.368756931070126\n",
      "Epoch 3/10 - loss=2.5121, val_acc=0.0977, val_loss=2.3373209445315153\n",
      "Epoch 4/10 - loss=2.4898, val_acc=0.0977, val_loss=2.321020518756396\n",
      "Epoch 5/10 - loss=2.4783, val_acc=0.0977, val_loss=2.312388280806739\n",
      "Epoch 6/10 - loss=2.4723, val_acc=0.0977, val_loss=2.307799523430362\n",
      "Epoch 7/10 - loss=2.4691, val_acc=0.0407, val_loss=2.3053554469900672\n",
      "Epoch 8/10 - loss=2.4675, val_acc=0.0345, val_loss=2.304037163268205\n",
      "Epoch 9/10 - loss=2.4666, val_acc=0.0688, val_loss=2.303338365016215\n",
      "Epoch 10/10 - loss=2.4661, val_acc=0.0588, val_loss=2.302954823924299\n",
      "test accuracy  0.0585\n"
     ]
    },
    {
     "data": {
      "text/html": [],
      "text/plain": [
       "<IPython.core.display.HTML object>"
      ]
     },
     "metadata": {},
     "output_type": "display_data"
    },
    {
     "data": {
      "text/html": [
       "<br>    <style><br>        .wandb-row {<br>            display: flex;<br>            flex-direction: row;<br>            flex-wrap: wrap;<br>            justify-content: flex-start;<br>            width: 100%;<br>        }<br>        .wandb-col {<br>            display: flex;<br>            flex-direction: column;<br>            flex-basis: 100%;<br>            flex: 1;<br>            padding: 10px;<br>        }<br>    </style><br><div class=\"wandb-row\"><div class=\"wandb-col\"><h3>Run history:</h3><br/><table class=\"wandb\"><tr><td>epoch</td><td>▁▂▃▃▄▅▆▆▇█</td></tr><tr><td>test_accuracy</td><td>▁</td></tr><tr><td>training_loss</td><td>█▄▃▂▁▁▁▁▁▁</td></tr><tr><td>validation loss</td><td>█▅▃▂▂▁▁▁▁▁</td></tr><tr><td>validation_accuracy</td><td>██████▂▁▅▄</td></tr></table><br/></div><div class=\"wandb-col\"><h3>Run summary:</h3><br/><table class=\"wandb\"><tr><td>epoch</td><td>10</td></tr><tr><td>test_accuracy</td><td>0.0585</td></tr><tr><td>training_loss</td><td>2.46614</td></tr><tr><td>validation loss</td><td>2.30295</td></tr><tr><td>validation_accuracy</td><td>0.05883</td></tr></table><br/></div></div>"
      ],
      "text/plain": [
       "<IPython.core.display.HTML object>"
      ]
     },
     "metadata": {},
     "output_type": "display_data"
    },
    {
     "data": {
      "text/html": [
       " View run <strong style=\"color:#cdcd00\">hl_5_hs_64_bs_32_ac_sigmoid_opt_sgd</strong> at: <a href='https://wandb.ai/ed24s401-indian-institute-of-technology-madras/q4_sweep_project/runs/0gufytxs' target=\"_blank\">https://wandb.ai/ed24s401-indian-institute-of-technology-madras/q4_sweep_project/runs/0gufytxs</a><br> View project at: <a href='https://wandb.ai/ed24s401-indian-institute-of-technology-madras/q4_sweep_project' target=\"_blank\">https://wandb.ai/ed24s401-indian-institute-of-technology-madras/q4_sweep_project</a><br>Synced 5 W&B file(s), 0 media file(s), 0 artifact file(s) and 0 other file(s)"
      ],
      "text/plain": [
       "<IPython.core.display.HTML object>"
      ]
     },
     "metadata": {},
     "output_type": "display_data"
    },
    {
     "data": {
      "text/html": [
       "Find logs at: <code>.\\wandb\\run-20250317_135623-0gufytxs\\logs</code>"
      ],
      "text/plain": [
       "<IPython.core.display.HTML object>"
      ]
     },
     "metadata": {},
     "output_type": "display_data"
    },
    {
     "name": "stderr",
     "output_type": "stream",
     "text": [
      "\u001b[34m\u001b[1mwandb\u001b[0m: Agent Starting Run: o9zsvxei with config:\n",
      "\u001b[34m\u001b[1mwandb\u001b[0m: \tactivation: sigmoid\n",
      "\u001b[34m\u001b[1mwandb\u001b[0m: \tbatch_size: 16\n",
      "\u001b[34m\u001b[1mwandb\u001b[0m: \tbeta1: 0.9\n",
      "\u001b[34m\u001b[1mwandb\u001b[0m: \tbeta2: 0.999\n",
      "\u001b[34m\u001b[1mwandb\u001b[0m: \tbeta_rms: 0.9\n",
      "\u001b[34m\u001b[1mwandb\u001b[0m: \tepochs: 5\n",
      "\u001b[34m\u001b[1mwandb\u001b[0m: \tepsilon: 1e-08\n",
      "\u001b[34m\u001b[1mwandb\u001b[0m: \thidden_size: 32\n",
      "\u001b[34m\u001b[1mwandb\u001b[0m: \tinit_type: random\n",
      "\u001b[34m\u001b[1mwandb\u001b[0m: \tlearning_rate: 0.0001\n",
      "\u001b[34m\u001b[1mwandb\u001b[0m: \tloss_func: cross_entropy\n",
      "\u001b[34m\u001b[1mwandb\u001b[0m: \tmomentum: 0.9\n",
      "\u001b[34m\u001b[1mwandb\u001b[0m: \tnum_hidden_layers: 3\n",
      "\u001b[34m\u001b[1mwandb\u001b[0m: \toptimizer: sgd\n",
      "\u001b[34m\u001b[1mwandb\u001b[0m: \tweight_decay: 0\n"
     ]
    },
    {
     "data": {
      "text/html": [
       "Tracking run with wandb version 0.19.8"
      ],
      "text/plain": [
       "<IPython.core.display.HTML object>"
      ]
     },
     "metadata": {},
     "output_type": "display_data"
    },
    {
     "data": {
      "text/html": [
       "Run data is saved locally in <code>c:\\Users\\acer\\OneDrive\\Documents\\GitHub\\dl_assignment_ed24s401\\wandb\\run-20250317_135655-o9zsvxei</code>"
      ],
      "text/plain": [
       "<IPython.core.display.HTML object>"
      ]
     },
     "metadata": {},
     "output_type": "display_data"
    },
    {
     "data": {
      "text/html": [
       "Syncing run <strong><a href='https://wandb.ai/ed24s401-indian-institute-of-technology-madras/q4_sweep_project/runs/o9zsvxei' target=\"_blank\">snowy-sweep-23</a></strong> to <a href='https://wandb.ai/ed24s401-indian-institute-of-technology-madras/q4_sweep_project' target=\"_blank\">Weights & Biases</a> (<a href='https://wandb.me/developer-guide' target=\"_blank\">docs</a>)<br>Sweep page: <a href='https://wandb.ai/ed24s401-indian-institute-of-technology-madras/q4_sweep_project/sweeps/hp8fw2uv' target=\"_blank\">https://wandb.ai/ed24s401-indian-institute-of-technology-madras/q4_sweep_project/sweeps/hp8fw2uv</a>"
      ],
      "text/plain": [
       "<IPython.core.display.HTML object>"
      ]
     },
     "metadata": {},
     "output_type": "display_data"
    },
    {
     "data": {
      "text/html": [
       " View project at <a href='https://wandb.ai/ed24s401-indian-institute-of-technology-madras/q4_sweep_project' target=\"_blank\">https://wandb.ai/ed24s401-indian-institute-of-technology-madras/q4_sweep_project</a>"
      ],
      "text/plain": [
       "<IPython.core.display.HTML object>"
      ]
     },
     "metadata": {},
     "output_type": "display_data"
    },
    {
     "data": {
      "text/html": [
       " View sweep at <a href='https://wandb.ai/ed24s401-indian-institute-of-technology-madras/q4_sweep_project/sweeps/hp8fw2uv' target=\"_blank\">https://wandb.ai/ed24s401-indian-institute-of-technology-madras/q4_sweep_project/sweeps/hp8fw2uv</a>"
      ],
      "text/plain": [
       "<IPython.core.display.HTML object>"
      ]
     },
     "metadata": {},
     "output_type": "display_data"
    },
    {
     "data": {
      "text/html": [
       " View run at <a href='https://wandb.ai/ed24s401-indian-institute-of-technology-madras/q4_sweep_project/runs/o9zsvxei' target=\"_blank\">https://wandb.ai/ed24s401-indian-institute-of-technology-madras/q4_sweep_project/runs/o9zsvxei</a>"
      ],
      "text/plain": [
       "<IPython.core.display.HTML object>"
      ]
     },
     "metadata": {},
     "output_type": "display_data"
    },
    {
     "name": "stdout",
     "output_type": "stream",
     "text": [
      "Epoch 1/5 - loss=2.5086, val_acc=0.1012, val_loss=2.4251334420616044\n",
      "Epoch 2/5 - loss=2.3901, val_acc=0.1012, val_loss=2.3592268294229277\n",
      "Epoch 3/5 - loss=2.3449, val_acc=0.1012, val_loss=2.329927796928456\n",
      "Epoch 4/5 - loss=2.3232, val_acc=0.1012, val_loss=2.315097219974698\n",
      "Epoch 5/5 - loss=2.3118, val_acc=0.1012, val_loss=2.307034089897792\n",
      "test accuracy  0.1\n"
     ]
    },
    {
     "data": {
      "text/html": [],
      "text/plain": [
       "<IPython.core.display.HTML object>"
      ]
     },
     "metadata": {},
     "output_type": "display_data"
    },
    {
     "data": {
      "text/html": [
       "<br>    <style><br>        .wandb-row {<br>            display: flex;<br>            flex-direction: row;<br>            flex-wrap: wrap;<br>            justify-content: flex-start;<br>            width: 100%;<br>        }<br>        .wandb-col {<br>            display: flex;<br>            flex-direction: column;<br>            flex-basis: 100%;<br>            flex: 1;<br>            padding: 10px;<br>        }<br>    </style><br><div class=\"wandb-row\"><div class=\"wandb-col\"><h3>Run history:</h3><br/><table class=\"wandb\"><tr><td>epoch</td><td>▁▃▅▆█</td></tr><tr><td>test_accuracy</td><td>▁</td></tr><tr><td>training_loss</td><td>█▄▂▁▁</td></tr><tr><td>validation loss</td><td>█▄▂▁▁</td></tr><tr><td>validation_accuracy</td><td>▁▁▁▁▁</td></tr></table><br/></div><div class=\"wandb-col\"><h3>Run summary:</h3><br/><table class=\"wandb\"><tr><td>epoch</td><td>5</td></tr><tr><td>test_accuracy</td><td>0.1</td></tr><tr><td>training_loss</td><td>2.31178</td></tr><tr><td>validation loss</td><td>2.30703</td></tr><tr><td>validation_accuracy</td><td>0.10117</td></tr></table><br/></div></div>"
      ],
      "text/plain": [
       "<IPython.core.display.HTML object>"
      ]
     },
     "metadata": {},
     "output_type": "display_data"
    },
    {
     "data": {
      "text/html": [
       " View run <strong style=\"color:#cdcd00\">hl_3_hs_32_bs_16_ac_sigmoid_opt_sgd</strong> at: <a href='https://wandb.ai/ed24s401-indian-institute-of-technology-madras/q4_sweep_project/runs/o9zsvxei' target=\"_blank\">https://wandb.ai/ed24s401-indian-institute-of-technology-madras/q4_sweep_project/runs/o9zsvxei</a><br> View project at: <a href='https://wandb.ai/ed24s401-indian-institute-of-technology-madras/q4_sweep_project' target=\"_blank\">https://wandb.ai/ed24s401-indian-institute-of-technology-madras/q4_sweep_project</a><br>Synced 5 W&B file(s), 0 media file(s), 0 artifact file(s) and 0 other file(s)"
      ],
      "text/plain": [
       "<IPython.core.display.HTML object>"
      ]
     },
     "metadata": {},
     "output_type": "display_data"
    },
    {
     "data": {
      "text/html": [
       "Find logs at: <code>.\\wandb\\run-20250317_135655-o9zsvxei\\logs</code>"
      ],
      "text/plain": [
       "<IPython.core.display.HTML object>"
      ]
     },
     "metadata": {},
     "output_type": "display_data"
    },
    {
     "name": "stderr",
     "output_type": "stream",
     "text": [
      "\u001b[34m\u001b[1mwandb\u001b[0m: Agent Starting Run: 4zekiuit with config:\n",
      "\u001b[34m\u001b[1mwandb\u001b[0m: \tactivation: relu\n",
      "\u001b[34m\u001b[1mwandb\u001b[0m: \tbatch_size: 64\n",
      "\u001b[34m\u001b[1mwandb\u001b[0m: \tbeta1: 0.9\n",
      "\u001b[34m\u001b[1mwandb\u001b[0m: \tbeta2: 0.999\n",
      "\u001b[34m\u001b[1mwandb\u001b[0m: \tbeta_rms: 0.9\n",
      "\u001b[34m\u001b[1mwandb\u001b[0m: \tepochs: 5\n",
      "\u001b[34m\u001b[1mwandb\u001b[0m: \tepsilon: 1e-08\n",
      "\u001b[34m\u001b[1mwandb\u001b[0m: \thidden_size: 32\n",
      "\u001b[34m\u001b[1mwandb\u001b[0m: \tinit_type: xavier\n",
      "\u001b[34m\u001b[1mwandb\u001b[0m: \tlearning_rate: 0.0001\n",
      "\u001b[34m\u001b[1mwandb\u001b[0m: \tloss_func: cross_entropy\n",
      "\u001b[34m\u001b[1mwandb\u001b[0m: \tmomentum: 0.9\n",
      "\u001b[34m\u001b[1mwandb\u001b[0m: \tnum_hidden_layers: 5\n",
      "\u001b[34m\u001b[1mwandb\u001b[0m: \toptimizer: rmsprop\n",
      "\u001b[34m\u001b[1mwandb\u001b[0m: \tweight_decay: 0.0005\n"
     ]
    },
    {
     "data": {
      "text/html": [
       "Tracking run with wandb version 0.19.8"
      ],
      "text/plain": [
       "<IPython.core.display.HTML object>"
      ]
     },
     "metadata": {},
     "output_type": "display_data"
    },
    {
     "data": {
      "text/html": [
       "Run data is saved locally in <code>c:\\Users\\acer\\OneDrive\\Documents\\GitHub\\dl_assignment_ed24s401\\wandb\\run-20250317_135712-4zekiuit</code>"
      ],
      "text/plain": [
       "<IPython.core.display.HTML object>"
      ]
     },
     "metadata": {},
     "output_type": "display_data"
    },
    {
     "data": {
      "text/html": [
       "Syncing run <strong><a href='https://wandb.ai/ed24s401-indian-institute-of-technology-madras/q4_sweep_project/runs/4zekiuit' target=\"_blank\">serene-sweep-24</a></strong> to <a href='https://wandb.ai/ed24s401-indian-institute-of-technology-madras/q4_sweep_project' target=\"_blank\">Weights & Biases</a> (<a href='https://wandb.me/developer-guide' target=\"_blank\">docs</a>)<br>Sweep page: <a href='https://wandb.ai/ed24s401-indian-institute-of-technology-madras/q4_sweep_project/sweeps/hp8fw2uv' target=\"_blank\">https://wandb.ai/ed24s401-indian-institute-of-technology-madras/q4_sweep_project/sweeps/hp8fw2uv</a>"
      ],
      "text/plain": [
       "<IPython.core.display.HTML object>"
      ]
     },
     "metadata": {},
     "output_type": "display_data"
    },
    {
     "data": {
      "text/html": [
       " View project at <a href='https://wandb.ai/ed24s401-indian-institute-of-technology-madras/q4_sweep_project' target=\"_blank\">https://wandb.ai/ed24s401-indian-institute-of-technology-madras/q4_sweep_project</a>"
      ],
      "text/plain": [
       "<IPython.core.display.HTML object>"
      ]
     },
     "metadata": {},
     "output_type": "display_data"
    },
    {
     "data": {
      "text/html": [
       " View sweep at <a href='https://wandb.ai/ed24s401-indian-institute-of-technology-madras/q4_sweep_project/sweeps/hp8fw2uv' target=\"_blank\">https://wandb.ai/ed24s401-indian-institute-of-technology-madras/q4_sweep_project/sweeps/hp8fw2uv</a>"
      ],
      "text/plain": [
       "<IPython.core.display.HTML object>"
      ]
     },
     "metadata": {},
     "output_type": "display_data"
    },
    {
     "data": {
      "text/html": [
       " View run at <a href='https://wandb.ai/ed24s401-indian-institute-of-technology-madras/q4_sweep_project/runs/4zekiuit' target=\"_blank\">https://wandb.ai/ed24s401-indian-institute-of-technology-madras/q4_sweep_project/runs/4zekiuit</a>"
      ],
      "text/plain": [
       "<IPython.core.display.HTML object>"
      ]
     },
     "metadata": {},
     "output_type": "display_data"
    },
    {
     "name": "stdout",
     "output_type": "stream",
     "text": [
      "Epoch 1/5 - loss=1.4181, val_acc=0.6915, val_loss=0.8590074537338245\n",
      "Epoch 2/5 - loss=0.7626, val_acc=0.7570, val_loss=0.6684897753636453\n",
      "Epoch 3/5 - loss=0.6274, val_acc=0.8045, val_loss=0.5678447011237641\n",
      "Epoch 4/5 - loss=0.5564, val_acc=0.8242, val_loss=0.5115263481723994\n",
      "Epoch 5/5 - loss=0.5200, val_acc=0.8345, val_loss=0.4808425787510861\n",
      "test accuracy  0.8271\n"
     ]
    },
    {
     "data": {
      "text/html": [],
      "text/plain": [
       "<IPython.core.display.HTML object>"
      ]
     },
     "metadata": {},
     "output_type": "display_data"
    },
    {
     "data": {
      "text/html": [
       "<br>    <style><br>        .wandb-row {<br>            display: flex;<br>            flex-direction: row;<br>            flex-wrap: wrap;<br>            justify-content: flex-start;<br>            width: 100%;<br>        }<br>        .wandb-col {<br>            display: flex;<br>            flex-direction: column;<br>            flex-basis: 100%;<br>            flex: 1;<br>            padding: 10px;<br>        }<br>    </style><br><div class=\"wandb-row\"><div class=\"wandb-col\"><h3>Run history:</h3><br/><table class=\"wandb\"><tr><td>epoch</td><td>▁▃▅▆█</td></tr><tr><td>test_accuracy</td><td>▁</td></tr><tr><td>training_loss</td><td>█▃▂▁▁</td></tr><tr><td>validation loss</td><td>█▄▃▂▁</td></tr><tr><td>validation_accuracy</td><td>▁▄▇▇█</td></tr></table><br/></div><div class=\"wandb-col\"><h3>Run summary:</h3><br/><table class=\"wandb\"><tr><td>epoch</td><td>5</td></tr><tr><td>test_accuracy</td><td>0.8271</td></tr><tr><td>training_loss</td><td>0.52005</td></tr><tr><td>validation loss</td><td>0.48084</td></tr><tr><td>validation_accuracy</td><td>0.8345</td></tr></table><br/></div></div>"
      ],
      "text/plain": [
       "<IPython.core.display.HTML object>"
      ]
     },
     "metadata": {},
     "output_type": "display_data"
    },
    {
     "data": {
      "text/html": [
       " View run <strong style=\"color:#cdcd00\">hl_5_hs_32_bs_64_ac_relu_opt_rmsprop</strong> at: <a href='https://wandb.ai/ed24s401-indian-institute-of-technology-madras/q4_sweep_project/runs/4zekiuit' target=\"_blank\">https://wandb.ai/ed24s401-indian-institute-of-technology-madras/q4_sweep_project/runs/4zekiuit</a><br> View project at: <a href='https://wandb.ai/ed24s401-indian-institute-of-technology-madras/q4_sweep_project' target=\"_blank\">https://wandb.ai/ed24s401-indian-institute-of-technology-madras/q4_sweep_project</a><br>Synced 5 W&B file(s), 0 media file(s), 0 artifact file(s) and 0 other file(s)"
      ],
      "text/plain": [
       "<IPython.core.display.HTML object>"
      ]
     },
     "metadata": {},
     "output_type": "display_data"
    },
    {
     "data": {
      "text/html": [
       "Find logs at: <code>.\\wandb\\run-20250317_135712-4zekiuit\\logs</code>"
      ],
      "text/plain": [
       "<IPython.core.display.HTML object>"
      ]
     },
     "metadata": {},
     "output_type": "display_data"
    },
    {
     "name": "stderr",
     "output_type": "stream",
     "text": [
      "\u001b[34m\u001b[1mwandb\u001b[0m: Agent Starting Run: pipfql07 with config:\n",
      "\u001b[34m\u001b[1mwandb\u001b[0m: \tactivation: tanh\n",
      "\u001b[34m\u001b[1mwandb\u001b[0m: \tbatch_size: 64\n",
      "\u001b[34m\u001b[1mwandb\u001b[0m: \tbeta1: 0.9\n",
      "\u001b[34m\u001b[1mwandb\u001b[0m: \tbeta2: 0.999\n",
      "\u001b[34m\u001b[1mwandb\u001b[0m: \tbeta_rms: 0.9\n",
      "\u001b[34m\u001b[1mwandb\u001b[0m: \tepochs: 5\n",
      "\u001b[34m\u001b[1mwandb\u001b[0m: \tepsilon: 1e-08\n",
      "\u001b[34m\u001b[1mwandb\u001b[0m: \thidden_size: 128\n",
      "\u001b[34m\u001b[1mwandb\u001b[0m: \tinit_type: xavier\n",
      "\u001b[34m\u001b[1mwandb\u001b[0m: \tlearning_rate: 0.0001\n",
      "\u001b[34m\u001b[1mwandb\u001b[0m: \tloss_func: cross_entropy\n",
      "\u001b[34m\u001b[1mwandb\u001b[0m: \tmomentum: 0.9\n",
      "\u001b[34m\u001b[1mwandb\u001b[0m: \tnum_hidden_layers: 3\n",
      "\u001b[34m\u001b[1mwandb\u001b[0m: \toptimizer: rmsprop\n",
      "\u001b[34m\u001b[1mwandb\u001b[0m: \tweight_decay: 0\n"
     ]
    },
    {
     "data": {
      "text/html": [
       "creating run (0.2s)"
      ],
      "text/plain": [
       "<IPython.core.display.HTML object>"
      ]
     },
     "metadata": {},
     "output_type": "display_data"
    },
    {
     "data": {
      "text/html": [
       "Tracking run with wandb version 0.19.8"
      ],
      "text/plain": [
       "<IPython.core.display.HTML object>"
      ]
     },
     "metadata": {},
     "output_type": "display_data"
    },
    {
     "data": {
      "text/html": [
       "Run data is saved locally in <code>c:\\Users\\acer\\OneDrive\\Documents\\GitHub\\dl_assignment_ed24s401\\wandb\\run-20250317_135727-pipfql07</code>"
      ],
      "text/plain": [
       "<IPython.core.display.HTML object>"
      ]
     },
     "metadata": {},
     "output_type": "display_data"
    },
    {
     "data": {
      "text/html": [
       "Syncing run <strong><a href='https://wandb.ai/ed24s401-indian-institute-of-technology-madras/q4_sweep_project/runs/pipfql07' target=\"_blank\">floral-sweep-25</a></strong> to <a href='https://wandb.ai/ed24s401-indian-institute-of-technology-madras/q4_sweep_project' target=\"_blank\">Weights & Biases</a> (<a href='https://wandb.me/developer-guide' target=\"_blank\">docs</a>)<br>Sweep page: <a href='https://wandb.ai/ed24s401-indian-institute-of-technology-madras/q4_sweep_project/sweeps/hp8fw2uv' target=\"_blank\">https://wandb.ai/ed24s401-indian-institute-of-technology-madras/q4_sweep_project/sweeps/hp8fw2uv</a>"
      ],
      "text/plain": [
       "<IPython.core.display.HTML object>"
      ]
     },
     "metadata": {},
     "output_type": "display_data"
    },
    {
     "data": {
      "text/html": [
       " View project at <a href='https://wandb.ai/ed24s401-indian-institute-of-technology-madras/q4_sweep_project' target=\"_blank\">https://wandb.ai/ed24s401-indian-institute-of-technology-madras/q4_sweep_project</a>"
      ],
      "text/plain": [
       "<IPython.core.display.HTML object>"
      ]
     },
     "metadata": {},
     "output_type": "display_data"
    },
    {
     "data": {
      "text/html": [
       " View sweep at <a href='https://wandb.ai/ed24s401-indian-institute-of-technology-madras/q4_sweep_project/sweeps/hp8fw2uv' target=\"_blank\">https://wandb.ai/ed24s401-indian-institute-of-technology-madras/q4_sweep_project/sweeps/hp8fw2uv</a>"
      ],
      "text/plain": [
       "<IPython.core.display.HTML object>"
      ]
     },
     "metadata": {},
     "output_type": "display_data"
    },
    {
     "data": {
      "text/html": [
       " View run at <a href='https://wandb.ai/ed24s401-indian-institute-of-technology-madras/q4_sweep_project/runs/pipfql07' target=\"_blank\">https://wandb.ai/ed24s401-indian-institute-of-technology-madras/q4_sweep_project/runs/pipfql07</a>"
      ],
      "text/plain": [
       "<IPython.core.display.HTML object>"
      ]
     },
     "metadata": {},
     "output_type": "display_data"
    },
    {
     "name": "stdout",
     "output_type": "stream",
     "text": [
      "Epoch 1/5 - loss=0.7233, val_acc=0.8168, val_loss=0.5014266118980183\n",
      "Epoch 2/5 - loss=0.4524, val_acc=0.8400, val_loss=0.4359909145218588\n",
      "Epoch 3/5 - loss=0.4111, val_acc=0.8502, val_loss=0.41528412174927976\n",
      "Epoch 4/5 - loss=0.3880, val_acc=0.8598, val_loss=0.38780417820472113\n",
      "Epoch 5/5 - loss=0.3719, val_acc=0.8617, val_loss=0.37843844288094625\n",
      "test accuracy  0.853\n"
     ]
    },
    {
     "data": {
      "text/html": [],
      "text/plain": [
       "<IPython.core.display.HTML object>"
      ]
     },
     "metadata": {},
     "output_type": "display_data"
    },
    {
     "data": {
      "text/html": [
       "<br>    <style><br>        .wandb-row {<br>            display: flex;<br>            flex-direction: row;<br>            flex-wrap: wrap;<br>            justify-content: flex-start;<br>            width: 100%;<br>        }<br>        .wandb-col {<br>            display: flex;<br>            flex-direction: column;<br>            flex-basis: 100%;<br>            flex: 1;<br>            padding: 10px;<br>        }<br>    </style><br><div class=\"wandb-row\"><div class=\"wandb-col\"><h3>Run history:</h3><br/><table class=\"wandb\"><tr><td>epoch</td><td>▁▃▅▆█</td></tr><tr><td>test_accuracy</td><td>▁</td></tr><tr><td>training_loss</td><td>█▃▂▁▁</td></tr><tr><td>validation loss</td><td>█▄▃▂▁</td></tr><tr><td>validation_accuracy</td><td>▁▅▆██</td></tr></table><br/></div><div class=\"wandb-col\"><h3>Run summary:</h3><br/><table class=\"wandb\"><tr><td>epoch</td><td>5</td></tr><tr><td>test_accuracy</td><td>0.853</td></tr><tr><td>training_loss</td><td>0.37193</td></tr><tr><td>validation loss</td><td>0.37844</td></tr><tr><td>validation_accuracy</td><td>0.86167</td></tr></table><br/></div></div>"
      ],
      "text/plain": [
       "<IPython.core.display.HTML object>"
      ]
     },
     "metadata": {},
     "output_type": "display_data"
    },
    {
     "data": {
      "text/html": [
       " View run <strong style=\"color:#cdcd00\">hl_3_hs_128_bs_64_ac_tanh_opt_rmsprop</strong> at: <a href='https://wandb.ai/ed24s401-indian-institute-of-technology-madras/q4_sweep_project/runs/pipfql07' target=\"_blank\">https://wandb.ai/ed24s401-indian-institute-of-technology-madras/q4_sweep_project/runs/pipfql07</a><br> View project at: <a href='https://wandb.ai/ed24s401-indian-institute-of-technology-madras/q4_sweep_project' target=\"_blank\">https://wandb.ai/ed24s401-indian-institute-of-technology-madras/q4_sweep_project</a><br>Synced 5 W&B file(s), 0 media file(s), 0 artifact file(s) and 0 other file(s)"
      ],
      "text/plain": [
       "<IPython.core.display.HTML object>"
      ]
     },
     "metadata": {},
     "output_type": "display_data"
    },
    {
     "data": {
      "text/html": [
       "Find logs at: <code>.\\wandb\\run-20250317_135727-pipfql07\\logs</code>"
      ],
      "text/plain": [
       "<IPython.core.display.HTML object>"
      ]
     },
     "metadata": {},
     "output_type": "display_data"
    },
    {
     "name": "stderr",
     "output_type": "stream",
     "text": [
      "\u001b[34m\u001b[1mwandb\u001b[0m: Agent Starting Run: 2w1lx3k2 with config:\n",
      "\u001b[34m\u001b[1mwandb\u001b[0m: \tactivation: tanh\n",
      "\u001b[34m\u001b[1mwandb\u001b[0m: \tbatch_size: 16\n",
      "\u001b[34m\u001b[1mwandb\u001b[0m: \tbeta1: 0.9\n",
      "\u001b[34m\u001b[1mwandb\u001b[0m: \tbeta2: 0.999\n",
      "\u001b[34m\u001b[1mwandb\u001b[0m: \tbeta_rms: 0.9\n",
      "\u001b[34m\u001b[1mwandb\u001b[0m: \tepochs: 5\n",
      "\u001b[34m\u001b[1mwandb\u001b[0m: \tepsilon: 1e-08\n",
      "\u001b[34m\u001b[1mwandb\u001b[0m: \thidden_size: 128\n",
      "\u001b[34m\u001b[1mwandb\u001b[0m: \tinit_type: random\n",
      "\u001b[34m\u001b[1mwandb\u001b[0m: \tlearning_rate: 0.0001\n",
      "\u001b[34m\u001b[1mwandb\u001b[0m: \tloss_func: cross_entropy\n",
      "\u001b[34m\u001b[1mwandb\u001b[0m: \tmomentum: 0.9\n",
      "\u001b[34m\u001b[1mwandb\u001b[0m: \tnum_hidden_layers: 5\n",
      "\u001b[34m\u001b[1mwandb\u001b[0m: \toptimizer: momentum\n",
      "\u001b[34m\u001b[1mwandb\u001b[0m: \tweight_decay: 0\n"
     ]
    },
    {
     "data": {
      "text/html": [
       "creating run (0.2s)"
      ],
      "text/plain": [
       "<IPython.core.display.HTML object>"
      ]
     },
     "metadata": {},
     "output_type": "display_data"
    },
    {
     "data": {
      "text/html": [
       "Tracking run with wandb version 0.19.8"
      ],
      "text/plain": [
       "<IPython.core.display.HTML object>"
      ]
     },
     "metadata": {},
     "output_type": "display_data"
    },
    {
     "data": {
      "text/html": [
       "Run data is saved locally in <code>c:\\Users\\acer\\OneDrive\\Documents\\GitHub\\dl_assignment_ed24s401\\wandb\\run-20250317_135754-2w1lx3k2</code>"
      ],
      "text/plain": [
       "<IPython.core.display.HTML object>"
      ]
     },
     "metadata": {},
     "output_type": "display_data"
    },
    {
     "data": {
      "text/html": [
       "Syncing run <strong><a href='https://wandb.ai/ed24s401-indian-institute-of-technology-madras/q4_sweep_project/runs/2w1lx3k2' target=\"_blank\">cosmic-sweep-26</a></strong> to <a href='https://wandb.ai/ed24s401-indian-institute-of-technology-madras/q4_sweep_project' target=\"_blank\">Weights & Biases</a> (<a href='https://wandb.me/developer-guide' target=\"_blank\">docs</a>)<br>Sweep page: <a href='https://wandb.ai/ed24s401-indian-institute-of-technology-madras/q4_sweep_project/sweeps/hp8fw2uv' target=\"_blank\">https://wandb.ai/ed24s401-indian-institute-of-technology-madras/q4_sweep_project/sweeps/hp8fw2uv</a>"
      ],
      "text/plain": [
       "<IPython.core.display.HTML object>"
      ]
     },
     "metadata": {},
     "output_type": "display_data"
    },
    {
     "data": {
      "text/html": [
       " View project at <a href='https://wandb.ai/ed24s401-indian-institute-of-technology-madras/q4_sweep_project' target=\"_blank\">https://wandb.ai/ed24s401-indian-institute-of-technology-madras/q4_sweep_project</a>"
      ],
      "text/plain": [
       "<IPython.core.display.HTML object>"
      ]
     },
     "metadata": {},
     "output_type": "display_data"
    },
    {
     "data": {
      "text/html": [
       " View sweep at <a href='https://wandb.ai/ed24s401-indian-institute-of-technology-madras/q4_sweep_project/sweeps/hp8fw2uv' target=\"_blank\">https://wandb.ai/ed24s401-indian-institute-of-technology-madras/q4_sweep_project/sweeps/hp8fw2uv</a>"
      ],
      "text/plain": [
       "<IPython.core.display.HTML object>"
      ]
     },
     "metadata": {},
     "output_type": "display_data"
    },
    {
     "data": {
      "text/html": [
       " View run at <a href='https://wandb.ai/ed24s401-indian-institute-of-technology-madras/q4_sweep_project/runs/2w1lx3k2' target=\"_blank\">https://wandb.ai/ed24s401-indian-institute-of-technology-madras/q4_sweep_project/runs/2w1lx3k2</a>"
      ],
      "text/plain": [
       "<IPython.core.display.HTML object>"
      ]
     },
     "metadata": {},
     "output_type": "display_data"
    },
    {
     "name": "stdout",
     "output_type": "stream",
     "text": [
      "Epoch 1/5 - loss=0.8577, val_acc=0.7943, val_loss=0.6037159593694097\n",
      "Epoch 2/5 - loss=0.5371, val_acc=0.8148, val_loss=0.5146431912790519\n",
      "Epoch 3/5 - loss=0.4781, val_acc=0.8258, val_loss=0.4730320611388005\n",
      "Epoch 4/5 - loss=0.4470, val_acc=0.8383, val_loss=0.4490382080383644\n",
      "Epoch 5/5 - loss=0.4261, val_acc=0.8415, val_loss=0.4306662833050165\n",
      "test accuracy  0.8365\n"
     ]
    },
    {
     "data": {
      "text/html": [],
      "text/plain": [
       "<IPython.core.display.HTML object>"
      ]
     },
     "metadata": {},
     "output_type": "display_data"
    },
    {
     "data": {
      "text/html": [
       "<br>    <style><br>        .wandb-row {<br>            display: flex;<br>            flex-direction: row;<br>            flex-wrap: wrap;<br>            justify-content: flex-start;<br>            width: 100%;<br>        }<br>        .wandb-col {<br>            display: flex;<br>            flex-direction: column;<br>            flex-basis: 100%;<br>            flex: 1;<br>            padding: 10px;<br>        }<br>    </style><br><div class=\"wandb-row\"><div class=\"wandb-col\"><h3>Run history:</h3><br/><table class=\"wandb\"><tr><td>epoch</td><td>▁▃▅▆█</td></tr><tr><td>test_accuracy</td><td>▁</td></tr><tr><td>training_loss</td><td>█▃▂▁▁</td></tr><tr><td>validation loss</td><td>█▄▃▂▁</td></tr><tr><td>validation_accuracy</td><td>▁▄▆██</td></tr></table><br/></div><div class=\"wandb-col\"><h3>Run summary:</h3><br/><table class=\"wandb\"><tr><td>epoch</td><td>5</td></tr><tr><td>test_accuracy</td><td>0.8365</td></tr><tr><td>training_loss</td><td>0.42612</td></tr><tr><td>validation loss</td><td>0.43067</td></tr><tr><td>validation_accuracy</td><td>0.8415</td></tr></table><br/></div></div>"
      ],
      "text/plain": [
       "<IPython.core.display.HTML object>"
      ]
     },
     "metadata": {},
     "output_type": "display_data"
    },
    {
     "data": {
      "text/html": [
       " View run <strong style=\"color:#cdcd00\">hl_5_hs_128_bs_16_ac_tanh_opt_momentum</strong> at: <a href='https://wandb.ai/ed24s401-indian-institute-of-technology-madras/q4_sweep_project/runs/2w1lx3k2' target=\"_blank\">https://wandb.ai/ed24s401-indian-institute-of-technology-madras/q4_sweep_project/runs/2w1lx3k2</a><br> View project at: <a href='https://wandb.ai/ed24s401-indian-institute-of-technology-madras/q4_sweep_project' target=\"_blank\">https://wandb.ai/ed24s401-indian-institute-of-technology-madras/q4_sweep_project</a><br>Synced 5 W&B file(s), 0 media file(s), 0 artifact file(s) and 0 other file(s)"
      ],
      "text/plain": [
       "<IPython.core.display.HTML object>"
      ]
     },
     "metadata": {},
     "output_type": "display_data"
    },
    {
     "data": {
      "text/html": [
       "Find logs at: <code>.\\wandb\\run-20250317_135754-2w1lx3k2\\logs</code>"
      ],
      "text/plain": [
       "<IPython.core.display.HTML object>"
      ]
     },
     "metadata": {},
     "output_type": "display_data"
    },
    {
     "name": "stderr",
     "output_type": "stream",
     "text": [
      "\u001b[34m\u001b[1mwandb\u001b[0m: Agent Starting Run: g21o5zx4 with config:\n",
      "\u001b[34m\u001b[1mwandb\u001b[0m: \tactivation: sigmoid\n",
      "\u001b[34m\u001b[1mwandb\u001b[0m: \tbatch_size: 64\n",
      "\u001b[34m\u001b[1mwandb\u001b[0m: \tbeta1: 0.9\n",
      "\u001b[34m\u001b[1mwandb\u001b[0m: \tbeta2: 0.999\n",
      "\u001b[34m\u001b[1mwandb\u001b[0m: \tbeta_rms: 0.9\n",
      "\u001b[34m\u001b[1mwandb\u001b[0m: \tepochs: 10\n",
      "\u001b[34m\u001b[1mwandb\u001b[0m: \tepsilon: 1e-08\n",
      "\u001b[34m\u001b[1mwandb\u001b[0m: \thidden_size: 32\n",
      "\u001b[34m\u001b[1mwandb\u001b[0m: \tinit_type: random\n",
      "\u001b[34m\u001b[1mwandb\u001b[0m: \tlearning_rate: 0.001\n",
      "\u001b[34m\u001b[1mwandb\u001b[0m: \tloss_func: cross_entropy\n",
      "\u001b[34m\u001b[1mwandb\u001b[0m: \tmomentum: 0.9\n",
      "\u001b[34m\u001b[1mwandb\u001b[0m: \tnum_hidden_layers: 5\n",
      "\u001b[34m\u001b[1mwandb\u001b[0m: \toptimizer: adam\n",
      "\u001b[34m\u001b[1mwandb\u001b[0m: \tweight_decay: 0\n"
     ]
    },
    {
     "data": {
      "text/html": [
       "Tracking run with wandb version 0.19.8"
      ],
      "text/plain": [
       "<IPython.core.display.HTML object>"
      ]
     },
     "metadata": {},
     "output_type": "display_data"
    },
    {
     "data": {
      "text/html": [
       "Run data is saved locally in <code>c:\\Users\\acer\\OneDrive\\Documents\\GitHub\\dl_assignment_ed24s401\\wandb\\run-20250317_135853-g21o5zx4</code>"
      ],
      "text/plain": [
       "<IPython.core.display.HTML object>"
      ]
     },
     "metadata": {},
     "output_type": "display_data"
    },
    {
     "data": {
      "text/html": [
       "Syncing run <strong><a href='https://wandb.ai/ed24s401-indian-institute-of-technology-madras/q4_sweep_project/runs/g21o5zx4' target=\"_blank\">vital-sweep-27</a></strong> to <a href='https://wandb.ai/ed24s401-indian-institute-of-technology-madras/q4_sweep_project' target=\"_blank\">Weights & Biases</a> (<a href='https://wandb.me/developer-guide' target=\"_blank\">docs</a>)<br>Sweep page: <a href='https://wandb.ai/ed24s401-indian-institute-of-technology-madras/q4_sweep_project/sweeps/hp8fw2uv' target=\"_blank\">https://wandb.ai/ed24s401-indian-institute-of-technology-madras/q4_sweep_project/sweeps/hp8fw2uv</a>"
      ],
      "text/plain": [
       "<IPython.core.display.HTML object>"
      ]
     },
     "metadata": {},
     "output_type": "display_data"
    },
    {
     "data": {
      "text/html": [
       " View project at <a href='https://wandb.ai/ed24s401-indian-institute-of-technology-madras/q4_sweep_project' target=\"_blank\">https://wandb.ai/ed24s401-indian-institute-of-technology-madras/q4_sweep_project</a>"
      ],
      "text/plain": [
       "<IPython.core.display.HTML object>"
      ]
     },
     "metadata": {},
     "output_type": "display_data"
    },
    {
     "data": {
      "text/html": [
       " View sweep at <a href='https://wandb.ai/ed24s401-indian-institute-of-technology-madras/q4_sweep_project/sweeps/hp8fw2uv' target=\"_blank\">https://wandb.ai/ed24s401-indian-institute-of-technology-madras/q4_sweep_project/sweeps/hp8fw2uv</a>"
      ],
      "text/plain": [
       "<IPython.core.display.HTML object>"
      ]
     },
     "metadata": {},
     "output_type": "display_data"
    },
    {
     "data": {
      "text/html": [
       " View run at <a href='https://wandb.ai/ed24s401-indian-institute-of-technology-madras/q4_sweep_project/runs/g21o5zx4' target=\"_blank\">https://wandb.ai/ed24s401-indian-institute-of-technology-madras/q4_sweep_project/runs/g21o5zx4</a>"
      ],
      "text/plain": [
       "<IPython.core.display.HTML object>"
      ]
     },
     "metadata": {},
     "output_type": "display_data"
    },
    {
     "name": "stdout",
     "output_type": "stream",
     "text": [
      "Epoch 1/10 - loss=1.6325, val_acc=0.4988, val_loss=1.1732639053204024\n",
      "Epoch 2/10 - loss=1.0281, val_acc=0.5692, val_loss=0.951172685564414\n",
      "Epoch 3/10 - loss=0.8020, val_acc=0.7907, val_loss=0.6566691892747056\n",
      "Epoch 4/10 - loss=0.5576, val_acc=0.8107, val_loss=0.5333284791912336\n",
      "Epoch 5/10 - loss=0.4880, val_acc=0.8137, val_loss=0.49581319853397166\n",
      "Epoch 6/10 - loss=0.4569, val_acc=0.8215, val_loss=0.48200255090168237\n",
      "Epoch 7/10 - loss=0.4371, val_acc=0.8328, val_loss=0.46170992074386724\n",
      "Epoch 8/10 - loss=0.4174, val_acc=0.8345, val_loss=0.46009808428638616\n",
      "Epoch 9/10 - loss=0.4036, val_acc=0.8447, val_loss=0.4432953657635385\n",
      "Epoch 10/10 - loss=0.3891, val_acc=0.8532, val_loss=0.4272639634206245\n",
      "test accuracy  0.8484\n"
     ]
    },
    {
     "data": {
      "text/html": [],
      "text/plain": [
       "<IPython.core.display.HTML object>"
      ]
     },
     "metadata": {},
     "output_type": "display_data"
    },
    {
     "data": {
      "text/html": [
       "<br>    <style><br>        .wandb-row {<br>            display: flex;<br>            flex-direction: row;<br>            flex-wrap: wrap;<br>            justify-content: flex-start;<br>            width: 100%;<br>        }<br>        .wandb-col {<br>            display: flex;<br>            flex-direction: column;<br>            flex-basis: 100%;<br>            flex: 1;<br>            padding: 10px;<br>        }<br>    </style><br><div class=\"wandb-row\"><div class=\"wandb-col\"><h3>Run history:</h3><br/><table class=\"wandb\"><tr><td>epoch</td><td>▁▂▃▃▄▅▆▆▇█</td></tr><tr><td>test_accuracy</td><td>▁</td></tr><tr><td>training_loss</td><td>█▅▃▂▂▁▁▁▁▁</td></tr><tr><td>validation loss</td><td>█▆▃▂▂▂▁▁▁▁</td></tr><tr><td>validation_accuracy</td><td>▁▂▇▇▇▇████</td></tr></table><br/></div><div class=\"wandb-col\"><h3>Run summary:</h3><br/><table class=\"wandb\"><tr><td>epoch</td><td>10</td></tr><tr><td>test_accuracy</td><td>0.8484</td></tr><tr><td>training_loss</td><td>0.38911</td></tr><tr><td>validation loss</td><td>0.42726</td></tr><tr><td>validation_accuracy</td><td>0.85317</td></tr></table><br/></div></div>"
      ],
      "text/plain": [
       "<IPython.core.display.HTML object>"
      ]
     },
     "metadata": {},
     "output_type": "display_data"
    },
    {
     "data": {
      "text/html": [
       " View run <strong style=\"color:#cdcd00\">hl_5_hs_32_bs_64_ac_sigmoid_opt_adam</strong> at: <a href='https://wandb.ai/ed24s401-indian-institute-of-technology-madras/q4_sweep_project/runs/g21o5zx4' target=\"_blank\">https://wandb.ai/ed24s401-indian-institute-of-technology-madras/q4_sweep_project/runs/g21o5zx4</a><br> View project at: <a href='https://wandb.ai/ed24s401-indian-institute-of-technology-madras/q4_sweep_project' target=\"_blank\">https://wandb.ai/ed24s401-indian-institute-of-technology-madras/q4_sweep_project</a><br>Synced 5 W&B file(s), 0 media file(s), 0 artifact file(s) and 0 other file(s)"
      ],
      "text/plain": [
       "<IPython.core.display.HTML object>"
      ]
     },
     "metadata": {},
     "output_type": "display_data"
    },
    {
     "data": {
      "text/html": [
       "Find logs at: <code>.\\wandb\\run-20250317_135853-g21o5zx4\\logs</code>"
      ],
      "text/plain": [
       "<IPython.core.display.HTML object>"
      ]
     },
     "metadata": {},
     "output_type": "display_data"
    },
    {
     "name": "stderr",
     "output_type": "stream",
     "text": [
      "\u001b[34m\u001b[1mwandb\u001b[0m: Agent Starting Run: 6pwyz51s with config:\n",
      "\u001b[34m\u001b[1mwandb\u001b[0m: \tactivation: relu\n",
      "\u001b[34m\u001b[1mwandb\u001b[0m: \tbatch_size: 16\n",
      "\u001b[34m\u001b[1mwandb\u001b[0m: \tbeta1: 0.9\n",
      "\u001b[34m\u001b[1mwandb\u001b[0m: \tbeta2: 0.99\n",
      "\u001b[34m\u001b[1mwandb\u001b[0m: \tbeta_rms: 0.9\n",
      "\u001b[34m\u001b[1mwandb\u001b[0m: \tepochs: 5\n",
      "\u001b[34m\u001b[1mwandb\u001b[0m: \tepsilon: 1e-08\n",
      "\u001b[34m\u001b[1mwandb\u001b[0m: \thidden_size: 64\n",
      "\u001b[34m\u001b[1mwandb\u001b[0m: \tinit_type: random\n",
      "\u001b[34m\u001b[1mwandb\u001b[0m: \tlearning_rate: 0.0001\n",
      "\u001b[34m\u001b[1mwandb\u001b[0m: \tloss_func: cross_entropy\n",
      "\u001b[34m\u001b[1mwandb\u001b[0m: \tmomentum: 0.9\n",
      "\u001b[34m\u001b[1mwandb\u001b[0m: \tnum_hidden_layers: 3\n",
      "\u001b[34m\u001b[1mwandb\u001b[0m: \toptimizer: nesterov\n",
      "\u001b[34m\u001b[1mwandb\u001b[0m: \tweight_decay: 0.5\n"
     ]
    },
    {
     "data": {
      "text/html": [],
      "text/plain": [
       "<IPython.core.display.HTML object>"
      ]
     },
     "metadata": {},
     "output_type": "display_data"
    },
    {
     "data": {
      "text/html": [
       "Tracking run with wandb version 0.19.8"
      ],
      "text/plain": [
       "<IPython.core.display.HTML object>"
      ]
     },
     "metadata": {},
     "output_type": "display_data"
    },
    {
     "data": {
      "text/html": [
       "Run data is saved locally in <code>c:\\Users\\acer\\OneDrive\\Documents\\GitHub\\dl_assignment_ed24s401\\wandb\\run-20250317_135936-6pwyz51s</code>"
      ],
      "text/plain": [
       "<IPython.core.display.HTML object>"
      ]
     },
     "metadata": {},
     "output_type": "display_data"
    },
    {
     "data": {
      "text/html": [
       "Syncing run <strong><a href='https://wandb.ai/ed24s401-indian-institute-of-technology-madras/q4_sweep_project/runs/6pwyz51s' target=\"_blank\">desert-sweep-28</a></strong> to <a href='https://wandb.ai/ed24s401-indian-institute-of-technology-madras/q4_sweep_project' target=\"_blank\">Weights & Biases</a> (<a href='https://wandb.me/developer-guide' target=\"_blank\">docs</a>)<br>Sweep page: <a href='https://wandb.ai/ed24s401-indian-institute-of-technology-madras/q4_sweep_project/sweeps/hp8fw2uv' target=\"_blank\">https://wandb.ai/ed24s401-indian-institute-of-technology-madras/q4_sweep_project/sweeps/hp8fw2uv</a>"
      ],
      "text/plain": [
       "<IPython.core.display.HTML object>"
      ]
     },
     "metadata": {},
     "output_type": "display_data"
    },
    {
     "data": {
      "text/html": [
       " View project at <a href='https://wandb.ai/ed24s401-indian-institute-of-technology-madras/q4_sweep_project' target=\"_blank\">https://wandb.ai/ed24s401-indian-institute-of-technology-madras/q4_sweep_project</a>"
      ],
      "text/plain": [
       "<IPython.core.display.HTML object>"
      ]
     },
     "metadata": {},
     "output_type": "display_data"
    },
    {
     "data": {
      "text/html": [
       " View sweep at <a href='https://wandb.ai/ed24s401-indian-institute-of-technology-madras/q4_sweep_project/sweeps/hp8fw2uv' target=\"_blank\">https://wandb.ai/ed24s401-indian-institute-of-technology-madras/q4_sweep_project/sweeps/hp8fw2uv</a>"
      ],
      "text/plain": [
       "<IPython.core.display.HTML object>"
      ]
     },
     "metadata": {},
     "output_type": "display_data"
    },
    {
     "data": {
      "text/html": [
       " View run at <a href='https://wandb.ai/ed24s401-indian-institute-of-technology-madras/q4_sweep_project/runs/6pwyz51s' target=\"_blank\">https://wandb.ai/ed24s401-indian-institute-of-technology-madras/q4_sweep_project/runs/6pwyz51s</a>"
      ],
      "text/plain": [
       "<IPython.core.display.HTML object>"
      ]
     },
     "metadata": {},
     "output_type": "display_data"
    },
    {
     "name": "stdout",
     "output_type": "stream",
     "text": [
      "Epoch 1/5 - loss=31.4995, val_acc=0.2490, val_loss=2.283846149124263\n",
      "Epoch 2/5 - loss=3.3277, val_acc=0.1013, val_loss=2.3026272062033484\n",
      "Epoch 3/5 - loss=2.3376, val_acc=0.1013, val_loss=2.3026238529658563\n",
      "Epoch 4/5 - loss=2.3038, val_acc=0.1013, val_loss=2.30260655681544\n",
      "Epoch 5/5 - loss=2.3027, val_acc=0.1013, val_loss=2.302601588110152\n",
      "test accuracy  0.1\n"
     ]
    },
    {
     "data": {
      "text/html": [],
      "text/plain": [
       "<IPython.core.display.HTML object>"
      ]
     },
     "metadata": {},
     "output_type": "display_data"
    },
    {
     "data": {
      "text/html": [
       "<br>    <style><br>        .wandb-row {<br>            display: flex;<br>            flex-direction: row;<br>            flex-wrap: wrap;<br>            justify-content: flex-start;<br>            width: 100%;<br>        }<br>        .wandb-col {<br>            display: flex;<br>            flex-direction: column;<br>            flex-basis: 100%;<br>            flex: 1;<br>            padding: 10px;<br>        }<br>    </style><br><div class=\"wandb-row\"><div class=\"wandb-col\"><h3>Run history:</h3><br/><table class=\"wandb\"><tr><td>epoch</td><td>▁▃▅▆█</td></tr><tr><td>test_accuracy</td><td>▁</td></tr><tr><td>training_loss</td><td>█▁▁▁▁</td></tr><tr><td>validation loss</td><td>▁████</td></tr><tr><td>validation_accuracy</td><td>█▁▁▁▁</td></tr></table><br/></div><div class=\"wandb-col\"><h3>Run summary:</h3><br/><table class=\"wandb\"><tr><td>epoch</td><td>5</td></tr><tr><td>test_accuracy</td><td>0.1</td></tr><tr><td>training_loss</td><td>2.30268</td></tr><tr><td>validation loss</td><td>2.3026</td></tr><tr><td>validation_accuracy</td><td>0.10133</td></tr></table><br/></div></div>"
      ],
      "text/plain": [
       "<IPython.core.display.HTML object>"
      ]
     },
     "metadata": {},
     "output_type": "display_data"
    },
    {
     "data": {
      "text/html": [
       " View run <strong style=\"color:#cdcd00\">hl_3_hs_64_bs_16_ac_relu_opt_nesterov</strong> at: <a href='https://wandb.ai/ed24s401-indian-institute-of-technology-madras/q4_sweep_project/runs/6pwyz51s' target=\"_blank\">https://wandb.ai/ed24s401-indian-institute-of-technology-madras/q4_sweep_project/runs/6pwyz51s</a><br> View project at: <a href='https://wandb.ai/ed24s401-indian-institute-of-technology-madras/q4_sweep_project' target=\"_blank\">https://wandb.ai/ed24s401-indian-institute-of-technology-madras/q4_sweep_project</a><br>Synced 5 W&B file(s), 0 media file(s), 0 artifact file(s) and 0 other file(s)"
      ],
      "text/plain": [
       "<IPython.core.display.HTML object>"
      ]
     },
     "metadata": {},
     "output_type": "display_data"
    },
    {
     "data": {
      "text/html": [
       "Find logs at: <code>.\\wandb\\run-20250317_135936-6pwyz51s\\logs</code>"
      ],
      "text/plain": [
       "<IPython.core.display.HTML object>"
      ]
     },
     "metadata": {},
     "output_type": "display_data"
    },
    {
     "name": "stderr",
     "output_type": "stream",
     "text": [
      "\u001b[34m\u001b[1mwandb\u001b[0m: Agent Starting Run: 2o40wwav with config:\n",
      "\u001b[34m\u001b[1mwandb\u001b[0m: \tactivation: relu\n",
      "\u001b[34m\u001b[1mwandb\u001b[0m: \tbatch_size: 32\n",
      "\u001b[34m\u001b[1mwandb\u001b[0m: \tbeta1: 0.9\n",
      "\u001b[34m\u001b[1mwandb\u001b[0m: \tbeta2: 0.999\n",
      "\u001b[34m\u001b[1mwandb\u001b[0m: \tbeta_rms: 0.9\n",
      "\u001b[34m\u001b[1mwandb\u001b[0m: \tepochs: 10\n",
      "\u001b[34m\u001b[1mwandb\u001b[0m: \tepsilon: 1e-08\n",
      "\u001b[34m\u001b[1mwandb\u001b[0m: \thidden_size: 32\n",
      "\u001b[34m\u001b[1mwandb\u001b[0m: \tinit_type: random\n",
      "\u001b[34m\u001b[1mwandb\u001b[0m: \tlearning_rate: 0.001\n",
      "\u001b[34m\u001b[1mwandb\u001b[0m: \tloss_func: cross_entropy\n",
      "\u001b[34m\u001b[1mwandb\u001b[0m: \tmomentum: 0.9\n",
      "\u001b[34m\u001b[1mwandb\u001b[0m: \tnum_hidden_layers: 4\n",
      "\u001b[34m\u001b[1mwandb\u001b[0m: \toptimizer: momentum\n",
      "\u001b[34m\u001b[1mwandb\u001b[0m: \tweight_decay: 0.5\n"
     ]
    },
    {
     "data": {
      "text/html": [
       "creating run (0.3s)"
      ],
      "text/plain": [
       "<IPython.core.display.HTML object>"
      ]
     },
     "metadata": {},
     "output_type": "display_data"
    },
    {
     "data": {
      "text/html": [
       "Tracking run with wandb version 0.19.8"
      ],
      "text/plain": [
       "<IPython.core.display.HTML object>"
      ]
     },
     "metadata": {},
     "output_type": "display_data"
    },
    {
     "data": {
      "text/html": [
       "Run data is saved locally in <code>c:\\Users\\acer\\OneDrive\\Documents\\GitHub\\dl_assignment_ed24s401\\wandb\\run-20250317_140024-2o40wwav</code>"
      ],
      "text/plain": [
       "<IPython.core.display.HTML object>"
      ]
     },
     "metadata": {},
     "output_type": "display_data"
    },
    {
     "data": {
      "text/html": [
       "Syncing run <strong><a href='https://wandb.ai/ed24s401-indian-institute-of-technology-madras/q4_sweep_project/runs/2o40wwav' target=\"_blank\">swift-sweep-29</a></strong> to <a href='https://wandb.ai/ed24s401-indian-institute-of-technology-madras/q4_sweep_project' target=\"_blank\">Weights & Biases</a> (<a href='https://wandb.me/developer-guide' target=\"_blank\">docs</a>)<br>Sweep page: <a href='https://wandb.ai/ed24s401-indian-institute-of-technology-madras/q4_sweep_project/sweeps/hp8fw2uv' target=\"_blank\">https://wandb.ai/ed24s401-indian-institute-of-technology-madras/q4_sweep_project/sweeps/hp8fw2uv</a>"
      ],
      "text/plain": [
       "<IPython.core.display.HTML object>"
      ]
     },
     "metadata": {},
     "output_type": "display_data"
    },
    {
     "data": {
      "text/html": [
       " View project at <a href='https://wandb.ai/ed24s401-indian-institute-of-technology-madras/q4_sweep_project' target=\"_blank\">https://wandb.ai/ed24s401-indian-institute-of-technology-madras/q4_sweep_project</a>"
      ],
      "text/plain": [
       "<IPython.core.display.HTML object>"
      ]
     },
     "metadata": {},
     "output_type": "display_data"
    },
    {
     "data": {
      "text/html": [
       " View sweep at <a href='https://wandb.ai/ed24s401-indian-institute-of-technology-madras/q4_sweep_project/sweeps/hp8fw2uv' target=\"_blank\">https://wandb.ai/ed24s401-indian-institute-of-technology-madras/q4_sweep_project/sweeps/hp8fw2uv</a>"
      ],
      "text/plain": [
       "<IPython.core.display.HTML object>"
      ]
     },
     "metadata": {},
     "output_type": "display_data"
    },
    {
     "data": {
      "text/html": [
       " View run at <a href='https://wandb.ai/ed24s401-indian-institute-of-technology-madras/q4_sweep_project/runs/2o40wwav' target=\"_blank\">https://wandb.ai/ed24s401-indian-institute-of-technology-madras/q4_sweep_project/runs/2o40wwav</a>"
      ],
      "text/plain": [
       "<IPython.core.display.HTML object>"
      ]
     },
     "metadata": {},
     "output_type": "display_data"
    },
    {
     "name": "stdout",
     "output_type": "stream",
     "text": [
      "Epoch 1/10 - loss=6.5903, val_acc=0.1013, val_loss=2.3026180571561143\n",
      "Epoch 2/10 - loss=2.3027, val_acc=0.0995, val_loss=2.302600279265666\n",
      "Epoch 3/10 - loss=2.3027, val_acc=0.1013, val_loss=2.302587833010286\n",
      "Epoch 4/10 - loss=2.3027, val_acc=0.0995, val_loss=2.302667258322679\n",
      "Epoch 5/10 - loss=2.3027, val_acc=0.1000, val_loss=2.3026166035653604\n",
      "Epoch 6/10 - loss=2.3027, val_acc=0.1000, val_loss=2.302613467101041\n",
      "Epoch 7/10 - loss=2.3027, val_acc=0.1000, val_loss=2.302624770816555\n",
      "Epoch 8/10 - loss=2.3027, val_acc=0.0977, val_loss=2.302637847559093\n",
      "Epoch 9/10 - loss=2.3027, val_acc=0.0977, val_loss=2.302664959590406\n",
      "Epoch 10/10 - loss=2.3027, val_acc=0.0977, val_loss=2.3026100929296076\n",
      "test accuracy  0.1\n"
     ]
    },
    {
     "data": {
      "text/html": [],
      "text/plain": [
       "<IPython.core.display.HTML object>"
      ]
     },
     "metadata": {},
     "output_type": "display_data"
    },
    {
     "data": {
      "text/html": [
       "<br>    <style><br>        .wandb-row {<br>            display: flex;<br>            flex-direction: row;<br>            flex-wrap: wrap;<br>            justify-content: flex-start;<br>            width: 100%;<br>        }<br>        .wandb-col {<br>            display: flex;<br>            flex-direction: column;<br>            flex-basis: 100%;<br>            flex: 1;<br>            padding: 10px;<br>        }<br>    </style><br><div class=\"wandb-row\"><div class=\"wandb-col\"><h3>Run history:</h3><br/><table class=\"wandb\"><tr><td>epoch</td><td>▁▂▃▃▄▅▆▆▇█</td></tr><tr><td>test_accuracy</td><td>▁</td></tr><tr><td>training_loss</td><td>█▁▁▁▁▁▁▁▁▁</td></tr><tr><td>validation loss</td><td>▄▂▁█▄▃▄▅█▃</td></tr><tr><td>validation_accuracy</td><td>█▅█▅▅▅▅▁▁▁</td></tr></table><br/></div><div class=\"wandb-col\"><h3>Run summary:</h3><br/><table class=\"wandb\"><tr><td>epoch</td><td>10</td></tr><tr><td>test_accuracy</td><td>0.1</td></tr><tr><td>training_loss</td><td>2.3027</td></tr><tr><td>validation loss</td><td>2.30261</td></tr><tr><td>validation_accuracy</td><td>0.09767</td></tr></table><br/></div></div>"
      ],
      "text/plain": [
       "<IPython.core.display.HTML object>"
      ]
     },
     "metadata": {},
     "output_type": "display_data"
    },
    {
     "data": {
      "text/html": [
       " View run <strong style=\"color:#cdcd00\">hl_4_hs_32_bs_32_ac_relu_opt_momentum</strong> at: <a href='https://wandb.ai/ed24s401-indian-institute-of-technology-madras/q4_sweep_project/runs/2o40wwav' target=\"_blank\">https://wandb.ai/ed24s401-indian-institute-of-technology-madras/q4_sweep_project/runs/2o40wwav</a><br> View project at: <a href='https://wandb.ai/ed24s401-indian-institute-of-technology-madras/q4_sweep_project' target=\"_blank\">https://wandb.ai/ed24s401-indian-institute-of-technology-madras/q4_sweep_project</a><br>Synced 5 W&B file(s), 0 media file(s), 0 artifact file(s) and 0 other file(s)"
      ],
      "text/plain": [
       "<IPython.core.display.HTML object>"
      ]
     },
     "metadata": {},
     "output_type": "display_data"
    },
    {
     "data": {
      "text/html": [
       "Find logs at: <code>.\\wandb\\run-20250317_140024-2o40wwav\\logs</code>"
      ],
      "text/plain": [
       "<IPython.core.display.HTML object>"
      ]
     },
     "metadata": {},
     "output_type": "display_data"
    },
    {
     "name": "stderr",
     "output_type": "stream",
     "text": [
      "\u001b[34m\u001b[1mwandb\u001b[0m: Agent Starting Run: gxag9tee with config:\n",
      "\u001b[34m\u001b[1mwandb\u001b[0m: \tactivation: tanh\n",
      "\u001b[34m\u001b[1mwandb\u001b[0m: \tbatch_size: 32\n",
      "\u001b[34m\u001b[1mwandb\u001b[0m: \tbeta1: 0.9\n",
      "\u001b[34m\u001b[1mwandb\u001b[0m: \tbeta2: 0.999\n",
      "\u001b[34m\u001b[1mwandb\u001b[0m: \tbeta_rms: 0.9\n",
      "\u001b[34m\u001b[1mwandb\u001b[0m: \tepochs: 5\n",
      "\u001b[34m\u001b[1mwandb\u001b[0m: \tepsilon: 1e-08\n",
      "\u001b[34m\u001b[1mwandb\u001b[0m: \thidden_size: 128\n",
      "\u001b[34m\u001b[1mwandb\u001b[0m: \tinit_type: xavier\n",
      "\u001b[34m\u001b[1mwandb\u001b[0m: \tlearning_rate: 0.0001\n",
      "\u001b[34m\u001b[1mwandb\u001b[0m: \tloss_func: cross_entropy\n",
      "\u001b[34m\u001b[1mwandb\u001b[0m: \tmomentum: 0.9\n",
      "\u001b[34m\u001b[1mwandb\u001b[0m: \tnum_hidden_layers: 4\n",
      "\u001b[34m\u001b[1mwandb\u001b[0m: \toptimizer: sgd\n",
      "\u001b[34m\u001b[1mwandb\u001b[0m: \tweight_decay: 0.0005\n"
     ]
    },
    {
     "data": {
      "text/html": [
       "creating run (0.4s)"
      ],
      "text/plain": [
       "<IPython.core.display.HTML object>"
      ]
     },
     "metadata": {},
     "output_type": "display_data"
    },
    {
     "data": {
      "text/html": [
       "Tracking run with wandb version 0.19.8"
      ],
      "text/plain": [
       "<IPython.core.display.HTML object>"
      ]
     },
     "metadata": {},
     "output_type": "display_data"
    },
    {
     "data": {
      "text/html": [
       "Run data is saved locally in <code>c:\\Users\\acer\\OneDrive\\Documents\\GitHub\\dl_assignment_ed24s401\\wandb\\run-20250317_140056-gxag9tee</code>"
      ],
      "text/plain": [
       "<IPython.core.display.HTML object>"
      ]
     },
     "metadata": {},
     "output_type": "display_data"
    },
    {
     "data": {
      "text/html": [
       "Syncing run <strong><a href='https://wandb.ai/ed24s401-indian-institute-of-technology-madras/q4_sweep_project/runs/gxag9tee' target=\"_blank\">dutiful-sweep-30</a></strong> to <a href='https://wandb.ai/ed24s401-indian-institute-of-technology-madras/q4_sweep_project' target=\"_blank\">Weights & Biases</a> (<a href='https://wandb.me/developer-guide' target=\"_blank\">docs</a>)<br>Sweep page: <a href='https://wandb.ai/ed24s401-indian-institute-of-technology-madras/q4_sweep_project/sweeps/hp8fw2uv' target=\"_blank\">https://wandb.ai/ed24s401-indian-institute-of-technology-madras/q4_sweep_project/sweeps/hp8fw2uv</a>"
      ],
      "text/plain": [
       "<IPython.core.display.HTML object>"
      ]
     },
     "metadata": {},
     "output_type": "display_data"
    },
    {
     "data": {
      "text/html": [
       " View project at <a href='https://wandb.ai/ed24s401-indian-institute-of-technology-madras/q4_sweep_project' target=\"_blank\">https://wandb.ai/ed24s401-indian-institute-of-technology-madras/q4_sweep_project</a>"
      ],
      "text/plain": [
       "<IPython.core.display.HTML object>"
      ]
     },
     "metadata": {},
     "output_type": "display_data"
    },
    {
     "data": {
      "text/html": [
       " View sweep at <a href='https://wandb.ai/ed24s401-indian-institute-of-technology-madras/q4_sweep_project/sweeps/hp8fw2uv' target=\"_blank\">https://wandb.ai/ed24s401-indian-institute-of-technology-madras/q4_sweep_project/sweeps/hp8fw2uv</a>"
      ],
      "text/plain": [
       "<IPython.core.display.HTML object>"
      ]
     },
     "metadata": {},
     "output_type": "display_data"
    },
    {
     "data": {
      "text/html": [
       " View run at <a href='https://wandb.ai/ed24s401-indian-institute-of-technology-madras/q4_sweep_project/runs/gxag9tee' target=\"_blank\">https://wandb.ai/ed24s401-indian-institute-of-technology-madras/q4_sweep_project/runs/gxag9tee</a>"
      ],
      "text/plain": [
       "<IPython.core.display.HTML object>"
      ]
     },
     "metadata": {},
     "output_type": "display_data"
    },
    {
     "name": "stdout",
     "output_type": "stream",
     "text": [
      "Epoch 1/5 - loss=2.3718, val_acc=0.2472, val_loss=2.1126082669451454\n",
      "Epoch 2/5 - loss=2.1306, val_acc=0.5062, val_loss=1.8954953077121335\n",
      "Epoch 3/5 - loss=1.9260, val_acc=0.5740, val_loss=1.7052431154042722\n",
      "Epoch 4/5 - loss=1.7509, val_acc=0.6050, val_loss=1.5474980932075226\n",
      "Epoch 5/5 - loss=1.6097, val_acc=0.6237, val_loss=1.4232544996389636\n",
      "test accuracy  0.6268\n"
     ]
    },
    {
     "data": {
      "text/html": [],
      "text/plain": [
       "<IPython.core.display.HTML object>"
      ]
     },
     "metadata": {},
     "output_type": "display_data"
    },
    {
     "data": {
      "text/html": [
       "<br>    <style><br>        .wandb-row {<br>            display: flex;<br>            flex-direction: row;<br>            flex-wrap: wrap;<br>            justify-content: flex-start;<br>            width: 100%;<br>        }<br>        .wandb-col {<br>            display: flex;<br>            flex-direction: column;<br>            flex-basis: 100%;<br>            flex: 1;<br>            padding: 10px;<br>        }<br>    </style><br><div class=\"wandb-row\"><div class=\"wandb-col\"><h3>Run history:</h3><br/><table class=\"wandb\"><tr><td>epoch</td><td>▁▃▅▆█</td></tr><tr><td>test_accuracy</td><td>▁</td></tr><tr><td>training_loss</td><td>█▆▄▂▁</td></tr><tr><td>validation loss</td><td>█▆▄▂▁</td></tr><tr><td>validation_accuracy</td><td>▁▆▇██</td></tr></table><br/></div><div class=\"wandb-col\"><h3>Run summary:</h3><br/><table class=\"wandb\"><tr><td>epoch</td><td>5</td></tr><tr><td>test_accuracy</td><td>0.6268</td></tr><tr><td>training_loss</td><td>1.60975</td></tr><tr><td>validation loss</td><td>1.42325</td></tr><tr><td>validation_accuracy</td><td>0.62367</td></tr></table><br/></div></div>"
      ],
      "text/plain": [
       "<IPython.core.display.HTML object>"
      ]
     },
     "metadata": {},
     "output_type": "display_data"
    },
    {
     "data": {
      "text/html": [
       " View run <strong style=\"color:#cdcd00\">hl_4_hs_128_bs_32_ac_tanh_opt_sgd</strong> at: <a href='https://wandb.ai/ed24s401-indian-institute-of-technology-madras/q4_sweep_project/runs/gxag9tee' target=\"_blank\">https://wandb.ai/ed24s401-indian-institute-of-technology-madras/q4_sweep_project/runs/gxag9tee</a><br> View project at: <a href='https://wandb.ai/ed24s401-indian-institute-of-technology-madras/q4_sweep_project' target=\"_blank\">https://wandb.ai/ed24s401-indian-institute-of-technology-madras/q4_sweep_project</a><br>Synced 5 W&B file(s), 0 media file(s), 0 artifact file(s) and 0 other file(s)"
      ],
      "text/plain": [
       "<IPython.core.display.HTML object>"
      ]
     },
     "metadata": {},
     "output_type": "display_data"
    },
    {
     "data": {
      "text/html": [
       "Find logs at: <code>.\\wandb\\run-20250317_140056-gxag9tee\\logs</code>"
      ],
      "text/plain": [
       "<IPython.core.display.HTML object>"
      ]
     },
     "metadata": {},
     "output_type": "display_data"
    },
    {
     "name": "stderr",
     "output_type": "stream",
     "text": [
      "\u001b[34m\u001b[1mwandb\u001b[0m: Agent Starting Run: 8hrfwzaw with config:\n",
      "\u001b[34m\u001b[1mwandb\u001b[0m: \tactivation: tanh\n",
      "\u001b[34m\u001b[1mwandb\u001b[0m: \tbatch_size: 16\n",
      "\u001b[34m\u001b[1mwandb\u001b[0m: \tbeta1: 0.9\n",
      "\u001b[34m\u001b[1mwandb\u001b[0m: \tbeta2: 0.999\n",
      "\u001b[34m\u001b[1mwandb\u001b[0m: \tbeta_rms: 0.9\n",
      "\u001b[34m\u001b[1mwandb\u001b[0m: \tepochs: 5\n",
      "\u001b[34m\u001b[1mwandb\u001b[0m: \tepsilon: 1e-08\n",
      "\u001b[34m\u001b[1mwandb\u001b[0m: \thidden_size: 32\n",
      "\u001b[34m\u001b[1mwandb\u001b[0m: \tinit_type: random\n",
      "\u001b[34m\u001b[1mwandb\u001b[0m: \tlearning_rate: 0.0001\n",
      "\u001b[34m\u001b[1mwandb\u001b[0m: \tloss_func: cross_entropy\n",
      "\u001b[34m\u001b[1mwandb\u001b[0m: \tmomentum: 0.9\n",
      "\u001b[34m\u001b[1mwandb\u001b[0m: \tnum_hidden_layers: 3\n",
      "\u001b[34m\u001b[1mwandb\u001b[0m: \toptimizer: sgd\n",
      "\u001b[34m\u001b[1mwandb\u001b[0m: \tweight_decay: 0\n"
     ]
    },
    {
     "data": {
      "text/html": [],
      "text/plain": [
       "<IPython.core.display.HTML object>"
      ]
     },
     "metadata": {},
     "output_type": "display_data"
    },
    {
     "data": {
      "text/html": [
       "Tracking run with wandb version 0.19.8"
      ],
      "text/plain": [
       "<IPython.core.display.HTML object>"
      ]
     },
     "metadata": {},
     "output_type": "display_data"
    },
    {
     "data": {
      "text/html": [
       "Run data is saved locally in <code>c:\\Users\\acer\\OneDrive\\Documents\\GitHub\\dl_assignment_ed24s401\\wandb\\run-20250317_140149-8hrfwzaw</code>"
      ],
      "text/plain": [
       "<IPython.core.display.HTML object>"
      ]
     },
     "metadata": {},
     "output_type": "display_data"
    },
    {
     "data": {
      "text/html": [
       "Syncing run <strong><a href='https://wandb.ai/ed24s401-indian-institute-of-technology-madras/q4_sweep_project/runs/8hrfwzaw' target=\"_blank\">lyric-sweep-31</a></strong> to <a href='https://wandb.ai/ed24s401-indian-institute-of-technology-madras/q4_sweep_project' target=\"_blank\">Weights & Biases</a> (<a href='https://wandb.me/developer-guide' target=\"_blank\">docs</a>)<br>Sweep page: <a href='https://wandb.ai/ed24s401-indian-institute-of-technology-madras/q4_sweep_project/sweeps/hp8fw2uv' target=\"_blank\">https://wandb.ai/ed24s401-indian-institute-of-technology-madras/q4_sweep_project/sweeps/hp8fw2uv</a>"
      ],
      "text/plain": [
       "<IPython.core.display.HTML object>"
      ]
     },
     "metadata": {},
     "output_type": "display_data"
    },
    {
     "data": {
      "text/html": [
       " View project at <a href='https://wandb.ai/ed24s401-indian-institute-of-technology-madras/q4_sweep_project' target=\"_blank\">https://wandb.ai/ed24s401-indian-institute-of-technology-madras/q4_sweep_project</a>"
      ],
      "text/plain": [
       "<IPython.core.display.HTML object>"
      ]
     },
     "metadata": {},
     "output_type": "display_data"
    },
    {
     "data": {
      "text/html": [
       " View sweep at <a href='https://wandb.ai/ed24s401-indian-institute-of-technology-madras/q4_sweep_project/sweeps/hp8fw2uv' target=\"_blank\">https://wandb.ai/ed24s401-indian-institute-of-technology-madras/q4_sweep_project/sweeps/hp8fw2uv</a>"
      ],
      "text/plain": [
       "<IPython.core.display.HTML object>"
      ]
     },
     "metadata": {},
     "output_type": "display_data"
    },
    {
     "data": {
      "text/html": [
       " View run at <a href='https://wandb.ai/ed24s401-indian-institute-of-technology-madras/q4_sweep_project/runs/8hrfwzaw' target=\"_blank\">https://wandb.ai/ed24s401-indian-institute-of-technology-madras/q4_sweep_project/runs/8hrfwzaw</a>"
      ],
      "text/plain": [
       "<IPython.core.display.HTML object>"
      ]
     },
     "metadata": {},
     "output_type": "display_data"
    },
    {
     "name": "stdout",
     "output_type": "stream",
     "text": [
      "Epoch 1/5 - loss=1.9770, val_acc=0.4797, val_loss=1.6256454172261383\n",
      "Epoch 2/5 - loss=1.4731, val_acc=0.6105, val_loss=1.349566867409626\n",
      "Epoch 3/5 - loss=1.2730, val_acc=0.6693, val_loss=1.201461354869569\n",
      "Epoch 4/5 - loss=1.1504, val_acc=0.6935, val_loss=1.101152136982692\n",
      "Epoch 5/5 - loss=1.0633, val_acc=0.7055, val_loss=1.0265535869361146\n",
      "test accuracy  0.6967\n"
     ]
    },
    {
     "data": {
      "text/html": [],
      "text/plain": [
       "<IPython.core.display.HTML object>"
      ]
     },
     "metadata": {},
     "output_type": "display_data"
    },
    {
     "data": {
      "text/html": [
       "<br>    <style><br>        .wandb-row {<br>            display: flex;<br>            flex-direction: row;<br>            flex-wrap: wrap;<br>            justify-content: flex-start;<br>            width: 100%;<br>        }<br>        .wandb-col {<br>            display: flex;<br>            flex-direction: column;<br>            flex-basis: 100%;<br>            flex: 1;<br>            padding: 10px;<br>        }<br>    </style><br><div class=\"wandb-row\"><div class=\"wandb-col\"><h3>Run history:</h3><br/><table class=\"wandb\"><tr><td>epoch</td><td>▁▃▅▆█</td></tr><tr><td>test_accuracy</td><td>▁</td></tr><tr><td>training_loss</td><td>█▄▃▂▁</td></tr><tr><td>validation loss</td><td>█▅▃▂▁</td></tr><tr><td>validation_accuracy</td><td>▁▅▇██</td></tr></table><br/></div><div class=\"wandb-col\"><h3>Run summary:</h3><br/><table class=\"wandb\"><tr><td>epoch</td><td>5</td></tr><tr><td>test_accuracy</td><td>0.6967</td></tr><tr><td>training_loss</td><td>1.06327</td></tr><tr><td>validation loss</td><td>1.02655</td></tr><tr><td>validation_accuracy</td><td>0.7055</td></tr></table><br/></div></div>"
      ],
      "text/plain": [
       "<IPython.core.display.HTML object>"
      ]
     },
     "metadata": {},
     "output_type": "display_data"
    },
    {
     "data": {
      "text/html": [
       " View run <strong style=\"color:#cdcd00\">hl_3_hs_32_bs_16_ac_tanh_opt_sgd</strong> at: <a href='https://wandb.ai/ed24s401-indian-institute-of-technology-madras/q4_sweep_project/runs/8hrfwzaw' target=\"_blank\">https://wandb.ai/ed24s401-indian-institute-of-technology-madras/q4_sweep_project/runs/8hrfwzaw</a><br> View project at: <a href='https://wandb.ai/ed24s401-indian-institute-of-technology-madras/q4_sweep_project' target=\"_blank\">https://wandb.ai/ed24s401-indian-institute-of-technology-madras/q4_sweep_project</a><br>Synced 5 W&B file(s), 0 media file(s), 0 artifact file(s) and 0 other file(s)"
      ],
      "text/plain": [
       "<IPython.core.display.HTML object>"
      ]
     },
     "metadata": {},
     "output_type": "display_data"
    },
    {
     "data": {
      "text/html": [
       "Find logs at: <code>.\\wandb\\run-20250317_140149-8hrfwzaw\\logs</code>"
      ],
      "text/plain": [
       "<IPython.core.display.HTML object>"
      ]
     },
     "metadata": {},
     "output_type": "display_data"
    },
    {
     "name": "stderr",
     "output_type": "stream",
     "text": [
      "\u001b[34m\u001b[1mwandb\u001b[0m: Agent Starting Run: 0vn6afpf with config:\n",
      "\u001b[34m\u001b[1mwandb\u001b[0m: \tactivation: sigmoid\n",
      "\u001b[34m\u001b[1mwandb\u001b[0m: \tbatch_size: 64\n",
      "\u001b[34m\u001b[1mwandb\u001b[0m: \tbeta1: 0.9\n",
      "\u001b[34m\u001b[1mwandb\u001b[0m: \tbeta2: 0.999\n",
      "\u001b[34m\u001b[1mwandb\u001b[0m: \tbeta_rms: 0.9\n",
      "\u001b[34m\u001b[1mwandb\u001b[0m: \tepochs: 5\n",
      "\u001b[34m\u001b[1mwandb\u001b[0m: \tepsilon: 1e-08\n",
      "\u001b[34m\u001b[1mwandb\u001b[0m: \thidden_size: 64\n",
      "\u001b[34m\u001b[1mwandb\u001b[0m: \tinit_type: xavier\n",
      "\u001b[34m\u001b[1mwandb\u001b[0m: \tlearning_rate: 0.0001\n",
      "\u001b[34m\u001b[1mwandb\u001b[0m: \tloss_func: cross_entropy\n",
      "\u001b[34m\u001b[1mwandb\u001b[0m: \tmomentum: 0.9\n",
      "\u001b[34m\u001b[1mwandb\u001b[0m: \tnum_hidden_layers: 5\n",
      "\u001b[34m\u001b[1mwandb\u001b[0m: \toptimizer: adam\n",
      "\u001b[34m\u001b[1mwandb\u001b[0m: \tweight_decay: 0.5\n"
     ]
    },
    {
     "data": {
      "text/html": [],
      "text/plain": [
       "<IPython.core.display.HTML object>"
      ]
     },
     "metadata": {},
     "output_type": "display_data"
    },
    {
     "data": {
      "text/html": [
       "Tracking run with wandb version 0.19.8"
      ],
      "text/plain": [
       "<IPython.core.display.HTML object>"
      ]
     },
     "metadata": {},
     "output_type": "display_data"
    },
    {
     "data": {
      "text/html": [
       "Run data is saved locally in <code>c:\\Users\\acer\\OneDrive\\Documents\\GitHub\\dl_assignment_ed24s401\\wandb\\run-20250317_140210-0vn6afpf</code>"
      ],
      "text/plain": [
       "<IPython.core.display.HTML object>"
      ]
     },
     "metadata": {},
     "output_type": "display_data"
    },
    {
     "data": {
      "text/html": [
       "Syncing run <strong><a href='https://wandb.ai/ed24s401-indian-institute-of-technology-madras/q4_sweep_project/runs/0vn6afpf' target=\"_blank\">feasible-sweep-32</a></strong> to <a href='https://wandb.ai/ed24s401-indian-institute-of-technology-madras/q4_sweep_project' target=\"_blank\">Weights & Biases</a> (<a href='https://wandb.me/developer-guide' target=\"_blank\">docs</a>)<br>Sweep page: <a href='https://wandb.ai/ed24s401-indian-institute-of-technology-madras/q4_sweep_project/sweeps/hp8fw2uv' target=\"_blank\">https://wandb.ai/ed24s401-indian-institute-of-technology-madras/q4_sweep_project/sweeps/hp8fw2uv</a>"
      ],
      "text/plain": [
       "<IPython.core.display.HTML object>"
      ]
     },
     "metadata": {},
     "output_type": "display_data"
    },
    {
     "data": {
      "text/html": [
       " View project at <a href='https://wandb.ai/ed24s401-indian-institute-of-technology-madras/q4_sweep_project' target=\"_blank\">https://wandb.ai/ed24s401-indian-institute-of-technology-madras/q4_sweep_project</a>"
      ],
      "text/plain": [
       "<IPython.core.display.HTML object>"
      ]
     },
     "metadata": {},
     "output_type": "display_data"
    },
    {
     "data": {
      "text/html": [
       " View sweep at <a href='https://wandb.ai/ed24s401-indian-institute-of-technology-madras/q4_sweep_project/sweeps/hp8fw2uv' target=\"_blank\">https://wandb.ai/ed24s401-indian-institute-of-technology-madras/q4_sweep_project/sweeps/hp8fw2uv</a>"
      ],
      "text/plain": [
       "<IPython.core.display.HTML object>"
      ]
     },
     "metadata": {},
     "output_type": "display_data"
    },
    {
     "data": {
      "text/html": [
       " View run at <a href='https://wandb.ai/ed24s401-indian-institute-of-technology-madras/q4_sweep_project/runs/0vn6afpf' target=\"_blank\">https://wandb.ai/ed24s401-indian-institute-of-technology-madras/q4_sweep_project/runs/0vn6afpf</a>"
      ],
      "text/plain": [
       "<IPython.core.display.HTML object>"
      ]
     },
     "metadata": {},
     "output_type": "display_data"
    },
    {
     "name": "stdout",
     "output_type": "stream",
     "text": [
      "Epoch 1/5 - loss=47.0910, val_acc=0.0985, val_loss=2.306493175054373\n",
      "Epoch 2/5 - loss=16.4519, val_acc=0.0985, val_loss=2.3030446403667817\n",
      "Epoch 3/5 - loss=6.9265, val_acc=0.0985, val_loss=2.3029006743543694\n",
      "Epoch 4/5 - loss=3.6702, val_acc=0.0985, val_loss=2.3027939048499437\n",
      "Epoch 5/5 - loss=2.6496, val_acc=0.1000, val_loss=2.3029043515909082\n",
      "test accuracy  0.1\n"
     ]
    },
    {
     "data": {
      "text/html": [],
      "text/plain": [
       "<IPython.core.display.HTML object>"
      ]
     },
     "metadata": {},
     "output_type": "display_data"
    },
    {
     "data": {
      "text/html": [
       "<br>    <style><br>        .wandb-row {<br>            display: flex;<br>            flex-direction: row;<br>            flex-wrap: wrap;<br>            justify-content: flex-start;<br>            width: 100%;<br>        }<br>        .wandb-col {<br>            display: flex;<br>            flex-direction: column;<br>            flex-basis: 100%;<br>            flex: 1;<br>            padding: 10px;<br>        }<br>    </style><br><div class=\"wandb-row\"><div class=\"wandb-col\"><h3>Run history:</h3><br/><table class=\"wandb\"><tr><td>epoch</td><td>▁▃▅▆█</td></tr><tr><td>test_accuracy</td><td>▁</td></tr><tr><td>training_loss</td><td>█▃▂▁▁</td></tr><tr><td>validation loss</td><td>█▁▁▁▁</td></tr><tr><td>validation_accuracy</td><td>▁▁▁▁█</td></tr></table><br/></div><div class=\"wandb-col\"><h3>Run summary:</h3><br/><table class=\"wandb\"><tr><td>epoch</td><td>5</td></tr><tr><td>test_accuracy</td><td>0.1</td></tr><tr><td>training_loss</td><td>2.64962</td></tr><tr><td>validation loss</td><td>2.3029</td></tr><tr><td>validation_accuracy</td><td>0.1</td></tr></table><br/></div></div>"
      ],
      "text/plain": [
       "<IPython.core.display.HTML object>"
      ]
     },
     "metadata": {},
     "output_type": "display_data"
    },
    {
     "data": {
      "text/html": [
       " View run <strong style=\"color:#cdcd00\">hl_5_hs_64_bs_64_ac_sigmoid_opt_adam</strong> at: <a href='https://wandb.ai/ed24s401-indian-institute-of-technology-madras/q4_sweep_project/runs/0vn6afpf' target=\"_blank\">https://wandb.ai/ed24s401-indian-institute-of-technology-madras/q4_sweep_project/runs/0vn6afpf</a><br> View project at: <a href='https://wandb.ai/ed24s401-indian-institute-of-technology-madras/q4_sweep_project' target=\"_blank\">https://wandb.ai/ed24s401-indian-institute-of-technology-madras/q4_sweep_project</a><br>Synced 5 W&B file(s), 0 media file(s), 0 artifact file(s) and 0 other file(s)"
      ],
      "text/plain": [
       "<IPython.core.display.HTML object>"
      ]
     },
     "metadata": {},
     "output_type": "display_data"
    },
    {
     "data": {
      "text/html": [
       "Find logs at: <code>.\\wandb\\run-20250317_140210-0vn6afpf\\logs</code>"
      ],
      "text/plain": [
       "<IPython.core.display.HTML object>"
      ]
     },
     "metadata": {},
     "output_type": "display_data"
    },
    {
     "name": "stderr",
     "output_type": "stream",
     "text": [
      "\u001b[34m\u001b[1mwandb\u001b[0m: Agent Starting Run: j8q164cg with config:\n",
      "\u001b[34m\u001b[1mwandb\u001b[0m: \tactivation: tanh\n",
      "\u001b[34m\u001b[1mwandb\u001b[0m: \tbatch_size: 16\n",
      "\u001b[34m\u001b[1mwandb\u001b[0m: \tbeta1: 0.9\n",
      "\u001b[34m\u001b[1mwandb\u001b[0m: \tbeta2: 0.999\n",
      "\u001b[34m\u001b[1mwandb\u001b[0m: \tbeta_rms: 0.9\n",
      "\u001b[34m\u001b[1mwandb\u001b[0m: \tepochs: 5\n",
      "\u001b[34m\u001b[1mwandb\u001b[0m: \tepsilon: 1e-08\n",
      "\u001b[34m\u001b[1mwandb\u001b[0m: \thidden_size: 64\n",
      "\u001b[34m\u001b[1mwandb\u001b[0m: \tinit_type: xavier\n",
      "\u001b[34m\u001b[1mwandb\u001b[0m: \tlearning_rate: 0.0001\n",
      "\u001b[34m\u001b[1mwandb\u001b[0m: \tloss_func: cross_entropy\n",
      "\u001b[34m\u001b[1mwandb\u001b[0m: \tmomentum: 0.9\n",
      "\u001b[34m\u001b[1mwandb\u001b[0m: \tnum_hidden_layers: 5\n",
      "\u001b[34m\u001b[1mwandb\u001b[0m: \toptimizer: sgd\n",
      "\u001b[34m\u001b[1mwandb\u001b[0m: \tweight_decay: 0.0005\n"
     ]
    },
    {
     "data": {
      "text/html": [
       "creating run (0.2s)"
      ],
      "text/plain": [
       "<IPython.core.display.HTML object>"
      ]
     },
     "metadata": {},
     "output_type": "display_data"
    },
    {
     "data": {
      "text/html": [
       "Tracking run with wandb version 0.19.8"
      ],
      "text/plain": [
       "<IPython.core.display.HTML object>"
      ]
     },
     "metadata": {},
     "output_type": "display_data"
    },
    {
     "data": {
      "text/html": [
       "Run data is saved locally in <code>c:\\Users\\acer\\OneDrive\\Documents\\GitHub\\dl_assignment_ed24s401\\wandb\\run-20250317_140247-j8q164cg</code>"
      ],
      "text/plain": [
       "<IPython.core.display.HTML object>"
      ]
     },
     "metadata": {},
     "output_type": "display_data"
    },
    {
     "data": {
      "text/html": [
       "Syncing run <strong><a href='https://wandb.ai/ed24s401-indian-institute-of-technology-madras/q4_sweep_project/runs/j8q164cg' target=\"_blank\">polished-sweep-33</a></strong> to <a href='https://wandb.ai/ed24s401-indian-institute-of-technology-madras/q4_sweep_project' target=\"_blank\">Weights & Biases</a> (<a href='https://wandb.me/developer-guide' target=\"_blank\">docs</a>)<br>Sweep page: <a href='https://wandb.ai/ed24s401-indian-institute-of-technology-madras/q4_sweep_project/sweeps/hp8fw2uv' target=\"_blank\">https://wandb.ai/ed24s401-indian-institute-of-technology-madras/q4_sweep_project/sweeps/hp8fw2uv</a>"
      ],
      "text/plain": [
       "<IPython.core.display.HTML object>"
      ]
     },
     "metadata": {},
     "output_type": "display_data"
    },
    {
     "data": {
      "text/html": [
       " View project at <a href='https://wandb.ai/ed24s401-indian-institute-of-technology-madras/q4_sweep_project' target=\"_blank\">https://wandb.ai/ed24s401-indian-institute-of-technology-madras/q4_sweep_project</a>"
      ],
      "text/plain": [
       "<IPython.core.display.HTML object>"
      ]
     },
     "metadata": {},
     "output_type": "display_data"
    },
    {
     "data": {
      "text/html": [
       " View sweep at <a href='https://wandb.ai/ed24s401-indian-institute-of-technology-madras/q4_sweep_project/sweeps/hp8fw2uv' target=\"_blank\">https://wandb.ai/ed24s401-indian-institute-of-technology-madras/q4_sweep_project/sweeps/hp8fw2uv</a>"
      ],
      "text/plain": [
       "<IPython.core.display.HTML object>"
      ]
     },
     "metadata": {},
     "output_type": "display_data"
    },
    {
     "data": {
      "text/html": [
       " View run at <a href='https://wandb.ai/ed24s401-indian-institute-of-technology-madras/q4_sweep_project/runs/j8q164cg' target=\"_blank\">https://wandb.ai/ed24s401-indian-institute-of-technology-madras/q4_sweep_project/runs/j8q164cg</a>"
      ],
      "text/plain": [
       "<IPython.core.display.HTML object>"
      ]
     },
     "metadata": {},
     "output_type": "display_data"
    },
    {
     "name": "stdout",
     "output_type": "stream",
     "text": [
      "Epoch 1/5 - loss=2.2288, val_acc=0.3778, val_loss=1.9911405872533832\n",
      "Epoch 2/5 - loss=1.9310, val_acc=0.4217, val_loss=1.7200659380691274\n",
      "Epoch 3/5 - loss=1.7082, val_acc=0.4922, val_loss=1.5416678876327108\n",
      "Epoch 4/5 - loss=1.5590, val_acc=0.5377, val_loss=1.41727430328914\n",
      "Epoch 5/5 - loss=1.4501, val_acc=0.5803, val_loss=1.3227709327220518\n",
      "test accuracy  0.5703\n"
     ]
    },
    {
     "data": {
      "text/html": [],
      "text/plain": [
       "<IPython.core.display.HTML object>"
      ]
     },
     "metadata": {},
     "output_type": "display_data"
    },
    {
     "data": {
      "text/html": [
       "<br>    <style><br>        .wandb-row {<br>            display: flex;<br>            flex-direction: row;<br>            flex-wrap: wrap;<br>            justify-content: flex-start;<br>            width: 100%;<br>        }<br>        .wandb-col {<br>            display: flex;<br>            flex-direction: column;<br>            flex-basis: 100%;<br>            flex: 1;<br>            padding: 10px;<br>        }<br>    </style><br><div class=\"wandb-row\"><div class=\"wandb-col\"><h3>Run history:</h3><br/><table class=\"wandb\"><tr><td>epoch</td><td>▁▃▅▆█</td></tr><tr><td>test_accuracy</td><td>▁</td></tr><tr><td>training_loss</td><td>█▅▃▂▁</td></tr><tr><td>validation loss</td><td>█▅▃▂▁</td></tr><tr><td>validation_accuracy</td><td>▁▃▅▇█</td></tr></table><br/></div><div class=\"wandb-col\"><h3>Run summary:</h3><br/><table class=\"wandb\"><tr><td>epoch</td><td>5</td></tr><tr><td>test_accuracy</td><td>0.5703</td></tr><tr><td>training_loss</td><td>1.45006</td></tr><tr><td>validation loss</td><td>1.32277</td></tr><tr><td>validation_accuracy</td><td>0.58033</td></tr></table><br/></div></div>"
      ],
      "text/plain": [
       "<IPython.core.display.HTML object>"
      ]
     },
     "metadata": {},
     "output_type": "display_data"
    },
    {
     "data": {
      "text/html": [
       " View run <strong style=\"color:#cdcd00\">hl_5_hs_64_bs_16_ac_tanh_opt_sgd</strong> at: <a href='https://wandb.ai/ed24s401-indian-institute-of-technology-madras/q4_sweep_project/runs/j8q164cg' target=\"_blank\">https://wandb.ai/ed24s401-indian-institute-of-technology-madras/q4_sweep_project/runs/j8q164cg</a><br> View project at: <a href='https://wandb.ai/ed24s401-indian-institute-of-technology-madras/q4_sweep_project' target=\"_blank\">https://wandb.ai/ed24s401-indian-institute-of-technology-madras/q4_sweep_project</a><br>Synced 5 W&B file(s), 0 media file(s), 0 artifact file(s) and 0 other file(s)"
      ],
      "text/plain": [
       "<IPython.core.display.HTML object>"
      ]
     },
     "metadata": {},
     "output_type": "display_data"
    },
    {
     "data": {
      "text/html": [
       "Find logs at: <code>.\\wandb\\run-20250317_140247-j8q164cg\\logs</code>"
      ],
      "text/plain": [
       "<IPython.core.display.HTML object>"
      ]
     },
     "metadata": {},
     "output_type": "display_data"
    },
    {
     "name": "stderr",
     "output_type": "stream",
     "text": [
      "\u001b[34m\u001b[1mwandb\u001b[0m: Agent Starting Run: cb9uzzf1 with config:\n",
      "\u001b[34m\u001b[1mwandb\u001b[0m: \tactivation: sigmoid\n",
      "\u001b[34m\u001b[1mwandb\u001b[0m: \tbatch_size: 64\n",
      "\u001b[34m\u001b[1mwandb\u001b[0m: \tbeta1: 0.9\n",
      "\u001b[34m\u001b[1mwandb\u001b[0m: \tbeta2: 0.99\n",
      "\u001b[34m\u001b[1mwandb\u001b[0m: \tbeta_rms: 0.9\n",
      "\u001b[34m\u001b[1mwandb\u001b[0m: \tepochs: 5\n",
      "\u001b[34m\u001b[1mwandb\u001b[0m: \tepsilon: 1e-08\n",
      "\u001b[34m\u001b[1mwandb\u001b[0m: \thidden_size: 64\n",
      "\u001b[34m\u001b[1mwandb\u001b[0m: \tinit_type: random\n",
      "\u001b[34m\u001b[1mwandb\u001b[0m: \tlearning_rate: 0.001\n",
      "\u001b[34m\u001b[1mwandb\u001b[0m: \tloss_func: cross_entropy\n",
      "\u001b[34m\u001b[1mwandb\u001b[0m: \tmomentum: 0.9\n",
      "\u001b[34m\u001b[1mwandb\u001b[0m: \tnum_hidden_layers: 4\n",
      "\u001b[34m\u001b[1mwandb\u001b[0m: \toptimizer: adam\n",
      "\u001b[34m\u001b[1mwandb\u001b[0m: \tweight_decay: 0.5\n"
     ]
    },
    {
     "data": {
      "text/html": [],
      "text/plain": [
       "<IPython.core.display.HTML object>"
      ]
     },
     "metadata": {},
     "output_type": "display_data"
    },
    {
     "data": {
      "text/html": [
       "Tracking run with wandb version 0.19.8"
      ],
      "text/plain": [
       "<IPython.core.display.HTML object>"
      ]
     },
     "metadata": {},
     "output_type": "display_data"
    },
    {
     "data": {
      "text/html": [
       "Run data is saved locally in <code>c:\\Users\\acer\\OneDrive\\Documents\\GitHub\\dl_assignment_ed24s401\\wandb\\run-20250317_140319-cb9uzzf1</code>"
      ],
      "text/plain": [
       "<IPython.core.display.HTML object>"
      ]
     },
     "metadata": {},
     "output_type": "display_data"
    },
    {
     "data": {
      "text/html": [
       "Syncing run <strong><a href='https://wandb.ai/ed24s401-indian-institute-of-technology-madras/q4_sweep_project/runs/cb9uzzf1' target=\"_blank\">solar-sweep-34</a></strong> to <a href='https://wandb.ai/ed24s401-indian-institute-of-technology-madras/q4_sweep_project' target=\"_blank\">Weights & Biases</a> (<a href='https://wandb.me/developer-guide' target=\"_blank\">docs</a>)<br>Sweep page: <a href='https://wandb.ai/ed24s401-indian-institute-of-technology-madras/q4_sweep_project/sweeps/hp8fw2uv' target=\"_blank\">https://wandb.ai/ed24s401-indian-institute-of-technology-madras/q4_sweep_project/sweeps/hp8fw2uv</a>"
      ],
      "text/plain": [
       "<IPython.core.display.HTML object>"
      ]
     },
     "metadata": {},
     "output_type": "display_data"
    },
    {
     "data": {
      "text/html": [
       " View project at <a href='https://wandb.ai/ed24s401-indian-institute-of-technology-madras/q4_sweep_project' target=\"_blank\">https://wandb.ai/ed24s401-indian-institute-of-technology-madras/q4_sweep_project</a>"
      ],
      "text/plain": [
       "<IPython.core.display.HTML object>"
      ]
     },
     "metadata": {},
     "output_type": "display_data"
    },
    {
     "data": {
      "text/html": [
       " View sweep at <a href='https://wandb.ai/ed24s401-indian-institute-of-technology-madras/q4_sweep_project/sweeps/hp8fw2uv' target=\"_blank\">https://wandb.ai/ed24s401-indian-institute-of-technology-madras/q4_sweep_project/sweeps/hp8fw2uv</a>"
      ],
      "text/plain": [
       "<IPython.core.display.HTML object>"
      ]
     },
     "metadata": {},
     "output_type": "display_data"
    },
    {
     "data": {
      "text/html": [
       " View run at <a href='https://wandb.ai/ed24s401-indian-institute-of-technology-madras/q4_sweep_project/runs/cb9uzzf1' target=\"_blank\">https://wandb.ai/ed24s401-indian-institute-of-technology-madras/q4_sweep_project/runs/cb9uzzf1</a>"
      ],
      "text/plain": [
       "<IPython.core.display.HTML object>"
      ]
     },
     "metadata": {},
     "output_type": "display_data"
    },
    {
     "name": "stdout",
     "output_type": "stream",
     "text": [
      "Epoch 1/5 - loss=16.0337, val_acc=0.1012, val_loss=2.3067605159784392\n",
      "Epoch 2/5 - loss=2.3055, val_acc=0.1013, val_loss=2.3048949068363807\n",
      "Epoch 3/5 - loss=2.3053, val_acc=0.0977, val_loss=2.30371499859875\n",
      "Epoch 4/5 - loss=2.3048, val_acc=0.0977, val_loss=2.3032578189633814\n",
      "Epoch 5/5 - loss=2.3042, val_acc=0.0995, val_loss=2.3028458741299893\n",
      "test accuracy  0.1\n"
     ]
    },
    {
     "data": {
      "text/html": [],
      "text/plain": [
       "<IPython.core.display.HTML object>"
      ]
     },
     "metadata": {},
     "output_type": "display_data"
    },
    {
     "data": {
      "text/html": [
       "<br>    <style><br>        .wandb-row {<br>            display: flex;<br>            flex-direction: row;<br>            flex-wrap: wrap;<br>            justify-content: flex-start;<br>            width: 100%;<br>        }<br>        .wandb-col {<br>            display: flex;<br>            flex-direction: column;<br>            flex-basis: 100%;<br>            flex: 1;<br>            padding: 10px;<br>        }<br>    </style><br><div class=\"wandb-row\"><div class=\"wandb-col\"><h3>Run history:</h3><br/><table class=\"wandb\"><tr><td>epoch</td><td>▁▃▅▆█</td></tr><tr><td>test_accuracy</td><td>▁</td></tr><tr><td>training_loss</td><td>█▁▁▁▁</td></tr><tr><td>validation loss</td><td>█▅▃▂▁</td></tr><tr><td>validation_accuracy</td><td>██▁▁▅</td></tr></table><br/></div><div class=\"wandb-col\"><h3>Run summary:</h3><br/><table class=\"wandb\"><tr><td>epoch</td><td>5</td></tr><tr><td>test_accuracy</td><td>0.1</td></tr><tr><td>training_loss</td><td>2.30422</td></tr><tr><td>validation loss</td><td>2.30285</td></tr><tr><td>validation_accuracy</td><td>0.0995</td></tr></table><br/></div></div>"
      ],
      "text/plain": [
       "<IPython.core.display.HTML object>"
      ]
     },
     "metadata": {},
     "output_type": "display_data"
    },
    {
     "data": {
      "text/html": [
       " View run <strong style=\"color:#cdcd00\">hl_4_hs_64_bs_64_ac_sigmoid_opt_adam</strong> at: <a href='https://wandb.ai/ed24s401-indian-institute-of-technology-madras/q4_sweep_project/runs/cb9uzzf1' target=\"_blank\">https://wandb.ai/ed24s401-indian-institute-of-technology-madras/q4_sweep_project/runs/cb9uzzf1</a><br> View project at: <a href='https://wandb.ai/ed24s401-indian-institute-of-technology-madras/q4_sweep_project' target=\"_blank\">https://wandb.ai/ed24s401-indian-institute-of-technology-madras/q4_sweep_project</a><br>Synced 5 W&B file(s), 0 media file(s), 0 artifact file(s) and 0 other file(s)"
      ],
      "text/plain": [
       "<IPython.core.display.HTML object>"
      ]
     },
     "metadata": {},
     "output_type": "display_data"
    },
    {
     "data": {
      "text/html": [
       "Find logs at: <code>.\\wandb\\run-20250317_140319-cb9uzzf1\\logs</code>"
      ],
      "text/plain": [
       "<IPython.core.display.HTML object>"
      ]
     },
     "metadata": {},
     "output_type": "display_data"
    },
    {
     "name": "stderr",
     "output_type": "stream",
     "text": [
      "\u001b[34m\u001b[1mwandb\u001b[0m: Agent Starting Run: euh6t159 with config:\n",
      "\u001b[34m\u001b[1mwandb\u001b[0m: \tactivation: relu\n",
      "\u001b[34m\u001b[1mwandb\u001b[0m: \tbatch_size: 64\n",
      "\u001b[34m\u001b[1mwandb\u001b[0m: \tbeta1: 0.9\n",
      "\u001b[34m\u001b[1mwandb\u001b[0m: \tbeta2: 0.99\n",
      "\u001b[34m\u001b[1mwandb\u001b[0m: \tbeta_rms: 0.9\n",
      "\u001b[34m\u001b[1mwandb\u001b[0m: \tepochs: 5\n",
      "\u001b[34m\u001b[1mwandb\u001b[0m: \tepsilon: 1e-08\n",
      "\u001b[34m\u001b[1mwandb\u001b[0m: \thidden_size: 32\n",
      "\u001b[34m\u001b[1mwandb\u001b[0m: \tinit_type: random\n",
      "\u001b[34m\u001b[1mwandb\u001b[0m: \tlearning_rate: 0.001\n",
      "\u001b[34m\u001b[1mwandb\u001b[0m: \tloss_func: cross_entropy\n",
      "\u001b[34m\u001b[1mwandb\u001b[0m: \tmomentum: 0.9\n",
      "\u001b[34m\u001b[1mwandb\u001b[0m: \tnum_hidden_layers: 5\n",
      "\u001b[34m\u001b[1mwandb\u001b[0m: \toptimizer: sgd\n",
      "\u001b[34m\u001b[1mwandb\u001b[0m: \tweight_decay: 0.5\n"
     ]
    },
    {
     "data": {
      "text/html": [
       "Tracking run with wandb version 0.19.8"
      ],
      "text/plain": [
       "<IPython.core.display.HTML object>"
      ]
     },
     "metadata": {},
     "output_type": "display_data"
    },
    {
     "data": {
      "text/html": [
       "Run data is saved locally in <code>c:\\Users\\acer\\OneDrive\\Documents\\GitHub\\dl_assignment_ed24s401\\wandb\\run-20250317_140351-euh6t159</code>"
      ],
      "text/plain": [
       "<IPython.core.display.HTML object>"
      ]
     },
     "metadata": {},
     "output_type": "display_data"
    },
    {
     "data": {
      "text/html": [
       "Syncing run <strong><a href='https://wandb.ai/ed24s401-indian-institute-of-technology-madras/q4_sweep_project/runs/euh6t159' target=\"_blank\">pretty-sweep-35</a></strong> to <a href='https://wandb.ai/ed24s401-indian-institute-of-technology-madras/q4_sweep_project' target=\"_blank\">Weights & Biases</a> (<a href='https://wandb.me/developer-guide' target=\"_blank\">docs</a>)<br>Sweep page: <a href='https://wandb.ai/ed24s401-indian-institute-of-technology-madras/q4_sweep_project/sweeps/hp8fw2uv' target=\"_blank\">https://wandb.ai/ed24s401-indian-institute-of-technology-madras/q4_sweep_project/sweeps/hp8fw2uv</a>"
      ],
      "text/plain": [
       "<IPython.core.display.HTML object>"
      ]
     },
     "metadata": {},
     "output_type": "display_data"
    },
    {
     "data": {
      "text/html": [
       " View project at <a href='https://wandb.ai/ed24s401-indian-institute-of-technology-madras/q4_sweep_project' target=\"_blank\">https://wandb.ai/ed24s401-indian-institute-of-technology-madras/q4_sweep_project</a>"
      ],
      "text/plain": [
       "<IPython.core.display.HTML object>"
      ]
     },
     "metadata": {},
     "output_type": "display_data"
    },
    {
     "data": {
      "text/html": [
       " View sweep at <a href='https://wandb.ai/ed24s401-indian-institute-of-technology-madras/q4_sweep_project/sweeps/hp8fw2uv' target=\"_blank\">https://wandb.ai/ed24s401-indian-institute-of-technology-madras/q4_sweep_project/sweeps/hp8fw2uv</a>"
      ],
      "text/plain": [
       "<IPython.core.display.HTML object>"
      ]
     },
     "metadata": {},
     "output_type": "display_data"
    },
    {
     "data": {
      "text/html": [
       " View run at <a href='https://wandb.ai/ed24s401-indian-institute-of-technology-madras/q4_sweep_project/runs/euh6t159' target=\"_blank\">https://wandb.ai/ed24s401-indian-institute-of-technology-madras/q4_sweep_project/runs/euh6t159</a>"
      ],
      "text/plain": [
       "<IPython.core.display.HTML object>"
      ]
     },
     "metadata": {},
     "output_type": "display_data"
    },
    {
     "name": "stdout",
     "output_type": "stream",
     "text": [
      "Epoch 1/5 - loss=59.4314, val_acc=0.2962, val_loss=2.2052981248473884\n",
      "Epoch 2/5 - loss=27.0084, val_acc=0.2762, val_loss=2.2822717042011864\n",
      "Epoch 3/5 - loss=12.9827, val_acc=0.1012, val_loss=2.300046952573626\n",
      "Epoch 4/5 - loss=6.9065, val_acc=0.1012, val_loss=2.302417172137834\n",
      "Epoch 5/5 - loss=4.2847, val_acc=0.1012, val_loss=2.3026240747756006\n",
      "test accuracy  0.1\n"
     ]
    },
    {
     "data": {
      "text/html": [],
      "text/plain": [
       "<IPython.core.display.HTML object>"
      ]
     },
     "metadata": {},
     "output_type": "display_data"
    },
    {
     "data": {
      "text/html": [
       "<br>    <style><br>        .wandb-row {<br>            display: flex;<br>            flex-direction: row;<br>            flex-wrap: wrap;<br>            justify-content: flex-start;<br>            width: 100%;<br>        }<br>        .wandb-col {<br>            display: flex;<br>            flex-direction: column;<br>            flex-basis: 100%;<br>            flex: 1;<br>            padding: 10px;<br>        }<br>    </style><br><div class=\"wandb-row\"><div class=\"wandb-col\"><h3>Run history:</h3><br/><table class=\"wandb\"><tr><td>epoch</td><td>▁▃▅▆█</td></tr><tr><td>test_accuracy</td><td>▁</td></tr><tr><td>training_loss</td><td>█▄▂▁▁</td></tr><tr><td>validation loss</td><td>▁▇███</td></tr><tr><td>validation_accuracy</td><td>█▇▁▁▁</td></tr></table><br/></div><div class=\"wandb-col\"><h3>Run summary:</h3><br/><table class=\"wandb\"><tr><td>epoch</td><td>5</td></tr><tr><td>test_accuracy</td><td>0.1</td></tr><tr><td>training_loss</td><td>4.28471</td></tr><tr><td>validation loss</td><td>2.30262</td></tr><tr><td>validation_accuracy</td><td>0.10117</td></tr></table><br/></div></div>"
      ],
      "text/plain": [
       "<IPython.core.display.HTML object>"
      ]
     },
     "metadata": {},
     "output_type": "display_data"
    },
    {
     "data": {
      "text/html": [
       " View run <strong style=\"color:#cdcd00\">hl_5_hs_32_bs_64_ac_relu_opt_sgd</strong> at: <a href='https://wandb.ai/ed24s401-indian-institute-of-technology-madras/q4_sweep_project/runs/euh6t159' target=\"_blank\">https://wandb.ai/ed24s401-indian-institute-of-technology-madras/q4_sweep_project/runs/euh6t159</a><br> View project at: <a href='https://wandb.ai/ed24s401-indian-institute-of-technology-madras/q4_sweep_project' target=\"_blank\">https://wandb.ai/ed24s401-indian-institute-of-technology-madras/q4_sweep_project</a><br>Synced 5 W&B file(s), 0 media file(s), 0 artifact file(s) and 0 other file(s)"
      ],
      "text/plain": [
       "<IPython.core.display.HTML object>"
      ]
     },
     "metadata": {},
     "output_type": "display_data"
    },
    {
     "data": {
      "text/html": [
       "Find logs at: <code>.\\wandb\\run-20250317_140351-euh6t159\\logs</code>"
      ],
      "text/plain": [
       "<IPython.core.display.HTML object>"
      ]
     },
     "metadata": {},
     "output_type": "display_data"
    },
    {
     "name": "stderr",
     "output_type": "stream",
     "text": [
      "\u001b[34m\u001b[1mwandb\u001b[0m: Agent Starting Run: omn11cyj with config:\n",
      "\u001b[34m\u001b[1mwandb\u001b[0m: \tactivation: tanh\n",
      "\u001b[34m\u001b[1mwandb\u001b[0m: \tbatch_size: 16\n",
      "\u001b[34m\u001b[1mwandb\u001b[0m: \tbeta1: 0.9\n",
      "\u001b[34m\u001b[1mwandb\u001b[0m: \tbeta2: 0.999\n",
      "\u001b[34m\u001b[1mwandb\u001b[0m: \tbeta_rms: 0.9\n",
      "\u001b[34m\u001b[1mwandb\u001b[0m: \tepochs: 5\n",
      "\u001b[34m\u001b[1mwandb\u001b[0m: \tepsilon: 1e-08\n",
      "\u001b[34m\u001b[1mwandb\u001b[0m: \thidden_size: 128\n",
      "\u001b[34m\u001b[1mwandb\u001b[0m: \tinit_type: xavier\n",
      "\u001b[34m\u001b[1mwandb\u001b[0m: \tlearning_rate: 0.0001\n",
      "\u001b[34m\u001b[1mwandb\u001b[0m: \tloss_func: cross_entropy\n",
      "\u001b[34m\u001b[1mwandb\u001b[0m: \tmomentum: 0.9\n",
      "\u001b[34m\u001b[1mwandb\u001b[0m: \tnum_hidden_layers: 4\n",
      "\u001b[34m\u001b[1mwandb\u001b[0m: \toptimizer: sgd\n",
      "\u001b[34m\u001b[1mwandb\u001b[0m: \tweight_decay: 0.0005\n"
     ]
    },
    {
     "data": {
      "text/html": [
       "creating run (0.9s)"
      ],
      "text/plain": [
       "<IPython.core.display.HTML object>"
      ]
     },
     "metadata": {},
     "output_type": "display_data"
    },
    {
     "data": {
      "text/html": [
       "Tracking run with wandb version 0.19.8"
      ],
      "text/plain": [
       "<IPython.core.display.HTML object>"
      ]
     },
     "metadata": {},
     "output_type": "display_data"
    },
    {
     "data": {
      "text/html": [
       "Run data is saved locally in <code>c:\\Users\\acer\\OneDrive\\Documents\\GitHub\\dl_assignment_ed24s401\\wandb\\run-20250317_140407-omn11cyj</code>"
      ],
      "text/plain": [
       "<IPython.core.display.HTML object>"
      ]
     },
     "metadata": {},
     "output_type": "display_data"
    },
    {
     "data": {
      "text/html": [
       "Syncing run <strong><a href='https://wandb.ai/ed24s401-indian-institute-of-technology-madras/q4_sweep_project/runs/omn11cyj' target=\"_blank\">desert-sweep-36</a></strong> to <a href='https://wandb.ai/ed24s401-indian-institute-of-technology-madras/q4_sweep_project' target=\"_blank\">Weights & Biases</a> (<a href='https://wandb.me/developer-guide' target=\"_blank\">docs</a>)<br>Sweep page: <a href='https://wandb.ai/ed24s401-indian-institute-of-technology-madras/q4_sweep_project/sweeps/hp8fw2uv' target=\"_blank\">https://wandb.ai/ed24s401-indian-institute-of-technology-madras/q4_sweep_project/sweeps/hp8fw2uv</a>"
      ],
      "text/plain": [
       "<IPython.core.display.HTML object>"
      ]
     },
     "metadata": {},
     "output_type": "display_data"
    },
    {
     "data": {
      "text/html": [
       " View project at <a href='https://wandb.ai/ed24s401-indian-institute-of-technology-madras/q4_sweep_project' target=\"_blank\">https://wandb.ai/ed24s401-indian-institute-of-technology-madras/q4_sweep_project</a>"
      ],
      "text/plain": [
       "<IPython.core.display.HTML object>"
      ]
     },
     "metadata": {},
     "output_type": "display_data"
    },
    {
     "data": {
      "text/html": [
       " View sweep at <a href='https://wandb.ai/ed24s401-indian-institute-of-technology-madras/q4_sweep_project/sweeps/hp8fw2uv' target=\"_blank\">https://wandb.ai/ed24s401-indian-institute-of-technology-madras/q4_sweep_project/sweeps/hp8fw2uv</a>"
      ],
      "text/plain": [
       "<IPython.core.display.HTML object>"
      ]
     },
     "metadata": {},
     "output_type": "display_data"
    },
    {
     "data": {
      "text/html": [
       " View run at <a href='https://wandb.ai/ed24s401-indian-institute-of-technology-madras/q4_sweep_project/runs/omn11cyj' target=\"_blank\">https://wandb.ai/ed24s401-indian-institute-of-technology-madras/q4_sweep_project/runs/omn11cyj</a>"
      ],
      "text/plain": [
       "<IPython.core.display.HTML object>"
      ]
     },
     "metadata": {},
     "output_type": "display_data"
    },
    {
     "name": "stdout",
     "output_type": "stream",
     "text": [
      "Epoch 1/5 - loss=2.2513, val_acc=0.5043, val_loss=1.8954128485342003\n",
      "Epoch 2/5 - loss=1.8385, val_acc=0.6045, val_loss=1.5472957811097068\n",
      "Epoch 3/5 - loss=1.5545, val_acc=0.6375, val_loss=1.3264133591426501\n",
      "Epoch 4/5 - loss=1.3777, val_acc=0.6485, val_loss=1.1869786841418157\n",
      "Epoch 5/5 - loss=1.2605, val_acc=0.6640, val_loss=1.0897138887539923\n",
      "test accuracy  0.6593\n"
     ]
    },
    {
     "data": {
      "text/html": [],
      "text/plain": [
       "<IPython.core.display.HTML object>"
      ]
     },
     "metadata": {},
     "output_type": "display_data"
    },
    {
     "data": {
      "text/html": [
       "<br>    <style><br>        .wandb-row {<br>            display: flex;<br>            flex-direction: row;<br>            flex-wrap: wrap;<br>            justify-content: flex-start;<br>            width: 100%;<br>        }<br>        .wandb-col {<br>            display: flex;<br>            flex-direction: column;<br>            flex-basis: 100%;<br>            flex: 1;<br>            padding: 10px;<br>        }<br>    </style><br><div class=\"wandb-row\"><div class=\"wandb-col\"><h3>Run history:</h3><br/><table class=\"wandb\"><tr><td>epoch</td><td>▁▃▅▆█</td></tr><tr><td>test_accuracy</td><td>▁</td></tr><tr><td>training_loss</td><td>█▅▃▂▁</td></tr><tr><td>validation loss</td><td>█▅▃▂▁</td></tr><tr><td>validation_accuracy</td><td>▁▅▇▇█</td></tr></table><br/></div><div class=\"wandb-col\"><h3>Run summary:</h3><br/><table class=\"wandb\"><tr><td>epoch</td><td>5</td></tr><tr><td>test_accuracy</td><td>0.6593</td></tr><tr><td>training_loss</td><td>1.26052</td></tr><tr><td>validation loss</td><td>1.08971</td></tr><tr><td>validation_accuracy</td><td>0.664</td></tr></table><br/></div></div>"
      ],
      "text/plain": [
       "<IPython.core.display.HTML object>"
      ]
     },
     "metadata": {},
     "output_type": "display_data"
    },
    {
     "data": {
      "text/html": [
       " View run <strong style=\"color:#cdcd00\">hl_4_hs_128_bs_16_ac_tanh_opt_sgd</strong> at: <a href='https://wandb.ai/ed24s401-indian-institute-of-technology-madras/q4_sweep_project/runs/omn11cyj' target=\"_blank\">https://wandb.ai/ed24s401-indian-institute-of-technology-madras/q4_sweep_project/runs/omn11cyj</a><br> View project at: <a href='https://wandb.ai/ed24s401-indian-institute-of-technology-madras/q4_sweep_project' target=\"_blank\">https://wandb.ai/ed24s401-indian-institute-of-technology-madras/q4_sweep_project</a><br>Synced 5 W&B file(s), 0 media file(s), 0 artifact file(s) and 0 other file(s)"
      ],
      "text/plain": [
       "<IPython.core.display.HTML object>"
      ]
     },
     "metadata": {},
     "output_type": "display_data"
    },
    {
     "data": {
      "text/html": [
       "Find logs at: <code>.\\wandb\\run-20250317_140407-omn11cyj\\logs</code>"
      ],
      "text/plain": [
       "<IPython.core.display.HTML object>"
      ]
     },
     "metadata": {},
     "output_type": "display_data"
    },
    {
     "name": "stderr",
     "output_type": "stream",
     "text": [
      "\u001b[34m\u001b[1mwandb\u001b[0m: Sweep Agent: Waiting for job.\n",
      "\u001b[34m\u001b[1mwandb\u001b[0m: Job received.\n",
      "\u001b[34m\u001b[1mwandb\u001b[0m: Agent Starting Run: tt9zcuwu with config:\n",
      "\u001b[34m\u001b[1mwandb\u001b[0m: \tactivation: sigmoid\n",
      "\u001b[34m\u001b[1mwandb\u001b[0m: \tbatch_size: 64\n",
      "\u001b[34m\u001b[1mwandb\u001b[0m: \tbeta1: 0.9\n",
      "\u001b[34m\u001b[1mwandb\u001b[0m: \tbeta2: 0.99\n",
      "\u001b[34m\u001b[1mwandb\u001b[0m: \tbeta_rms: 0.9\n",
      "\u001b[34m\u001b[1mwandb\u001b[0m: \tepochs: 5\n",
      "\u001b[34m\u001b[1mwandb\u001b[0m: \tepsilon: 1e-08\n",
      "\u001b[34m\u001b[1mwandb\u001b[0m: \thidden_size: 64\n",
      "\u001b[34m\u001b[1mwandb\u001b[0m: \tinit_type: random\n",
      "\u001b[34m\u001b[1mwandb\u001b[0m: \tlearning_rate: 0.0001\n",
      "\u001b[34m\u001b[1mwandb\u001b[0m: \tloss_func: cross_entropy\n",
      "\u001b[34m\u001b[1mwandb\u001b[0m: \tmomentum: 0.9\n",
      "\u001b[34m\u001b[1mwandb\u001b[0m: \tnum_hidden_layers: 4\n",
      "\u001b[34m\u001b[1mwandb\u001b[0m: \toptimizer: momentum\n",
      "\u001b[34m\u001b[1mwandb\u001b[0m: \tweight_decay: 0.5\n"
     ]
    },
    {
     "data": {
      "text/html": [],
      "text/plain": [
       "<IPython.core.display.HTML object>"
      ]
     },
     "metadata": {},
     "output_type": "display_data"
    },
    {
     "data": {
      "text/html": [
       "Tracking run with wandb version 0.19.8"
      ],
      "text/plain": [
       "<IPython.core.display.HTML object>"
      ]
     },
     "metadata": {},
     "output_type": "display_data"
    },
    {
     "data": {
      "text/html": [
       "Run data is saved locally in <code>c:\\Users\\acer\\OneDrive\\Documents\\GitHub\\dl_assignment_ed24s401\\wandb\\run-20250317_140520-tt9zcuwu</code>"
      ],
      "text/plain": [
       "<IPython.core.display.HTML object>"
      ]
     },
     "metadata": {},
     "output_type": "display_data"
    },
    {
     "data": {
      "text/html": [
       "Syncing run <strong><a href='https://wandb.ai/ed24s401-indian-institute-of-technology-madras/q4_sweep_project/runs/tt9zcuwu' target=\"_blank\">eager-sweep-37</a></strong> to <a href='https://wandb.ai/ed24s401-indian-institute-of-technology-madras/q4_sweep_project' target=\"_blank\">Weights & Biases</a> (<a href='https://wandb.me/developer-guide' target=\"_blank\">docs</a>)<br>Sweep page: <a href='https://wandb.ai/ed24s401-indian-institute-of-technology-madras/q4_sweep_project/sweeps/hp8fw2uv' target=\"_blank\">https://wandb.ai/ed24s401-indian-institute-of-technology-madras/q4_sweep_project/sweeps/hp8fw2uv</a>"
      ],
      "text/plain": [
       "<IPython.core.display.HTML object>"
      ]
     },
     "metadata": {},
     "output_type": "display_data"
    },
    {
     "data": {
      "text/html": [
       " View project at <a href='https://wandb.ai/ed24s401-indian-institute-of-technology-madras/q4_sweep_project' target=\"_blank\">https://wandb.ai/ed24s401-indian-institute-of-technology-madras/q4_sweep_project</a>"
      ],
      "text/plain": [
       "<IPython.core.display.HTML object>"
      ]
     },
     "metadata": {},
     "output_type": "display_data"
    },
    {
     "data": {
      "text/html": [
       " View sweep at <a href='https://wandb.ai/ed24s401-indian-institute-of-technology-madras/q4_sweep_project/sweeps/hp8fw2uv' target=\"_blank\">https://wandb.ai/ed24s401-indian-institute-of-technology-madras/q4_sweep_project/sweeps/hp8fw2uv</a>"
      ],
      "text/plain": [
       "<IPython.core.display.HTML object>"
      ]
     },
     "metadata": {},
     "output_type": "display_data"
    },
    {
     "data": {
      "text/html": [
       " View run at <a href='https://wandb.ai/ed24s401-indian-institute-of-technology-madras/q4_sweep_project/runs/tt9zcuwu' target=\"_blank\">https://wandb.ai/ed24s401-indian-institute-of-technology-madras/q4_sweep_project/runs/tt9zcuwu</a>"
      ],
      "text/plain": [
       "<IPython.core.display.HTML object>"
      ]
     },
     "metadata": {},
     "output_type": "display_data"
    },
    {
     "name": "stdout",
     "output_type": "stream",
     "text": [
      "Epoch 1/5 - loss=92.1266, val_acc=0.0985, val_loss=2.305672738397101\n",
      "Epoch 2/5 - loss=40.7933, val_acc=0.1013, val_loss=2.3026842335213322\n",
      "Epoch 3/5 - loss=18.8026, val_acc=0.0977, val_loss=2.3026787743991677\n",
      "Epoch 4/5 - loss=9.3759, val_acc=0.0977, val_loss=2.302642357013071\n",
      "Epoch 5/5 - loss=5.3349, val_acc=0.0977, val_loss=2.302610534519099\n",
      "test accuracy  0.1\n"
     ]
    },
    {
     "data": {
      "text/html": [],
      "text/plain": [
       "<IPython.core.display.HTML object>"
      ]
     },
     "metadata": {},
     "output_type": "display_data"
    },
    {
     "data": {
      "text/html": [
       "<br>    <style><br>        .wandb-row {<br>            display: flex;<br>            flex-direction: row;<br>            flex-wrap: wrap;<br>            justify-content: flex-start;<br>            width: 100%;<br>        }<br>        .wandb-col {<br>            display: flex;<br>            flex-direction: column;<br>            flex-basis: 100%;<br>            flex: 1;<br>            padding: 10px;<br>        }<br>    </style><br><div class=\"wandb-row\"><div class=\"wandb-col\"><h3>Run history:</h3><br/><table class=\"wandb\"><tr><td>epoch</td><td>▁▃▅▆█</td></tr><tr><td>test_accuracy</td><td>▁</td></tr><tr><td>training_loss</td><td>█▄▂▁▁</td></tr><tr><td>validation loss</td><td>█▁▁▁▁</td></tr><tr><td>validation_accuracy</td><td>▃█▁▁▁</td></tr></table><br/></div><div class=\"wandb-col\"><h3>Run summary:</h3><br/><table class=\"wandb\"><tr><td>epoch</td><td>5</td></tr><tr><td>test_accuracy</td><td>0.1</td></tr><tr><td>training_loss</td><td>5.33485</td></tr><tr><td>validation loss</td><td>2.30261</td></tr><tr><td>validation_accuracy</td><td>0.09767</td></tr></table><br/></div></div>"
      ],
      "text/plain": [
       "<IPython.core.display.HTML object>"
      ]
     },
     "metadata": {},
     "output_type": "display_data"
    },
    {
     "data": {
      "text/html": [
       " View run <strong style=\"color:#cdcd00\">hl_4_hs_64_bs_64_ac_sigmoid_opt_momentum</strong> at: <a href='https://wandb.ai/ed24s401-indian-institute-of-technology-madras/q4_sweep_project/runs/tt9zcuwu' target=\"_blank\">https://wandb.ai/ed24s401-indian-institute-of-technology-madras/q4_sweep_project/runs/tt9zcuwu</a><br> View project at: <a href='https://wandb.ai/ed24s401-indian-institute-of-technology-madras/q4_sweep_project' target=\"_blank\">https://wandb.ai/ed24s401-indian-institute-of-technology-madras/q4_sweep_project</a><br>Synced 5 W&B file(s), 0 media file(s), 0 artifact file(s) and 0 other file(s)"
      ],
      "text/plain": [
       "<IPython.core.display.HTML object>"
      ]
     },
     "metadata": {},
     "output_type": "display_data"
    },
    {
     "data": {
      "text/html": [
       "Find logs at: <code>.\\wandb\\run-20250317_140520-tt9zcuwu\\logs</code>"
      ],
      "text/plain": [
       "<IPython.core.display.HTML object>"
      ]
     },
     "metadata": {},
     "output_type": "display_data"
    },
    {
     "name": "stderr",
     "output_type": "stream",
     "text": [
      "\u001b[34m\u001b[1mwandb\u001b[0m: Sweep Agent: Waiting for job.\n",
      "\u001b[34m\u001b[1mwandb\u001b[0m: Job received.\n",
      "\u001b[34m\u001b[1mwandb\u001b[0m: Agent Starting Run: y3hto20u with config:\n",
      "\u001b[34m\u001b[1mwandb\u001b[0m: \tactivation: sigmoid\n",
      "\u001b[34m\u001b[1mwandb\u001b[0m: \tbatch_size: 64\n",
      "\u001b[34m\u001b[1mwandb\u001b[0m: \tbeta1: 0.9\n",
      "\u001b[34m\u001b[1mwandb\u001b[0m: \tbeta2: 0.999\n",
      "\u001b[34m\u001b[1mwandb\u001b[0m: \tbeta_rms: 0.9\n",
      "\u001b[34m\u001b[1mwandb\u001b[0m: \tepochs: 5\n",
      "\u001b[34m\u001b[1mwandb\u001b[0m: \tepsilon: 1e-08\n",
      "\u001b[34m\u001b[1mwandb\u001b[0m: \thidden_size: 64\n",
      "\u001b[34m\u001b[1mwandb\u001b[0m: \tinit_type: random\n",
      "\u001b[34m\u001b[1mwandb\u001b[0m: \tlearning_rate: 0.001\n",
      "\u001b[34m\u001b[1mwandb\u001b[0m: \tloss_func: cross_entropy\n",
      "\u001b[34m\u001b[1mwandb\u001b[0m: \tmomentum: 0.9\n",
      "\u001b[34m\u001b[1mwandb\u001b[0m: \tnum_hidden_layers: 5\n",
      "\u001b[34m\u001b[1mwandb\u001b[0m: \toptimizer: adam\n",
      "\u001b[34m\u001b[1mwandb\u001b[0m: \tweight_decay: 0\n"
     ]
    },
    {
     "data": {
      "text/html": [
       "Tracking run with wandb version 0.19.8"
      ],
      "text/plain": [
       "<IPython.core.display.HTML object>"
      ]
     },
     "metadata": {},
     "output_type": "display_data"
    },
    {
     "data": {
      "text/html": [
       "Run data is saved locally in <code>c:\\Users\\acer\\OneDrive\\Documents\\GitHub\\dl_assignment_ed24s401\\wandb\\run-20250317_140552-y3hto20u</code>"
      ],
      "text/plain": [
       "<IPython.core.display.HTML object>"
      ]
     },
     "metadata": {},
     "output_type": "display_data"
    },
    {
     "data": {
      "text/html": [
       "Syncing run <strong><a href='https://wandb.ai/ed24s401-indian-institute-of-technology-madras/q4_sweep_project/runs/y3hto20u' target=\"_blank\">rare-sweep-38</a></strong> to <a href='https://wandb.ai/ed24s401-indian-institute-of-technology-madras/q4_sweep_project' target=\"_blank\">Weights & Biases</a> (<a href='https://wandb.me/developer-guide' target=\"_blank\">docs</a>)<br>Sweep page: <a href='https://wandb.ai/ed24s401-indian-institute-of-technology-madras/q4_sweep_project/sweeps/hp8fw2uv' target=\"_blank\">https://wandb.ai/ed24s401-indian-institute-of-technology-madras/q4_sweep_project/sweeps/hp8fw2uv</a>"
      ],
      "text/plain": [
       "<IPython.core.display.HTML object>"
      ]
     },
     "metadata": {},
     "output_type": "display_data"
    },
    {
     "data": {
      "text/html": [
       " View project at <a href='https://wandb.ai/ed24s401-indian-institute-of-technology-madras/q4_sweep_project' target=\"_blank\">https://wandb.ai/ed24s401-indian-institute-of-technology-madras/q4_sweep_project</a>"
      ],
      "text/plain": [
       "<IPython.core.display.HTML object>"
      ]
     },
     "metadata": {},
     "output_type": "display_data"
    },
    {
     "data": {
      "text/html": [
       " View sweep at <a href='https://wandb.ai/ed24s401-indian-institute-of-technology-madras/q4_sweep_project/sweeps/hp8fw2uv' target=\"_blank\">https://wandb.ai/ed24s401-indian-institute-of-technology-madras/q4_sweep_project/sweeps/hp8fw2uv</a>"
      ],
      "text/plain": [
       "<IPython.core.display.HTML object>"
      ]
     },
     "metadata": {},
     "output_type": "display_data"
    },
    {
     "data": {
      "text/html": [
       " View run at <a href='https://wandb.ai/ed24s401-indian-institute-of-technology-madras/q4_sweep_project/runs/y3hto20u' target=\"_blank\">https://wandb.ai/ed24s401-indian-institute-of-technology-madras/q4_sweep_project/runs/y3hto20u</a>"
      ],
      "text/plain": [
       "<IPython.core.display.HTML object>"
      ]
     },
     "metadata": {},
     "output_type": "display_data"
    },
    {
     "name": "stdout",
     "output_type": "stream",
     "text": [
      "Epoch 1/5 - loss=1.3287, val_acc=0.6922, val_loss=0.831890537870595\n",
      "Epoch 2/5 - loss=0.6812, val_acc=0.7862, val_loss=0.6089471762594449\n",
      "Epoch 3/5 - loss=0.5252, val_acc=0.8238, val_loss=0.5064736413293646\n",
      "Epoch 4/5 - loss=0.4577, val_acc=0.8380, val_loss=0.47458284213757407\n",
      "Epoch 5/5 - loss=0.4167, val_acc=0.8488, val_loss=0.44309113084967444\n",
      "test accuracy  0.8425\n"
     ]
    },
    {
     "data": {
      "text/html": [],
      "text/plain": [
       "<IPython.core.display.HTML object>"
      ]
     },
     "metadata": {},
     "output_type": "display_data"
    },
    {
     "data": {
      "text/html": [
       "<br>    <style><br>        .wandb-row {<br>            display: flex;<br>            flex-direction: row;<br>            flex-wrap: wrap;<br>            justify-content: flex-start;<br>            width: 100%;<br>        }<br>        .wandb-col {<br>            display: flex;<br>            flex-direction: column;<br>            flex-basis: 100%;<br>            flex: 1;<br>            padding: 10px;<br>        }<br>    </style><br><div class=\"wandb-row\"><div class=\"wandb-col\"><h3>Run history:</h3><br/><table class=\"wandb\"><tr><td>epoch</td><td>▁▃▅▆█</td></tr><tr><td>test_accuracy</td><td>▁</td></tr><tr><td>training_loss</td><td>█▃▂▁▁</td></tr><tr><td>validation loss</td><td>█▄▂▂▁</td></tr><tr><td>validation_accuracy</td><td>▁▅▇██</td></tr></table><br/></div><div class=\"wandb-col\"><h3>Run summary:</h3><br/><table class=\"wandb\"><tr><td>epoch</td><td>5</td></tr><tr><td>test_accuracy</td><td>0.8425</td></tr><tr><td>training_loss</td><td>0.41668</td></tr><tr><td>validation loss</td><td>0.44309</td></tr><tr><td>validation_accuracy</td><td>0.84883</td></tr></table><br/></div></div>"
      ],
      "text/plain": [
       "<IPython.core.display.HTML object>"
      ]
     },
     "metadata": {},
     "output_type": "display_data"
    },
    {
     "data": {
      "text/html": [
       " View run <strong style=\"color:#cdcd00\">hl_5_hs_64_bs_64_ac_sigmoid_opt_adam</strong> at: <a href='https://wandb.ai/ed24s401-indian-institute-of-technology-madras/q4_sweep_project/runs/y3hto20u' target=\"_blank\">https://wandb.ai/ed24s401-indian-institute-of-technology-madras/q4_sweep_project/runs/y3hto20u</a><br> View project at: <a href='https://wandb.ai/ed24s401-indian-institute-of-technology-madras/q4_sweep_project' target=\"_blank\">https://wandb.ai/ed24s401-indian-institute-of-technology-madras/q4_sweep_project</a><br>Synced 5 W&B file(s), 0 media file(s), 0 artifact file(s) and 0 other file(s)"
      ],
      "text/plain": [
       "<IPython.core.display.HTML object>"
      ]
     },
     "metadata": {},
     "output_type": "display_data"
    },
    {
     "data": {
      "text/html": [
       "Find logs at: <code>.\\wandb\\run-20250317_140552-y3hto20u\\logs</code>"
      ],
      "text/plain": [
       "<IPython.core.display.HTML object>"
      ]
     },
     "metadata": {},
     "output_type": "display_data"
    },
    {
     "name": "stderr",
     "output_type": "stream",
     "text": [
      "\u001b[34m\u001b[1mwandb\u001b[0m: Sweep Agent: Waiting for job.\n",
      "\u001b[34m\u001b[1mwandb\u001b[0m: Job received.\n",
      "\u001b[34m\u001b[1mwandb\u001b[0m: Agent Starting Run: ewhs7rlw with config:\n",
      "\u001b[34m\u001b[1mwandb\u001b[0m: \tactivation: tanh\n",
      "\u001b[34m\u001b[1mwandb\u001b[0m: \tbatch_size: 32\n",
      "\u001b[34m\u001b[1mwandb\u001b[0m: \tbeta1: 0.9\n",
      "\u001b[34m\u001b[1mwandb\u001b[0m: \tbeta2: 0.99\n",
      "\u001b[34m\u001b[1mwandb\u001b[0m: \tbeta_rms: 0.9\n",
      "\u001b[34m\u001b[1mwandb\u001b[0m: \tepochs: 5\n",
      "\u001b[34m\u001b[1mwandb\u001b[0m: \tepsilon: 1e-08\n",
      "\u001b[34m\u001b[1mwandb\u001b[0m: \thidden_size: 32\n",
      "\u001b[34m\u001b[1mwandb\u001b[0m: \tinit_type: random\n",
      "\u001b[34m\u001b[1mwandb\u001b[0m: \tlearning_rate: 0.001\n",
      "\u001b[34m\u001b[1mwandb\u001b[0m: \tloss_func: cross_entropy\n",
      "\u001b[34m\u001b[1mwandb\u001b[0m: \tmomentum: 0.9\n",
      "\u001b[34m\u001b[1mwandb\u001b[0m: \tnum_hidden_layers: 5\n",
      "\u001b[34m\u001b[1mwandb\u001b[0m: \toptimizer: adam\n",
      "\u001b[34m\u001b[1mwandb\u001b[0m: \tweight_decay: 0\n"
     ]
    },
    {
     "data": {
      "text/html": [
       "Waiting for wandb.init()..."
      ],
      "text/plain": [
       "<IPython.core.display.HTML object>"
      ]
     },
     "metadata": {},
     "output_type": "display_data"
    },
    {
     "data": {
      "text/html": [
       "Tracking run with wandb version 0.19.8"
      ],
      "text/plain": [
       "<IPython.core.display.HTML object>"
      ]
     },
     "metadata": {},
     "output_type": "display_data"
    },
    {
     "data": {
      "text/html": [
       "Run data is saved locally in <code>c:\\Users\\acer\\OneDrive\\Documents\\GitHub\\dl_assignment_ed24s401\\wandb\\run-20250317_140634-ewhs7rlw</code>"
      ],
      "text/plain": [
       "<IPython.core.display.HTML object>"
      ]
     },
     "metadata": {},
     "output_type": "display_data"
    },
    {
     "data": {
      "text/html": [
       "Syncing run <strong><a href='https://wandb.ai/ed24s401-indian-institute-of-technology-madras/q4_sweep_project/runs/ewhs7rlw' target=\"_blank\">ethereal-sweep-39</a></strong> to <a href='https://wandb.ai/ed24s401-indian-institute-of-technology-madras/q4_sweep_project' target=\"_blank\">Weights & Biases</a> (<a href='https://wandb.me/developer-guide' target=\"_blank\">docs</a>)<br>Sweep page: <a href='https://wandb.ai/ed24s401-indian-institute-of-technology-madras/q4_sweep_project/sweeps/hp8fw2uv' target=\"_blank\">https://wandb.ai/ed24s401-indian-institute-of-technology-madras/q4_sweep_project/sweeps/hp8fw2uv</a>"
      ],
      "text/plain": [
       "<IPython.core.display.HTML object>"
      ]
     },
     "metadata": {},
     "output_type": "display_data"
    },
    {
     "data": {
      "text/html": [
       " View project at <a href='https://wandb.ai/ed24s401-indian-institute-of-technology-madras/q4_sweep_project' target=\"_blank\">https://wandb.ai/ed24s401-indian-institute-of-technology-madras/q4_sweep_project</a>"
      ],
      "text/plain": [
       "<IPython.core.display.HTML object>"
      ]
     },
     "metadata": {},
     "output_type": "display_data"
    },
    {
     "data": {
      "text/html": [
       " View sweep at <a href='https://wandb.ai/ed24s401-indian-institute-of-technology-madras/q4_sweep_project/sweeps/hp8fw2uv' target=\"_blank\">https://wandb.ai/ed24s401-indian-institute-of-technology-madras/q4_sweep_project/sweeps/hp8fw2uv</a>"
      ],
      "text/plain": [
       "<IPython.core.display.HTML object>"
      ]
     },
     "metadata": {},
     "output_type": "display_data"
    },
    {
     "data": {
      "text/html": [
       " View run at <a href='https://wandb.ai/ed24s401-indian-institute-of-technology-madras/q4_sweep_project/runs/ewhs7rlw' target=\"_blank\">https://wandb.ai/ed24s401-indian-institute-of-technology-madras/q4_sweep_project/runs/ewhs7rlw</a>"
      ],
      "text/plain": [
       "<IPython.core.display.HTML object>"
      ]
     },
     "metadata": {},
     "output_type": "display_data"
    },
    {
     "name": "stdout",
     "output_type": "stream",
     "text": [
      "Epoch 1/5 - loss=0.5343, val_acc=0.8285, val_loss=0.45583644017122843\n",
      "Epoch 2/5 - loss=0.3950, val_acc=0.8407, val_loss=0.4147441947341265\n",
      "Epoch 3/5 - loss=0.3634, val_acc=0.8543, val_loss=0.39878081464858844\n",
      "Epoch 4/5 - loss=0.3440, val_acc=0.8718, val_loss=0.3557867088506788\n",
      "Epoch 5/5 - loss=0.3265, val_acc=0.8687, val_loss=0.3546714890185924\n",
      "test accuracy  0.8603\n"
     ]
    },
    {
     "data": {
      "text/html": [],
      "text/plain": [
       "<IPython.core.display.HTML object>"
      ]
     },
     "metadata": {},
     "output_type": "display_data"
    },
    {
     "data": {
      "text/html": [
       "<br>    <style><br>        .wandb-row {<br>            display: flex;<br>            flex-direction: row;<br>            flex-wrap: wrap;<br>            justify-content: flex-start;<br>            width: 100%;<br>        }<br>        .wandb-col {<br>            display: flex;<br>            flex-direction: column;<br>            flex-basis: 100%;<br>            flex: 1;<br>            padding: 10px;<br>        }<br>    </style><br><div class=\"wandb-row\"><div class=\"wandb-col\"><h3>Run history:</h3><br/><table class=\"wandb\"><tr><td>epoch</td><td>▁▃▅▆█</td></tr><tr><td>test_accuracy</td><td>▁</td></tr><tr><td>training_loss</td><td>█▃▂▂▁</td></tr><tr><td>validation loss</td><td>█▅▄▁▁</td></tr><tr><td>validation_accuracy</td><td>▁▃▅█▇</td></tr></table><br/></div><div class=\"wandb-col\"><h3>Run summary:</h3><br/><table class=\"wandb\"><tr><td>epoch</td><td>5</td></tr><tr><td>test_accuracy</td><td>0.8603</td></tr><tr><td>training_loss</td><td>0.32651</td></tr><tr><td>validation loss</td><td>0.35467</td></tr><tr><td>validation_accuracy</td><td>0.86867</td></tr></table><br/></div></div>"
      ],
      "text/plain": [
       "<IPython.core.display.HTML object>"
      ]
     },
     "metadata": {},
     "output_type": "display_data"
    },
    {
     "data": {
      "text/html": [
       " View run <strong style=\"color:#cdcd00\">hl_5_hs_32_bs_32_ac_tanh_opt_adam</strong> at: <a href='https://wandb.ai/ed24s401-indian-institute-of-technology-madras/q4_sweep_project/runs/ewhs7rlw' target=\"_blank\">https://wandb.ai/ed24s401-indian-institute-of-technology-madras/q4_sweep_project/runs/ewhs7rlw</a><br> View project at: <a href='https://wandb.ai/ed24s401-indian-institute-of-technology-madras/q4_sweep_project' target=\"_blank\">https://wandb.ai/ed24s401-indian-institute-of-technology-madras/q4_sweep_project</a><br>Synced 5 W&B file(s), 0 media file(s), 0 artifact file(s) and 0 other file(s)"
      ],
      "text/plain": [
       "<IPython.core.display.HTML object>"
      ]
     },
     "metadata": {},
     "output_type": "display_data"
    },
    {
     "data": {
      "text/html": [
       "Find logs at: <code>.\\wandb\\run-20250317_140634-ewhs7rlw\\logs</code>"
      ],
      "text/plain": [
       "<IPython.core.display.HTML object>"
      ]
     },
     "metadata": {},
     "output_type": "display_data"
    },
    {
     "name": "stderr",
     "output_type": "stream",
     "text": [
      "\u001b[34m\u001b[1mwandb\u001b[0m: Agent Starting Run: yz3w93q3 with config:\n",
      "\u001b[34m\u001b[1mwandb\u001b[0m: \tactivation: tanh\n",
      "\u001b[34m\u001b[1mwandb\u001b[0m: \tbatch_size: 64\n",
      "\u001b[34m\u001b[1mwandb\u001b[0m: \tbeta1: 0.9\n",
      "\u001b[34m\u001b[1mwandb\u001b[0m: \tbeta2: 0.999\n",
      "\u001b[34m\u001b[1mwandb\u001b[0m: \tbeta_rms: 0.9\n",
      "\u001b[34m\u001b[1mwandb\u001b[0m: \tepochs: 10\n",
      "\u001b[34m\u001b[1mwandb\u001b[0m: \tepsilon: 1e-08\n",
      "\u001b[34m\u001b[1mwandb\u001b[0m: \thidden_size: 128\n",
      "\u001b[34m\u001b[1mwandb\u001b[0m: \tinit_type: random\n",
      "\u001b[34m\u001b[1mwandb\u001b[0m: \tlearning_rate: 0.0001\n",
      "\u001b[34m\u001b[1mwandb\u001b[0m: \tloss_func: cross_entropy\n",
      "\u001b[34m\u001b[1mwandb\u001b[0m: \tmomentum: 0.9\n",
      "\u001b[34m\u001b[1mwandb\u001b[0m: \tnum_hidden_layers: 4\n",
      "\u001b[34m\u001b[1mwandb\u001b[0m: \toptimizer: momentum\n",
      "\u001b[34m\u001b[1mwandb\u001b[0m: \tweight_decay: 0.5\n"
     ]
    },
    {
     "data": {
      "text/html": [
       "Tracking run with wandb version 0.19.8"
      ],
      "text/plain": [
       "<IPython.core.display.HTML object>"
      ]
     },
     "metadata": {},
     "output_type": "display_data"
    },
    {
     "data": {
      "text/html": [
       "Run data is saved locally in <code>c:\\Users\\acer\\OneDrive\\Documents\\GitHub\\dl_assignment_ed24s401\\wandb\\run-20250317_140702-yz3w93q3</code>"
      ],
      "text/plain": [
       "<IPython.core.display.HTML object>"
      ]
     },
     "metadata": {},
     "output_type": "display_data"
    },
    {
     "data": {
      "text/html": [
       "Syncing run <strong><a href='https://wandb.ai/ed24s401-indian-institute-of-technology-madras/q4_sweep_project/runs/yz3w93q3' target=\"_blank\">kind-sweep-40</a></strong> to <a href='https://wandb.ai/ed24s401-indian-institute-of-technology-madras/q4_sweep_project' target=\"_blank\">Weights & Biases</a> (<a href='https://wandb.me/developer-guide' target=\"_blank\">docs</a>)<br>Sweep page: <a href='https://wandb.ai/ed24s401-indian-institute-of-technology-madras/q4_sweep_project/sweeps/hp8fw2uv' target=\"_blank\">https://wandb.ai/ed24s401-indian-institute-of-technology-madras/q4_sweep_project/sweeps/hp8fw2uv</a>"
      ],
      "text/plain": [
       "<IPython.core.display.HTML object>"
      ]
     },
     "metadata": {},
     "output_type": "display_data"
    },
    {
     "data": {
      "text/html": [
       " View project at <a href='https://wandb.ai/ed24s401-indian-institute-of-technology-madras/q4_sweep_project' target=\"_blank\">https://wandb.ai/ed24s401-indian-institute-of-technology-madras/q4_sweep_project</a>"
      ],
      "text/plain": [
       "<IPython.core.display.HTML object>"
      ]
     },
     "metadata": {},
     "output_type": "display_data"
    },
    {
     "data": {
      "text/html": [
       " View sweep at <a href='https://wandb.ai/ed24s401-indian-institute-of-technology-madras/q4_sweep_project/sweeps/hp8fw2uv' target=\"_blank\">https://wandb.ai/ed24s401-indian-institute-of-technology-madras/q4_sweep_project/sweeps/hp8fw2uv</a>"
      ],
      "text/plain": [
       "<IPython.core.display.HTML object>"
      ]
     },
     "metadata": {},
     "output_type": "display_data"
    },
    {
     "data": {
      "text/html": [
       " View run at <a href='https://wandb.ai/ed24s401-indian-institute-of-technology-madras/q4_sweep_project/runs/yz3w93q3' target=\"_blank\">https://wandb.ai/ed24s401-indian-institute-of-technology-madras/q4_sweep_project/runs/yz3w93q3</a>"
      ],
      "text/plain": [
       "<IPython.core.display.HTML object>"
      ]
     },
     "metadata": {},
     "output_type": "display_data"
    },
    {
     "name": "stdout",
     "output_type": "stream",
     "text": [
      "Epoch 1/10 - loss=178.9526, val_acc=0.6365, val_loss=1.5639065418264666\n",
      "Epoch 2/10 - loss=78.2915, val_acc=0.6220, val_loss=1.8843333711381147\n",
      "Epoch 3/10 - loss=35.2716, val_acc=0.4968, val_loss=2.1274713828394622\n",
      "Epoch 4/10 - loss=16.6689, val_acc=0.3105, val_loss=2.252135288349998\n",
      "Epoch 5/10 - loss=8.5516, val_acc=0.2068, val_loss=2.293247934839609\n",
      "Epoch 6/10 - loss=5.0033, val_acc=0.1012, val_loss=2.3013004962661965\n",
      "Epoch 7/10 - loss=3.4639, val_acc=0.1012, val_loss=2.3024416911514485\n",
      "Epoch 8/10 - loss=2.8009, val_acc=0.1012, val_loss=2.3025788102775513\n",
      "Epoch 9/10 - loss=2.5163, val_acc=0.1012, val_loss=2.3025932786234384\n",
      "Epoch 10/10 - loss=2.3942, val_acc=0.1012, val_loss=2.3025937821667575\n",
      "test accuracy  0.1\n"
     ]
    },
    {
     "data": {
      "text/html": [],
      "text/plain": [
       "<IPython.core.display.HTML object>"
      ]
     },
     "metadata": {},
     "output_type": "display_data"
    },
    {
     "data": {
      "text/html": [
       "<br>    <style><br>        .wandb-row {<br>            display: flex;<br>            flex-direction: row;<br>            flex-wrap: wrap;<br>            justify-content: flex-start;<br>            width: 100%;<br>        }<br>        .wandb-col {<br>            display: flex;<br>            flex-direction: column;<br>            flex-basis: 100%;<br>            flex: 1;<br>            padding: 10px;<br>        }<br>    </style><br><div class=\"wandb-row\"><div class=\"wandb-col\"><h3>Run history:</h3><br/><table class=\"wandb\"><tr><td>epoch</td><td>▁▂▃▃▄▅▆▆▇█</td></tr><tr><td>test_accuracy</td><td>▁</td></tr><tr><td>training_loss</td><td>█▄▂▂▁▁▁▁▁▁</td></tr><tr><td>validation loss</td><td>▁▄▆███████</td></tr><tr><td>validation_accuracy</td><td>██▆▄▂▁▁▁▁▁</td></tr></table><br/></div><div class=\"wandb-col\"><h3>Run summary:</h3><br/><table class=\"wandb\"><tr><td>epoch</td><td>10</td></tr><tr><td>test_accuracy</td><td>0.1</td></tr><tr><td>training_loss</td><td>2.39421</td></tr><tr><td>validation loss</td><td>2.30259</td></tr><tr><td>validation_accuracy</td><td>0.10117</td></tr></table><br/></div></div>"
      ],
      "text/plain": [
       "<IPython.core.display.HTML object>"
      ]
     },
     "metadata": {},
     "output_type": "display_data"
    },
    {
     "data": {
      "text/html": [
       " View run <strong style=\"color:#cdcd00\">hl_4_hs_128_bs_64_ac_tanh_opt_momentum</strong> at: <a href='https://wandb.ai/ed24s401-indian-institute-of-technology-madras/q4_sweep_project/runs/yz3w93q3' target=\"_blank\">https://wandb.ai/ed24s401-indian-institute-of-technology-madras/q4_sweep_project/runs/yz3w93q3</a><br> View project at: <a href='https://wandb.ai/ed24s401-indian-institute-of-technology-madras/q4_sweep_project' target=\"_blank\">https://wandb.ai/ed24s401-indian-institute-of-technology-madras/q4_sweep_project</a><br>Synced 5 W&B file(s), 0 media file(s), 0 artifact file(s) and 0 other file(s)"
      ],
      "text/plain": [
       "<IPython.core.display.HTML object>"
      ]
     },
     "metadata": {},
     "output_type": "display_data"
    },
    {
     "data": {
      "text/html": [
       "Find logs at: <code>.\\wandb\\run-20250317_140702-yz3w93q3\\logs</code>"
      ],
      "text/plain": [
       "<IPython.core.display.HTML object>"
      ]
     },
     "metadata": {},
     "output_type": "display_data"
    },
    {
     "name": "stderr",
     "output_type": "stream",
     "text": [
      "\u001b[34m\u001b[1mwandb\u001b[0m: Agent Starting Run: 6v7ecpkh with config:\n",
      "\u001b[34m\u001b[1mwandb\u001b[0m: \tactivation: sigmoid\n",
      "\u001b[34m\u001b[1mwandb\u001b[0m: \tbatch_size: 32\n",
      "\u001b[34m\u001b[1mwandb\u001b[0m: \tbeta1: 0.9\n",
      "\u001b[34m\u001b[1mwandb\u001b[0m: \tbeta2: 0.999\n",
      "\u001b[34m\u001b[1mwandb\u001b[0m: \tbeta_rms: 0.9\n",
      "\u001b[34m\u001b[1mwandb\u001b[0m: \tepochs: 10\n",
      "\u001b[34m\u001b[1mwandb\u001b[0m: \tepsilon: 1e-08\n",
      "\u001b[34m\u001b[1mwandb\u001b[0m: \thidden_size: 32\n",
      "\u001b[34m\u001b[1mwandb\u001b[0m: \tinit_type: random\n",
      "\u001b[34m\u001b[1mwandb\u001b[0m: \tlearning_rate: 0.0001\n",
      "\u001b[34m\u001b[1mwandb\u001b[0m: \tloss_func: cross_entropy\n",
      "\u001b[34m\u001b[1mwandb\u001b[0m: \tmomentum: 0.9\n",
      "\u001b[34m\u001b[1mwandb\u001b[0m: \tnum_hidden_layers: 3\n",
      "\u001b[34m\u001b[1mwandb\u001b[0m: \toptimizer: momentum\n",
      "\u001b[34m\u001b[1mwandb\u001b[0m: \tweight_decay: 0\n"
     ]
    },
    {
     "data": {
      "text/html": [
       "Tracking run with wandb version 0.19.8"
      ],
      "text/plain": [
       "<IPython.core.display.HTML object>"
      ]
     },
     "metadata": {},
     "output_type": "display_data"
    },
    {
     "data": {
      "text/html": [
       "Run data is saved locally in <code>c:\\Users\\acer\\OneDrive\\Documents\\GitHub\\dl_assignment_ed24s401\\wandb\\run-20250317_140823-6v7ecpkh</code>"
      ],
      "text/plain": [
       "<IPython.core.display.HTML object>"
      ]
     },
     "metadata": {},
     "output_type": "display_data"
    },
    {
     "data": {
      "text/html": [
       "Syncing run <strong><a href='https://wandb.ai/ed24s401-indian-institute-of-technology-madras/q4_sweep_project/runs/6v7ecpkh' target=\"_blank\">feasible-sweep-41</a></strong> to <a href='https://wandb.ai/ed24s401-indian-institute-of-technology-madras/q4_sweep_project' target=\"_blank\">Weights & Biases</a> (<a href='https://wandb.me/developer-guide' target=\"_blank\">docs</a>)<br>Sweep page: <a href='https://wandb.ai/ed24s401-indian-institute-of-technology-madras/q4_sweep_project/sweeps/hp8fw2uv' target=\"_blank\">https://wandb.ai/ed24s401-indian-institute-of-technology-madras/q4_sweep_project/sweeps/hp8fw2uv</a>"
      ],
      "text/plain": [
       "<IPython.core.display.HTML object>"
      ]
     },
     "metadata": {},
     "output_type": "display_data"
    },
    {
     "data": {
      "text/html": [
       " View project at <a href='https://wandb.ai/ed24s401-indian-institute-of-technology-madras/q4_sweep_project' target=\"_blank\">https://wandb.ai/ed24s401-indian-institute-of-technology-madras/q4_sweep_project</a>"
      ],
      "text/plain": [
       "<IPython.core.display.HTML object>"
      ]
     },
     "metadata": {},
     "output_type": "display_data"
    },
    {
     "data": {
      "text/html": [
       " View sweep at <a href='https://wandb.ai/ed24s401-indian-institute-of-technology-madras/q4_sweep_project/sweeps/hp8fw2uv' target=\"_blank\">https://wandb.ai/ed24s401-indian-institute-of-technology-madras/q4_sweep_project/sweeps/hp8fw2uv</a>"
      ],
      "text/plain": [
       "<IPython.core.display.HTML object>"
      ]
     },
     "metadata": {},
     "output_type": "display_data"
    },
    {
     "data": {
      "text/html": [
       " View run at <a href='https://wandb.ai/ed24s401-indian-institute-of-technology-madras/q4_sweep_project/runs/6v7ecpkh' target=\"_blank\">https://wandb.ai/ed24s401-indian-institute-of-technology-madras/q4_sweep_project/runs/6v7ecpkh</a>"
      ],
      "text/plain": [
       "<IPython.core.display.HTML object>"
      ]
     },
     "metadata": {},
     "output_type": "display_data"
    },
    {
     "name": "stdout",
     "output_type": "stream",
     "text": [
      "Epoch 1/10 - loss=2.3768, val_acc=0.1012, val_loss=2.306987796204098\n",
      "Epoch 2/10 - loss=2.2997, val_acc=0.2145, val_loss=2.2948619226716604\n",
      "Epoch 3/10 - loss=2.2924, val_acc=0.2405, val_loss=2.2896617942971518\n",
      "Epoch 4/10 - loss=2.2873, val_acc=0.2885, val_loss=2.2846203544890202\n",
      "Epoch 5/10 - loss=2.2821, val_acc=0.3178, val_loss=2.27923895793898\n",
      "Epoch 6/10 - loss=2.2767, val_acc=0.3295, val_loss=2.273486241587802\n",
      "Epoch 7/10 - loss=2.2707, val_acc=0.3203, val_loss=2.2672161444837955\n",
      "Epoch 8/10 - loss=2.2641, val_acc=0.3373, val_loss=2.260155269128498\n",
      "Epoch 9/10 - loss=2.2566, val_acc=0.3280, val_loss=2.252197730417334\n",
      "Epoch 10/10 - loss=2.2482, val_acc=0.3252, val_loss=2.24296403400351\n",
      "test accuracy  0.3195\n"
     ]
    },
    {
     "data": {
      "text/html": [],
      "text/plain": [
       "<IPython.core.display.HTML object>"
      ]
     },
     "metadata": {},
     "output_type": "display_data"
    },
    {
     "data": {
      "text/html": [
       "<br>    <style><br>        .wandb-row {<br>            display: flex;<br>            flex-direction: row;<br>            flex-wrap: wrap;<br>            justify-content: flex-start;<br>            width: 100%;<br>        }<br>        .wandb-col {<br>            display: flex;<br>            flex-direction: column;<br>            flex-basis: 100%;<br>            flex: 1;<br>            padding: 10px;<br>        }<br>    </style><br><div class=\"wandb-row\"><div class=\"wandb-col\"><h3>Run history:</h3><br/><table class=\"wandb\"><tr><td>epoch</td><td>▁▂▃▃▄▅▆▆▇█</td></tr><tr><td>test_accuracy</td><td>▁</td></tr><tr><td>training_loss</td><td>█▄▃▃▃▃▂▂▁▁</td></tr><tr><td>validation loss</td><td>█▇▆▆▅▄▄▃▂▁</td></tr><tr><td>validation_accuracy</td><td>▁▄▅▇▇█▇███</td></tr></table><br/></div><div class=\"wandb-col\"><h3>Run summary:</h3><br/><table class=\"wandb\"><tr><td>epoch</td><td>10</td></tr><tr><td>test_accuracy</td><td>0.3195</td></tr><tr><td>training_loss</td><td>2.24816</td></tr><tr><td>validation loss</td><td>2.24296</td></tr><tr><td>validation_accuracy</td><td>0.32517</td></tr></table><br/></div></div>"
      ],
      "text/plain": [
       "<IPython.core.display.HTML object>"
      ]
     },
     "metadata": {},
     "output_type": "display_data"
    },
    {
     "data": {
      "text/html": [
       " View run <strong style=\"color:#cdcd00\">hl_3_hs_32_bs_32_ac_sigmoid_opt_momentum</strong> at: <a href='https://wandb.ai/ed24s401-indian-institute-of-technology-madras/q4_sweep_project/runs/6v7ecpkh' target=\"_blank\">https://wandb.ai/ed24s401-indian-institute-of-technology-madras/q4_sweep_project/runs/6v7ecpkh</a><br> View project at: <a href='https://wandb.ai/ed24s401-indian-institute-of-technology-madras/q4_sweep_project' target=\"_blank\">https://wandb.ai/ed24s401-indian-institute-of-technology-madras/q4_sweep_project</a><br>Synced 5 W&B file(s), 0 media file(s), 0 artifact file(s) and 0 other file(s)"
      ],
      "text/plain": [
       "<IPython.core.display.HTML object>"
      ]
     },
     "metadata": {},
     "output_type": "display_data"
    },
    {
     "data": {
      "text/html": [
       "Find logs at: <code>.\\wandb\\run-20250317_140823-6v7ecpkh\\logs</code>"
      ],
      "text/plain": [
       "<IPython.core.display.HTML object>"
      ]
     },
     "metadata": {},
     "output_type": "display_data"
    },
    {
     "name": "stderr",
     "output_type": "stream",
     "text": [
      "\u001b[34m\u001b[1mwandb\u001b[0m: Agent Starting Run: 1ul7hc37 with config:\n",
      "\u001b[34m\u001b[1mwandb\u001b[0m: \tactivation: relu\n",
      "\u001b[34m\u001b[1mwandb\u001b[0m: \tbatch_size: 64\n",
      "\u001b[34m\u001b[1mwandb\u001b[0m: \tbeta1: 0.9\n",
      "\u001b[34m\u001b[1mwandb\u001b[0m: \tbeta2: 0.99\n",
      "\u001b[34m\u001b[1mwandb\u001b[0m: \tbeta_rms: 0.9\n",
      "\u001b[34m\u001b[1mwandb\u001b[0m: \tepochs: 5\n",
      "\u001b[34m\u001b[1mwandb\u001b[0m: \tepsilon: 1e-08\n",
      "\u001b[34m\u001b[1mwandb\u001b[0m: \thidden_size: 64\n",
      "\u001b[34m\u001b[1mwandb\u001b[0m: \tinit_type: random\n",
      "\u001b[34m\u001b[1mwandb\u001b[0m: \tlearning_rate: 0.001\n",
      "\u001b[34m\u001b[1mwandb\u001b[0m: \tloss_func: cross_entropy\n",
      "\u001b[34m\u001b[1mwandb\u001b[0m: \tmomentum: 0.9\n",
      "\u001b[34m\u001b[1mwandb\u001b[0m: \tnum_hidden_layers: 3\n",
      "\u001b[34m\u001b[1mwandb\u001b[0m: \toptimizer: sgd\n",
      "\u001b[34m\u001b[1mwandb\u001b[0m: \tweight_decay: 0\n"
     ]
    },
    {
     "data": {
      "text/html": [
       "creating run (0.3s)"
      ],
      "text/plain": [
       "<IPython.core.display.HTML object>"
      ]
     },
     "metadata": {},
     "output_type": "display_data"
    },
    {
     "data": {
      "text/html": [
       "Tracking run with wandb version 0.19.8"
      ],
      "text/plain": [
       "<IPython.core.display.HTML object>"
      ]
     },
     "metadata": {},
     "output_type": "display_data"
    },
    {
     "data": {
      "text/html": [
       "Run data is saved locally in <code>c:\\Users\\acer\\OneDrive\\Documents\\GitHub\\dl_assignment_ed24s401\\wandb\\run-20250317_140850-1ul7hc37</code>"
      ],
      "text/plain": [
       "<IPython.core.display.HTML object>"
      ]
     },
     "metadata": {},
     "output_type": "display_data"
    },
    {
     "data": {
      "text/html": [
       "Syncing run <strong><a href='https://wandb.ai/ed24s401-indian-institute-of-technology-madras/q4_sweep_project/runs/1ul7hc37' target=\"_blank\">ruby-sweep-42</a></strong> to <a href='https://wandb.ai/ed24s401-indian-institute-of-technology-madras/q4_sweep_project' target=\"_blank\">Weights & Biases</a> (<a href='https://wandb.me/developer-guide' target=\"_blank\">docs</a>)<br>Sweep page: <a href='https://wandb.ai/ed24s401-indian-institute-of-technology-madras/q4_sweep_project/sweeps/hp8fw2uv' target=\"_blank\">https://wandb.ai/ed24s401-indian-institute-of-technology-madras/q4_sweep_project/sweeps/hp8fw2uv</a>"
      ],
      "text/plain": [
       "<IPython.core.display.HTML object>"
      ]
     },
     "metadata": {},
     "output_type": "display_data"
    },
    {
     "data": {
      "text/html": [
       " View project at <a href='https://wandb.ai/ed24s401-indian-institute-of-technology-madras/q4_sweep_project' target=\"_blank\">https://wandb.ai/ed24s401-indian-institute-of-technology-madras/q4_sweep_project</a>"
      ],
      "text/plain": [
       "<IPython.core.display.HTML object>"
      ]
     },
     "metadata": {},
     "output_type": "display_data"
    },
    {
     "data": {
      "text/html": [
       " View sweep at <a href='https://wandb.ai/ed24s401-indian-institute-of-technology-madras/q4_sweep_project/sweeps/hp8fw2uv' target=\"_blank\">https://wandb.ai/ed24s401-indian-institute-of-technology-madras/q4_sweep_project/sweeps/hp8fw2uv</a>"
      ],
      "text/plain": [
       "<IPython.core.display.HTML object>"
      ]
     },
     "metadata": {},
     "output_type": "display_data"
    },
    {
     "data": {
      "text/html": [
       " View run at <a href='https://wandb.ai/ed24s401-indian-institute-of-technology-madras/q4_sweep_project/runs/1ul7hc37' target=\"_blank\">https://wandb.ai/ed24s401-indian-institute-of-technology-madras/q4_sweep_project/runs/1ul7hc37</a>"
      ],
      "text/plain": [
       "<IPython.core.display.HTML object>"
      ]
     },
     "metadata": {},
     "output_type": "display_data"
    },
    {
     "name": "stdout",
     "output_type": "stream",
     "text": [
      "Epoch 1/5 - loss=1.7665, val_acc=0.6318, val_loss=1.336378417111746\n",
      "Epoch 2/5 - loss=1.0931, val_acc=0.6977, val_loss=0.9313019508653809\n",
      "Epoch 3/5 - loss=0.8456, val_acc=0.7288, val_loss=0.7945521545060457\n",
      "Epoch 4/5 - loss=0.7455, val_acc=0.7500, val_loss=0.7218791109343126\n",
      "Epoch 5/5 - loss=0.6869, val_acc=0.7645, val_loss=0.6747043648236735\n",
      "test accuracy  0.7655\n"
     ]
    },
    {
     "data": {
      "text/html": [],
      "text/plain": [
       "<IPython.core.display.HTML object>"
      ]
     },
     "metadata": {},
     "output_type": "display_data"
    },
    {
     "data": {
      "text/html": [
       "<br>    <style><br>        .wandb-row {<br>            display: flex;<br>            flex-direction: row;<br>            flex-wrap: wrap;<br>            justify-content: flex-start;<br>            width: 100%;<br>        }<br>        .wandb-col {<br>            display: flex;<br>            flex-direction: column;<br>            flex-basis: 100%;<br>            flex: 1;<br>            padding: 10px;<br>        }<br>    </style><br><div class=\"wandb-row\"><div class=\"wandb-col\"><h3>Run history:</h3><br/><table class=\"wandb\"><tr><td>epoch</td><td>▁▃▅▆█</td></tr><tr><td>test_accuracy</td><td>▁</td></tr><tr><td>training_loss</td><td>█▄▂▁▁</td></tr><tr><td>validation loss</td><td>█▄▂▁▁</td></tr><tr><td>validation_accuracy</td><td>▁▄▆▇█</td></tr></table><br/></div><div class=\"wandb-col\"><h3>Run summary:</h3><br/><table class=\"wandb\"><tr><td>epoch</td><td>5</td></tr><tr><td>test_accuracy</td><td>0.7655</td></tr><tr><td>training_loss</td><td>0.68692</td></tr><tr><td>validation loss</td><td>0.6747</td></tr><tr><td>validation_accuracy</td><td>0.7645</td></tr></table><br/></div></div>"
      ],
      "text/plain": [
       "<IPython.core.display.HTML object>"
      ]
     },
     "metadata": {},
     "output_type": "display_data"
    },
    {
     "data": {
      "text/html": [
       " View run <strong style=\"color:#cdcd00\">hl_3_hs_64_bs_64_ac_relu_opt_sgd</strong> at: <a href='https://wandb.ai/ed24s401-indian-institute-of-technology-madras/q4_sweep_project/runs/1ul7hc37' target=\"_blank\">https://wandb.ai/ed24s401-indian-institute-of-technology-madras/q4_sweep_project/runs/1ul7hc37</a><br> View project at: <a href='https://wandb.ai/ed24s401-indian-institute-of-technology-madras/q4_sweep_project' target=\"_blank\">https://wandb.ai/ed24s401-indian-institute-of-technology-madras/q4_sweep_project</a><br>Synced 5 W&B file(s), 0 media file(s), 0 artifact file(s) and 0 other file(s)"
      ],
      "text/plain": [
       "<IPython.core.display.HTML object>"
      ]
     },
     "metadata": {},
     "output_type": "display_data"
    },
    {
     "data": {
      "text/html": [
       "Find logs at: <code>.\\wandb\\run-20250317_140850-1ul7hc37\\logs</code>"
      ],
      "text/plain": [
       "<IPython.core.display.HTML object>"
      ]
     },
     "metadata": {},
     "output_type": "display_data"
    },
    {
     "name": "stderr",
     "output_type": "stream",
     "text": [
      "\u001b[34m\u001b[1mwandb\u001b[0m: Agent Starting Run: omdhsns3 with config:\n",
      "\u001b[34m\u001b[1mwandb\u001b[0m: \tactivation: relu\n",
      "\u001b[34m\u001b[1mwandb\u001b[0m: \tbatch_size: 16\n",
      "\u001b[34m\u001b[1mwandb\u001b[0m: \tbeta1: 0.9\n",
      "\u001b[34m\u001b[1mwandb\u001b[0m: \tbeta2: 0.99\n",
      "\u001b[34m\u001b[1mwandb\u001b[0m: \tbeta_rms: 0.9\n",
      "\u001b[34m\u001b[1mwandb\u001b[0m: \tepochs: 5\n",
      "\u001b[34m\u001b[1mwandb\u001b[0m: \tepsilon: 1e-08\n",
      "\u001b[34m\u001b[1mwandb\u001b[0m: \thidden_size: 64\n",
      "\u001b[34m\u001b[1mwandb\u001b[0m: \tinit_type: xavier\n",
      "\u001b[34m\u001b[1mwandb\u001b[0m: \tlearning_rate: 0.0001\n",
      "\u001b[34m\u001b[1mwandb\u001b[0m: \tloss_func: cross_entropy\n",
      "\u001b[34m\u001b[1mwandb\u001b[0m: \tmomentum: 0.9\n",
      "\u001b[34m\u001b[1mwandb\u001b[0m: \tnum_hidden_layers: 4\n",
      "\u001b[34m\u001b[1mwandb\u001b[0m: \toptimizer: rmsprop\n",
      "\u001b[34m\u001b[1mwandb\u001b[0m: \tweight_decay: 0.0005\n"
     ]
    },
    {
     "data": {
      "text/html": [
       "creating run (0.4s)"
      ],
      "text/plain": [
       "<IPython.core.display.HTML object>"
      ]
     },
     "metadata": {},
     "output_type": "display_data"
    },
    {
     "data": {
      "text/html": [
       "Tracking run with wandb version 0.19.8"
      ],
      "text/plain": [
       "<IPython.core.display.HTML object>"
      ]
     },
     "metadata": {},
     "output_type": "display_data"
    },
    {
     "data": {
      "text/html": [
       "Run data is saved locally in <code>c:\\Users\\acer\\OneDrive\\Documents\\GitHub\\dl_assignment_ed24s401\\wandb\\run-20250317_140910-omdhsns3</code>"
      ],
      "text/plain": [
       "<IPython.core.display.HTML object>"
      ]
     },
     "metadata": {},
     "output_type": "display_data"
    },
    {
     "data": {
      "text/html": [
       "Syncing run <strong><a href='https://wandb.ai/ed24s401-indian-institute-of-technology-madras/q4_sweep_project/runs/omdhsns3' target=\"_blank\">northern-sweep-43</a></strong> to <a href='https://wandb.ai/ed24s401-indian-institute-of-technology-madras/q4_sweep_project' target=\"_blank\">Weights & Biases</a> (<a href='https://wandb.me/developer-guide' target=\"_blank\">docs</a>)<br>Sweep page: <a href='https://wandb.ai/ed24s401-indian-institute-of-technology-madras/q4_sweep_project/sweeps/hp8fw2uv' target=\"_blank\">https://wandb.ai/ed24s401-indian-institute-of-technology-madras/q4_sweep_project/sweeps/hp8fw2uv</a>"
      ],
      "text/plain": [
       "<IPython.core.display.HTML object>"
      ]
     },
     "metadata": {},
     "output_type": "display_data"
    },
    {
     "data": {
      "text/html": [
       " View project at <a href='https://wandb.ai/ed24s401-indian-institute-of-technology-madras/q4_sweep_project' target=\"_blank\">https://wandb.ai/ed24s401-indian-institute-of-technology-madras/q4_sweep_project</a>"
      ],
      "text/plain": [
       "<IPython.core.display.HTML object>"
      ]
     },
     "metadata": {},
     "output_type": "display_data"
    },
    {
     "data": {
      "text/html": [
       " View sweep at <a href='https://wandb.ai/ed24s401-indian-institute-of-technology-madras/q4_sweep_project/sweeps/hp8fw2uv' target=\"_blank\">https://wandb.ai/ed24s401-indian-institute-of-technology-madras/q4_sweep_project/sweeps/hp8fw2uv</a>"
      ],
      "text/plain": [
       "<IPython.core.display.HTML object>"
      ]
     },
     "metadata": {},
     "output_type": "display_data"
    },
    {
     "data": {
      "text/html": [
       " View run at <a href='https://wandb.ai/ed24s401-indian-institute-of-technology-madras/q4_sweep_project/runs/omdhsns3' target=\"_blank\">https://wandb.ai/ed24s401-indian-institute-of-technology-madras/q4_sweep_project/runs/omdhsns3</a>"
      ],
      "text/plain": [
       "<IPython.core.display.HTML object>"
      ]
     },
     "metadata": {},
     "output_type": "display_data"
    },
    {
     "name": "stdout",
     "output_type": "stream",
     "text": [
      "Epoch 1/5 - loss=0.8077, val_acc=0.8110, val_loss=0.5413536450032422\n",
      "Epoch 2/5 - loss=0.5378, val_acc=0.8417, val_loss=0.4509334537312352\n",
      "Epoch 3/5 - loss=0.4889, val_acc=0.8442, val_loss=0.4441127236756074\n",
      "Epoch 4/5 - loss=0.4636, val_acc=0.8428, val_loss=0.4321760932756502\n",
      "Epoch 5/5 - loss=0.4467, val_acc=0.8535, val_loss=0.40151655060508284\n",
      "test accuracy  0.8472\n"
     ]
    },
    {
     "data": {
      "text/html": [],
      "text/plain": [
       "<IPython.core.display.HTML object>"
      ]
     },
     "metadata": {},
     "output_type": "display_data"
    },
    {
     "data": {
      "text/html": [
       "<br>    <style><br>        .wandb-row {<br>            display: flex;<br>            flex-direction: row;<br>            flex-wrap: wrap;<br>            justify-content: flex-start;<br>            width: 100%;<br>        }<br>        .wandb-col {<br>            display: flex;<br>            flex-direction: column;<br>            flex-basis: 100%;<br>            flex: 1;<br>            padding: 10px;<br>        }<br>    </style><br><div class=\"wandb-row\"><div class=\"wandb-col\"><h3>Run history:</h3><br/><table class=\"wandb\"><tr><td>epoch</td><td>▁▃▅▆█</td></tr><tr><td>test_accuracy</td><td>▁</td></tr><tr><td>training_loss</td><td>█▃▂▁▁</td></tr><tr><td>validation loss</td><td>█▃▃▃▁</td></tr><tr><td>validation_accuracy</td><td>▁▆▆▆█</td></tr></table><br/></div><div class=\"wandb-col\"><h3>Run summary:</h3><br/><table class=\"wandb\"><tr><td>epoch</td><td>5</td></tr><tr><td>test_accuracy</td><td>0.8472</td></tr><tr><td>training_loss</td><td>0.44674</td></tr><tr><td>validation loss</td><td>0.40152</td></tr><tr><td>validation_accuracy</td><td>0.8535</td></tr></table><br/></div></div>"
      ],
      "text/plain": [
       "<IPython.core.display.HTML object>"
      ]
     },
     "metadata": {},
     "output_type": "display_data"
    },
    {
     "data": {
      "text/html": [
       " View run <strong style=\"color:#cdcd00\">hl_4_hs_64_bs_16_ac_relu_opt_rmsprop</strong> at: <a href='https://wandb.ai/ed24s401-indian-institute-of-technology-madras/q4_sweep_project/runs/omdhsns3' target=\"_blank\">https://wandb.ai/ed24s401-indian-institute-of-technology-madras/q4_sweep_project/runs/omdhsns3</a><br> View project at: <a href='https://wandb.ai/ed24s401-indian-institute-of-technology-madras/q4_sweep_project' target=\"_blank\">https://wandb.ai/ed24s401-indian-institute-of-technology-madras/q4_sweep_project</a><br>Synced 5 W&B file(s), 0 media file(s), 0 artifact file(s) and 0 other file(s)"
      ],
      "text/plain": [
       "<IPython.core.display.HTML object>"
      ]
     },
     "metadata": {},
     "output_type": "display_data"
    },
    {
     "data": {
      "text/html": [
       "Find logs at: <code>.\\wandb\\run-20250317_140910-omdhsns3\\logs</code>"
      ],
      "text/plain": [
       "<IPython.core.display.HTML object>"
      ]
     },
     "metadata": {},
     "output_type": "display_data"
    },
    {
     "name": "stderr",
     "output_type": "stream",
     "text": [
      "\u001b[34m\u001b[1mwandb\u001b[0m: Agent Starting Run: htbtycon with config:\n",
      "\u001b[34m\u001b[1mwandb\u001b[0m: \tactivation: sigmoid\n",
      "\u001b[34m\u001b[1mwandb\u001b[0m: \tbatch_size: 64\n",
      "\u001b[34m\u001b[1mwandb\u001b[0m: \tbeta1: 0.9\n",
      "\u001b[34m\u001b[1mwandb\u001b[0m: \tbeta2: 0.999\n",
      "\u001b[34m\u001b[1mwandb\u001b[0m: \tbeta_rms: 0.9\n",
      "\u001b[34m\u001b[1mwandb\u001b[0m: \tepochs: 5\n",
      "\u001b[34m\u001b[1mwandb\u001b[0m: \tepsilon: 1e-08\n",
      "\u001b[34m\u001b[1mwandb\u001b[0m: \thidden_size: 64\n",
      "\u001b[34m\u001b[1mwandb\u001b[0m: \tinit_type: xavier\n",
      "\u001b[34m\u001b[1mwandb\u001b[0m: \tlearning_rate: 0.001\n",
      "\u001b[34m\u001b[1mwandb\u001b[0m: \tloss_func: cross_entropy\n",
      "\u001b[34m\u001b[1mwandb\u001b[0m: \tmomentum: 0.9\n",
      "\u001b[34m\u001b[1mwandb\u001b[0m: \tnum_hidden_layers: 4\n",
      "\u001b[34m\u001b[1mwandb\u001b[0m: \toptimizer: adam\n",
      "\u001b[34m\u001b[1mwandb\u001b[0m: \tweight_decay: 0.0005\n"
     ]
    },
    {
     "data": {
      "text/html": [
       "Tracking run with wandb version 0.19.8"
      ],
      "text/plain": [
       "<IPython.core.display.HTML object>"
      ]
     },
     "metadata": {},
     "output_type": "display_data"
    },
    {
     "data": {
      "text/html": [
       "Run data is saved locally in <code>c:\\Users\\acer\\OneDrive\\Documents\\GitHub\\dl_assignment_ed24s401\\wandb\\run-20250317_141003-htbtycon</code>"
      ],
      "text/plain": [
       "<IPython.core.display.HTML object>"
      ]
     },
     "metadata": {},
     "output_type": "display_data"
    },
    {
     "data": {
      "text/html": [
       "Syncing run <strong><a href='https://wandb.ai/ed24s401-indian-institute-of-technology-madras/q4_sweep_project/runs/htbtycon' target=\"_blank\">earnest-sweep-44</a></strong> to <a href='https://wandb.ai/ed24s401-indian-institute-of-technology-madras/q4_sweep_project' target=\"_blank\">Weights & Biases</a> (<a href='https://wandb.me/developer-guide' target=\"_blank\">docs</a>)<br>Sweep page: <a href='https://wandb.ai/ed24s401-indian-institute-of-technology-madras/q4_sweep_project/sweeps/hp8fw2uv' target=\"_blank\">https://wandb.ai/ed24s401-indian-institute-of-technology-madras/q4_sweep_project/sweeps/hp8fw2uv</a>"
      ],
      "text/plain": [
       "<IPython.core.display.HTML object>"
      ]
     },
     "metadata": {},
     "output_type": "display_data"
    },
    {
     "data": {
      "text/html": [
       " View project at <a href='https://wandb.ai/ed24s401-indian-institute-of-technology-madras/q4_sweep_project' target=\"_blank\">https://wandb.ai/ed24s401-indian-institute-of-technology-madras/q4_sweep_project</a>"
      ],
      "text/plain": [
       "<IPython.core.display.HTML object>"
      ]
     },
     "metadata": {},
     "output_type": "display_data"
    },
    {
     "data": {
      "text/html": [
       " View sweep at <a href='https://wandb.ai/ed24s401-indian-institute-of-technology-madras/q4_sweep_project/sweeps/hp8fw2uv' target=\"_blank\">https://wandb.ai/ed24s401-indian-institute-of-technology-madras/q4_sweep_project/sweeps/hp8fw2uv</a>"
      ],
      "text/plain": [
       "<IPython.core.display.HTML object>"
      ]
     },
     "metadata": {},
     "output_type": "display_data"
    },
    {
     "data": {
      "text/html": [
       " View run at <a href='https://wandb.ai/ed24s401-indian-institute-of-technology-madras/q4_sweep_project/runs/htbtycon' target=\"_blank\">https://wandb.ai/ed24s401-indian-institute-of-technology-madras/q4_sweep_project/runs/htbtycon</a>"
      ],
      "text/plain": [
       "<IPython.core.display.HTML object>"
      ]
     },
     "metadata": {},
     "output_type": "display_data"
    },
    {
     "name": "stdout",
     "output_type": "stream",
     "text": [
      "Epoch 1/5 - loss=1.3567, val_acc=0.6945, val_loss=0.8251701735394275\n",
      "Epoch 2/5 - loss=0.8386, val_acc=0.7732, val_loss=0.630065635048164\n",
      "Epoch 3/5 - loss=0.7397, val_acc=0.8027, val_loss=0.5494110044115831\n",
      "Epoch 4/5 - loss=0.6868, val_acc=0.8162, val_loss=0.5199589377858157\n",
      "Epoch 5/5 - loss=0.6512, val_acc=0.8247, val_loss=0.49032905845994407\n",
      "test accuracy  0.8246\n"
     ]
    },
    {
     "data": {
      "text/html": [],
      "text/plain": [
       "<IPython.core.display.HTML object>"
      ]
     },
     "metadata": {},
     "output_type": "display_data"
    },
    {
     "data": {
      "text/html": [
       "<br>    <style><br>        .wandb-row {<br>            display: flex;<br>            flex-direction: row;<br>            flex-wrap: wrap;<br>            justify-content: flex-start;<br>            width: 100%;<br>        }<br>        .wandb-col {<br>            display: flex;<br>            flex-direction: column;<br>            flex-basis: 100%;<br>            flex: 1;<br>            padding: 10px;<br>        }<br>    </style><br><div class=\"wandb-row\"><div class=\"wandb-col\"><h3>Run history:</h3><br/><table class=\"wandb\"><tr><td>epoch</td><td>▁▃▅▆█</td></tr><tr><td>test_accuracy</td><td>▁</td></tr><tr><td>training_loss</td><td>█▃▂▁▁</td></tr><tr><td>validation loss</td><td>█▄▂▂▁</td></tr><tr><td>validation_accuracy</td><td>▁▅▇██</td></tr></table><br/></div><div class=\"wandb-col\"><h3>Run summary:</h3><br/><table class=\"wandb\"><tr><td>epoch</td><td>5</td></tr><tr><td>test_accuracy</td><td>0.8246</td></tr><tr><td>training_loss</td><td>0.6512</td></tr><tr><td>validation loss</td><td>0.49033</td></tr><tr><td>validation_accuracy</td><td>0.82467</td></tr></table><br/></div></div>"
      ],
      "text/plain": [
       "<IPython.core.display.HTML object>"
      ]
     },
     "metadata": {},
     "output_type": "display_data"
    },
    {
     "data": {
      "text/html": [
       " View run <strong style=\"color:#cdcd00\">hl_4_hs_64_bs_64_ac_sigmoid_opt_adam</strong> at: <a href='https://wandb.ai/ed24s401-indian-institute-of-technology-madras/q4_sweep_project/runs/htbtycon' target=\"_blank\">https://wandb.ai/ed24s401-indian-institute-of-technology-madras/q4_sweep_project/runs/htbtycon</a><br> View project at: <a href='https://wandb.ai/ed24s401-indian-institute-of-technology-madras/q4_sweep_project' target=\"_blank\">https://wandb.ai/ed24s401-indian-institute-of-technology-madras/q4_sweep_project</a><br>Synced 5 W&B file(s), 0 media file(s), 0 artifact file(s) and 0 other file(s)"
      ],
      "text/plain": [
       "<IPython.core.display.HTML object>"
      ]
     },
     "metadata": {},
     "output_type": "display_data"
    },
    {
     "data": {
      "text/html": [
       "Find logs at: <code>.\\wandb\\run-20250317_141003-htbtycon\\logs</code>"
      ],
      "text/plain": [
       "<IPython.core.display.HTML object>"
      ]
     },
     "metadata": {},
     "output_type": "display_data"
    },
    {
     "name": "stderr",
     "output_type": "stream",
     "text": [
      "\u001b[34m\u001b[1mwandb\u001b[0m: Agent Starting Run: 9unmkfj0 with config:\n",
      "\u001b[34m\u001b[1mwandb\u001b[0m: \tactivation: tanh\n",
      "\u001b[34m\u001b[1mwandb\u001b[0m: \tbatch_size: 16\n",
      "\u001b[34m\u001b[1mwandb\u001b[0m: \tbeta1: 0.9\n",
      "\u001b[34m\u001b[1mwandb\u001b[0m: \tbeta2: 0.99\n",
      "\u001b[34m\u001b[1mwandb\u001b[0m: \tbeta_rms: 0.9\n",
      "\u001b[34m\u001b[1mwandb\u001b[0m: \tepochs: 10\n",
      "\u001b[34m\u001b[1mwandb\u001b[0m: \tepsilon: 1e-08\n",
      "\u001b[34m\u001b[1mwandb\u001b[0m: \thidden_size: 128\n",
      "\u001b[34m\u001b[1mwandb\u001b[0m: \tinit_type: xavier\n",
      "\u001b[34m\u001b[1mwandb\u001b[0m: \tlearning_rate: 0.0001\n",
      "\u001b[34m\u001b[1mwandb\u001b[0m: \tloss_func: cross_entropy\n",
      "\u001b[34m\u001b[1mwandb\u001b[0m: \tmomentum: 0.9\n",
      "\u001b[34m\u001b[1mwandb\u001b[0m: \tnum_hidden_layers: 5\n",
      "\u001b[34m\u001b[1mwandb\u001b[0m: \toptimizer: rmsprop\n",
      "\u001b[34m\u001b[1mwandb\u001b[0m: \tweight_decay: 0.0005\n"
     ]
    },
    {
     "data": {
      "text/html": [],
      "text/plain": [
       "<IPython.core.display.HTML object>"
      ]
     },
     "metadata": {},
     "output_type": "display_data"
    },
    {
     "data": {
      "text/html": [
       "Tracking run with wandb version 0.19.8"
      ],
      "text/plain": [
       "<IPython.core.display.HTML object>"
      ]
     },
     "metadata": {},
     "output_type": "display_data"
    },
    {
     "data": {
      "text/html": [
       "Run data is saved locally in <code>c:\\Users\\acer\\OneDrive\\Documents\\GitHub\\dl_assignment_ed24s401\\wandb\\run-20250317_141035-9unmkfj0</code>"
      ],
      "text/plain": [
       "<IPython.core.display.HTML object>"
      ]
     },
     "metadata": {},
     "output_type": "display_data"
    },
    {
     "data": {
      "text/html": [
       "Syncing run <strong><a href='https://wandb.ai/ed24s401-indian-institute-of-technology-madras/q4_sweep_project/runs/9unmkfj0' target=\"_blank\">graceful-sweep-45</a></strong> to <a href='https://wandb.ai/ed24s401-indian-institute-of-technology-madras/q4_sweep_project' target=\"_blank\">Weights & Biases</a> (<a href='https://wandb.me/developer-guide' target=\"_blank\">docs</a>)<br>Sweep page: <a href='https://wandb.ai/ed24s401-indian-institute-of-technology-madras/q4_sweep_project/sweeps/hp8fw2uv' target=\"_blank\">https://wandb.ai/ed24s401-indian-institute-of-technology-madras/q4_sweep_project/sweeps/hp8fw2uv</a>"
      ],
      "text/plain": [
       "<IPython.core.display.HTML object>"
      ]
     },
     "metadata": {},
     "output_type": "display_data"
    },
    {
     "data": {
      "text/html": [
       " View project at <a href='https://wandb.ai/ed24s401-indian-institute-of-technology-madras/q4_sweep_project' target=\"_blank\">https://wandb.ai/ed24s401-indian-institute-of-technology-madras/q4_sweep_project</a>"
      ],
      "text/plain": [
       "<IPython.core.display.HTML object>"
      ]
     },
     "metadata": {},
     "output_type": "display_data"
    },
    {
     "data": {
      "text/html": [
       " View sweep at <a href='https://wandb.ai/ed24s401-indian-institute-of-technology-madras/q4_sweep_project/sweeps/hp8fw2uv' target=\"_blank\">https://wandb.ai/ed24s401-indian-institute-of-technology-madras/q4_sweep_project/sweeps/hp8fw2uv</a>"
      ],
      "text/plain": [
       "<IPython.core.display.HTML object>"
      ]
     },
     "metadata": {},
     "output_type": "display_data"
    },
    {
     "data": {
      "text/html": [
       " View run at <a href='https://wandb.ai/ed24s401-indian-institute-of-technology-madras/q4_sweep_project/runs/9unmkfj0' target=\"_blank\">https://wandb.ai/ed24s401-indian-institute-of-technology-madras/q4_sweep_project/runs/9unmkfj0</a>"
      ],
      "text/plain": [
       "<IPython.core.display.HTML object>"
      ]
     },
     "metadata": {},
     "output_type": "display_data"
    },
    {
     "name": "stdout",
     "output_type": "stream",
     "text": [
      "Epoch 1/10 - loss=0.7227, val_acc=0.8290, val_loss=0.45354602732363536\n",
      "Epoch 2/10 - loss=0.5713, val_acc=0.8507, val_loss=0.40222099882764967\n",
      "Epoch 3/10 - loss=0.5358, val_acc=0.8538, val_loss=0.3988533429042631\n",
      "Epoch 4/10 - loss=0.5122, val_acc=0.8645, val_loss=0.3672086236594939\n",
      "Epoch 5/10 - loss=0.4940, val_acc=0.8628, val_loss=0.36710327249491176\n",
      "Epoch 6/10 - loss=0.4791, val_acc=0.8693, val_loss=0.35236298323966914\n",
      "Epoch 7/10 - loss=0.4672, val_acc=0.8715, val_loss=0.34643250654808705\n",
      "Epoch 8/10 - loss=0.4554, val_acc=0.8740, val_loss=0.344599798560596\n",
      "Epoch 9/10 - loss=0.4453, val_acc=0.8660, val_loss=0.3512388237806435\n",
      "Epoch 10/10 - loss=0.4370, val_acc=0.8713, val_loss=0.34149264209441826\n",
      "test accuracy  0.8671\n"
     ]
    },
    {
     "data": {
      "text/html": [],
      "text/plain": [
       "<IPython.core.display.HTML object>"
      ]
     },
     "metadata": {},
     "output_type": "display_data"
    },
    {
     "data": {
      "text/html": [
       "<br>    <style><br>        .wandb-row {<br>            display: flex;<br>            flex-direction: row;<br>            flex-wrap: wrap;<br>            justify-content: flex-start;<br>            width: 100%;<br>        }<br>        .wandb-col {<br>            display: flex;<br>            flex-direction: column;<br>            flex-basis: 100%;<br>            flex: 1;<br>            padding: 10px;<br>        }<br>    </style><br><div class=\"wandb-row\"><div class=\"wandb-col\"><h3>Run history:</h3><br/><table class=\"wandb\"><tr><td>epoch</td><td>▁▂▃▃▄▅▆▆▇█</td></tr><tr><td>test_accuracy</td><td>▁</td></tr><tr><td>training_loss</td><td>█▄▃▃▂▂▂▁▁▁</td></tr><tr><td>validation loss</td><td>█▅▅▃▃▂▁▁▂▁</td></tr><tr><td>validation_accuracy</td><td>▁▄▅▇▆▇██▇█</td></tr></table><br/></div><div class=\"wandb-col\"><h3>Run summary:</h3><br/><table class=\"wandb\"><tr><td>epoch</td><td>10</td></tr><tr><td>test_accuracy</td><td>0.8671</td></tr><tr><td>training_loss</td><td>0.43697</td></tr><tr><td>validation loss</td><td>0.34149</td></tr><tr><td>validation_accuracy</td><td>0.87133</td></tr></table><br/></div></div>"
      ],
      "text/plain": [
       "<IPython.core.display.HTML object>"
      ]
     },
     "metadata": {},
     "output_type": "display_data"
    },
    {
     "data": {
      "text/html": [
       " View run <strong style=\"color:#cdcd00\">hl_5_hs_128_bs_16_ac_tanh_opt_rmsprop</strong> at: <a href='https://wandb.ai/ed24s401-indian-institute-of-technology-madras/q4_sweep_project/runs/9unmkfj0' target=\"_blank\">https://wandb.ai/ed24s401-indian-institute-of-technology-madras/q4_sweep_project/runs/9unmkfj0</a><br> View project at: <a href='https://wandb.ai/ed24s401-indian-institute-of-technology-madras/q4_sweep_project' target=\"_blank\">https://wandb.ai/ed24s401-indian-institute-of-technology-madras/q4_sweep_project</a><br>Synced 5 W&B file(s), 0 media file(s), 0 artifact file(s) and 0 other file(s)"
      ],
      "text/plain": [
       "<IPython.core.display.HTML object>"
      ]
     },
     "metadata": {},
     "output_type": "display_data"
    },
    {
     "data": {
      "text/html": [
       "Find logs at: <code>.\\wandb\\run-20250317_141035-9unmkfj0\\logs</code>"
      ],
      "text/plain": [
       "<IPython.core.display.HTML object>"
      ]
     },
     "metadata": {},
     "output_type": "display_data"
    },
    {
     "name": "stderr",
     "output_type": "stream",
     "text": [
      "\u001b[34m\u001b[1mwandb\u001b[0m: Agent Starting Run: r901kcch with config:\n",
      "\u001b[34m\u001b[1mwandb\u001b[0m: \tactivation: relu\n",
      "\u001b[34m\u001b[1mwandb\u001b[0m: \tbatch_size: 64\n",
      "\u001b[34m\u001b[1mwandb\u001b[0m: \tbeta1: 0.9\n",
      "\u001b[34m\u001b[1mwandb\u001b[0m: \tbeta2: 0.99\n",
      "\u001b[34m\u001b[1mwandb\u001b[0m: \tbeta_rms: 0.9\n",
      "\u001b[34m\u001b[1mwandb\u001b[0m: \tepochs: 10\n",
      "\u001b[34m\u001b[1mwandb\u001b[0m: \tepsilon: 1e-08\n",
      "\u001b[34m\u001b[1mwandb\u001b[0m: \thidden_size: 128\n",
      "\u001b[34m\u001b[1mwandb\u001b[0m: \tinit_type: xavier\n",
      "\u001b[34m\u001b[1mwandb\u001b[0m: \tlearning_rate: 0.0001\n",
      "\u001b[34m\u001b[1mwandb\u001b[0m: \tloss_func: cross_entropy\n",
      "\u001b[34m\u001b[1mwandb\u001b[0m: \tmomentum: 0.9\n",
      "\u001b[34m\u001b[1mwandb\u001b[0m: \tnum_hidden_layers: 5\n",
      "\u001b[34m\u001b[1mwandb\u001b[0m: \toptimizer: sgd\n",
      "\u001b[34m\u001b[1mwandb\u001b[0m: \tweight_decay: 0\n"
     ]
    },
    {
     "data": {
      "text/html": [
       "creating run (0.3s)"
      ],
      "text/plain": [
       "<IPython.core.display.HTML object>"
      ]
     },
     "metadata": {},
     "output_type": "display_data"
    },
    {
     "data": {
      "text/html": [
       "Tracking run with wandb version 0.19.8"
      ],
      "text/plain": [
       "<IPython.core.display.HTML object>"
      ]
     },
     "metadata": {},
     "output_type": "display_data"
    },
    {
     "data": {
      "text/html": [
       "Run data is saved locally in <code>c:\\Users\\acer\\OneDrive\\Documents\\GitHub\\dl_assignment_ed24s401\\wandb\\run-20250317_141500-r901kcch</code>"
      ],
      "text/plain": [
       "<IPython.core.display.HTML object>"
      ]
     },
     "metadata": {},
     "output_type": "display_data"
    },
    {
     "data": {
      "text/html": [
       "Syncing run <strong><a href='https://wandb.ai/ed24s401-indian-institute-of-technology-madras/q4_sweep_project/runs/r901kcch' target=\"_blank\">fine-sweep-46</a></strong> to <a href='https://wandb.ai/ed24s401-indian-institute-of-technology-madras/q4_sweep_project' target=\"_blank\">Weights & Biases</a> (<a href='https://wandb.me/developer-guide' target=\"_blank\">docs</a>)<br>Sweep page: <a href='https://wandb.ai/ed24s401-indian-institute-of-technology-madras/q4_sweep_project/sweeps/hp8fw2uv' target=\"_blank\">https://wandb.ai/ed24s401-indian-institute-of-technology-madras/q4_sweep_project/sweeps/hp8fw2uv</a>"
      ],
      "text/plain": [
       "<IPython.core.display.HTML object>"
      ]
     },
     "metadata": {},
     "output_type": "display_data"
    },
    {
     "data": {
      "text/html": [
       " View project at <a href='https://wandb.ai/ed24s401-indian-institute-of-technology-madras/q4_sweep_project' target=\"_blank\">https://wandb.ai/ed24s401-indian-institute-of-technology-madras/q4_sweep_project</a>"
      ],
      "text/plain": [
       "<IPython.core.display.HTML object>"
      ]
     },
     "metadata": {},
     "output_type": "display_data"
    },
    {
     "data": {
      "text/html": [
       " View sweep at <a href='https://wandb.ai/ed24s401-indian-institute-of-technology-madras/q4_sweep_project/sweeps/hp8fw2uv' target=\"_blank\">https://wandb.ai/ed24s401-indian-institute-of-technology-madras/q4_sweep_project/sweeps/hp8fw2uv</a>"
      ],
      "text/plain": [
       "<IPython.core.display.HTML object>"
      ]
     },
     "metadata": {},
     "output_type": "display_data"
    },
    {
     "data": {
      "text/html": [
       " View run at <a href='https://wandb.ai/ed24s401-indian-institute-of-technology-madras/q4_sweep_project/runs/r901kcch' target=\"_blank\">https://wandb.ai/ed24s401-indian-institute-of-technology-madras/q4_sweep_project/runs/r901kcch</a>"
      ],
      "text/plain": [
       "<IPython.core.display.HTML object>"
      ]
     },
     "metadata": {},
     "output_type": "display_data"
    },
    {
     "name": "stdout",
     "output_type": "stream",
     "text": [
      "Epoch 1/10 - loss=2.2937, val_acc=0.1220, val_loss=2.2871056593020054\n",
      "Epoch 2/10 - loss=2.2805, val_acc=0.1602, val_loss=2.275130705670482\n",
      "Epoch 3/10 - loss=2.2687, val_acc=0.1767, val_loss=2.2636481932458117\n",
      "Epoch 4/10 - loss=2.2571, val_acc=0.1847, val_loss=2.2519324059570107\n",
      "Epoch 5/10 - loss=2.2450, val_acc=0.1878, val_loss=2.2396083425000723\n",
      "Epoch 6/10 - loss=2.2322, val_acc=0.1983, val_loss=2.226283642696734\n",
      "Epoch 7/10 - loss=2.2182, val_acc=0.2087, val_loss=2.211726596237313\n",
      "Epoch 8/10 - loss=2.2030, val_acc=0.2222, val_loss=2.1958133164969804\n",
      "Epoch 9/10 - loss=2.1863, val_acc=0.2385, val_loss=2.1782475198377216\n",
      "Epoch 10/10 - loss=2.1677, val_acc=0.2555, val_loss=2.1588063213750472\n",
      "test accuracy  0.2547\n"
     ]
    },
    {
     "data": {
      "text/html": [],
      "text/plain": [
       "<IPython.core.display.HTML object>"
      ]
     },
     "metadata": {},
     "output_type": "display_data"
    },
    {
     "data": {
      "text/html": [
       "<br>    <style><br>        .wandb-row {<br>            display: flex;<br>            flex-direction: row;<br>            flex-wrap: wrap;<br>            justify-content: flex-start;<br>            width: 100%;<br>        }<br>        .wandb-col {<br>            display: flex;<br>            flex-direction: column;<br>            flex-basis: 100%;<br>            flex: 1;<br>            padding: 10px;<br>        }<br>    </style><br><div class=\"wandb-row\"><div class=\"wandb-col\"><h3>Run history:</h3><br/><table class=\"wandb\"><tr><td>epoch</td><td>▁▂▃▃▄▅▆▆▇█</td></tr><tr><td>test_accuracy</td><td>▁</td></tr><tr><td>training_loss</td><td>█▇▇▆▅▅▄▃▂▁</td></tr><tr><td>validation loss</td><td>█▇▇▆▅▅▄▃▂▁</td></tr><tr><td>validation_accuracy</td><td>▁▃▄▄▄▅▆▆▇█</td></tr></table><br/></div><div class=\"wandb-col\"><h3>Run summary:</h3><br/><table class=\"wandb\"><tr><td>epoch</td><td>10</td></tr><tr><td>test_accuracy</td><td>0.2547</td></tr><tr><td>training_loss</td><td>2.16775</td></tr><tr><td>validation loss</td><td>2.15881</td></tr><tr><td>validation_accuracy</td><td>0.2555</td></tr></table><br/></div></div>"
      ],
      "text/plain": [
       "<IPython.core.display.HTML object>"
      ]
     },
     "metadata": {},
     "output_type": "display_data"
    },
    {
     "data": {
      "text/html": [
       " View run <strong style=\"color:#cdcd00\">hl_5_hs_128_bs_64_ac_relu_opt_sgd</strong> at: <a href='https://wandb.ai/ed24s401-indian-institute-of-technology-madras/q4_sweep_project/runs/r901kcch' target=\"_blank\">https://wandb.ai/ed24s401-indian-institute-of-technology-madras/q4_sweep_project/runs/r901kcch</a><br> View project at: <a href='https://wandb.ai/ed24s401-indian-institute-of-technology-madras/q4_sweep_project' target=\"_blank\">https://wandb.ai/ed24s401-indian-institute-of-technology-madras/q4_sweep_project</a><br>Synced 5 W&B file(s), 0 media file(s), 0 artifact file(s) and 0 other file(s)"
      ],
      "text/plain": [
       "<IPython.core.display.HTML object>"
      ]
     },
     "metadata": {},
     "output_type": "display_data"
    },
    {
     "data": {
      "text/html": [
       "Find logs at: <code>.\\wandb\\run-20250317_141500-r901kcch\\logs</code>"
      ],
      "text/plain": [
       "<IPython.core.display.HTML object>"
      ]
     },
     "metadata": {},
     "output_type": "display_data"
    },
    {
     "name": "stderr",
     "output_type": "stream",
     "text": [
      "\u001b[34m\u001b[1mwandb\u001b[0m: Agent Starting Run: jf0iocy6 with config:\n",
      "\u001b[34m\u001b[1mwandb\u001b[0m: \tactivation: relu\n",
      "\u001b[34m\u001b[1mwandb\u001b[0m: \tbatch_size: 32\n",
      "\u001b[34m\u001b[1mwandb\u001b[0m: \tbeta1: 0.9\n",
      "\u001b[34m\u001b[1mwandb\u001b[0m: \tbeta2: 0.999\n",
      "\u001b[34m\u001b[1mwandb\u001b[0m: \tbeta_rms: 0.9\n",
      "\u001b[34m\u001b[1mwandb\u001b[0m: \tepochs: 5\n",
      "\u001b[34m\u001b[1mwandb\u001b[0m: \tepsilon: 1e-08\n",
      "\u001b[34m\u001b[1mwandb\u001b[0m: \thidden_size: 64\n",
      "\u001b[34m\u001b[1mwandb\u001b[0m: \tinit_type: random\n",
      "\u001b[34m\u001b[1mwandb\u001b[0m: \tlearning_rate: 0.0001\n",
      "\u001b[34m\u001b[1mwandb\u001b[0m: \tloss_func: cross_entropy\n",
      "\u001b[34m\u001b[1mwandb\u001b[0m: \tmomentum: 0.9\n",
      "\u001b[34m\u001b[1mwandb\u001b[0m: \tnum_hidden_layers: 4\n",
      "\u001b[34m\u001b[1mwandb\u001b[0m: \toptimizer: nadam\n",
      "\u001b[34m\u001b[1mwandb\u001b[0m: \tweight_decay: 0.5\n"
     ]
    },
    {
     "data": {
      "text/html": [],
      "text/plain": [
       "<IPython.core.display.HTML object>"
      ]
     },
     "metadata": {},
     "output_type": "display_data"
    },
    {
     "data": {
      "text/html": [
       "Tracking run with wandb version 0.19.8"
      ],
      "text/plain": [
       "<IPython.core.display.HTML object>"
      ]
     },
     "metadata": {},
     "output_type": "display_data"
    },
    {
     "data": {
      "text/html": [
       "Run data is saved locally in <code>c:\\Users\\acer\\OneDrive\\Documents\\GitHub\\dl_assignment_ed24s401\\wandb\\run-20250317_141609-jf0iocy6</code>"
      ],
      "text/plain": [
       "<IPython.core.display.HTML object>"
      ]
     },
     "metadata": {},
     "output_type": "display_data"
    },
    {
     "data": {
      "text/html": [
       "Syncing run <strong><a href='https://wandb.ai/ed24s401-indian-institute-of-technology-madras/q4_sweep_project/runs/jf0iocy6' target=\"_blank\">polar-sweep-47</a></strong> to <a href='https://wandb.ai/ed24s401-indian-institute-of-technology-madras/q4_sweep_project' target=\"_blank\">Weights & Biases</a> (<a href='https://wandb.me/developer-guide' target=\"_blank\">docs</a>)<br>Sweep page: <a href='https://wandb.ai/ed24s401-indian-institute-of-technology-madras/q4_sweep_project/sweeps/hp8fw2uv' target=\"_blank\">https://wandb.ai/ed24s401-indian-institute-of-technology-madras/q4_sweep_project/sweeps/hp8fw2uv</a>"
      ],
      "text/plain": [
       "<IPython.core.display.HTML object>"
      ]
     },
     "metadata": {},
     "output_type": "display_data"
    },
    {
     "data": {
      "text/html": [
       " View project at <a href='https://wandb.ai/ed24s401-indian-institute-of-technology-madras/q4_sweep_project' target=\"_blank\">https://wandb.ai/ed24s401-indian-institute-of-technology-madras/q4_sweep_project</a>"
      ],
      "text/plain": [
       "<IPython.core.display.HTML object>"
      ]
     },
     "metadata": {},
     "output_type": "display_data"
    },
    {
     "data": {
      "text/html": [
       " View sweep at <a href='https://wandb.ai/ed24s401-indian-institute-of-technology-madras/q4_sweep_project/sweeps/hp8fw2uv' target=\"_blank\">https://wandb.ai/ed24s401-indian-institute-of-technology-madras/q4_sweep_project/sweeps/hp8fw2uv</a>"
      ],
      "text/plain": [
       "<IPython.core.display.HTML object>"
      ]
     },
     "metadata": {},
     "output_type": "display_data"
    },
    {
     "data": {
      "text/html": [
       " View run at <a href='https://wandb.ai/ed24s401-indian-institute-of-technology-madras/q4_sweep_project/runs/jf0iocy6' target=\"_blank\">https://wandb.ai/ed24s401-indian-institute-of-technology-madras/q4_sweep_project/runs/jf0iocy6</a>"
      ],
      "text/plain": [
       "<IPython.core.display.HTML object>"
      ]
     },
     "metadata": {},
     "output_type": "display_data"
    },
    {
     "name": "stdout",
     "output_type": "stream",
     "text": [
      "Epoch 1/5 - loss=59.9885, val_acc=0.3845, val_loss=1.9838898693459137\n",
      "Epoch 2/5 - loss=13.3509, val_acc=0.0977, val_loss=2.3029177449059652\n",
      "Epoch 3/5 - loss=4.1166, val_acc=0.0977, val_loss=2.302981163154466\n",
      "Epoch 4/5 - loss=2.4973, val_acc=0.0977, val_loss=2.302823054819569\n",
      "Epoch 5/5 - loss=2.3137, val_acc=0.0977, val_loss=2.302697317462445\n",
      "test accuracy  0.1\n"
     ]
    },
    {
     "data": {
      "text/html": [],
      "text/plain": [
       "<IPython.core.display.HTML object>"
      ]
     },
     "metadata": {},
     "output_type": "display_data"
    },
    {
     "data": {
      "text/html": [
       "<br>    <style><br>        .wandb-row {<br>            display: flex;<br>            flex-direction: row;<br>            flex-wrap: wrap;<br>            justify-content: flex-start;<br>            width: 100%;<br>        }<br>        .wandb-col {<br>            display: flex;<br>            flex-direction: column;<br>            flex-basis: 100%;<br>            flex: 1;<br>            padding: 10px;<br>        }<br>    </style><br><div class=\"wandb-row\"><div class=\"wandb-col\"><h3>Run history:</h3><br/><table class=\"wandb\"><tr><td>epoch</td><td>▁▃▅▆█</td></tr><tr><td>test_accuracy</td><td>▁</td></tr><tr><td>training_loss</td><td>█▂▁▁▁</td></tr><tr><td>validation loss</td><td>▁████</td></tr><tr><td>validation_accuracy</td><td>█▁▁▁▁</td></tr></table><br/></div><div class=\"wandb-col\"><h3>Run summary:</h3><br/><table class=\"wandb\"><tr><td>epoch</td><td>5</td></tr><tr><td>test_accuracy</td><td>0.1</td></tr><tr><td>training_loss</td><td>2.31374</td></tr><tr><td>validation loss</td><td>2.3027</td></tr><tr><td>validation_accuracy</td><td>0.09767</td></tr></table><br/></div></div>"
      ],
      "text/plain": [
       "<IPython.core.display.HTML object>"
      ]
     },
     "metadata": {},
     "output_type": "display_data"
    },
    {
     "data": {
      "text/html": [
       " View run <strong style=\"color:#cdcd00\">hl_4_hs_64_bs_32_ac_relu_opt_nadam</strong> at: <a href='https://wandb.ai/ed24s401-indian-institute-of-technology-madras/q4_sweep_project/runs/jf0iocy6' target=\"_blank\">https://wandb.ai/ed24s401-indian-institute-of-technology-madras/q4_sweep_project/runs/jf0iocy6</a><br> View project at: <a href='https://wandb.ai/ed24s401-indian-institute-of-technology-madras/q4_sweep_project' target=\"_blank\">https://wandb.ai/ed24s401-indian-institute-of-technology-madras/q4_sweep_project</a><br>Synced 5 W&B file(s), 0 media file(s), 0 artifact file(s) and 0 other file(s)"
      ],
      "text/plain": [
       "<IPython.core.display.HTML object>"
      ]
     },
     "metadata": {},
     "output_type": "display_data"
    },
    {
     "data": {
      "text/html": [
       "Find logs at: <code>.\\wandb\\run-20250317_141609-jf0iocy6\\logs</code>"
      ],
      "text/plain": [
       "<IPython.core.display.HTML object>"
      ]
     },
     "metadata": {},
     "output_type": "display_data"
    },
    {
     "name": "stderr",
     "output_type": "stream",
     "text": [
      "\u001b[34m\u001b[1mwandb\u001b[0m: Agent Starting Run: k5u42mrp with config:\n",
      "\u001b[34m\u001b[1mwandb\u001b[0m: \tactivation: sigmoid\n",
      "\u001b[34m\u001b[1mwandb\u001b[0m: \tbatch_size: 64\n",
      "\u001b[34m\u001b[1mwandb\u001b[0m: \tbeta1: 0.9\n",
      "\u001b[34m\u001b[1mwandb\u001b[0m: \tbeta2: 0.999\n",
      "\u001b[34m\u001b[1mwandb\u001b[0m: \tbeta_rms: 0.9\n",
      "\u001b[34m\u001b[1mwandb\u001b[0m: \tepochs: 5\n",
      "\u001b[34m\u001b[1mwandb\u001b[0m: \tepsilon: 1e-08\n",
      "\u001b[34m\u001b[1mwandb\u001b[0m: \thidden_size: 64\n",
      "\u001b[34m\u001b[1mwandb\u001b[0m: \tinit_type: random\n",
      "\u001b[34m\u001b[1mwandb\u001b[0m: \tlearning_rate: 0.0001\n",
      "\u001b[34m\u001b[1mwandb\u001b[0m: \tloss_func: cross_entropy\n",
      "\u001b[34m\u001b[1mwandb\u001b[0m: \tmomentum: 0.9\n",
      "\u001b[34m\u001b[1mwandb\u001b[0m: \tnum_hidden_layers: 4\n",
      "\u001b[34m\u001b[1mwandb\u001b[0m: \toptimizer: nesterov\n",
      "\u001b[34m\u001b[1mwandb\u001b[0m: \tweight_decay: 0.0005\n"
     ]
    },
    {
     "data": {
      "text/html": [],
      "text/plain": [
       "<IPython.core.display.HTML object>"
      ]
     },
     "metadata": {},
     "output_type": "display_data"
    },
    {
     "data": {
      "text/html": [
       "Tracking run with wandb version 0.19.8"
      ],
      "text/plain": [
       "<IPython.core.display.HTML object>"
      ]
     },
     "metadata": {},
     "output_type": "display_data"
    },
    {
     "data": {
      "text/html": [
       "Run data is saved locally in <code>c:\\Users\\acer\\OneDrive\\Documents\\GitHub\\dl_assignment_ed24s401\\wandb\\run-20250317_141702-k5u42mrp</code>"
      ],
      "text/plain": [
       "<IPython.core.display.HTML object>"
      ]
     },
     "metadata": {},
     "output_type": "display_data"
    },
    {
     "data": {
      "text/html": [
       "Syncing run <strong><a href='https://wandb.ai/ed24s401-indian-institute-of-technology-madras/q4_sweep_project/runs/k5u42mrp' target=\"_blank\">amber-sweep-48</a></strong> to <a href='https://wandb.ai/ed24s401-indian-institute-of-technology-madras/q4_sweep_project' target=\"_blank\">Weights & Biases</a> (<a href='https://wandb.me/developer-guide' target=\"_blank\">docs</a>)<br>Sweep page: <a href='https://wandb.ai/ed24s401-indian-institute-of-technology-madras/q4_sweep_project/sweeps/hp8fw2uv' target=\"_blank\">https://wandb.ai/ed24s401-indian-institute-of-technology-madras/q4_sweep_project/sweeps/hp8fw2uv</a>"
      ],
      "text/plain": [
       "<IPython.core.display.HTML object>"
      ]
     },
     "metadata": {},
     "output_type": "display_data"
    },
    {
     "data": {
      "text/html": [
       " View project at <a href='https://wandb.ai/ed24s401-indian-institute-of-technology-madras/q4_sweep_project' target=\"_blank\">https://wandb.ai/ed24s401-indian-institute-of-technology-madras/q4_sweep_project</a>"
      ],
      "text/plain": [
       "<IPython.core.display.HTML object>"
      ]
     },
     "metadata": {},
     "output_type": "display_data"
    },
    {
     "data": {
      "text/html": [
       " View sweep at <a href='https://wandb.ai/ed24s401-indian-institute-of-technology-madras/q4_sweep_project/sweeps/hp8fw2uv' target=\"_blank\">https://wandb.ai/ed24s401-indian-institute-of-technology-madras/q4_sweep_project/sweeps/hp8fw2uv</a>"
      ],
      "text/plain": [
       "<IPython.core.display.HTML object>"
      ]
     },
     "metadata": {},
     "output_type": "display_data"
    },
    {
     "data": {
      "text/html": [
       " View run at <a href='https://wandb.ai/ed24s401-indian-institute-of-technology-madras/q4_sweep_project/runs/k5u42mrp' target=\"_blank\">https://wandb.ai/ed24s401-indian-institute-of-technology-madras/q4_sweep_project/runs/k5u42mrp</a>"
      ],
      "text/plain": [
       "<IPython.core.display.HTML object>"
      ]
     },
     "metadata": {},
     "output_type": "display_data"
    },
    {
     "name": "stdout",
     "output_type": "stream",
     "text": [
      "Epoch 1/5 - loss=2.4851, val_acc=0.0985, val_loss=2.3083430908750544\n",
      "Epoch 2/5 - loss=2.4355, val_acc=0.1168, val_loss=2.301479925351961\n",
      "Epoch 3/5 - loss=2.4329, val_acc=0.1045, val_loss=2.30114091516327\n",
      "Epoch 4/5 - loss=2.4325, val_acc=0.1815, val_loss=2.300840588444003\n",
      "Epoch 5/5 - loss=2.4321, val_acc=0.1498, val_loss=2.3005347905362923\n",
      "test accuracy  0.1529\n"
     ]
    },
    {
     "data": {
      "text/html": [],
      "text/plain": [
       "<IPython.core.display.HTML object>"
      ]
     },
     "metadata": {},
     "output_type": "display_data"
    },
    {
     "data": {
      "text/html": [
       "<br>    <style><br>        .wandb-row {<br>            display: flex;<br>            flex-direction: row;<br>            flex-wrap: wrap;<br>            justify-content: flex-start;<br>            width: 100%;<br>        }<br>        .wandb-col {<br>            display: flex;<br>            flex-direction: column;<br>            flex-basis: 100%;<br>            flex: 1;<br>            padding: 10px;<br>        }<br>    </style><br><div class=\"wandb-row\"><div class=\"wandb-col\"><h3>Run history:</h3><br/><table class=\"wandb\"><tr><td>epoch</td><td>▁▃▅▆█</td></tr><tr><td>test_accuracy</td><td>▁</td></tr><tr><td>training_loss</td><td>█▁▁▁▁</td></tr><tr><td>validation loss</td><td>█▂▂▁▁</td></tr><tr><td>validation_accuracy</td><td>▁▃▂█▅</td></tr></table><br/></div><div class=\"wandb-col\"><h3>Run summary:</h3><br/><table class=\"wandb\"><tr><td>epoch</td><td>5</td></tr><tr><td>test_accuracy</td><td>0.1529</td></tr><tr><td>training_loss</td><td>2.43206</td></tr><tr><td>validation loss</td><td>2.30053</td></tr><tr><td>validation_accuracy</td><td>0.14983</td></tr></table><br/></div></div>"
      ],
      "text/plain": [
       "<IPython.core.display.HTML object>"
      ]
     },
     "metadata": {},
     "output_type": "display_data"
    },
    {
     "data": {
      "text/html": [
       " View run <strong style=\"color:#cdcd00\">hl_4_hs_64_bs_64_ac_sigmoid_opt_nesterov</strong> at: <a href='https://wandb.ai/ed24s401-indian-institute-of-technology-madras/q4_sweep_project/runs/k5u42mrp' target=\"_blank\">https://wandb.ai/ed24s401-indian-institute-of-technology-madras/q4_sweep_project/runs/k5u42mrp</a><br> View project at: <a href='https://wandb.ai/ed24s401-indian-institute-of-technology-madras/q4_sweep_project' target=\"_blank\">https://wandb.ai/ed24s401-indian-institute-of-technology-madras/q4_sweep_project</a><br>Synced 5 W&B file(s), 0 media file(s), 0 artifact file(s) and 0 other file(s)"
      ],
      "text/plain": [
       "<IPython.core.display.HTML object>"
      ]
     },
     "metadata": {},
     "output_type": "display_data"
    },
    {
     "data": {
      "text/html": [
       "Find logs at: <code>.\\wandb\\run-20250317_141702-k5u42mrp\\logs</code>"
      ],
      "text/plain": [
       "<IPython.core.display.HTML object>"
      ]
     },
     "metadata": {},
     "output_type": "display_data"
    },
    {
     "name": "stderr",
     "output_type": "stream",
     "text": [
      "\u001b[34m\u001b[1mwandb\u001b[0m: Agent Starting Run: ps028l61 with config:\n",
      "\u001b[34m\u001b[1mwandb\u001b[0m: \tactivation: relu\n",
      "\u001b[34m\u001b[1mwandb\u001b[0m: \tbatch_size: 16\n",
      "\u001b[34m\u001b[1mwandb\u001b[0m: \tbeta1: 0.9\n",
      "\u001b[34m\u001b[1mwandb\u001b[0m: \tbeta2: 0.99\n",
      "\u001b[34m\u001b[1mwandb\u001b[0m: \tbeta_rms: 0.9\n",
      "\u001b[34m\u001b[1mwandb\u001b[0m: \tepochs: 10\n",
      "\u001b[34m\u001b[1mwandb\u001b[0m: \tepsilon: 1e-08\n",
      "\u001b[34m\u001b[1mwandb\u001b[0m: \thidden_size: 64\n",
      "\u001b[34m\u001b[1mwandb\u001b[0m: \tinit_type: xavier\n",
      "\u001b[34m\u001b[1mwandb\u001b[0m: \tlearning_rate: 0.0001\n",
      "\u001b[34m\u001b[1mwandb\u001b[0m: \tloss_func: cross_entropy\n",
      "\u001b[34m\u001b[1mwandb\u001b[0m: \tmomentum: 0.9\n",
      "\u001b[34m\u001b[1mwandb\u001b[0m: \tnum_hidden_layers: 4\n",
      "\u001b[34m\u001b[1mwandb\u001b[0m: \toptimizer: momentum\n",
      "\u001b[34m\u001b[1mwandb\u001b[0m: \tweight_decay: 0\n"
     ]
    },
    {
     "data": {
      "text/html": [
       "creating run (0.3s)"
      ],
      "text/plain": [
       "<IPython.core.display.HTML object>"
      ]
     },
     "metadata": {},
     "output_type": "display_data"
    },
    {
     "data": {
      "text/html": [
       "Tracking run with wandb version 0.19.8"
      ],
      "text/plain": [
       "<IPython.core.display.HTML object>"
      ]
     },
     "metadata": {},
     "output_type": "display_data"
    },
    {
     "data": {
      "text/html": [
       "Run data is saved locally in <code>c:\\Users\\acer\\OneDrive\\Documents\\GitHub\\dl_assignment_ed24s401\\wandb\\run-20250317_141728-ps028l61</code>"
      ],
      "text/plain": [
       "<IPython.core.display.HTML object>"
      ]
     },
     "metadata": {},
     "output_type": "display_data"
    },
    {
     "data": {
      "text/html": [
       "Syncing run <strong><a href='https://wandb.ai/ed24s401-indian-institute-of-technology-madras/q4_sweep_project/runs/ps028l61' target=\"_blank\">bumbling-sweep-49</a></strong> to <a href='https://wandb.ai/ed24s401-indian-institute-of-technology-madras/q4_sweep_project' target=\"_blank\">Weights & Biases</a> (<a href='https://wandb.me/developer-guide' target=\"_blank\">docs</a>)<br>Sweep page: <a href='https://wandb.ai/ed24s401-indian-institute-of-technology-madras/q4_sweep_project/sweeps/hp8fw2uv' target=\"_blank\">https://wandb.ai/ed24s401-indian-institute-of-technology-madras/q4_sweep_project/sweeps/hp8fw2uv</a>"
      ],
      "text/plain": [
       "<IPython.core.display.HTML object>"
      ]
     },
     "metadata": {},
     "output_type": "display_data"
    },
    {
     "data": {
      "text/html": [
       " View project at <a href='https://wandb.ai/ed24s401-indian-institute-of-technology-madras/q4_sweep_project' target=\"_blank\">https://wandb.ai/ed24s401-indian-institute-of-technology-madras/q4_sweep_project</a>"
      ],
      "text/plain": [
       "<IPython.core.display.HTML object>"
      ]
     },
     "metadata": {},
     "output_type": "display_data"
    },
    {
     "data": {
      "text/html": [
       " View sweep at <a href='https://wandb.ai/ed24s401-indian-institute-of-technology-madras/q4_sweep_project/sweeps/hp8fw2uv' target=\"_blank\">https://wandb.ai/ed24s401-indian-institute-of-technology-madras/q4_sweep_project/sweeps/hp8fw2uv</a>"
      ],
      "text/plain": [
       "<IPython.core.display.HTML object>"
      ]
     },
     "metadata": {},
     "output_type": "display_data"
    },
    {
     "data": {
      "text/html": [
       " View run at <a href='https://wandb.ai/ed24s401-indian-institute-of-technology-madras/q4_sweep_project/runs/ps028l61' target=\"_blank\">https://wandb.ai/ed24s401-indian-institute-of-technology-madras/q4_sweep_project/runs/ps028l61</a>"
      ],
      "text/plain": [
       "<IPython.core.display.HTML object>"
      ]
     },
     "metadata": {},
     "output_type": "display_data"
    },
    {
     "name": "stdout",
     "output_type": "stream",
     "text": [
      "Epoch 1/10 - loss=1.7936, val_acc=0.6318, val_loss=1.1100986128912333\n",
      "Epoch 2/10 - loss=0.8904, val_acc=0.7170, val_loss=0.7838823515600288\n",
      "Epoch 3/10 - loss=0.7102, val_acc=0.7592, val_loss=0.6839038909499192\n",
      "Epoch 4/10 - loss=0.6311, val_acc=0.7860, val_loss=0.620277329648298\n",
      "Epoch 5/10 - loss=0.5804, val_acc=0.7980, val_loss=0.5738915935259986\n",
      "Epoch 6/10 - loss=0.5452, val_acc=0.8098, val_loss=0.5461503442412167\n",
      "Epoch 7/10 - loss=0.5175, val_acc=0.8210, val_loss=0.5224329555372274\n",
      "Epoch 8/10 - loss=0.4954, val_acc=0.8248, val_loss=0.5018308721563447\n",
      "Epoch 9/10 - loss=0.4781, val_acc=0.8283, val_loss=0.4914017465755068\n",
      "Epoch 10/10 - loss=0.4654, val_acc=0.8313, val_loss=0.48091041249901095\n",
      "test accuracy  0.8225\n"
     ]
    },
    {
     "data": {
      "text/html": [],
      "text/plain": [
       "<IPython.core.display.HTML object>"
      ]
     },
     "metadata": {},
     "output_type": "display_data"
    },
    {
     "data": {
      "text/html": [
       "<br>    <style><br>        .wandb-row {<br>            display: flex;<br>            flex-direction: row;<br>            flex-wrap: wrap;<br>            justify-content: flex-start;<br>            width: 100%;<br>        }<br>        .wandb-col {<br>            display: flex;<br>            flex-direction: column;<br>            flex-basis: 100%;<br>            flex: 1;<br>            padding: 10px;<br>        }<br>    </style><br><div class=\"wandb-row\"><div class=\"wandb-col\"><h3>Run history:</h3><br/><table class=\"wandb\"><tr><td>epoch</td><td>▁▂▃▃▄▅▆▆▇█</td></tr><tr><td>test_accuracy</td><td>▁</td></tr><tr><td>training_loss</td><td>█▃▂▂▂▁▁▁▁▁</td></tr><tr><td>validation loss</td><td>█▄▃▃▂▂▁▁▁▁</td></tr><tr><td>validation_accuracy</td><td>▁▄▅▆▇▇████</td></tr></table><br/></div><div class=\"wandb-col\"><h3>Run summary:</h3><br/><table class=\"wandb\"><tr><td>epoch</td><td>10</td></tr><tr><td>test_accuracy</td><td>0.8225</td></tr><tr><td>training_loss</td><td>0.46542</td></tr><tr><td>validation loss</td><td>0.48091</td></tr><tr><td>validation_accuracy</td><td>0.83133</td></tr></table><br/></div></div>"
      ],
      "text/plain": [
       "<IPython.core.display.HTML object>"
      ]
     },
     "metadata": {},
     "output_type": "display_data"
    },
    {
     "data": {
      "text/html": [
       " View run <strong style=\"color:#cdcd00\">hl_4_hs_64_bs_16_ac_relu_opt_momentum</strong> at: <a href='https://wandb.ai/ed24s401-indian-institute-of-technology-madras/q4_sweep_project/runs/ps028l61' target=\"_blank\">https://wandb.ai/ed24s401-indian-institute-of-technology-madras/q4_sweep_project/runs/ps028l61</a><br> View project at: <a href='https://wandb.ai/ed24s401-indian-institute-of-technology-madras/q4_sweep_project' target=\"_blank\">https://wandb.ai/ed24s401-indian-institute-of-technology-madras/q4_sweep_project</a><br>Synced 5 W&B file(s), 0 media file(s), 0 artifact file(s) and 0 other file(s)"
      ],
      "text/plain": [
       "<IPython.core.display.HTML object>"
      ]
     },
     "metadata": {},
     "output_type": "display_data"
    },
    {
     "data": {
      "text/html": [
       "Find logs at: <code>.\\wandb\\run-20250317_141728-ps028l61\\logs</code>"
      ],
      "text/plain": [
       "<IPython.core.display.HTML object>"
      ]
     },
     "metadata": {},
     "output_type": "display_data"
    },
    {
     "name": "stderr",
     "output_type": "stream",
     "text": [
      "\u001b[34m\u001b[1mwandb\u001b[0m: Agent Starting Run: 5zx8730j with config:\n",
      "\u001b[34m\u001b[1mwandb\u001b[0m: \tactivation: sigmoid\n",
      "\u001b[34m\u001b[1mwandb\u001b[0m: \tbatch_size: 32\n",
      "\u001b[34m\u001b[1mwandb\u001b[0m: \tbeta1: 0.9\n",
      "\u001b[34m\u001b[1mwandb\u001b[0m: \tbeta2: 0.99\n",
      "\u001b[34m\u001b[1mwandb\u001b[0m: \tbeta_rms: 0.9\n",
      "\u001b[34m\u001b[1mwandb\u001b[0m: \tepochs: 5\n",
      "\u001b[34m\u001b[1mwandb\u001b[0m: \tepsilon: 1e-08\n",
      "\u001b[34m\u001b[1mwandb\u001b[0m: \thidden_size: 128\n",
      "\u001b[34m\u001b[1mwandb\u001b[0m: \tinit_type: xavier\n",
      "\u001b[34m\u001b[1mwandb\u001b[0m: \tlearning_rate: 0.001\n",
      "\u001b[34m\u001b[1mwandb\u001b[0m: \tloss_func: cross_entropy\n",
      "\u001b[34m\u001b[1mwandb\u001b[0m: \tmomentum: 0.9\n",
      "\u001b[34m\u001b[1mwandb\u001b[0m: \tnum_hidden_layers: 5\n",
      "\u001b[34m\u001b[1mwandb\u001b[0m: \toptimizer: nadam\n",
      "\u001b[34m\u001b[1mwandb\u001b[0m: \tweight_decay: 0\n"
     ]
    },
    {
     "data": {
      "text/html": [
       "Tracking run with wandb version 0.19.8"
      ],
      "text/plain": [
       "<IPython.core.display.HTML object>"
      ]
     },
     "metadata": {},
     "output_type": "display_data"
    },
    {
     "data": {
      "text/html": [
       "Run data is saved locally in <code>c:\\Users\\acer\\OneDrive\\Documents\\GitHub\\dl_assignment_ed24s401\\wandb\\run-20250317_141843-5zx8730j</code>"
      ],
      "text/plain": [
       "<IPython.core.display.HTML object>"
      ]
     },
     "metadata": {},
     "output_type": "display_data"
    },
    {
     "data": {
      "text/html": [
       "Syncing run <strong><a href='https://wandb.ai/ed24s401-indian-institute-of-technology-madras/q4_sweep_project/runs/5zx8730j' target=\"_blank\">stellar-sweep-50</a></strong> to <a href='https://wandb.ai/ed24s401-indian-institute-of-technology-madras/q4_sweep_project' target=\"_blank\">Weights & Biases</a> (<a href='https://wandb.me/developer-guide' target=\"_blank\">docs</a>)<br>Sweep page: <a href='https://wandb.ai/ed24s401-indian-institute-of-technology-madras/q4_sweep_project/sweeps/hp8fw2uv' target=\"_blank\">https://wandb.ai/ed24s401-indian-institute-of-technology-madras/q4_sweep_project/sweeps/hp8fw2uv</a>"
      ],
      "text/plain": [
       "<IPython.core.display.HTML object>"
      ]
     },
     "metadata": {},
     "output_type": "display_data"
    },
    {
     "data": {
      "text/html": [
       " View project at <a href='https://wandb.ai/ed24s401-indian-institute-of-technology-madras/q4_sweep_project' target=\"_blank\">https://wandb.ai/ed24s401-indian-institute-of-technology-madras/q4_sweep_project</a>"
      ],
      "text/plain": [
       "<IPython.core.display.HTML object>"
      ]
     },
     "metadata": {},
     "output_type": "display_data"
    },
    {
     "data": {
      "text/html": [
       " View sweep at <a href='https://wandb.ai/ed24s401-indian-institute-of-technology-madras/q4_sweep_project/sweeps/hp8fw2uv' target=\"_blank\">https://wandb.ai/ed24s401-indian-institute-of-technology-madras/q4_sweep_project/sweeps/hp8fw2uv</a>"
      ],
      "text/plain": [
       "<IPython.core.display.HTML object>"
      ]
     },
     "metadata": {},
     "output_type": "display_data"
    },
    {
     "data": {
      "text/html": [
       " View run at <a href='https://wandb.ai/ed24s401-indian-institute-of-technology-madras/q4_sweep_project/runs/5zx8730j' target=\"_blank\">https://wandb.ai/ed24s401-indian-institute-of-technology-madras/q4_sweep_project/runs/5zx8730j</a>"
      ],
      "text/plain": [
       "<IPython.core.display.HTML object>"
      ]
     },
     "metadata": {},
     "output_type": "display_data"
    },
    {
     "name": "stdout",
     "output_type": "stream",
     "text": [
      "Epoch 1/5 - loss=0.9020, val_acc=0.7730, val_loss=0.610057281006536\n",
      "Epoch 2/5 - loss=0.5384, val_acc=0.8218, val_loss=0.4829442707304804\n",
      "Epoch 3/5 - loss=0.4513, val_acc=0.8302, val_loss=0.45001170644972316\n",
      "Epoch 4/5 - loss=0.4014, val_acc=0.8575, val_loss=0.4005268300549291\n",
      "Epoch 5/5 - loss=0.3661, val_acc=0.8590, val_loss=0.3811792114907509\n",
      "test accuracy  0.8523\n"
     ]
    },
    {
     "data": {
      "text/html": [],
      "text/plain": [
       "<IPython.core.display.HTML object>"
      ]
     },
     "metadata": {},
     "output_type": "display_data"
    },
    {
     "data": {
      "text/html": [
       "<br>    <style><br>        .wandb-row {<br>            display: flex;<br>            flex-direction: row;<br>            flex-wrap: wrap;<br>            justify-content: flex-start;<br>            width: 100%;<br>        }<br>        .wandb-col {<br>            display: flex;<br>            flex-direction: column;<br>            flex-basis: 100%;<br>            flex: 1;<br>            padding: 10px;<br>        }<br>    </style><br><div class=\"wandb-row\"><div class=\"wandb-col\"><h3>Run history:</h3><br/><table class=\"wandb\"><tr><td>epoch</td><td>▁▃▅▆█</td></tr><tr><td>test_accuracy</td><td>▁</td></tr><tr><td>training_loss</td><td>█▃▂▁▁</td></tr><tr><td>validation loss</td><td>█▄▃▂▁</td></tr><tr><td>validation_accuracy</td><td>▁▅▆██</td></tr></table><br/></div><div class=\"wandb-col\"><h3>Run summary:</h3><br/><table class=\"wandb\"><tr><td>epoch</td><td>5</td></tr><tr><td>test_accuracy</td><td>0.8523</td></tr><tr><td>training_loss</td><td>0.36614</td></tr><tr><td>validation loss</td><td>0.38118</td></tr><tr><td>validation_accuracy</td><td>0.859</td></tr></table><br/></div></div>"
      ],
      "text/plain": [
       "<IPython.core.display.HTML object>"
      ]
     },
     "metadata": {},
     "output_type": "display_data"
    },
    {
     "data": {
      "text/html": [
       " View run <strong style=\"color:#cdcd00\">hl_5_hs_128_bs_32_ac_sigmoid_opt_nadam</strong> at: <a href='https://wandb.ai/ed24s401-indian-institute-of-technology-madras/q4_sweep_project/runs/5zx8730j' target=\"_blank\">https://wandb.ai/ed24s401-indian-institute-of-technology-madras/q4_sweep_project/runs/5zx8730j</a><br> View project at: <a href='https://wandb.ai/ed24s401-indian-institute-of-technology-madras/q4_sweep_project' target=\"_blank\">https://wandb.ai/ed24s401-indian-institute-of-technology-madras/q4_sweep_project</a><br>Synced 5 W&B file(s), 0 media file(s), 0 artifact file(s) and 0 other file(s)"
      ],
      "text/plain": [
       "<IPython.core.display.HTML object>"
      ]
     },
     "metadata": {},
     "output_type": "display_data"
    },
    {
     "data": {
      "text/html": [
       "Find logs at: <code>.\\wandb\\run-20250317_141843-5zx8730j\\logs</code>"
      ],
      "text/plain": [
       "<IPython.core.display.HTML object>"
      ]
     },
     "metadata": {},
     "output_type": "display_data"
    },
    {
     "name": "stderr",
     "output_type": "stream",
     "text": [
      "\u001b[34m\u001b[1mwandb\u001b[0m: Agent Starting Run: 5tknaq69 with config:\n",
      "\u001b[34m\u001b[1mwandb\u001b[0m: \tactivation: sigmoid\n",
      "\u001b[34m\u001b[1mwandb\u001b[0m: \tbatch_size: 32\n",
      "\u001b[34m\u001b[1mwandb\u001b[0m: \tbeta1: 0.9\n",
      "\u001b[34m\u001b[1mwandb\u001b[0m: \tbeta2: 0.999\n",
      "\u001b[34m\u001b[1mwandb\u001b[0m: \tbeta_rms: 0.9\n",
      "\u001b[34m\u001b[1mwandb\u001b[0m: \tepochs: 10\n",
      "\u001b[34m\u001b[1mwandb\u001b[0m: \tepsilon: 1e-08\n",
      "\u001b[34m\u001b[1mwandb\u001b[0m: \thidden_size: 32\n",
      "\u001b[34m\u001b[1mwandb\u001b[0m: \tinit_type: xavier\n",
      "\u001b[34m\u001b[1mwandb\u001b[0m: \tlearning_rate: 0.001\n",
      "\u001b[34m\u001b[1mwandb\u001b[0m: \tloss_func: cross_entropy\n",
      "\u001b[34m\u001b[1mwandb\u001b[0m: \tmomentum: 0.9\n",
      "\u001b[34m\u001b[1mwandb\u001b[0m: \tnum_hidden_layers: 4\n",
      "\u001b[34m\u001b[1mwandb\u001b[0m: \toptimizer: nesterov\n",
      "\u001b[34m\u001b[1mwandb\u001b[0m: \tweight_decay: 0\n"
     ]
    },
    {
     "data": {
      "text/html": [],
      "text/plain": [
       "<IPython.core.display.HTML object>"
      ]
     },
     "metadata": {},
     "output_type": "display_data"
    },
    {
     "data": {
      "text/html": [
       "Tracking run with wandb version 0.19.8"
      ],
      "text/plain": [
       "<IPython.core.display.HTML object>"
      ]
     },
     "metadata": {},
     "output_type": "display_data"
    },
    {
     "data": {
      "text/html": [
       "Run data is saved locally in <code>c:\\Users\\acer\\OneDrive\\Documents\\GitHub\\dl_assignment_ed24s401\\wandb\\run-20250317_142039-5tknaq69</code>"
      ],
      "text/plain": [
       "<IPython.core.display.HTML object>"
      ]
     },
     "metadata": {},
     "output_type": "display_data"
    },
    {
     "data": {
      "text/html": [
       "Syncing run <strong><a href='https://wandb.ai/ed24s401-indian-institute-of-technology-madras/q4_sweep_project/runs/5tknaq69' target=\"_blank\">dauntless-sweep-51</a></strong> to <a href='https://wandb.ai/ed24s401-indian-institute-of-technology-madras/q4_sweep_project' target=\"_blank\">Weights & Biases</a> (<a href='https://wandb.me/developer-guide' target=\"_blank\">docs</a>)<br>Sweep page: <a href='https://wandb.ai/ed24s401-indian-institute-of-technology-madras/q4_sweep_project/sweeps/hp8fw2uv' target=\"_blank\">https://wandb.ai/ed24s401-indian-institute-of-technology-madras/q4_sweep_project/sweeps/hp8fw2uv</a>"
      ],
      "text/plain": [
       "<IPython.core.display.HTML object>"
      ]
     },
     "metadata": {},
     "output_type": "display_data"
    },
    {
     "data": {
      "text/html": [
       " View project at <a href='https://wandb.ai/ed24s401-indian-institute-of-technology-madras/q4_sweep_project' target=\"_blank\">https://wandb.ai/ed24s401-indian-institute-of-technology-madras/q4_sweep_project</a>"
      ],
      "text/plain": [
       "<IPython.core.display.HTML object>"
      ]
     },
     "metadata": {},
     "output_type": "display_data"
    },
    {
     "data": {
      "text/html": [
       " View sweep at <a href='https://wandb.ai/ed24s401-indian-institute-of-technology-madras/q4_sweep_project/sweeps/hp8fw2uv' target=\"_blank\">https://wandb.ai/ed24s401-indian-institute-of-technology-madras/q4_sweep_project/sweeps/hp8fw2uv</a>"
      ],
      "text/plain": [
       "<IPython.core.display.HTML object>"
      ]
     },
     "metadata": {},
     "output_type": "display_data"
    },
    {
     "data": {
      "text/html": [
       " View run at <a href='https://wandb.ai/ed24s401-indian-institute-of-technology-madras/q4_sweep_project/runs/5tknaq69' target=\"_blank\">https://wandb.ai/ed24s401-indian-institute-of-technology-madras/q4_sweep_project/runs/5tknaq69</a>"
      ],
      "text/plain": [
       "<IPython.core.display.HTML object>"
      ]
     },
     "metadata": {},
     "output_type": "display_data"
    },
    {
     "name": "stdout",
     "output_type": "stream",
     "text": [
      "Epoch 1/10 - loss=2.3157, val_acc=0.1000, val_loss=2.3032102331168187\n",
      "Epoch 2/10 - loss=2.3032, val_acc=0.0995, val_loss=2.30239226423234\n",
      "Epoch 3/10 - loss=2.3028, val_acc=0.1000, val_loss=2.3021379706424585\n",
      "Epoch 4/10 - loss=2.3022, val_acc=0.0995, val_loss=2.302641309150897\n",
      "Epoch 5/10 - loss=2.3018, val_acc=0.1123, val_loss=2.3013711621414865\n",
      "Epoch 6/10 - loss=2.3013, val_acc=0.1950, val_loss=2.3003226623293855\n",
      "Epoch 7/10 - loss=2.3002, val_acc=0.1750, val_loss=2.299456694578824\n",
      "Epoch 8/10 - loss=2.2992, val_acc=0.1533, val_loss=2.298512923854352\n",
      "Epoch 9/10 - loss=2.2973, val_acc=0.0985, val_loss=2.296373831078539\n",
      "Epoch 10/10 - loss=2.2947, val_acc=0.2242, val_loss=2.2920642177376553\n",
      "test accuracy  0.2223\n"
     ]
    },
    {
     "data": {
      "text/html": [],
      "text/plain": [
       "<IPython.core.display.HTML object>"
      ]
     },
     "metadata": {},
     "output_type": "display_data"
    },
    {
     "data": {
      "text/html": [
       "<br>    <style><br>        .wandb-row {<br>            display: flex;<br>            flex-direction: row;<br>            flex-wrap: wrap;<br>            justify-content: flex-start;<br>            width: 100%;<br>        }<br>        .wandb-col {<br>            display: flex;<br>            flex-direction: column;<br>            flex-basis: 100%;<br>            flex: 1;<br>            padding: 10px;<br>        }<br>    </style><br><div class=\"wandb-row\"><div class=\"wandb-col\"><h3>Run history:</h3><br/><table class=\"wandb\"><tr><td>epoch</td><td>▁▂▃▃▄▅▆▆▇█</td></tr><tr><td>test_accuracy</td><td>▁</td></tr><tr><td>training_loss</td><td>█▄▄▄▃▃▃▃▂▁</td></tr><tr><td>validation loss</td><td>█▇▇█▇▆▆▅▄▁</td></tr><tr><td>validation_accuracy</td><td>▁▁▁▁▂▆▅▄▁█</td></tr></table><br/></div><div class=\"wandb-col\"><h3>Run summary:</h3><br/><table class=\"wandb\"><tr><td>epoch</td><td>10</td></tr><tr><td>test_accuracy</td><td>0.2223</td></tr><tr><td>training_loss</td><td>2.29466</td></tr><tr><td>validation loss</td><td>2.29206</td></tr><tr><td>validation_accuracy</td><td>0.22417</td></tr></table><br/></div></div>"
      ],
      "text/plain": [
       "<IPython.core.display.HTML object>"
      ]
     },
     "metadata": {},
     "output_type": "display_data"
    },
    {
     "data": {
      "text/html": [
       " View run <strong style=\"color:#cdcd00\">hl_4_hs_32_bs_32_ac_sigmoid_opt_nesterov</strong> at: <a href='https://wandb.ai/ed24s401-indian-institute-of-technology-madras/q4_sweep_project/runs/5tknaq69' target=\"_blank\">https://wandb.ai/ed24s401-indian-institute-of-technology-madras/q4_sweep_project/runs/5tknaq69</a><br> View project at: <a href='https://wandb.ai/ed24s401-indian-institute-of-technology-madras/q4_sweep_project' target=\"_blank\">https://wandb.ai/ed24s401-indian-institute-of-technology-madras/q4_sweep_project</a><br>Synced 5 W&B file(s), 0 media file(s), 0 artifact file(s) and 0 other file(s)"
      ],
      "text/plain": [
       "<IPython.core.display.HTML object>"
      ]
     },
     "metadata": {},
     "output_type": "display_data"
    },
    {
     "data": {
      "text/html": [
       "Find logs at: <code>.\\wandb\\run-20250317_142039-5tknaq69\\logs</code>"
      ],
      "text/plain": [
       "<IPython.core.display.HTML object>"
      ]
     },
     "metadata": {},
     "output_type": "display_data"
    },
    {
     "name": "stderr",
     "output_type": "stream",
     "text": [
      "\u001b[34m\u001b[1mwandb\u001b[0m: Agent Starting Run: 6ouc1pf2 with config:\n",
      "\u001b[34m\u001b[1mwandb\u001b[0m: \tactivation: tanh\n",
      "\u001b[34m\u001b[1mwandb\u001b[0m: \tbatch_size: 64\n",
      "\u001b[34m\u001b[1mwandb\u001b[0m: \tbeta1: 0.9\n",
      "\u001b[34m\u001b[1mwandb\u001b[0m: \tbeta2: 0.999\n",
      "\u001b[34m\u001b[1mwandb\u001b[0m: \tbeta_rms: 0.9\n",
      "\u001b[34m\u001b[1mwandb\u001b[0m: \tepochs: 10\n",
      "\u001b[34m\u001b[1mwandb\u001b[0m: \tepsilon: 1e-08\n",
      "\u001b[34m\u001b[1mwandb\u001b[0m: \thidden_size: 128\n",
      "\u001b[34m\u001b[1mwandb\u001b[0m: \tinit_type: random\n",
      "\u001b[34m\u001b[1mwandb\u001b[0m: \tlearning_rate: 0.001\n",
      "\u001b[34m\u001b[1mwandb\u001b[0m: \tloss_func: cross_entropy\n",
      "\u001b[34m\u001b[1mwandb\u001b[0m: \tmomentum: 0.9\n",
      "\u001b[34m\u001b[1mwandb\u001b[0m: \tnum_hidden_layers: 4\n",
      "\u001b[34m\u001b[1mwandb\u001b[0m: \toptimizer: momentum\n",
      "\u001b[34m\u001b[1mwandb\u001b[0m: \tweight_decay: 0.0005\n"
     ]
    },
    {
     "data": {
      "text/html": [
       "Tracking run with wandb version 0.19.8"
      ],
      "text/plain": [
       "<IPython.core.display.HTML object>"
      ]
     },
     "metadata": {},
     "output_type": "display_data"
    },
    {
     "data": {
      "text/html": [
       "Run data is saved locally in <code>c:\\Users\\acer\\OneDrive\\Documents\\GitHub\\dl_assignment_ed24s401\\wandb\\run-20250317_142116-6ouc1pf2</code>"
      ],
      "text/plain": [
       "<IPython.core.display.HTML object>"
      ]
     },
     "metadata": {},
     "output_type": "display_data"
    },
    {
     "data": {
      "text/html": [
       "Syncing run <strong><a href='https://wandb.ai/ed24s401-indian-institute-of-technology-madras/q4_sweep_project/runs/6ouc1pf2' target=\"_blank\">cosmic-sweep-52</a></strong> to <a href='https://wandb.ai/ed24s401-indian-institute-of-technology-madras/q4_sweep_project' target=\"_blank\">Weights & Biases</a> (<a href='https://wandb.me/developer-guide' target=\"_blank\">docs</a>)<br>Sweep page: <a href='https://wandb.ai/ed24s401-indian-institute-of-technology-madras/q4_sweep_project/sweeps/hp8fw2uv' target=\"_blank\">https://wandb.ai/ed24s401-indian-institute-of-technology-madras/q4_sweep_project/sweeps/hp8fw2uv</a>"
      ],
      "text/plain": [
       "<IPython.core.display.HTML object>"
      ]
     },
     "metadata": {},
     "output_type": "display_data"
    },
    {
     "data": {
      "text/html": [
       " View project at <a href='https://wandb.ai/ed24s401-indian-institute-of-technology-madras/q4_sweep_project' target=\"_blank\">https://wandb.ai/ed24s401-indian-institute-of-technology-madras/q4_sweep_project</a>"
      ],
      "text/plain": [
       "<IPython.core.display.HTML object>"
      ]
     },
     "metadata": {},
     "output_type": "display_data"
    },
    {
     "data": {
      "text/html": [
       " View sweep at <a href='https://wandb.ai/ed24s401-indian-institute-of-technology-madras/q4_sweep_project/sweeps/hp8fw2uv' target=\"_blank\">https://wandb.ai/ed24s401-indian-institute-of-technology-madras/q4_sweep_project/sweeps/hp8fw2uv</a>"
      ],
      "text/plain": [
       "<IPython.core.display.HTML object>"
      ]
     },
     "metadata": {},
     "output_type": "display_data"
    },
    {
     "data": {
      "text/html": [
       " View run at <a href='https://wandb.ai/ed24s401-indian-institute-of-technology-madras/q4_sweep_project/runs/6ouc1pf2' target=\"_blank\">https://wandb.ai/ed24s401-indian-institute-of-technology-madras/q4_sweep_project/runs/6ouc1pf2</a>"
      ],
      "text/plain": [
       "<IPython.core.display.HTML object>"
      ]
     },
     "metadata": {},
     "output_type": "display_data"
    },
    {
     "name": "stdout",
     "output_type": "stream",
     "text": [
      "Epoch 1/10 - loss=0.9730, val_acc=0.8133, val_loss=0.5126196424382137\n",
      "Epoch 2/10 - loss=0.7283, val_acc=0.8350, val_loss=0.4531654759102553\n",
      "Epoch 3/10 - loss=0.6857, val_acc=0.8487, val_loss=0.41402929667097454\n",
      "Epoch 4/10 - loss=0.6603, val_acc=0.8463, val_loss=0.42001477536955706\n",
      "Epoch 5/10 - loss=0.6417, val_acc=0.8602, val_loss=0.3848002115904369\n",
      "Epoch 6/10 - loss=0.6266, val_acc=0.8643, val_loss=0.3753922778270392\n",
      "Epoch 7/10 - loss=0.6148, val_acc=0.8628, val_loss=0.371569904996635\n",
      "Epoch 8/10 - loss=0.6040, val_acc=0.8620, val_loss=0.37019161849417614\n",
      "Epoch 9/10 - loss=0.5949, val_acc=0.8672, val_loss=0.3548978718161686\n",
      "Epoch 10/10 - loss=0.5864, val_acc=0.8645, val_loss=0.3588347155237947\n",
      "test accuracy  0.8554\n"
     ]
    },
    {
     "data": {
      "text/html": [],
      "text/plain": [
       "<IPython.core.display.HTML object>"
      ]
     },
     "metadata": {},
     "output_type": "display_data"
    },
    {
     "data": {
      "text/html": [
       "<br>    <style><br>        .wandb-row {<br>            display: flex;<br>            flex-direction: row;<br>            flex-wrap: wrap;<br>            justify-content: flex-start;<br>            width: 100%;<br>        }<br>        .wandb-col {<br>            display: flex;<br>            flex-direction: column;<br>            flex-basis: 100%;<br>            flex: 1;<br>            padding: 10px;<br>        }<br>    </style><br><div class=\"wandb-row\"><div class=\"wandb-col\"><h3>Run history:</h3><br/><table class=\"wandb\"><tr><td>epoch</td><td>▁▂▃▃▄▅▆▆▇█</td></tr><tr><td>test_accuracy</td><td>▁</td></tr><tr><td>training_loss</td><td>█▄▃▂▂▂▂▁▁▁</td></tr><tr><td>validation loss</td><td>█▅▄▄▂▂▂▂▁▁</td></tr><tr><td>validation_accuracy</td><td>▁▄▆▅▇█▇▇██</td></tr></table><br/></div><div class=\"wandb-col\"><h3>Run summary:</h3><br/><table class=\"wandb\"><tr><td>epoch</td><td>10</td></tr><tr><td>test_accuracy</td><td>0.8554</td></tr><tr><td>training_loss</td><td>0.58636</td></tr><tr><td>validation loss</td><td>0.35883</td></tr><tr><td>validation_accuracy</td><td>0.8645</td></tr></table><br/></div></div>"
      ],
      "text/plain": [
       "<IPython.core.display.HTML object>"
      ]
     },
     "metadata": {},
     "output_type": "display_data"
    },
    {
     "data": {
      "text/html": [
       " View run <strong style=\"color:#cdcd00\">hl_4_hs_128_bs_64_ac_tanh_opt_momentum</strong> at: <a href='https://wandb.ai/ed24s401-indian-institute-of-technology-madras/q4_sweep_project/runs/6ouc1pf2' target=\"_blank\">https://wandb.ai/ed24s401-indian-institute-of-technology-madras/q4_sweep_project/runs/6ouc1pf2</a><br> View project at: <a href='https://wandb.ai/ed24s401-indian-institute-of-technology-madras/q4_sweep_project' target=\"_blank\">https://wandb.ai/ed24s401-indian-institute-of-technology-madras/q4_sweep_project</a><br>Synced 5 W&B file(s), 0 media file(s), 0 artifact file(s) and 0 other file(s)"
      ],
      "text/plain": [
       "<IPython.core.display.HTML object>"
      ]
     },
     "metadata": {},
     "output_type": "display_data"
    },
    {
     "data": {
      "text/html": [
       "Find logs at: <code>.\\wandb\\run-20250317_142116-6ouc1pf2\\logs</code>"
      ],
      "text/plain": [
       "<IPython.core.display.HTML object>"
      ]
     },
     "metadata": {},
     "output_type": "display_data"
    },
    {
     "name": "stderr",
     "output_type": "stream",
     "text": [
      "\u001b[34m\u001b[1mwandb\u001b[0m: Agent Starting Run: bfsqxgb8 with config:\n",
      "\u001b[34m\u001b[1mwandb\u001b[0m: \tactivation: tanh\n",
      "\u001b[34m\u001b[1mwandb\u001b[0m: \tbatch_size: 32\n",
      "\u001b[34m\u001b[1mwandb\u001b[0m: \tbeta1: 0.9\n",
      "\u001b[34m\u001b[1mwandb\u001b[0m: \tbeta2: 0.99\n",
      "\u001b[34m\u001b[1mwandb\u001b[0m: \tbeta_rms: 0.9\n",
      "\u001b[34m\u001b[1mwandb\u001b[0m: \tepochs: 5\n",
      "\u001b[34m\u001b[1mwandb\u001b[0m: \tepsilon: 1e-08\n",
      "\u001b[34m\u001b[1mwandb\u001b[0m: \thidden_size: 128\n",
      "\u001b[34m\u001b[1mwandb\u001b[0m: \tinit_type: xavier\n",
      "\u001b[34m\u001b[1mwandb\u001b[0m: \tlearning_rate: 0.001\n",
      "\u001b[34m\u001b[1mwandb\u001b[0m: \tloss_func: cross_entropy\n",
      "\u001b[34m\u001b[1mwandb\u001b[0m: \tmomentum: 0.9\n",
      "\u001b[34m\u001b[1mwandb\u001b[0m: \tnum_hidden_layers: 4\n",
      "\u001b[34m\u001b[1mwandb\u001b[0m: \toptimizer: momentum\n",
      "\u001b[34m\u001b[1mwandb\u001b[0m: \tweight_decay: 0.0005\n"
     ]
    },
    {
     "data": {
      "text/html": [
       "creating run (1.9s)"
      ],
      "text/plain": [
       "<IPython.core.display.HTML object>"
      ]
     },
     "metadata": {},
     "output_type": "display_data"
    },
    {
     "data": {
      "text/html": [
       "Tracking run with wandb version 0.19.8"
      ],
      "text/plain": [
       "<IPython.core.display.HTML object>"
      ]
     },
     "metadata": {},
     "output_type": "display_data"
    },
    {
     "data": {
      "text/html": [
       "Run data is saved locally in <code>c:\\Users\\acer\\OneDrive\\Documents\\GitHub\\dl_assignment_ed24s401\\wandb\\run-20250317_142231-bfsqxgb8</code>"
      ],
      "text/plain": [
       "<IPython.core.display.HTML object>"
      ]
     },
     "metadata": {},
     "output_type": "display_data"
    },
    {
     "data": {
      "text/html": [
       "Syncing run <strong><a href='https://wandb.ai/ed24s401-indian-institute-of-technology-madras/q4_sweep_project/runs/bfsqxgb8' target=\"_blank\">lucky-sweep-53</a></strong> to <a href='https://wandb.ai/ed24s401-indian-institute-of-technology-madras/q4_sweep_project' target=\"_blank\">Weights & Biases</a> (<a href='https://wandb.me/developer-guide' target=\"_blank\">docs</a>)<br>Sweep page: <a href='https://wandb.ai/ed24s401-indian-institute-of-technology-madras/q4_sweep_project/sweeps/hp8fw2uv' target=\"_blank\">https://wandb.ai/ed24s401-indian-institute-of-technology-madras/q4_sweep_project/sweeps/hp8fw2uv</a>"
      ],
      "text/plain": [
       "<IPython.core.display.HTML object>"
      ]
     },
     "metadata": {},
     "output_type": "display_data"
    },
    {
     "data": {
      "text/html": [
       " View project at <a href='https://wandb.ai/ed24s401-indian-institute-of-technology-madras/q4_sweep_project' target=\"_blank\">https://wandb.ai/ed24s401-indian-institute-of-technology-madras/q4_sweep_project</a>"
      ],
      "text/plain": [
       "<IPython.core.display.HTML object>"
      ]
     },
     "metadata": {},
     "output_type": "display_data"
    },
    {
     "data": {
      "text/html": [
       " View sweep at <a href='https://wandb.ai/ed24s401-indian-institute-of-technology-madras/q4_sweep_project/sweeps/hp8fw2uv' target=\"_blank\">https://wandb.ai/ed24s401-indian-institute-of-technology-madras/q4_sweep_project/sweeps/hp8fw2uv</a>"
      ],
      "text/plain": [
       "<IPython.core.display.HTML object>"
      ]
     },
     "metadata": {},
     "output_type": "display_data"
    },
    {
     "data": {
      "text/html": [
       " View run at <a href='https://wandb.ai/ed24s401-indian-institute-of-technology-madras/q4_sweep_project/runs/bfsqxgb8' target=\"_blank\">https://wandb.ai/ed24s401-indian-institute-of-technology-madras/q4_sweep_project/runs/bfsqxgb8</a>"
      ],
      "text/plain": [
       "<IPython.core.display.HTML object>"
      ]
     },
     "metadata": {},
     "output_type": "display_data"
    },
    {
     "name": "stdout",
     "output_type": "stream",
     "text": [
      "Epoch 1/5 - loss=0.8717, val_acc=0.8130, val_loss=0.5076352135600393\n",
      "Epoch 2/5 - loss=0.6021, val_acc=0.8328, val_loss=0.45565970917769966\n",
      "Epoch 3/5 - loss=0.5615, val_acc=0.8468, val_loss=0.41803876020373043\n",
      "Epoch 4/5 - loss=0.5376, val_acc=0.8528, val_loss=0.40127543657657283\n",
      "Epoch 5/5 - loss=0.5200, val_acc=0.8592, val_loss=0.38911527897068177\n",
      "test accuracy  0.8492\n"
     ]
    },
    {
     "data": {
      "text/html": [],
      "text/plain": [
       "<IPython.core.display.HTML object>"
      ]
     },
     "metadata": {},
     "output_type": "display_data"
    },
    {
     "data": {
      "text/html": [
       "<br>    <style><br>        .wandb-row {<br>            display: flex;<br>            flex-direction: row;<br>            flex-wrap: wrap;<br>            justify-content: flex-start;<br>            width: 100%;<br>        }<br>        .wandb-col {<br>            display: flex;<br>            flex-direction: column;<br>            flex-basis: 100%;<br>            flex: 1;<br>            padding: 10px;<br>        }<br>    </style><br><div class=\"wandb-row\"><div class=\"wandb-col\"><h3>Run history:</h3><br/><table class=\"wandb\"><tr><td>epoch</td><td>▁▃▅▆█</td></tr><tr><td>test_accuracy</td><td>▁</td></tr><tr><td>training_loss</td><td>█▃▂▁▁</td></tr><tr><td>validation loss</td><td>█▅▃▂▁</td></tr><tr><td>validation_accuracy</td><td>▁▄▆▇█</td></tr></table><br/></div><div class=\"wandb-col\"><h3>Run summary:</h3><br/><table class=\"wandb\"><tr><td>epoch</td><td>5</td></tr><tr><td>test_accuracy</td><td>0.8492</td></tr><tr><td>training_loss</td><td>0.51997</td></tr><tr><td>validation loss</td><td>0.38912</td></tr><tr><td>validation_accuracy</td><td>0.85917</td></tr></table><br/></div></div>"
      ],
      "text/plain": [
       "<IPython.core.display.HTML object>"
      ]
     },
     "metadata": {},
     "output_type": "display_data"
    },
    {
     "data": {
      "text/html": [
       " View run <strong style=\"color:#cdcd00\">hl_4_hs_128_bs_32_ac_tanh_opt_momentum</strong> at: <a href='https://wandb.ai/ed24s401-indian-institute-of-technology-madras/q4_sweep_project/runs/bfsqxgb8' target=\"_blank\">https://wandb.ai/ed24s401-indian-institute-of-technology-madras/q4_sweep_project/runs/bfsqxgb8</a><br> View project at: <a href='https://wandb.ai/ed24s401-indian-institute-of-technology-madras/q4_sweep_project' target=\"_blank\">https://wandb.ai/ed24s401-indian-institute-of-technology-madras/q4_sweep_project</a><br>Synced 5 W&B file(s), 0 media file(s), 0 artifact file(s) and 0 other file(s)"
      ],
      "text/plain": [
       "<IPython.core.display.HTML object>"
      ]
     },
     "metadata": {},
     "output_type": "display_data"
    },
    {
     "data": {
      "text/html": [
       "Find logs at: <code>.\\wandb\\run-20250317_142231-bfsqxgb8\\logs</code>"
      ],
      "text/plain": [
       "<IPython.core.display.HTML object>"
      ]
     },
     "metadata": {},
     "output_type": "display_data"
    },
    {
     "name": "stderr",
     "output_type": "stream",
     "text": [
      "\u001b[34m\u001b[1mwandb\u001b[0m: Sweep Agent: Waiting for job.\n",
      "\u001b[34m\u001b[1mwandb\u001b[0m: Job received.\n",
      "\u001b[34m\u001b[1mwandb\u001b[0m: Agent Starting Run: 5kcm9eh7 with config:\n",
      "\u001b[34m\u001b[1mwandb\u001b[0m: \tactivation: tanh\n",
      "\u001b[34m\u001b[1mwandb\u001b[0m: \tbatch_size: 64\n",
      "\u001b[34m\u001b[1mwandb\u001b[0m: \tbeta1: 0.9\n",
      "\u001b[34m\u001b[1mwandb\u001b[0m: \tbeta2: 0.99\n",
      "\u001b[34m\u001b[1mwandb\u001b[0m: \tbeta_rms: 0.9\n",
      "\u001b[34m\u001b[1mwandb\u001b[0m: \tepochs: 10\n",
      "\u001b[34m\u001b[1mwandb\u001b[0m: \tepsilon: 1e-08\n",
      "\u001b[34m\u001b[1mwandb\u001b[0m: \thidden_size: 128\n",
      "\u001b[34m\u001b[1mwandb\u001b[0m: \tinit_type: xavier\n",
      "\u001b[34m\u001b[1mwandb\u001b[0m: \tlearning_rate: 0.0001\n",
      "\u001b[34m\u001b[1mwandb\u001b[0m: \tloss_func: cross_entropy\n",
      "\u001b[34m\u001b[1mwandb\u001b[0m: \tmomentum: 0.9\n",
      "\u001b[34m\u001b[1mwandb\u001b[0m: \tnum_hidden_layers: 3\n",
      "\u001b[34m\u001b[1mwandb\u001b[0m: \toptimizer: nadam\n",
      "\u001b[34m\u001b[1mwandb\u001b[0m: \tweight_decay: 0\n"
     ]
    },
    {
     "data": {
      "text/html": [
       "creating run (0.3s)"
      ],
      "text/plain": [
       "<IPython.core.display.HTML object>"
      ]
     },
     "metadata": {},
     "output_type": "display_data"
    },
    {
     "data": {
      "text/html": [
       "Tracking run with wandb version 0.19.8"
      ],
      "text/plain": [
       "<IPython.core.display.HTML object>"
      ]
     },
     "metadata": {},
     "output_type": "display_data"
    },
    {
     "data": {
      "text/html": [
       "Run data is saved locally in <code>c:\\Users\\acer\\OneDrive\\Documents\\GitHub\\dl_assignment_ed24s401\\wandb\\run-20250317_142329-5kcm9eh7</code>"
      ],
      "text/plain": [
       "<IPython.core.display.HTML object>"
      ]
     },
     "metadata": {},
     "output_type": "display_data"
    },
    {
     "data": {
      "text/html": [
       "Syncing run <strong><a href='https://wandb.ai/ed24s401-indian-institute-of-technology-madras/q4_sweep_project/runs/5kcm9eh7' target=\"_blank\">rose-sweep-54</a></strong> to <a href='https://wandb.ai/ed24s401-indian-institute-of-technology-madras/q4_sweep_project' target=\"_blank\">Weights & Biases</a> (<a href='https://wandb.me/developer-guide' target=\"_blank\">docs</a>)<br>Sweep page: <a href='https://wandb.ai/ed24s401-indian-institute-of-technology-madras/q4_sweep_project/sweeps/hp8fw2uv' target=\"_blank\">https://wandb.ai/ed24s401-indian-institute-of-technology-madras/q4_sweep_project/sweeps/hp8fw2uv</a>"
      ],
      "text/plain": [
       "<IPython.core.display.HTML object>"
      ]
     },
     "metadata": {},
     "output_type": "display_data"
    },
    {
     "data": {
      "text/html": [
       " View project at <a href='https://wandb.ai/ed24s401-indian-institute-of-technology-madras/q4_sweep_project' target=\"_blank\">https://wandb.ai/ed24s401-indian-institute-of-technology-madras/q4_sweep_project</a>"
      ],
      "text/plain": [
       "<IPython.core.display.HTML object>"
      ]
     },
     "metadata": {},
     "output_type": "display_data"
    },
    {
     "data": {
      "text/html": [
       " View sweep at <a href='https://wandb.ai/ed24s401-indian-institute-of-technology-madras/q4_sweep_project/sweeps/hp8fw2uv' target=\"_blank\">https://wandb.ai/ed24s401-indian-institute-of-technology-madras/q4_sweep_project/sweeps/hp8fw2uv</a>"
      ],
      "text/plain": [
       "<IPython.core.display.HTML object>"
      ]
     },
     "metadata": {},
     "output_type": "display_data"
    },
    {
     "data": {
      "text/html": [
       " View run at <a href='https://wandb.ai/ed24s401-indian-institute-of-technology-madras/q4_sweep_project/runs/5kcm9eh7' target=\"_blank\">https://wandb.ai/ed24s401-indian-institute-of-technology-madras/q4_sweep_project/runs/5kcm9eh7</a>"
      ],
      "text/plain": [
       "<IPython.core.display.HTML object>"
      ]
     },
     "metadata": {},
     "output_type": "display_data"
    },
    {
     "name": "stdout",
     "output_type": "stream",
     "text": [
      "Epoch 1/10 - loss=0.7439, val_acc=0.8167, val_loss=0.5026992546209904\n",
      "Epoch 2/10 - loss=0.4488, val_acc=0.8422, val_loss=0.4338544619512289\n",
      "Epoch 3/10 - loss=0.4053, val_acc=0.8510, val_loss=0.4139029506437038\n",
      "Epoch 4/10 - loss=0.3824, val_acc=0.8602, val_loss=0.3863545883312677\n",
      "Epoch 5/10 - loss=0.3657, val_acc=0.8635, val_loss=0.3731739293147886\n",
      "Epoch 6/10 - loss=0.3539, val_acc=0.8687, val_loss=0.36290190204502265\n",
      "Epoch 7/10 - loss=0.3423, val_acc=0.8677, val_loss=0.3593922443346111\n",
      "Epoch 8/10 - loss=0.3339, val_acc=0.8703, val_loss=0.3457204614723775\n",
      "Epoch 9/10 - loss=0.3253, val_acc=0.8752, val_loss=0.34064979016511865\n",
      "Epoch 10/10 - loss=0.3184, val_acc=0.8722, val_loss=0.34480101499089444\n",
      "test accuracy  0.8669\n"
     ]
    },
    {
     "data": {
      "text/html": [],
      "text/plain": [
       "<IPython.core.display.HTML object>"
      ]
     },
     "metadata": {},
     "output_type": "display_data"
    },
    {
     "data": {
      "text/html": [
       "<br>    <style><br>        .wandb-row {<br>            display: flex;<br>            flex-direction: row;<br>            flex-wrap: wrap;<br>            justify-content: flex-start;<br>            width: 100%;<br>        }<br>        .wandb-col {<br>            display: flex;<br>            flex-direction: column;<br>            flex-basis: 100%;<br>            flex: 1;<br>            padding: 10px;<br>        }<br>    </style><br><div class=\"wandb-row\"><div class=\"wandb-col\"><h3>Run history:</h3><br/><table class=\"wandb\"><tr><td>epoch</td><td>▁▂▃▃▄▅▆▆▇█</td></tr><tr><td>test_accuracy</td><td>▁</td></tr><tr><td>training_loss</td><td>█▃▂▂▂▂▁▁▁▁</td></tr><tr><td>validation loss</td><td>█▅▄▃▂▂▂▁▁▁</td></tr><tr><td>validation_accuracy</td><td>▁▄▅▆▇▇▇▇██</td></tr></table><br/></div><div class=\"wandb-col\"><h3>Run summary:</h3><br/><table class=\"wandb\"><tr><td>epoch</td><td>10</td></tr><tr><td>test_accuracy</td><td>0.8669</td></tr><tr><td>training_loss</td><td>0.31843</td></tr><tr><td>validation loss</td><td>0.3448</td></tr><tr><td>validation_accuracy</td><td>0.87217</td></tr></table><br/></div></div>"
      ],
      "text/plain": [
       "<IPython.core.display.HTML object>"
      ]
     },
     "metadata": {},
     "output_type": "display_data"
    },
    {
     "data": {
      "text/html": [
       " View run <strong style=\"color:#cdcd00\">hl_3_hs_128_bs_64_ac_tanh_opt_nadam</strong> at: <a href='https://wandb.ai/ed24s401-indian-institute-of-technology-madras/q4_sweep_project/runs/5kcm9eh7' target=\"_blank\">https://wandb.ai/ed24s401-indian-institute-of-technology-madras/q4_sweep_project/runs/5kcm9eh7</a><br> View project at: <a href='https://wandb.ai/ed24s401-indian-institute-of-technology-madras/q4_sweep_project' target=\"_blank\">https://wandb.ai/ed24s401-indian-institute-of-technology-madras/q4_sweep_project</a><br>Synced 5 W&B file(s), 0 media file(s), 0 artifact file(s) and 0 other file(s)"
      ],
      "text/plain": [
       "<IPython.core.display.HTML object>"
      ]
     },
     "metadata": {},
     "output_type": "display_data"
    },
    {
     "data": {
      "text/html": [
       "Find logs at: <code>.\\wandb\\run-20250317_142329-5kcm9eh7\\logs</code>"
      ],
      "text/plain": [
       "<IPython.core.display.HTML object>"
      ]
     },
     "metadata": {},
     "output_type": "display_data"
    },
    {
     "name": "stderr",
     "output_type": "stream",
     "text": [
      "\u001b[34m\u001b[1mwandb\u001b[0m: Agent Starting Run: 45klwkjl with config:\n",
      "\u001b[34m\u001b[1mwandb\u001b[0m: \tactivation: sigmoid\n",
      "\u001b[34m\u001b[1mwandb\u001b[0m: \tbatch_size: 16\n",
      "\u001b[34m\u001b[1mwandb\u001b[0m: \tbeta1: 0.9\n",
      "\u001b[34m\u001b[1mwandb\u001b[0m: \tbeta2: 0.999\n",
      "\u001b[34m\u001b[1mwandb\u001b[0m: \tbeta_rms: 0.9\n",
      "\u001b[34m\u001b[1mwandb\u001b[0m: \tepochs: 10\n",
      "\u001b[34m\u001b[1mwandb\u001b[0m: \tepsilon: 1e-08\n",
      "\u001b[34m\u001b[1mwandb\u001b[0m: \thidden_size: 128\n",
      "\u001b[34m\u001b[1mwandb\u001b[0m: \tinit_type: xavier\n",
      "\u001b[34m\u001b[1mwandb\u001b[0m: \tlearning_rate: 0.001\n",
      "\u001b[34m\u001b[1mwandb\u001b[0m: \tloss_func: cross_entropy\n",
      "\u001b[34m\u001b[1mwandb\u001b[0m: \tmomentum: 0.9\n",
      "\u001b[34m\u001b[1mwandb\u001b[0m: \tnum_hidden_layers: 4\n",
      "\u001b[34m\u001b[1mwandb\u001b[0m: \toptimizer: momentum\n",
      "\u001b[34m\u001b[1mwandb\u001b[0m: \tweight_decay: 0.0005\n"
     ]
    },
    {
     "data": {
      "text/html": [
       "Tracking run with wandb version 0.19.8"
      ],
      "text/plain": [
       "<IPython.core.display.HTML object>"
      ]
     },
     "metadata": {},
     "output_type": "display_data"
    },
    {
     "data": {
      "text/html": [
       "Run data is saved locally in <code>c:\\Users\\acer\\OneDrive\\Documents\\GitHub\\dl_assignment_ed24s401\\wandb\\run-20250317_142515-45klwkjl</code>"
      ],
      "text/plain": [
       "<IPython.core.display.HTML object>"
      ]
     },
     "metadata": {},
     "output_type": "display_data"
    },
    {
     "data": {
      "text/html": [
       "Syncing run <strong><a href='https://wandb.ai/ed24s401-indian-institute-of-technology-madras/q4_sweep_project/runs/45klwkjl' target=\"_blank\">crimson-sweep-55</a></strong> to <a href='https://wandb.ai/ed24s401-indian-institute-of-technology-madras/q4_sweep_project' target=\"_blank\">Weights & Biases</a> (<a href='https://wandb.me/developer-guide' target=\"_blank\">docs</a>)<br>Sweep page: <a href='https://wandb.ai/ed24s401-indian-institute-of-technology-madras/q4_sweep_project/sweeps/hp8fw2uv' target=\"_blank\">https://wandb.ai/ed24s401-indian-institute-of-technology-madras/q4_sweep_project/sweeps/hp8fw2uv</a>"
      ],
      "text/plain": [
       "<IPython.core.display.HTML object>"
      ]
     },
     "metadata": {},
     "output_type": "display_data"
    },
    {
     "data": {
      "text/html": [
       " View project at <a href='https://wandb.ai/ed24s401-indian-institute-of-technology-madras/q4_sweep_project' target=\"_blank\">https://wandb.ai/ed24s401-indian-institute-of-technology-madras/q4_sweep_project</a>"
      ],
      "text/plain": [
       "<IPython.core.display.HTML object>"
      ]
     },
     "metadata": {},
     "output_type": "display_data"
    },
    {
     "data": {
      "text/html": [
       " View sweep at <a href='https://wandb.ai/ed24s401-indian-institute-of-technology-madras/q4_sweep_project/sweeps/hp8fw2uv' target=\"_blank\">https://wandb.ai/ed24s401-indian-institute-of-technology-madras/q4_sweep_project/sweeps/hp8fw2uv</a>"
      ],
      "text/plain": [
       "<IPython.core.display.HTML object>"
      ]
     },
     "metadata": {},
     "output_type": "display_data"
    },
    {
     "data": {
      "text/html": [
       " View run at <a href='https://wandb.ai/ed24s401-indian-institute-of-technology-madras/q4_sweep_project/runs/45klwkjl' target=\"_blank\">https://wandb.ai/ed24s401-indian-institute-of-technology-madras/q4_sweep_project/runs/45klwkjl</a>"
      ],
      "text/plain": [
       "<IPython.core.display.HTML object>"
      ]
     },
     "metadata": {},
     "output_type": "display_data"
    },
    {
     "name": "stdout",
     "output_type": "stream",
     "text": [
      "Epoch 1/10 - loss=2.4359, val_acc=0.0977, val_loss=2.3032058797606467\n",
      "Epoch 2/10 - loss=2.4299, val_acc=0.0977, val_loss=2.3045741913854116\n",
      "Epoch 3/10 - loss=2.4234, val_acc=0.0995, val_loss=2.2996684351762497\n",
      "Epoch 4/10 - loss=2.4160, val_acc=0.0977, val_loss=2.2966353525990466\n",
      "Epoch 5/10 - loss=2.3999, val_acc=0.1817, val_loss=2.267710741553585\n",
      "Epoch 6/10 - loss=2.2192, val_acc=0.2793, val_loss=1.7777570248361705\n",
      "Epoch 7/10 - loss=1.7648, val_acc=0.3515, val_loss=1.5341899277361684\n",
      "Epoch 8/10 - loss=1.5262, val_acc=0.4890, val_loss=1.3009107777902544\n",
      "Epoch 9/10 - loss=1.3697, val_acc=0.5350, val_loss=1.1815425336312713\n",
      "Epoch 10/10 - loss=1.2728, val_acc=0.5637, val_loss=1.0900192569411613\n",
      "test accuracy  0.5636\n"
     ]
    },
    {
     "data": {
      "text/html": [],
      "text/plain": [
       "<IPython.core.display.HTML object>"
      ]
     },
     "metadata": {},
     "output_type": "display_data"
    },
    {
     "data": {
      "text/html": [
       "<br>    <style><br>        .wandb-row {<br>            display: flex;<br>            flex-direction: row;<br>            flex-wrap: wrap;<br>            justify-content: flex-start;<br>            width: 100%;<br>        }<br>        .wandb-col {<br>            display: flex;<br>            flex-direction: column;<br>            flex-basis: 100%;<br>            flex: 1;<br>            padding: 10px;<br>        }<br>    </style><br><div class=\"wandb-row\"><div class=\"wandb-col\"><h3>Run history:</h3><br/><table class=\"wandb\"><tr><td>epoch</td><td>▁▂▃▃▄▅▆▆▇█</td></tr><tr><td>test_accuracy</td><td>▁</td></tr><tr><td>training_loss</td><td>█████▇▄▃▂▁</td></tr><tr><td>validation loss</td><td>█████▅▄▂▂▁</td></tr><tr><td>validation_accuracy</td><td>▁▁▁▁▂▄▅▇██</td></tr></table><br/></div><div class=\"wandb-col\"><h3>Run summary:</h3><br/><table class=\"wandb\"><tr><td>epoch</td><td>10</td></tr><tr><td>test_accuracy</td><td>0.5636</td></tr><tr><td>training_loss</td><td>1.27284</td></tr><tr><td>validation loss</td><td>1.09002</td></tr><tr><td>validation_accuracy</td><td>0.56367</td></tr></table><br/></div></div>"
      ],
      "text/plain": [
       "<IPython.core.display.HTML object>"
      ]
     },
     "metadata": {},
     "output_type": "display_data"
    },
    {
     "data": {
      "text/html": [
       " View run <strong style=\"color:#cdcd00\">hl_4_hs_128_bs_16_ac_sigmoid_opt_momentum</strong> at: <a href='https://wandb.ai/ed24s401-indian-institute-of-technology-madras/q4_sweep_project/runs/45klwkjl' target=\"_blank\">https://wandb.ai/ed24s401-indian-institute-of-technology-madras/q4_sweep_project/runs/45klwkjl</a><br> View project at: <a href='https://wandb.ai/ed24s401-indian-institute-of-technology-madras/q4_sweep_project' target=\"_blank\">https://wandb.ai/ed24s401-indian-institute-of-technology-madras/q4_sweep_project</a><br>Synced 5 W&B file(s), 0 media file(s), 0 artifact file(s) and 0 other file(s)"
      ],
      "text/plain": [
       "<IPython.core.display.HTML object>"
      ]
     },
     "metadata": {},
     "output_type": "display_data"
    },
    {
     "data": {
      "text/html": [
       "Find logs at: <code>.\\wandb\\run-20250317_142515-45klwkjl\\logs</code>"
      ],
      "text/plain": [
       "<IPython.core.display.HTML object>"
      ]
     },
     "metadata": {},
     "output_type": "display_data"
    },
    {
     "name": "stderr",
     "output_type": "stream",
     "text": [
      "\u001b[34m\u001b[1mwandb\u001b[0m: Agent Starting Run: xutwudn7 with config:\n",
      "\u001b[34m\u001b[1mwandb\u001b[0m: \tactivation: tanh\n",
      "\u001b[34m\u001b[1mwandb\u001b[0m: \tbatch_size: 64\n",
      "\u001b[34m\u001b[1mwandb\u001b[0m: \tbeta1: 0.9\n",
      "\u001b[34m\u001b[1mwandb\u001b[0m: \tbeta2: 0.99\n",
      "\u001b[34m\u001b[1mwandb\u001b[0m: \tbeta_rms: 0.9\n",
      "\u001b[34m\u001b[1mwandb\u001b[0m: \tepochs: 5\n",
      "\u001b[34m\u001b[1mwandb\u001b[0m: \tepsilon: 1e-08\n",
      "\u001b[34m\u001b[1mwandb\u001b[0m: \thidden_size: 128\n",
      "\u001b[34m\u001b[1mwandb\u001b[0m: \tinit_type: random\n",
      "\u001b[34m\u001b[1mwandb\u001b[0m: \tlearning_rate: 0.001\n",
      "\u001b[34m\u001b[1mwandb\u001b[0m: \tloss_func: cross_entropy\n",
      "\u001b[34m\u001b[1mwandb\u001b[0m: \tmomentum: 0.9\n",
      "\u001b[34m\u001b[1mwandb\u001b[0m: \tnum_hidden_layers: 4\n",
      "\u001b[34m\u001b[1mwandb\u001b[0m: \toptimizer: nadam\n",
      "\u001b[34m\u001b[1mwandb\u001b[0m: \tweight_decay: 0\n"
     ]
    },
    {
     "data": {
      "text/html": [
       "Tracking run with wandb version 0.19.8"
      ],
      "text/plain": [
       "<IPython.core.display.HTML object>"
      ]
     },
     "metadata": {},
     "output_type": "display_data"
    },
    {
     "data": {
      "text/html": [
       "Run data is saved locally in <code>c:\\Users\\acer\\OneDrive\\Documents\\GitHub\\dl_assignment_ed24s401\\wandb\\run-20250317_142833-xutwudn7</code>"
      ],
      "text/plain": [
       "<IPython.core.display.HTML object>"
      ]
     },
     "metadata": {},
     "output_type": "display_data"
    },
    {
     "data": {
      "text/html": [
       "Syncing run <strong><a href='https://wandb.ai/ed24s401-indian-institute-of-technology-madras/q4_sweep_project/runs/xutwudn7' target=\"_blank\">autumn-sweep-56</a></strong> to <a href='https://wandb.ai/ed24s401-indian-institute-of-technology-madras/q4_sweep_project' target=\"_blank\">Weights & Biases</a> (<a href='https://wandb.me/developer-guide' target=\"_blank\">docs</a>)<br>Sweep page: <a href='https://wandb.ai/ed24s401-indian-institute-of-technology-madras/q4_sweep_project/sweeps/hp8fw2uv' target=\"_blank\">https://wandb.ai/ed24s401-indian-institute-of-technology-madras/q4_sweep_project/sweeps/hp8fw2uv</a>"
      ],
      "text/plain": [
       "<IPython.core.display.HTML object>"
      ]
     },
     "metadata": {},
     "output_type": "display_data"
    },
    {
     "data": {
      "text/html": [
       " View project at <a href='https://wandb.ai/ed24s401-indian-institute-of-technology-madras/q4_sweep_project' target=\"_blank\">https://wandb.ai/ed24s401-indian-institute-of-technology-madras/q4_sweep_project</a>"
      ],
      "text/plain": [
       "<IPython.core.display.HTML object>"
      ]
     },
     "metadata": {},
     "output_type": "display_data"
    },
    {
     "data": {
      "text/html": [
       " View sweep at <a href='https://wandb.ai/ed24s401-indian-institute-of-technology-madras/q4_sweep_project/sweeps/hp8fw2uv' target=\"_blank\">https://wandb.ai/ed24s401-indian-institute-of-technology-madras/q4_sweep_project/sweeps/hp8fw2uv</a>"
      ],
      "text/plain": [
       "<IPython.core.display.HTML object>"
      ]
     },
     "metadata": {},
     "output_type": "display_data"
    },
    {
     "data": {
      "text/html": [
       " View run at <a href='https://wandb.ai/ed24s401-indian-institute-of-technology-madras/q4_sweep_project/runs/xutwudn7' target=\"_blank\">https://wandb.ai/ed24s401-indian-institute-of-technology-madras/q4_sweep_project/runs/xutwudn7</a>"
      ],
      "text/plain": [
       "<IPython.core.display.HTML object>"
      ]
     },
     "metadata": {},
     "output_type": "display_data"
    },
    {
     "name": "stdout",
     "output_type": "stream",
     "text": [
      "Epoch 1/5 - loss=0.4545, val_acc=0.8505, val_loss=0.4007399164304077\n",
      "Epoch 2/5 - loss=0.3542, val_acc=0.8713, val_loss=0.34238282363498257\n",
      "Epoch 3/5 - loss=0.3206, val_acc=0.8803, val_loss=0.3323627488947404\n",
      "Epoch 4/5 - loss=0.2981, val_acc=0.8792, val_loss=0.3265023483876427\n",
      "Epoch 5/5 - loss=0.2824, val_acc=0.8878, val_loss=0.3079259922592906\n",
      "test accuracy  0.8764\n"
     ]
    },
    {
     "data": {
      "text/html": [],
      "text/plain": [
       "<IPython.core.display.HTML object>"
      ]
     },
     "metadata": {},
     "output_type": "display_data"
    },
    {
     "data": {
      "text/html": [
       "<br>    <style><br>        .wandb-row {<br>            display: flex;<br>            flex-direction: row;<br>            flex-wrap: wrap;<br>            justify-content: flex-start;<br>            width: 100%;<br>        }<br>        .wandb-col {<br>            display: flex;<br>            flex-direction: column;<br>            flex-basis: 100%;<br>            flex: 1;<br>            padding: 10px;<br>        }<br>    </style><br><div class=\"wandb-row\"><div class=\"wandb-col\"><h3>Run history:</h3><br/><table class=\"wandb\"><tr><td>epoch</td><td>▁▃▅▆█</td></tr><tr><td>test_accuracy</td><td>▁</td></tr><tr><td>training_loss</td><td>█▄▃▂▁</td></tr><tr><td>validation loss</td><td>█▄▃▂▁</td></tr><tr><td>validation_accuracy</td><td>▁▅▇▆█</td></tr></table><br/></div><div class=\"wandb-col\"><h3>Run summary:</h3><br/><table class=\"wandb\"><tr><td>epoch</td><td>5</td></tr><tr><td>test_accuracy</td><td>0.8764</td></tr><tr><td>training_loss</td><td>0.2824</td></tr><tr><td>validation loss</td><td>0.30793</td></tr><tr><td>validation_accuracy</td><td>0.88783</td></tr></table><br/></div></div>"
      ],
      "text/plain": [
       "<IPython.core.display.HTML object>"
      ]
     },
     "metadata": {},
     "output_type": "display_data"
    },
    {
     "data": {
      "text/html": [
       " View run <strong style=\"color:#cdcd00\">hl_4_hs_128_bs_64_ac_tanh_opt_nadam</strong> at: <a href='https://wandb.ai/ed24s401-indian-institute-of-technology-madras/q4_sweep_project/runs/xutwudn7' target=\"_blank\">https://wandb.ai/ed24s401-indian-institute-of-technology-madras/q4_sweep_project/runs/xutwudn7</a><br> View project at: <a href='https://wandb.ai/ed24s401-indian-institute-of-technology-madras/q4_sweep_project' target=\"_blank\">https://wandb.ai/ed24s401-indian-institute-of-technology-madras/q4_sweep_project</a><br>Synced 5 W&B file(s), 0 media file(s), 0 artifact file(s) and 0 other file(s)"
      ],
      "text/plain": [
       "<IPython.core.display.HTML object>"
      ]
     },
     "metadata": {},
     "output_type": "display_data"
    },
    {
     "data": {
      "text/html": [
       "Find logs at: <code>.\\wandb\\run-20250317_142833-xutwudn7\\logs</code>"
      ],
      "text/plain": [
       "<IPython.core.display.HTML object>"
      ]
     },
     "metadata": {},
     "output_type": "display_data"
    },
    {
     "name": "stderr",
     "output_type": "stream",
     "text": [
      "\u001b[34m\u001b[1mwandb\u001b[0m: Agent Starting Run: zub0fhcj with config:\n",
      "\u001b[34m\u001b[1mwandb\u001b[0m: \tactivation: tanh\n",
      "\u001b[34m\u001b[1mwandb\u001b[0m: \tbatch_size: 32\n",
      "\u001b[34m\u001b[1mwandb\u001b[0m: \tbeta1: 0.9\n",
      "\u001b[34m\u001b[1mwandb\u001b[0m: \tbeta2: 0.999\n",
      "\u001b[34m\u001b[1mwandb\u001b[0m: \tbeta_rms: 0.9\n",
      "\u001b[34m\u001b[1mwandb\u001b[0m: \tepochs: 5\n",
      "\u001b[34m\u001b[1mwandb\u001b[0m: \tepsilon: 1e-08\n",
      "\u001b[34m\u001b[1mwandb\u001b[0m: \thidden_size: 64\n",
      "\u001b[34m\u001b[1mwandb\u001b[0m: \tinit_type: random\n",
      "\u001b[34m\u001b[1mwandb\u001b[0m: \tlearning_rate: 0.001\n",
      "\u001b[34m\u001b[1mwandb\u001b[0m: \tloss_func: cross_entropy\n",
      "\u001b[34m\u001b[1mwandb\u001b[0m: \tmomentum: 0.9\n",
      "\u001b[34m\u001b[1mwandb\u001b[0m: \tnum_hidden_layers: 3\n",
      "\u001b[34m\u001b[1mwandb\u001b[0m: \toptimizer: nesterov\n",
      "\u001b[34m\u001b[1mwandb\u001b[0m: \tweight_decay: 0\n"
     ]
    },
    {
     "data": {
      "text/html": [
       "creating run (0.2s)"
      ],
      "text/plain": [
       "<IPython.core.display.HTML object>"
      ]
     },
     "metadata": {},
     "output_type": "display_data"
    },
    {
     "data": {
      "text/html": [
       "Tracking run with wandb version 0.19.8"
      ],
      "text/plain": [
       "<IPython.core.display.HTML object>"
      ]
     },
     "metadata": {},
     "output_type": "display_data"
    },
    {
     "data": {
      "text/html": [
       "Run data is saved locally in <code>c:\\Users\\acer\\OneDrive\\Documents\\GitHub\\dl_assignment_ed24s401\\wandb\\run-20250317_142946-zub0fhcj</code>"
      ],
      "text/plain": [
       "<IPython.core.display.HTML object>"
      ]
     },
     "metadata": {},
     "output_type": "display_data"
    },
    {
     "data": {
      "text/html": [
       "Syncing run <strong><a href='https://wandb.ai/ed24s401-indian-institute-of-technology-madras/q4_sweep_project/runs/zub0fhcj' target=\"_blank\">neat-sweep-57</a></strong> to <a href='https://wandb.ai/ed24s401-indian-institute-of-technology-madras/q4_sweep_project' target=\"_blank\">Weights & Biases</a> (<a href='https://wandb.me/developer-guide' target=\"_blank\">docs</a>)<br>Sweep page: <a href='https://wandb.ai/ed24s401-indian-institute-of-technology-madras/q4_sweep_project/sweeps/hp8fw2uv' target=\"_blank\">https://wandb.ai/ed24s401-indian-institute-of-technology-madras/q4_sweep_project/sweeps/hp8fw2uv</a>"
      ],
      "text/plain": [
       "<IPython.core.display.HTML object>"
      ]
     },
     "metadata": {},
     "output_type": "display_data"
    },
    {
     "data": {
      "text/html": [
       " View project at <a href='https://wandb.ai/ed24s401-indian-institute-of-technology-madras/q4_sweep_project' target=\"_blank\">https://wandb.ai/ed24s401-indian-institute-of-technology-madras/q4_sweep_project</a>"
      ],
      "text/plain": [
       "<IPython.core.display.HTML object>"
      ]
     },
     "metadata": {},
     "output_type": "display_data"
    },
    {
     "data": {
      "text/html": [
       " View sweep at <a href='https://wandb.ai/ed24s401-indian-institute-of-technology-madras/q4_sweep_project/sweeps/hp8fw2uv' target=\"_blank\">https://wandb.ai/ed24s401-indian-institute-of-technology-madras/q4_sweep_project/sweeps/hp8fw2uv</a>"
      ],
      "text/plain": [
       "<IPython.core.display.HTML object>"
      ]
     },
     "metadata": {},
     "output_type": "display_data"
    },
    {
     "data": {
      "text/html": [
       " View run at <a href='https://wandb.ai/ed24s401-indian-institute-of-technology-madras/q4_sweep_project/runs/zub0fhcj' target=\"_blank\">https://wandb.ai/ed24s401-indian-institute-of-technology-madras/q4_sweep_project/runs/zub0fhcj</a>"
      ],
      "text/plain": [
       "<IPython.core.display.HTML object>"
      ]
     },
     "metadata": {},
     "output_type": "display_data"
    },
    {
     "name": "stdout",
     "output_type": "stream",
     "text": [
      "Epoch 1/5 - loss=0.6659, val_acc=0.8213, val_loss=0.49542081447485686\n",
      "Epoch 2/5 - loss=0.4596, val_acc=0.8438, val_loss=0.43673648953797145\n",
      "Epoch 3/5 - loss=0.4167, val_acc=0.8475, val_loss=0.4160090315390941\n",
      "Epoch 4/5 - loss=0.3919, val_acc=0.8602, val_loss=0.389064541135099\n",
      "Epoch 5/5 - loss=0.3733, val_acc=0.8620, val_loss=0.3754235826002323\n",
      "test accuracy  0.8555\n"
     ]
    },
    {
     "data": {
      "text/html": [],
      "text/plain": [
       "<IPython.core.display.HTML object>"
      ]
     },
     "metadata": {},
     "output_type": "display_data"
    },
    {
     "data": {
      "text/html": [
       "<br>    <style><br>        .wandb-row {<br>            display: flex;<br>            flex-direction: row;<br>            flex-wrap: wrap;<br>            justify-content: flex-start;<br>            width: 100%;<br>        }<br>        .wandb-col {<br>            display: flex;<br>            flex-direction: column;<br>            flex-basis: 100%;<br>            flex: 1;<br>            padding: 10px;<br>        }<br>    </style><br><div class=\"wandb-row\"><div class=\"wandb-col\"><h3>Run history:</h3><br/><table class=\"wandb\"><tr><td>epoch</td><td>▁▃▅▆█</td></tr><tr><td>test_accuracy</td><td>▁</td></tr><tr><td>training_loss</td><td>█▃▂▁▁</td></tr><tr><td>validation loss</td><td>█▅▃▂▁</td></tr><tr><td>validation_accuracy</td><td>▁▅▆██</td></tr></table><br/></div><div class=\"wandb-col\"><h3>Run summary:</h3><br/><table class=\"wandb\"><tr><td>epoch</td><td>5</td></tr><tr><td>test_accuracy</td><td>0.8555</td></tr><tr><td>training_loss</td><td>0.37331</td></tr><tr><td>validation loss</td><td>0.37542</td></tr><tr><td>validation_accuracy</td><td>0.862</td></tr></table><br/></div></div>"
      ],
      "text/plain": [
       "<IPython.core.display.HTML object>"
      ]
     },
     "metadata": {},
     "output_type": "display_data"
    },
    {
     "data": {
      "text/html": [
       " View run <strong style=\"color:#cdcd00\">hl_3_hs_64_bs_32_ac_tanh_opt_nesterov</strong> at: <a href='https://wandb.ai/ed24s401-indian-institute-of-technology-madras/q4_sweep_project/runs/zub0fhcj' target=\"_blank\">https://wandb.ai/ed24s401-indian-institute-of-technology-madras/q4_sweep_project/runs/zub0fhcj</a><br> View project at: <a href='https://wandb.ai/ed24s401-indian-institute-of-technology-madras/q4_sweep_project' target=\"_blank\">https://wandb.ai/ed24s401-indian-institute-of-technology-madras/q4_sweep_project</a><br>Synced 5 W&B file(s), 0 media file(s), 0 artifact file(s) and 0 other file(s)"
      ],
      "text/plain": [
       "<IPython.core.display.HTML object>"
      ]
     },
     "metadata": {},
     "output_type": "display_data"
    },
    {
     "data": {
      "text/html": [
       "Find logs at: <code>.\\wandb\\run-20250317_142946-zub0fhcj\\logs</code>"
      ],
      "text/plain": [
       "<IPython.core.display.HTML object>"
      ]
     },
     "metadata": {},
     "output_type": "display_data"
    },
    {
     "name": "stderr",
     "output_type": "stream",
     "text": [
      "\u001b[34m\u001b[1mwandb\u001b[0m: Agent Starting Run: 2fbh1q86 with config:\n",
      "\u001b[34m\u001b[1mwandb\u001b[0m: \tactivation: tanh\n",
      "\u001b[34m\u001b[1mwandb\u001b[0m: \tbatch_size: 64\n",
      "\u001b[34m\u001b[1mwandb\u001b[0m: \tbeta1: 0.9\n",
      "\u001b[34m\u001b[1mwandb\u001b[0m: \tbeta2: 0.99\n",
      "\u001b[34m\u001b[1mwandb\u001b[0m: \tbeta_rms: 0.9\n",
      "\u001b[34m\u001b[1mwandb\u001b[0m: \tepochs: 10\n",
      "\u001b[34m\u001b[1mwandb\u001b[0m: \tepsilon: 1e-08\n",
      "\u001b[34m\u001b[1mwandb\u001b[0m: \thidden_size: 32\n",
      "\u001b[34m\u001b[1mwandb\u001b[0m: \tinit_type: xavier\n",
      "\u001b[34m\u001b[1mwandb\u001b[0m: \tlearning_rate: 0.001\n",
      "\u001b[34m\u001b[1mwandb\u001b[0m: \tloss_func: cross_entropy\n",
      "\u001b[34m\u001b[1mwandb\u001b[0m: \tmomentum: 0.9\n",
      "\u001b[34m\u001b[1mwandb\u001b[0m: \tnum_hidden_layers: 5\n",
      "\u001b[34m\u001b[1mwandb\u001b[0m: \toptimizer: nesterov\n",
      "\u001b[34m\u001b[1mwandb\u001b[0m: \tweight_decay: 0\n"
     ]
    },
    {
     "data": {
      "text/html": [
       "Tracking run with wandb version 0.19.8"
      ],
      "text/plain": [
       "<IPython.core.display.HTML object>"
      ]
     },
     "metadata": {},
     "output_type": "display_data"
    },
    {
     "data": {
      "text/html": [
       "Run data is saved locally in <code>c:\\Users\\acer\\OneDrive\\Documents\\GitHub\\dl_assignment_ed24s401\\wandb\\run-20250317_143017-2fbh1q86</code>"
      ],
      "text/plain": [
       "<IPython.core.display.HTML object>"
      ]
     },
     "metadata": {},
     "output_type": "display_data"
    },
    {
     "data": {
      "text/html": [
       "Syncing run <strong><a href='https://wandb.ai/ed24s401-indian-institute-of-technology-madras/q4_sweep_project/runs/2fbh1q86' target=\"_blank\">crimson-sweep-58</a></strong> to <a href='https://wandb.ai/ed24s401-indian-institute-of-technology-madras/q4_sweep_project' target=\"_blank\">Weights & Biases</a> (<a href='https://wandb.me/developer-guide' target=\"_blank\">docs</a>)<br>Sweep page: <a href='https://wandb.ai/ed24s401-indian-institute-of-technology-madras/q4_sweep_project/sweeps/hp8fw2uv' target=\"_blank\">https://wandb.ai/ed24s401-indian-institute-of-technology-madras/q4_sweep_project/sweeps/hp8fw2uv</a>"
      ],
      "text/plain": [
       "<IPython.core.display.HTML object>"
      ]
     },
     "metadata": {},
     "output_type": "display_data"
    },
    {
     "data": {
      "text/html": [
       " View project at <a href='https://wandb.ai/ed24s401-indian-institute-of-technology-madras/q4_sweep_project' target=\"_blank\">https://wandb.ai/ed24s401-indian-institute-of-technology-madras/q4_sweep_project</a>"
      ],
      "text/plain": [
       "<IPython.core.display.HTML object>"
      ]
     },
     "metadata": {},
     "output_type": "display_data"
    },
    {
     "data": {
      "text/html": [
       " View sweep at <a href='https://wandb.ai/ed24s401-indian-institute-of-technology-madras/q4_sweep_project/sweeps/hp8fw2uv' target=\"_blank\">https://wandb.ai/ed24s401-indian-institute-of-technology-madras/q4_sweep_project/sweeps/hp8fw2uv</a>"
      ],
      "text/plain": [
       "<IPython.core.display.HTML object>"
      ]
     },
     "metadata": {},
     "output_type": "display_data"
    },
    {
     "data": {
      "text/html": [
       " View run at <a href='https://wandb.ai/ed24s401-indian-institute-of-technology-madras/q4_sweep_project/runs/2fbh1q86' target=\"_blank\">https://wandb.ai/ed24s401-indian-institute-of-technology-madras/q4_sweep_project/runs/2fbh1q86</a>"
      ],
      "text/plain": [
       "<IPython.core.display.HTML object>"
      ]
     },
     "metadata": {},
     "output_type": "display_data"
    },
    {
     "name": "stdout",
     "output_type": "stream",
     "text": [
      "Epoch 1/10 - loss=1.1705, val_acc=0.7487, val_loss=0.7704718150462689\n",
      "Epoch 2/10 - loss=0.6524, val_acc=0.7893, val_loss=0.5932840491154239\n",
      "Epoch 3/10 - loss=0.5418, val_acc=0.8138, val_loss=0.5289603065393529\n",
      "Epoch 4/10 - loss=0.4890, val_acc=0.8290, val_loss=0.48377038747833284\n",
      "Epoch 5/10 - loss=0.4560, val_acc=0.8378, val_loss=0.45820906657758964\n",
      "Epoch 6/10 - loss=0.4329, val_acc=0.8428, val_loss=0.4411679718618387\n",
      "Epoch 7/10 - loss=0.4145, val_acc=0.8462, val_loss=0.42588116321424796\n",
      "Epoch 8/10 - loss=0.3981, val_acc=0.8570, val_loss=0.4080193945663923\n",
      "Epoch 9/10 - loss=0.3863, val_acc=0.8558, val_loss=0.4054220641407827\n",
      "Epoch 10/10 - loss=0.3759, val_acc=0.8612, val_loss=0.3883531097207951\n",
      "test accuracy  0.849\n"
     ]
    },
    {
     "data": {
      "text/html": [],
      "text/plain": [
       "<IPython.core.display.HTML object>"
      ]
     },
     "metadata": {},
     "output_type": "display_data"
    },
    {
     "data": {
      "text/html": [
       "<br>    <style><br>        .wandb-row {<br>            display: flex;<br>            flex-direction: row;<br>            flex-wrap: wrap;<br>            justify-content: flex-start;<br>            width: 100%;<br>        }<br>        .wandb-col {<br>            display: flex;<br>            flex-direction: column;<br>            flex-basis: 100%;<br>            flex: 1;<br>            padding: 10px;<br>        }<br>    </style><br><div class=\"wandb-row\"><div class=\"wandb-col\"><h3>Run history:</h3><br/><table class=\"wandb\"><tr><td>epoch</td><td>▁▂▃▃▄▅▆▆▇█</td></tr><tr><td>test_accuracy</td><td>▁</td></tr><tr><td>training_loss</td><td>█▃▂▂▂▂▁▁▁▁</td></tr><tr><td>validation loss</td><td>█▅▄▃▂▂▂▁▁▁</td></tr><tr><td>validation_accuracy</td><td>▁▄▅▆▇▇▇███</td></tr></table><br/></div><div class=\"wandb-col\"><h3>Run summary:</h3><br/><table class=\"wandb\"><tr><td>epoch</td><td>10</td></tr><tr><td>test_accuracy</td><td>0.849</td></tr><tr><td>training_loss</td><td>0.37595</td></tr><tr><td>validation loss</td><td>0.38835</td></tr><tr><td>validation_accuracy</td><td>0.86117</td></tr></table><br/></div></div>"
      ],
      "text/plain": [
       "<IPython.core.display.HTML object>"
      ]
     },
     "metadata": {},
     "output_type": "display_data"
    },
    {
     "data": {
      "text/html": [
       " View run <strong style=\"color:#cdcd00\">hl_5_hs_32_bs_64_ac_tanh_opt_nesterov</strong> at: <a href='https://wandb.ai/ed24s401-indian-institute-of-technology-madras/q4_sweep_project/runs/2fbh1q86' target=\"_blank\">https://wandb.ai/ed24s401-indian-institute-of-technology-madras/q4_sweep_project/runs/2fbh1q86</a><br> View project at: <a href='https://wandb.ai/ed24s401-indian-institute-of-technology-madras/q4_sweep_project' target=\"_blank\">https://wandb.ai/ed24s401-indian-institute-of-technology-madras/q4_sweep_project</a><br>Synced 5 W&B file(s), 0 media file(s), 0 artifact file(s) and 0 other file(s)"
      ],
      "text/plain": [
       "<IPython.core.display.HTML object>"
      ]
     },
     "metadata": {},
     "output_type": "display_data"
    },
    {
     "data": {
      "text/html": [
       "Find logs at: <code>.\\wandb\\run-20250317_143017-2fbh1q86\\logs</code>"
      ],
      "text/plain": [
       "<IPython.core.display.HTML object>"
      ]
     },
     "metadata": {},
     "output_type": "display_data"
    },
    {
     "name": "stderr",
     "output_type": "stream",
     "text": [
      "\u001b[34m\u001b[1mwandb\u001b[0m: Agent Starting Run: jipddqxh with config:\n",
      "\u001b[34m\u001b[1mwandb\u001b[0m: \tactivation: tanh\n",
      "\u001b[34m\u001b[1mwandb\u001b[0m: \tbatch_size: 64\n",
      "\u001b[34m\u001b[1mwandb\u001b[0m: \tbeta1: 0.9\n",
      "\u001b[34m\u001b[1mwandb\u001b[0m: \tbeta2: 0.999\n",
      "\u001b[34m\u001b[1mwandb\u001b[0m: \tbeta_rms: 0.9\n",
      "\u001b[34m\u001b[1mwandb\u001b[0m: \tepochs: 10\n",
      "\u001b[34m\u001b[1mwandb\u001b[0m: \tepsilon: 1e-08\n",
      "\u001b[34m\u001b[1mwandb\u001b[0m: \thidden_size: 32\n",
      "\u001b[34m\u001b[1mwandb\u001b[0m: \tinit_type: xavier\n",
      "\u001b[34m\u001b[1mwandb\u001b[0m: \tlearning_rate: 0.0001\n",
      "\u001b[34m\u001b[1mwandb\u001b[0m: \tloss_func: cross_entropy\n",
      "\u001b[34m\u001b[1mwandb\u001b[0m: \tmomentum: 0.9\n",
      "\u001b[34m\u001b[1mwandb\u001b[0m: \tnum_hidden_layers: 5\n",
      "\u001b[34m\u001b[1mwandb\u001b[0m: \toptimizer: adam\n",
      "\u001b[34m\u001b[1mwandb\u001b[0m: \tweight_decay: 0.5\n"
     ]
    },
    {
     "data": {
      "text/html": [],
      "text/plain": [
       "<IPython.core.display.HTML object>"
      ]
     },
     "metadata": {},
     "output_type": "display_data"
    },
    {
     "data": {
      "text/html": [
       "Tracking run with wandb version 0.19.8"
      ],
      "text/plain": [
       "<IPython.core.display.HTML object>"
      ]
     },
     "metadata": {},
     "output_type": "display_data"
    },
    {
     "data": {
      "text/html": [
       "Run data is saved locally in <code>c:\\Users\\acer\\OneDrive\\Documents\\GitHub\\dl_assignment_ed24s401\\wandb\\run-20250317_143039-jipddqxh</code>"
      ],
      "text/plain": [
       "<IPython.core.display.HTML object>"
      ]
     },
     "metadata": {},
     "output_type": "display_data"
    },
    {
     "data": {
      "text/html": [
       "Syncing run <strong><a href='https://wandb.ai/ed24s401-indian-institute-of-technology-madras/q4_sweep_project/runs/jipddqxh' target=\"_blank\">super-sweep-59</a></strong> to <a href='https://wandb.ai/ed24s401-indian-institute-of-technology-madras/q4_sweep_project' target=\"_blank\">Weights & Biases</a> (<a href='https://wandb.me/developer-guide' target=\"_blank\">docs</a>)<br>Sweep page: <a href='https://wandb.ai/ed24s401-indian-institute-of-technology-madras/q4_sweep_project/sweeps/hp8fw2uv' target=\"_blank\">https://wandb.ai/ed24s401-indian-institute-of-technology-madras/q4_sweep_project/sweeps/hp8fw2uv</a>"
      ],
      "text/plain": [
       "<IPython.core.display.HTML object>"
      ]
     },
     "metadata": {},
     "output_type": "display_data"
    },
    {
     "data": {
      "text/html": [
       " View project at <a href='https://wandb.ai/ed24s401-indian-institute-of-technology-madras/q4_sweep_project' target=\"_blank\">https://wandb.ai/ed24s401-indian-institute-of-technology-madras/q4_sweep_project</a>"
      ],
      "text/plain": [
       "<IPython.core.display.HTML object>"
      ]
     },
     "metadata": {},
     "output_type": "display_data"
    },
    {
     "data": {
      "text/html": [
       " View sweep at <a href='https://wandb.ai/ed24s401-indian-institute-of-technology-madras/q4_sweep_project/sweeps/hp8fw2uv' target=\"_blank\">https://wandb.ai/ed24s401-indian-institute-of-technology-madras/q4_sweep_project/sweeps/hp8fw2uv</a>"
      ],
      "text/plain": [
       "<IPython.core.display.HTML object>"
      ]
     },
     "metadata": {},
     "output_type": "display_data"
    },
    {
     "data": {
      "text/html": [
       " View run at <a href='https://wandb.ai/ed24s401-indian-institute-of-technology-madras/q4_sweep_project/runs/jipddqxh' target=\"_blank\">https://wandb.ai/ed24s401-indian-institute-of-technology-madras/q4_sweep_project/runs/jipddqxh</a>"
      ],
      "text/plain": [
       "<IPython.core.display.HTML object>"
      ]
     },
     "metadata": {},
     "output_type": "display_data"
    },
    {
     "name": "stdout",
     "output_type": "stream",
     "text": [
      "Epoch 1/10 - loss=28.4937, val_acc=0.2597, val_loss=2.0999051868460783\n",
      "Epoch 2/10 - loss=13.8261, val_acc=0.1870, val_loss=2.284823103753756\n",
      "Epoch 3/10 - loss=7.6395, val_acc=0.0977, val_loss=2.3025791573606194\n",
      "Epoch 4/10 - loss=4.6795, val_acc=0.0977, val_loss=2.3026167548538177\n",
      "Epoch 5/10 - loss=3.3027, val_acc=0.0977, val_loss=2.302613979934242\n",
      "Epoch 6/10 - loss=2.6890, val_acc=0.0977, val_loss=2.3026111196054218\n",
      "Epoch 7/10 - loss=2.4352, val_acc=0.0977, val_loss=2.302608154055921\n",
      "Epoch 8/10 - loss=2.3413, val_acc=0.0977, val_loss=2.3026108678437502\n",
      "Epoch 9/10 - loss=2.3116, val_acc=0.0977, val_loss=2.3026100879068916\n",
      "Epoch 10/10 - loss=2.3042, val_acc=0.0977, val_loss=2.3026094507739434\n",
      "test accuracy  0.1\n"
     ]
    },
    {
     "data": {
      "text/html": [],
      "text/plain": [
       "<IPython.core.display.HTML object>"
      ]
     },
     "metadata": {},
     "output_type": "display_data"
    },
    {
     "data": {
      "text/html": [
       "<br>    <style><br>        .wandb-row {<br>            display: flex;<br>            flex-direction: row;<br>            flex-wrap: wrap;<br>            justify-content: flex-start;<br>            width: 100%;<br>        }<br>        .wandb-col {<br>            display: flex;<br>            flex-direction: column;<br>            flex-basis: 100%;<br>            flex: 1;<br>            padding: 10px;<br>        }<br>    </style><br><div class=\"wandb-row\"><div class=\"wandb-col\"><h3>Run history:</h3><br/><table class=\"wandb\"><tr><td>epoch</td><td>▁▂▃▃▄▅▆▆▇█</td></tr><tr><td>test_accuracy</td><td>▁</td></tr><tr><td>training_loss</td><td>█▄▂▂▁▁▁▁▁▁</td></tr><tr><td>validation loss</td><td>▁▇████████</td></tr><tr><td>validation_accuracy</td><td>█▅▁▁▁▁▁▁▁▁</td></tr></table><br/></div><div class=\"wandb-col\"><h3>Run summary:</h3><br/><table class=\"wandb\"><tr><td>epoch</td><td>10</td></tr><tr><td>test_accuracy</td><td>0.1</td></tr><tr><td>training_loss</td><td>2.30416</td></tr><tr><td>validation loss</td><td>2.30261</td></tr><tr><td>validation_accuracy</td><td>0.09767</td></tr></table><br/></div></div>"
      ],
      "text/plain": [
       "<IPython.core.display.HTML object>"
      ]
     },
     "metadata": {},
     "output_type": "display_data"
    },
    {
     "data": {
      "text/html": [
       " View run <strong style=\"color:#cdcd00\">hl_5_hs_32_bs_64_ac_tanh_opt_adam</strong> at: <a href='https://wandb.ai/ed24s401-indian-institute-of-technology-madras/q4_sweep_project/runs/jipddqxh' target=\"_blank\">https://wandb.ai/ed24s401-indian-institute-of-technology-madras/q4_sweep_project/runs/jipddqxh</a><br> View project at: <a href='https://wandb.ai/ed24s401-indian-institute-of-technology-madras/q4_sweep_project' target=\"_blank\">https://wandb.ai/ed24s401-indian-institute-of-technology-madras/q4_sweep_project</a><br>Synced 5 W&B file(s), 0 media file(s), 0 artifact file(s) and 0 other file(s)"
      ],
      "text/plain": [
       "<IPython.core.display.HTML object>"
      ]
     },
     "metadata": {},
     "output_type": "display_data"
    },
    {
     "data": {
      "text/html": [
       "Find logs at: <code>.\\wandb\\run-20250317_143039-jipddqxh\\logs</code>"
      ],
      "text/plain": [
       "<IPython.core.display.HTML object>"
      ]
     },
     "metadata": {},
     "output_type": "display_data"
    },
    {
     "name": "stderr",
     "output_type": "stream",
     "text": [
      "\u001b[34m\u001b[1mwandb\u001b[0m: Agent Starting Run: kmgeequ2 with config:\n",
      "\u001b[34m\u001b[1mwandb\u001b[0m: \tactivation: sigmoid\n",
      "\u001b[34m\u001b[1mwandb\u001b[0m: \tbatch_size: 16\n",
      "\u001b[34m\u001b[1mwandb\u001b[0m: \tbeta1: 0.9\n",
      "\u001b[34m\u001b[1mwandb\u001b[0m: \tbeta2: 0.999\n",
      "\u001b[34m\u001b[1mwandb\u001b[0m: \tbeta_rms: 0.9\n",
      "\u001b[34m\u001b[1mwandb\u001b[0m: \tepochs: 5\n",
      "\u001b[34m\u001b[1mwandb\u001b[0m: \tepsilon: 1e-08\n",
      "\u001b[34m\u001b[1mwandb\u001b[0m: \thidden_size: 32\n",
      "\u001b[34m\u001b[1mwandb\u001b[0m: \tinit_type: random\n",
      "\u001b[34m\u001b[1mwandb\u001b[0m: \tlearning_rate: 0.001\n",
      "\u001b[34m\u001b[1mwandb\u001b[0m: \tloss_func: cross_entropy\n",
      "\u001b[34m\u001b[1mwandb\u001b[0m: \tmomentum: 0.9\n",
      "\u001b[34m\u001b[1mwandb\u001b[0m: \tnum_hidden_layers: 3\n",
      "\u001b[34m\u001b[1mwandb\u001b[0m: \toptimizer: sgd\n",
      "\u001b[34m\u001b[1mwandb\u001b[0m: \tweight_decay: 0.0005\n"
     ]
    },
    {
     "data": {
      "text/html": [
       "creating run (0.3s)"
      ],
      "text/plain": [
       "<IPython.core.display.HTML object>"
      ]
     },
     "metadata": {},
     "output_type": "display_data"
    },
    {
     "data": {
      "text/html": [
       "Tracking run with wandb version 0.19.8"
      ],
      "text/plain": [
       "<IPython.core.display.HTML object>"
      ]
     },
     "metadata": {},
     "output_type": "display_data"
    },
    {
     "data": {
      "text/html": [
       "Run data is saved locally in <code>c:\\Users\\acer\\OneDrive\\Documents\\GitHub\\dl_assignment_ed24s401\\wandb\\run-20250317_143105-kmgeequ2</code>"
      ],
      "text/plain": [
       "<IPython.core.display.HTML object>"
      ]
     },
     "metadata": {},
     "output_type": "display_data"
    },
    {
     "data": {
      "text/html": [
       "Syncing run <strong><a href='https://wandb.ai/ed24s401-indian-institute-of-technology-madras/q4_sweep_project/runs/kmgeequ2' target=\"_blank\">robust-sweep-60</a></strong> to <a href='https://wandb.ai/ed24s401-indian-institute-of-technology-madras/q4_sweep_project' target=\"_blank\">Weights & Biases</a> (<a href='https://wandb.me/developer-guide' target=\"_blank\">docs</a>)<br>Sweep page: <a href='https://wandb.ai/ed24s401-indian-institute-of-technology-madras/q4_sweep_project/sweeps/hp8fw2uv' target=\"_blank\">https://wandb.ai/ed24s401-indian-institute-of-technology-madras/q4_sweep_project/sweeps/hp8fw2uv</a>"
      ],
      "text/plain": [
       "<IPython.core.display.HTML object>"
      ]
     },
     "metadata": {},
     "output_type": "display_data"
    },
    {
     "data": {
      "text/html": [
       " View project at <a href='https://wandb.ai/ed24s401-indian-institute-of-technology-madras/q4_sweep_project' target=\"_blank\">https://wandb.ai/ed24s401-indian-institute-of-technology-madras/q4_sweep_project</a>"
      ],
      "text/plain": [
       "<IPython.core.display.HTML object>"
      ]
     },
     "metadata": {},
     "output_type": "display_data"
    },
    {
     "data": {
      "text/html": [
       " View sweep at <a href='https://wandb.ai/ed24s401-indian-institute-of-technology-madras/q4_sweep_project/sweeps/hp8fw2uv' target=\"_blank\">https://wandb.ai/ed24s401-indian-institute-of-technology-madras/q4_sweep_project/sweeps/hp8fw2uv</a>"
      ],
      "text/plain": [
       "<IPython.core.display.HTML object>"
      ]
     },
     "metadata": {},
     "output_type": "display_data"
    },
    {
     "data": {
      "text/html": [
       " View run at <a href='https://wandb.ai/ed24s401-indian-institute-of-technology-madras/q4_sweep_project/runs/kmgeequ2' target=\"_blank\">https://wandb.ai/ed24s401-indian-institute-of-technology-madras/q4_sweep_project/runs/kmgeequ2</a>"
      ],
      "text/plain": [
       "<IPython.core.display.HTML object>"
      ]
     },
     "metadata": {},
     "output_type": "display_data"
    },
    {
     "name": "stdout",
     "output_type": "stream",
     "text": [
      "Epoch 1/5 - loss=2.3906, val_acc=0.1687, val_loss=2.2949352214382217\n",
      "Epoch 2/5 - loss=2.3426, val_acc=0.3117, val_loss=2.2848278586077764\n",
      "Epoch 3/5 - loss=2.3323, val_acc=0.2732, val_loss=2.274036094787746\n",
      "Epoch 4/5 - loss=2.3207, val_acc=0.2902, val_loss=2.26149130453995\n",
      "Epoch 5/5 - loss=2.3065, val_acc=0.3397, val_loss=2.245067168780772\n",
      "test accuracy  0.3373\n"
     ]
    },
    {
     "data": {
      "text/html": [],
      "text/plain": [
       "<IPython.core.display.HTML object>"
      ]
     },
     "metadata": {},
     "output_type": "display_data"
    },
    {
     "data": {
      "text/html": [
       "<br>    <style><br>        .wandb-row {<br>            display: flex;<br>            flex-direction: row;<br>            flex-wrap: wrap;<br>            justify-content: flex-start;<br>            width: 100%;<br>        }<br>        .wandb-col {<br>            display: flex;<br>            flex-direction: column;<br>            flex-basis: 100%;<br>            flex: 1;<br>            padding: 10px;<br>        }<br>    </style><br><div class=\"wandb-row\"><div class=\"wandb-col\"><h3>Run history:</h3><br/><table class=\"wandb\"><tr><td>epoch</td><td>▁▃▅▆█</td></tr><tr><td>test_accuracy</td><td>▁</td></tr><tr><td>training_loss</td><td>█▄▃▂▁</td></tr><tr><td>validation loss</td><td>█▇▅▃▁</td></tr><tr><td>validation_accuracy</td><td>▁▇▅▆█</td></tr></table><br/></div><div class=\"wandb-col\"><h3>Run summary:</h3><br/><table class=\"wandb\"><tr><td>epoch</td><td>5</td></tr><tr><td>test_accuracy</td><td>0.3373</td></tr><tr><td>training_loss</td><td>2.30651</td></tr><tr><td>validation loss</td><td>2.24507</td></tr><tr><td>validation_accuracy</td><td>0.33967</td></tr></table><br/></div></div>"
      ],
      "text/plain": [
       "<IPython.core.display.HTML object>"
      ]
     },
     "metadata": {},
     "output_type": "display_data"
    },
    {
     "data": {
      "text/html": [
       " View run <strong style=\"color:#cdcd00\">hl_3_hs_32_bs_16_ac_sigmoid_opt_sgd</strong> at: <a href='https://wandb.ai/ed24s401-indian-institute-of-technology-madras/q4_sweep_project/runs/kmgeequ2' target=\"_blank\">https://wandb.ai/ed24s401-indian-institute-of-technology-madras/q4_sweep_project/runs/kmgeequ2</a><br> View project at: <a href='https://wandb.ai/ed24s401-indian-institute-of-technology-madras/q4_sweep_project' target=\"_blank\">https://wandb.ai/ed24s401-indian-institute-of-technology-madras/q4_sweep_project</a><br>Synced 5 W&B file(s), 0 media file(s), 0 artifact file(s) and 0 other file(s)"
      ],
      "text/plain": [
       "<IPython.core.display.HTML object>"
      ]
     },
     "metadata": {},
     "output_type": "display_data"
    },
    {
     "data": {
      "text/html": [
       "Find logs at: <code>.\\wandb\\run-20250317_143105-kmgeequ2\\logs</code>"
      ],
      "text/plain": [
       "<IPython.core.display.HTML object>"
      ]
     },
     "metadata": {},
     "output_type": "display_data"
    },
    {
     "name": "stderr",
     "output_type": "stream",
     "text": [
      "\u001b[34m\u001b[1mwandb\u001b[0m: Agent Starting Run: 9iej1nlo with config:\n",
      "\u001b[34m\u001b[1mwandb\u001b[0m: \tactivation: sigmoid\n",
      "\u001b[34m\u001b[1mwandb\u001b[0m: \tbatch_size: 32\n",
      "\u001b[34m\u001b[1mwandb\u001b[0m: \tbeta1: 0.9\n",
      "\u001b[34m\u001b[1mwandb\u001b[0m: \tbeta2: 0.999\n",
      "\u001b[34m\u001b[1mwandb\u001b[0m: \tbeta_rms: 0.9\n",
      "\u001b[34m\u001b[1mwandb\u001b[0m: \tepochs: 5\n",
      "\u001b[34m\u001b[1mwandb\u001b[0m: \tepsilon: 1e-08\n",
      "\u001b[34m\u001b[1mwandb\u001b[0m: \thidden_size: 64\n",
      "\u001b[34m\u001b[1mwandb\u001b[0m: \tinit_type: random\n",
      "\u001b[34m\u001b[1mwandb\u001b[0m: \tlearning_rate: 0.0001\n",
      "\u001b[34m\u001b[1mwandb\u001b[0m: \tloss_func: cross_entropy\n",
      "\u001b[34m\u001b[1mwandb\u001b[0m: \tmomentum: 0.9\n",
      "\u001b[34m\u001b[1mwandb\u001b[0m: \tnum_hidden_layers: 5\n",
      "\u001b[34m\u001b[1mwandb\u001b[0m: \toptimizer: sgd\n",
      "\u001b[34m\u001b[1mwandb\u001b[0m: \tweight_decay: 0.5\n"
     ]
    },
    {
     "data": {
      "text/html": [
       "Tracking run with wandb version 0.19.8"
      ],
      "text/plain": [
       "<IPython.core.display.HTML object>"
      ]
     },
     "metadata": {},
     "output_type": "display_data"
    },
    {
     "data": {
      "text/html": [
       "Run data is saved locally in <code>c:\\Users\\acer\\OneDrive\\Documents\\GitHub\\dl_assignment_ed24s401\\wandb\\run-20250317_143121-9iej1nlo</code>"
      ],
      "text/plain": [
       "<IPython.core.display.HTML object>"
      ]
     },
     "metadata": {},
     "output_type": "display_data"
    },
    {
     "data": {
      "text/html": [
       "Syncing run <strong><a href='https://wandb.ai/ed24s401-indian-institute-of-technology-madras/q4_sweep_project/runs/9iej1nlo' target=\"_blank\">magic-sweep-61</a></strong> to <a href='https://wandb.ai/ed24s401-indian-institute-of-technology-madras/q4_sweep_project' target=\"_blank\">Weights & Biases</a> (<a href='https://wandb.me/developer-guide' target=\"_blank\">docs</a>)<br>Sweep page: <a href='https://wandb.ai/ed24s401-indian-institute-of-technology-madras/q4_sweep_project/sweeps/hp8fw2uv' target=\"_blank\">https://wandb.ai/ed24s401-indian-institute-of-technology-madras/q4_sweep_project/sweeps/hp8fw2uv</a>"
      ],
      "text/plain": [
       "<IPython.core.display.HTML object>"
      ]
     },
     "metadata": {},
     "output_type": "display_data"
    },
    {
     "data": {
      "text/html": [
       " View project at <a href='https://wandb.ai/ed24s401-indian-institute-of-technology-madras/q4_sweep_project' target=\"_blank\">https://wandb.ai/ed24s401-indian-institute-of-technology-madras/q4_sweep_project</a>"
      ],
      "text/plain": [
       "<IPython.core.display.HTML object>"
      ]
     },
     "metadata": {},
     "output_type": "display_data"
    },
    {
     "data": {
      "text/html": [
       " View sweep at <a href='https://wandb.ai/ed24s401-indian-institute-of-technology-madras/q4_sweep_project/sweeps/hp8fw2uv' target=\"_blank\">https://wandb.ai/ed24s401-indian-institute-of-technology-madras/q4_sweep_project/sweeps/hp8fw2uv</a>"
      ],
      "text/plain": [
       "<IPython.core.display.HTML object>"
      ]
     },
     "metadata": {},
     "output_type": "display_data"
    },
    {
     "data": {
      "text/html": [
       " View run at <a href='https://wandb.ai/ed24s401-indian-institute-of-technology-madras/q4_sweep_project/runs/9iej1nlo' target=\"_blank\">https://wandb.ai/ed24s401-indian-institute-of-technology-madras/q4_sweep_project/runs/9iej1nlo</a>"
      ],
      "text/plain": [
       "<IPython.core.display.HTML object>"
      ]
     },
     "metadata": {},
     "output_type": "display_data"
    },
    {
     "name": "stdout",
     "output_type": "stream",
     "text": [
      "Epoch 1/5 - loss=152.9682, val_acc=0.0977, val_loss=2.411804891670959\n",
      "Epoch 2/5 - loss=129.4872, val_acc=0.0977, val_loss=2.350126208463405\n",
      "Epoch 3/5 - loss=109.7059, val_acc=0.0977, val_loss=2.323962637072413\n",
      "Epoch 4/5 - loss=93.0165, val_acc=0.0977, val_loss=2.31235407146774\n",
      "Epoch 5/5 - loss=78.9268, val_acc=0.0977, val_loss=2.3070920918813402\n",
      "test accuracy  0.1\n"
     ]
    },
    {
     "data": {
      "text/html": [],
      "text/plain": [
       "<IPython.core.display.HTML object>"
      ]
     },
     "metadata": {},
     "output_type": "display_data"
    },
    {
     "data": {
      "text/html": [
       "<br>    <style><br>        .wandb-row {<br>            display: flex;<br>            flex-direction: row;<br>            flex-wrap: wrap;<br>            justify-content: flex-start;<br>            width: 100%;<br>        }<br>        .wandb-col {<br>            display: flex;<br>            flex-direction: column;<br>            flex-basis: 100%;<br>            flex: 1;<br>            padding: 10px;<br>        }<br>    </style><br><div class=\"wandb-row\"><div class=\"wandb-col\"><h3>Run history:</h3><br/><table class=\"wandb\"><tr><td>epoch</td><td>▁▃▅▆█</td></tr><tr><td>test_accuracy</td><td>▁</td></tr><tr><td>training_loss</td><td>█▆▄▂▁</td></tr><tr><td>validation loss</td><td>█▄▂▁▁</td></tr><tr><td>validation_accuracy</td><td>▁▁▁▁▁</td></tr></table><br/></div><div class=\"wandb-col\"><h3>Run summary:</h3><br/><table class=\"wandb\"><tr><td>epoch</td><td>5</td></tr><tr><td>test_accuracy</td><td>0.1</td></tr><tr><td>training_loss</td><td>78.92682</td></tr><tr><td>validation loss</td><td>2.30709</td></tr><tr><td>validation_accuracy</td><td>0.09767</td></tr></table><br/></div></div>"
      ],
      "text/plain": [
       "<IPython.core.display.HTML object>"
      ]
     },
     "metadata": {},
     "output_type": "display_data"
    },
    {
     "data": {
      "text/html": [
       " View run <strong style=\"color:#cdcd00\">hl_5_hs_64_bs_32_ac_sigmoid_opt_sgd</strong> at: <a href='https://wandb.ai/ed24s401-indian-institute-of-technology-madras/q4_sweep_project/runs/9iej1nlo' target=\"_blank\">https://wandb.ai/ed24s401-indian-institute-of-technology-madras/q4_sweep_project/runs/9iej1nlo</a><br> View project at: <a href='https://wandb.ai/ed24s401-indian-institute-of-technology-madras/q4_sweep_project' target=\"_blank\">https://wandb.ai/ed24s401-indian-institute-of-technology-madras/q4_sweep_project</a><br>Synced 5 W&B file(s), 0 media file(s), 0 artifact file(s) and 0 other file(s)"
      ],
      "text/plain": [
       "<IPython.core.display.HTML object>"
      ]
     },
     "metadata": {},
     "output_type": "display_data"
    },
    {
     "data": {
      "text/html": [
       "Find logs at: <code>.\\wandb\\run-20250317_143121-9iej1nlo\\logs</code>"
      ],
      "text/plain": [
       "<IPython.core.display.HTML object>"
      ]
     },
     "metadata": {},
     "output_type": "display_data"
    },
    {
     "name": "stderr",
     "output_type": "stream",
     "text": [
      "\u001b[34m\u001b[1mwandb\u001b[0m: Agent Starting Run: 8blxqaut with config:\n",
      "\u001b[34m\u001b[1mwandb\u001b[0m: \tactivation: relu\n",
      "\u001b[34m\u001b[1mwandb\u001b[0m: \tbatch_size: 32\n",
      "\u001b[34m\u001b[1mwandb\u001b[0m: \tbeta1: 0.9\n",
      "\u001b[34m\u001b[1mwandb\u001b[0m: \tbeta2: 0.99\n",
      "\u001b[34m\u001b[1mwandb\u001b[0m: \tbeta_rms: 0.9\n",
      "\u001b[34m\u001b[1mwandb\u001b[0m: \tepochs: 5\n",
      "\u001b[34m\u001b[1mwandb\u001b[0m: \tepsilon: 1e-08\n",
      "\u001b[34m\u001b[1mwandb\u001b[0m: \thidden_size: 128\n",
      "\u001b[34m\u001b[1mwandb\u001b[0m: \tinit_type: random\n",
      "\u001b[34m\u001b[1mwandb\u001b[0m: \tlearning_rate: 0.0001\n",
      "\u001b[34m\u001b[1mwandb\u001b[0m: \tloss_func: cross_entropy\n",
      "\u001b[34m\u001b[1mwandb\u001b[0m: \tmomentum: 0.9\n",
      "\u001b[34m\u001b[1mwandb\u001b[0m: \tnum_hidden_layers: 4\n",
      "\u001b[34m\u001b[1mwandb\u001b[0m: \toptimizer: momentum\n",
      "\u001b[34m\u001b[1mwandb\u001b[0m: \tweight_decay: 0.5\n"
     ]
    },
    {
     "data": {
      "text/html": [
       "creating run (0.2s)"
      ],
      "text/plain": [
       "<IPython.core.display.HTML object>"
      ]
     },
     "metadata": {},
     "output_type": "display_data"
    },
    {
     "data": {
      "text/html": [
       "Tracking run with wandb version 0.19.8"
      ],
      "text/plain": [
       "<IPython.core.display.HTML object>"
      ]
     },
     "metadata": {},
     "output_type": "display_data"
    },
    {
     "data": {
      "text/html": [
       "Run data is saved locally in <code>c:\\Users\\acer\\OneDrive\\Documents\\GitHub\\dl_assignment_ed24s401\\wandb\\run-20250317_143143-8blxqaut</code>"
      ],
      "text/plain": [
       "<IPython.core.display.HTML object>"
      ]
     },
     "metadata": {},
     "output_type": "display_data"
    },
    {
     "data": {
      "text/html": [
       "Syncing run <strong><a href='https://wandb.ai/ed24s401-indian-institute-of-technology-madras/q4_sweep_project/runs/8blxqaut' target=\"_blank\">colorful-sweep-62</a></strong> to <a href='https://wandb.ai/ed24s401-indian-institute-of-technology-madras/q4_sweep_project' target=\"_blank\">Weights & Biases</a> (<a href='https://wandb.me/developer-guide' target=\"_blank\">docs</a>)<br>Sweep page: <a href='https://wandb.ai/ed24s401-indian-institute-of-technology-madras/q4_sweep_project/sweeps/hp8fw2uv' target=\"_blank\">https://wandb.ai/ed24s401-indian-institute-of-technology-madras/q4_sweep_project/sweeps/hp8fw2uv</a>"
      ],
      "text/plain": [
       "<IPython.core.display.HTML object>"
      ]
     },
     "metadata": {},
     "output_type": "display_data"
    },
    {
     "data": {
      "text/html": [
       " View project at <a href='https://wandb.ai/ed24s401-indian-institute-of-technology-madras/q4_sweep_project' target=\"_blank\">https://wandb.ai/ed24s401-indian-institute-of-technology-madras/q4_sweep_project</a>"
      ],
      "text/plain": [
       "<IPython.core.display.HTML object>"
      ]
     },
     "metadata": {},
     "output_type": "display_data"
    },
    {
     "data": {
      "text/html": [
       " View sweep at <a href='https://wandb.ai/ed24s401-indian-institute-of-technology-madras/q4_sweep_project/sweeps/hp8fw2uv' target=\"_blank\">https://wandb.ai/ed24s401-indian-institute-of-technology-madras/q4_sweep_project/sweeps/hp8fw2uv</a>"
      ],
      "text/plain": [
       "<IPython.core.display.HTML object>"
      ]
     },
     "metadata": {},
     "output_type": "display_data"
    },
    {
     "data": {
      "text/html": [
       " View run at <a href='https://wandb.ai/ed24s401-indian-institute-of-technology-madras/q4_sweep_project/runs/8blxqaut' target=\"_blank\">https://wandb.ai/ed24s401-indian-institute-of-technology-madras/q4_sweep_project/runs/8blxqaut</a>"
      ],
      "text/plain": [
       "<IPython.core.display.HTML object>"
      ]
     },
     "metadata": {},
     "output_type": "display_data"
    },
    {
     "name": "stdout",
     "output_type": "stream",
     "text": [
      "Epoch 1/5 - loss=128.7710, val_acc=0.4423, val_loss=2.2151764524743394\n",
      "Epoch 2/5 - loss=25.6861, val_acc=0.1012, val_loss=2.3001508929715673\n",
      "Epoch 3/5 - loss=6.6099, val_acc=0.1012, val_loss=2.302673208290972\n",
      "Epoch 4/5 - loss=3.0937, val_acc=0.1012, val_loss=2.3026643275303784\n",
      "Epoch 5/5 - loss=2.4479, val_acc=0.1012, val_loss=2.302641262703668\n",
      "test accuracy  0.1\n"
     ]
    },
    {
     "data": {
      "text/html": [],
      "text/plain": [
       "<IPython.core.display.HTML object>"
      ]
     },
     "metadata": {},
     "output_type": "display_data"
    },
    {
     "data": {
      "text/html": [
       "<br>    <style><br>        .wandb-row {<br>            display: flex;<br>            flex-direction: row;<br>            flex-wrap: wrap;<br>            justify-content: flex-start;<br>            width: 100%;<br>        }<br>        .wandb-col {<br>            display: flex;<br>            flex-direction: column;<br>            flex-basis: 100%;<br>            flex: 1;<br>            padding: 10px;<br>        }<br>    </style><br><div class=\"wandb-row\"><div class=\"wandb-col\"><h3>Run history:</h3><br/><table class=\"wandb\"><tr><td>epoch</td><td>▁▃▅▆█</td></tr><tr><td>test_accuracy</td><td>▁</td></tr><tr><td>training_loss</td><td>█▂▁▁▁</td></tr><tr><td>validation loss</td><td>▁████</td></tr><tr><td>validation_accuracy</td><td>█▁▁▁▁</td></tr></table><br/></div><div class=\"wandb-col\"><h3>Run summary:</h3><br/><table class=\"wandb\"><tr><td>epoch</td><td>5</td></tr><tr><td>test_accuracy</td><td>0.1</td></tr><tr><td>training_loss</td><td>2.44791</td></tr><tr><td>validation loss</td><td>2.30264</td></tr><tr><td>validation_accuracy</td><td>0.10117</td></tr></table><br/></div></div>"
      ],
      "text/plain": [
       "<IPython.core.display.HTML object>"
      ]
     },
     "metadata": {},
     "output_type": "display_data"
    },
    {
     "data": {
      "text/html": [
       " View run <strong style=\"color:#cdcd00\">hl_4_hs_128_bs_32_ac_relu_opt_momentum</strong> at: <a href='https://wandb.ai/ed24s401-indian-institute-of-technology-madras/q4_sweep_project/runs/8blxqaut' target=\"_blank\">https://wandb.ai/ed24s401-indian-institute-of-technology-madras/q4_sweep_project/runs/8blxqaut</a><br> View project at: <a href='https://wandb.ai/ed24s401-indian-institute-of-technology-madras/q4_sweep_project' target=\"_blank\">https://wandb.ai/ed24s401-indian-institute-of-technology-madras/q4_sweep_project</a><br>Synced 5 W&B file(s), 0 media file(s), 0 artifact file(s) and 0 other file(s)"
      ],
      "text/plain": [
       "<IPython.core.display.HTML object>"
      ]
     },
     "metadata": {},
     "output_type": "display_data"
    },
    {
     "data": {
      "text/html": [
       "Find logs at: <code>.\\wandb\\run-20250317_143143-8blxqaut\\logs</code>"
      ],
      "text/plain": [
       "<IPython.core.display.HTML object>"
      ]
     },
     "metadata": {},
     "output_type": "display_data"
    },
    {
     "name": "stderr",
     "output_type": "stream",
     "text": [
      "\u001b[34m\u001b[1mwandb\u001b[0m: Agent Starting Run: nbjljswu with config:\n",
      "\u001b[34m\u001b[1mwandb\u001b[0m: \tactivation: sigmoid\n",
      "\u001b[34m\u001b[1mwandb\u001b[0m: \tbatch_size: 32\n",
      "\u001b[34m\u001b[1mwandb\u001b[0m: \tbeta1: 0.9\n",
      "\u001b[34m\u001b[1mwandb\u001b[0m: \tbeta2: 0.99\n",
      "\u001b[34m\u001b[1mwandb\u001b[0m: \tbeta_rms: 0.9\n",
      "\u001b[34m\u001b[1mwandb\u001b[0m: \tepochs: 10\n",
      "\u001b[34m\u001b[1mwandb\u001b[0m: \tepsilon: 1e-08\n",
      "\u001b[34m\u001b[1mwandb\u001b[0m: \thidden_size: 32\n",
      "\u001b[34m\u001b[1mwandb\u001b[0m: \tinit_type: xavier\n",
      "\u001b[34m\u001b[1mwandb\u001b[0m: \tlearning_rate: 0.0001\n",
      "\u001b[34m\u001b[1mwandb\u001b[0m: \tloss_func: cross_entropy\n",
      "\u001b[34m\u001b[1mwandb\u001b[0m: \tmomentum: 0.9\n",
      "\u001b[34m\u001b[1mwandb\u001b[0m: \tnum_hidden_layers: 5\n",
      "\u001b[34m\u001b[1mwandb\u001b[0m: \toptimizer: adam\n",
      "\u001b[34m\u001b[1mwandb\u001b[0m: \tweight_decay: 0.5\n"
     ]
    },
    {
     "data": {
      "text/html": [
       "Tracking run with wandb version 0.19.8"
      ],
      "text/plain": [
       "<IPython.core.display.HTML object>"
      ]
     },
     "metadata": {},
     "output_type": "display_data"
    },
    {
     "data": {
      "text/html": [
       "Run data is saved locally in <code>c:\\Users\\acer\\OneDrive\\Documents\\GitHub\\dl_assignment_ed24s401\\wandb\\run-20250317_143214-nbjljswu</code>"
      ],
      "text/plain": [
       "<IPython.core.display.HTML object>"
      ]
     },
     "metadata": {},
     "output_type": "display_data"
    },
    {
     "data": {
      "text/html": [
       "Syncing run <strong><a href='https://wandb.ai/ed24s401-indian-institute-of-technology-madras/q4_sweep_project/runs/nbjljswu' target=\"_blank\">electric-sweep-63</a></strong> to <a href='https://wandb.ai/ed24s401-indian-institute-of-technology-madras/q4_sweep_project' target=\"_blank\">Weights & Biases</a> (<a href='https://wandb.me/developer-guide' target=\"_blank\">docs</a>)<br>Sweep page: <a href='https://wandb.ai/ed24s401-indian-institute-of-technology-madras/q4_sweep_project/sweeps/hp8fw2uv' target=\"_blank\">https://wandb.ai/ed24s401-indian-institute-of-technology-madras/q4_sweep_project/sweeps/hp8fw2uv</a>"
      ],
      "text/plain": [
       "<IPython.core.display.HTML object>"
      ]
     },
     "metadata": {},
     "output_type": "display_data"
    },
    {
     "data": {
      "text/html": [
       " View project at <a href='https://wandb.ai/ed24s401-indian-institute-of-technology-madras/q4_sweep_project' target=\"_blank\">https://wandb.ai/ed24s401-indian-institute-of-technology-madras/q4_sweep_project</a>"
      ],
      "text/plain": [
       "<IPython.core.display.HTML object>"
      ]
     },
     "metadata": {},
     "output_type": "display_data"
    },
    {
     "data": {
      "text/html": [
       " View sweep at <a href='https://wandb.ai/ed24s401-indian-institute-of-technology-madras/q4_sweep_project/sweeps/hp8fw2uv' target=\"_blank\">https://wandb.ai/ed24s401-indian-institute-of-technology-madras/q4_sweep_project/sweeps/hp8fw2uv</a>"
      ],
      "text/plain": [
       "<IPython.core.display.HTML object>"
      ]
     },
     "metadata": {},
     "output_type": "display_data"
    },
    {
     "data": {
      "text/html": [
       " View run at <a href='https://wandb.ai/ed24s401-indian-institute-of-technology-madras/q4_sweep_project/runs/nbjljswu' target=\"_blank\">https://wandb.ai/ed24s401-indian-institute-of-technology-madras/q4_sweep_project/runs/nbjljswu</a>"
      ],
      "text/plain": [
       "<IPython.core.display.HTML object>"
      ]
     },
     "metadata": {},
     "output_type": "display_data"
    },
    {
     "name": "stdout",
     "output_type": "stream",
     "text": [
      "Epoch 1/10 - loss=20.4237, val_acc=0.0977, val_loss=2.3038956253465046\n",
      "Epoch 2/10 - loss=4.9443, val_acc=0.1018, val_loss=2.3026870048973564\n",
      "Epoch 3/10 - loss=2.5374, val_acc=0.1013, val_loss=2.302603441527706\n",
      "Epoch 4/10 - loss=2.3103, val_acc=0.0995, val_loss=2.3027132212748396\n",
      "Epoch 5/10 - loss=2.3031, val_acc=0.0995, val_loss=2.302761408026399\n",
      "Epoch 6/10 - loss=2.3030, val_acc=0.1000, val_loss=2.3026505852481853\n",
      "Epoch 7/10 - loss=2.3030, val_acc=0.1012, val_loss=2.302701723521713\n",
      "Epoch 8/10 - loss=2.3029, val_acc=0.1000, val_loss=2.302728293275487\n",
      "Epoch 9/10 - loss=2.3030, val_acc=0.1012, val_loss=2.302691117935975\n",
      "Epoch 10/10 - loss=2.3029, val_acc=0.1012, val_loss=2.3025742490623555\n",
      "test accuracy  0.1\n"
     ]
    },
    {
     "data": {
      "text/html": [],
      "text/plain": [
       "<IPython.core.display.HTML object>"
      ]
     },
     "metadata": {},
     "output_type": "display_data"
    },
    {
     "data": {
      "text/html": [
       "<br>    <style><br>        .wandb-row {<br>            display: flex;<br>            flex-direction: row;<br>            flex-wrap: wrap;<br>            justify-content: flex-start;<br>            width: 100%;<br>        }<br>        .wandb-col {<br>            display: flex;<br>            flex-direction: column;<br>            flex-basis: 100%;<br>            flex: 1;<br>            padding: 10px;<br>        }<br>    </style><br><div class=\"wandb-row\"><div class=\"wandb-col\"><h3>Run history:</h3><br/><table class=\"wandb\"><tr><td>epoch</td><td>▁▂▃▃▄▅▆▆▇█</td></tr><tr><td>test_accuracy</td><td>▁</td></tr><tr><td>training_loss</td><td>█▂▁▁▁▁▁▁▁▁</td></tr><tr><td>validation loss</td><td>█▂▁▂▂▁▂▂▂▁</td></tr><tr><td>validation_accuracy</td><td>▁█▇▄▄▅▇▅▇▇</td></tr></table><br/></div><div class=\"wandb-col\"><h3>Run summary:</h3><br/><table class=\"wandb\"><tr><td>epoch</td><td>10</td></tr><tr><td>test_accuracy</td><td>0.1</td></tr><tr><td>training_loss</td><td>2.30293</td></tr><tr><td>validation loss</td><td>2.30257</td></tr><tr><td>validation_accuracy</td><td>0.10117</td></tr></table><br/></div></div>"
      ],
      "text/plain": [
       "<IPython.core.display.HTML object>"
      ]
     },
     "metadata": {},
     "output_type": "display_data"
    },
    {
     "data": {
      "text/html": [
       " View run <strong style=\"color:#cdcd00\">hl_5_hs_32_bs_32_ac_sigmoid_opt_adam</strong> at: <a href='https://wandb.ai/ed24s401-indian-institute-of-technology-madras/q4_sweep_project/runs/nbjljswu' target=\"_blank\">https://wandb.ai/ed24s401-indian-institute-of-technology-madras/q4_sweep_project/runs/nbjljswu</a><br> View project at: <a href='https://wandb.ai/ed24s401-indian-institute-of-technology-madras/q4_sweep_project' target=\"_blank\">https://wandb.ai/ed24s401-indian-institute-of-technology-madras/q4_sweep_project</a><br>Synced 5 W&B file(s), 0 media file(s), 0 artifact file(s) and 0 other file(s)"
      ],
      "text/plain": [
       "<IPython.core.display.HTML object>"
      ]
     },
     "metadata": {},
     "output_type": "display_data"
    },
    {
     "data": {
      "text/html": [
       "Find logs at: <code>.\\wandb\\run-20250317_143214-nbjljswu\\logs</code>"
      ],
      "text/plain": [
       "<IPython.core.display.HTML object>"
      ]
     },
     "metadata": {},
     "output_type": "display_data"
    },
    {
     "name": "stderr",
     "output_type": "stream",
     "text": [
      "\u001b[34m\u001b[1mwandb\u001b[0m: Agent Starting Run: t6gfz02y with config:\n",
      "\u001b[34m\u001b[1mwandb\u001b[0m: \tactivation: relu\n",
      "\u001b[34m\u001b[1mwandb\u001b[0m: \tbatch_size: 16\n",
      "\u001b[34m\u001b[1mwandb\u001b[0m: \tbeta1: 0.9\n",
      "\u001b[34m\u001b[1mwandb\u001b[0m: \tbeta2: 0.999\n",
      "\u001b[34m\u001b[1mwandb\u001b[0m: \tbeta_rms: 0.9\n",
      "\u001b[34m\u001b[1mwandb\u001b[0m: \tepochs: 10\n",
      "\u001b[34m\u001b[1mwandb\u001b[0m: \tepsilon: 1e-08\n",
      "\u001b[34m\u001b[1mwandb\u001b[0m: \thidden_size: 32\n",
      "\u001b[34m\u001b[1mwandb\u001b[0m: \tinit_type: xavier\n",
      "\u001b[34m\u001b[1mwandb\u001b[0m: \tlearning_rate: 0.001\n",
      "\u001b[34m\u001b[1mwandb\u001b[0m: \tloss_func: cross_entropy\n",
      "\u001b[34m\u001b[1mwandb\u001b[0m: \tmomentum: 0.9\n",
      "\u001b[34m\u001b[1mwandb\u001b[0m: \tnum_hidden_layers: 3\n",
      "\u001b[34m\u001b[1mwandb\u001b[0m: \toptimizer: rmsprop\n",
      "\u001b[34m\u001b[1mwandb\u001b[0m: \tweight_decay: 0.0005\n"
     ]
    },
    {
     "data": {
      "text/html": [],
      "text/plain": [
       "<IPython.core.display.HTML object>"
      ]
     },
     "metadata": {},
     "output_type": "display_data"
    },
    {
     "data": {
      "text/html": [
       "Tracking run with wandb version 0.19.8"
      ],
      "text/plain": [
       "<IPython.core.display.HTML object>"
      ]
     },
     "metadata": {},
     "output_type": "display_data"
    },
    {
     "data": {
      "text/html": [
       "Run data is saved locally in <code>c:\\Users\\acer\\OneDrive\\Documents\\GitHub\\dl_assignment_ed24s401\\wandb\\run-20250317_143247-t6gfz02y</code>"
      ],
      "text/plain": [
       "<IPython.core.display.HTML object>"
      ]
     },
     "metadata": {},
     "output_type": "display_data"
    },
    {
     "data": {
      "text/html": [
       "Syncing run <strong><a href='https://wandb.ai/ed24s401-indian-institute-of-technology-madras/q4_sweep_project/runs/t6gfz02y' target=\"_blank\">whole-sweep-64</a></strong> to <a href='https://wandb.ai/ed24s401-indian-institute-of-technology-madras/q4_sweep_project' target=\"_blank\">Weights & Biases</a> (<a href='https://wandb.me/developer-guide' target=\"_blank\">docs</a>)<br>Sweep page: <a href='https://wandb.ai/ed24s401-indian-institute-of-technology-madras/q4_sweep_project/sweeps/hp8fw2uv' target=\"_blank\">https://wandb.ai/ed24s401-indian-institute-of-technology-madras/q4_sweep_project/sweeps/hp8fw2uv</a>"
      ],
      "text/plain": [
       "<IPython.core.display.HTML object>"
      ]
     },
     "metadata": {},
     "output_type": "display_data"
    },
    {
     "data": {
      "text/html": [
       " View project at <a href='https://wandb.ai/ed24s401-indian-institute-of-technology-madras/q4_sweep_project' target=\"_blank\">https://wandb.ai/ed24s401-indian-institute-of-technology-madras/q4_sweep_project</a>"
      ],
      "text/plain": [
       "<IPython.core.display.HTML object>"
      ]
     },
     "metadata": {},
     "output_type": "display_data"
    },
    {
     "data": {
      "text/html": [
       " View sweep at <a href='https://wandb.ai/ed24s401-indian-institute-of-technology-madras/q4_sweep_project/sweeps/hp8fw2uv' target=\"_blank\">https://wandb.ai/ed24s401-indian-institute-of-technology-madras/q4_sweep_project/sweeps/hp8fw2uv</a>"
      ],
      "text/plain": [
       "<IPython.core.display.HTML object>"
      ]
     },
     "metadata": {},
     "output_type": "display_data"
    },
    {
     "data": {
      "text/html": [
       " View run at <a href='https://wandb.ai/ed24s401-indian-institute-of-technology-madras/q4_sweep_project/runs/t6gfz02y' target=\"_blank\">https://wandb.ai/ed24s401-indian-institute-of-technology-madras/q4_sweep_project/runs/t6gfz02y</a>"
      ],
      "text/plain": [
       "<IPython.core.display.HTML object>"
      ]
     },
     "metadata": {},
     "output_type": "display_data"
    },
    {
     "name": "stdout",
     "output_type": "stream",
     "text": [
      "Epoch 1/10 - loss=0.5951, val_acc=0.8435, val_loss=0.4328606449814516\n",
      "Epoch 2/10 - loss=0.4738, val_acc=0.8427, val_loss=0.41951161812574983\n",
      "Epoch 3/10 - loss=0.4561, val_acc=0.8615, val_loss=0.38876164522239637\n",
      "Epoch 4/10 - loss=0.4485, val_acc=0.8395, val_loss=0.4274575940483908\n",
      "Epoch 5/10 - loss=0.4477, val_acc=0.8622, val_loss=0.37001525633334303\n",
      "Epoch 6/10 - loss=0.4452, val_acc=0.8618, val_loss=0.3760484605030366\n",
      "Epoch 7/10 - loss=0.4441, val_acc=0.8575, val_loss=0.3889166459707893\n",
      "Epoch 8/10 - loss=0.4453, val_acc=0.8623, val_loss=0.38795378431235683\n",
      "Epoch 9/10 - loss=0.4459, val_acc=0.8652, val_loss=0.3769073367634984\n",
      "Epoch 10/10 - loss=0.4457, val_acc=0.8640, val_loss=0.3669266598754481\n",
      "test accuracy  0.86\n"
     ]
    },
    {
     "data": {
      "text/html": [],
      "text/plain": [
       "<IPython.core.display.HTML object>"
      ]
     },
     "metadata": {},
     "output_type": "display_data"
    },
    {
     "data": {
      "text/html": [
       "<br>    <style><br>        .wandb-row {<br>            display: flex;<br>            flex-direction: row;<br>            flex-wrap: wrap;<br>            justify-content: flex-start;<br>            width: 100%;<br>        }<br>        .wandb-col {<br>            display: flex;<br>            flex-direction: column;<br>            flex-basis: 100%;<br>            flex: 1;<br>            padding: 10px;<br>        }<br>    </style><br><div class=\"wandb-row\"><div class=\"wandb-col\"><h3>Run history:</h3><br/><table class=\"wandb\"><tr><td>epoch</td><td>▁▂▃▃▄▅▆▆▇█</td></tr><tr><td>test_accuracy</td><td>▁</td></tr><tr><td>training_loss</td><td>█▂▂▁▁▁▁▁▁▁</td></tr><tr><td>validation loss</td><td>█▇▃▇▁▂▃▃▂▁</td></tr><tr><td>validation_accuracy</td><td>▂▂▇▁▇▇▆▇██</td></tr></table><br/></div><div class=\"wandb-col\"><h3>Run summary:</h3><br/><table class=\"wandb\"><tr><td>epoch</td><td>10</td></tr><tr><td>test_accuracy</td><td>0.86</td></tr><tr><td>training_loss</td><td>0.44571</td></tr><tr><td>validation loss</td><td>0.36693</td></tr><tr><td>validation_accuracy</td><td>0.864</td></tr></table><br/></div></div>"
      ],
      "text/plain": [
       "<IPython.core.display.HTML object>"
      ]
     },
     "metadata": {},
     "output_type": "display_data"
    },
    {
     "data": {
      "text/html": [
       " View run <strong style=\"color:#cdcd00\">hl_3_hs_32_bs_16_ac_relu_opt_rmsprop</strong> at: <a href='https://wandb.ai/ed24s401-indian-institute-of-technology-madras/q4_sweep_project/runs/t6gfz02y' target=\"_blank\">https://wandb.ai/ed24s401-indian-institute-of-technology-madras/q4_sweep_project/runs/t6gfz02y</a><br> View project at: <a href='https://wandb.ai/ed24s401-indian-institute-of-technology-madras/q4_sweep_project' target=\"_blank\">https://wandb.ai/ed24s401-indian-institute-of-technology-madras/q4_sweep_project</a><br>Synced 5 W&B file(s), 0 media file(s), 0 artifact file(s) and 0 other file(s)"
      ],
      "text/plain": [
       "<IPython.core.display.HTML object>"
      ]
     },
     "metadata": {},
     "output_type": "display_data"
    },
    {
     "data": {
      "text/html": [
       "Find logs at: <code>.\\wandb\\run-20250317_143247-t6gfz02y\\logs</code>"
      ],
      "text/plain": [
       "<IPython.core.display.HTML object>"
      ]
     },
     "metadata": {},
     "output_type": "display_data"
    },
    {
     "name": "stderr",
     "output_type": "stream",
     "text": [
      "\u001b[34m\u001b[1mwandb\u001b[0m: Sweep Agent: Waiting for job.\n",
      "\u001b[34m\u001b[1mwandb\u001b[0m: Job received.\n",
      "\u001b[34m\u001b[1mwandb\u001b[0m: Agent Starting Run: rxuqtebm with config:\n",
      "\u001b[34m\u001b[1mwandb\u001b[0m: \tactivation: sigmoid\n",
      "\u001b[34m\u001b[1mwandb\u001b[0m: \tbatch_size: 64\n",
      "\u001b[34m\u001b[1mwandb\u001b[0m: \tbeta1: 0.9\n",
      "\u001b[34m\u001b[1mwandb\u001b[0m: \tbeta2: 0.99\n",
      "\u001b[34m\u001b[1mwandb\u001b[0m: \tbeta_rms: 0.9\n",
      "\u001b[34m\u001b[1mwandb\u001b[0m: \tepochs: 5\n",
      "\u001b[34m\u001b[1mwandb\u001b[0m: \tepsilon: 1e-08\n",
      "\u001b[34m\u001b[1mwandb\u001b[0m: \thidden_size: 128\n",
      "\u001b[34m\u001b[1mwandb\u001b[0m: \tinit_type: xavier\n",
      "\u001b[34m\u001b[1mwandb\u001b[0m: \tlearning_rate: 0.0001\n",
      "\u001b[34m\u001b[1mwandb\u001b[0m: \tloss_func: cross_entropy\n",
      "\u001b[34m\u001b[1mwandb\u001b[0m: \tmomentum: 0.9\n",
      "\u001b[34m\u001b[1mwandb\u001b[0m: \tnum_hidden_layers: 4\n",
      "\u001b[34m\u001b[1mwandb\u001b[0m: \toptimizer: rmsprop\n",
      "\u001b[34m\u001b[1mwandb\u001b[0m: \tweight_decay: 0.0005\n"
     ]
    },
    {
     "data": {
      "text/html": [
       "Waiting for wandb.init()..."
      ],
      "text/plain": [
       "<IPython.core.display.HTML object>"
      ]
     },
     "metadata": {},
     "output_type": "display_data"
    },
    {
     "data": {
      "text/html": [
       "Tracking run with wandb version 0.19.8"
      ],
      "text/plain": [
       "<IPython.core.display.HTML object>"
      ]
     },
     "metadata": {},
     "output_type": "display_data"
    },
    {
     "data": {
      "text/html": [
       "Run data is saved locally in <code>c:\\Users\\acer\\OneDrive\\Documents\\GitHub\\dl_assignment_ed24s401\\wandb\\run-20250317_143328-rxuqtebm</code>"
      ],
      "text/plain": [
       "<IPython.core.display.HTML object>"
      ]
     },
     "metadata": {},
     "output_type": "display_data"
    },
    {
     "data": {
      "text/html": [
       "Syncing run <strong><a href='https://wandb.ai/ed24s401-indian-institute-of-technology-madras/q4_sweep_project/runs/rxuqtebm' target=\"_blank\">swept-sweep-65</a></strong> to <a href='https://wandb.ai/ed24s401-indian-institute-of-technology-madras/q4_sweep_project' target=\"_blank\">Weights & Biases</a> (<a href='https://wandb.me/developer-guide' target=\"_blank\">docs</a>)<br>Sweep page: <a href='https://wandb.ai/ed24s401-indian-institute-of-technology-madras/q4_sweep_project/sweeps/hp8fw2uv' target=\"_blank\">https://wandb.ai/ed24s401-indian-institute-of-technology-madras/q4_sweep_project/sweeps/hp8fw2uv</a>"
      ],
      "text/plain": [
       "<IPython.core.display.HTML object>"
      ]
     },
     "metadata": {},
     "output_type": "display_data"
    },
    {
     "data": {
      "text/html": [
       " View project at <a href='https://wandb.ai/ed24s401-indian-institute-of-technology-madras/q4_sweep_project' target=\"_blank\">https://wandb.ai/ed24s401-indian-institute-of-technology-madras/q4_sweep_project</a>"
      ],
      "text/plain": [
       "<IPython.core.display.HTML object>"
      ]
     },
     "metadata": {},
     "output_type": "display_data"
    },
    {
     "data": {
      "text/html": [
       " View sweep at <a href='https://wandb.ai/ed24s401-indian-institute-of-technology-madras/q4_sweep_project/sweeps/hp8fw2uv' target=\"_blank\">https://wandb.ai/ed24s401-indian-institute-of-technology-madras/q4_sweep_project/sweeps/hp8fw2uv</a>"
      ],
      "text/plain": [
       "<IPython.core.display.HTML object>"
      ]
     },
     "metadata": {},
     "output_type": "display_data"
    },
    {
     "data": {
      "text/html": [
       " View run at <a href='https://wandb.ai/ed24s401-indian-institute-of-technology-madras/q4_sweep_project/runs/rxuqtebm' target=\"_blank\">https://wandb.ai/ed24s401-indian-institute-of-technology-madras/q4_sweep_project/runs/rxuqtebm</a>"
      ],
      "text/plain": [
       "<IPython.core.display.HTML object>"
      ]
     },
     "metadata": {},
     "output_type": "display_data"
    },
    {
     "name": "stdout",
     "output_type": "stream",
     "text": [
      "Epoch 1/5 - loss=2.1852, val_acc=0.3798, val_loss=1.6128695583014694\n",
      "Epoch 2/5 - loss=1.4527, val_acc=0.5725, val_loss=1.1440136697390753\n",
      "Epoch 3/5 - loss=1.1696, val_acc=0.6572, val_loss=0.9478935868566216\n",
      "Epoch 4/5 - loss=1.0210, val_acc=0.7060, val_loss=0.841029011272386\n",
      "Epoch 5/5 - loss=0.9428, val_acc=0.7282, val_loss=0.7767094219093963\n",
      "test accuracy  0.7305\n"
     ]
    },
    {
     "data": {
      "text/html": [],
      "text/plain": [
       "<IPython.core.display.HTML object>"
      ]
     },
     "metadata": {},
     "output_type": "display_data"
    },
    {
     "data": {
      "text/html": [
       "<br>    <style><br>        .wandb-row {<br>            display: flex;<br>            flex-direction: row;<br>            flex-wrap: wrap;<br>            justify-content: flex-start;<br>            width: 100%;<br>        }<br>        .wandb-col {<br>            display: flex;<br>            flex-direction: column;<br>            flex-basis: 100%;<br>            flex: 1;<br>            padding: 10px;<br>        }<br>    </style><br><div class=\"wandb-row\"><div class=\"wandb-col\"><h3>Run history:</h3><br/><table class=\"wandb\"><tr><td>epoch</td><td>▁▃▅▆█</td></tr><tr><td>test_accuracy</td><td>▁</td></tr><tr><td>training_loss</td><td>█▄▂▁▁</td></tr><tr><td>validation loss</td><td>█▄▂▂▁</td></tr><tr><td>validation_accuracy</td><td>▁▅▇██</td></tr></table><br/></div><div class=\"wandb-col\"><h3>Run summary:</h3><br/><table class=\"wandb\"><tr><td>epoch</td><td>5</td></tr><tr><td>test_accuracy</td><td>0.7305</td></tr><tr><td>training_loss</td><td>0.94284</td></tr><tr><td>validation loss</td><td>0.77671</td></tr><tr><td>validation_accuracy</td><td>0.72817</td></tr></table><br/></div></div>"
      ],
      "text/plain": [
       "<IPython.core.display.HTML object>"
      ]
     },
     "metadata": {},
     "output_type": "display_data"
    },
    {
     "data": {
      "text/html": [
       " View run <strong style=\"color:#cdcd00\">hl_4_hs_128_bs_64_ac_sigmoid_opt_rmsprop</strong> at: <a href='https://wandb.ai/ed24s401-indian-institute-of-technology-madras/q4_sweep_project/runs/rxuqtebm' target=\"_blank\">https://wandb.ai/ed24s401-indian-institute-of-technology-madras/q4_sweep_project/runs/rxuqtebm</a><br> View project at: <a href='https://wandb.ai/ed24s401-indian-institute-of-technology-madras/q4_sweep_project' target=\"_blank\">https://wandb.ai/ed24s401-indian-institute-of-technology-madras/q4_sweep_project</a><br>Synced 5 W&B file(s), 0 media file(s), 0 artifact file(s) and 0 other file(s)"
      ],
      "text/plain": [
       "<IPython.core.display.HTML object>"
      ]
     },
     "metadata": {},
     "output_type": "display_data"
    },
    {
     "data": {
      "text/html": [
       "Find logs at: <code>.\\wandb\\run-20250317_143328-rxuqtebm\\logs</code>"
      ],
      "text/plain": [
       "<IPython.core.display.HTML object>"
      ]
     },
     "metadata": {},
     "output_type": "display_data"
    },
    {
     "name": "stderr",
     "output_type": "stream",
     "text": [
      "\u001b[34m\u001b[1mwandb\u001b[0m: Agent Starting Run: k7jrig7x with config:\n",
      "\u001b[34m\u001b[1mwandb\u001b[0m: \tactivation: tanh\n",
      "\u001b[34m\u001b[1mwandb\u001b[0m: \tbatch_size: 16\n",
      "\u001b[34m\u001b[1mwandb\u001b[0m: \tbeta1: 0.9\n",
      "\u001b[34m\u001b[1mwandb\u001b[0m: \tbeta2: 0.999\n",
      "\u001b[34m\u001b[1mwandb\u001b[0m: \tbeta_rms: 0.9\n",
      "\u001b[34m\u001b[1mwandb\u001b[0m: \tepochs: 10\n",
      "\u001b[34m\u001b[1mwandb\u001b[0m: \tepsilon: 1e-08\n",
      "\u001b[34m\u001b[1mwandb\u001b[0m: \thidden_size: 32\n",
      "\u001b[34m\u001b[1mwandb\u001b[0m: \tinit_type: xavier\n",
      "\u001b[34m\u001b[1mwandb\u001b[0m: \tlearning_rate: 0.0001\n",
      "\u001b[34m\u001b[1mwandb\u001b[0m: \tloss_func: cross_entropy\n",
      "\u001b[34m\u001b[1mwandb\u001b[0m: \tmomentum: 0.9\n",
      "\u001b[34m\u001b[1mwandb\u001b[0m: \tnum_hidden_layers: 4\n",
      "\u001b[34m\u001b[1mwandb\u001b[0m: \toptimizer: adam\n",
      "\u001b[34m\u001b[1mwandb\u001b[0m: \tweight_decay: 0.0005\n"
     ]
    },
    {
     "data": {
      "text/html": [
       "Tracking run with wandb version 0.19.8"
      ],
      "text/plain": [
       "<IPython.core.display.HTML object>"
      ]
     },
     "metadata": {},
     "output_type": "display_data"
    },
    {
     "data": {
      "text/html": [
       "Run data is saved locally in <code>c:\\Users\\acer\\OneDrive\\Documents\\GitHub\\dl_assignment_ed24s401\\wandb\\run-20250317_143355-k7jrig7x</code>"
      ],
      "text/plain": [
       "<IPython.core.display.HTML object>"
      ]
     },
     "metadata": {},
     "output_type": "display_data"
    },
    {
     "data": {
      "text/html": [
       "Syncing run <strong><a href='https://wandb.ai/ed24s401-indian-institute-of-technology-madras/q4_sweep_project/runs/k7jrig7x' target=\"_blank\">worldly-sweep-66</a></strong> to <a href='https://wandb.ai/ed24s401-indian-institute-of-technology-madras/q4_sweep_project' target=\"_blank\">Weights & Biases</a> (<a href='https://wandb.me/developer-guide' target=\"_blank\">docs</a>)<br>Sweep page: <a href='https://wandb.ai/ed24s401-indian-institute-of-technology-madras/q4_sweep_project/sweeps/hp8fw2uv' target=\"_blank\">https://wandb.ai/ed24s401-indian-institute-of-technology-madras/q4_sweep_project/sweeps/hp8fw2uv</a>"
      ],
      "text/plain": [
       "<IPython.core.display.HTML object>"
      ]
     },
     "metadata": {},
     "output_type": "display_data"
    },
    {
     "data": {
      "text/html": [
       " View project at <a href='https://wandb.ai/ed24s401-indian-institute-of-technology-madras/q4_sweep_project' target=\"_blank\">https://wandb.ai/ed24s401-indian-institute-of-technology-madras/q4_sweep_project</a>"
      ],
      "text/plain": [
       "<IPython.core.display.HTML object>"
      ]
     },
     "metadata": {},
     "output_type": "display_data"
    },
    {
     "data": {
      "text/html": [
       " View sweep at <a href='https://wandb.ai/ed24s401-indian-institute-of-technology-madras/q4_sweep_project/sweeps/hp8fw2uv' target=\"_blank\">https://wandb.ai/ed24s401-indian-institute-of-technology-madras/q4_sweep_project/sweeps/hp8fw2uv</a>"
      ],
      "text/plain": [
       "<IPython.core.display.HTML object>"
      ]
     },
     "metadata": {},
     "output_type": "display_data"
    },
    {
     "data": {
      "text/html": [
       " View run at <a href='https://wandb.ai/ed24s401-indian-institute-of-technology-madras/q4_sweep_project/runs/k7jrig7x' target=\"_blank\">https://wandb.ai/ed24s401-indian-institute-of-technology-madras/q4_sweep_project/runs/k7jrig7x</a>"
      ],
      "text/plain": [
       "<IPython.core.display.HTML object>"
      ]
     },
     "metadata": {},
     "output_type": "display_data"
    },
    {
     "name": "stdout",
     "output_type": "stream",
     "text": [
      "Epoch 1/10 - loss=0.8958, val_acc=0.8155, val_loss=0.5456868079712159\n",
      "Epoch 2/10 - loss=0.5258, val_acc=0.8395, val_loss=0.4531108985505634\n",
      "Epoch 3/10 - loss=0.4697, val_acc=0.8508, val_loss=0.4153610838132601\n",
      "Epoch 4/10 - loss=0.4414, val_acc=0.8595, val_loss=0.3992722627255889\n",
      "Epoch 5/10 - loss=0.4235, val_acc=0.8633, val_loss=0.37812841189490354\n",
      "Epoch 6/10 - loss=0.4100, val_acc=0.8615, val_loss=0.3785031574863911\n",
      "Epoch 7/10 - loss=0.4009, val_acc=0.8687, val_loss=0.3651508078230196\n",
      "Epoch 8/10 - loss=0.3923, val_acc=0.8683, val_loss=0.3617995887670953\n",
      "Epoch 9/10 - loss=0.3849, val_acc=0.8672, val_loss=0.36319651669151926\n",
      "Epoch 10/10 - loss=0.3787, val_acc=0.8712, val_loss=0.34816502378531755\n",
      "test accuracy  0.8651\n"
     ]
    },
    {
     "data": {
      "text/html": [],
      "text/plain": [
       "<IPython.core.display.HTML object>"
      ]
     },
     "metadata": {},
     "output_type": "display_data"
    },
    {
     "data": {
      "text/html": [
       "<br>    <style><br>        .wandb-row {<br>            display: flex;<br>            flex-direction: row;<br>            flex-wrap: wrap;<br>            justify-content: flex-start;<br>            width: 100%;<br>        }<br>        .wandb-col {<br>            display: flex;<br>            flex-direction: column;<br>            flex-basis: 100%;<br>            flex: 1;<br>            padding: 10px;<br>        }<br>    </style><br><div class=\"wandb-row\"><div class=\"wandb-col\"><h3>Run history:</h3><br/><table class=\"wandb\"><tr><td>epoch</td><td>▁▂▃▃▄▅▆▆▇█</td></tr><tr><td>test_accuracy</td><td>▁</td></tr><tr><td>training_loss</td><td>█▃▂▂▂▁▁▁▁▁</td></tr><tr><td>validation loss</td><td>█▅▃▃▂▂▂▁▂▁</td></tr><tr><td>validation_accuracy</td><td>▁▄▅▇▇▇██▇█</td></tr></table><br/></div><div class=\"wandb-col\"><h3>Run summary:</h3><br/><table class=\"wandb\"><tr><td>epoch</td><td>10</td></tr><tr><td>test_accuracy</td><td>0.8651</td></tr><tr><td>training_loss</td><td>0.37865</td></tr><tr><td>validation loss</td><td>0.34817</td></tr><tr><td>validation_accuracy</td><td>0.87117</td></tr></table><br/></div></div>"
      ],
      "text/plain": [
       "<IPython.core.display.HTML object>"
      ]
     },
     "metadata": {},
     "output_type": "display_data"
    },
    {
     "data": {
      "text/html": [
       " View run <strong style=\"color:#cdcd00\">hl_4_hs_32_bs_16_ac_tanh_opt_adam</strong> at: <a href='https://wandb.ai/ed24s401-indian-institute-of-technology-madras/q4_sweep_project/runs/k7jrig7x' target=\"_blank\">https://wandb.ai/ed24s401-indian-institute-of-technology-madras/q4_sweep_project/runs/k7jrig7x</a><br> View project at: <a href='https://wandb.ai/ed24s401-indian-institute-of-technology-madras/q4_sweep_project' target=\"_blank\">https://wandb.ai/ed24s401-indian-institute-of-technology-madras/q4_sweep_project</a><br>Synced 5 W&B file(s), 0 media file(s), 0 artifact file(s) and 0 other file(s)"
      ],
      "text/plain": [
       "<IPython.core.display.HTML object>"
      ]
     },
     "metadata": {},
     "output_type": "display_data"
    },
    {
     "data": {
      "text/html": [
       "Find logs at: <code>.\\wandb\\run-20250317_143355-k7jrig7x\\logs</code>"
      ],
      "text/plain": [
       "<IPython.core.display.HTML object>"
      ]
     },
     "metadata": {},
     "output_type": "display_data"
    },
    {
     "name": "stderr",
     "output_type": "stream",
     "text": [
      "\u001b[34m\u001b[1mwandb\u001b[0m: Agent Starting Run: drrt4jqi with config:\n",
      "\u001b[34m\u001b[1mwandb\u001b[0m: \tactivation: sigmoid\n",
      "\u001b[34m\u001b[1mwandb\u001b[0m: \tbatch_size: 16\n",
      "\u001b[34m\u001b[1mwandb\u001b[0m: \tbeta1: 0.9\n",
      "\u001b[34m\u001b[1mwandb\u001b[0m: \tbeta2: 0.999\n",
      "\u001b[34m\u001b[1mwandb\u001b[0m: \tbeta_rms: 0.9\n",
      "\u001b[34m\u001b[1mwandb\u001b[0m: \tepochs: 10\n",
      "\u001b[34m\u001b[1mwandb\u001b[0m: \tepsilon: 1e-08\n",
      "\u001b[34m\u001b[1mwandb\u001b[0m: \thidden_size: 128\n",
      "\u001b[34m\u001b[1mwandb\u001b[0m: \tinit_type: random\n",
      "\u001b[34m\u001b[1mwandb\u001b[0m: \tlearning_rate: 0.001\n",
      "\u001b[34m\u001b[1mwandb\u001b[0m: \tloss_func: cross_entropy\n",
      "\u001b[34m\u001b[1mwandb\u001b[0m: \tmomentum: 0.9\n",
      "\u001b[34m\u001b[1mwandb\u001b[0m: \tnum_hidden_layers: 3\n",
      "\u001b[34m\u001b[1mwandb\u001b[0m: \toptimizer: nesterov\n",
      "\u001b[34m\u001b[1mwandb\u001b[0m: \tweight_decay: 0.0005\n"
     ]
    },
    {
     "data": {
      "text/html": [],
      "text/plain": [
       "<IPython.core.display.HTML object>"
      ]
     },
     "metadata": {},
     "output_type": "display_data"
    },
    {
     "data": {
      "text/html": [
       "Tracking run with wandb version 0.19.8"
      ],
      "text/plain": [
       "<IPython.core.display.HTML object>"
      ]
     },
     "metadata": {},
     "output_type": "display_data"
    },
    {
     "data": {
      "text/html": [
       "Run data is saved locally in <code>c:\\Users\\acer\\OneDrive\\Documents\\GitHub\\dl_assignment_ed24s401\\wandb\\run-20250317_143438-drrt4jqi</code>"
      ],
      "text/plain": [
       "<IPython.core.display.HTML object>"
      ]
     },
     "metadata": {},
     "output_type": "display_data"
    },
    {
     "data": {
      "text/html": [
       "Syncing run <strong><a href='https://wandb.ai/ed24s401-indian-institute-of-technology-madras/q4_sweep_project/runs/drrt4jqi' target=\"_blank\">lyric-sweep-67</a></strong> to <a href='https://wandb.ai/ed24s401-indian-institute-of-technology-madras/q4_sweep_project' target=\"_blank\">Weights & Biases</a> (<a href='https://wandb.me/developer-guide' target=\"_blank\">docs</a>)<br>Sweep page: <a href='https://wandb.ai/ed24s401-indian-institute-of-technology-madras/q4_sweep_project/sweeps/hp8fw2uv' target=\"_blank\">https://wandb.ai/ed24s401-indian-institute-of-technology-madras/q4_sweep_project/sweeps/hp8fw2uv</a>"
      ],
      "text/plain": [
       "<IPython.core.display.HTML object>"
      ]
     },
     "metadata": {},
     "output_type": "display_data"
    },
    {
     "data": {
      "text/html": [
       " View project at <a href='https://wandb.ai/ed24s401-indian-institute-of-technology-madras/q4_sweep_project' target=\"_blank\">https://wandb.ai/ed24s401-indian-institute-of-technology-madras/q4_sweep_project</a>"
      ],
      "text/plain": [
       "<IPython.core.display.HTML object>"
      ]
     },
     "metadata": {},
     "output_type": "display_data"
    },
    {
     "data": {
      "text/html": [
       " View sweep at <a href='https://wandb.ai/ed24s401-indian-institute-of-technology-madras/q4_sweep_project/sweeps/hp8fw2uv' target=\"_blank\">https://wandb.ai/ed24s401-indian-institute-of-technology-madras/q4_sweep_project/sweeps/hp8fw2uv</a>"
      ],
      "text/plain": [
       "<IPython.core.display.HTML object>"
      ]
     },
     "metadata": {},
     "output_type": "display_data"
    },
    {
     "data": {
      "text/html": [
       " View run at <a href='https://wandb.ai/ed24s401-indian-institute-of-technology-madras/q4_sweep_project/runs/drrt4jqi' target=\"_blank\">https://wandb.ai/ed24s401-indian-institute-of-technology-madras/q4_sweep_project/runs/drrt4jqi</a>"
      ],
      "text/plain": [
       "<IPython.core.display.HTML object>"
      ]
     },
     "metadata": {},
     "output_type": "display_data"
    },
    {
     "name": "stdout",
     "output_type": "stream",
     "text": [
      "Epoch 1/10 - loss=2.3286, val_acc=0.4788, val_loss=1.7247003044037046\n",
      "Epoch 2/10 - loss=1.5886, val_acc=0.5930, val_loss=1.154867398545692\n",
      "Epoch 3/10 - loss=1.2422, val_acc=0.6370, val_loss=0.9495209020628984\n",
      "Epoch 4/10 - loss=1.0791, val_acc=0.7253, val_loss=0.8104059371547335\n",
      "Epoch 5/10 - loss=0.9743, val_acc=0.7363, val_loss=0.731014968783156\n",
      "Epoch 6/10 - loss=0.9176, val_acc=0.7537, val_loss=0.6883078458508846\n",
      "Epoch 7/10 - loss=0.8813, val_acc=0.7623, val_loss=0.65786346303495\n",
      "Epoch 8/10 - loss=0.8532, val_acc=0.7750, val_loss=0.6312242724192679\n",
      "Epoch 9/10 - loss=0.8290, val_acc=0.7760, val_loss=0.610993171902238\n",
      "Epoch 10/10 - loss=0.8070, val_acc=0.7817, val_loss=0.5906480904410929\n",
      "test accuracy  0.7808\n"
     ]
    },
    {
     "data": {
      "text/html": [],
      "text/plain": [
       "<IPython.core.display.HTML object>"
      ]
     },
     "metadata": {},
     "output_type": "display_data"
    },
    {
     "data": {
      "text/html": [
       "<br>    <style><br>        .wandb-row {<br>            display: flex;<br>            flex-direction: row;<br>            flex-wrap: wrap;<br>            justify-content: flex-start;<br>            width: 100%;<br>        }<br>        .wandb-col {<br>            display: flex;<br>            flex-direction: column;<br>            flex-basis: 100%;<br>            flex: 1;<br>            padding: 10px;<br>        }<br>    </style><br><div class=\"wandb-row\"><div class=\"wandb-col\"><h3>Run history:</h3><br/><table class=\"wandb\"><tr><td>epoch</td><td>▁▂▃▃▄▅▆▆▇█</td></tr><tr><td>test_accuracy</td><td>▁</td></tr><tr><td>training_loss</td><td>█▅▃▂▂▂▁▁▁▁</td></tr><tr><td>validation loss</td><td>█▄▃▂▂▂▁▁▁▁</td></tr><tr><td>validation_accuracy</td><td>▁▄▅▇▇▇████</td></tr></table><br/></div><div class=\"wandb-col\"><h3>Run summary:</h3><br/><table class=\"wandb\"><tr><td>epoch</td><td>10</td></tr><tr><td>test_accuracy</td><td>0.7808</td></tr><tr><td>training_loss</td><td>0.80699</td></tr><tr><td>validation loss</td><td>0.59065</td></tr><tr><td>validation_accuracy</td><td>0.78167</td></tr></table><br/></div></div>"
      ],
      "text/plain": [
       "<IPython.core.display.HTML object>"
      ]
     },
     "metadata": {},
     "output_type": "display_data"
    },
    {
     "data": {
      "text/html": [
       " View run <strong style=\"color:#cdcd00\">hl_3_hs_128_bs_16_ac_sigmoid_opt_nesterov</strong> at: <a href='https://wandb.ai/ed24s401-indian-institute-of-technology-madras/q4_sweep_project/runs/drrt4jqi' target=\"_blank\">https://wandb.ai/ed24s401-indian-institute-of-technology-madras/q4_sweep_project/runs/drrt4jqi</a><br> View project at: <a href='https://wandb.ai/ed24s401-indian-institute-of-technology-madras/q4_sweep_project' target=\"_blank\">https://wandb.ai/ed24s401-indian-institute-of-technology-madras/q4_sweep_project</a><br>Synced 5 W&B file(s), 0 media file(s), 0 artifact file(s) and 0 other file(s)"
      ],
      "text/plain": [
       "<IPython.core.display.HTML object>"
      ]
     },
     "metadata": {},
     "output_type": "display_data"
    },
    {
     "data": {
      "text/html": [
       "Find logs at: <code>.\\wandb\\run-20250317_143438-drrt4jqi\\logs</code>"
      ],
      "text/plain": [
       "<IPython.core.display.HTML object>"
      ]
     },
     "metadata": {},
     "output_type": "display_data"
    },
    {
     "name": "stderr",
     "output_type": "stream",
     "text": [
      "\u001b[34m\u001b[1mwandb\u001b[0m: Sweep Agent: Waiting for job.\n",
      "\u001b[34m\u001b[1mwandb\u001b[0m: Job received.\n",
      "\u001b[34m\u001b[1mwandb\u001b[0m: Agent Starting Run: y2ro3sd9 with config:\n",
      "\u001b[34m\u001b[1mwandb\u001b[0m: \tactivation: tanh\n",
      "\u001b[34m\u001b[1mwandb\u001b[0m: \tbatch_size: 16\n",
      "\u001b[34m\u001b[1mwandb\u001b[0m: \tbeta1: 0.9\n",
      "\u001b[34m\u001b[1mwandb\u001b[0m: \tbeta2: 0.999\n",
      "\u001b[34m\u001b[1mwandb\u001b[0m: \tbeta_rms: 0.9\n",
      "\u001b[34m\u001b[1mwandb\u001b[0m: \tepochs: 5\n",
      "\u001b[34m\u001b[1mwandb\u001b[0m: \tepsilon: 1e-08\n",
      "\u001b[34m\u001b[1mwandb\u001b[0m: \thidden_size: 64\n",
      "\u001b[34m\u001b[1mwandb\u001b[0m: \tinit_type: random\n",
      "\u001b[34m\u001b[1mwandb\u001b[0m: \tlearning_rate: 0.001\n",
      "\u001b[34m\u001b[1mwandb\u001b[0m: \tloss_func: cross_entropy\n",
      "\u001b[34m\u001b[1mwandb\u001b[0m: \tmomentum: 0.9\n",
      "\u001b[34m\u001b[1mwandb\u001b[0m: \tnum_hidden_layers: 5\n",
      "\u001b[34m\u001b[1mwandb\u001b[0m: \toptimizer: rmsprop\n",
      "\u001b[34m\u001b[1mwandb\u001b[0m: \tweight_decay: 0.0005\n"
     ]
    },
    {
     "data": {
      "text/html": [
       "Waiting for wandb.init()..."
      ],
      "text/plain": [
       "<IPython.core.display.HTML object>"
      ]
     },
     "metadata": {},
     "output_type": "display_data"
    },
    {
     "data": {
      "text/html": [
       "Tracking run with wandb version 0.19.8"
      ],
      "text/plain": [
       "<IPython.core.display.HTML object>"
      ]
     },
     "metadata": {},
     "output_type": "display_data"
    },
    {
     "data": {
      "text/html": [
       "Run data is saved locally in <code>c:\\Users\\acer\\OneDrive\\Documents\\GitHub\\dl_assignment_ed24s401\\wandb\\run-20250317_143612-y2ro3sd9</code>"
      ],
      "text/plain": [
       "<IPython.core.display.HTML object>"
      ]
     },
     "metadata": {},
     "output_type": "display_data"
    },
    {
     "data": {
      "text/html": [
       "Syncing run <strong><a href='https://wandb.ai/ed24s401-indian-institute-of-technology-madras/q4_sweep_project/runs/y2ro3sd9' target=\"_blank\">peachy-sweep-68</a></strong> to <a href='https://wandb.ai/ed24s401-indian-institute-of-technology-madras/q4_sweep_project' target=\"_blank\">Weights & Biases</a> (<a href='https://wandb.me/developer-guide' target=\"_blank\">docs</a>)<br>Sweep page: <a href='https://wandb.ai/ed24s401-indian-institute-of-technology-madras/q4_sweep_project/sweeps/hp8fw2uv' target=\"_blank\">https://wandb.ai/ed24s401-indian-institute-of-technology-madras/q4_sweep_project/sweeps/hp8fw2uv</a>"
      ],
      "text/plain": [
       "<IPython.core.display.HTML object>"
      ]
     },
     "metadata": {},
     "output_type": "display_data"
    },
    {
     "data": {
      "text/html": [
       " View project at <a href='https://wandb.ai/ed24s401-indian-institute-of-technology-madras/q4_sweep_project' target=\"_blank\">https://wandb.ai/ed24s401-indian-institute-of-technology-madras/q4_sweep_project</a>"
      ],
      "text/plain": [
       "<IPython.core.display.HTML object>"
      ]
     },
     "metadata": {},
     "output_type": "display_data"
    },
    {
     "data": {
      "text/html": [
       " View sweep at <a href='https://wandb.ai/ed24s401-indian-institute-of-technology-madras/q4_sweep_project/sweeps/hp8fw2uv' target=\"_blank\">https://wandb.ai/ed24s401-indian-institute-of-technology-madras/q4_sweep_project/sweeps/hp8fw2uv</a>"
      ],
      "text/plain": [
       "<IPython.core.display.HTML object>"
      ]
     },
     "metadata": {},
     "output_type": "display_data"
    },
    {
     "data": {
      "text/html": [
       " View run at <a href='https://wandb.ai/ed24s401-indian-institute-of-technology-madras/q4_sweep_project/runs/y2ro3sd9' target=\"_blank\">https://wandb.ai/ed24s401-indian-institute-of-technology-madras/q4_sweep_project/runs/y2ro3sd9</a>"
      ],
      "text/plain": [
       "<IPython.core.display.HTML object>"
      ]
     },
     "metadata": {},
     "output_type": "display_data"
    },
    {
     "name": "stdout",
     "output_type": "stream",
     "text": [
      "Epoch 1/5 - loss=0.6723, val_acc=0.8445, val_loss=0.42365148436079864\n",
      "Epoch 2/5 - loss=0.5523, val_acc=0.8487, val_loss=0.44211366317713197\n",
      "Epoch 3/5 - loss=0.5147, val_acc=0.8578, val_loss=0.38822879046530395\n",
      "Epoch 4/5 - loss=0.4942, val_acc=0.8650, val_loss=0.3754659202737542\n",
      "Epoch 5/5 - loss=0.4795, val_acc=0.8632, val_loss=0.3728902203868882\n",
      "test accuracy  0.8563\n"
     ]
    },
    {
     "data": {
      "text/html": [],
      "text/plain": [
       "<IPython.core.display.HTML object>"
      ]
     },
     "metadata": {},
     "output_type": "display_data"
    },
    {
     "data": {
      "text/html": [
       "<br>    <style><br>        .wandb-row {<br>            display: flex;<br>            flex-direction: row;<br>            flex-wrap: wrap;<br>            justify-content: flex-start;<br>            width: 100%;<br>        }<br>        .wandb-col {<br>            display: flex;<br>            flex-direction: column;<br>            flex-basis: 100%;<br>            flex: 1;<br>            padding: 10px;<br>        }<br>    </style><br><div class=\"wandb-row\"><div class=\"wandb-col\"><h3>Run history:</h3><br/><table class=\"wandb\"><tr><td>epoch</td><td>▁▃▅▆█</td></tr><tr><td>test_accuracy</td><td>▁</td></tr><tr><td>training_loss</td><td>█▄▂▂▁</td></tr><tr><td>validation loss</td><td>▆█▃▁▁</td></tr><tr><td>validation_accuracy</td><td>▁▂▆█▇</td></tr></table><br/></div><div class=\"wandb-col\"><h3>Run summary:</h3><br/><table class=\"wandb\"><tr><td>epoch</td><td>5</td></tr><tr><td>test_accuracy</td><td>0.8563</td></tr><tr><td>training_loss</td><td>0.47945</td></tr><tr><td>validation loss</td><td>0.37289</td></tr><tr><td>validation_accuracy</td><td>0.86317</td></tr></table><br/></div></div>"
      ],
      "text/plain": [
       "<IPython.core.display.HTML object>"
      ]
     },
     "metadata": {},
     "output_type": "display_data"
    },
    {
     "data": {
      "text/html": [
       " View run <strong style=\"color:#cdcd00\">hl_5_hs_64_bs_16_ac_tanh_opt_rmsprop</strong> at: <a href='https://wandb.ai/ed24s401-indian-institute-of-technology-madras/q4_sweep_project/runs/y2ro3sd9' target=\"_blank\">https://wandb.ai/ed24s401-indian-institute-of-technology-madras/q4_sweep_project/runs/y2ro3sd9</a><br> View project at: <a href='https://wandb.ai/ed24s401-indian-institute-of-technology-madras/q4_sweep_project' target=\"_blank\">https://wandb.ai/ed24s401-indian-institute-of-technology-madras/q4_sweep_project</a><br>Synced 5 W&B file(s), 0 media file(s), 0 artifact file(s) and 0 other file(s)"
      ],
      "text/plain": [
       "<IPython.core.display.HTML object>"
      ]
     },
     "metadata": {},
     "output_type": "display_data"
    },
    {
     "data": {
      "text/html": [
       "Find logs at: <code>.\\wandb\\run-20250317_143612-y2ro3sd9\\logs</code>"
      ],
      "text/plain": [
       "<IPython.core.display.HTML object>"
      ]
     },
     "metadata": {},
     "output_type": "display_data"
    },
    {
     "name": "stderr",
     "output_type": "stream",
     "text": [
      "\u001b[34m\u001b[1mwandb\u001b[0m: Agent Starting Run: f87xxqoj with config:\n",
      "\u001b[34m\u001b[1mwandb\u001b[0m: \tactivation: sigmoid\n",
      "\u001b[34m\u001b[1mwandb\u001b[0m: \tbatch_size: 16\n",
      "\u001b[34m\u001b[1mwandb\u001b[0m: \tbeta1: 0.9\n",
      "\u001b[34m\u001b[1mwandb\u001b[0m: \tbeta2: 0.999\n",
      "\u001b[34m\u001b[1mwandb\u001b[0m: \tbeta_rms: 0.9\n",
      "\u001b[34m\u001b[1mwandb\u001b[0m: \tepochs: 5\n",
      "\u001b[34m\u001b[1mwandb\u001b[0m: \tepsilon: 1e-08\n",
      "\u001b[34m\u001b[1mwandb\u001b[0m: \thidden_size: 128\n",
      "\u001b[34m\u001b[1mwandb\u001b[0m: \tinit_type: xavier\n",
      "\u001b[34m\u001b[1mwandb\u001b[0m: \tlearning_rate: 0.0001\n",
      "\u001b[34m\u001b[1mwandb\u001b[0m: \tloss_func: cross_entropy\n",
      "\u001b[34m\u001b[1mwandb\u001b[0m: \tmomentum: 0.9\n",
      "\u001b[34m\u001b[1mwandb\u001b[0m: \tnum_hidden_layers: 3\n",
      "\u001b[34m\u001b[1mwandb\u001b[0m: \toptimizer: momentum\n",
      "\u001b[34m\u001b[1mwandb\u001b[0m: \tweight_decay: 0.5\n"
     ]
    },
    {
     "data": {
      "text/html": [
       "Tracking run with wandb version 0.19.8"
      ],
      "text/plain": [
       "<IPython.core.display.HTML object>"
      ]
     },
     "metadata": {},
     "output_type": "display_data"
    },
    {
     "data": {
      "text/html": [
       "Run data is saved locally in <code>c:\\Users\\acer\\OneDrive\\Documents\\GitHub\\dl_assignment_ed24s401\\wandb\\run-20250317_143645-f87xxqoj</code>"
      ],
      "text/plain": [
       "<IPython.core.display.HTML object>"
      ]
     },
     "metadata": {},
     "output_type": "display_data"
    },
    {
     "data": {
      "text/html": [
       "Syncing run <strong><a href='https://wandb.ai/ed24s401-indian-institute-of-technology-madras/q4_sweep_project/runs/f87xxqoj' target=\"_blank\">generous-sweep-69</a></strong> to <a href='https://wandb.ai/ed24s401-indian-institute-of-technology-madras/q4_sweep_project' target=\"_blank\">Weights & Biases</a> (<a href='https://wandb.me/developer-guide' target=\"_blank\">docs</a>)<br>Sweep page: <a href='https://wandb.ai/ed24s401-indian-institute-of-technology-madras/q4_sweep_project/sweeps/hp8fw2uv' target=\"_blank\">https://wandb.ai/ed24s401-indian-institute-of-technology-madras/q4_sweep_project/sweeps/hp8fw2uv</a>"
      ],
      "text/plain": [
       "<IPython.core.display.HTML object>"
      ]
     },
     "metadata": {},
     "output_type": "display_data"
    },
    {
     "data": {
      "text/html": [
       " View project at <a href='https://wandb.ai/ed24s401-indian-institute-of-technology-madras/q4_sweep_project' target=\"_blank\">https://wandb.ai/ed24s401-indian-institute-of-technology-madras/q4_sweep_project</a>"
      ],
      "text/plain": [
       "<IPython.core.display.HTML object>"
      ]
     },
     "metadata": {},
     "output_type": "display_data"
    },
    {
     "data": {
      "text/html": [
       " View sweep at <a href='https://wandb.ai/ed24s401-indian-institute-of-technology-madras/q4_sweep_project/sweeps/hp8fw2uv' target=\"_blank\">https://wandb.ai/ed24s401-indian-institute-of-technology-madras/q4_sweep_project/sweeps/hp8fw2uv</a>"
      ],
      "text/plain": [
       "<IPython.core.display.HTML object>"
      ]
     },
     "metadata": {},
     "output_type": "display_data"
    },
    {
     "data": {
      "text/html": [
       " View run at <a href='https://wandb.ai/ed24s401-indian-institute-of-technology-madras/q4_sweep_project/runs/f87xxqoj' target=\"_blank\">https://wandb.ai/ed24s401-indian-institute-of-technology-madras/q4_sweep_project/runs/f87xxqoj</a>"
      ],
      "text/plain": [
       "<IPython.core.display.HTML object>"
      ]
     },
     "metadata": {},
     "output_type": "display_data"
    },
    {
     "name": "stdout",
     "output_type": "stream",
     "text": [
      "Epoch 1/5 - loss=30.4415, val_acc=0.0977, val_loss=2.302858843106043\n",
      "Epoch 2/5 - loss=3.2504, val_acc=0.1018, val_loss=2.3027532173210803\n",
      "Epoch 3/5 - loss=2.3348, val_acc=0.1013, val_loss=2.3029450517591887\n",
      "Epoch 4/5 - loss=2.3042, val_acc=0.0985, val_loss=2.3029858769476363\n",
      "Epoch 5/5 - loss=2.3032, val_acc=0.0977, val_loss=2.3027969971346516\n",
      "test accuracy  0.1\n"
     ]
    },
    {
     "data": {
      "text/html": [],
      "text/plain": [
       "<IPython.core.display.HTML object>"
      ]
     },
     "metadata": {},
     "output_type": "display_data"
    },
    {
     "data": {
      "text/html": [
       "<br>    <style><br>        .wandb-row {<br>            display: flex;<br>            flex-direction: row;<br>            flex-wrap: wrap;<br>            justify-content: flex-start;<br>            width: 100%;<br>        }<br>        .wandb-col {<br>            display: flex;<br>            flex-direction: column;<br>            flex-basis: 100%;<br>            flex: 1;<br>            padding: 10px;<br>        }<br>    </style><br><div class=\"wandb-row\"><div class=\"wandb-col\"><h3>Run history:</h3><br/><table class=\"wandb\"><tr><td>epoch</td><td>▁▃▅▆█</td></tr><tr><td>test_accuracy</td><td>▁</td></tr><tr><td>training_loss</td><td>█▁▁▁▁</td></tr><tr><td>validation loss</td><td>▄▁▇█▂</td></tr><tr><td>validation_accuracy</td><td>▁█▇▂▁</td></tr></table><br/></div><div class=\"wandb-col\"><h3>Run summary:</h3><br/><table class=\"wandb\"><tr><td>epoch</td><td>5</td></tr><tr><td>test_accuracy</td><td>0.1</td></tr><tr><td>training_loss</td><td>2.30317</td></tr><tr><td>validation loss</td><td>2.3028</td></tr><tr><td>validation_accuracy</td><td>0.09767</td></tr></table><br/></div></div>"
      ],
      "text/plain": [
       "<IPython.core.display.HTML object>"
      ]
     },
     "metadata": {},
     "output_type": "display_data"
    },
    {
     "data": {
      "text/html": [
       " View run <strong style=\"color:#cdcd00\">hl_3_hs_128_bs_16_ac_sigmoid_opt_momentum</strong> at: <a href='https://wandb.ai/ed24s401-indian-institute-of-technology-madras/q4_sweep_project/runs/f87xxqoj' target=\"_blank\">https://wandb.ai/ed24s401-indian-institute-of-technology-madras/q4_sweep_project/runs/f87xxqoj</a><br> View project at: <a href='https://wandb.ai/ed24s401-indian-institute-of-technology-madras/q4_sweep_project' target=\"_blank\">https://wandb.ai/ed24s401-indian-institute-of-technology-madras/q4_sweep_project</a><br>Synced 5 W&B file(s), 0 media file(s), 0 artifact file(s) and 0 other file(s)"
      ],
      "text/plain": [
       "<IPython.core.display.HTML object>"
      ]
     },
     "metadata": {},
     "output_type": "display_data"
    },
    {
     "data": {
      "text/html": [
       "Find logs at: <code>.\\wandb\\run-20250317_143645-f87xxqoj\\logs</code>"
      ],
      "text/plain": [
       "<IPython.core.display.HTML object>"
      ]
     },
     "metadata": {},
     "output_type": "display_data"
    },
    {
     "name": "stderr",
     "output_type": "stream",
     "text": [
      "\u001b[34m\u001b[1mwandb\u001b[0m: Agent Starting Run: cgdfyx0x with config:\n",
      "\u001b[34m\u001b[1mwandb\u001b[0m: \tactivation: tanh\n",
      "\u001b[34m\u001b[1mwandb\u001b[0m: \tbatch_size: 64\n",
      "\u001b[34m\u001b[1mwandb\u001b[0m: \tbeta1: 0.9\n",
      "\u001b[34m\u001b[1mwandb\u001b[0m: \tbeta2: 0.99\n",
      "\u001b[34m\u001b[1mwandb\u001b[0m: \tbeta_rms: 0.9\n",
      "\u001b[34m\u001b[1mwandb\u001b[0m: \tepochs: 5\n",
      "\u001b[34m\u001b[1mwandb\u001b[0m: \tepsilon: 1e-08\n",
      "\u001b[34m\u001b[1mwandb\u001b[0m: \thidden_size: 64\n",
      "\u001b[34m\u001b[1mwandb\u001b[0m: \tinit_type: random\n",
      "\u001b[34m\u001b[1mwandb\u001b[0m: \tlearning_rate: 0.0001\n",
      "\u001b[34m\u001b[1mwandb\u001b[0m: \tloss_func: cross_entropy\n",
      "\u001b[34m\u001b[1mwandb\u001b[0m: \tmomentum: 0.9\n",
      "\u001b[34m\u001b[1mwandb\u001b[0m: \tnum_hidden_layers: 5\n",
      "\u001b[34m\u001b[1mwandb\u001b[0m: \toptimizer: nadam\n",
      "\u001b[34m\u001b[1mwandb\u001b[0m: \tweight_decay: 0\n"
     ]
    },
    {
     "data": {
      "text/html": [
       "creating run (0.2s)"
      ],
      "text/plain": [
       "<IPython.core.display.HTML object>"
      ]
     },
     "metadata": {},
     "output_type": "display_data"
    },
    {
     "data": {
      "text/html": [
       "Tracking run with wandb version 0.19.8"
      ],
      "text/plain": [
       "<IPython.core.display.HTML object>"
      ]
     },
     "metadata": {},
     "output_type": "display_data"
    },
    {
     "data": {
      "text/html": [
       "Run data is saved locally in <code>c:\\Users\\acer\\OneDrive\\Documents\\GitHub\\dl_assignment_ed24s401\\wandb\\run-20250317_143733-cgdfyx0x</code>"
      ],
      "text/plain": [
       "<IPython.core.display.HTML object>"
      ]
     },
     "metadata": {},
     "output_type": "display_data"
    },
    {
     "data": {
      "text/html": [
       "Syncing run <strong><a href='https://wandb.ai/ed24s401-indian-institute-of-technology-madras/q4_sweep_project/runs/cgdfyx0x' target=\"_blank\">fiery-sweep-70</a></strong> to <a href='https://wandb.ai/ed24s401-indian-institute-of-technology-madras/q4_sweep_project' target=\"_blank\">Weights & Biases</a> (<a href='https://wandb.me/developer-guide' target=\"_blank\">docs</a>)<br>Sweep page: <a href='https://wandb.ai/ed24s401-indian-institute-of-technology-madras/q4_sweep_project/sweeps/hp8fw2uv' target=\"_blank\">https://wandb.ai/ed24s401-indian-institute-of-technology-madras/q4_sweep_project/sweeps/hp8fw2uv</a>"
      ],
      "text/plain": [
       "<IPython.core.display.HTML object>"
      ]
     },
     "metadata": {},
     "output_type": "display_data"
    },
    {
     "data": {
      "text/html": [
       " View project at <a href='https://wandb.ai/ed24s401-indian-institute-of-technology-madras/q4_sweep_project' target=\"_blank\">https://wandb.ai/ed24s401-indian-institute-of-technology-madras/q4_sweep_project</a>"
      ],
      "text/plain": [
       "<IPython.core.display.HTML object>"
      ]
     },
     "metadata": {},
     "output_type": "display_data"
    },
    {
     "data": {
      "text/html": [
       " View sweep at <a href='https://wandb.ai/ed24s401-indian-institute-of-technology-madras/q4_sweep_project/sweeps/hp8fw2uv' target=\"_blank\">https://wandb.ai/ed24s401-indian-institute-of-technology-madras/q4_sweep_project/sweeps/hp8fw2uv</a>"
      ],
      "text/plain": [
       "<IPython.core.display.HTML object>"
      ]
     },
     "metadata": {},
     "output_type": "display_data"
    },
    {
     "data": {
      "text/html": [
       " View run at <a href='https://wandb.ai/ed24s401-indian-institute-of-technology-madras/q4_sweep_project/runs/cgdfyx0x' target=\"_blank\">https://wandb.ai/ed24s401-indian-institute-of-technology-madras/q4_sweep_project/runs/cgdfyx0x</a>"
      ],
      "text/plain": [
       "<IPython.core.display.HTML object>"
      ]
     },
     "metadata": {},
     "output_type": "display_data"
    },
    {
     "name": "stdout",
     "output_type": "stream",
     "text": [
      "Epoch 1/5 - loss=0.7802, val_acc=0.8187, val_loss=0.5145951388510943\n",
      "Epoch 2/5 - loss=0.4609, val_acc=0.8388, val_loss=0.44310659371847383\n",
      "Epoch 3/5 - loss=0.4093, val_acc=0.8517, val_loss=0.40907662378758897\n",
      "Epoch 4/5 - loss=0.3819, val_acc=0.8553, val_loss=0.39421180178255083\n",
      "Epoch 5/5 - loss=0.3629, val_acc=0.8623, val_loss=0.37854985409963204\n",
      "test accuracy  0.8598\n"
     ]
    },
    {
     "data": {
      "text/html": [],
      "text/plain": [
       "<IPython.core.display.HTML object>"
      ]
     },
     "metadata": {},
     "output_type": "display_data"
    },
    {
     "data": {
      "text/html": [
       "<br>    <style><br>        .wandb-row {<br>            display: flex;<br>            flex-direction: row;<br>            flex-wrap: wrap;<br>            justify-content: flex-start;<br>            width: 100%;<br>        }<br>        .wandb-col {<br>            display: flex;<br>            flex-direction: column;<br>            flex-basis: 100%;<br>            flex: 1;<br>            padding: 10px;<br>        }<br>    </style><br><div class=\"wandb-row\"><div class=\"wandb-col\"><h3>Run history:</h3><br/><table class=\"wandb\"><tr><td>epoch</td><td>▁▃▅▆█</td></tr><tr><td>test_accuracy</td><td>▁</td></tr><tr><td>training_loss</td><td>█▃▂▁▁</td></tr><tr><td>validation loss</td><td>█▄▃▂▁</td></tr><tr><td>validation_accuracy</td><td>▁▄▆▇█</td></tr></table><br/></div><div class=\"wandb-col\"><h3>Run summary:</h3><br/><table class=\"wandb\"><tr><td>epoch</td><td>5</td></tr><tr><td>test_accuracy</td><td>0.8598</td></tr><tr><td>training_loss</td><td>0.36293</td></tr><tr><td>validation loss</td><td>0.37855</td></tr><tr><td>validation_accuracy</td><td>0.86233</td></tr></table><br/></div></div>"
      ],
      "text/plain": [
       "<IPython.core.display.HTML object>"
      ]
     },
     "metadata": {},
     "output_type": "display_data"
    },
    {
     "data": {
      "text/html": [
       " View run <strong style=\"color:#cdcd00\">hl_5_hs_64_bs_64_ac_tanh_opt_nadam</strong> at: <a href='https://wandb.ai/ed24s401-indian-institute-of-technology-madras/q4_sweep_project/runs/cgdfyx0x' target=\"_blank\">https://wandb.ai/ed24s401-indian-institute-of-technology-madras/q4_sweep_project/runs/cgdfyx0x</a><br> View project at: <a href='https://wandb.ai/ed24s401-indian-institute-of-technology-madras/q4_sweep_project' target=\"_blank\">https://wandb.ai/ed24s401-indian-institute-of-technology-madras/q4_sweep_project</a><br>Synced 5 W&B file(s), 0 media file(s), 0 artifact file(s) and 0 other file(s)"
      ],
      "text/plain": [
       "<IPython.core.display.HTML object>"
      ]
     },
     "metadata": {},
     "output_type": "display_data"
    },
    {
     "data": {
      "text/html": [
       "Find logs at: <code>.\\wandb\\run-20250317_143733-cgdfyx0x\\logs</code>"
      ],
      "text/plain": [
       "<IPython.core.display.HTML object>"
      ]
     },
     "metadata": {},
     "output_type": "display_data"
    },
    {
     "name": "stderr",
     "output_type": "stream",
     "text": [
      "\u001b[34m\u001b[1mwandb\u001b[0m: Agent Starting Run: 20dlzybb with config:\n",
      "\u001b[34m\u001b[1mwandb\u001b[0m: \tactivation: sigmoid\n",
      "\u001b[34m\u001b[1mwandb\u001b[0m: \tbatch_size: 16\n",
      "\u001b[34m\u001b[1mwandb\u001b[0m: \tbeta1: 0.9\n",
      "\u001b[34m\u001b[1mwandb\u001b[0m: \tbeta2: 0.999\n",
      "\u001b[34m\u001b[1mwandb\u001b[0m: \tbeta_rms: 0.9\n",
      "\u001b[34m\u001b[1mwandb\u001b[0m: \tepochs: 10\n",
      "\u001b[34m\u001b[1mwandb\u001b[0m: \tepsilon: 1e-08\n",
      "\u001b[34m\u001b[1mwandb\u001b[0m: \thidden_size: 32\n",
      "\u001b[34m\u001b[1mwandb\u001b[0m: \tinit_type: random\n",
      "\u001b[34m\u001b[1mwandb\u001b[0m: \tlearning_rate: 0.001\n",
      "\u001b[34m\u001b[1mwandb\u001b[0m: \tloss_func: cross_entropy\n",
      "\u001b[34m\u001b[1mwandb\u001b[0m: \tmomentum: 0.9\n",
      "\u001b[34m\u001b[1mwandb\u001b[0m: \tnum_hidden_layers: 4\n",
      "\u001b[34m\u001b[1mwandb\u001b[0m: \toptimizer: nesterov\n",
      "\u001b[34m\u001b[1mwandb\u001b[0m: \tweight_decay: 0.0005\n"
     ]
    },
    {
     "data": {
      "text/html": [],
      "text/plain": [
       "<IPython.core.display.HTML object>"
      ]
     },
     "metadata": {},
     "output_type": "display_data"
    },
    {
     "data": {
      "text/html": [
       "Tracking run with wandb version 0.19.8"
      ],
      "text/plain": [
       "<IPython.core.display.HTML object>"
      ]
     },
     "metadata": {},
     "output_type": "display_data"
    },
    {
     "data": {
      "text/html": [
       "Run data is saved locally in <code>c:\\Users\\acer\\OneDrive\\Documents\\GitHub\\dl_assignment_ed24s401\\wandb\\run-20250317_143755-20dlzybb</code>"
      ],
      "text/plain": [
       "<IPython.core.display.HTML object>"
      ]
     },
     "metadata": {},
     "output_type": "display_data"
    },
    {
     "data": {
      "text/html": [
       "Syncing run <strong><a href='https://wandb.ai/ed24s401-indian-institute-of-technology-madras/q4_sweep_project/runs/20dlzybb' target=\"_blank\">light-sweep-71</a></strong> to <a href='https://wandb.ai/ed24s401-indian-institute-of-technology-madras/q4_sweep_project' target=\"_blank\">Weights & Biases</a> (<a href='https://wandb.me/developer-guide' target=\"_blank\">docs</a>)<br>Sweep page: <a href='https://wandb.ai/ed24s401-indian-institute-of-technology-madras/q4_sweep_project/sweeps/hp8fw2uv' target=\"_blank\">https://wandb.ai/ed24s401-indian-institute-of-technology-madras/q4_sweep_project/sweeps/hp8fw2uv</a>"
      ],
      "text/plain": [
       "<IPython.core.display.HTML object>"
      ]
     },
     "metadata": {},
     "output_type": "display_data"
    },
    {
     "data": {
      "text/html": [
       " View project at <a href='https://wandb.ai/ed24s401-indian-institute-of-technology-madras/q4_sweep_project' target=\"_blank\">https://wandb.ai/ed24s401-indian-institute-of-technology-madras/q4_sweep_project</a>"
      ],
      "text/plain": [
       "<IPython.core.display.HTML object>"
      ]
     },
     "metadata": {},
     "output_type": "display_data"
    },
    {
     "data": {
      "text/html": [
       " View sweep at <a href='https://wandb.ai/ed24s401-indian-institute-of-technology-madras/q4_sweep_project/sweeps/hp8fw2uv' target=\"_blank\">https://wandb.ai/ed24s401-indian-institute-of-technology-madras/q4_sweep_project/sweeps/hp8fw2uv</a>"
      ],
      "text/plain": [
       "<IPython.core.display.HTML object>"
      ]
     },
     "metadata": {},
     "output_type": "display_data"
    },
    {
     "data": {
      "text/html": [
       " View run at <a href='https://wandb.ai/ed24s401-indian-institute-of-technology-madras/q4_sweep_project/runs/20dlzybb' target=\"_blank\">https://wandb.ai/ed24s401-indian-institute-of-technology-madras/q4_sweep_project/runs/20dlzybb</a>"
      ],
      "text/plain": [
       "<IPython.core.display.HTML object>"
      ]
     },
     "metadata": {},
     "output_type": "display_data"
    },
    {
     "name": "stdout",
     "output_type": "stream",
     "text": [
      "Epoch 1/10 - loss=2.3812, val_acc=0.1000, val_loss=2.296204657807809\n",
      "Epoch 2/10 - loss=2.3543, val_acc=0.4233, val_loss=2.273477796346443\n",
      "Epoch 3/10 - loss=2.2773, val_acc=0.2433, val_loss=2.0598365155284286\n",
      "Epoch 4/10 - loss=1.8568, val_acc=0.3340, val_loss=1.5746356948254554\n",
      "Epoch 5/10 - loss=1.5515, val_acc=0.4552, val_loss=1.3821994024648752\n",
      "Epoch 6/10 - loss=1.4109, val_acc=0.5237, val_loss=1.2649309414208165\n",
      "Epoch 7/10 - loss=1.3065, val_acc=0.5890, val_loss=1.1505908709539776\n",
      "Epoch 8/10 - loss=1.1898, val_acc=0.6148, val_loss=1.0328391070222978\n",
      "Epoch 9/10 - loss=1.0994, val_acc=0.6368, val_loss=0.9561902325615341\n",
      "Epoch 10/10 - loss=1.0300, val_acc=0.6687, val_loss=0.8830060679599829\n",
      "test accuracy  0.6714\n"
     ]
    },
    {
     "data": {
      "text/html": [],
      "text/plain": [
       "<IPython.core.display.HTML object>"
      ]
     },
     "metadata": {},
     "output_type": "display_data"
    },
    {
     "data": {
      "text/html": [
       "<br>    <style><br>        .wandb-row {<br>            display: flex;<br>            flex-direction: row;<br>            flex-wrap: wrap;<br>            justify-content: flex-start;<br>            width: 100%;<br>        }<br>        .wandb-col {<br>            display: flex;<br>            flex-direction: column;<br>            flex-basis: 100%;<br>            flex: 1;<br>            padding: 10px;<br>        }<br>    </style><br><div class=\"wandb-row\"><div class=\"wandb-col\"><h3>Run history:</h3><br/><table class=\"wandb\"><tr><td>epoch</td><td>▁▂▃▃▄▅▆▆▇█</td></tr><tr><td>test_accuracy</td><td>▁</td></tr><tr><td>training_loss</td><td>██▇▅▄▃▂▂▁▁</td></tr><tr><td>validation loss</td><td>██▇▄▃▃▂▂▁▁</td></tr><tr><td>validation_accuracy</td><td>▁▅▃▄▅▆▇▇██</td></tr></table><br/></div><div class=\"wandb-col\"><h3>Run summary:</h3><br/><table class=\"wandb\"><tr><td>epoch</td><td>10</td></tr><tr><td>test_accuracy</td><td>0.6714</td></tr><tr><td>training_loss</td><td>1.03004</td></tr><tr><td>validation loss</td><td>0.88301</td></tr><tr><td>validation_accuracy</td><td>0.66867</td></tr></table><br/></div></div>"
      ],
      "text/plain": [
       "<IPython.core.display.HTML object>"
      ]
     },
     "metadata": {},
     "output_type": "display_data"
    },
    {
     "data": {
      "text/html": [
       " View run <strong style=\"color:#cdcd00\">hl_4_hs_32_bs_16_ac_sigmoid_opt_nesterov</strong> at: <a href='https://wandb.ai/ed24s401-indian-institute-of-technology-madras/q4_sweep_project/runs/20dlzybb' target=\"_blank\">https://wandb.ai/ed24s401-indian-institute-of-technology-madras/q4_sweep_project/runs/20dlzybb</a><br> View project at: <a href='https://wandb.ai/ed24s401-indian-institute-of-technology-madras/q4_sweep_project' target=\"_blank\">https://wandb.ai/ed24s401-indian-institute-of-technology-madras/q4_sweep_project</a><br>Synced 5 W&B file(s), 0 media file(s), 0 artifact file(s) and 0 other file(s)"
      ],
      "text/plain": [
       "<IPython.core.display.HTML object>"
      ]
     },
     "metadata": {},
     "output_type": "display_data"
    },
    {
     "data": {
      "text/html": [
       "Find logs at: <code>.\\wandb\\run-20250317_143755-20dlzybb\\logs</code>"
      ],
      "text/plain": [
       "<IPython.core.display.HTML object>"
      ]
     },
     "metadata": {},
     "output_type": "display_data"
    },
    {
     "name": "stderr",
     "output_type": "stream",
     "text": [
      "\u001b[34m\u001b[1mwandb\u001b[0m: Agent Starting Run: hylo2itp with config:\n",
      "\u001b[34m\u001b[1mwandb\u001b[0m: \tactivation: tanh\n",
      "\u001b[34m\u001b[1mwandb\u001b[0m: \tbatch_size: 32\n",
      "\u001b[34m\u001b[1mwandb\u001b[0m: \tbeta1: 0.9\n",
      "\u001b[34m\u001b[1mwandb\u001b[0m: \tbeta2: 0.999\n",
      "\u001b[34m\u001b[1mwandb\u001b[0m: \tbeta_rms: 0.9\n",
      "\u001b[34m\u001b[1mwandb\u001b[0m: \tepochs: 5\n",
      "\u001b[34m\u001b[1mwandb\u001b[0m: \tepsilon: 1e-08\n",
      "\u001b[34m\u001b[1mwandb\u001b[0m: \thidden_size: 64\n",
      "\u001b[34m\u001b[1mwandb\u001b[0m: \tinit_type: random\n",
      "\u001b[34m\u001b[1mwandb\u001b[0m: \tlearning_rate: 0.0001\n",
      "\u001b[34m\u001b[1mwandb\u001b[0m: \tloss_func: cross_entropy\n",
      "\u001b[34m\u001b[1mwandb\u001b[0m: \tmomentum: 0.9\n",
      "\u001b[34m\u001b[1mwandb\u001b[0m: \tnum_hidden_layers: 3\n",
      "\u001b[34m\u001b[1mwandb\u001b[0m: \toptimizer: sgd\n",
      "\u001b[34m\u001b[1mwandb\u001b[0m: \tweight_decay: 0.5\n"
     ]
    },
    {
     "data": {
      "text/html": [
       "creating run (0.3s)"
      ],
      "text/plain": [
       "<IPython.core.display.HTML object>"
      ]
     },
     "metadata": {},
     "output_type": "display_data"
    },
    {
     "data": {
      "text/html": [
       "Tracking run with wandb version 0.19.8"
      ],
      "text/plain": [
       "<IPython.core.display.HTML object>"
      ]
     },
     "metadata": {},
     "output_type": "display_data"
    },
    {
     "data": {
      "text/html": [
       "Run data is saved locally in <code>c:\\Users\\acer\\OneDrive\\Documents\\GitHub\\dl_assignment_ed24s401\\wandb\\run-20250317_143832-hylo2itp</code>"
      ],
      "text/plain": [
       "<IPython.core.display.HTML object>"
      ]
     },
     "metadata": {},
     "output_type": "display_data"
    },
    {
     "data": {
      "text/html": [
       "Syncing run <strong><a href='https://wandb.ai/ed24s401-indian-institute-of-technology-madras/q4_sweep_project/runs/hylo2itp' target=\"_blank\">desert-sweep-72</a></strong> to <a href='https://wandb.ai/ed24s401-indian-institute-of-technology-madras/q4_sweep_project' target=\"_blank\">Weights & Biases</a> (<a href='https://wandb.me/developer-guide' target=\"_blank\">docs</a>)<br>Sweep page: <a href='https://wandb.ai/ed24s401-indian-institute-of-technology-madras/q4_sweep_project/sweeps/hp8fw2uv' target=\"_blank\">https://wandb.ai/ed24s401-indian-institute-of-technology-madras/q4_sweep_project/sweeps/hp8fw2uv</a>"
      ],
      "text/plain": [
       "<IPython.core.display.HTML object>"
      ]
     },
     "metadata": {},
     "output_type": "display_data"
    },
    {
     "data": {
      "text/html": [
       " View project at <a href='https://wandb.ai/ed24s401-indian-institute-of-technology-madras/q4_sweep_project' target=\"_blank\">https://wandb.ai/ed24s401-indian-institute-of-technology-madras/q4_sweep_project</a>"
      ],
      "text/plain": [
       "<IPython.core.display.HTML object>"
      ]
     },
     "metadata": {},
     "output_type": "display_data"
    },
    {
     "data": {
      "text/html": [
       " View sweep at <a href='https://wandb.ai/ed24s401-indian-institute-of-technology-madras/q4_sweep_project/sweeps/hp8fw2uv' target=\"_blank\">https://wandb.ai/ed24s401-indian-institute-of-technology-madras/q4_sweep_project/sweeps/hp8fw2uv</a>"
      ],
      "text/plain": [
       "<IPython.core.display.HTML object>"
      ]
     },
     "metadata": {},
     "output_type": "display_data"
    },
    {
     "data": {
      "text/html": [
       " View run at <a href='https://wandb.ai/ed24s401-indian-institute-of-technology-madras/q4_sweep_project/runs/hylo2itp' target=\"_blank\">https://wandb.ai/ed24s401-indian-institute-of-technology-madras/q4_sweep_project/runs/hylo2itp</a>"
      ],
      "text/plain": [
       "<IPython.core.display.HTML object>"
      ]
     },
     "metadata": {},
     "output_type": "display_data"
    },
    {
     "name": "stdout",
     "output_type": "stream",
     "text": [
      "Epoch 1/5 - loss=95.2166, val_acc=0.4775, val_loss=1.7800650111483203\n",
      "Epoch 2/5 - loss=80.5366, val_acc=0.5600, val_loss=1.6394115057582985\n",
      "Epoch 3/5 - loss=68.3172, val_acc=0.5957, val_loss=1.6025541991826528\n",
      "Epoch 4/5 - loss=58.0677, val_acc=0.6095, val_loss=1.6122791613616452\n",
      "Epoch 5/5 - loss=49.4468, val_acc=0.6157, val_loss=1.645091694031292\n",
      "test accuracy  0.6202\n"
     ]
    },
    {
     "data": {
      "text/html": [],
      "text/plain": [
       "<IPython.core.display.HTML object>"
      ]
     },
     "metadata": {},
     "output_type": "display_data"
    },
    {
     "data": {
      "text/html": [
       "<br>    <style><br>        .wandb-row {<br>            display: flex;<br>            flex-direction: row;<br>            flex-wrap: wrap;<br>            justify-content: flex-start;<br>            width: 100%;<br>        }<br>        .wandb-col {<br>            display: flex;<br>            flex-direction: column;<br>            flex-basis: 100%;<br>            flex: 1;<br>            padding: 10px;<br>        }<br>    </style><br><div class=\"wandb-row\"><div class=\"wandb-col\"><h3>Run history:</h3><br/><table class=\"wandb\"><tr><td>epoch</td><td>▁▃▅▆█</td></tr><tr><td>test_accuracy</td><td>▁</td></tr><tr><td>training_loss</td><td>█▆▄▂▁</td></tr><tr><td>validation loss</td><td>█▂▁▁▃</td></tr><tr><td>validation_accuracy</td><td>▁▅▇██</td></tr></table><br/></div><div class=\"wandb-col\"><h3>Run summary:</h3><br/><table class=\"wandb\"><tr><td>epoch</td><td>5</td></tr><tr><td>test_accuracy</td><td>0.6202</td></tr><tr><td>training_loss</td><td>49.44676</td></tr><tr><td>validation loss</td><td>1.64509</td></tr><tr><td>validation_accuracy</td><td>0.61567</td></tr></table><br/></div></div>"
      ],
      "text/plain": [
       "<IPython.core.display.HTML object>"
      ]
     },
     "metadata": {},
     "output_type": "display_data"
    },
    {
     "data": {
      "text/html": [
       " View run <strong style=\"color:#cdcd00\">hl_3_hs_64_bs_32_ac_tanh_opt_sgd</strong> at: <a href='https://wandb.ai/ed24s401-indian-institute-of-technology-madras/q4_sweep_project/runs/hylo2itp' target=\"_blank\">https://wandb.ai/ed24s401-indian-institute-of-technology-madras/q4_sweep_project/runs/hylo2itp</a><br> View project at: <a href='https://wandb.ai/ed24s401-indian-institute-of-technology-madras/q4_sweep_project' target=\"_blank\">https://wandb.ai/ed24s401-indian-institute-of-technology-madras/q4_sweep_project</a><br>Synced 5 W&B file(s), 0 media file(s), 0 artifact file(s) and 0 other file(s)"
      ],
      "text/plain": [
       "<IPython.core.display.HTML object>"
      ]
     },
     "metadata": {},
     "output_type": "display_data"
    },
    {
     "data": {
      "text/html": [
       "Find logs at: <code>.\\wandb\\run-20250317_143832-hylo2itp\\logs</code>"
      ],
      "text/plain": [
       "<IPython.core.display.HTML object>"
      ]
     },
     "metadata": {},
     "output_type": "display_data"
    },
    {
     "name": "stderr",
     "output_type": "stream",
     "text": [
      "\u001b[34m\u001b[1mwandb\u001b[0m: Agent Starting Run: 63xbxgwu with config:\n",
      "\u001b[34m\u001b[1mwandb\u001b[0m: \tactivation: tanh\n",
      "\u001b[34m\u001b[1mwandb\u001b[0m: \tbatch_size: 16\n",
      "\u001b[34m\u001b[1mwandb\u001b[0m: \tbeta1: 0.9\n",
      "\u001b[34m\u001b[1mwandb\u001b[0m: \tbeta2: 0.99\n",
      "\u001b[34m\u001b[1mwandb\u001b[0m: \tbeta_rms: 0.9\n",
      "\u001b[34m\u001b[1mwandb\u001b[0m: \tepochs: 5\n",
      "\u001b[34m\u001b[1mwandb\u001b[0m: \tepsilon: 1e-08\n",
      "\u001b[34m\u001b[1mwandb\u001b[0m: \thidden_size: 64\n",
      "\u001b[34m\u001b[1mwandb\u001b[0m: \tinit_type: random\n",
      "\u001b[34m\u001b[1mwandb\u001b[0m: \tlearning_rate: 0.0001\n",
      "\u001b[34m\u001b[1mwandb\u001b[0m: \tloss_func: cross_entropy\n",
      "\u001b[34m\u001b[1mwandb\u001b[0m: \tmomentum: 0.9\n",
      "\u001b[34m\u001b[1mwandb\u001b[0m: \tnum_hidden_layers: 4\n",
      "\u001b[34m\u001b[1mwandb\u001b[0m: \toptimizer: adam\n",
      "\u001b[34m\u001b[1mwandb\u001b[0m: \tweight_decay: 0.0005\n"
     ]
    },
    {
     "data": {
      "text/html": [],
      "text/plain": [
       "<IPython.core.display.HTML object>"
      ]
     },
     "metadata": {},
     "output_type": "display_data"
    },
    {
     "data": {
      "text/html": [
       "Tracking run with wandb version 0.19.8"
      ],
      "text/plain": [
       "<IPython.core.display.HTML object>"
      ]
     },
     "metadata": {},
     "output_type": "display_data"
    },
    {
     "data": {
      "text/html": [
       "Run data is saved locally in <code>c:\\Users\\acer\\OneDrive\\Documents\\GitHub\\dl_assignment_ed24s401\\wandb\\run-20250317_143848-63xbxgwu</code>"
      ],
      "text/plain": [
       "<IPython.core.display.HTML object>"
      ]
     },
     "metadata": {},
     "output_type": "display_data"
    },
    {
     "data": {
      "text/html": [
       "Syncing run <strong><a href='https://wandb.ai/ed24s401-indian-institute-of-technology-madras/q4_sweep_project/runs/63xbxgwu' target=\"_blank\">restful-sweep-73</a></strong> to <a href='https://wandb.ai/ed24s401-indian-institute-of-technology-madras/q4_sweep_project' target=\"_blank\">Weights & Biases</a> (<a href='https://wandb.me/developer-guide' target=\"_blank\">docs</a>)<br>Sweep page: <a href='https://wandb.ai/ed24s401-indian-institute-of-technology-madras/q4_sweep_project/sweeps/hp8fw2uv' target=\"_blank\">https://wandb.ai/ed24s401-indian-institute-of-technology-madras/q4_sweep_project/sweeps/hp8fw2uv</a>"
      ],
      "text/plain": [
       "<IPython.core.display.HTML object>"
      ]
     },
     "metadata": {},
     "output_type": "display_data"
    },
    {
     "data": {
      "text/html": [
       " View project at <a href='https://wandb.ai/ed24s401-indian-institute-of-technology-madras/q4_sweep_project' target=\"_blank\">https://wandb.ai/ed24s401-indian-institute-of-technology-madras/q4_sweep_project</a>"
      ],
      "text/plain": [
       "<IPython.core.display.HTML object>"
      ]
     },
     "metadata": {},
     "output_type": "display_data"
    },
    {
     "data": {
      "text/html": [
       " View sweep at <a href='https://wandb.ai/ed24s401-indian-institute-of-technology-madras/q4_sweep_project/sweeps/hp8fw2uv' target=\"_blank\">https://wandb.ai/ed24s401-indian-institute-of-technology-madras/q4_sweep_project/sweeps/hp8fw2uv</a>"
      ],
      "text/plain": [
       "<IPython.core.display.HTML object>"
      ]
     },
     "metadata": {},
     "output_type": "display_data"
    },
    {
     "data": {
      "text/html": [
       " View run at <a href='https://wandb.ai/ed24s401-indian-institute-of-technology-madras/q4_sweep_project/runs/63xbxgwu' target=\"_blank\">https://wandb.ai/ed24s401-indian-institute-of-technology-madras/q4_sweep_project/runs/63xbxgwu</a>"
      ],
      "text/plain": [
       "<IPython.core.display.HTML object>"
      ]
     },
     "metadata": {},
     "output_type": "display_data"
    },
    {
     "name": "stdout",
     "output_type": "stream",
     "text": [
      "Epoch 1/5 - loss=0.7434, val_acc=0.8345, val_loss=0.45199741271838245\n",
      "Epoch 2/5 - loss=0.5438, val_acc=0.8587, val_loss=0.3903618507580223\n",
      "Epoch 3/5 - loss=0.5050, val_acc=0.8573, val_loss=0.3841422179686083\n",
      "Epoch 4/5 - loss=0.4808, val_acc=0.8645, val_loss=0.3668719768560803\n",
      "Epoch 5/5 - loss=0.4627, val_acc=0.8707, val_loss=0.34833192408118596\n",
      "test accuracy  0.8629\n"
     ]
    },
    {
     "data": {
      "text/html": [],
      "text/plain": [
       "<IPython.core.display.HTML object>"
      ]
     },
     "metadata": {},
     "output_type": "display_data"
    },
    {
     "data": {
      "text/html": [
       "<br>    <style><br>        .wandb-row {<br>            display: flex;<br>            flex-direction: row;<br>            flex-wrap: wrap;<br>            justify-content: flex-start;<br>            width: 100%;<br>        }<br>        .wandb-col {<br>            display: flex;<br>            flex-direction: column;<br>            flex-basis: 100%;<br>            flex: 1;<br>            padding: 10px;<br>        }<br>    </style><br><div class=\"wandb-row\"><div class=\"wandb-col\"><h3>Run history:</h3><br/><table class=\"wandb\"><tr><td>epoch</td><td>▁▃▅▆█</td></tr><tr><td>test_accuracy</td><td>▁</td></tr><tr><td>training_loss</td><td>█▃▂▁▁</td></tr><tr><td>validation loss</td><td>█▄▃▂▁</td></tr><tr><td>validation_accuracy</td><td>▁▆▅▇█</td></tr></table><br/></div><div class=\"wandb-col\"><h3>Run summary:</h3><br/><table class=\"wandb\"><tr><td>epoch</td><td>5</td></tr><tr><td>test_accuracy</td><td>0.8629</td></tr><tr><td>training_loss</td><td>0.46268</td></tr><tr><td>validation loss</td><td>0.34833</td></tr><tr><td>validation_accuracy</td><td>0.87067</td></tr></table><br/></div></div>"
      ],
      "text/plain": [
       "<IPython.core.display.HTML object>"
      ]
     },
     "metadata": {},
     "output_type": "display_data"
    },
    {
     "data": {
      "text/html": [
       " View run <strong style=\"color:#cdcd00\">hl_4_hs_64_bs_16_ac_tanh_opt_adam</strong> at: <a href='https://wandb.ai/ed24s401-indian-institute-of-technology-madras/q4_sweep_project/runs/63xbxgwu' target=\"_blank\">https://wandb.ai/ed24s401-indian-institute-of-technology-madras/q4_sweep_project/runs/63xbxgwu</a><br> View project at: <a href='https://wandb.ai/ed24s401-indian-institute-of-technology-madras/q4_sweep_project' target=\"_blank\">https://wandb.ai/ed24s401-indian-institute-of-technology-madras/q4_sweep_project</a><br>Synced 5 W&B file(s), 0 media file(s), 0 artifact file(s) and 0 other file(s)"
      ],
      "text/plain": [
       "<IPython.core.display.HTML object>"
      ]
     },
     "metadata": {},
     "output_type": "display_data"
    },
    {
     "data": {
      "text/html": [
       "Find logs at: <code>.\\wandb\\run-20250317_143848-63xbxgwu\\logs</code>"
      ],
      "text/plain": [
       "<IPython.core.display.HTML object>"
      ]
     },
     "metadata": {},
     "output_type": "display_data"
    },
    {
     "name": "stderr",
     "output_type": "stream",
     "text": [
      "\u001b[34m\u001b[1mwandb\u001b[0m: Agent Starting Run: lcucnhro with config:\n",
      "\u001b[34m\u001b[1mwandb\u001b[0m: \tactivation: sigmoid\n",
      "\u001b[34m\u001b[1mwandb\u001b[0m: \tbatch_size: 64\n",
      "\u001b[34m\u001b[1mwandb\u001b[0m: \tbeta1: 0.9\n",
      "\u001b[34m\u001b[1mwandb\u001b[0m: \tbeta2: 0.999\n",
      "\u001b[34m\u001b[1mwandb\u001b[0m: \tbeta_rms: 0.9\n",
      "\u001b[34m\u001b[1mwandb\u001b[0m: \tepochs: 10\n",
      "\u001b[34m\u001b[1mwandb\u001b[0m: \tepsilon: 1e-08\n",
      "\u001b[34m\u001b[1mwandb\u001b[0m: \thidden_size: 64\n",
      "\u001b[34m\u001b[1mwandb\u001b[0m: \tinit_type: xavier\n",
      "\u001b[34m\u001b[1mwandb\u001b[0m: \tlearning_rate: 0.0001\n",
      "\u001b[34m\u001b[1mwandb\u001b[0m: \tloss_func: cross_entropy\n",
      "\u001b[34m\u001b[1mwandb\u001b[0m: \tmomentum: 0.9\n",
      "\u001b[34m\u001b[1mwandb\u001b[0m: \tnum_hidden_layers: 4\n",
      "\u001b[34m\u001b[1mwandb\u001b[0m: \toptimizer: momentum\n",
      "\u001b[34m\u001b[1mwandb\u001b[0m: \tweight_decay: 0.5\n"
     ]
    },
    {
     "data": {
      "text/html": [
       "creating run (0.2s)"
      ],
      "text/plain": [
       "<IPython.core.display.HTML object>"
      ]
     },
     "metadata": {},
     "output_type": "display_data"
    },
    {
     "data": {
      "text/html": [
       "Tracking run with wandb version 0.19.8"
      ],
      "text/plain": [
       "<IPython.core.display.HTML object>"
      ]
     },
     "metadata": {},
     "output_type": "display_data"
    },
    {
     "data": {
      "text/html": [
       "Run data is saved locally in <code>c:\\Users\\acer\\OneDrive\\Documents\\GitHub\\dl_assignment_ed24s401\\wandb\\run-20250317_143925-lcucnhro</code>"
      ],
      "text/plain": [
       "<IPython.core.display.HTML object>"
      ]
     },
     "metadata": {},
     "output_type": "display_data"
    },
    {
     "data": {
      "text/html": [
       "Syncing run <strong><a href='https://wandb.ai/ed24s401-indian-institute-of-technology-madras/q4_sweep_project/runs/lcucnhro' target=\"_blank\">lucky-sweep-74</a></strong> to <a href='https://wandb.ai/ed24s401-indian-institute-of-technology-madras/q4_sweep_project' target=\"_blank\">Weights & Biases</a> (<a href='https://wandb.me/developer-guide' target=\"_blank\">docs</a>)<br>Sweep page: <a href='https://wandb.ai/ed24s401-indian-institute-of-technology-madras/q4_sweep_project/sweeps/hp8fw2uv' target=\"_blank\">https://wandb.ai/ed24s401-indian-institute-of-technology-madras/q4_sweep_project/sweeps/hp8fw2uv</a>"
      ],
      "text/plain": [
       "<IPython.core.display.HTML object>"
      ]
     },
     "metadata": {},
     "output_type": "display_data"
    },
    {
     "data": {
      "text/html": [
       " View project at <a href='https://wandb.ai/ed24s401-indian-institute-of-technology-madras/q4_sweep_project' target=\"_blank\">https://wandb.ai/ed24s401-indian-institute-of-technology-madras/q4_sweep_project</a>"
      ],
      "text/plain": [
       "<IPython.core.display.HTML object>"
      ]
     },
     "metadata": {},
     "output_type": "display_data"
    },
    {
     "data": {
      "text/html": [
       " View sweep at <a href='https://wandb.ai/ed24s401-indian-institute-of-technology-madras/q4_sweep_project/sweeps/hp8fw2uv' target=\"_blank\">https://wandb.ai/ed24s401-indian-institute-of-technology-madras/q4_sweep_project/sweeps/hp8fw2uv</a>"
      ],
      "text/plain": [
       "<IPython.core.display.HTML object>"
      ]
     },
     "metadata": {},
     "output_type": "display_data"
    },
    {
     "data": {
      "text/html": [
       " View run at <a href='https://wandb.ai/ed24s401-indian-institute-of-technology-madras/q4_sweep_project/runs/lcucnhro' target=\"_blank\">https://wandb.ai/ed24s401-indian-institute-of-technology-madras/q4_sweep_project/runs/lcucnhro</a>"
      ],
      "text/plain": [
       "<IPython.core.display.HTML object>"
      ]
     },
     "metadata": {},
     "output_type": "display_data"
    },
    {
     "name": "stdout",
     "output_type": "stream",
     "text": [
      "Epoch 1/10 - loss=47.2151, val_acc=0.0985, val_loss=2.3042188020521883\n",
      "Epoch 2/10 - loss=21.5474, val_acc=0.1013, val_loss=2.302614923564291\n",
      "Epoch 3/10 - loss=10.5523, val_acc=0.0977, val_loss=2.302651333806653\n",
      "Epoch 4/10 - loss=5.8391, val_acc=0.0977, val_loss=2.3026271815029657\n",
      "Epoch 5/10 - loss=3.8187, val_acc=0.0977, val_loss=2.30259878823933\n",
      "Epoch 6/10 - loss=2.9526, val_acc=0.1013, val_loss=2.3025762006257895\n",
      "Epoch 7/10 - loss=2.5813, val_acc=0.0977, val_loss=2.302611931004415\n",
      "Epoch 8/10 - loss=2.4221, val_acc=0.0977, val_loss=2.3026153595544825\n",
      "Epoch 9/10 - loss=2.3539, val_acc=0.1000, val_loss=2.302624077130353\n",
      "Epoch 10/10 - loss=2.3246, val_acc=0.0995, val_loss=2.3026167583474475\n",
      "test accuracy  0.1\n"
     ]
    },
    {
     "data": {
      "text/html": [],
      "text/plain": [
       "<IPython.core.display.HTML object>"
      ]
     },
     "metadata": {},
     "output_type": "display_data"
    },
    {
     "data": {
      "text/html": [
       "<br>    <style><br>        .wandb-row {<br>            display: flex;<br>            flex-direction: row;<br>            flex-wrap: wrap;<br>            justify-content: flex-start;<br>            width: 100%;<br>        }<br>        .wandb-col {<br>            display: flex;<br>            flex-direction: column;<br>            flex-basis: 100%;<br>            flex: 1;<br>            padding: 10px;<br>        }<br>    </style><br><div class=\"wandb-row\"><div class=\"wandb-col\"><h3>Run history:</h3><br/><table class=\"wandb\"><tr><td>epoch</td><td>▁▂▃▃▄▅▆▆▇█</td></tr><tr><td>test_accuracy</td><td>▁</td></tr><tr><td>training_loss</td><td>█▄▂▂▁▁▁▁▁▁</td></tr><tr><td>validation loss</td><td>█▁▁▁▁▁▁▁▁▁</td></tr><tr><td>validation_accuracy</td><td>▃█▁▁▁█▁▁▅▅</td></tr></table><br/></div><div class=\"wandb-col\"><h3>Run summary:</h3><br/><table class=\"wandb\"><tr><td>epoch</td><td>10</td></tr><tr><td>test_accuracy</td><td>0.1</td></tr><tr><td>training_loss</td><td>2.32464</td></tr><tr><td>validation loss</td><td>2.30262</td></tr><tr><td>validation_accuracy</td><td>0.0995</td></tr></table><br/></div></div>"
      ],
      "text/plain": [
       "<IPython.core.display.HTML object>"
      ]
     },
     "metadata": {},
     "output_type": "display_data"
    },
    {
     "data": {
      "text/html": [
       " View run <strong style=\"color:#cdcd00\">hl_4_hs_64_bs_64_ac_sigmoid_opt_momentum</strong> at: <a href='https://wandb.ai/ed24s401-indian-institute-of-technology-madras/q4_sweep_project/runs/lcucnhro' target=\"_blank\">https://wandb.ai/ed24s401-indian-institute-of-technology-madras/q4_sweep_project/runs/lcucnhro</a><br> View project at: <a href='https://wandb.ai/ed24s401-indian-institute-of-technology-madras/q4_sweep_project' target=\"_blank\">https://wandb.ai/ed24s401-indian-institute-of-technology-madras/q4_sweep_project</a><br>Synced 5 W&B file(s), 0 media file(s), 0 artifact file(s) and 0 other file(s)"
      ],
      "text/plain": [
       "<IPython.core.display.HTML object>"
      ]
     },
     "metadata": {},
     "output_type": "display_data"
    },
    {
     "data": {
      "text/html": [
       "Find logs at: <code>.\\wandb\\run-20250317_143925-lcucnhro\\logs</code>"
      ],
      "text/plain": [
       "<IPython.core.display.HTML object>"
      ]
     },
     "metadata": {},
     "output_type": "display_data"
    },
    {
     "name": "stderr",
     "output_type": "stream",
     "text": [
      "\u001b[34m\u001b[1mwandb\u001b[0m: Sweep Agent: Waiting for job.\n",
      "\u001b[34m\u001b[1mwandb\u001b[0m: Job received.\n",
      "\u001b[34m\u001b[1mwandb\u001b[0m: Agent Starting Run: aghp1nu5 with config:\n",
      "\u001b[34m\u001b[1mwandb\u001b[0m: \tactivation: relu\n",
      "\u001b[34m\u001b[1mwandb\u001b[0m: \tbatch_size: 64\n",
      "\u001b[34m\u001b[1mwandb\u001b[0m: \tbeta1: 0.9\n",
      "\u001b[34m\u001b[1mwandb\u001b[0m: \tbeta2: 0.99\n",
      "\u001b[34m\u001b[1mwandb\u001b[0m: \tbeta_rms: 0.9\n",
      "\u001b[34m\u001b[1mwandb\u001b[0m: \tepochs: 10\n",
      "\u001b[34m\u001b[1mwandb\u001b[0m: \tepsilon: 1e-08\n",
      "\u001b[34m\u001b[1mwandb\u001b[0m: \thidden_size: 64\n",
      "\u001b[34m\u001b[1mwandb\u001b[0m: \tinit_type: random\n",
      "\u001b[34m\u001b[1mwandb\u001b[0m: \tlearning_rate: 0.001\n",
      "\u001b[34m\u001b[1mwandb\u001b[0m: \tloss_func: cross_entropy\n",
      "\u001b[34m\u001b[1mwandb\u001b[0m: \tmomentum: 0.9\n",
      "\u001b[34m\u001b[1mwandb\u001b[0m: \tnum_hidden_layers: 3\n",
      "\u001b[34m\u001b[1mwandb\u001b[0m: \toptimizer: nesterov\n",
      "\u001b[34m\u001b[1mwandb\u001b[0m: \tweight_decay: 0.5\n"
     ]
    },
    {
     "data": {
      "text/html": [
       "creating run (0.1s)"
      ],
      "text/plain": [
       "<IPython.core.display.HTML object>"
      ]
     },
     "metadata": {},
     "output_type": "display_data"
    },
    {
     "data": {
      "text/html": [
       "Tracking run with wandb version 0.19.8"
      ],
      "text/plain": [
       "<IPython.core.display.HTML object>"
      ]
     },
     "metadata": {},
     "output_type": "display_data"
    },
    {
     "data": {
      "text/html": [
       "Run data is saved locally in <code>c:\\Users\\acer\\OneDrive\\Documents\\GitHub\\dl_assignment_ed24s401\\wandb\\run-20250317_143957-aghp1nu5</code>"
      ],
      "text/plain": [
       "<IPython.core.display.HTML object>"
      ]
     },
     "metadata": {},
     "output_type": "display_data"
    },
    {
     "data": {
      "text/html": [
       "Syncing run <strong><a href='https://wandb.ai/ed24s401-indian-institute-of-technology-madras/q4_sweep_project/runs/aghp1nu5' target=\"_blank\">avid-sweep-75</a></strong> to <a href='https://wandb.ai/ed24s401-indian-institute-of-technology-madras/q4_sweep_project' target=\"_blank\">Weights & Biases</a> (<a href='https://wandb.me/developer-guide' target=\"_blank\">docs</a>)<br>Sweep page: <a href='https://wandb.ai/ed24s401-indian-institute-of-technology-madras/q4_sweep_project/sweeps/hp8fw2uv' target=\"_blank\">https://wandb.ai/ed24s401-indian-institute-of-technology-madras/q4_sweep_project/sweeps/hp8fw2uv</a>"
      ],
      "text/plain": [
       "<IPython.core.display.HTML object>"
      ]
     },
     "metadata": {},
     "output_type": "display_data"
    },
    {
     "data": {
      "text/html": [
       " View project at <a href='https://wandb.ai/ed24s401-indian-institute-of-technology-madras/q4_sweep_project' target=\"_blank\">https://wandb.ai/ed24s401-indian-institute-of-technology-madras/q4_sweep_project</a>"
      ],
      "text/plain": [
       "<IPython.core.display.HTML object>"
      ]
     },
     "metadata": {},
     "output_type": "display_data"
    },
    {
     "data": {
      "text/html": [
       " View sweep at <a href='https://wandb.ai/ed24s401-indian-institute-of-technology-madras/q4_sweep_project/sweeps/hp8fw2uv' target=\"_blank\">https://wandb.ai/ed24s401-indian-institute-of-technology-madras/q4_sweep_project/sweeps/hp8fw2uv</a>"
      ],
      "text/plain": [
       "<IPython.core.display.HTML object>"
      ]
     },
     "metadata": {},
     "output_type": "display_data"
    },
    {
     "data": {
      "text/html": [
       " View run at <a href='https://wandb.ai/ed24s401-indian-institute-of-technology-madras/q4_sweep_project/runs/aghp1nu5' target=\"_blank\">https://wandb.ai/ed24s401-indian-institute-of-technology-madras/q4_sweep_project/runs/aghp1nu5</a>"
      ],
      "text/plain": [
       "<IPython.core.display.HTML object>"
      ]
     },
     "metadata": {},
     "output_type": "display_data"
    },
    {
     "name": "stdout",
     "output_type": "stream",
     "text": [
      "Epoch 1/10 - loss=14.8764, val_acc=0.1013, val_loss=2.3026365843442704\n",
      "Epoch 2/10 - loss=2.3047, val_acc=0.1013, val_loss=2.3025933760858552\n",
      "Epoch 3/10 - loss=2.3027, val_acc=0.0977, val_loss=2.3026224470486745\n",
      "Epoch 4/10 - loss=2.3027, val_acc=0.0977, val_loss=2.302621573233131\n",
      "Epoch 5/10 - loss=2.3026, val_acc=0.1013, val_loss=2.3026189138527973\n",
      "Epoch 6/10 - loss=2.3026, val_acc=0.0977, val_loss=2.3026189430427864\n",
      "Epoch 7/10 - loss=2.3027, val_acc=0.0977, val_loss=2.302625888025992\n",
      "Epoch 8/10 - loss=2.3026, val_acc=0.0977, val_loss=2.3026345674290707\n",
      "Epoch 9/10 - loss=2.3026, val_acc=0.0977, val_loss=2.3026247606846986\n",
      "Epoch 10/10 - loss=2.3026, val_acc=0.0977, val_loss=2.302621685659217\n",
      "test accuracy  0.1\n"
     ]
    },
    {
     "data": {
      "text/html": [],
      "text/plain": [
       "<IPython.core.display.HTML object>"
      ]
     },
     "metadata": {},
     "output_type": "display_data"
    },
    {
     "data": {
      "text/html": [
       "<br>    <style><br>        .wandb-row {<br>            display: flex;<br>            flex-direction: row;<br>            flex-wrap: wrap;<br>            justify-content: flex-start;<br>            width: 100%;<br>        }<br>        .wandb-col {<br>            display: flex;<br>            flex-direction: column;<br>            flex-basis: 100%;<br>            flex: 1;<br>            padding: 10px;<br>        }<br>    </style><br><div class=\"wandb-row\"><div class=\"wandb-col\"><h3>Run history:</h3><br/><table class=\"wandb\"><tr><td>epoch</td><td>▁▂▃▃▄▅▆▆▇█</td></tr><tr><td>test_accuracy</td><td>▁</td></tr><tr><td>training_loss</td><td>█▁▁▁▁▁▁▁▁▁</td></tr><tr><td>validation loss</td><td>█▁▆▆▅▅▆█▆▆</td></tr><tr><td>validation_accuracy</td><td>██▁▁█▁▁▁▁▁</td></tr></table><br/></div><div class=\"wandb-col\"><h3>Run summary:</h3><br/><table class=\"wandb\"><tr><td>epoch</td><td>10</td></tr><tr><td>test_accuracy</td><td>0.1</td></tr><tr><td>training_loss</td><td>2.30265</td></tr><tr><td>validation loss</td><td>2.30262</td></tr><tr><td>validation_accuracy</td><td>0.09767</td></tr></table><br/></div></div>"
      ],
      "text/plain": [
       "<IPython.core.display.HTML object>"
      ]
     },
     "metadata": {},
     "output_type": "display_data"
    },
    {
     "data": {
      "text/html": [
       " View run <strong style=\"color:#cdcd00\">hl_3_hs_64_bs_64_ac_relu_opt_nesterov</strong> at: <a href='https://wandb.ai/ed24s401-indian-institute-of-technology-madras/q4_sweep_project/runs/aghp1nu5' target=\"_blank\">https://wandb.ai/ed24s401-indian-institute-of-technology-madras/q4_sweep_project/runs/aghp1nu5</a><br> View project at: <a href='https://wandb.ai/ed24s401-indian-institute-of-technology-madras/q4_sweep_project' target=\"_blank\">https://wandb.ai/ed24s401-indian-institute-of-technology-madras/q4_sweep_project</a><br>Synced 5 W&B file(s), 0 media file(s), 0 artifact file(s) and 0 other file(s)"
      ],
      "text/plain": [
       "<IPython.core.display.HTML object>"
      ]
     },
     "metadata": {},
     "output_type": "display_data"
    },
    {
     "data": {
      "text/html": [
       "Find logs at: <code>.\\wandb\\run-20250317_143957-aghp1nu5\\logs</code>"
      ],
      "text/plain": [
       "<IPython.core.display.HTML object>"
      ]
     },
     "metadata": {},
     "output_type": "display_data"
    },
    {
     "name": "stderr",
     "output_type": "stream",
     "text": [
      "\u001b[34m\u001b[1mwandb\u001b[0m: Agent Starting Run: 0xhlpv37 with config:\n",
      "\u001b[34m\u001b[1mwandb\u001b[0m: \tactivation: sigmoid\n",
      "\u001b[34m\u001b[1mwandb\u001b[0m: \tbatch_size: 16\n",
      "\u001b[34m\u001b[1mwandb\u001b[0m: \tbeta1: 0.9\n",
      "\u001b[34m\u001b[1mwandb\u001b[0m: \tbeta2: 0.999\n",
      "\u001b[34m\u001b[1mwandb\u001b[0m: \tbeta_rms: 0.9\n",
      "\u001b[34m\u001b[1mwandb\u001b[0m: \tepochs: 10\n",
      "\u001b[34m\u001b[1mwandb\u001b[0m: \tepsilon: 1e-08\n",
      "\u001b[34m\u001b[1mwandb\u001b[0m: \thidden_size: 32\n",
      "\u001b[34m\u001b[1mwandb\u001b[0m: \tinit_type: xavier\n",
      "\u001b[34m\u001b[1mwandb\u001b[0m: \tlearning_rate: 0.001\n",
      "\u001b[34m\u001b[1mwandb\u001b[0m: \tloss_func: cross_entropy\n",
      "\u001b[34m\u001b[1mwandb\u001b[0m: \tmomentum: 0.9\n",
      "\u001b[34m\u001b[1mwandb\u001b[0m: \tnum_hidden_layers: 5\n",
      "\u001b[34m\u001b[1mwandb\u001b[0m: \toptimizer: nadam\n",
      "\u001b[34m\u001b[1mwandb\u001b[0m: \tweight_decay: 0\n"
     ]
    },
    {
     "data": {
      "text/html": [
       "creating run (0.2s)"
      ],
      "text/plain": [
       "<IPython.core.display.HTML object>"
      ]
     },
     "metadata": {},
     "output_type": "display_data"
    },
    {
     "data": {
      "text/html": [
       "Tracking run with wandb version 0.19.8"
      ],
      "text/plain": [
       "<IPython.core.display.HTML object>"
      ]
     },
     "metadata": {},
     "output_type": "display_data"
    },
    {
     "data": {
      "text/html": [
       "Run data is saved locally in <code>c:\\Users\\acer\\OneDrive\\Documents\\GitHub\\dl_assignment_ed24s401\\wandb\\run-20250317_144020-0xhlpv37</code>"
      ],
      "text/plain": [
       "<IPython.core.display.HTML object>"
      ]
     },
     "metadata": {},
     "output_type": "display_data"
    },
    {
     "data": {
      "text/html": [
       "Syncing run <strong><a href='https://wandb.ai/ed24s401-indian-institute-of-technology-madras/q4_sweep_project/runs/0xhlpv37' target=\"_blank\">iconic-sweep-76</a></strong> to <a href='https://wandb.ai/ed24s401-indian-institute-of-technology-madras/q4_sweep_project' target=\"_blank\">Weights & Biases</a> (<a href='https://wandb.me/developer-guide' target=\"_blank\">docs</a>)<br>Sweep page: <a href='https://wandb.ai/ed24s401-indian-institute-of-technology-madras/q4_sweep_project/sweeps/hp8fw2uv' target=\"_blank\">https://wandb.ai/ed24s401-indian-institute-of-technology-madras/q4_sweep_project/sweeps/hp8fw2uv</a>"
      ],
      "text/plain": [
       "<IPython.core.display.HTML object>"
      ]
     },
     "metadata": {},
     "output_type": "display_data"
    },
    {
     "data": {
      "text/html": [
       " View project at <a href='https://wandb.ai/ed24s401-indian-institute-of-technology-madras/q4_sweep_project' target=\"_blank\">https://wandb.ai/ed24s401-indian-institute-of-technology-madras/q4_sweep_project</a>"
      ],
      "text/plain": [
       "<IPython.core.display.HTML object>"
      ]
     },
     "metadata": {},
     "output_type": "display_data"
    },
    {
     "data": {
      "text/html": [
       " View sweep at <a href='https://wandb.ai/ed24s401-indian-institute-of-technology-madras/q4_sweep_project/sweeps/hp8fw2uv' target=\"_blank\">https://wandb.ai/ed24s401-indian-institute-of-technology-madras/q4_sweep_project/sweeps/hp8fw2uv</a>"
      ],
      "text/plain": [
       "<IPython.core.display.HTML object>"
      ]
     },
     "metadata": {},
     "output_type": "display_data"
    },
    {
     "data": {
      "text/html": [
       " View run at <a href='https://wandb.ai/ed24s401-indian-institute-of-technology-madras/q4_sweep_project/runs/0xhlpv37' target=\"_blank\">https://wandb.ai/ed24s401-indian-institute-of-technology-madras/q4_sweep_project/runs/0xhlpv37</a>"
      ],
      "text/plain": [
       "<IPython.core.display.HTML object>"
      ]
     },
     "metadata": {},
     "output_type": "display_data"
    },
    {
     "name": "stdout",
     "output_type": "stream",
     "text": [
      "Epoch 1/10 - loss=1.4033, val_acc=0.5407, val_loss=1.0104150807420715\n",
      "Epoch 2/10 - loss=0.9135, val_acc=0.7040, val_loss=0.8198196181755584\n",
      "Epoch 3/10 - loss=0.7019, val_acc=0.7743, val_loss=0.6492770275066525\n",
      "Epoch 4/10 - loss=0.6010, val_acc=0.7905, val_loss=0.5971239895680953\n",
      "Epoch 5/10 - loss=0.5605, val_acc=0.7985, val_loss=0.5799633708933367\n",
      "Epoch 6/10 - loss=0.5402, val_acc=0.7992, val_loss=0.5798825372127182\n",
      "Epoch 7/10 - loss=0.5211, val_acc=0.8073, val_loss=0.5614215859990448\n",
      "Epoch 8/10 - loss=0.5107, val_acc=0.8100, val_loss=0.5518388797980307\n",
      "Epoch 9/10 - loss=0.5012, val_acc=0.8087, val_loss=0.5510397742645318\n",
      "Epoch 10/10 - loss=0.4918, val_acc=0.8098, val_loss=0.5492044562118099\n",
      "test accuracy  0.8079\n"
     ]
    },
    {
     "data": {
      "text/html": [],
      "text/plain": [
       "<IPython.core.display.HTML object>"
      ]
     },
     "metadata": {},
     "output_type": "display_data"
    },
    {
     "data": {
      "text/html": [
       "<br>    <style><br>        .wandb-row {<br>            display: flex;<br>            flex-direction: row;<br>            flex-wrap: wrap;<br>            justify-content: flex-start;<br>            width: 100%;<br>        }<br>        .wandb-col {<br>            display: flex;<br>            flex-direction: column;<br>            flex-basis: 100%;<br>            flex: 1;<br>            padding: 10px;<br>        }<br>    </style><br><div class=\"wandb-row\"><div class=\"wandb-col\"><h3>Run history:</h3><br/><table class=\"wandb\"><tr><td>epoch</td><td>▁▂▃▃▄▅▆▆▇█</td></tr><tr><td>test_accuracy</td><td>▁</td></tr><tr><td>training_loss</td><td>█▄▃▂▂▁▁▁▁▁</td></tr><tr><td>validation loss</td><td>█▅▃▂▁▁▁▁▁▁</td></tr><tr><td>validation_accuracy</td><td>▁▅▇▇██████</td></tr></table><br/></div><div class=\"wandb-col\"><h3>Run summary:</h3><br/><table class=\"wandb\"><tr><td>epoch</td><td>10</td></tr><tr><td>test_accuracy</td><td>0.8079</td></tr><tr><td>training_loss</td><td>0.49176</td></tr><tr><td>validation loss</td><td>0.5492</td></tr><tr><td>validation_accuracy</td><td>0.80983</td></tr></table><br/></div></div>"
      ],
      "text/plain": [
       "<IPython.core.display.HTML object>"
      ]
     },
     "metadata": {},
     "output_type": "display_data"
    },
    {
     "data": {
      "text/html": [
       " View run <strong style=\"color:#cdcd00\">hl_5_hs_32_bs_16_ac_sigmoid_opt_nadam</strong> at: <a href='https://wandb.ai/ed24s401-indian-institute-of-technology-madras/q4_sweep_project/runs/0xhlpv37' target=\"_blank\">https://wandb.ai/ed24s401-indian-institute-of-technology-madras/q4_sweep_project/runs/0xhlpv37</a><br> View project at: <a href='https://wandb.ai/ed24s401-indian-institute-of-technology-madras/q4_sweep_project' target=\"_blank\">https://wandb.ai/ed24s401-indian-institute-of-technology-madras/q4_sweep_project</a><br>Synced 5 W&B file(s), 0 media file(s), 0 artifact file(s) and 0 other file(s)"
      ],
      "text/plain": [
       "<IPython.core.display.HTML object>"
      ]
     },
     "metadata": {},
     "output_type": "display_data"
    },
    {
     "data": {
      "text/html": [
       "Find logs at: <code>.\\wandb\\run-20250317_144020-0xhlpv37\\logs</code>"
      ],
      "text/plain": [
       "<IPython.core.display.HTML object>"
      ]
     },
     "metadata": {},
     "output_type": "display_data"
    },
    {
     "name": "stderr",
     "output_type": "stream",
     "text": [
      "\u001b[34m\u001b[1mwandb\u001b[0m: Sweep Agent: Waiting for job.\n",
      "\u001b[34m\u001b[1mwandb\u001b[0m: Job received.\n",
      "\u001b[34m\u001b[1mwandb\u001b[0m: Agent Starting Run: p2wa62wx with config:\n",
      "\u001b[34m\u001b[1mwandb\u001b[0m: \tactivation: tanh\n",
      "\u001b[34m\u001b[1mwandb\u001b[0m: \tbatch_size: 16\n",
      "\u001b[34m\u001b[1mwandb\u001b[0m: \tbeta1: 0.9\n",
      "\u001b[34m\u001b[1mwandb\u001b[0m: \tbeta2: 0.999\n",
      "\u001b[34m\u001b[1mwandb\u001b[0m: \tbeta_rms: 0.9\n",
      "\u001b[34m\u001b[1mwandb\u001b[0m: \tepochs: 10\n",
      "\u001b[34m\u001b[1mwandb\u001b[0m: \tepsilon: 1e-08\n",
      "\u001b[34m\u001b[1mwandb\u001b[0m: \thidden_size: 128\n",
      "\u001b[34m\u001b[1mwandb\u001b[0m: \tinit_type: random\n",
      "\u001b[34m\u001b[1mwandb\u001b[0m: \tlearning_rate: 0.001\n",
      "\u001b[34m\u001b[1mwandb\u001b[0m: \tloss_func: cross_entropy\n",
      "\u001b[34m\u001b[1mwandb\u001b[0m: \tmomentum: 0.9\n",
      "\u001b[34m\u001b[1mwandb\u001b[0m: \tnum_hidden_layers: 4\n",
      "\u001b[34m\u001b[1mwandb\u001b[0m: \toptimizer: adam\n",
      "\u001b[34m\u001b[1mwandb\u001b[0m: \tweight_decay: 0.5\n"
     ]
    },
    {
     "data": {
      "text/html": [
       "creating run (0.0s)"
      ],
      "text/plain": [
       "<IPython.core.display.HTML object>"
      ]
     },
     "metadata": {},
     "output_type": "display_data"
    },
    {
     "data": {
      "text/html": [
       "Tracking run with wandb version 0.19.8"
      ],
      "text/plain": [
       "<IPython.core.display.HTML object>"
      ]
     },
     "metadata": {},
     "output_type": "display_data"
    },
    {
     "data": {
      "text/html": [
       "Run data is saved locally in <code>c:\\Users\\acer\\OneDrive\\Documents\\GitHub\\dl_assignment_ed24s401\\wandb\\run-20250317_144127-p2wa62wx</code>"
      ],
      "text/plain": [
       "<IPython.core.display.HTML object>"
      ]
     },
     "metadata": {},
     "output_type": "display_data"
    },
    {
     "data": {
      "text/html": [
       "Syncing run <strong><a href='https://wandb.ai/ed24s401-indian-institute-of-technology-madras/q4_sweep_project/runs/p2wa62wx' target=\"_blank\">kind-sweep-77</a></strong> to <a href='https://wandb.ai/ed24s401-indian-institute-of-technology-madras/q4_sweep_project' target=\"_blank\">Weights & Biases</a> (<a href='https://wandb.me/developer-guide' target=\"_blank\">docs</a>)<br>Sweep page: <a href='https://wandb.ai/ed24s401-indian-institute-of-technology-madras/q4_sweep_project/sweeps/hp8fw2uv' target=\"_blank\">https://wandb.ai/ed24s401-indian-institute-of-technology-madras/q4_sweep_project/sweeps/hp8fw2uv</a>"
      ],
      "text/plain": [
       "<IPython.core.display.HTML object>"
      ]
     },
     "metadata": {},
     "output_type": "display_data"
    },
    {
     "data": {
      "text/html": [
       " View project at <a href='https://wandb.ai/ed24s401-indian-institute-of-technology-madras/q4_sweep_project' target=\"_blank\">https://wandb.ai/ed24s401-indian-institute-of-technology-madras/q4_sweep_project</a>"
      ],
      "text/plain": [
       "<IPython.core.display.HTML object>"
      ]
     },
     "metadata": {},
     "output_type": "display_data"
    },
    {
     "data": {
      "text/html": [
       " View sweep at <a href='https://wandb.ai/ed24s401-indian-institute-of-technology-madras/q4_sweep_project/sweeps/hp8fw2uv' target=\"_blank\">https://wandb.ai/ed24s401-indian-institute-of-technology-madras/q4_sweep_project/sweeps/hp8fw2uv</a>"
      ],
      "text/plain": [
       "<IPython.core.display.HTML object>"
      ]
     },
     "metadata": {},
     "output_type": "display_data"
    },
    {
     "data": {
      "text/html": [
       " View run at <a href='https://wandb.ai/ed24s401-indian-institute-of-technology-madras/q4_sweep_project/runs/p2wa62wx' target=\"_blank\">https://wandb.ai/ed24s401-indian-institute-of-technology-madras/q4_sweep_project/runs/p2wa62wx</a>"
      ],
      "text/plain": [
       "<IPython.core.display.HTML object>"
      ]
     },
     "metadata": {},
     "output_type": "display_data"
    },
    {
     "name": "stdout",
     "output_type": "stream",
     "text": [
      "Epoch 1/10 - loss=7.5630, val_acc=0.1000, val_loss=2.3027340524116036\n",
      "Epoch 2/10 - loss=2.3029, val_acc=0.1018, val_loss=2.3025894246413694\n",
      "Epoch 3/10 - loss=2.3030, val_acc=0.0995, val_loss=2.302820816753907\n",
      "Epoch 4/10 - loss=2.3036, val_acc=0.0977, val_loss=2.3027914770238787\n",
      "Epoch 5/10 - loss=2.3032, val_acc=0.0977, val_loss=2.302806685213464\n",
      "Epoch 6/10 - loss=2.3033, val_acc=0.1000, val_loss=2.302598155760871\n",
      "Epoch 7/10 - loss=2.3032, val_acc=0.1023, val_loss=2.302591879423971\n",
      "Epoch 8/10 - loss=2.3034, val_acc=0.1012, val_loss=2.3028602107363803\n",
      "Epoch 9/10 - loss=2.3032, val_acc=0.1013, val_loss=2.302702958334325\n",
      "Epoch 10/10 - loss=2.3037, val_acc=0.1012, val_loss=2.302725566439423\n",
      "test accuracy  0.1\n"
     ]
    },
    {
     "data": {
      "text/html": [],
      "text/plain": [
       "<IPython.core.display.HTML object>"
      ]
     },
     "metadata": {},
     "output_type": "display_data"
    },
    {
     "data": {
      "text/html": [
       "<br>    <style><br>        .wandb-row {<br>            display: flex;<br>            flex-direction: row;<br>            flex-wrap: wrap;<br>            justify-content: flex-start;<br>            width: 100%;<br>        }<br>        .wandb-col {<br>            display: flex;<br>            flex-direction: column;<br>            flex-basis: 100%;<br>            flex: 1;<br>            padding: 10px;<br>        }<br>    </style><br><div class=\"wandb-row\"><div class=\"wandb-col\"><h3>Run history:</h3><br/><table class=\"wandb\"><tr><td>epoch</td><td>▁▂▃▃▄▅▆▆▇█</td></tr><tr><td>test_accuracy</td><td>▁</td></tr><tr><td>training_loss</td><td>█▁▁▁▁▁▁▁▁▁</td></tr><tr><td>validation loss</td><td>▅▁▇▆▇▁▁█▄▅</td></tr><tr><td>validation_accuracy</td><td>▅▇▄▁▁▅█▆▇▆</td></tr></table><br/></div><div class=\"wandb-col\"><h3>Run summary:</h3><br/><table class=\"wandb\"><tr><td>epoch</td><td>10</td></tr><tr><td>test_accuracy</td><td>0.1</td></tr><tr><td>training_loss</td><td>2.30369</td></tr><tr><td>validation loss</td><td>2.30273</td></tr><tr><td>validation_accuracy</td><td>0.10117</td></tr></table><br/></div></div>"
      ],
      "text/plain": [
       "<IPython.core.display.HTML object>"
      ]
     },
     "metadata": {},
     "output_type": "display_data"
    },
    {
     "data": {
      "text/html": [
       " View run <strong style=\"color:#cdcd00\">hl_4_hs_128_bs_16_ac_tanh_opt_adam</strong> at: <a href='https://wandb.ai/ed24s401-indian-institute-of-technology-madras/q4_sweep_project/runs/p2wa62wx' target=\"_blank\">https://wandb.ai/ed24s401-indian-institute-of-technology-madras/q4_sweep_project/runs/p2wa62wx</a><br> View project at: <a href='https://wandb.ai/ed24s401-indian-institute-of-technology-madras/q4_sweep_project' target=\"_blank\">https://wandb.ai/ed24s401-indian-institute-of-technology-madras/q4_sweep_project</a><br>Synced 5 W&B file(s), 0 media file(s), 0 artifact file(s) and 0 other file(s)"
      ],
      "text/plain": [
       "<IPython.core.display.HTML object>"
      ]
     },
     "metadata": {},
     "output_type": "display_data"
    },
    {
     "data": {
      "text/html": [
       "Find logs at: <code>.\\wandb\\run-20250317_144127-p2wa62wx\\logs</code>"
      ],
      "text/plain": [
       "<IPython.core.display.HTML object>"
      ]
     },
     "metadata": {},
     "output_type": "display_data"
    },
    {
     "name": "stderr",
     "output_type": "stream",
     "text": [
      "\u001b[34m\u001b[1mwandb\u001b[0m: Agent Starting Run: tegq2llk with config:\n",
      "\u001b[34m\u001b[1mwandb\u001b[0m: \tactivation: sigmoid\n",
      "\u001b[34m\u001b[1mwandb\u001b[0m: \tbatch_size: 32\n",
      "\u001b[34m\u001b[1mwandb\u001b[0m: \tbeta1: 0.9\n",
      "\u001b[34m\u001b[1mwandb\u001b[0m: \tbeta2: 0.99\n",
      "\u001b[34m\u001b[1mwandb\u001b[0m: \tbeta_rms: 0.9\n",
      "\u001b[34m\u001b[1mwandb\u001b[0m: \tepochs: 5\n",
      "\u001b[34m\u001b[1mwandb\u001b[0m: \tepsilon: 1e-08\n",
      "\u001b[34m\u001b[1mwandb\u001b[0m: \thidden_size: 128\n",
      "\u001b[34m\u001b[1mwandb\u001b[0m: \tinit_type: xavier\n",
      "\u001b[34m\u001b[1mwandb\u001b[0m: \tlearning_rate: 0.0001\n",
      "\u001b[34m\u001b[1mwandb\u001b[0m: \tloss_func: cross_entropy\n",
      "\u001b[34m\u001b[1mwandb\u001b[0m: \tmomentum: 0.9\n",
      "\u001b[34m\u001b[1mwandb\u001b[0m: \tnum_hidden_layers: 4\n",
      "\u001b[34m\u001b[1mwandb\u001b[0m: \toptimizer: rmsprop\n",
      "\u001b[34m\u001b[1mwandb\u001b[0m: \tweight_decay: 0\n"
     ]
    },
    {
     "data": {
      "text/html": [
       "creating run (0.2s)"
      ],
      "text/plain": [
       "<IPython.core.display.HTML object>"
      ]
     },
     "metadata": {},
     "output_type": "display_data"
    },
    {
     "data": {
      "text/html": [
       "Tracking run with wandb version 0.19.8"
      ],
      "text/plain": [
       "<IPython.core.display.HTML object>"
      ]
     },
     "metadata": {},
     "output_type": "display_data"
    },
    {
     "data": {
      "text/html": [
       "Run data is saved locally in <code>c:\\Users\\acer\\OneDrive\\Documents\\GitHub\\dl_assignment_ed24s401\\wandb\\run-20250317_144417-tegq2llk</code>"
      ],
      "text/plain": [
       "<IPython.core.display.HTML object>"
      ]
     },
     "metadata": {},
     "output_type": "display_data"
    },
    {
     "data": {
      "text/html": [
       "Syncing run <strong><a href='https://wandb.ai/ed24s401-indian-institute-of-technology-madras/q4_sweep_project/runs/tegq2llk' target=\"_blank\">dazzling-sweep-78</a></strong> to <a href='https://wandb.ai/ed24s401-indian-institute-of-technology-madras/q4_sweep_project' target=\"_blank\">Weights & Biases</a> (<a href='https://wandb.me/developer-guide' target=\"_blank\">docs</a>)<br>Sweep page: <a href='https://wandb.ai/ed24s401-indian-institute-of-technology-madras/q4_sweep_project/sweeps/hp8fw2uv' target=\"_blank\">https://wandb.ai/ed24s401-indian-institute-of-technology-madras/q4_sweep_project/sweeps/hp8fw2uv</a>"
      ],
      "text/plain": [
       "<IPython.core.display.HTML object>"
      ]
     },
     "metadata": {},
     "output_type": "display_data"
    },
    {
     "data": {
      "text/html": [
       " View project at <a href='https://wandb.ai/ed24s401-indian-institute-of-technology-madras/q4_sweep_project' target=\"_blank\">https://wandb.ai/ed24s401-indian-institute-of-technology-madras/q4_sweep_project</a>"
      ],
      "text/plain": [
       "<IPython.core.display.HTML object>"
      ]
     },
     "metadata": {},
     "output_type": "display_data"
    },
    {
     "data": {
      "text/html": [
       " View sweep at <a href='https://wandb.ai/ed24s401-indian-institute-of-technology-madras/q4_sweep_project/sweeps/hp8fw2uv' target=\"_blank\">https://wandb.ai/ed24s401-indian-institute-of-technology-madras/q4_sweep_project/sweeps/hp8fw2uv</a>"
      ],
      "text/plain": [
       "<IPython.core.display.HTML object>"
      ]
     },
     "metadata": {},
     "output_type": "display_data"
    },
    {
     "data": {
      "text/html": [
       " View run at <a href='https://wandb.ai/ed24s401-indian-institute-of-technology-madras/q4_sweep_project/runs/tegq2llk' target=\"_blank\">https://wandb.ai/ed24s401-indian-institute-of-technology-madras/q4_sweep_project/runs/tegq2llk</a>"
      ],
      "text/plain": [
       "<IPython.core.display.HTML object>"
      ]
     },
     "metadata": {},
     "output_type": "display_data"
    },
    {
     "name": "stdout",
     "output_type": "stream",
     "text": [
      "Epoch 1/5 - loss=1.7306, val_acc=0.5438, val_loss=1.1806339629776827\n",
      "Epoch 2/5 - loss=0.9892, val_acc=0.6722, val_loss=0.8678784964829244\n",
      "Epoch 3/5 - loss=0.7773, val_acc=0.7338, val_loss=0.7369658382770962\n",
      "Epoch 4/5 - loss=0.6845, val_acc=0.7555, val_loss=0.6775051110393526\n",
      "Epoch 5/5 - loss=0.6317, val_acc=0.7712, val_loss=0.6303498820234652\n",
      "test accuracy  0.7666\n"
     ]
    },
    {
     "data": {
      "text/html": [],
      "text/plain": [
       "<IPython.core.display.HTML object>"
      ]
     },
     "metadata": {},
     "output_type": "display_data"
    },
    {
     "data": {
      "text/html": [
       "<br>    <style><br>        .wandb-row {<br>            display: flex;<br>            flex-direction: row;<br>            flex-wrap: wrap;<br>            justify-content: flex-start;<br>            width: 100%;<br>        }<br>        .wandb-col {<br>            display: flex;<br>            flex-direction: column;<br>            flex-basis: 100%;<br>            flex: 1;<br>            padding: 10px;<br>        }<br>    </style><br><div class=\"wandb-row\"><div class=\"wandb-col\"><h3>Run history:</h3><br/><table class=\"wandb\"><tr><td>epoch</td><td>▁▃▅▆█</td></tr><tr><td>test_accuracy</td><td>▁</td></tr><tr><td>training_loss</td><td>█▃▂▁▁</td></tr><tr><td>validation loss</td><td>█▄▂▂▁</td></tr><tr><td>validation_accuracy</td><td>▁▅▇██</td></tr></table><br/></div><div class=\"wandb-col\"><h3>Run summary:</h3><br/><table class=\"wandb\"><tr><td>epoch</td><td>5</td></tr><tr><td>test_accuracy</td><td>0.7666</td></tr><tr><td>training_loss</td><td>0.63172</td></tr><tr><td>validation loss</td><td>0.63035</td></tr><tr><td>validation_accuracy</td><td>0.77117</td></tr></table><br/></div></div>"
      ],
      "text/plain": [
       "<IPython.core.display.HTML object>"
      ]
     },
     "metadata": {},
     "output_type": "display_data"
    },
    {
     "data": {
      "text/html": [
       " View run <strong style=\"color:#cdcd00\">hl_4_hs_128_bs_32_ac_sigmoid_opt_rmsprop</strong> at: <a href='https://wandb.ai/ed24s401-indian-institute-of-technology-madras/q4_sweep_project/runs/tegq2llk' target=\"_blank\">https://wandb.ai/ed24s401-indian-institute-of-technology-madras/q4_sweep_project/runs/tegq2llk</a><br> View project at: <a href='https://wandb.ai/ed24s401-indian-institute-of-technology-madras/q4_sweep_project' target=\"_blank\">https://wandb.ai/ed24s401-indian-institute-of-technology-madras/q4_sweep_project</a><br>Synced 5 W&B file(s), 0 media file(s), 0 artifact file(s) and 0 other file(s)"
      ],
      "text/plain": [
       "<IPython.core.display.HTML object>"
      ]
     },
     "metadata": {},
     "output_type": "display_data"
    },
    {
     "data": {
      "text/html": [
       "Find logs at: <code>.\\wandb\\run-20250317_144417-tegq2llk\\logs</code>"
      ],
      "text/plain": [
       "<IPython.core.display.HTML object>"
      ]
     },
     "metadata": {},
     "output_type": "display_data"
    },
    {
     "name": "stderr",
     "output_type": "stream",
     "text": [
      "\u001b[34m\u001b[1mwandb\u001b[0m: Agent Starting Run: li9ekeof with config:\n",
      "\u001b[34m\u001b[1mwandb\u001b[0m: \tactivation: sigmoid\n",
      "\u001b[34m\u001b[1mwandb\u001b[0m: \tbatch_size: 32\n",
      "\u001b[34m\u001b[1mwandb\u001b[0m: \tbeta1: 0.9\n",
      "\u001b[34m\u001b[1mwandb\u001b[0m: \tbeta2: 0.99\n",
      "\u001b[34m\u001b[1mwandb\u001b[0m: \tbeta_rms: 0.9\n",
      "\u001b[34m\u001b[1mwandb\u001b[0m: \tepochs: 10\n",
      "\u001b[34m\u001b[1mwandb\u001b[0m: \tepsilon: 1e-08\n",
      "\u001b[34m\u001b[1mwandb\u001b[0m: \thidden_size: 128\n",
      "\u001b[34m\u001b[1mwandb\u001b[0m: \tinit_type: xavier\n",
      "\u001b[34m\u001b[1mwandb\u001b[0m: \tlearning_rate: 0.001\n",
      "\u001b[34m\u001b[1mwandb\u001b[0m: \tloss_func: cross_entropy\n",
      "\u001b[34m\u001b[1mwandb\u001b[0m: \tmomentum: 0.9\n",
      "\u001b[34m\u001b[1mwandb\u001b[0m: \tnum_hidden_layers: 4\n",
      "\u001b[34m\u001b[1mwandb\u001b[0m: \toptimizer: momentum\n",
      "\u001b[34m\u001b[1mwandb\u001b[0m: \tweight_decay: 0.0005\n"
     ]
    },
    {
     "data": {
      "text/html": [
       "creating run (0.2s)"
      ],
      "text/plain": [
       "<IPython.core.display.HTML object>"
      ]
     },
     "metadata": {},
     "output_type": "display_data"
    },
    {
     "data": {
      "text/html": [
       "Tracking run with wandb version 0.19.8"
      ],
      "text/plain": [
       "<IPython.core.display.HTML object>"
      ]
     },
     "metadata": {},
     "output_type": "display_data"
    },
    {
     "data": {
      "text/html": [
       "Run data is saved locally in <code>c:\\Users\\acer\\OneDrive\\Documents\\GitHub\\dl_assignment_ed24s401\\wandb\\run-20250317_144459-li9ekeof</code>"
      ],
      "text/plain": [
       "<IPython.core.display.HTML object>"
      ]
     },
     "metadata": {},
     "output_type": "display_data"
    },
    {
     "data": {
      "text/html": [
       "Syncing run <strong><a href='https://wandb.ai/ed24s401-indian-institute-of-technology-madras/q4_sweep_project/runs/li9ekeof' target=\"_blank\">pleasant-sweep-79</a></strong> to <a href='https://wandb.ai/ed24s401-indian-institute-of-technology-madras/q4_sweep_project' target=\"_blank\">Weights & Biases</a> (<a href='https://wandb.me/developer-guide' target=\"_blank\">docs</a>)<br>Sweep page: <a href='https://wandb.ai/ed24s401-indian-institute-of-technology-madras/q4_sweep_project/sweeps/hp8fw2uv' target=\"_blank\">https://wandb.ai/ed24s401-indian-institute-of-technology-madras/q4_sweep_project/sweeps/hp8fw2uv</a>"
      ],
      "text/plain": [
       "<IPython.core.display.HTML object>"
      ]
     },
     "metadata": {},
     "output_type": "display_data"
    },
    {
     "data": {
      "text/html": [
       " View project at <a href='https://wandb.ai/ed24s401-indian-institute-of-technology-madras/q4_sweep_project' target=\"_blank\">https://wandb.ai/ed24s401-indian-institute-of-technology-madras/q4_sweep_project</a>"
      ],
      "text/plain": [
       "<IPython.core.display.HTML object>"
      ]
     },
     "metadata": {},
     "output_type": "display_data"
    },
    {
     "data": {
      "text/html": [
       " View sweep at <a href='https://wandb.ai/ed24s401-indian-institute-of-technology-madras/q4_sweep_project/sweeps/hp8fw2uv' target=\"_blank\">https://wandb.ai/ed24s401-indian-institute-of-technology-madras/q4_sweep_project/sweeps/hp8fw2uv</a>"
      ],
      "text/plain": [
       "<IPython.core.display.HTML object>"
      ]
     },
     "metadata": {},
     "output_type": "display_data"
    },
    {
     "data": {
      "text/html": [
       " View run at <a href='https://wandb.ai/ed24s401-indian-institute-of-technology-madras/q4_sweep_project/runs/li9ekeof' target=\"_blank\">https://wandb.ai/ed24s401-indian-institute-of-technology-madras/q4_sweep_project/runs/li9ekeof</a>"
      ],
      "text/plain": [
       "<IPython.core.display.HTML object>"
      ]
     },
     "metadata": {},
     "output_type": "display_data"
    },
    {
     "name": "stdout",
     "output_type": "stream",
     "text": [
      "Epoch 1/10 - loss=2.4352, val_acc=0.1000, val_loss=2.303848310421912\n",
      "Epoch 2/10 - loss=2.4314, val_acc=0.1018, val_loss=2.30335548281317\n",
      "Epoch 3/10 - loss=2.4286, val_acc=0.0995, val_loss=2.3028956337973336\n",
      "Epoch 4/10 - loss=2.4258, val_acc=0.0977, val_loss=2.302443665491736\n",
      "Epoch 5/10 - loss=2.4223, val_acc=0.1000, val_loss=2.3013480053498014\n",
      "Epoch 6/10 - loss=2.4197, val_acc=0.1013, val_loss=2.2989749397537285\n",
      "Epoch 7/10 - loss=2.4158, val_acc=0.1230, val_loss=2.299001314704211\n",
      "Epoch 8/10 - loss=2.4114, val_acc=0.0977, val_loss=2.2937725712257073\n",
      "Epoch 9/10 - loss=2.4048, val_acc=0.1013, val_loss=2.2855419965348154\n",
      "Epoch 10/10 - loss=2.3916, val_acc=0.1000, val_loss=2.2662700845054857\n",
      "test accuracy  0.1\n"
     ]
    },
    {
     "data": {
      "text/html": [],
      "text/plain": [
       "<IPython.core.display.HTML object>"
      ]
     },
     "metadata": {},
     "output_type": "display_data"
    },
    {
     "data": {
      "text/html": [
       "<br>    <style><br>        .wandb-row {<br>            display: flex;<br>            flex-direction: row;<br>            flex-wrap: wrap;<br>            justify-content: flex-start;<br>            width: 100%;<br>        }<br>        .wandb-col {<br>            display: flex;<br>            flex-direction: column;<br>            flex-basis: 100%;<br>            flex: 1;<br>            padding: 10px;<br>        }<br>    </style><br><div class=\"wandb-row\"><div class=\"wandb-col\"><h3>Run history:</h3><br/><table class=\"wandb\"><tr><td>epoch</td><td>▁▂▃▃▄▅▆▆▇█</td></tr><tr><td>test_accuracy</td><td>▁</td></tr><tr><td>training_loss</td><td>█▇▇▆▆▆▅▄▃▁</td></tr><tr><td>validation loss</td><td>█████▇▇▆▅▁</td></tr><tr><td>validation_accuracy</td><td>▂▂▂▁▂▂█▁▂▂</td></tr></table><br/></div><div class=\"wandb-col\"><h3>Run summary:</h3><br/><table class=\"wandb\"><tr><td>epoch</td><td>10</td></tr><tr><td>test_accuracy</td><td>0.1</td></tr><tr><td>training_loss</td><td>2.39158</td></tr><tr><td>validation loss</td><td>2.26627</td></tr><tr><td>validation_accuracy</td><td>0.1</td></tr></table><br/></div></div>"
      ],
      "text/plain": [
       "<IPython.core.display.HTML object>"
      ]
     },
     "metadata": {},
     "output_type": "display_data"
    },
    {
     "data": {
      "text/html": [
       " View run <strong style=\"color:#cdcd00\">hl_4_hs_128_bs_32_ac_sigmoid_opt_momentum</strong> at: <a href='https://wandb.ai/ed24s401-indian-institute-of-technology-madras/q4_sweep_project/runs/li9ekeof' target=\"_blank\">https://wandb.ai/ed24s401-indian-institute-of-technology-madras/q4_sweep_project/runs/li9ekeof</a><br> View project at: <a href='https://wandb.ai/ed24s401-indian-institute-of-technology-madras/q4_sweep_project' target=\"_blank\">https://wandb.ai/ed24s401-indian-institute-of-technology-madras/q4_sweep_project</a><br>Synced 5 W&B file(s), 0 media file(s), 0 artifact file(s) and 0 other file(s)"
      ],
      "text/plain": [
       "<IPython.core.display.HTML object>"
      ]
     },
     "metadata": {},
     "output_type": "display_data"
    },
    {
     "data": {
      "text/html": [
       "Find logs at: <code>.\\wandb\\run-20250317_144459-li9ekeof\\logs</code>"
      ],
      "text/plain": [
       "<IPython.core.display.HTML object>"
      ]
     },
     "metadata": {},
     "output_type": "display_data"
    },
    {
     "name": "stderr",
     "output_type": "stream",
     "text": [
      "\u001b[34m\u001b[1mwandb\u001b[0m: Agent Starting Run: nuddm3nm with config:\n",
      "\u001b[34m\u001b[1mwandb\u001b[0m: \tactivation: tanh\n",
      "\u001b[34m\u001b[1mwandb\u001b[0m: \tbatch_size: 16\n",
      "\u001b[34m\u001b[1mwandb\u001b[0m: \tbeta1: 0.9\n",
      "\u001b[34m\u001b[1mwandb\u001b[0m: \tbeta2: 0.99\n",
      "\u001b[34m\u001b[1mwandb\u001b[0m: \tbeta_rms: 0.9\n",
      "\u001b[34m\u001b[1mwandb\u001b[0m: \tepochs: 5\n",
      "\u001b[34m\u001b[1mwandb\u001b[0m: \tepsilon: 1e-08\n",
      "\u001b[34m\u001b[1mwandb\u001b[0m: \thidden_size: 128\n",
      "\u001b[34m\u001b[1mwandb\u001b[0m: \tinit_type: xavier\n",
      "\u001b[34m\u001b[1mwandb\u001b[0m: \tlearning_rate: 0.001\n",
      "\u001b[34m\u001b[1mwandb\u001b[0m: \tloss_func: cross_entropy\n",
      "\u001b[34m\u001b[1mwandb\u001b[0m: \tmomentum: 0.9\n",
      "\u001b[34m\u001b[1mwandb\u001b[0m: \tnum_hidden_layers: 3\n",
      "\u001b[34m\u001b[1mwandb\u001b[0m: \toptimizer: momentum\n",
      "\u001b[34m\u001b[1mwandb\u001b[0m: \tweight_decay: 0.5\n"
     ]
    },
    {
     "data": {
      "text/html": [
       "Tracking run with wandb version 0.19.8"
      ],
      "text/plain": [
       "<IPython.core.display.HTML object>"
      ]
     },
     "metadata": {},
     "output_type": "display_data"
    },
    {
     "data": {
      "text/html": [
       "Run data is saved locally in <code>c:\\Users\\acer\\OneDrive\\Documents\\GitHub\\dl_assignment_ed24s401\\wandb\\run-20250317_144558-nuddm3nm</code>"
      ],
      "text/plain": [
       "<IPython.core.display.HTML object>"
      ]
     },
     "metadata": {},
     "output_type": "display_data"
    },
    {
     "data": {
      "text/html": [
       "Syncing run <strong><a href='https://wandb.ai/ed24s401-indian-institute-of-technology-madras/q4_sweep_project/runs/nuddm3nm' target=\"_blank\">logical-sweep-80</a></strong> to <a href='https://wandb.ai/ed24s401-indian-institute-of-technology-madras/q4_sweep_project' target=\"_blank\">Weights & Biases</a> (<a href='https://wandb.me/developer-guide' target=\"_blank\">docs</a>)<br>Sweep page: <a href='https://wandb.ai/ed24s401-indian-institute-of-technology-madras/q4_sweep_project/sweeps/hp8fw2uv' target=\"_blank\">https://wandb.ai/ed24s401-indian-institute-of-technology-madras/q4_sweep_project/sweeps/hp8fw2uv</a>"
      ],
      "text/plain": [
       "<IPython.core.display.HTML object>"
      ]
     },
     "metadata": {},
     "output_type": "display_data"
    },
    {
     "data": {
      "text/html": [
       " View project at <a href='https://wandb.ai/ed24s401-indian-institute-of-technology-madras/q4_sweep_project' target=\"_blank\">https://wandb.ai/ed24s401-indian-institute-of-technology-madras/q4_sweep_project</a>"
      ],
      "text/plain": [
       "<IPython.core.display.HTML object>"
      ]
     },
     "metadata": {},
     "output_type": "display_data"
    },
    {
     "data": {
      "text/html": [
       " View sweep at <a href='https://wandb.ai/ed24s401-indian-institute-of-technology-madras/q4_sweep_project/sweeps/hp8fw2uv' target=\"_blank\">https://wandb.ai/ed24s401-indian-institute-of-technology-madras/q4_sweep_project/sweeps/hp8fw2uv</a>"
      ],
      "text/plain": [
       "<IPython.core.display.HTML object>"
      ]
     },
     "metadata": {},
     "output_type": "display_data"
    },
    {
     "data": {
      "text/html": [
       " View run at <a href='https://wandb.ai/ed24s401-indian-institute-of-technology-madras/q4_sweep_project/runs/nuddm3nm' target=\"_blank\">https://wandb.ai/ed24s401-indian-institute-of-technology-madras/q4_sweep_project/runs/nuddm3nm</a>"
      ],
      "text/plain": [
       "<IPython.core.display.HTML object>"
      ]
     },
     "metadata": {},
     "output_type": "display_data"
    },
    {
     "name": "stdout",
     "output_type": "stream",
     "text": [
      "Epoch 1/5 - loss=5.3494, val_acc=0.0977, val_loss=2.302699415573264\n",
      "Epoch 2/5 - loss=2.3028, val_acc=0.0977, val_loss=2.3027081691802005\n",
      "Epoch 3/5 - loss=2.3027, val_acc=0.1013, val_loss=2.3026405472652374\n",
      "Epoch 4/5 - loss=2.3028, val_acc=0.0977, val_loss=2.3027341962743875\n",
      "Epoch 5/5 - loss=2.3028, val_acc=0.0977, val_loss=2.3026691067141667\n",
      "test accuracy  0.1\n"
     ]
    },
    {
     "data": {
      "text/html": [],
      "text/plain": [
       "<IPython.core.display.HTML object>"
      ]
     },
     "metadata": {},
     "output_type": "display_data"
    },
    {
     "data": {
      "text/html": [
       "<br>    <style><br>        .wandb-row {<br>            display: flex;<br>            flex-direction: row;<br>            flex-wrap: wrap;<br>            justify-content: flex-start;<br>            width: 100%;<br>        }<br>        .wandb-col {<br>            display: flex;<br>            flex-direction: column;<br>            flex-basis: 100%;<br>            flex: 1;<br>            padding: 10px;<br>        }<br>    </style><br><div class=\"wandb-row\"><div class=\"wandb-col\"><h3>Run history:</h3><br/><table class=\"wandb\"><tr><td>epoch</td><td>▁▃▅▆█</td></tr><tr><td>test_accuracy</td><td>▁</td></tr><tr><td>training_loss</td><td>█▁▁▁▁</td></tr><tr><td>validation loss</td><td>▅▆▁█▃</td></tr><tr><td>validation_accuracy</td><td>▁▁█▁▁</td></tr></table><br/></div><div class=\"wandb-col\"><h3>Run summary:</h3><br/><table class=\"wandb\"><tr><td>epoch</td><td>5</td></tr><tr><td>test_accuracy</td><td>0.1</td></tr><tr><td>training_loss</td><td>2.30279</td></tr><tr><td>validation loss</td><td>2.30267</td></tr><tr><td>validation_accuracy</td><td>0.09767</td></tr></table><br/></div></div>"
      ],
      "text/plain": [
       "<IPython.core.display.HTML object>"
      ]
     },
     "metadata": {},
     "output_type": "display_data"
    },
    {
     "data": {
      "text/html": [
       " View run <strong style=\"color:#cdcd00\">hl_3_hs_128_bs_16_ac_tanh_opt_momentum</strong> at: <a href='https://wandb.ai/ed24s401-indian-institute-of-technology-madras/q4_sweep_project/runs/nuddm3nm' target=\"_blank\">https://wandb.ai/ed24s401-indian-institute-of-technology-madras/q4_sweep_project/runs/nuddm3nm</a><br> View project at: <a href='https://wandb.ai/ed24s401-indian-institute-of-technology-madras/q4_sweep_project' target=\"_blank\">https://wandb.ai/ed24s401-indian-institute-of-technology-madras/q4_sweep_project</a><br>Synced 5 W&B file(s), 0 media file(s), 0 artifact file(s) and 0 other file(s)"
      ],
      "text/plain": [
       "<IPython.core.display.HTML object>"
      ]
     },
     "metadata": {},
     "output_type": "display_data"
    },
    {
     "data": {
      "text/html": [
       "Find logs at: <code>.\\wandb\\run-20250317_144558-nuddm3nm\\logs</code>"
      ],
      "text/plain": [
       "<IPython.core.display.HTML object>"
      ]
     },
     "metadata": {},
     "output_type": "display_data"
    },
    {
     "name": "stderr",
     "output_type": "stream",
     "text": [
      "\u001b[34m\u001b[1mwandb\u001b[0m: Agent Starting Run: vwgf7rdm with config:\n",
      "\u001b[34m\u001b[1mwandb\u001b[0m: \tactivation: tanh\n",
      "\u001b[34m\u001b[1mwandb\u001b[0m: \tbatch_size: 64\n",
      "\u001b[34m\u001b[1mwandb\u001b[0m: \tbeta1: 0.9\n",
      "\u001b[34m\u001b[1mwandb\u001b[0m: \tbeta2: 0.99\n",
      "\u001b[34m\u001b[1mwandb\u001b[0m: \tbeta_rms: 0.9\n",
      "\u001b[34m\u001b[1mwandb\u001b[0m: \tepochs: 5\n",
      "\u001b[34m\u001b[1mwandb\u001b[0m: \tepsilon: 1e-08\n",
      "\u001b[34m\u001b[1mwandb\u001b[0m: \thidden_size: 128\n",
      "\u001b[34m\u001b[1mwandb\u001b[0m: \tinit_type: xavier\n",
      "\u001b[34m\u001b[1mwandb\u001b[0m: \tlearning_rate: 0.001\n",
      "\u001b[34m\u001b[1mwandb\u001b[0m: \tloss_func: cross_entropy\n",
      "\u001b[34m\u001b[1mwandb\u001b[0m: \tmomentum: 0.9\n",
      "\u001b[34m\u001b[1mwandb\u001b[0m: \tnum_hidden_layers: 3\n",
      "\u001b[34m\u001b[1mwandb\u001b[0m: \toptimizer: rmsprop\n",
      "\u001b[34m\u001b[1mwandb\u001b[0m: \tweight_decay: 0.0005\n"
     ]
    },
    {
     "data": {
      "text/html": [
       "Tracking run with wandb version 0.19.8"
      ],
      "text/plain": [
       "<IPython.core.display.HTML object>"
      ]
     },
     "metadata": {},
     "output_type": "display_data"
    },
    {
     "data": {
      "text/html": [
       "Run data is saved locally in <code>c:\\Users\\acer\\OneDrive\\Documents\\GitHub\\dl_assignment_ed24s401\\wandb\\run-20250317_144646-vwgf7rdm</code>"
      ],
      "text/plain": [
       "<IPython.core.display.HTML object>"
      ]
     },
     "metadata": {},
     "output_type": "display_data"
    },
    {
     "data": {
      "text/html": [
       "Syncing run <strong><a href='https://wandb.ai/ed24s401-indian-institute-of-technology-madras/q4_sweep_project/runs/vwgf7rdm' target=\"_blank\">expert-sweep-81</a></strong> to <a href='https://wandb.ai/ed24s401-indian-institute-of-technology-madras/q4_sweep_project' target=\"_blank\">Weights & Biases</a> (<a href='https://wandb.me/developer-guide' target=\"_blank\">docs</a>)<br>Sweep page: <a href='https://wandb.ai/ed24s401-indian-institute-of-technology-madras/q4_sweep_project/sweeps/hp8fw2uv' target=\"_blank\">https://wandb.ai/ed24s401-indian-institute-of-technology-madras/q4_sweep_project/sweeps/hp8fw2uv</a>"
      ],
      "text/plain": [
       "<IPython.core.display.HTML object>"
      ]
     },
     "metadata": {},
     "output_type": "display_data"
    },
    {
     "data": {
      "text/html": [
       " View project at <a href='https://wandb.ai/ed24s401-indian-institute-of-technology-madras/q4_sweep_project' target=\"_blank\">https://wandb.ai/ed24s401-indian-institute-of-technology-madras/q4_sweep_project</a>"
      ],
      "text/plain": [
       "<IPython.core.display.HTML object>"
      ]
     },
     "metadata": {},
     "output_type": "display_data"
    },
    {
     "data": {
      "text/html": [
       " View sweep at <a href='https://wandb.ai/ed24s401-indian-institute-of-technology-madras/q4_sweep_project/sweeps/hp8fw2uv' target=\"_blank\">https://wandb.ai/ed24s401-indian-institute-of-technology-madras/q4_sweep_project/sweeps/hp8fw2uv</a>"
      ],
      "text/plain": [
       "<IPython.core.display.HTML object>"
      ]
     },
     "metadata": {},
     "output_type": "display_data"
    },
    {
     "data": {
      "text/html": [
       " View run at <a href='https://wandb.ai/ed24s401-indian-institute-of-technology-madras/q4_sweep_project/runs/vwgf7rdm' target=\"_blank\">https://wandb.ai/ed24s401-indian-institute-of-technology-madras/q4_sweep_project/runs/vwgf7rdm</a>"
      ],
      "text/plain": [
       "<IPython.core.display.HTML object>"
      ]
     },
     "metadata": {},
     "output_type": "display_data"
    },
    {
     "name": "stdout",
     "output_type": "stream",
     "text": [
      "Epoch 1/5 - loss=0.6291, val_acc=0.8145, val_loss=0.4617105904462595\n",
      "Epoch 2/5 - loss=0.5075, val_acc=0.8460, val_loss=0.40847044732482973\n",
      "Epoch 3/5 - loss=0.4728, val_acc=0.8548, val_loss=0.387610026505924\n",
      "Epoch 4/5 - loss=0.4503, val_acc=0.8542, val_loss=0.38147729664676056\n",
      "Epoch 5/5 - loss=0.4355, val_acc=0.8713, val_loss=0.3373712979499467\n",
      "test accuracy  0.865\n"
     ]
    },
    {
     "data": {
      "text/html": [],
      "text/plain": [
       "<IPython.core.display.HTML object>"
      ]
     },
     "metadata": {},
     "output_type": "display_data"
    },
    {
     "data": {
      "text/html": [
       "<br>    <style><br>        .wandb-row {<br>            display: flex;<br>            flex-direction: row;<br>            flex-wrap: wrap;<br>            justify-content: flex-start;<br>            width: 100%;<br>        }<br>        .wandb-col {<br>            display: flex;<br>            flex-direction: column;<br>            flex-basis: 100%;<br>            flex: 1;<br>            padding: 10px;<br>        }<br>    </style><br><div class=\"wandb-row\"><div class=\"wandb-col\"><h3>Run history:</h3><br/><table class=\"wandb\"><tr><td>epoch</td><td>▁▃▅▆█</td></tr><tr><td>test_accuracy</td><td>▁</td></tr><tr><td>training_loss</td><td>█▄▂▂▁</td></tr><tr><td>validation loss</td><td>█▅▄▃▁</td></tr><tr><td>validation_accuracy</td><td>▁▅▆▆█</td></tr></table><br/></div><div class=\"wandb-col\"><h3>Run summary:</h3><br/><table class=\"wandb\"><tr><td>epoch</td><td>5</td></tr><tr><td>test_accuracy</td><td>0.865</td></tr><tr><td>training_loss</td><td>0.43546</td></tr><tr><td>validation loss</td><td>0.33737</td></tr><tr><td>validation_accuracy</td><td>0.87133</td></tr></table><br/></div></div>"
      ],
      "text/plain": [
       "<IPython.core.display.HTML object>"
      ]
     },
     "metadata": {},
     "output_type": "display_data"
    },
    {
     "data": {
      "text/html": [
       " View run <strong style=\"color:#cdcd00\">hl_3_hs_128_bs_64_ac_tanh_opt_rmsprop</strong> at: <a href='https://wandb.ai/ed24s401-indian-institute-of-technology-madras/q4_sweep_project/runs/vwgf7rdm' target=\"_blank\">https://wandb.ai/ed24s401-indian-institute-of-technology-madras/q4_sweep_project/runs/vwgf7rdm</a><br> View project at: <a href='https://wandb.ai/ed24s401-indian-institute-of-technology-madras/q4_sweep_project' target=\"_blank\">https://wandb.ai/ed24s401-indian-institute-of-technology-madras/q4_sweep_project</a><br>Synced 5 W&B file(s), 0 media file(s), 0 artifact file(s) and 0 other file(s)"
      ],
      "text/plain": [
       "<IPython.core.display.HTML object>"
      ]
     },
     "metadata": {},
     "output_type": "display_data"
    },
    {
     "data": {
      "text/html": [
       "Find logs at: <code>.\\wandb\\run-20250317_144646-vwgf7rdm\\logs</code>"
      ],
      "text/plain": [
       "<IPython.core.display.HTML object>"
      ]
     },
     "metadata": {},
     "output_type": "display_data"
    },
    {
     "name": "stderr",
     "output_type": "stream",
     "text": [
      "\u001b[34m\u001b[1mwandb\u001b[0m: Agent Starting Run: uaodd0uy with config:\n",
      "\u001b[34m\u001b[1mwandb\u001b[0m: \tactivation: relu\n",
      "\u001b[34m\u001b[1mwandb\u001b[0m: \tbatch_size: 32\n",
      "\u001b[34m\u001b[1mwandb\u001b[0m: \tbeta1: 0.9\n",
      "\u001b[34m\u001b[1mwandb\u001b[0m: \tbeta2: 0.999\n",
      "\u001b[34m\u001b[1mwandb\u001b[0m: \tbeta_rms: 0.9\n",
      "\u001b[34m\u001b[1mwandb\u001b[0m: \tepochs: 5\n",
      "\u001b[34m\u001b[1mwandb\u001b[0m: \tepsilon: 1e-08\n",
      "\u001b[34m\u001b[1mwandb\u001b[0m: \thidden_size: 128\n",
      "\u001b[34m\u001b[1mwandb\u001b[0m: \tinit_type: random\n",
      "\u001b[34m\u001b[1mwandb\u001b[0m: \tlearning_rate: 0.0001\n",
      "\u001b[34m\u001b[1mwandb\u001b[0m: \tloss_func: cross_entropy\n",
      "\u001b[34m\u001b[1mwandb\u001b[0m: \tmomentum: 0.9\n",
      "\u001b[34m\u001b[1mwandb\u001b[0m: \tnum_hidden_layers: 3\n",
      "\u001b[34m\u001b[1mwandb\u001b[0m: \toptimizer: rmsprop\n",
      "\u001b[34m\u001b[1mwandb\u001b[0m: \tweight_decay: 0.0005\n"
     ]
    },
    {
     "data": {
      "text/html": [
       "creating run (0.2s)"
      ],
      "text/plain": [
       "<IPython.core.display.HTML object>"
      ]
     },
     "metadata": {},
     "output_type": "display_data"
    },
    {
     "data": {
      "text/html": [
       "Tracking run with wandb version 0.19.8"
      ],
      "text/plain": [
       "<IPython.core.display.HTML object>"
      ]
     },
     "metadata": {},
     "output_type": "display_data"
    },
    {
     "data": {
      "text/html": [
       "Run data is saved locally in <code>c:\\Users\\acer\\OneDrive\\Documents\\GitHub\\dl_assignment_ed24s401\\wandb\\run-20250317_144713-uaodd0uy</code>"
      ],
      "text/plain": [
       "<IPython.core.display.HTML object>"
      ]
     },
     "metadata": {},
     "output_type": "display_data"
    },
    {
     "data": {
      "text/html": [
       "Syncing run <strong><a href='https://wandb.ai/ed24s401-indian-institute-of-technology-madras/q4_sweep_project/runs/uaodd0uy' target=\"_blank\">whole-sweep-82</a></strong> to <a href='https://wandb.ai/ed24s401-indian-institute-of-technology-madras/q4_sweep_project' target=\"_blank\">Weights & Biases</a> (<a href='https://wandb.me/developer-guide' target=\"_blank\">docs</a>)<br>Sweep page: <a href='https://wandb.ai/ed24s401-indian-institute-of-technology-madras/q4_sweep_project/sweeps/hp8fw2uv' target=\"_blank\">https://wandb.ai/ed24s401-indian-institute-of-technology-madras/q4_sweep_project/sweeps/hp8fw2uv</a>"
      ],
      "text/plain": [
       "<IPython.core.display.HTML object>"
      ]
     },
     "metadata": {},
     "output_type": "display_data"
    },
    {
     "data": {
      "text/html": [
       " View project at <a href='https://wandb.ai/ed24s401-indian-institute-of-technology-madras/q4_sweep_project' target=\"_blank\">https://wandb.ai/ed24s401-indian-institute-of-technology-madras/q4_sweep_project</a>"
      ],
      "text/plain": [
       "<IPython.core.display.HTML object>"
      ]
     },
     "metadata": {},
     "output_type": "display_data"
    },
    {
     "data": {
      "text/html": [
       " View sweep at <a href='https://wandb.ai/ed24s401-indian-institute-of-technology-madras/q4_sweep_project/sweeps/hp8fw2uv' target=\"_blank\">https://wandb.ai/ed24s401-indian-institute-of-technology-madras/q4_sweep_project/sweeps/hp8fw2uv</a>"
      ],
      "text/plain": [
       "<IPython.core.display.HTML object>"
      ]
     },
     "metadata": {},
     "output_type": "display_data"
    },
    {
     "data": {
      "text/html": [
       " View run at <a href='https://wandb.ai/ed24s401-indian-institute-of-technology-madras/q4_sweep_project/runs/uaodd0uy' target=\"_blank\">https://wandb.ai/ed24s401-indian-institute-of-technology-madras/q4_sweep_project/runs/uaodd0uy</a>"
      ],
      "text/plain": [
       "<IPython.core.display.HTML object>"
      ]
     },
     "metadata": {},
     "output_type": "display_data"
    },
    {
     "name": "stdout",
     "output_type": "stream",
     "text": [
      "Epoch 1/5 - loss=0.8189, val_acc=0.8330, val_loss=0.47288786305722436\n",
      "Epoch 2/5 - loss=0.5876, val_acc=0.8490, val_loss=0.42048123166841916\n",
      "Epoch 3/5 - loss=0.5446, val_acc=0.8553, val_loss=0.40074556277352696\n",
      "Epoch 4/5 - loss=0.5177, val_acc=0.8617, val_loss=0.37286030160037376\n"
     ]
    }
   ],
   "source": [
    "import numpy as np\n",
    "import wandb\n",
    "from keras.datasets import fashion_mnist\n",
    "\n",
    "\n",
    "# Neural Network Class: feed_forward_NN_4\n",
    "\n",
    "class feed_forward_NN_4:\n",
    "    def __init__(self,\n",
    "                 layers,\n",
    "                 optimizer,\n",
    "                 learning_rate,\n",
    "                 momentum,\n",
    "                 beta1,\n",
    "                 beta2,\n",
    "                 beta_rms,\n",
    "                 epsilon,\n",
    "                 weight_decay,\n",
    "                 init_type,\n",
    "                 activation\n",
    "                 ):\n",
    "    \n",
    "        \n",
    "        self.layers = layers\n",
    "        self.layer_n = len(layers)\n",
    "        self.optimizer = optimizer.lower()\n",
    "        self.lr = learning_rate\n",
    "        self.momentum = momentum\n",
    "        self.beta1 = beta1\n",
    "        self.beta2 = beta2\n",
    "        self.beta_rms = beta_rms\n",
    "        self.epsilon = epsilon\n",
    "        self.weight_decay = weight_decay\n",
    "        self.init_type = init_type.lower()\n",
    "        self.activation = activation.lower()\n",
    "        \n",
    "\n",
    "        # Initialize Weights & BiaseS\n",
    "        self.weights = []\n",
    "        self.biases = []\n",
    "        for i in range(self.layer_n - 1):\n",
    "            if self.init_type == \"xavier\":\n",
    "                # \"Xavier\" initialization\n",
    "                w = np.random.randn(layers[i], layers[i+1]) * np.sqrt(1.0 / layers[i])\n",
    "            else:\n",
    "                # \"random\" initialization\n",
    "                w = np.random.randn(layers[i], layers[i+1]) * np.sqrt(2.0 / layers[i])\n",
    "            b = np.zeros((1, layers[i+1]))\n",
    "            self.weights.append(w)\n",
    "            self.biases.append(b)\n",
    "\n",
    "        # initialize extra Params \n",
    "        if self.optimizer in [\"momentum\", \"nesterov\", \"rmsprop\", \"adam\", \"nadam\"]:\n",
    "            self.v_w = [np.zeros_like(w) for w in self.weights]\n",
    "            self.v_b = [np.zeros_like(b) for b in self.biases]\n",
    "        if self.optimizer in [\"adam\", \"nadam\"]:\n",
    "            self.m_w = [np.zeros_like(w) for w in self.weights]\n",
    "            self.m_b = [np.zeros_like(b) for b in self.biases]\n",
    "            self.t = 0\n",
    "\n",
    "    # activations \n",
    "    def sigmoid(self, x):\n",
    "        return 1 / (1 + np.exp(-np.clip(x, -500, 500)))\n",
    "    \n",
    "    def tanh(self, x):\n",
    "        return np.tanh(x)\n",
    "    \n",
    "    def relu(self, x):\n",
    "        return np.maximum(0, x)\n",
    "\n",
    "    def activate(self, x):\n",
    "        if self.activation == \"sigmoid\":\n",
    "            return self.sigmoid(x)\n",
    "        elif self.activation == \"tanh\":\n",
    "            return self.tanh(x)\n",
    "        elif self.activation == \"relu\":\n",
    "            return self.relu(x)\n",
    "        else:\n",
    "            return self.sigmoid(x) \n",
    "        \n",
    "    # derivatives\n",
    "    def derivative(self, a):\n",
    "\n",
    "        if self.activation == \"sigmoid\":\n",
    "            return a * (1 - a)\n",
    "        elif self.activation == \"tanh\":\n",
    "            return 1 - a**2\n",
    "        elif self.activation == \"relu\":\n",
    "            return (a > 0).astype(float)\n",
    "        else:\n",
    "            return a * (1 - a) \n",
    "\n",
    "    def softmax(self, x):\n",
    "        exp_x = np.exp(x - np.max(x, axis=1, keepdims=True))\n",
    "        return exp_x / np.sum(exp_x, axis=1, keepdims=True)\n",
    "\n",
    "    # Forward Pass\n",
    "    def forward_pass(self, x):\n",
    "        self.h = [x]  \n",
    "        # Hidden layers\n",
    "        for i in range(self.layer_n - 2):\n",
    "            z = np.dot(self.h[i], self.weights[i]) + self.biases[i]\n",
    "            act = self.activate(z)\n",
    "            self.h.append(act)\n",
    "        # Output layer- softmax\n",
    "        z_out = np.dot(self.h[-1], self.weights[-1]) + self.biases[-1]\n",
    "        out = self.softmax(z_out)\n",
    "        self.h.append(out)\n",
    "        return self.h\n",
    "\n",
    "    # Backward Pass\n",
    "    def backward_prop(self, y_true):\n",
    "        m = y_true.shape[0]\n",
    "        dw = [None] * (self.layer_n - 1)\n",
    "        db = [None] * (self.layer_n - 1)\n",
    "\n",
    "        # Cross-entropy derivative for output layer\n",
    "        delta = self.h[-1] - y_true  # shape: (batch_size, output_dim)\n",
    "\n",
    "        # Propagation\n",
    "        for i in reversed(range(self.layer_n - 1)):\n",
    "            dw[i] = np.dot(self.h[i].T, delta) / m\n",
    "            db[i] = np.sum(delta, axis=0, keepdims=True) / m\n",
    "            if i > 0:\n",
    "                # For hidden layers, multiply by derivative of activation\n",
    "                delta = np.dot(delta, self.weights[i].T) * self.derivative(self.h[i])\n",
    "        return dw, db\n",
    "\n",
    "    # Param Updates for \"Non-Nesterov\" \n",
    "    def _update_params(self, dw, db):\n",
    "        # Add weight decay to each gradient\n",
    "        for i in range(self.layer_n - 1):\n",
    "            dw[i] += self.weight_decay * self.weights[i]\n",
    "\n",
    "        if self.optimizer == \"sgd\":\n",
    "            for i in range(self.layer_n - 1):\n",
    "                self.weights[i] -= self.lr * dw[i]\n",
    "                self.biases[i] -= self.lr * db[i]\n",
    "\n",
    "        elif self.optimizer == \"momentum\":\n",
    "            for i in range(self.layer_n - 1):\n",
    "                self.v_w[i] = self.momentum * self.v_w[i] + dw[i]\n",
    "                self.v_b[i] = self.momentum * self.v_b[i] + db[i]\n",
    "                self.weights[i] -= self.lr * self.v_w[i]\n",
    "                self.biases[i] -= self.lr * self.v_b[i]\n",
    "\n",
    "        elif self.optimizer == \"rmsprop\":\n",
    "            for i in range(self.layer_n - 1):\n",
    "                self.v_w[i] = self.beta_rms * self.v_w[i] + (1 - self.beta_rms) * (dw[i] ** 2)\n",
    "                self.v_b[i] = self.beta_rms * self.v_b[i] + (1 - self.beta_rms) * (db[i] ** 2)\n",
    "                self.weights[i] -= self.lr * dw[i] / (np.sqrt(self.v_w[i]) + self.epsilon)\n",
    "                self.biases[i]  -= self.lr * db[i] / (np.sqrt(self.v_b[i]) + self.epsilon)\n",
    "\n",
    "        elif self.optimizer == \"adam\":\n",
    "            self.t += 1\n",
    "            for i in range(self.layer_n - 1):\n",
    "                self.m_w[i] = self.beta1 * self.m_w[i] + (1 - self.beta1) * dw[i]\n",
    "                self.m_b[i] = self.beta1 * self.m_b[i] + (1 - self.beta1) * db[i]\n",
    "                self.v_w[i] = self.beta2 * self.v_w[i] + (1 - self.beta2) * (dw[i] ** 2)\n",
    "                self.v_b[i] = self.beta2 * self.v_b[i] + (1 - self.beta2) * (db[i] ** 2)\n",
    "\n",
    "                # bias correction\n",
    "                m_w_hat = self.m_w[i] / (1 - self.beta1 ** self.t)\n",
    "                m_b_hat = self.m_b[i] / (1 - self.beta1 ** self.t)\n",
    "                v_w_hat = self.v_w[i] / (1 - self.beta2 ** self.t)\n",
    "                v_b_hat = self.v_b[i] / (1 - self.beta2 ** self.t)\n",
    "\n",
    "                self.weights[i] -= self.lr * m_w_hat / (np.sqrt(v_w_hat) + self.epsilon)\n",
    "                self.biases[i]  -= self.lr * m_b_hat / (np.sqrt(v_b_hat) + self.epsilon)\n",
    "\n",
    "        elif self.optimizer == \"nadam\":\n",
    "            self.t += 1\n",
    "            for i in range(self.layer_n - 1):\n",
    "                self.m_w[i] = self.beta1 * self.m_w[i] + (1 - self.beta1) * dw[i]\n",
    "                self.m_b[i] = self.beta1 * self.m_b[i] + (1 - self.beta1) * db[i]\n",
    "                self.v_w[i] = self.beta2 * self.v_w[i] + (1 - self.beta2) * (dw[i] ** 2)\n",
    "                self.v_b[i] = self.beta2 * self.v_b[i] + (1 - self.beta2) * (db[i] ** 2)\n",
    "\n",
    "                # bias correction\n",
    "                m_w_hat = self.m_w[i] / (1 - self.beta1 ** (self.t + 1))\n",
    "                m_b_hat = self.m_b[i] / (1 - self.beta1 ** (self.t + 1))\n",
    "                v_w_hat = self.v_w[i] / (1 - self.beta2 ** (self.t + 1))\n",
    "                v_b_hat = self.v_b[i] / (1 - self.beta2 ** (self.t + 1))\n",
    "\n",
    "                grad_term_w = self.beta1 * m_w_hat + (1 - self.beta1) * dw[i] / (1 - self.beta1 ** (self.t + 1))\n",
    "                grad_term_b = self.beta1 * m_b_hat + (1 - self.beta1) * db[i] / (1 - self.beta1 ** (self.t + 1))\n",
    "\n",
    "                self.weights[i] -= self.lr * grad_term_w / (np.sqrt(v_w_hat) + self.epsilon)\n",
    "                self.biases[i]  -= self.lr * grad_term_b / (np.sqrt(v_b_hat) + self.epsilon)\n",
    "\n",
    "    # Training Step  with \"Nesterov\"\n",
    "    def _train_step(self, x_batch, y_batch):\n",
    "        if self.optimizer == \"nesterov\":\n",
    "            # to look-ahead: w_look = w - momentum * v\n",
    "            for i in range(self.layer_n - 1):\n",
    "                self.weights[i] -= self.lr*self.momentum * self.v_w[i]\n",
    "                self.biases[i]  -= self.lr*self.momentum * self.v_b[i]\n",
    "\n",
    "            # Forward at the look-ahead position\n",
    "            self.forward_pass(x_batch)\n",
    "            out = self.h[-1]\n",
    "            l2_norm_weights = 0\n",
    "            for i in range(len(self.weights)):\n",
    "                l2_norm_weights += np.sum(self.weights[i] ** 2)\n",
    "            # for i in range(len(self.biases)):\n",
    "            #     l2_norm_bias += np.sum(self.biases[i] ** 2)\n",
    "                    \n",
    "            l2_norm_params = l2_norm_weights #+ l2_norm_bias\n",
    "            \n",
    "            loss = -np.mean(np.sum(y_batch * np.log(out + 1e-10), axis = 1)) +  (self.weight_decay/2) * l2_norm_params # (1e-10) to prevent underflow\n",
    "            #loss = -np.mean(np.sum(y_batch * np.log(out + 1e-10), axis=1))\n",
    "            dW, dB = self.backward_prop(y_batch)\n",
    "\n",
    "            # add weight decay here\n",
    "            for i in range(self.layer_n - 1):\n",
    "                dW[i] += self.weight_decay * self.weights[i]\n",
    "\n",
    "            # backward at the look-ahead position (go back to w_t)\n",
    "            for i in range(self.layer_n - 1):\n",
    "                self.weights[i] += self.lr*self.momentum * self.v_w[i]\n",
    "                self.biases[i]  += self.lr*self.momentum * self.v_b[i]\n",
    "\n",
    "            # update velocity: u_t = momentum*u_{t-1} + dW\n",
    "            for i in range(self.layer_n - 1):\n",
    "                self.v_w[i] = self.momentum * self.v_w[i] + dW[i]\n",
    "                self.v_b[i] = self.momentum * self.v_b[i] + dB[i]\n",
    "\n",
    "            # final param update: w = w - lr*u_t\n",
    "            for i in range(self.layer_n - 1):\n",
    "                self.weights[i] -= self.lr * self.v_w[i]\n",
    "                self.biases[i]  -= self.lr * self.v_b[i]\n",
    "\n",
    "            return loss\n",
    "        else:\n",
    "            # Normal forward/back\n",
    "            self.forward_pass(x_batch)\n",
    "            out = self.h[-1]\n",
    "\n",
    "            l2_norm_weights=0\n",
    "            l2_norm_bias= 0\n",
    "            for i in range(len(self.weights)):\n",
    "                l2_norm_weights += np.sum(self.weights[i] ** 2)\n",
    "            # for i in range(len(self.biases)):\n",
    "            #     l2_norm_bias += np.sum(self.biases[i] ** 2)\n",
    "                    \n",
    "            l2_norm_params = l2_norm_weights #+ l2_norm_bias\n",
    "            \n",
    "            loss = -np.mean(np.sum(y_batch * np.log(out + 1e-10), axis = 1)) +  (self.weight_decay/2) * l2_norm_params \n",
    "\n",
    "            #loss = -np.mean(np.sum(y_batch * np.log(out + 1e-10), axis=1))\n",
    "            dW, dB = self.backward_prop(y_batch)\n",
    "            self._update_params(dW, dB)\n",
    "            return loss\n",
    "\n",
    "    # Outer Training Loop \n",
    "    def training(self, x_train, y_train, x_val, y_val, epochs, batch_size):\n",
    "       \n",
    "        for ep in range(epochs):\n",
    "            idx = np.random.permutation(x_train.shape[0])\n",
    "            x_train_shuff = x_train[idx]\n",
    "            y_train_shuff = y_train[idx]\n",
    "            n_batches = len(x_train) // batch_size\n",
    "            epoch_loss = 0.0\n",
    "            for b in range(n_batches):\n",
    "                start = b * batch_size\n",
    "                end = start + batch_size\n",
    "                x_batch = x_train_shuff[start:end]\n",
    "                y_batch = y_train_shuff[start:end]\n",
    "                loss = self._train_step(x_batch, y_batch)\n",
    "                epoch_loss += loss\n",
    "            avg_loss = epoch_loss / n_batches\n",
    "\n",
    "            # Validation\n",
    "\n",
    "            preds = self.predict(x_val)\n",
    "            val_labels = np.argmax(y_val, axis=1)\n",
    "            val_acc = np.mean(preds == val_labels)\n",
    "\n",
    "            val_outputs = self.forward_pass(x_val)[-1]\n",
    "        \n",
    "            # Cross-entropy loss for validation\n",
    "            val_loss = -np.mean(np.sum(y_val * np.log(val_outputs + 1e-10), axis=1))\n",
    "\n",
    "            # Log metrics to wandb\n",
    "            wandb.log({\"epoch\": ep+1, \"training_loss\": avg_loss, \"validation_accuracy\": val_acc, \"validation loss\": val_loss})\n",
    "            print(f\"Epoch {ep+1}/{epochs} - loss={avg_loss:.4f}, val_acc={val_acc:.4f}, val_loss={val_loss}\" )\n",
    "\n",
    "    #Prediction \n",
    "    def predict(self, X):\n",
    "        self.forward_pass(X)\n",
    "        return np.argmax(self.h[-1], axis=1)\n",
    "\n",
    "\n",
    "\n",
    "\n",
    "# (x_train_full, y_train_full), (x_test, y_test) = fashion_mnist.load_data()\n",
    "# x_train_full = x_train_full.reshape(x_train_full.shape[0], -1) / 255.0\n",
    "# x_test = x_test.reshape(x_test.shape[0], -1) / 255.0\n",
    "\n",
    "# np.random.seed(42)\n",
    "# idx = np.arange(x_train_full.shape[0])\n",
    "# np.random.shuffle(idx)\n",
    "# x_train_full = x_train_full[idx]\n",
    "# y_train_full = y_train_full[idx]\n",
    "\n",
    "# # 90% training, 10% validation \n",
    "# train_size=int(.9*len(x_train_full))\n",
    "\n",
    "# x_train, y_train=x_train_full[:train_size],y_train_full[:train_size]\n",
    "# x_val, y_val=x_train_full[train_size:], y_train_full[train_size:]\n",
    "\n",
    "# num_classes = 10\n",
    "# y_train_1h = np.eye(num_classes)[y_train]\n",
    "# y_val_1h = np.eye(num_classes)[y_val]\n",
    "# y_test_1h = np.eye(num_classes)[y_test]\n",
    "\n",
    "# # model\n",
    "# model = feed_forward_NN_4(\n",
    "#     layers=[784] + [32] *3 + [10],\n",
    "# optimizer=\"nesterov\",\n",
    "# learning_rate=0.01,\n",
    "# momentum=0.9,\n",
    "# beta1=0.9,\n",
    "# beta2=0.999,\n",
    "# beta_rms=0.9,\n",
    "# epsilon=1e-4,\n",
    "# weight_decay=0.0005,\n",
    "# init_type=\"xavier\",\n",
    "# activation=\"relu\")\n",
    "\n",
    "#     # Train the model\n",
    "# model.training(\n",
    "#         x_train=x_train,\n",
    "#         y_train=y_train_1h,\n",
    "#         x_val=x_val,\n",
    "#         y_val=y_val_1h,\n",
    "#         epochs=10,\n",
    "#         batch_size=32\n",
    "#     )\n",
    "\n",
    "#     #Evaluation on test set\n",
    "# test_preds = model.predict(x_test)\n",
    "# test_labels = np.argmax(y_test_1h, axis=1)\n",
    "# test_acc = np.mean(test_preds == test_labels)\n",
    "# print(\"test accuracy \",test_acc)\n",
    "# #wandb.log({\"test_accuracy\": test_acc})\n",
    "\n",
    "\n",
    "\n",
    "\n",
    "# train_sweep() function\n",
    "\n",
    "def train_sweep():\n",
    "    # Initialize wandb\n",
    "    wandb.init()\n",
    "    config = wandb.config\n",
    "\n",
    "    #custom run name from hyperparameters\n",
    "    run_name = f\"hl_{config.num_hidden_layers}_hs_{config.hidden_size}_bs_{config.batch_size}_ac_{config.activation}_opt_{config.optimizer}\"\n",
    "    wandb.run.name = run_name\n",
    "\n",
    "    # Load Fashion-MNIST\n",
    "    (x_train_full, y_train_full), (x_test, y_test) = fashion_mnist.load_data()\n",
    "    x_train_full = x_train_full.reshape(x_train_full.shape[0], -1) / 255.0\n",
    "    x_test = x_test.reshape(x_test.shape[0], -1) / 255.0\n",
    "\n",
    "    np.random.seed(42)\n",
    "    idx = np.arange(x_train_full.shape[0])\n",
    "    np.random.shuffle(idx)\n",
    "    x_train_full = x_train_full[idx]\n",
    "    y_train_full = y_train_full[idx]\n",
    "\n",
    "    # 90% training, 10% validation \n",
    "    train_size=int(.9*len(x_train_full))\n",
    "\n",
    "    x_train, y_train=x_train_full[:train_size],y_train_full[:train_size]\n",
    "    x_val, y_val=x_train_full[train_size:], y_train_full[train_size:]\n",
    "\n",
    "    num_classes = 10\n",
    "    y_train_1h = np.eye(num_classes)[y_train]\n",
    "    y_val_1h = np.eye(num_classes)[y_val]\n",
    "    y_test_1h = np.eye(num_classes)[y_test]\n",
    "\n",
    "    # model\n",
    "    model = feed_forward_NN_4(\n",
    "        layers=[784] + [config.hidden_size] * config.num_hidden_layers + [10],\n",
    "        optimizer=config.optimizer,\n",
    "        learning_rate=config.learning_rate,\n",
    "        momentum=config.momentum,\n",
    "        beta1=config.beta1,\n",
    "        beta2=config.beta2,\n",
    "        beta_rms=config.beta_rms,\n",
    "        epsilon=config.epsilon,\n",
    "        weight_decay=config.weight_decay,\n",
    "        init_type=config.init_type,\n",
    "        activation=config.activation\n",
    "    )\n",
    "\n",
    "    # Train the model\n",
    "    model.training(\n",
    "        x_train=x_train,\n",
    "        y_train=y_train_1h,\n",
    "        x_val=x_val,\n",
    "        y_val=y_val_1h,\n",
    "        epochs=config.epochs,\n",
    "        batch_size=config.batch_size\n",
    "    )\n",
    "\n",
    "    #Evaluation on test set\n",
    "    test_preds = model.predict(x_test)\n",
    "    test_labels = np.argmax(y_test_1h, axis=1)\n",
    "    test_acc = np.mean(test_preds == test_labels)\n",
    "    \n",
    "    wandb.log({\"test_accuracy\": test_acc})\n",
    "    print(\"test accuracy \",test_acc)\n",
    "\n",
    "\n",
    "# sweep configuration\n",
    "sweep_config = {\n",
    "    \"method\": \"random\", \n",
    "    \"metric\": {\n",
    "        \"name\": \"validation_accuracy\",\n",
    "        \"goal\": \"maximize\"\n",
    "    },\n",
    "    \"parameters\": {\n",
    "        \"epochs\": {\"values\": [5,10]},\n",
    "        \"num_hidden_layers\": {\"values\": [3, 4, 5]},\n",
    "        \"hidden_size\": {\"values\": [32,64,128]},\n",
    "        \"weight_decay\": {\"values\": [0.0, 5e-4, 0.5]},\n",
    "        \"learning_rate\": {\"values\": [1e-3, 1e-4]},\n",
    "        \"optimizer\": {\"values\": [\"sgd\", \"momentum\", \"nesterov\", \"rmsprop\", \"adam\", \"nadam\"]},\n",
    "        \"batch_size\": {\"values\": [16, 32, 64]},\n",
    "        \"init_type\": {\"values\": [\"random\", \"xavier\"]},\n",
    "        \"activation\": {\"values\": [\"sigmoid\", \"tanh\", \"relu\"]},\n",
    "        \"momentum\": {\"values\": [0.9]},\n",
    "        \"beta1\": {\"values\": [0.9]},\n",
    "        \"beta2\": {\"values\": [0.999,0.99]},\n",
    "        \"beta_rms\": {\"values\": [0.9]},\n",
    "        \"epsilon\": {\"values\": [1e-8]},\n",
    "        \"loss_func\":{\"values\":[\"cross_entropy\"]}\n",
    "    }\n",
    "}\n",
    "\n",
    "# Running the sweep\n",
    "\n",
    "if __name__ == \"__main__\":\n",
    "    # Creating sweep\n",
    "    sweep_id = wandb.sweep(sweep_config, project=\"q4_sweep_project\")\n",
    "    # Launching sweep agent\n",
    "    wandb.agent(sweep_id, function=train_sweep)\n"
   ]
  }
 ],
 "metadata": {
  "kernelspec": {
   "display_name": "Python 3",
   "language": "python",
   "name": "python3"
  },
  "language_info": {
   "codemirror_mode": {
    "name": "ipython",
    "version": 3
   },
   "file_extension": ".py",
   "mimetype": "text/x-python",
   "name": "python",
   "nbconvert_exporter": "python",
   "pygments_lexer": "ipython3",
   "version": "3.11.6"
  }
 },
 "nbformat": 4,
 "nbformat_minor": 2
}
