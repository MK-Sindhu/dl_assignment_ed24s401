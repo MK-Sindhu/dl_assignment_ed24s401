{
 "cells": [
  {
   "cell_type": "code",
   "execution_count": null,
   "metadata": {},
   "outputs": [
    {
     "name": "stderr",
     "output_type": "stream",
     "text": [
      "\u001b[34m\u001b[1mwandb\u001b[0m: Using wandb-core as the SDK backend.  Please refer to https://wandb.me/wandb-core for more information.\n"
     ]
    },
    {
     "name": "stdout",
     "output_type": "stream",
     "text": [
      "Create sweep with ID: p60nv46x\n",
      "Sweep URL: https://wandb.ai/ed24s401-indian-institute-of-technology-madras/q4_sweep_project/sweeps/p60nv46x\n"
     ]
    },
    {
     "name": "stderr",
     "output_type": "stream",
     "text": [
      "\u001b[34m\u001b[1mwandb\u001b[0m: Agent Starting Run: 983zh0zp with config:\n",
      "\u001b[34m\u001b[1mwandb\u001b[0m: \tactivation: relu\n",
      "\u001b[34m\u001b[1mwandb\u001b[0m: \tbatch_size: 32\n",
      "\u001b[34m\u001b[1mwandb\u001b[0m: \tbeta1: 0.9\n",
      "\u001b[34m\u001b[1mwandb\u001b[0m: \tbeta2: 0.999\n",
      "\u001b[34m\u001b[1mwandb\u001b[0m: \tbeta_rms: 0.9\n",
      "\u001b[34m\u001b[1mwandb\u001b[0m: \tepochs: 10\n",
      "\u001b[34m\u001b[1mwandb\u001b[0m: \tepsilon: 1e-08\n",
      "\u001b[34m\u001b[1mwandb\u001b[0m: \thidden_size: 64\n",
      "\u001b[34m\u001b[1mwandb\u001b[0m: \tinit_type: random\n",
      "\u001b[34m\u001b[1mwandb\u001b[0m: \tlearning_rate: 0.001\n",
      "\u001b[34m\u001b[1mwandb\u001b[0m: \tmomentum: 0.9\n",
      "\u001b[34m\u001b[1mwandb\u001b[0m: \tnum_hidden_layers: 5\n",
      "\u001b[34m\u001b[1mwandb\u001b[0m: \toptimizer: rmsprop\n",
      "\u001b[34m\u001b[1mwandb\u001b[0m: \tweight_decay: 0\n",
      "\u001b[34m\u001b[1mwandb\u001b[0m: Currently logged in as: \u001b[33med24s401\u001b[0m (\u001b[33med24s401-indian-institute-of-technology-madras\u001b[0m) to \u001b[32mhttps://api.wandb.ai\u001b[0m. Use \u001b[1m`wandb login --relogin`\u001b[0m to force relogin\n"
     ]
    },
    {
     "data": {
      "text/html": [
       "Waiting for wandb.init()..."
      ],
      "text/plain": [
       "<IPython.core.display.HTML object>"
      ]
     },
     "metadata": {},
     "output_type": "display_data"
    },
    {
     "data": {
      "text/html": [
       "Tracking run with wandb version 0.19.8"
      ],
      "text/plain": [
       "<IPython.core.display.HTML object>"
      ]
     },
     "metadata": {},
     "output_type": "display_data"
    },
    {
     "data": {
      "text/html": [
       "Run data is saved locally in <code>c:\\Users\\acer\\OneDrive\\Documents\\GitHub\\dl_assignment_ed24s401\\wandb\\run-20250316_194620-983zh0zp</code>"
      ],
      "text/plain": [
       "<IPython.core.display.HTML object>"
      ]
     },
     "metadata": {},
     "output_type": "display_data"
    },
    {
     "data": {
      "text/html": [
       "Syncing run <strong><a href='https://wandb.ai/ed24s401-indian-institute-of-technology-madras/q4_sweep_project/runs/983zh0zp' target=\"_blank\">wild-sweep-1</a></strong> to <a href='https://wandb.ai/ed24s401-indian-institute-of-technology-madras/q4_sweep_project' target=\"_blank\">Weights & Biases</a> (<a href='https://wandb.me/developer-guide' target=\"_blank\">docs</a>)<br>Sweep page: <a href='https://wandb.ai/ed24s401-indian-institute-of-technology-madras/q4_sweep_project/sweeps/p60nv46x' target=\"_blank\">https://wandb.ai/ed24s401-indian-institute-of-technology-madras/q4_sweep_project/sweeps/p60nv46x</a>"
      ],
      "text/plain": [
       "<IPython.core.display.HTML object>"
      ]
     },
     "metadata": {},
     "output_type": "display_data"
    },
    {
     "data": {
      "text/html": [
       " View project at <a href='https://wandb.ai/ed24s401-indian-institute-of-technology-madras/q4_sweep_project' target=\"_blank\">https://wandb.ai/ed24s401-indian-institute-of-technology-madras/q4_sweep_project</a>"
      ],
      "text/plain": [
       "<IPython.core.display.HTML object>"
      ]
     },
     "metadata": {},
     "output_type": "display_data"
    },
    {
     "data": {
      "text/html": [
       " View sweep at <a href='https://wandb.ai/ed24s401-indian-institute-of-technology-madras/q4_sweep_project/sweeps/p60nv46x' target=\"_blank\">https://wandb.ai/ed24s401-indian-institute-of-technology-madras/q4_sweep_project/sweeps/p60nv46x</a>"
      ],
      "text/plain": [
       "<IPython.core.display.HTML object>"
      ]
     },
     "metadata": {},
     "output_type": "display_data"
    },
    {
     "data": {
      "text/html": [
       " View run at <a href='https://wandb.ai/ed24s401-indian-institute-of-technology-madras/q4_sweep_project/runs/983zh0zp' target=\"_blank\">https://wandb.ai/ed24s401-indian-institute-of-technology-madras/q4_sweep_project/runs/983zh0zp</a>"
      ],
      "text/plain": [
       "<IPython.core.display.HTML object>"
      ]
     },
     "metadata": {},
     "output_type": "display_data"
    },
    {
     "name": "stdout",
     "output_type": "stream",
     "text": [
      "Epoch 1/10 - loss=0.5553, val_acc=0.8282, val_loss=0.4502716316380152\n",
      "Epoch 2/10 - loss=0.4163, val_acc=0.8480, val_loss=0.42432164110251913\n",
      "Epoch 3/10 - loss=0.3919, val_acc=0.8623, val_loss=0.3812924125999896\n",
      "Epoch 4/10 - loss=0.3840, val_acc=0.8690, val_loss=0.4012169075061982\n",
      "Epoch 5/10 - loss=0.3837, val_acc=0.8687, val_loss=0.39931507821164314\n",
      "Epoch 6/10 - loss=0.3857, val_acc=0.8615, val_loss=0.40627183501358344\n",
      "Epoch 7/10 - loss=0.3884, val_acc=0.8632, val_loss=0.4016074682796713\n",
      "Epoch 8/10 - loss=0.3928, val_acc=0.8398, val_loss=0.5069759598151149\n",
      "Epoch 9/10 - loss=0.3916, val_acc=0.8578, val_loss=0.4444773724894061\n",
      "Epoch 10/10 - loss=0.3890, val_acc=0.8718, val_loss=0.42694463804726085\n",
      "test accuracy  0.8656\n"
     ]
    },
    {
     "data": {
      "text/html": [],
      "text/plain": [
       "<IPython.core.display.HTML object>"
      ]
     },
     "metadata": {},
     "output_type": "display_data"
    },
    {
     "data": {
      "text/html": [
       "<br>    <style><br>        .wandb-row {<br>            display: flex;<br>            flex-direction: row;<br>            flex-wrap: wrap;<br>            justify-content: flex-start;<br>            width: 100%;<br>        }<br>        .wandb-col {<br>            display: flex;<br>            flex-direction: column;<br>            flex-basis: 100%;<br>            flex: 1;<br>            padding: 10px;<br>        }<br>    </style><br><div class=\"wandb-row\"><div class=\"wandb-col\"><h3>Run history:</h3><br/><table class=\"wandb\"><tr><td>epoch</td><td>▁▂▃▃▄▅▆▆▇█</td></tr><tr><td>test_accuracy</td><td>▁</td></tr><tr><td>training_loss</td><td>█▂▁▁▁▁▁▁▁▁</td></tr><tr><td>validation loss</td><td>▅▃▁▂▂▂▂█▅▄</td></tr><tr><td>validation_accuracy</td><td>▁▄▆█▇▆▇▃▆█</td></tr></table><br/></div><div class=\"wandb-col\"><h3>Run summary:</h3><br/><table class=\"wandb\"><tr><td>epoch</td><td>10</td></tr><tr><td>test_accuracy</td><td>0.8656</td></tr><tr><td>training_loss</td><td>0.38904</td></tr><tr><td>validation loss</td><td>0.42694</td></tr><tr><td>validation_accuracy</td><td>0.87183</td></tr></table><br/></div></div>"
      ],
      "text/plain": [
       "<IPython.core.display.HTML object>"
      ]
     },
     "metadata": {},
     "output_type": "display_data"
    },
    {
     "data": {
      "text/html": [
       " View run <strong style=\"color:#cdcd00\">hl_5_bs_32_ac_relu_opt_rmsprop</strong> at: <a href='https://wandb.ai/ed24s401-indian-institute-of-technology-madras/q4_sweep_project/runs/983zh0zp' target=\"_blank\">https://wandb.ai/ed24s401-indian-institute-of-technology-madras/q4_sweep_project/runs/983zh0zp</a><br> View project at: <a href='https://wandb.ai/ed24s401-indian-institute-of-technology-madras/q4_sweep_project' target=\"_blank\">https://wandb.ai/ed24s401-indian-institute-of-technology-madras/q4_sweep_project</a><br>Synced 5 W&B file(s), 0 media file(s), 0 artifact file(s) and 0 other file(s)"
      ],
      "text/plain": [
       "<IPython.core.display.HTML object>"
      ]
     },
     "metadata": {},
     "output_type": "display_data"
    },
    {
     "data": {
      "text/html": [
       "Find logs at: <code>.\\wandb\\run-20250316_194620-983zh0zp\\logs</code>"
      ],
      "text/plain": [
       "<IPython.core.display.HTML object>"
      ]
     },
     "metadata": {},
     "output_type": "display_data"
    },
    {
     "name": "stderr",
     "output_type": "stream",
     "text": [
      "\u001b[34m\u001b[1mwandb\u001b[0m: Agent Starting Run: uovgr4vw with config:\n",
      "\u001b[34m\u001b[1mwandb\u001b[0m: \tactivation: relu\n",
      "\u001b[34m\u001b[1mwandb\u001b[0m: \tbatch_size: 32\n",
      "\u001b[34m\u001b[1mwandb\u001b[0m: \tbeta1: 0.9\n",
      "\u001b[34m\u001b[1mwandb\u001b[0m: \tbeta2: 0.999\n",
      "\u001b[34m\u001b[1mwandb\u001b[0m: \tbeta_rms: 0.9\n",
      "\u001b[34m\u001b[1mwandb\u001b[0m: \tepochs: 10\n",
      "\u001b[34m\u001b[1mwandb\u001b[0m: \tepsilon: 1e-08\n",
      "\u001b[34m\u001b[1mwandb\u001b[0m: \thidden_size: 128\n",
      "\u001b[34m\u001b[1mwandb\u001b[0m: \tinit_type: random\n",
      "\u001b[34m\u001b[1mwandb\u001b[0m: \tlearning_rate: 0.0001\n",
      "\u001b[34m\u001b[1mwandb\u001b[0m: \tmomentum: 0.9\n",
      "\u001b[34m\u001b[1mwandb\u001b[0m: \tnum_hidden_layers: 5\n",
      "\u001b[34m\u001b[1mwandb\u001b[0m: \toptimizer: rmsprop\n",
      "\u001b[34m\u001b[1mwandb\u001b[0m: \tweight_decay: 0.0005\n"
     ]
    },
    {
     "data": {
      "text/html": [
       "Tracking run with wandb version 0.19.8"
      ],
      "text/plain": [
       "<IPython.core.display.HTML object>"
      ]
     },
     "metadata": {},
     "output_type": "display_data"
    },
    {
     "data": {
      "text/html": [
       "Run data is saved locally in <code>c:\\Users\\acer\\OneDrive\\Documents\\GitHub\\dl_assignment_ed24s401\\wandb\\run-20250316_194723-uovgr4vw</code>"
      ],
      "text/plain": [
       "<IPython.core.display.HTML object>"
      ]
     },
     "metadata": {},
     "output_type": "display_data"
    },
    {
     "data": {
      "text/html": [
       "Syncing run <strong><a href='https://wandb.ai/ed24s401-indian-institute-of-technology-madras/q4_sweep_project/runs/uovgr4vw' target=\"_blank\">dulcet-sweep-2</a></strong> to <a href='https://wandb.ai/ed24s401-indian-institute-of-technology-madras/q4_sweep_project' target=\"_blank\">Weights & Biases</a> (<a href='https://wandb.me/developer-guide' target=\"_blank\">docs</a>)<br>Sweep page: <a href='https://wandb.ai/ed24s401-indian-institute-of-technology-madras/q4_sweep_project/sweeps/p60nv46x' target=\"_blank\">https://wandb.ai/ed24s401-indian-institute-of-technology-madras/q4_sweep_project/sweeps/p60nv46x</a>"
      ],
      "text/plain": [
       "<IPython.core.display.HTML object>"
      ]
     },
     "metadata": {},
     "output_type": "display_data"
    },
    {
     "data": {
      "text/html": [
       " View project at <a href='https://wandb.ai/ed24s401-indian-institute-of-technology-madras/q4_sweep_project' target=\"_blank\">https://wandb.ai/ed24s401-indian-institute-of-technology-madras/q4_sweep_project</a>"
      ],
      "text/plain": [
       "<IPython.core.display.HTML object>"
      ]
     },
     "metadata": {},
     "output_type": "display_data"
    },
    {
     "data": {
      "text/html": [
       " View sweep at <a href='https://wandb.ai/ed24s401-indian-institute-of-technology-madras/q4_sweep_project/sweeps/p60nv46x' target=\"_blank\">https://wandb.ai/ed24s401-indian-institute-of-technology-madras/q4_sweep_project/sweeps/p60nv46x</a>"
      ],
      "text/plain": [
       "<IPython.core.display.HTML object>"
      ]
     },
     "metadata": {},
     "output_type": "display_data"
    },
    {
     "data": {
      "text/html": [
       " View run at <a href='https://wandb.ai/ed24s401-indian-institute-of-technology-madras/q4_sweep_project/runs/uovgr4vw' target=\"_blank\">https://wandb.ai/ed24s401-indian-institute-of-technology-madras/q4_sweep_project/runs/uovgr4vw</a>"
      ],
      "text/plain": [
       "<IPython.core.display.HTML object>"
      ]
     },
     "metadata": {},
     "output_type": "display_data"
    },
    {
     "name": "stdout",
     "output_type": "stream",
     "text": [
      "Epoch 1/10 - loss=0.8834, val_acc=0.8267, val_loss=0.47538230296875705\n",
      "Epoch 2/10 - loss=0.6570, val_acc=0.8558, val_loss=0.39825404014473625\n",
      "Epoch 3/10 - loss=0.6084, val_acc=0.8575, val_loss=0.39168677438194544\n",
      "Epoch 4/10 - loss=0.5783, val_acc=0.8637, val_loss=0.36085865300128966\n",
      "Epoch 5/10 - loss=0.5563, val_acc=0.8707, val_loss=0.3545870458846383\n",
      "Epoch 6/10 - loss=0.5377, val_acc=0.8703, val_loss=0.34473827226874093\n",
      "Epoch 7/10 - loss=0.5217, val_acc=0.8723, val_loss=0.3401226195617471\n",
      "Epoch 8/10 - loss=0.5085, val_acc=0.8760, val_loss=0.33950222180277234\n",
      "Epoch 9/10 - loss=0.4963, val_acc=0.8757, val_loss=0.3220967424473837\n",
      "Epoch 10/10 - loss=0.4843, val_acc=0.8688, val_loss=0.343127294585632\n",
      "test accuracy  0.8675\n"
     ]
    },
    {
     "data": {
      "text/html": [],
      "text/plain": [
       "<IPython.core.display.HTML object>"
      ]
     },
     "metadata": {},
     "output_type": "display_data"
    },
    {
     "data": {
      "text/html": [
       "<br>    <style><br>        .wandb-row {<br>            display: flex;<br>            flex-direction: row;<br>            flex-wrap: wrap;<br>            justify-content: flex-start;<br>            width: 100%;<br>        }<br>        .wandb-col {<br>            display: flex;<br>            flex-direction: column;<br>            flex-basis: 100%;<br>            flex: 1;<br>            padding: 10px;<br>        }<br>    </style><br><div class=\"wandb-row\"><div class=\"wandb-col\"><h3>Run history:</h3><br/><table class=\"wandb\"><tr><td>epoch</td><td>▁▂▃▃▄▅▆▆▇█</td></tr><tr><td>test_accuracy</td><td>▁</td></tr><tr><td>training_loss</td><td>█▄▃▃▂▂▂▁▁▁</td></tr><tr><td>validation loss</td><td>█▄▄▃▂▂▂▂▁▂</td></tr><tr><td>validation_accuracy</td><td>▁▅▅▆▇▇▇██▇</td></tr></table><br/></div><div class=\"wandb-col\"><h3>Run summary:</h3><br/><table class=\"wandb\"><tr><td>epoch</td><td>10</td></tr><tr><td>test_accuracy</td><td>0.8675</td></tr><tr><td>training_loss</td><td>0.48426</td></tr><tr><td>validation loss</td><td>0.34313</td></tr><tr><td>validation_accuracy</td><td>0.86883</td></tr></table><br/></div></div>"
      ],
      "text/plain": [
       "<IPython.core.display.HTML object>"
      ]
     },
     "metadata": {},
     "output_type": "display_data"
    },
    {
     "data": {
      "text/html": [
       " View run <strong style=\"color:#cdcd00\">hl_5_bs_32_ac_relu_opt_rmsprop</strong> at: <a href='https://wandb.ai/ed24s401-indian-institute-of-technology-madras/q4_sweep_project/runs/uovgr4vw' target=\"_blank\">https://wandb.ai/ed24s401-indian-institute-of-technology-madras/q4_sweep_project/runs/uovgr4vw</a><br> View project at: <a href='https://wandb.ai/ed24s401-indian-institute-of-technology-madras/q4_sweep_project' target=\"_blank\">https://wandb.ai/ed24s401-indian-institute-of-technology-madras/q4_sweep_project</a><br>Synced 5 W&B file(s), 0 media file(s), 0 artifact file(s) and 0 other file(s)"
      ],
      "text/plain": [
       "<IPython.core.display.HTML object>"
      ]
     },
     "metadata": {},
     "output_type": "display_data"
    },
    {
     "data": {
      "text/html": [
       "Find logs at: <code>.\\wandb\\run-20250316_194723-uovgr4vw\\logs</code>"
      ],
      "text/plain": [
       "<IPython.core.display.HTML object>"
      ]
     },
     "metadata": {},
     "output_type": "display_data"
    },
    {
     "name": "stderr",
     "output_type": "stream",
     "text": [
      "\u001b[34m\u001b[1mwandb\u001b[0m: Agent Starting Run: q3c3z15h with config:\n",
      "\u001b[34m\u001b[1mwandb\u001b[0m: \tactivation: relu\n",
      "\u001b[34m\u001b[1mwandb\u001b[0m: \tbatch_size: 32\n",
      "\u001b[34m\u001b[1mwandb\u001b[0m: \tbeta1: 0.9\n",
      "\u001b[34m\u001b[1mwandb\u001b[0m: \tbeta2: 0.999\n",
      "\u001b[34m\u001b[1mwandb\u001b[0m: \tbeta_rms: 0.9\n",
      "\u001b[34m\u001b[1mwandb\u001b[0m: \tepochs: 10\n",
      "\u001b[34m\u001b[1mwandb\u001b[0m: \tepsilon: 1e-08\n",
      "\u001b[34m\u001b[1mwandb\u001b[0m: \thidden_size: 128\n",
      "\u001b[34m\u001b[1mwandb\u001b[0m: \tinit_type: random\n",
      "\u001b[34m\u001b[1mwandb\u001b[0m: \tlearning_rate: 0.0001\n",
      "\u001b[34m\u001b[1mwandb\u001b[0m: \tmomentum: 0.9\n",
      "\u001b[34m\u001b[1mwandb\u001b[0m: \tnum_hidden_layers: 3\n",
      "\u001b[34m\u001b[1mwandb\u001b[0m: \toptimizer: nesterov\n",
      "\u001b[34m\u001b[1mwandb\u001b[0m: \tweight_decay: 0\n"
     ]
    },
    {
     "data": {
      "text/html": [
       "Tracking run with wandb version 0.19.8"
      ],
      "text/plain": [
       "<IPython.core.display.HTML object>"
      ]
     },
     "metadata": {},
     "output_type": "display_data"
    },
    {
     "data": {
      "text/html": [
       "Run data is saved locally in <code>c:\\Users\\acer\\OneDrive\\Documents\\GitHub\\dl_assignment_ed24s401\\wandb\\run-20250316_194941-q3c3z15h</code>"
      ],
      "text/plain": [
       "<IPython.core.display.HTML object>"
      ]
     },
     "metadata": {},
     "output_type": "display_data"
    },
    {
     "data": {
      "text/html": [
       "Syncing run <strong><a href='https://wandb.ai/ed24s401-indian-institute-of-technology-madras/q4_sweep_project/runs/q3c3z15h' target=\"_blank\">crimson-sweep-3</a></strong> to <a href='https://wandb.ai/ed24s401-indian-institute-of-technology-madras/q4_sweep_project' target=\"_blank\">Weights & Biases</a> (<a href='https://wandb.me/developer-guide' target=\"_blank\">docs</a>)<br>Sweep page: <a href='https://wandb.ai/ed24s401-indian-institute-of-technology-madras/q4_sweep_project/sweeps/p60nv46x' target=\"_blank\">https://wandb.ai/ed24s401-indian-institute-of-technology-madras/q4_sweep_project/sweeps/p60nv46x</a>"
      ],
      "text/plain": [
       "<IPython.core.display.HTML object>"
      ]
     },
     "metadata": {},
     "output_type": "display_data"
    },
    {
     "data": {
      "text/html": [
       " View project at <a href='https://wandb.ai/ed24s401-indian-institute-of-technology-madras/q4_sweep_project' target=\"_blank\">https://wandb.ai/ed24s401-indian-institute-of-technology-madras/q4_sweep_project</a>"
      ],
      "text/plain": [
       "<IPython.core.display.HTML object>"
      ]
     },
     "metadata": {},
     "output_type": "display_data"
    },
    {
     "data": {
      "text/html": [
       " View sweep at <a href='https://wandb.ai/ed24s401-indian-institute-of-technology-madras/q4_sweep_project/sweeps/p60nv46x' target=\"_blank\">https://wandb.ai/ed24s401-indian-institute-of-technology-madras/q4_sweep_project/sweeps/p60nv46x</a>"
      ],
      "text/plain": [
       "<IPython.core.display.HTML object>"
      ]
     },
     "metadata": {},
     "output_type": "display_data"
    },
    {
     "data": {
      "text/html": [
       " View run at <a href='https://wandb.ai/ed24s401-indian-institute-of-technology-madras/q4_sweep_project/runs/q3c3z15h' target=\"_blank\">https://wandb.ai/ed24s401-indian-institute-of-technology-madras/q4_sweep_project/runs/q3c3z15h</a>"
      ],
      "text/plain": [
       "<IPython.core.display.HTML object>"
      ]
     },
     "metadata": {},
     "output_type": "display_data"
    },
    {
     "name": "stdout",
     "output_type": "stream",
     "text": [
      "Epoch 1/10 - loss=1.3440, val_acc=0.7082, val_loss=0.9073662886684932\n",
      "Epoch 2/10 - loss=0.7750, val_acc=0.7633, val_loss=0.7138991853294984\n",
      "Epoch 3/10 - loss=0.6476, val_acc=0.7920, val_loss=0.6288609369578053\n",
      "Epoch 4/10 - loss=0.5838, val_acc=0.7983, val_loss=0.5806358211738426\n",
      "Epoch 5/10 - loss=0.5445, val_acc=0.8093, val_loss=0.5485756062703193\n",
      "Epoch 6/10 - loss=0.5190, val_acc=0.8168, val_loss=0.5264923467970231\n",
      "Epoch 7/10 - loss=0.4991, val_acc=0.8190, val_loss=0.5119154577780011\n",
      "Epoch 8/10 - loss=0.4842, val_acc=0.8245, val_loss=0.4939587734489917\n",
      "Epoch 9/10 - loss=0.4717, val_acc=0.8273, val_loss=0.48385537928223477\n",
      "Epoch 10/10 - loss=0.4610, val_acc=0.8283, val_loss=0.477346511452069\n",
      "test accuracy  0.8235\n"
     ]
    },
    {
     "data": {
      "text/html": [],
      "text/plain": [
       "<IPython.core.display.HTML object>"
      ]
     },
     "metadata": {},
     "output_type": "display_data"
    },
    {
     "data": {
      "text/html": [
       "<br>    <style><br>        .wandb-row {<br>            display: flex;<br>            flex-direction: row;<br>            flex-wrap: wrap;<br>            justify-content: flex-start;<br>            width: 100%;<br>        }<br>        .wandb-col {<br>            display: flex;<br>            flex-direction: column;<br>            flex-basis: 100%;<br>            flex: 1;<br>            padding: 10px;<br>        }<br>    </style><br><div class=\"wandb-row\"><div class=\"wandb-col\"><h3>Run history:</h3><br/><table class=\"wandb\"><tr><td>epoch</td><td>▁▂▃▃▄▅▆▆▇█</td></tr><tr><td>test_accuracy</td><td>▁</td></tr><tr><td>training_loss</td><td>█▃▂▂▂▁▁▁▁▁</td></tr><tr><td>validation loss</td><td>█▅▃▃▂▂▂▁▁▁</td></tr><tr><td>validation_accuracy</td><td>▁▄▆▆▇▇▇███</td></tr></table><br/></div><div class=\"wandb-col\"><h3>Run summary:</h3><br/><table class=\"wandb\"><tr><td>epoch</td><td>10</td></tr><tr><td>test_accuracy</td><td>0.8235</td></tr><tr><td>training_loss</td><td>0.46102</td></tr><tr><td>validation loss</td><td>0.47735</td></tr><tr><td>validation_accuracy</td><td>0.82833</td></tr></table><br/></div></div>"
      ],
      "text/plain": [
       "<IPython.core.display.HTML object>"
      ]
     },
     "metadata": {},
     "output_type": "display_data"
    },
    {
     "data": {
      "text/html": [
       " View run <strong style=\"color:#cdcd00\">hl_3_bs_32_ac_relu_opt_nesterov</strong> at: <a href='https://wandb.ai/ed24s401-indian-institute-of-technology-madras/q4_sweep_project/runs/q3c3z15h' target=\"_blank\">https://wandb.ai/ed24s401-indian-institute-of-technology-madras/q4_sweep_project/runs/q3c3z15h</a><br> View project at: <a href='https://wandb.ai/ed24s401-indian-institute-of-technology-madras/q4_sweep_project' target=\"_blank\">https://wandb.ai/ed24s401-indian-institute-of-technology-madras/q4_sweep_project</a><br>Synced 5 W&B file(s), 0 media file(s), 0 artifact file(s) and 0 other file(s)"
      ],
      "text/plain": [
       "<IPython.core.display.HTML object>"
      ]
     },
     "metadata": {},
     "output_type": "display_data"
    },
    {
     "data": {
      "text/html": [
       "Find logs at: <code>.\\wandb\\run-20250316_194941-q3c3z15h\\logs</code>"
      ],
      "text/plain": [
       "<IPython.core.display.HTML object>"
      ]
     },
     "metadata": {},
     "output_type": "display_data"
    },
    {
     "name": "stderr",
     "output_type": "stream",
     "text": [
      "\u001b[34m\u001b[1mwandb\u001b[0m: Agent Starting Run: 9he8lidr with config:\n",
      "\u001b[34m\u001b[1mwandb\u001b[0m: \tactivation: tanh\n",
      "\u001b[34m\u001b[1mwandb\u001b[0m: \tbatch_size: 32\n",
      "\u001b[34m\u001b[1mwandb\u001b[0m: \tbeta1: 0.9\n",
      "\u001b[34m\u001b[1mwandb\u001b[0m: \tbeta2: 0.999\n",
      "\u001b[34m\u001b[1mwandb\u001b[0m: \tbeta_rms: 0.9\n",
      "\u001b[34m\u001b[1mwandb\u001b[0m: \tepochs: 10\n",
      "\u001b[34m\u001b[1mwandb\u001b[0m: \tepsilon: 1e-08\n",
      "\u001b[34m\u001b[1mwandb\u001b[0m: \thidden_size: 128\n",
      "\u001b[34m\u001b[1mwandb\u001b[0m: \tinit_type: xavier\n",
      "\u001b[34m\u001b[1mwandb\u001b[0m: \tlearning_rate: 0.0001\n",
      "\u001b[34m\u001b[1mwandb\u001b[0m: \tmomentum: 0.9\n",
      "\u001b[34m\u001b[1mwandb\u001b[0m: \tnum_hidden_layers: 5\n",
      "\u001b[34m\u001b[1mwandb\u001b[0m: \toptimizer: momentum\n",
      "\u001b[34m\u001b[1mwandb\u001b[0m: \tweight_decay: 0.0005\n"
     ]
    },
    {
     "data": {
      "text/html": [
       "Tracking run with wandb version 0.19.8"
      ],
      "text/plain": [
       "<IPython.core.display.HTML object>"
      ]
     },
     "metadata": {},
     "output_type": "display_data"
    },
    {
     "data": {
      "text/html": [
       "Run data is saved locally in <code>c:\\Users\\acer\\OneDrive\\Documents\\GitHub\\dl_assignment_ed24s401\\wandb\\run-20250316_195200-9he8lidr</code>"
      ],
      "text/plain": [
       "<IPython.core.display.HTML object>"
      ]
     },
     "metadata": {},
     "output_type": "display_data"
    },
    {
     "data": {
      "text/html": [
       "Syncing run <strong><a href='https://wandb.ai/ed24s401-indian-institute-of-technology-madras/q4_sweep_project/runs/9he8lidr' target=\"_blank\">deft-sweep-4</a></strong> to <a href='https://wandb.ai/ed24s401-indian-institute-of-technology-madras/q4_sweep_project' target=\"_blank\">Weights & Biases</a> (<a href='https://wandb.me/developer-guide' target=\"_blank\">docs</a>)<br>Sweep page: <a href='https://wandb.ai/ed24s401-indian-institute-of-technology-madras/q4_sweep_project/sweeps/p60nv46x' target=\"_blank\">https://wandb.ai/ed24s401-indian-institute-of-technology-madras/q4_sweep_project/sweeps/p60nv46x</a>"
      ],
      "text/plain": [
       "<IPython.core.display.HTML object>"
      ]
     },
     "metadata": {},
     "output_type": "display_data"
    },
    {
     "data": {
      "text/html": [
       " View project at <a href='https://wandb.ai/ed24s401-indian-institute-of-technology-madras/q4_sweep_project' target=\"_blank\">https://wandb.ai/ed24s401-indian-institute-of-technology-madras/q4_sweep_project</a>"
      ],
      "text/plain": [
       "<IPython.core.display.HTML object>"
      ]
     },
     "metadata": {},
     "output_type": "display_data"
    },
    {
     "data": {
      "text/html": [
       " View sweep at <a href='https://wandb.ai/ed24s401-indian-institute-of-technology-madras/q4_sweep_project/sweeps/p60nv46x' target=\"_blank\">https://wandb.ai/ed24s401-indian-institute-of-technology-madras/q4_sweep_project/sweeps/p60nv46x</a>"
      ],
      "text/plain": [
       "<IPython.core.display.HTML object>"
      ]
     },
     "metadata": {},
     "output_type": "display_data"
    },
    {
     "data": {
      "text/html": [
       " View run at <a href='https://wandb.ai/ed24s401-indian-institute-of-technology-madras/q4_sweep_project/runs/9he8lidr' target=\"_blank\">https://wandb.ai/ed24s401-indian-institute-of-technology-madras/q4_sweep_project/runs/9he8lidr</a>"
      ],
      "text/plain": [
       "<IPython.core.display.HTML object>"
      ]
     },
     "metadata": {},
     "output_type": "display_data"
    },
    {
     "name": "stdout",
     "output_type": "stream",
     "text": [
      "Epoch 1/10 - loss=1.6901, val_acc=0.6608, val_loss=1.0849220550864034\n",
      "Epoch 2/10 - loss=1.0849, val_acc=0.7203, val_loss=0.8209892621538978\n",
      "Epoch 3/10 - loss=0.9088, val_acc=0.7500, val_loss=0.7014003415657878\n",
      "Epoch 4/10 - loss=0.8141, val_acc=0.7800, val_loss=0.6265385215766032\n",
      "Epoch 5/10 - loss=0.7525, val_acc=0.7970, val_loss=0.5769467214846653\n",
      "Epoch 6/10 - loss=0.7115, val_acc=0.8092, val_loss=0.5440950830985022\n",
      "Epoch 7/10 - loss=0.6837, val_acc=0.8172, val_loss=0.520259758321714\n",
      "Epoch 8/10 - loss=0.6639, val_acc=0.8195, val_loss=0.5060898067384088\n",
      "Epoch 9/10 - loss=0.6491, val_acc=0.8228, val_loss=0.4920164784575944\n",
      "Epoch 10/10 - loss=0.6372, val_acc=0.8255, val_loss=0.4804385771582166\n",
      "test accuracy  0.8225\n"
     ]
    },
    {
     "data": {
      "text/html": [],
      "text/plain": [
       "<IPython.core.display.HTML object>"
      ]
     },
     "metadata": {},
     "output_type": "display_data"
    },
    {
     "data": {
      "text/html": [
       "<br>    <style><br>        .wandb-row {<br>            display: flex;<br>            flex-direction: row;<br>            flex-wrap: wrap;<br>            justify-content: flex-start;<br>            width: 100%;<br>        }<br>        .wandb-col {<br>            display: flex;<br>            flex-direction: column;<br>            flex-basis: 100%;<br>            flex: 1;<br>            padding: 10px;<br>        }<br>    </style><br><div class=\"wandb-row\"><div class=\"wandb-col\"><h3>Run history:</h3><br/><table class=\"wandb\"><tr><td>epoch</td><td>▁▂▃▃▄▅▆▆▇█</td></tr><tr><td>test_accuracy</td><td>▁</td></tr><tr><td>training_loss</td><td>█▄▃▂▂▁▁▁▁▁</td></tr><tr><td>validation loss</td><td>█▅▄▃▂▂▁▁▁▁</td></tr><tr><td>validation_accuracy</td><td>▁▄▅▆▇▇████</td></tr></table><br/></div><div class=\"wandb-col\"><h3>Run summary:</h3><br/><table class=\"wandb\"><tr><td>epoch</td><td>10</td></tr><tr><td>test_accuracy</td><td>0.8225</td></tr><tr><td>training_loss</td><td>0.63718</td></tr><tr><td>validation loss</td><td>0.48044</td></tr><tr><td>validation_accuracy</td><td>0.8255</td></tr></table><br/></div></div>"
      ],
      "text/plain": [
       "<IPython.core.display.HTML object>"
      ]
     },
     "metadata": {},
     "output_type": "display_data"
    },
    {
     "data": {
      "text/html": [
       " View run <strong style=\"color:#cdcd00\">hl_5_bs_32_ac_tanh_opt_momentum</strong> at: <a href='https://wandb.ai/ed24s401-indian-institute-of-technology-madras/q4_sweep_project/runs/9he8lidr' target=\"_blank\">https://wandb.ai/ed24s401-indian-institute-of-technology-madras/q4_sweep_project/runs/9he8lidr</a><br> View project at: <a href='https://wandb.ai/ed24s401-indian-institute-of-technology-madras/q4_sweep_project' target=\"_blank\">https://wandb.ai/ed24s401-indian-institute-of-technology-madras/q4_sweep_project</a><br>Synced 5 W&B file(s), 0 media file(s), 0 artifact file(s) and 0 other file(s)"
      ],
      "text/plain": [
       "<IPython.core.display.HTML object>"
      ]
     },
     "metadata": {},
     "output_type": "display_data"
    },
    {
     "data": {
      "text/html": [
       "Find logs at: <code>.\\wandb\\run-20250316_195200-9he8lidr\\logs</code>"
      ],
      "text/plain": [
       "<IPython.core.display.HTML object>"
      ]
     },
     "metadata": {},
     "output_type": "display_data"
    },
    {
     "name": "stderr",
     "output_type": "stream",
     "text": [
      "\u001b[34m\u001b[1mwandb\u001b[0m: Agent Starting Run: 06fllqqi with config:\n",
      "\u001b[34m\u001b[1mwandb\u001b[0m: \tactivation: tanh\n",
      "\u001b[34m\u001b[1mwandb\u001b[0m: \tbatch_size: 32\n",
      "\u001b[34m\u001b[1mwandb\u001b[0m: \tbeta1: 0.9\n",
      "\u001b[34m\u001b[1mwandb\u001b[0m: \tbeta2: 0.999\n",
      "\u001b[34m\u001b[1mwandb\u001b[0m: \tbeta_rms: 0.9\n",
      "\u001b[34m\u001b[1mwandb\u001b[0m: \tepochs: 10\n",
      "\u001b[34m\u001b[1mwandb\u001b[0m: \tepsilon: 1e-08\n",
      "\u001b[34m\u001b[1mwandb\u001b[0m: \thidden_size: 128\n",
      "\u001b[34m\u001b[1mwandb\u001b[0m: \tinit_type: xavier\n",
      "\u001b[34m\u001b[1mwandb\u001b[0m: \tlearning_rate: 0.0001\n",
      "\u001b[34m\u001b[1mwandb\u001b[0m: \tmomentum: 0.8\n",
      "\u001b[34m\u001b[1mwandb\u001b[0m: \tnum_hidden_layers: 5\n",
      "\u001b[34m\u001b[1mwandb\u001b[0m: \toptimizer: adam\n",
      "\u001b[34m\u001b[1mwandb\u001b[0m: \tweight_decay: 0\n"
     ]
    },
    {
     "data": {
      "text/html": [],
      "text/plain": [
       "<IPython.core.display.HTML object>"
      ]
     },
     "metadata": {},
     "output_type": "display_data"
    },
    {
     "data": {
      "text/html": [
       "Tracking run with wandb version 0.19.8"
      ],
      "text/plain": [
       "<IPython.core.display.HTML object>"
      ]
     },
     "metadata": {},
     "output_type": "display_data"
    },
    {
     "data": {
      "text/html": [
       "Run data is saved locally in <code>c:\\Users\\acer\\OneDrive\\Documents\\GitHub\\dl_assignment_ed24s401\\wandb\\run-20250316_195445-06fllqqi</code>"
      ],
      "text/plain": [
       "<IPython.core.display.HTML object>"
      ]
     },
     "metadata": {},
     "output_type": "display_data"
    },
    {
     "data": {
      "text/html": [
       "Syncing run <strong><a href='https://wandb.ai/ed24s401-indian-institute-of-technology-madras/q4_sweep_project/runs/06fllqqi' target=\"_blank\">copper-sweep-5</a></strong> to <a href='https://wandb.ai/ed24s401-indian-institute-of-technology-madras/q4_sweep_project' target=\"_blank\">Weights & Biases</a> (<a href='https://wandb.me/developer-guide' target=\"_blank\">docs</a>)<br>Sweep page: <a href='https://wandb.ai/ed24s401-indian-institute-of-technology-madras/q4_sweep_project/sweeps/p60nv46x' target=\"_blank\">https://wandb.ai/ed24s401-indian-institute-of-technology-madras/q4_sweep_project/sweeps/p60nv46x</a>"
      ],
      "text/plain": [
       "<IPython.core.display.HTML object>"
      ]
     },
     "metadata": {},
     "output_type": "display_data"
    },
    {
     "data": {
      "text/html": [
       " View project at <a href='https://wandb.ai/ed24s401-indian-institute-of-technology-madras/q4_sweep_project' target=\"_blank\">https://wandb.ai/ed24s401-indian-institute-of-technology-madras/q4_sweep_project</a>"
      ],
      "text/plain": [
       "<IPython.core.display.HTML object>"
      ]
     },
     "metadata": {},
     "output_type": "display_data"
    },
    {
     "data": {
      "text/html": [
       " View sweep at <a href='https://wandb.ai/ed24s401-indian-institute-of-technology-madras/q4_sweep_project/sweeps/p60nv46x' target=\"_blank\">https://wandb.ai/ed24s401-indian-institute-of-technology-madras/q4_sweep_project/sweeps/p60nv46x</a>"
      ],
      "text/plain": [
       "<IPython.core.display.HTML object>"
      ]
     },
     "metadata": {},
     "output_type": "display_data"
    },
    {
     "data": {
      "text/html": [
       " View run at <a href='https://wandb.ai/ed24s401-indian-institute-of-technology-madras/q4_sweep_project/runs/06fllqqi' target=\"_blank\">https://wandb.ai/ed24s401-indian-institute-of-technology-madras/q4_sweep_project/runs/06fllqqi</a>"
      ],
      "text/plain": [
       "<IPython.core.display.HTML object>"
      ]
     },
     "metadata": {},
     "output_type": "display_data"
    },
    {
     "name": "stdout",
     "output_type": "stream",
     "text": [
      "Epoch 1/10 - loss=0.6100, val_acc=0.8407, val_loss=0.44123077796022897\n",
      "Epoch 2/10 - loss=0.4132, val_acc=0.8550, val_loss=0.4002993521066746\n",
      "Epoch 3/10 - loss=0.3807, val_acc=0.8495, val_loss=0.40426051903768817\n",
      "Epoch 4/10 - loss=0.3577, val_acc=0.8613, val_loss=0.3784133103676986\n",
      "Epoch 5/10 - loss=0.3424, val_acc=0.8652, val_loss=0.35747088755349204\n",
      "Epoch 6/10 - loss=0.3284, val_acc=0.8642, val_loss=0.3588343176087859\n",
      "Epoch 7/10 - loss=0.3184, val_acc=0.8747, val_loss=0.33800688875213775\n",
      "Epoch 8/10 - loss=0.3071, val_acc=0.8792, val_loss=0.33343892668284936\n",
      "Epoch 9/10 - loss=0.3005, val_acc=0.8750, val_loss=0.33113935830790064\n",
      "Epoch 10/10 - loss=0.2907, val_acc=0.8742, val_loss=0.34139463457914676\n",
      "test accuracy  0.8719\n"
     ]
    },
    {
     "data": {
      "text/html": [],
      "text/plain": [
       "<IPython.core.display.HTML object>"
      ]
     },
     "metadata": {},
     "output_type": "display_data"
    },
    {
     "data": {
      "text/html": [
       "<br>    <style><br>        .wandb-row {<br>            display: flex;<br>            flex-direction: row;<br>            flex-wrap: wrap;<br>            justify-content: flex-start;<br>            width: 100%;<br>        }<br>        .wandb-col {<br>            display: flex;<br>            flex-direction: column;<br>            flex-basis: 100%;<br>            flex: 1;<br>            padding: 10px;<br>        }<br>    </style><br><div class=\"wandb-row\"><div class=\"wandb-col\"><h3>Run history:</h3><br/><table class=\"wandb\"><tr><td>epoch</td><td>▁▂▃▃▄▅▆▆▇█</td></tr><tr><td>test_accuracy</td><td>▁</td></tr><tr><td>training_loss</td><td>█▄▃▂▂▂▂▁▁▁</td></tr><tr><td>validation loss</td><td>█▅▆▄▃▃▁▁▁▂</td></tr><tr><td>validation_accuracy</td><td>▁▄▃▅▅▅▇█▇▇</td></tr></table><br/></div><div class=\"wandb-col\"><h3>Run summary:</h3><br/><table class=\"wandb\"><tr><td>epoch</td><td>10</td></tr><tr><td>test_accuracy</td><td>0.8719</td></tr><tr><td>training_loss</td><td>0.29069</td></tr><tr><td>validation loss</td><td>0.34139</td></tr><tr><td>validation_accuracy</td><td>0.87417</td></tr></table><br/></div></div>"
      ],
      "text/plain": [
       "<IPython.core.display.HTML object>"
      ]
     },
     "metadata": {},
     "output_type": "display_data"
    },
    {
     "data": {
      "text/html": [
       " View run <strong style=\"color:#cdcd00\">hl_5_bs_32_ac_tanh_opt_adam</strong> at: <a href='https://wandb.ai/ed24s401-indian-institute-of-technology-madras/q4_sweep_project/runs/06fllqqi' target=\"_blank\">https://wandb.ai/ed24s401-indian-institute-of-technology-madras/q4_sweep_project/runs/06fllqqi</a><br> View project at: <a href='https://wandb.ai/ed24s401-indian-institute-of-technology-madras/q4_sweep_project' target=\"_blank\">https://wandb.ai/ed24s401-indian-institute-of-technology-madras/q4_sweep_project</a><br>Synced 5 W&B file(s), 0 media file(s), 0 artifact file(s) and 0 other file(s)"
      ],
      "text/plain": [
       "<IPython.core.display.HTML object>"
      ]
     },
     "metadata": {},
     "output_type": "display_data"
    },
    {
     "data": {
      "text/html": [
       "Find logs at: <code>.\\wandb\\run-20250316_195445-06fllqqi\\logs</code>"
      ],
      "text/plain": [
       "<IPython.core.display.HTML object>"
      ]
     },
     "metadata": {},
     "output_type": "display_data"
    },
    {
     "name": "stderr",
     "output_type": "stream",
     "text": [
      "\u001b[34m\u001b[1mwandb\u001b[0m: Agent Starting Run: c283qtl2 with config:\n",
      "\u001b[34m\u001b[1mwandb\u001b[0m: \tactivation: relu\n",
      "\u001b[34m\u001b[1mwandb\u001b[0m: \tbatch_size: 32\n",
      "\u001b[34m\u001b[1mwandb\u001b[0m: \tbeta1: 0.9\n",
      "\u001b[34m\u001b[1mwandb\u001b[0m: \tbeta2: 0.999\n",
      "\u001b[34m\u001b[1mwandb\u001b[0m: \tbeta_rms: 0.9\n",
      "\u001b[34m\u001b[1mwandb\u001b[0m: \tepochs: 10\n",
      "\u001b[34m\u001b[1mwandb\u001b[0m: \tepsilon: 1e-08\n",
      "\u001b[34m\u001b[1mwandb\u001b[0m: \thidden_size: 64\n",
      "\u001b[34m\u001b[1mwandb\u001b[0m: \tinit_type: random\n",
      "\u001b[34m\u001b[1mwandb\u001b[0m: \tlearning_rate: 0.001\n",
      "\u001b[34m\u001b[1mwandb\u001b[0m: \tmomentum: 0.9\n",
      "\u001b[34m\u001b[1mwandb\u001b[0m: \tnum_hidden_layers: 5\n",
      "\u001b[34m\u001b[1mwandb\u001b[0m: \toptimizer: adam\n",
      "\u001b[34m\u001b[1mwandb\u001b[0m: \tweight_decay: 0\n"
     ]
    },
    {
     "data": {
      "text/html": [
       "Tracking run with wandb version 0.19.8"
      ],
      "text/plain": [
       "<IPython.core.display.HTML object>"
      ]
     },
     "metadata": {},
     "output_type": "display_data"
    },
    {
     "data": {
      "text/html": [
       "Run data is saved locally in <code>c:\\Users\\acer\\OneDrive\\Documents\\GitHub\\dl_assignment_ed24s401\\wandb\\run-20250316_195730-c283qtl2</code>"
      ],
      "text/plain": [
       "<IPython.core.display.HTML object>"
      ]
     },
     "metadata": {},
     "output_type": "display_data"
    },
    {
     "data": {
      "text/html": [
       "Syncing run <strong><a href='https://wandb.ai/ed24s401-indian-institute-of-technology-madras/q4_sweep_project/runs/c283qtl2' target=\"_blank\">faithful-sweep-6</a></strong> to <a href='https://wandb.ai/ed24s401-indian-institute-of-technology-madras/q4_sweep_project' target=\"_blank\">Weights & Biases</a> (<a href='https://wandb.me/developer-guide' target=\"_blank\">docs</a>)<br>Sweep page: <a href='https://wandb.ai/ed24s401-indian-institute-of-technology-madras/q4_sweep_project/sweeps/p60nv46x' target=\"_blank\">https://wandb.ai/ed24s401-indian-institute-of-technology-madras/q4_sweep_project/sweeps/p60nv46x</a>"
      ],
      "text/plain": [
       "<IPython.core.display.HTML object>"
      ]
     },
     "metadata": {},
     "output_type": "display_data"
    },
    {
     "data": {
      "text/html": [
       " View project at <a href='https://wandb.ai/ed24s401-indian-institute-of-technology-madras/q4_sweep_project' target=\"_blank\">https://wandb.ai/ed24s401-indian-institute-of-technology-madras/q4_sweep_project</a>"
      ],
      "text/plain": [
       "<IPython.core.display.HTML object>"
      ]
     },
     "metadata": {},
     "output_type": "display_data"
    },
    {
     "data": {
      "text/html": [
       " View sweep at <a href='https://wandb.ai/ed24s401-indian-institute-of-technology-madras/q4_sweep_project/sweeps/p60nv46x' target=\"_blank\">https://wandb.ai/ed24s401-indian-institute-of-technology-madras/q4_sweep_project/sweeps/p60nv46x</a>"
      ],
      "text/plain": [
       "<IPython.core.display.HTML object>"
      ]
     },
     "metadata": {},
     "output_type": "display_data"
    },
    {
     "data": {
      "text/html": [
       " View run at <a href='https://wandb.ai/ed24s401-indian-institute-of-technology-madras/q4_sweep_project/runs/c283qtl2' target=\"_blank\">https://wandb.ai/ed24s401-indian-institute-of-technology-madras/q4_sweep_project/runs/c283qtl2</a>"
      ],
      "text/plain": [
       "<IPython.core.display.HTML object>"
      ]
     },
     "metadata": {},
     "output_type": "display_data"
    },
    {
     "name": "stdout",
     "output_type": "stream",
     "text": [
      "Epoch 1/10 - loss=0.5316, val_acc=0.8408, val_loss=0.4262506810276712\n",
      "Epoch 2/10 - loss=0.3910, val_acc=0.8612, val_loss=0.38029229947575316\n",
      "Epoch 3/10 - loss=0.3584, val_acc=0.8673, val_loss=0.35333921797827467\n",
      "Epoch 4/10 - loss=0.3346, val_acc=0.8703, val_loss=0.35265591099771987\n",
      "Epoch 5/10 - loss=0.3207, val_acc=0.8672, val_loss=0.3440293440400351\n",
      "Epoch 6/10 - loss=0.3072, val_acc=0.8673, val_loss=0.3479996395814301\n",
      "Epoch 7/10 - loss=0.2944, val_acc=0.8773, val_loss=0.3374566103018656\n",
      "Epoch 8/10 - loss=0.2859, val_acc=0.8805, val_loss=0.3280997443162233\n",
      "Epoch 9/10 - loss=0.2771, val_acc=0.8798, val_loss=0.3222661801201401\n",
      "Epoch 10/10 - loss=0.2679, val_acc=0.8777, val_loss=0.33938835640725173\n",
      "test accuracy  0.8716\n"
     ]
    },
    {
     "data": {
      "text/html": [],
      "text/plain": [
       "<IPython.core.display.HTML object>"
      ]
     },
     "metadata": {},
     "output_type": "display_data"
    },
    {
     "data": {
      "text/html": [
       "<br>    <style><br>        .wandb-row {<br>            display: flex;<br>            flex-direction: row;<br>            flex-wrap: wrap;<br>            justify-content: flex-start;<br>            width: 100%;<br>        }<br>        .wandb-col {<br>            display: flex;<br>            flex-direction: column;<br>            flex-basis: 100%;<br>            flex: 1;<br>            padding: 10px;<br>        }<br>    </style><br><div class=\"wandb-row\"><div class=\"wandb-col\"><h3>Run history:</h3><br/><table class=\"wandb\"><tr><td>epoch</td><td>▁▂▃▃▄▅▆▆▇█</td></tr><tr><td>test_accuracy</td><td>▁</td></tr><tr><td>training_loss</td><td>█▄▃▃▂▂▂▁▁▁</td></tr><tr><td>validation loss</td><td>█▅▃▃▂▃▂▁▁▂</td></tr><tr><td>validation_accuracy</td><td>▁▅▆▆▆▆▇██▇</td></tr></table><br/></div><div class=\"wandb-col\"><h3>Run summary:</h3><br/><table class=\"wandb\"><tr><td>epoch</td><td>10</td></tr><tr><td>test_accuracy</td><td>0.8716</td></tr><tr><td>training_loss</td><td>0.26789</td></tr><tr><td>validation loss</td><td>0.33939</td></tr><tr><td>validation_accuracy</td><td>0.87767</td></tr></table><br/></div></div>"
      ],
      "text/plain": [
       "<IPython.core.display.HTML object>"
      ]
     },
     "metadata": {},
     "output_type": "display_data"
    },
    {
     "data": {
      "text/html": [
       " View run <strong style=\"color:#cdcd00\">hl_5_bs_32_ac_relu_opt_adam</strong> at: <a href='https://wandb.ai/ed24s401-indian-institute-of-technology-madras/q4_sweep_project/runs/c283qtl2' target=\"_blank\">https://wandb.ai/ed24s401-indian-institute-of-technology-madras/q4_sweep_project/runs/c283qtl2</a><br> View project at: <a href='https://wandb.ai/ed24s401-indian-institute-of-technology-madras/q4_sweep_project' target=\"_blank\">https://wandb.ai/ed24s401-indian-institute-of-technology-madras/q4_sweep_project</a><br>Synced 5 W&B file(s), 0 media file(s), 0 artifact file(s) and 0 other file(s)"
      ],
      "text/plain": [
       "<IPython.core.display.HTML object>"
      ]
     },
     "metadata": {},
     "output_type": "display_data"
    },
    {
     "data": {
      "text/html": [
       "Find logs at: <code>.\\wandb\\run-20250316_195730-c283qtl2\\logs</code>"
      ],
      "text/plain": [
       "<IPython.core.display.HTML object>"
      ]
     },
     "metadata": {},
     "output_type": "display_data"
    },
    {
     "name": "stderr",
     "output_type": "stream",
     "text": [
      "\u001b[34m\u001b[1mwandb\u001b[0m: Agent Starting Run: 87e7mxie with config:\n",
      "\u001b[34m\u001b[1mwandb\u001b[0m: \tactivation: sigmoid\n",
      "\u001b[34m\u001b[1mwandb\u001b[0m: \tbatch_size: 32\n",
      "\u001b[34m\u001b[1mwandb\u001b[0m: \tbeta1: 0.9\n",
      "\u001b[34m\u001b[1mwandb\u001b[0m: \tbeta2: 0.999\n",
      "\u001b[34m\u001b[1mwandb\u001b[0m: \tbeta_rms: 0.9\n",
      "\u001b[34m\u001b[1mwandb\u001b[0m: \tepochs: 10\n",
      "\u001b[34m\u001b[1mwandb\u001b[0m: \tepsilon: 1e-08\n",
      "\u001b[34m\u001b[1mwandb\u001b[0m: \thidden_size: 128\n",
      "\u001b[34m\u001b[1mwandb\u001b[0m: \tinit_type: random\n",
      "\u001b[34m\u001b[1mwandb\u001b[0m: \tlearning_rate: 0.0001\n",
      "\u001b[34m\u001b[1mwandb\u001b[0m: \tmomentum: 0.9\n",
      "\u001b[34m\u001b[1mwandb\u001b[0m: \tnum_hidden_layers: 3\n",
      "\u001b[34m\u001b[1mwandb\u001b[0m: \toptimizer: rmsprop\n",
      "\u001b[34m\u001b[1mwandb\u001b[0m: \tweight_decay: 0.0005\n"
     ]
    },
    {
     "data": {
      "text/html": [
       "Tracking run with wandb version 0.19.8"
      ],
      "text/plain": [
       "<IPython.core.display.HTML object>"
      ]
     },
     "metadata": {},
     "output_type": "display_data"
    },
    {
     "data": {
      "text/html": [
       "Run data is saved locally in <code>c:\\Users\\acer\\OneDrive\\Documents\\GitHub\\dl_assignment_ed24s401\\wandb\\run-20250316_195901-87e7mxie</code>"
      ],
      "text/plain": [
       "<IPython.core.display.HTML object>"
      ]
     },
     "metadata": {},
     "output_type": "display_data"
    },
    {
     "data": {
      "text/html": [
       "Syncing run <strong><a href='https://wandb.ai/ed24s401-indian-institute-of-technology-madras/q4_sweep_project/runs/87e7mxie' target=\"_blank\">expert-sweep-7</a></strong> to <a href='https://wandb.ai/ed24s401-indian-institute-of-technology-madras/q4_sweep_project' target=\"_blank\">Weights & Biases</a> (<a href='https://wandb.me/developer-guide' target=\"_blank\">docs</a>)<br>Sweep page: <a href='https://wandb.ai/ed24s401-indian-institute-of-technology-madras/q4_sweep_project/sweeps/p60nv46x' target=\"_blank\">https://wandb.ai/ed24s401-indian-institute-of-technology-madras/q4_sweep_project/sweeps/p60nv46x</a>"
      ],
      "text/plain": [
       "<IPython.core.display.HTML object>"
      ]
     },
     "metadata": {},
     "output_type": "display_data"
    },
    {
     "data": {
      "text/html": [
       " View project at <a href='https://wandb.ai/ed24s401-indian-institute-of-technology-madras/q4_sweep_project' target=\"_blank\">https://wandb.ai/ed24s401-indian-institute-of-technology-madras/q4_sweep_project</a>"
      ],
      "text/plain": [
       "<IPython.core.display.HTML object>"
      ]
     },
     "metadata": {},
     "output_type": "display_data"
    },
    {
     "data": {
      "text/html": [
       " View sweep at <a href='https://wandb.ai/ed24s401-indian-institute-of-technology-madras/q4_sweep_project/sweeps/p60nv46x' target=\"_blank\">https://wandb.ai/ed24s401-indian-institute-of-technology-madras/q4_sweep_project/sweeps/p60nv46x</a>"
      ],
      "text/plain": [
       "<IPython.core.display.HTML object>"
      ]
     },
     "metadata": {},
     "output_type": "display_data"
    },
    {
     "data": {
      "text/html": [
       " View run at <a href='https://wandb.ai/ed24s401-indian-institute-of-technology-madras/q4_sweep_project/runs/87e7mxie' target=\"_blank\">https://wandb.ai/ed24s401-indian-institute-of-technology-madras/q4_sweep_project/runs/87e7mxie</a>"
      ],
      "text/plain": [
       "<IPython.core.display.HTML object>"
      ]
     },
     "metadata": {},
     "output_type": "display_data"
    },
    {
     "name": "stdout",
     "output_type": "stream",
     "text": [
      "Epoch 1/10 - loss=1.6882, val_acc=0.6713, val_loss=0.9829690042692873\n",
      "Epoch 2/10 - loss=1.0144, val_acc=0.7610, val_loss=0.7127878521082422\n",
      "Epoch 3/10 - loss=0.8510, val_acc=0.7903, val_loss=0.6126208839811959\n",
      "Epoch 4/10 - loss=0.7720, val_acc=0.8055, val_loss=0.556748979053276\n",
      "Epoch 5/10 - loss=0.7221, val_acc=0.8183, val_loss=0.5202245598817438\n",
      "Epoch 6/10 - loss=0.6901, val_acc=0.8305, val_loss=0.4956543569604034\n",
      "Epoch 7/10 - loss=0.6667, val_acc=0.8338, val_loss=0.4803127923235173\n",
      "Epoch 8/10 - loss=0.6491, val_acc=0.8340, val_loss=0.46663277474079934\n",
      "Epoch 9/10 - loss=0.6347, val_acc=0.8390, val_loss=0.45545805654147564\n",
      "Epoch 10/10 - loss=0.6227, val_acc=0.8425, val_loss=0.44658549176739265\n",
      "test accuracy  0.836\n"
     ]
    },
    {
     "data": {
      "text/html": [],
      "text/plain": [
       "<IPython.core.display.HTML object>"
      ]
     },
     "metadata": {},
     "output_type": "display_data"
    },
    {
     "data": {
      "text/html": [
       "<br>    <style><br>        .wandb-row {<br>            display: flex;<br>            flex-direction: row;<br>            flex-wrap: wrap;<br>            justify-content: flex-start;<br>            width: 100%;<br>        }<br>        .wandb-col {<br>            display: flex;<br>            flex-direction: column;<br>            flex-basis: 100%;<br>            flex: 1;<br>            padding: 10px;<br>        }<br>    </style><br><div class=\"wandb-row\"><div class=\"wandb-col\"><h3>Run history:</h3><br/><table class=\"wandb\"><tr><td>epoch</td><td>▁▂▃▃▄▅▆▆▇█</td></tr><tr><td>test_accuracy</td><td>▁</td></tr><tr><td>training_loss</td><td>█▄▂▂▂▁▁▁▁▁</td></tr><tr><td>validation loss</td><td>█▄▃▂▂▂▁▁▁▁</td></tr><tr><td>validation_accuracy</td><td>▁▅▆▆▇█████</td></tr></table><br/></div><div class=\"wandb-col\"><h3>Run summary:</h3><br/><table class=\"wandb\"><tr><td>epoch</td><td>10</td></tr><tr><td>test_accuracy</td><td>0.836</td></tr><tr><td>training_loss</td><td>0.62273</td></tr><tr><td>validation loss</td><td>0.44659</td></tr><tr><td>validation_accuracy</td><td>0.8425</td></tr></table><br/></div></div>"
      ],
      "text/plain": [
       "<IPython.core.display.HTML object>"
      ]
     },
     "metadata": {},
     "output_type": "display_data"
    },
    {
     "data": {
      "text/html": [
       " View run <strong style=\"color:#cdcd00\">hl_3_bs_32_ac_sigmoid_opt_rmsprop</strong> at: <a href='https://wandb.ai/ed24s401-indian-institute-of-technology-madras/q4_sweep_project/runs/87e7mxie' target=\"_blank\">https://wandb.ai/ed24s401-indian-institute-of-technology-madras/q4_sweep_project/runs/87e7mxie</a><br> View project at: <a href='https://wandb.ai/ed24s401-indian-institute-of-technology-madras/q4_sweep_project' target=\"_blank\">https://wandb.ai/ed24s401-indian-institute-of-technology-madras/q4_sweep_project</a><br>Synced 5 W&B file(s), 0 media file(s), 0 artifact file(s) and 0 other file(s)"
      ],
      "text/plain": [
       "<IPython.core.display.HTML object>"
      ]
     },
     "metadata": {},
     "output_type": "display_data"
    },
    {
     "data": {
      "text/html": [
       "Find logs at: <code>.\\wandb\\run-20250316_195901-87e7mxie\\logs</code>"
      ],
      "text/plain": [
       "<IPython.core.display.HTML object>"
      ]
     },
     "metadata": {},
     "output_type": "display_data"
    },
    {
     "name": "stderr",
     "output_type": "stream",
     "text": [
      "\u001b[34m\u001b[1mwandb\u001b[0m: Agent Starting Run: pxrx0b96 with config:\n",
      "\u001b[34m\u001b[1mwandb\u001b[0m: \tactivation: tanh\n",
      "\u001b[34m\u001b[1mwandb\u001b[0m: \tbatch_size: 32\n",
      "\u001b[34m\u001b[1mwandb\u001b[0m: \tbeta1: 0.9\n",
      "\u001b[34m\u001b[1mwandb\u001b[0m: \tbeta2: 0.999\n",
      "\u001b[34m\u001b[1mwandb\u001b[0m: \tbeta_rms: 0.9\n",
      "\u001b[34m\u001b[1mwandb\u001b[0m: \tepochs: 10\n",
      "\u001b[34m\u001b[1mwandb\u001b[0m: \tepsilon: 1e-08\n",
      "\u001b[34m\u001b[1mwandb\u001b[0m: \thidden_size: 64\n",
      "\u001b[34m\u001b[1mwandb\u001b[0m: \tinit_type: xavier\n",
      "\u001b[34m\u001b[1mwandb\u001b[0m: \tlearning_rate: 0.001\n",
      "\u001b[34m\u001b[1mwandb\u001b[0m: \tmomentum: 0.8\n",
      "\u001b[34m\u001b[1mwandb\u001b[0m: \tnum_hidden_layers: 3\n",
      "\u001b[34m\u001b[1mwandb\u001b[0m: \toptimizer: nadam\n",
      "\u001b[34m\u001b[1mwandb\u001b[0m: \tweight_decay: 0\n"
     ]
    },
    {
     "data": {
      "text/html": [
       "Tracking run with wandb version 0.19.8"
      ],
      "text/plain": [
       "<IPython.core.display.HTML object>"
      ]
     },
     "metadata": {},
     "output_type": "display_data"
    },
    {
     "data": {
      "text/html": [
       "Run data is saved locally in <code>c:\\Users\\acer\\OneDrive\\Documents\\GitHub\\dl_assignment_ed24s401\\wandb\\run-20250316_200059-pxrx0b96</code>"
      ],
      "text/plain": [
       "<IPython.core.display.HTML object>"
      ]
     },
     "metadata": {},
     "output_type": "display_data"
    },
    {
     "data": {
      "text/html": [
       "Syncing run <strong><a href='https://wandb.ai/ed24s401-indian-institute-of-technology-madras/q4_sweep_project/runs/pxrx0b96' target=\"_blank\">dandy-sweep-8</a></strong> to <a href='https://wandb.ai/ed24s401-indian-institute-of-technology-madras/q4_sweep_project' target=\"_blank\">Weights & Biases</a> (<a href='https://wandb.me/developer-guide' target=\"_blank\">docs</a>)<br>Sweep page: <a href='https://wandb.ai/ed24s401-indian-institute-of-technology-madras/q4_sweep_project/sweeps/p60nv46x' target=\"_blank\">https://wandb.ai/ed24s401-indian-institute-of-technology-madras/q4_sweep_project/sweeps/p60nv46x</a>"
      ],
      "text/plain": [
       "<IPython.core.display.HTML object>"
      ]
     },
     "metadata": {},
     "output_type": "display_data"
    },
    {
     "data": {
      "text/html": [
       " View project at <a href='https://wandb.ai/ed24s401-indian-institute-of-technology-madras/q4_sweep_project' target=\"_blank\">https://wandb.ai/ed24s401-indian-institute-of-technology-madras/q4_sweep_project</a>"
      ],
      "text/plain": [
       "<IPython.core.display.HTML object>"
      ]
     },
     "metadata": {},
     "output_type": "display_data"
    },
    {
     "data": {
      "text/html": [
       " View sweep at <a href='https://wandb.ai/ed24s401-indian-institute-of-technology-madras/q4_sweep_project/sweeps/p60nv46x' target=\"_blank\">https://wandb.ai/ed24s401-indian-institute-of-technology-madras/q4_sweep_project/sweeps/p60nv46x</a>"
      ],
      "text/plain": [
       "<IPython.core.display.HTML object>"
      ]
     },
     "metadata": {},
     "output_type": "display_data"
    },
    {
     "data": {
      "text/html": [
       " View run at <a href='https://wandb.ai/ed24s401-indian-institute-of-technology-madras/q4_sweep_project/runs/pxrx0b96' target=\"_blank\">https://wandb.ai/ed24s401-indian-institute-of-technology-madras/q4_sweep_project/runs/pxrx0b96</a>"
      ],
      "text/plain": [
       "<IPython.core.display.HTML object>"
      ]
     },
     "metadata": {},
     "output_type": "display_data"
    },
    {
     "name": "stdout",
     "output_type": "stream",
     "text": [
      "Epoch 1/10 - loss=0.4830, val_acc=0.8525, val_loss=0.3915567499634833\n",
      "Epoch 2/10 - loss=0.3673, val_acc=0.8642, val_loss=0.3709101547896698\n",
      "Epoch 3/10 - loss=0.3353, val_acc=0.8743, val_loss=0.3340325507608215\n",
      "Epoch 4/10 - loss=0.3147, val_acc=0.8802, val_loss=0.32716974497891876\n",
      "Epoch 5/10 - loss=0.2985, val_acc=0.8735, val_loss=0.3279797500329235\n",
      "Epoch 6/10 - loss=0.2853, val_acc=0.8817, val_loss=0.3249539008688805\n",
      "Epoch 7/10 - loss=0.2745, val_acc=0.8837, val_loss=0.32202964045447513\n",
      "Epoch 8/10 - loss=0.2651, val_acc=0.8832, val_loss=0.30925817110188275\n",
      "Epoch 9/10 - loss=0.2554, val_acc=0.8857, val_loss=0.3108576969021752\n",
      "Epoch 10/10 - loss=0.2466, val_acc=0.8797, val_loss=0.3196521121128617\n",
      "test accuracy  0.8726\n"
     ]
    },
    {
     "data": {
      "text/html": [],
      "text/plain": [
       "<IPython.core.display.HTML object>"
      ]
     },
     "metadata": {},
     "output_type": "display_data"
    },
    {
     "data": {
      "text/html": [
       "<br>    <style><br>        .wandb-row {<br>            display: flex;<br>            flex-direction: row;<br>            flex-wrap: wrap;<br>            justify-content: flex-start;<br>            width: 100%;<br>        }<br>        .wandb-col {<br>            display: flex;<br>            flex-direction: column;<br>            flex-basis: 100%;<br>            flex: 1;<br>            padding: 10px;<br>        }<br>    </style><br><div class=\"wandb-row\"><div class=\"wandb-col\"><h3>Run history:</h3><br/><table class=\"wandb\"><tr><td>epoch</td><td>▁▂▃▃▄▅▆▆▇█</td></tr><tr><td>test_accuracy</td><td>▁</td></tr><tr><td>training_loss</td><td>█▅▄▃▃▂▂▂▁▁</td></tr><tr><td>validation loss</td><td>█▆▃▃▃▂▂▁▁▂</td></tr><tr><td>validation_accuracy</td><td>▁▃▆▇▅▇█▇█▇</td></tr></table><br/></div><div class=\"wandb-col\"><h3>Run summary:</h3><br/><table class=\"wandb\"><tr><td>epoch</td><td>10</td></tr><tr><td>test_accuracy</td><td>0.8726</td></tr><tr><td>training_loss</td><td>0.24655</td></tr><tr><td>validation loss</td><td>0.31965</td></tr><tr><td>validation_accuracy</td><td>0.87967</td></tr></table><br/></div></div>"
      ],
      "text/plain": [
       "<IPython.core.display.HTML object>"
      ]
     },
     "metadata": {},
     "output_type": "display_data"
    },
    {
     "data": {
      "text/html": [
       " View run <strong style=\"color:#cdcd00\">hl_3_bs_32_ac_tanh_opt_nadam</strong> at: <a href='https://wandb.ai/ed24s401-indian-institute-of-technology-madras/q4_sweep_project/runs/pxrx0b96' target=\"_blank\">https://wandb.ai/ed24s401-indian-institute-of-technology-madras/q4_sweep_project/runs/pxrx0b96</a><br> View project at: <a href='https://wandb.ai/ed24s401-indian-institute-of-technology-madras/q4_sweep_project' target=\"_blank\">https://wandb.ai/ed24s401-indian-institute-of-technology-madras/q4_sweep_project</a><br>Synced 5 W&B file(s), 0 media file(s), 0 artifact file(s) and 0 other file(s)"
      ],
      "text/plain": [
       "<IPython.core.display.HTML object>"
      ]
     },
     "metadata": {},
     "output_type": "display_data"
    },
    {
     "data": {
      "text/html": [
       "Find logs at: <code>.\\wandb\\run-20250316_200059-pxrx0b96\\logs</code>"
      ],
      "text/plain": [
       "<IPython.core.display.HTML object>"
      ]
     },
     "metadata": {},
     "output_type": "display_data"
    },
    {
     "name": "stderr",
     "output_type": "stream",
     "text": [
      "\u001b[34m\u001b[1mwandb\u001b[0m: Agent Starting Run: gag8ms48 with config:\n",
      "\u001b[34m\u001b[1mwandb\u001b[0m: \tactivation: sigmoid\n",
      "\u001b[34m\u001b[1mwandb\u001b[0m: \tbatch_size: 32\n",
      "\u001b[34m\u001b[1mwandb\u001b[0m: \tbeta1: 0.9\n",
      "\u001b[34m\u001b[1mwandb\u001b[0m: \tbeta2: 0.999\n",
      "\u001b[34m\u001b[1mwandb\u001b[0m: \tbeta_rms: 0.9\n",
      "\u001b[34m\u001b[1mwandb\u001b[0m: \tepochs: 10\n",
      "\u001b[34m\u001b[1mwandb\u001b[0m: \tepsilon: 1e-08\n",
      "\u001b[34m\u001b[1mwandb\u001b[0m: \thidden_size: 64\n",
      "\u001b[34m\u001b[1mwandb\u001b[0m: \tinit_type: random\n",
      "\u001b[34m\u001b[1mwandb\u001b[0m: \tlearning_rate: 0.0001\n",
      "\u001b[34m\u001b[1mwandb\u001b[0m: \tmomentum: 0.9\n",
      "\u001b[34m\u001b[1mwandb\u001b[0m: \tnum_hidden_layers: 3\n",
      "\u001b[34m\u001b[1mwandb\u001b[0m: \toptimizer: nesterov\n",
      "\u001b[34m\u001b[1mwandb\u001b[0m: \tweight_decay: 0.0005\n"
     ]
    },
    {
     "data": {
      "text/html": [
       "Tracking run with wandb version 0.19.8"
      ],
      "text/plain": [
       "<IPython.core.display.HTML object>"
      ]
     },
     "metadata": {},
     "output_type": "display_data"
    },
    {
     "data": {
      "text/html": [
       "Run data is saved locally in <code>c:\\Users\\acer\\OneDrive\\Documents\\GitHub\\dl_assignment_ed24s401\\wandb\\run-20250316_200229-gag8ms48</code>"
      ],
      "text/plain": [
       "<IPython.core.display.HTML object>"
      ]
     },
     "metadata": {},
     "output_type": "display_data"
    },
    {
     "data": {
      "text/html": [
       "Syncing run <strong><a href='https://wandb.ai/ed24s401-indian-institute-of-technology-madras/q4_sweep_project/runs/gag8ms48' target=\"_blank\">deft-sweep-9</a></strong> to <a href='https://wandb.ai/ed24s401-indian-institute-of-technology-madras/q4_sweep_project' target=\"_blank\">Weights & Biases</a> (<a href='https://wandb.me/developer-guide' target=\"_blank\">docs</a>)<br>Sweep page: <a href='https://wandb.ai/ed24s401-indian-institute-of-technology-madras/q4_sweep_project/sweeps/p60nv46x' target=\"_blank\">https://wandb.ai/ed24s401-indian-institute-of-technology-madras/q4_sweep_project/sweeps/p60nv46x</a>"
      ],
      "text/plain": [
       "<IPython.core.display.HTML object>"
      ]
     },
     "metadata": {},
     "output_type": "display_data"
    },
    {
     "data": {
      "text/html": [
       " View project at <a href='https://wandb.ai/ed24s401-indian-institute-of-technology-madras/q4_sweep_project' target=\"_blank\">https://wandb.ai/ed24s401-indian-institute-of-technology-madras/q4_sweep_project</a>"
      ],
      "text/plain": [
       "<IPython.core.display.HTML object>"
      ]
     },
     "metadata": {},
     "output_type": "display_data"
    },
    {
     "data": {
      "text/html": [
       " View sweep at <a href='https://wandb.ai/ed24s401-indian-institute-of-technology-madras/q4_sweep_project/sweeps/p60nv46x' target=\"_blank\">https://wandb.ai/ed24s401-indian-institute-of-technology-madras/q4_sweep_project/sweeps/p60nv46x</a>"
      ],
      "text/plain": [
       "<IPython.core.display.HTML object>"
      ]
     },
     "metadata": {},
     "output_type": "display_data"
    },
    {
     "data": {
      "text/html": [
       " View run at <a href='https://wandb.ai/ed24s401-indian-institute-of-technology-madras/q4_sweep_project/runs/gag8ms48' target=\"_blank\">https://wandb.ai/ed24s401-indian-institute-of-technology-madras/q4_sweep_project/runs/gag8ms48</a>"
      ],
      "text/plain": [
       "<IPython.core.display.HTML object>"
      ]
     },
     "metadata": {},
     "output_type": "display_data"
    },
    {
     "name": "stdout",
     "output_type": "stream",
     "text": [
      "Epoch 1/10 - loss=2.4132, val_acc=0.1768, val_loss=2.292150293765403\n",
      "Epoch 2/10 - loss=2.3905, val_acc=0.2853, val_loss=2.2861204554435686\n",
      "Epoch 3/10 - loss=2.3842, val_acc=0.2873, val_loss=2.2802184838898456\n",
      "Epoch 4/10 - loss=2.3777, val_acc=0.4022, val_loss=2.2732270674223356\n",
      "Epoch 5/10 - loss=2.3706, val_acc=0.4557, val_loss=2.2657527965506956\n",
      "Epoch 6/10 - loss=2.3627, val_acc=0.4705, val_loss=2.2576536299632615\n",
      "Epoch 7/10 - loss=2.3540, val_acc=0.4965, val_loss=2.2483936568820377\n",
      "Epoch 8/10 - loss=2.3440, val_acc=0.4177, val_loss=2.2378449647951\n",
      "Epoch 9/10 - loss=2.3327, val_acc=0.4445, val_loss=2.2254009518067543\n",
      "Epoch 10/10 - loss=2.3195, val_acc=0.4220, val_loss=2.2110843586417293\n",
      "test accuracy  0.4219\n"
     ]
    },
    {
     "data": {
      "text/html": [],
      "text/plain": [
       "<IPython.core.display.HTML object>"
      ]
     },
     "metadata": {},
     "output_type": "display_data"
    },
    {
     "data": {
      "text/html": [
       "<br>    <style><br>        .wandb-row {<br>            display: flex;<br>            flex-direction: row;<br>            flex-wrap: wrap;<br>            justify-content: flex-start;<br>            width: 100%;<br>        }<br>        .wandb-col {<br>            display: flex;<br>            flex-direction: column;<br>            flex-basis: 100%;<br>            flex: 1;<br>            padding: 10px;<br>        }<br>    </style><br><div class=\"wandb-row\"><div class=\"wandb-col\"><h3>Run history:</h3><br/><table class=\"wandb\"><tr><td>epoch</td><td>▁▂▃▃▄▅▆▆▇█</td></tr><tr><td>test_accuracy</td><td>▁</td></tr><tr><td>training_loss</td><td>█▆▆▅▅▄▄▃▂▁</td></tr><tr><td>validation loss</td><td>█▇▇▆▆▅▄▃▂▁</td></tr><tr><td>validation_accuracy</td><td>▁▃▃▆▇▇█▆▇▆</td></tr></table><br/></div><div class=\"wandb-col\"><h3>Run summary:</h3><br/><table class=\"wandb\"><tr><td>epoch</td><td>10</td></tr><tr><td>test_accuracy</td><td>0.4219</td></tr><tr><td>training_loss</td><td>2.31946</td></tr><tr><td>validation loss</td><td>2.21108</td></tr><tr><td>validation_accuracy</td><td>0.422</td></tr></table><br/></div></div>"
      ],
      "text/plain": [
       "<IPython.core.display.HTML object>"
      ]
     },
     "metadata": {},
     "output_type": "display_data"
    },
    {
     "data": {
      "text/html": [
       " View run <strong style=\"color:#cdcd00\">hl_3_bs_32_ac_sigmoid_opt_nesterov</strong> at: <a href='https://wandb.ai/ed24s401-indian-institute-of-technology-madras/q4_sweep_project/runs/gag8ms48' target=\"_blank\">https://wandb.ai/ed24s401-indian-institute-of-technology-madras/q4_sweep_project/runs/gag8ms48</a><br> View project at: <a href='https://wandb.ai/ed24s401-indian-institute-of-technology-madras/q4_sweep_project' target=\"_blank\">https://wandb.ai/ed24s401-indian-institute-of-technology-madras/q4_sweep_project</a><br>Synced 5 W&B file(s), 0 media file(s), 0 artifact file(s) and 0 other file(s)"
      ],
      "text/plain": [
       "<IPython.core.display.HTML object>"
      ]
     },
     "metadata": {},
     "output_type": "display_data"
    },
    {
     "data": {
      "text/html": [
       "Find logs at: <code>.\\wandb\\run-20250316_200229-gag8ms48\\logs</code>"
      ],
      "text/plain": [
       "<IPython.core.display.HTML object>"
      ]
     },
     "metadata": {},
     "output_type": "display_data"
    },
    {
     "name": "stderr",
     "output_type": "stream",
     "text": [
      "\u001b[34m\u001b[1mwandb\u001b[0m: Agent Starting Run: 8np5n7m6 with config:\n",
      "\u001b[34m\u001b[1mwandb\u001b[0m: \tactivation: relu\n",
      "\u001b[34m\u001b[1mwandb\u001b[0m: \tbatch_size: 32\n",
      "\u001b[34m\u001b[1mwandb\u001b[0m: \tbeta1: 0.9\n",
      "\u001b[34m\u001b[1mwandb\u001b[0m: \tbeta2: 0.999\n",
      "\u001b[34m\u001b[1mwandb\u001b[0m: \tbeta_rms: 0.9\n",
      "\u001b[34m\u001b[1mwandb\u001b[0m: \tepochs: 10\n",
      "\u001b[34m\u001b[1mwandb\u001b[0m: \tepsilon: 1e-08\n",
      "\u001b[34m\u001b[1mwandb\u001b[0m: \thidden_size: 64\n",
      "\u001b[34m\u001b[1mwandb\u001b[0m: \tinit_type: random\n",
      "\u001b[34m\u001b[1mwandb\u001b[0m: \tlearning_rate: 0.001\n",
      "\u001b[34m\u001b[1mwandb\u001b[0m: \tmomentum: 0.9\n",
      "\u001b[34m\u001b[1mwandb\u001b[0m: \tnum_hidden_layers: 5\n",
      "\u001b[34m\u001b[1mwandb\u001b[0m: \toptimizer: rmsprop\n",
      "\u001b[34m\u001b[1mwandb\u001b[0m: \tweight_decay: 0\n"
     ]
    },
    {
     "data": {
      "text/html": [
       "Tracking run with wandb version 0.19.8"
      ],
      "text/plain": [
       "<IPython.core.display.HTML object>"
      ]
     },
     "metadata": {},
     "output_type": "display_data"
    },
    {
     "data": {
      "text/html": [
       "Run data is saved locally in <code>c:\\Users\\acer\\OneDrive\\Documents\\GitHub\\dl_assignment_ed24s401\\wandb\\run-20250316_200317-8np5n7m6</code>"
      ],
      "text/plain": [
       "<IPython.core.display.HTML object>"
      ]
     },
     "metadata": {},
     "output_type": "display_data"
    },
    {
     "data": {
      "text/html": [
       "Syncing run <strong><a href='https://wandb.ai/ed24s401-indian-institute-of-technology-madras/q4_sweep_project/runs/8np5n7m6' target=\"_blank\">celestial-sweep-10</a></strong> to <a href='https://wandb.ai/ed24s401-indian-institute-of-technology-madras/q4_sweep_project' target=\"_blank\">Weights & Biases</a> (<a href='https://wandb.me/developer-guide' target=\"_blank\">docs</a>)<br>Sweep page: <a href='https://wandb.ai/ed24s401-indian-institute-of-technology-madras/q4_sweep_project/sweeps/p60nv46x' target=\"_blank\">https://wandb.ai/ed24s401-indian-institute-of-technology-madras/q4_sweep_project/sweeps/p60nv46x</a>"
      ],
      "text/plain": [
       "<IPython.core.display.HTML object>"
      ]
     },
     "metadata": {},
     "output_type": "display_data"
    },
    {
     "data": {
      "text/html": [
       " View project at <a href='https://wandb.ai/ed24s401-indian-institute-of-technology-madras/q4_sweep_project' target=\"_blank\">https://wandb.ai/ed24s401-indian-institute-of-technology-madras/q4_sweep_project</a>"
      ],
      "text/plain": [
       "<IPython.core.display.HTML object>"
      ]
     },
     "metadata": {},
     "output_type": "display_data"
    },
    {
     "data": {
      "text/html": [
       " View sweep at <a href='https://wandb.ai/ed24s401-indian-institute-of-technology-madras/q4_sweep_project/sweeps/p60nv46x' target=\"_blank\">https://wandb.ai/ed24s401-indian-institute-of-technology-madras/q4_sweep_project/sweeps/p60nv46x</a>"
      ],
      "text/plain": [
       "<IPython.core.display.HTML object>"
      ]
     },
     "metadata": {},
     "output_type": "display_data"
    },
    {
     "data": {
      "text/html": [
       " View run at <a href='https://wandb.ai/ed24s401-indian-institute-of-technology-madras/q4_sweep_project/runs/8np5n7m6' target=\"_blank\">https://wandb.ai/ed24s401-indian-institute-of-technology-madras/q4_sweep_project/runs/8np5n7m6</a>"
      ],
      "text/plain": [
       "<IPython.core.display.HTML object>"
      ]
     },
     "metadata": {},
     "output_type": "display_data"
    },
    {
     "name": "stdout",
     "output_type": "stream",
     "text": [
      "Epoch 1/10 - loss=0.5553, val_acc=0.8282, val_loss=0.4502716316380152\n",
      "Epoch 2/10 - loss=0.4163, val_acc=0.8480, val_loss=0.42432164110251913\n",
      "Epoch 3/10 - loss=0.3919, val_acc=0.8623, val_loss=0.3812924125999896\n",
      "Epoch 4/10 - loss=0.3840, val_acc=0.8690, val_loss=0.4012169075061982\n",
      "Epoch 5/10 - loss=0.3837, val_acc=0.8687, val_loss=0.39931507821164314\n",
      "Epoch 6/10 - loss=0.3857, val_acc=0.8615, val_loss=0.40627183501358344\n",
      "Epoch 7/10 - loss=0.3884, val_acc=0.8632, val_loss=0.4016074682796713\n",
      "Epoch 8/10 - loss=0.3928, val_acc=0.8398, val_loss=0.5069759598151149\n",
      "Epoch 9/10 - loss=0.3916, val_acc=0.8578, val_loss=0.4444773724894061\n",
      "Epoch 10/10 - loss=0.3890, val_acc=0.8718, val_loss=0.42694463804726085\n",
      "test accuracy  0.8656\n"
     ]
    },
    {
     "data": {
      "text/html": [],
      "text/plain": [
       "<IPython.core.display.HTML object>"
      ]
     },
     "metadata": {},
     "output_type": "display_data"
    },
    {
     "data": {
      "text/html": [
       "<br>    <style><br>        .wandb-row {<br>            display: flex;<br>            flex-direction: row;<br>            flex-wrap: wrap;<br>            justify-content: flex-start;<br>            width: 100%;<br>        }<br>        .wandb-col {<br>            display: flex;<br>            flex-direction: column;<br>            flex-basis: 100%;<br>            flex: 1;<br>            padding: 10px;<br>        }<br>    </style><br><div class=\"wandb-row\"><div class=\"wandb-col\"><h3>Run history:</h3><br/><table class=\"wandb\"><tr><td>epoch</td><td>▁▂▃▃▄▅▆▆▇█</td></tr><tr><td>test_accuracy</td><td>▁</td></tr><tr><td>training_loss</td><td>█▂▁▁▁▁▁▁▁▁</td></tr><tr><td>validation loss</td><td>▅▃▁▂▂▂▂█▅▄</td></tr><tr><td>validation_accuracy</td><td>▁▄▆█▇▆▇▃▆█</td></tr></table><br/></div><div class=\"wandb-col\"><h3>Run summary:</h3><br/><table class=\"wandb\"><tr><td>epoch</td><td>10</td></tr><tr><td>test_accuracy</td><td>0.8656</td></tr><tr><td>training_loss</td><td>0.38904</td></tr><tr><td>validation loss</td><td>0.42694</td></tr><tr><td>validation_accuracy</td><td>0.87183</td></tr></table><br/></div></div>"
      ],
      "text/plain": [
       "<IPython.core.display.HTML object>"
      ]
     },
     "metadata": {},
     "output_type": "display_data"
    },
    {
     "data": {
      "text/html": [
       " View run <strong style=\"color:#cdcd00\">hl_5_bs_32_ac_relu_opt_rmsprop</strong> at: <a href='https://wandb.ai/ed24s401-indian-institute-of-technology-madras/q4_sweep_project/runs/8np5n7m6' target=\"_blank\">https://wandb.ai/ed24s401-indian-institute-of-technology-madras/q4_sweep_project/runs/8np5n7m6</a><br> View project at: <a href='https://wandb.ai/ed24s401-indian-institute-of-technology-madras/q4_sweep_project' target=\"_blank\">https://wandb.ai/ed24s401-indian-institute-of-technology-madras/q4_sweep_project</a><br>Synced 5 W&B file(s), 0 media file(s), 0 artifact file(s) and 0 other file(s)"
      ],
      "text/plain": [
       "<IPython.core.display.HTML object>"
      ]
     },
     "metadata": {},
     "output_type": "display_data"
    },
    {
     "data": {
      "text/html": [
       "Find logs at: <code>.\\wandb\\run-20250316_200317-8np5n7m6\\logs</code>"
      ],
      "text/plain": [
       "<IPython.core.display.HTML object>"
      ]
     },
     "metadata": {},
     "output_type": "display_data"
    },
    {
     "name": "stderr",
     "output_type": "stream",
     "text": [
      "\u001b[34m\u001b[1mwandb\u001b[0m: Agent Starting Run: d7kc72pl with config:\n",
      "\u001b[34m\u001b[1mwandb\u001b[0m: \tactivation: tanh\n",
      "\u001b[34m\u001b[1mwandb\u001b[0m: \tbatch_size: 32\n",
      "\u001b[34m\u001b[1mwandb\u001b[0m: \tbeta1: 0.9\n",
      "\u001b[34m\u001b[1mwandb\u001b[0m: \tbeta2: 0.999\n",
      "\u001b[34m\u001b[1mwandb\u001b[0m: \tbeta_rms: 0.9\n",
      "\u001b[34m\u001b[1mwandb\u001b[0m: \tepochs: 10\n",
      "\u001b[34m\u001b[1mwandb\u001b[0m: \tepsilon: 1e-08\n",
      "\u001b[34m\u001b[1mwandb\u001b[0m: \thidden_size: 128\n",
      "\u001b[34m\u001b[1mwandb\u001b[0m: \tinit_type: xavier\n",
      "\u001b[34m\u001b[1mwandb\u001b[0m: \tlearning_rate: 0.0001\n",
      "\u001b[34m\u001b[1mwandb\u001b[0m: \tmomentum: 0.8\n",
      "\u001b[34m\u001b[1mwandb\u001b[0m: \tnum_hidden_layers: 5\n",
      "\u001b[34m\u001b[1mwandb\u001b[0m: \toptimizer: momentum\n",
      "\u001b[34m\u001b[1mwandb\u001b[0m: \tweight_decay: 0\n"
     ]
    },
    {
     "data": {
      "text/html": [
       "Tracking run with wandb version 0.19.8"
      ],
      "text/plain": [
       "<IPython.core.display.HTML object>"
      ]
     },
     "metadata": {},
     "output_type": "display_data"
    },
    {
     "data": {
      "text/html": [
       "Run data is saved locally in <code>c:\\Users\\acer\\OneDrive\\Documents\\GitHub\\dl_assignment_ed24s401\\wandb\\run-20250316_200410-d7kc72pl</code>"
      ],
      "text/plain": [
       "<IPython.core.display.HTML object>"
      ]
     },
     "metadata": {},
     "output_type": "display_data"
    },
    {
     "data": {
      "text/html": [
       "Syncing run <strong><a href='https://wandb.ai/ed24s401-indian-institute-of-technology-madras/q4_sweep_project/runs/d7kc72pl' target=\"_blank\">ancient-sweep-11</a></strong> to <a href='https://wandb.ai/ed24s401-indian-institute-of-technology-madras/q4_sweep_project' target=\"_blank\">Weights & Biases</a> (<a href='https://wandb.me/developer-guide' target=\"_blank\">docs</a>)<br>Sweep page: <a href='https://wandb.ai/ed24s401-indian-institute-of-technology-madras/q4_sweep_project/sweeps/p60nv46x' target=\"_blank\">https://wandb.ai/ed24s401-indian-institute-of-technology-madras/q4_sweep_project/sweeps/p60nv46x</a>"
      ],
      "text/plain": [
       "<IPython.core.display.HTML object>"
      ]
     },
     "metadata": {},
     "output_type": "display_data"
    },
    {
     "data": {
      "text/html": [
       " View project at <a href='https://wandb.ai/ed24s401-indian-institute-of-technology-madras/q4_sweep_project' target=\"_blank\">https://wandb.ai/ed24s401-indian-institute-of-technology-madras/q4_sweep_project</a>"
      ],
      "text/plain": [
       "<IPython.core.display.HTML object>"
      ]
     },
     "metadata": {},
     "output_type": "display_data"
    },
    {
     "data": {
      "text/html": [
       " View sweep at <a href='https://wandb.ai/ed24s401-indian-institute-of-technology-madras/q4_sweep_project/sweeps/p60nv46x' target=\"_blank\">https://wandb.ai/ed24s401-indian-institute-of-technology-madras/q4_sweep_project/sweeps/p60nv46x</a>"
      ],
      "text/plain": [
       "<IPython.core.display.HTML object>"
      ]
     },
     "metadata": {},
     "output_type": "display_data"
    },
    {
     "data": {
      "text/html": [
       " View run at <a href='https://wandb.ai/ed24s401-indian-institute-of-technology-madras/q4_sweep_project/runs/d7kc72pl' target=\"_blank\">https://wandb.ai/ed24s401-indian-institute-of-technology-madras/q4_sweep_project/runs/d7kc72pl</a>"
      ],
      "text/plain": [
       "<IPython.core.display.HTML object>"
      ]
     },
     "metadata": {},
     "output_type": "display_data"
    },
    {
     "name": "stdout",
     "output_type": "stream",
     "text": [
      "Epoch 1/10 - loss=1.8201, val_acc=0.6285, val_loss=1.4182794127681342\n",
      "Epoch 2/10 - loss=1.2176, val_acc=0.6615, val_loss=1.0795495502435692\n",
      "Epoch 3/10 - loss=0.9810, val_acc=0.6913, val_loss=0.916333560681336\n",
      "Epoch 4/10 - loss=0.8531, val_acc=0.7242, val_loss=0.8176308782402324\n",
      "Epoch 5/10 - loss=0.7706, val_acc=0.7383, val_loss=0.7493140426217068\n",
      "Epoch 6/10 - loss=0.7109, val_acc=0.7557, val_loss=0.6978554089214497\n",
      "Epoch 7/10 - loss=0.6642, val_acc=0.7702, val_loss=0.6565216775726654\n",
      "Epoch 8/10 - loss=0.6268, val_acc=0.7792, val_loss=0.6239664273975669\n",
      "Epoch 9/10 - loss=0.5962, val_acc=0.7862, val_loss=0.5977701306216459\n",
      "Epoch 10/10 - loss=0.5711, val_acc=0.7950, val_loss=0.5747982165197526\n",
      "test accuracy  0.7966\n"
     ]
    },
    {
     "data": {
      "text/html": [],
      "text/plain": [
       "<IPython.core.display.HTML object>"
      ]
     },
     "metadata": {},
     "output_type": "display_data"
    },
    {
     "data": {
      "text/html": [
       "<br>    <style><br>        .wandb-row {<br>            display: flex;<br>            flex-direction: row;<br>            flex-wrap: wrap;<br>            justify-content: flex-start;<br>            width: 100%;<br>        }<br>        .wandb-col {<br>            display: flex;<br>            flex-direction: column;<br>            flex-basis: 100%;<br>            flex: 1;<br>            padding: 10px;<br>        }<br>    </style><br><div class=\"wandb-row\"><div class=\"wandb-col\"><h3>Run history:</h3><br/><table class=\"wandb\"><tr><td>epoch</td><td>▁▂▃▃▄▅▆▆▇█</td></tr><tr><td>test_accuracy</td><td>▁</td></tr><tr><td>training_loss</td><td>█▅▃▃▂▂▂▁▁▁</td></tr><tr><td>validation loss</td><td>█▅▄▃▂▂▂▁▁▁</td></tr><tr><td>validation_accuracy</td><td>▁▂▄▅▆▆▇▇██</td></tr></table><br/></div><div class=\"wandb-col\"><h3>Run summary:</h3><br/><table class=\"wandb\"><tr><td>epoch</td><td>10</td></tr><tr><td>test_accuracy</td><td>0.7966</td></tr><tr><td>training_loss</td><td>0.57108</td></tr><tr><td>validation loss</td><td>0.5748</td></tr><tr><td>validation_accuracy</td><td>0.795</td></tr></table><br/></div></div>"
      ],
      "text/plain": [
       "<IPython.core.display.HTML object>"
      ]
     },
     "metadata": {},
     "output_type": "display_data"
    },
    {
     "data": {
      "text/html": [
       " View run <strong style=\"color:#cdcd00\">hl_5_bs_32_ac_tanh_opt_momentum</strong> at: <a href='https://wandb.ai/ed24s401-indian-institute-of-technology-madras/q4_sweep_project/runs/d7kc72pl' target=\"_blank\">https://wandb.ai/ed24s401-indian-institute-of-technology-madras/q4_sweep_project/runs/d7kc72pl</a><br> View project at: <a href='https://wandb.ai/ed24s401-indian-institute-of-technology-madras/q4_sweep_project' target=\"_blank\">https://wandb.ai/ed24s401-indian-institute-of-technology-madras/q4_sweep_project</a><br>Synced 5 W&B file(s), 0 media file(s), 0 artifact file(s) and 0 other file(s)"
      ],
      "text/plain": [
       "<IPython.core.display.HTML object>"
      ]
     },
     "metadata": {},
     "output_type": "display_data"
    },
    {
     "data": {
      "text/html": [
       "Find logs at: <code>.\\wandb\\run-20250316_200410-d7kc72pl\\logs</code>"
      ],
      "text/plain": [
       "<IPython.core.display.HTML object>"
      ]
     },
     "metadata": {},
     "output_type": "display_data"
    },
    {
     "name": "stderr",
     "output_type": "stream",
     "text": [
      "\u001b[34m\u001b[1mwandb\u001b[0m: Agent Starting Run: b2u3g9u7 with config:\n",
      "\u001b[34m\u001b[1mwandb\u001b[0m: \tactivation: sigmoid\n",
      "\u001b[34m\u001b[1mwandb\u001b[0m: \tbatch_size: 32\n",
      "\u001b[34m\u001b[1mwandb\u001b[0m: \tbeta1: 0.9\n",
      "\u001b[34m\u001b[1mwandb\u001b[0m: \tbeta2: 0.999\n",
      "\u001b[34m\u001b[1mwandb\u001b[0m: \tbeta_rms: 0.9\n",
      "\u001b[34m\u001b[1mwandb\u001b[0m: \tepochs: 10\n",
      "\u001b[34m\u001b[1mwandb\u001b[0m: \tepsilon: 1e-08\n",
      "\u001b[34m\u001b[1mwandb\u001b[0m: \thidden_size: 128\n",
      "\u001b[34m\u001b[1mwandb\u001b[0m: \tinit_type: xavier\n",
      "\u001b[34m\u001b[1mwandb\u001b[0m: \tlearning_rate: 0.001\n",
      "\u001b[34m\u001b[1mwandb\u001b[0m: \tmomentum: 0.9\n",
      "\u001b[34m\u001b[1mwandb\u001b[0m: \tnum_hidden_layers: 5\n",
      "\u001b[34m\u001b[1mwandb\u001b[0m: \toptimizer: adam\n",
      "\u001b[34m\u001b[1mwandb\u001b[0m: \tweight_decay: 0.0005\n"
     ]
    },
    {
     "data": {
      "text/html": [
       "Tracking run with wandb version 0.19.8"
      ],
      "text/plain": [
       "<IPython.core.display.HTML object>"
      ]
     },
     "metadata": {},
     "output_type": "display_data"
    },
    {
     "data": {
      "text/html": [
       "Run data is saved locally in <code>c:\\Users\\acer\\OneDrive\\Documents\\GitHub\\dl_assignment_ed24s401\\wandb\\run-20250316_200607-b2u3g9u7</code>"
      ],
      "text/plain": [
       "<IPython.core.display.HTML object>"
      ]
     },
     "metadata": {},
     "output_type": "display_data"
    },
    {
     "data": {
      "text/html": [
       "Syncing run <strong><a href='https://wandb.ai/ed24s401-indian-institute-of-technology-madras/q4_sweep_project/runs/b2u3g9u7' target=\"_blank\">hopeful-sweep-12</a></strong> to <a href='https://wandb.ai/ed24s401-indian-institute-of-technology-madras/q4_sweep_project' target=\"_blank\">Weights & Biases</a> (<a href='https://wandb.me/developer-guide' target=\"_blank\">docs</a>)<br>Sweep page: <a href='https://wandb.ai/ed24s401-indian-institute-of-technology-madras/q4_sweep_project/sweeps/p60nv46x' target=\"_blank\">https://wandb.ai/ed24s401-indian-institute-of-technology-madras/q4_sweep_project/sweeps/p60nv46x</a>"
      ],
      "text/plain": [
       "<IPython.core.display.HTML object>"
      ]
     },
     "metadata": {},
     "output_type": "display_data"
    },
    {
     "data": {
      "text/html": [
       " View project at <a href='https://wandb.ai/ed24s401-indian-institute-of-technology-madras/q4_sweep_project' target=\"_blank\">https://wandb.ai/ed24s401-indian-institute-of-technology-madras/q4_sweep_project</a>"
      ],
      "text/plain": [
       "<IPython.core.display.HTML object>"
      ]
     },
     "metadata": {},
     "output_type": "display_data"
    },
    {
     "data": {
      "text/html": [
       " View sweep at <a href='https://wandb.ai/ed24s401-indian-institute-of-technology-madras/q4_sweep_project/sweeps/p60nv46x' target=\"_blank\">https://wandb.ai/ed24s401-indian-institute-of-technology-madras/q4_sweep_project/sweeps/p60nv46x</a>"
      ],
      "text/plain": [
       "<IPython.core.display.HTML object>"
      ]
     },
     "metadata": {},
     "output_type": "display_data"
    },
    {
     "data": {
      "text/html": [
       " View run at <a href='https://wandb.ai/ed24s401-indian-institute-of-technology-madras/q4_sweep_project/runs/b2u3g9u7' target=\"_blank\">https://wandb.ai/ed24s401-indian-institute-of-technology-madras/q4_sweep_project/runs/b2u3g9u7</a>"
      ],
      "text/plain": [
       "<IPython.core.display.HTML object>"
      ]
     },
     "metadata": {},
     "output_type": "display_data"
    },
    {
     "name": "stdout",
     "output_type": "stream",
     "text": [
      "Epoch 1/10 - loss=1.4049, val_acc=0.6580, val_loss=0.8802240088826195\n",
      "Epoch 2/10 - loss=0.9893, val_acc=0.6897, val_loss=0.7898220231309623\n",
      "Epoch 3/10 - loss=0.9177, val_acc=0.7102, val_loss=0.7576589613292878\n",
      "Epoch 4/10 - loss=0.8454, val_acc=0.7783, val_loss=0.6096843799087401\n",
      "Epoch 5/10 - loss=0.7688, val_acc=0.8012, val_loss=0.5732428096530953\n",
      "Epoch 6/10 - loss=0.7143, val_acc=0.8263, val_loss=0.51107325815624\n",
      "Epoch 7/10 - loss=0.6963, val_acc=0.8280, val_loss=0.48082160792455714\n",
      "Epoch 8/10 - loss=0.6796, val_acc=0.8390, val_loss=0.4740562301790807\n",
      "Epoch 9/10 - loss=0.6668, val_acc=0.8388, val_loss=0.4716351772123521\n",
      "Epoch 10/10 - loss=0.6625, val_acc=0.8365, val_loss=0.4660809467256131\n",
      "test accuracy  0.8336\n"
     ]
    },
    {
     "data": {
      "text/html": [],
      "text/plain": [
       "<IPython.core.display.HTML object>"
      ]
     },
     "metadata": {},
     "output_type": "display_data"
    },
    {
     "data": {
      "text/html": [
       "<br>    <style><br>        .wandb-row {<br>            display: flex;<br>            flex-direction: row;<br>            flex-wrap: wrap;<br>            justify-content: flex-start;<br>            width: 100%;<br>        }<br>        .wandb-col {<br>            display: flex;<br>            flex-direction: column;<br>            flex-basis: 100%;<br>            flex: 1;<br>            padding: 10px;<br>        }<br>    </style><br><div class=\"wandb-row\"><div class=\"wandb-col\"><h3>Run history:</h3><br/><table class=\"wandb\"><tr><td>epoch</td><td>▁▂▃▃▄▅▆▆▇█</td></tr><tr><td>test_accuracy</td><td>▁</td></tr><tr><td>training_loss</td><td>█▄▃▃▂▁▁▁▁▁</td></tr><tr><td>validation loss</td><td>█▆▆▃▃▂▁▁▁▁</td></tr><tr><td>validation_accuracy</td><td>▁▂▃▆▇█████</td></tr></table><br/></div><div class=\"wandb-col\"><h3>Run summary:</h3><br/><table class=\"wandb\"><tr><td>epoch</td><td>10</td></tr><tr><td>test_accuracy</td><td>0.8336</td></tr><tr><td>training_loss</td><td>0.66249</td></tr><tr><td>validation loss</td><td>0.46608</td></tr><tr><td>validation_accuracy</td><td>0.8365</td></tr></table><br/></div></div>"
      ],
      "text/plain": [
       "<IPython.core.display.HTML object>"
      ]
     },
     "metadata": {},
     "output_type": "display_data"
    },
    {
     "data": {
      "text/html": [
       " View run <strong style=\"color:#cdcd00\">hl_5_bs_32_ac_sigmoid_opt_adam</strong> at: <a href='https://wandb.ai/ed24s401-indian-institute-of-technology-madras/q4_sweep_project/runs/b2u3g9u7' target=\"_blank\">https://wandb.ai/ed24s401-indian-institute-of-technology-madras/q4_sweep_project/runs/b2u3g9u7</a><br> View project at: <a href='https://wandb.ai/ed24s401-indian-institute-of-technology-madras/q4_sweep_project' target=\"_blank\">https://wandb.ai/ed24s401-indian-institute-of-technology-madras/q4_sweep_project</a><br>Synced 5 W&B file(s), 0 media file(s), 0 artifact file(s) and 0 other file(s)"
      ],
      "text/plain": [
       "<IPython.core.display.HTML object>"
      ]
     },
     "metadata": {},
     "output_type": "display_data"
    },
    {
     "data": {
      "text/html": [
       "Find logs at: <code>.\\wandb\\run-20250316_200607-b2u3g9u7\\logs</code>"
      ],
      "text/plain": [
       "<IPython.core.display.HTML object>"
      ]
     },
     "metadata": {},
     "output_type": "display_data"
    },
    {
     "name": "stderr",
     "output_type": "stream",
     "text": [
      "\u001b[34m\u001b[1mwandb\u001b[0m: Agent Starting Run: rzj40vla with config:\n",
      "\u001b[34m\u001b[1mwandb\u001b[0m: \tactivation: relu\n",
      "\u001b[34m\u001b[1mwandb\u001b[0m: \tbatch_size: 32\n",
      "\u001b[34m\u001b[1mwandb\u001b[0m: \tbeta1: 0.9\n",
      "\u001b[34m\u001b[1mwandb\u001b[0m: \tbeta2: 0.999\n",
      "\u001b[34m\u001b[1mwandb\u001b[0m: \tbeta_rms: 0.9\n",
      "\u001b[34m\u001b[1mwandb\u001b[0m: \tepochs: 10\n",
      "\u001b[34m\u001b[1mwandb\u001b[0m: \tepsilon: 1e-08\n",
      "\u001b[34m\u001b[1mwandb\u001b[0m: \thidden_size: 128\n",
      "\u001b[34m\u001b[1mwandb\u001b[0m: \tinit_type: random\n",
      "\u001b[34m\u001b[1mwandb\u001b[0m: \tlearning_rate: 0.0001\n",
      "\u001b[34m\u001b[1mwandb\u001b[0m: \tmomentum: 0.8\n",
      "\u001b[34m\u001b[1mwandb\u001b[0m: \tnum_hidden_layers: 3\n",
      "\u001b[34m\u001b[1mwandb\u001b[0m: \toptimizer: rmsprop\n",
      "\u001b[34m\u001b[1mwandb\u001b[0m: \tweight_decay: 0.0005\n"
     ]
    },
    {
     "data": {
      "text/html": [
       "Tracking run with wandb version 0.19.8"
      ],
      "text/plain": [
       "<IPython.core.display.HTML object>"
      ]
     },
     "metadata": {},
     "output_type": "display_data"
    },
    {
     "data": {
      "text/html": [
       "Run data is saved locally in <code>c:\\Users\\acer\\OneDrive\\Documents\\GitHub\\dl_assignment_ed24s401\\wandb\\run-20250316_200825-rzj40vla</code>"
      ],
      "text/plain": [
       "<IPython.core.display.HTML object>"
      ]
     },
     "metadata": {},
     "output_type": "display_data"
    },
    {
     "data": {
      "text/html": [
       "Syncing run <strong><a href='https://wandb.ai/ed24s401-indian-institute-of-technology-madras/q4_sweep_project/runs/rzj40vla' target=\"_blank\">playful-sweep-13</a></strong> to <a href='https://wandb.ai/ed24s401-indian-institute-of-technology-madras/q4_sweep_project' target=\"_blank\">Weights & Biases</a> (<a href='https://wandb.me/developer-guide' target=\"_blank\">docs</a>)<br>Sweep page: <a href='https://wandb.ai/ed24s401-indian-institute-of-technology-madras/q4_sweep_project/sweeps/p60nv46x' target=\"_blank\">https://wandb.ai/ed24s401-indian-institute-of-technology-madras/q4_sweep_project/sweeps/p60nv46x</a>"
      ],
      "text/plain": [
       "<IPython.core.display.HTML object>"
      ]
     },
     "metadata": {},
     "output_type": "display_data"
    },
    {
     "data": {
      "text/html": [
       " View project at <a href='https://wandb.ai/ed24s401-indian-institute-of-technology-madras/q4_sweep_project' target=\"_blank\">https://wandb.ai/ed24s401-indian-institute-of-technology-madras/q4_sweep_project</a>"
      ],
      "text/plain": [
       "<IPython.core.display.HTML object>"
      ]
     },
     "metadata": {},
     "output_type": "display_data"
    },
    {
     "data": {
      "text/html": [
       " View sweep at <a href='https://wandb.ai/ed24s401-indian-institute-of-technology-madras/q4_sweep_project/sweeps/p60nv46x' target=\"_blank\">https://wandb.ai/ed24s401-indian-institute-of-technology-madras/q4_sweep_project/sweeps/p60nv46x</a>"
      ],
      "text/plain": [
       "<IPython.core.display.HTML object>"
      ]
     },
     "metadata": {},
     "output_type": "display_data"
    },
    {
     "data": {
      "text/html": [
       " View run at <a href='https://wandb.ai/ed24s401-indian-institute-of-technology-madras/q4_sweep_project/runs/rzj40vla' target=\"_blank\">https://wandb.ai/ed24s401-indian-institute-of-technology-madras/q4_sweep_project/runs/rzj40vla</a>"
      ],
      "text/plain": [
       "<IPython.core.display.HTML object>"
      ]
     },
     "metadata": {},
     "output_type": "display_data"
    },
    {
     "name": "stdout",
     "output_type": "stream",
     "text": [
      "Epoch 1/10 - loss=0.8189, val_acc=0.8330, val_loss=0.47288786305722436\n",
      "Epoch 2/10 - loss=0.5876, val_acc=0.8490, val_loss=0.42048123166841916\n",
      "Epoch 3/10 - loss=0.5446, val_acc=0.8553, val_loss=0.40074556277352696\n",
      "Epoch 4/10 - loss=0.5177, val_acc=0.8617, val_loss=0.37286030160037376\n",
      "Epoch 5/10 - loss=0.4973, val_acc=0.8620, val_loss=0.3725171362276269\n",
      "Epoch 6/10 - loss=0.4816, val_acc=0.8667, val_loss=0.3578653649249147\n",
      "Epoch 7/10 - loss=0.4685, val_acc=0.8707, val_loss=0.34814295280925867\n",
      "Epoch 8/10 - loss=0.4573, val_acc=0.8785, val_loss=0.3339394323350977\n",
      "Epoch 9/10 - loss=0.4464, val_acc=0.8735, val_loss=0.3362757898576429\n",
      "Epoch 10/10 - loss=0.4362, val_acc=0.8832, val_loss=0.3229743905907827\n",
      "test accuracy  0.876\n"
     ]
    },
    {
     "data": {
      "text/html": [],
      "text/plain": [
       "<IPython.core.display.HTML object>"
      ]
     },
     "metadata": {},
     "output_type": "display_data"
    },
    {
     "data": {
      "text/html": [
       "<br>    <style><br>        .wandb-row {<br>            display: flex;<br>            flex-direction: row;<br>            flex-wrap: wrap;<br>            justify-content: flex-start;<br>            width: 100%;<br>        }<br>        .wandb-col {<br>            display: flex;<br>            flex-direction: column;<br>            flex-basis: 100%;<br>            flex: 1;<br>            padding: 10px;<br>        }<br>    </style><br><div class=\"wandb-row\"><div class=\"wandb-col\"><h3>Run history:</h3><br/><table class=\"wandb\"><tr><td>epoch</td><td>▁▂▃▃▄▅▆▆▇█</td></tr><tr><td>test_accuracy</td><td>▁</td></tr><tr><td>training_loss</td><td>█▄▃▂▂▂▂▁▁▁</td></tr><tr><td>validation loss</td><td>█▆▅▃▃▃▂▂▂▁</td></tr><tr><td>validation_accuracy</td><td>▁▃▄▅▅▆▆▇▇█</td></tr></table><br/></div><div class=\"wandb-col\"><h3>Run summary:</h3><br/><table class=\"wandb\"><tr><td>epoch</td><td>10</td></tr><tr><td>test_accuracy</td><td>0.876</td></tr><tr><td>training_loss</td><td>0.43622</td></tr><tr><td>validation loss</td><td>0.32297</td></tr><tr><td>validation_accuracy</td><td>0.88317</td></tr></table><br/></div></div>"
      ],
      "text/plain": [
       "<IPython.core.display.HTML object>"
      ]
     },
     "metadata": {},
     "output_type": "display_data"
    },
    {
     "data": {
      "text/html": [
       " View run <strong style=\"color:#cdcd00\">hl_3_bs_32_ac_relu_opt_rmsprop</strong> at: <a href='https://wandb.ai/ed24s401-indian-institute-of-technology-madras/q4_sweep_project/runs/rzj40vla' target=\"_blank\">https://wandb.ai/ed24s401-indian-institute-of-technology-madras/q4_sweep_project/runs/rzj40vla</a><br> View project at: <a href='https://wandb.ai/ed24s401-indian-institute-of-technology-madras/q4_sweep_project' target=\"_blank\">https://wandb.ai/ed24s401-indian-institute-of-technology-madras/q4_sweep_project</a><br>Synced 5 W&B file(s), 0 media file(s), 0 artifact file(s) and 0 other file(s)"
      ],
      "text/plain": [
       "<IPython.core.display.HTML object>"
      ]
     },
     "metadata": {},
     "output_type": "display_data"
    },
    {
     "data": {
      "text/html": [
       "Find logs at: <code>.\\wandb\\run-20250316_200825-rzj40vla\\logs</code>"
      ],
      "text/plain": [
       "<IPython.core.display.HTML object>"
      ]
     },
     "metadata": {},
     "output_type": "display_data"
    },
    {
     "name": "stderr",
     "output_type": "stream",
     "text": [
      "\u001b[34m\u001b[1mwandb\u001b[0m: Sweep Agent: Waiting for job.\n",
      "\u001b[34m\u001b[1mwandb\u001b[0m: Job received.\n",
      "\u001b[34m\u001b[1mwandb\u001b[0m: Agent Starting Run: 1ybr11n1 with config:\n",
      "\u001b[34m\u001b[1mwandb\u001b[0m: \tactivation: relu\n",
      "\u001b[34m\u001b[1mwandb\u001b[0m: \tbatch_size: 32\n",
      "\u001b[34m\u001b[1mwandb\u001b[0m: \tbeta1: 0.9\n",
      "\u001b[34m\u001b[1mwandb\u001b[0m: \tbeta2: 0.999\n",
      "\u001b[34m\u001b[1mwandb\u001b[0m: \tbeta_rms: 0.9\n",
      "\u001b[34m\u001b[1mwandb\u001b[0m: \tepochs: 10\n",
      "\u001b[34m\u001b[1mwandb\u001b[0m: \tepsilon: 1e-08\n",
      "\u001b[34m\u001b[1mwandb\u001b[0m: \thidden_size: 128\n",
      "\u001b[34m\u001b[1mwandb\u001b[0m: \tinit_type: random\n",
      "\u001b[34m\u001b[1mwandb\u001b[0m: \tlearning_rate: 0.0001\n",
      "\u001b[34m\u001b[1mwandb\u001b[0m: \tmomentum: 0.8\n",
      "\u001b[34m\u001b[1mwandb\u001b[0m: \tnum_hidden_layers: 3\n",
      "\u001b[34m\u001b[1mwandb\u001b[0m: \toptimizer: adam\n",
      "\u001b[34m\u001b[1mwandb\u001b[0m: \tweight_decay: 0\n"
     ]
    },
    {
     "data": {
      "text/html": [
       "Tracking run with wandb version 0.19.8"
      ],
      "text/plain": [
       "<IPython.core.display.HTML object>"
      ]
     },
     "metadata": {},
     "output_type": "display_data"
    },
    {
     "data": {
      "text/html": [
       "Run data is saved locally in <code>c:\\Users\\acer\\OneDrive\\Documents\\GitHub\\dl_assignment_ed24s401\\wandb\\run-20250316_201004-1ybr11n1</code>"
      ],
      "text/plain": [
       "<IPython.core.display.HTML object>"
      ]
     },
     "metadata": {},
     "output_type": "display_data"
    },
    {
     "data": {
      "text/html": [
       "Syncing run <strong><a href='https://wandb.ai/ed24s401-indian-institute-of-technology-madras/q4_sweep_project/runs/1ybr11n1' target=\"_blank\">bumbling-sweep-14</a></strong> to <a href='https://wandb.ai/ed24s401-indian-institute-of-technology-madras/q4_sweep_project' target=\"_blank\">Weights & Biases</a> (<a href='https://wandb.me/developer-guide' target=\"_blank\">docs</a>)<br>Sweep page: <a href='https://wandb.ai/ed24s401-indian-institute-of-technology-madras/q4_sweep_project/sweeps/p60nv46x' target=\"_blank\">https://wandb.ai/ed24s401-indian-institute-of-technology-madras/q4_sweep_project/sweeps/p60nv46x</a>"
      ],
      "text/plain": [
       "<IPython.core.display.HTML object>"
      ]
     },
     "metadata": {},
     "output_type": "display_data"
    },
    {
     "data": {
      "text/html": [
       " View project at <a href='https://wandb.ai/ed24s401-indian-institute-of-technology-madras/q4_sweep_project' target=\"_blank\">https://wandb.ai/ed24s401-indian-institute-of-technology-madras/q4_sweep_project</a>"
      ],
      "text/plain": [
       "<IPython.core.display.HTML object>"
      ]
     },
     "metadata": {},
     "output_type": "display_data"
    },
    {
     "data": {
      "text/html": [
       " View sweep at <a href='https://wandb.ai/ed24s401-indian-institute-of-technology-madras/q4_sweep_project/sweeps/p60nv46x' target=\"_blank\">https://wandb.ai/ed24s401-indian-institute-of-technology-madras/q4_sweep_project/sweeps/p60nv46x</a>"
      ],
      "text/plain": [
       "<IPython.core.display.HTML object>"
      ]
     },
     "metadata": {},
     "output_type": "display_data"
    },
    {
     "data": {
      "text/html": [
       " View run at <a href='https://wandb.ai/ed24s401-indian-institute-of-technology-madras/q4_sweep_project/runs/1ybr11n1' target=\"_blank\">https://wandb.ai/ed24s401-indian-institute-of-technology-madras/q4_sweep_project/runs/1ybr11n1</a>"
      ],
      "text/plain": [
       "<IPython.core.display.HTML object>"
      ]
     },
     "metadata": {},
     "output_type": "display_data"
    },
    {
     "name": "stdout",
     "output_type": "stream",
     "text": [
      "Epoch 1/10 - loss=0.6495, val_acc=0.8287, val_loss=0.4716594105169914\n",
      "Epoch 2/10 - loss=0.4239, val_acc=0.8508, val_loss=0.4094628426307846\n",
      "Epoch 3/10 - loss=0.3844, val_acc=0.8553, val_loss=0.4017706956811508\n",
      "Epoch 4/10 - loss=0.3606, val_acc=0.8672, val_loss=0.36979783960650636\n",
      "Epoch 5/10 - loss=0.3414, val_acc=0.8645, val_loss=0.3633434222988479\n",
      "Epoch 6/10 - loss=0.3276, val_acc=0.8720, val_loss=0.3461213650769512\n",
      "Epoch 7/10 - loss=0.3138, val_acc=0.8745, val_loss=0.339501928620412\n",
      "Epoch 8/10 - loss=0.3028, val_acc=0.8777, val_loss=0.32613300740102114\n",
      "Epoch 9/10 - loss=0.2913, val_acc=0.8803, val_loss=0.32298694665596944\n",
      "Epoch 10/10 - loss=0.2815, val_acc=0.8817, val_loss=0.31899116400933514\n",
      "test accuracy  0.8767\n"
     ]
    },
    {
     "data": {
      "text/html": [],
      "text/plain": [
       "<IPython.core.display.HTML object>"
      ]
     },
     "metadata": {},
     "output_type": "display_data"
    },
    {
     "data": {
      "text/html": [
       "<br>    <style><br>        .wandb-row {<br>            display: flex;<br>            flex-direction: row;<br>            flex-wrap: wrap;<br>            justify-content: flex-start;<br>            width: 100%;<br>        }<br>        .wandb-col {<br>            display: flex;<br>            flex-direction: column;<br>            flex-basis: 100%;<br>            flex: 1;<br>            padding: 10px;<br>        }<br>    </style><br><div class=\"wandb-row\"><div class=\"wandb-col\"><h3>Run history:</h3><br/><table class=\"wandb\"><tr><td>epoch</td><td>▁▂▃▃▄▅▆▆▇█</td></tr><tr><td>test_accuracy</td><td>▁</td></tr><tr><td>training_loss</td><td>█▄▃▃▂▂▂▁▁▁</td></tr><tr><td>validation loss</td><td>█▅▅▃▃▂▂▁▁▁</td></tr><tr><td>validation_accuracy</td><td>▁▄▅▆▆▇▇▇██</td></tr></table><br/></div><div class=\"wandb-col\"><h3>Run summary:</h3><br/><table class=\"wandb\"><tr><td>epoch</td><td>10</td></tr><tr><td>test_accuracy</td><td>0.8767</td></tr><tr><td>training_loss</td><td>0.28153</td></tr><tr><td>validation loss</td><td>0.31899</td></tr><tr><td>validation_accuracy</td><td>0.88167</td></tr></table><br/></div></div>"
      ],
      "text/plain": [
       "<IPython.core.display.HTML object>"
      ]
     },
     "metadata": {},
     "output_type": "display_data"
    },
    {
     "data": {
      "text/html": [
       " View run <strong style=\"color:#cdcd00\">hl_3_bs_32_ac_relu_opt_adam</strong> at: <a href='https://wandb.ai/ed24s401-indian-institute-of-technology-madras/q4_sweep_project/runs/1ybr11n1' target=\"_blank\">https://wandb.ai/ed24s401-indian-institute-of-technology-madras/q4_sweep_project/runs/1ybr11n1</a><br> View project at: <a href='https://wandb.ai/ed24s401-indian-institute-of-technology-madras/q4_sweep_project' target=\"_blank\">https://wandb.ai/ed24s401-indian-institute-of-technology-madras/q4_sweep_project</a><br>Synced 5 W&B file(s), 0 media file(s), 0 artifact file(s) and 0 other file(s)"
      ],
      "text/plain": [
       "<IPython.core.display.HTML object>"
      ]
     },
     "metadata": {},
     "output_type": "display_data"
    },
    {
     "data": {
      "text/html": [
       "Find logs at: <code>.\\wandb\\run-20250316_201004-1ybr11n1\\logs</code>"
      ],
      "text/plain": [
       "<IPython.core.display.HTML object>"
      ]
     },
     "metadata": {},
     "output_type": "display_data"
    },
    {
     "name": "stderr",
     "output_type": "stream",
     "text": [
      "\u001b[34m\u001b[1mwandb\u001b[0m: Sweep Agent: Waiting for job.\n",
      "\u001b[34m\u001b[1mwandb\u001b[0m: Job received.\n",
      "\u001b[34m\u001b[1mwandb\u001b[0m: Agent Starting Run: nglt2wjb with config:\n",
      "\u001b[34m\u001b[1mwandb\u001b[0m: \tactivation: relu\n",
      "\u001b[34m\u001b[1mwandb\u001b[0m: \tbatch_size: 32\n",
      "\u001b[34m\u001b[1mwandb\u001b[0m: \tbeta1: 0.9\n",
      "\u001b[34m\u001b[1mwandb\u001b[0m: \tbeta2: 0.999\n",
      "\u001b[34m\u001b[1mwandb\u001b[0m: \tbeta_rms: 0.9\n",
      "\u001b[34m\u001b[1mwandb\u001b[0m: \tepochs: 10\n",
      "\u001b[34m\u001b[1mwandb\u001b[0m: \tepsilon: 1e-08\n",
      "\u001b[34m\u001b[1mwandb\u001b[0m: \thidden_size: 128\n",
      "\u001b[34m\u001b[1mwandb\u001b[0m: \tinit_type: xavier\n",
      "\u001b[34m\u001b[1mwandb\u001b[0m: \tlearning_rate: 0.001\n",
      "\u001b[34m\u001b[1mwandb\u001b[0m: \tmomentum: 0.9\n",
      "\u001b[34m\u001b[1mwandb\u001b[0m: \tnum_hidden_layers: 3\n",
      "\u001b[34m\u001b[1mwandb\u001b[0m: \toptimizer: nesterov\n",
      "\u001b[34m\u001b[1mwandb\u001b[0m: \tweight_decay: 0\n"
     ]
    },
    {
     "data": {
      "text/html": [
       "Tracking run with wandb version 0.19.8"
      ],
      "text/plain": [
       "<IPython.core.display.HTML object>"
      ]
     },
     "metadata": {},
     "output_type": "display_data"
    },
    {
     "data": {
      "text/html": [
       "Run data is saved locally in <code>c:\\Users\\acer\\OneDrive\\Documents\\GitHub\\dl_assignment_ed24s401\\wandb\\run-20250316_201133-nglt2wjb</code>"
      ],
      "text/plain": [
       "<IPython.core.display.HTML object>"
      ]
     },
     "metadata": {},
     "output_type": "display_data"
    },
    {
     "data": {
      "text/html": [
       "Syncing run <strong><a href='https://wandb.ai/ed24s401-indian-institute-of-technology-madras/q4_sweep_project/runs/nglt2wjb' target=\"_blank\">super-sweep-15</a></strong> to <a href='https://wandb.ai/ed24s401-indian-institute-of-technology-madras/q4_sweep_project' target=\"_blank\">Weights & Biases</a> (<a href='https://wandb.me/developer-guide' target=\"_blank\">docs</a>)<br>Sweep page: <a href='https://wandb.ai/ed24s401-indian-institute-of-technology-madras/q4_sweep_project/sweeps/p60nv46x' target=\"_blank\">https://wandb.ai/ed24s401-indian-institute-of-technology-madras/q4_sweep_project/sweeps/p60nv46x</a>"
      ],
      "text/plain": [
       "<IPython.core.display.HTML object>"
      ]
     },
     "metadata": {},
     "output_type": "display_data"
    },
    {
     "data": {
      "text/html": [
       " View project at <a href='https://wandb.ai/ed24s401-indian-institute-of-technology-madras/q4_sweep_project' target=\"_blank\">https://wandb.ai/ed24s401-indian-institute-of-technology-madras/q4_sweep_project</a>"
      ],
      "text/plain": [
       "<IPython.core.display.HTML object>"
      ]
     },
     "metadata": {},
     "output_type": "display_data"
    },
    {
     "data": {
      "text/html": [
       " View sweep at <a href='https://wandb.ai/ed24s401-indian-institute-of-technology-madras/q4_sweep_project/sweeps/p60nv46x' target=\"_blank\">https://wandb.ai/ed24s401-indian-institute-of-technology-madras/q4_sweep_project/sweeps/p60nv46x</a>"
      ],
      "text/plain": [
       "<IPython.core.display.HTML object>"
      ]
     },
     "metadata": {},
     "output_type": "display_data"
    },
    {
     "data": {
      "text/html": [
       " View run at <a href='https://wandb.ai/ed24s401-indian-institute-of-technology-madras/q4_sweep_project/runs/nglt2wjb' target=\"_blank\">https://wandb.ai/ed24s401-indian-institute-of-technology-madras/q4_sweep_project/runs/nglt2wjb</a>"
      ],
      "text/plain": [
       "<IPython.core.display.HTML object>"
      ]
     },
     "metadata": {},
     "output_type": "display_data"
    },
    {
     "name": "stdout",
     "output_type": "stream",
     "text": [
      "Epoch 1/10 - loss=0.8667, val_acc=0.8015, val_loss=0.5542136418987664\n",
      "Epoch 2/10 - loss=0.4980, val_acc=0.8322, val_loss=0.46923135082256345\n",
      "Epoch 3/10 - loss=0.4471, val_acc=0.8422, val_loss=0.4511293157104777\n",
      "Epoch 4/10 - loss=0.4176, val_acc=0.8525, val_loss=0.4181017991411145\n",
      "Epoch 5/10 - loss=0.3947, val_acc=0.8477, val_loss=0.4115344210252111\n",
      "Epoch 6/10 - loss=0.3807, val_acc=0.8617, val_loss=0.3815295543177438\n",
      "Epoch 7/10 - loss=0.3656, val_acc=0.8640, val_loss=0.3686995210007295\n",
      "Epoch 8/10 - loss=0.3543, val_acc=0.8678, val_loss=0.35666497829869853\n",
      "Epoch 9/10 - loss=0.3424, val_acc=0.8685, val_loss=0.357329174166745\n",
      "Epoch 10/10 - loss=0.3330, val_acc=0.8713, val_loss=0.34871448679526496\n",
      "test accuracy  0.8641\n"
     ]
    },
    {
     "data": {
      "text/html": [],
      "text/plain": [
       "<IPython.core.display.HTML object>"
      ]
     },
     "metadata": {},
     "output_type": "display_data"
    },
    {
     "data": {
      "text/html": [
       "<br>    <style><br>        .wandb-row {<br>            display: flex;<br>            flex-direction: row;<br>            flex-wrap: wrap;<br>            justify-content: flex-start;<br>            width: 100%;<br>        }<br>        .wandb-col {<br>            display: flex;<br>            flex-direction: column;<br>            flex-basis: 100%;<br>            flex: 1;<br>            padding: 10px;<br>        }<br>    </style><br><div class=\"wandb-row\"><div class=\"wandb-col\"><h3>Run history:</h3><br/><table class=\"wandb\"><tr><td>epoch</td><td>▁▂▃▃▄▅▆▆▇█</td></tr><tr><td>test_accuracy</td><td>▁</td></tr><tr><td>training_loss</td><td>█▃▂▂▂▂▁▁▁▁</td></tr><tr><td>validation loss</td><td>█▅▄▃▃▂▂▁▁▁</td></tr><tr><td>validation_accuracy</td><td>▁▄▅▆▆▇▇███</td></tr></table><br/></div><div class=\"wandb-col\"><h3>Run summary:</h3><br/><table class=\"wandb\"><tr><td>epoch</td><td>10</td></tr><tr><td>test_accuracy</td><td>0.8641</td></tr><tr><td>training_loss</td><td>0.33302</td></tr><tr><td>validation loss</td><td>0.34871</td></tr><tr><td>validation_accuracy</td><td>0.87133</td></tr></table><br/></div></div>"
      ],
      "text/plain": [
       "<IPython.core.display.HTML object>"
      ]
     },
     "metadata": {},
     "output_type": "display_data"
    },
    {
     "data": {
      "text/html": [
       " View run <strong style=\"color:#cdcd00\">hl_3_bs_32_ac_relu_opt_nesterov</strong> at: <a href='https://wandb.ai/ed24s401-indian-institute-of-technology-madras/q4_sweep_project/runs/nglt2wjb' target=\"_blank\">https://wandb.ai/ed24s401-indian-institute-of-technology-madras/q4_sweep_project/runs/nglt2wjb</a><br> View project at: <a href='https://wandb.ai/ed24s401-indian-institute-of-technology-madras/q4_sweep_project' target=\"_blank\">https://wandb.ai/ed24s401-indian-institute-of-technology-madras/q4_sweep_project</a><br>Synced 5 W&B file(s), 0 media file(s), 0 artifact file(s) and 0 other file(s)"
      ],
      "text/plain": [
       "<IPython.core.display.HTML object>"
      ]
     },
     "metadata": {},
     "output_type": "display_data"
    },
    {
     "data": {
      "text/html": [
       "Find logs at: <code>.\\wandb\\run-20250316_201133-nglt2wjb\\logs</code>"
      ],
      "text/plain": [
       "<IPython.core.display.HTML object>"
      ]
     },
     "metadata": {},
     "output_type": "display_data"
    },
    {
     "name": "stderr",
     "output_type": "stream",
     "text": [
      "\u001b[34m\u001b[1mwandb\u001b[0m: Agent Starting Run: 4nee0p0z with config:\n",
      "\u001b[34m\u001b[1mwandb\u001b[0m: \tactivation: relu\n",
      "\u001b[34m\u001b[1mwandb\u001b[0m: \tbatch_size: 32\n",
      "\u001b[34m\u001b[1mwandb\u001b[0m: \tbeta1: 0.9\n",
      "\u001b[34m\u001b[1mwandb\u001b[0m: \tbeta2: 0.999\n",
      "\u001b[34m\u001b[1mwandb\u001b[0m: \tbeta_rms: 0.9\n",
      "\u001b[34m\u001b[1mwandb\u001b[0m: \tepochs: 10\n",
      "\u001b[34m\u001b[1mwandb\u001b[0m: \tepsilon: 1e-08\n",
      "\u001b[34m\u001b[1mwandb\u001b[0m: \thidden_size: 64\n",
      "\u001b[34m\u001b[1mwandb\u001b[0m: \tinit_type: random\n",
      "\u001b[34m\u001b[1mwandb\u001b[0m: \tlearning_rate: 0.0001\n",
      "\u001b[34m\u001b[1mwandb\u001b[0m: \tmomentum: 0.9\n",
      "\u001b[34m\u001b[1mwandb\u001b[0m: \tnum_hidden_layers: 5\n",
      "\u001b[34m\u001b[1mwandb\u001b[0m: \toptimizer: nesterov\n",
      "\u001b[34m\u001b[1mwandb\u001b[0m: \tweight_decay: 0.0005\n"
     ]
    },
    {
     "data": {
      "text/html": [
       "Tracking run with wandb version 0.19.8"
      ],
      "text/plain": [
       "<IPython.core.display.HTML object>"
      ]
     },
     "metadata": {},
     "output_type": "display_data"
    },
    {
     "data": {
      "text/html": [
       "Run data is saved locally in <code>c:\\Users\\acer\\OneDrive\\Documents\\GitHub\\dl_assignment_ed24s401\\wandb\\run-20250316_201222-4nee0p0z</code>"
      ],
      "text/plain": [
       "<IPython.core.display.HTML object>"
      ]
     },
     "metadata": {},
     "output_type": "display_data"
    },
    {
     "data": {
      "text/html": [
       "Syncing run <strong><a href='https://wandb.ai/ed24s401-indian-institute-of-technology-madras/q4_sweep_project/runs/4nee0p0z' target=\"_blank\">youthful-sweep-16</a></strong> to <a href='https://wandb.ai/ed24s401-indian-institute-of-technology-madras/q4_sweep_project' target=\"_blank\">Weights & Biases</a> (<a href='https://wandb.me/developer-guide' target=\"_blank\">docs</a>)<br>Sweep page: <a href='https://wandb.ai/ed24s401-indian-institute-of-technology-madras/q4_sweep_project/sweeps/p60nv46x' target=\"_blank\">https://wandb.ai/ed24s401-indian-institute-of-technology-madras/q4_sweep_project/sweeps/p60nv46x</a>"
      ],
      "text/plain": [
       "<IPython.core.display.HTML object>"
      ]
     },
     "metadata": {},
     "output_type": "display_data"
    },
    {
     "data": {
      "text/html": [
       " View project at <a href='https://wandb.ai/ed24s401-indian-institute-of-technology-madras/q4_sweep_project' target=\"_blank\">https://wandb.ai/ed24s401-indian-institute-of-technology-madras/q4_sweep_project</a>"
      ],
      "text/plain": [
       "<IPython.core.display.HTML object>"
      ]
     },
     "metadata": {},
     "output_type": "display_data"
    },
    {
     "data": {
      "text/html": [
       " View sweep at <a href='https://wandb.ai/ed24s401-indian-institute-of-technology-madras/q4_sweep_project/sweeps/p60nv46x' target=\"_blank\">https://wandb.ai/ed24s401-indian-institute-of-technology-madras/q4_sweep_project/sweeps/p60nv46x</a>"
      ],
      "text/plain": [
       "<IPython.core.display.HTML object>"
      ]
     },
     "metadata": {},
     "output_type": "display_data"
    },
    {
     "data": {
      "text/html": [
       " View run at <a href='https://wandb.ai/ed24s401-indian-institute-of-technology-madras/q4_sweep_project/runs/4nee0p0z' target=\"_blank\">https://wandb.ai/ed24s401-indian-institute-of-technology-madras/q4_sweep_project/runs/4nee0p0z</a>"
      ],
      "text/plain": [
       "<IPython.core.display.HTML object>"
      ]
     },
     "metadata": {},
     "output_type": "display_data"
    },
    {
     "name": "stdout",
     "output_type": "stream",
     "text": [
      "Epoch 1/10 - loss=1.6906, val_acc=0.6823, val_loss=0.9048527284554221\n",
      "Epoch 2/10 - loss=0.9201, val_acc=0.7538, val_loss=0.6892007252587247\n",
      "Epoch 3/10 - loss=0.7928, val_acc=0.7907, val_loss=0.6004321967752192\n",
      "Epoch 4/10 - loss=0.7314, val_acc=0.8097, val_loss=0.5544426119523772\n",
      "Epoch 5/10 - loss=0.6948, val_acc=0.8142, val_loss=0.5367966445109027\n",
      "Epoch 6/10 - loss=0.6701, val_acc=0.8202, val_loss=0.5019612522504148\n",
      "Epoch 7/10 - loss=0.6502, val_acc=0.8268, val_loss=0.4903386301804005\n",
      "Epoch 8/10 - loss=0.6349, val_acc=0.8333, val_loss=0.47504550103156346\n",
      "Epoch 9/10 - loss=0.6222, val_acc=0.8348, val_loss=0.46388152454563153\n",
      "Epoch 10/10 - loss=0.6111, val_acc=0.8340, val_loss=0.4662693691200872\n",
      "test accuracy  0.8249\n"
     ]
    },
    {
     "data": {
      "text/html": [],
      "text/plain": [
       "<IPython.core.display.HTML object>"
      ]
     },
     "metadata": {},
     "output_type": "display_data"
    },
    {
     "data": {
      "text/html": [
       "<br>    <style><br>        .wandb-row {<br>            display: flex;<br>            flex-direction: row;<br>            flex-wrap: wrap;<br>            justify-content: flex-start;<br>            width: 100%;<br>        }<br>        .wandb-col {<br>            display: flex;<br>            flex-direction: column;<br>            flex-basis: 100%;<br>            flex: 1;<br>            padding: 10px;<br>        }<br>    </style><br><div class=\"wandb-row\"><div class=\"wandb-col\"><h3>Run history:</h3><br/><table class=\"wandb\"><tr><td>epoch</td><td>▁▂▃▃▄▅▆▆▇█</td></tr><tr><td>test_accuracy</td><td>▁</td></tr><tr><td>training_loss</td><td>█▃▂▂▂▁▁▁▁▁</td></tr><tr><td>validation loss</td><td>█▅▃▂▂▂▁▁▁▁</td></tr><tr><td>validation_accuracy</td><td>▁▄▆▇▇▇████</td></tr></table><br/></div><div class=\"wandb-col\"><h3>Run summary:</h3><br/><table class=\"wandb\"><tr><td>epoch</td><td>10</td></tr><tr><td>test_accuracy</td><td>0.8249</td></tr><tr><td>training_loss</td><td>0.6111</td></tr><tr><td>validation loss</td><td>0.46627</td></tr><tr><td>validation_accuracy</td><td>0.834</td></tr></table><br/></div></div>"
      ],
      "text/plain": [
       "<IPython.core.display.HTML object>"
      ]
     },
     "metadata": {},
     "output_type": "display_data"
    },
    {
     "data": {
      "text/html": [
       " View run <strong style=\"color:#cdcd00\">hl_5_bs_32_ac_relu_opt_nesterov</strong> at: <a href='https://wandb.ai/ed24s401-indian-institute-of-technology-madras/q4_sweep_project/runs/4nee0p0z' target=\"_blank\">https://wandb.ai/ed24s401-indian-institute-of-technology-madras/q4_sweep_project/runs/4nee0p0z</a><br> View project at: <a href='https://wandb.ai/ed24s401-indian-institute-of-technology-madras/q4_sweep_project' target=\"_blank\">https://wandb.ai/ed24s401-indian-institute-of-technology-madras/q4_sweep_project</a><br>Synced 5 W&B file(s), 0 media file(s), 0 artifact file(s) and 0 other file(s)"
      ],
      "text/plain": [
       "<IPython.core.display.HTML object>"
      ]
     },
     "metadata": {},
     "output_type": "display_data"
    },
    {
     "data": {
      "text/html": [
       "Find logs at: <code>.\\wandb\\run-20250316_201222-4nee0p0z\\logs</code>"
      ],
      "text/plain": [
       "<IPython.core.display.HTML object>"
      ]
     },
     "metadata": {},
     "output_type": "display_data"
    },
    {
     "name": "stderr",
     "output_type": "stream",
     "text": [
      "\u001b[34m\u001b[1mwandb\u001b[0m: Agent Starting Run: sfanokm3 with config:\n",
      "\u001b[34m\u001b[1mwandb\u001b[0m: \tactivation: sigmoid\n",
      "\u001b[34m\u001b[1mwandb\u001b[0m: \tbatch_size: 32\n",
      "\u001b[34m\u001b[1mwandb\u001b[0m: \tbeta1: 0.9\n",
      "\u001b[34m\u001b[1mwandb\u001b[0m: \tbeta2: 0.999\n",
      "\u001b[34m\u001b[1mwandb\u001b[0m: \tbeta_rms: 0.9\n",
      "\u001b[34m\u001b[1mwandb\u001b[0m: \tepochs: 10\n",
      "\u001b[34m\u001b[1mwandb\u001b[0m: \tepsilon: 1e-08\n",
      "\u001b[34m\u001b[1mwandb\u001b[0m: \thidden_size: 128\n",
      "\u001b[34m\u001b[1mwandb\u001b[0m: \tinit_type: xavier\n",
      "\u001b[34m\u001b[1mwandb\u001b[0m: \tlearning_rate: 0.0001\n",
      "\u001b[34m\u001b[1mwandb\u001b[0m: \tmomentum: 0.9\n",
      "\u001b[34m\u001b[1mwandb\u001b[0m: \tnum_hidden_layers: 3\n",
      "\u001b[34m\u001b[1mwandb\u001b[0m: \toptimizer: rmsprop\n",
      "\u001b[34m\u001b[1mwandb\u001b[0m: \tweight_decay: 0\n"
     ]
    },
    {
     "data": {
      "text/html": [
       "Tracking run with wandb version 0.19.8"
      ],
      "text/plain": [
       "<IPython.core.display.HTML object>"
      ]
     },
     "metadata": {},
     "output_type": "display_data"
    },
    {
     "data": {
      "text/html": [
       "Run data is saved locally in <code>c:\\Users\\acer\\OneDrive\\Documents\\GitHub\\dl_assignment_ed24s401\\wandb\\run-20250316_201259-sfanokm3</code>"
      ],
      "text/plain": [
       "<IPython.core.display.HTML object>"
      ]
     },
     "metadata": {},
     "output_type": "display_data"
    },
    {
     "data": {
      "text/html": [
       "Syncing run <strong><a href='https://wandb.ai/ed24s401-indian-institute-of-technology-madras/q4_sweep_project/runs/sfanokm3' target=\"_blank\">sparkling-sweep-17</a></strong> to <a href='https://wandb.ai/ed24s401-indian-institute-of-technology-madras/q4_sweep_project' target=\"_blank\">Weights & Biases</a> (<a href='https://wandb.me/developer-guide' target=\"_blank\">docs</a>)<br>Sweep page: <a href='https://wandb.ai/ed24s401-indian-institute-of-technology-madras/q4_sweep_project/sweeps/p60nv46x' target=\"_blank\">https://wandb.ai/ed24s401-indian-institute-of-technology-madras/q4_sweep_project/sweeps/p60nv46x</a>"
      ],
      "text/plain": [
       "<IPython.core.display.HTML object>"
      ]
     },
     "metadata": {},
     "output_type": "display_data"
    },
    {
     "data": {
      "text/html": [
       " View project at <a href='https://wandb.ai/ed24s401-indian-institute-of-technology-madras/q4_sweep_project' target=\"_blank\">https://wandb.ai/ed24s401-indian-institute-of-technology-madras/q4_sweep_project</a>"
      ],
      "text/plain": [
       "<IPython.core.display.HTML object>"
      ]
     },
     "metadata": {},
     "output_type": "display_data"
    },
    {
     "data": {
      "text/html": [
       " View sweep at <a href='https://wandb.ai/ed24s401-indian-institute-of-technology-madras/q4_sweep_project/sweeps/p60nv46x' target=\"_blank\">https://wandb.ai/ed24s401-indian-institute-of-technology-madras/q4_sweep_project/sweeps/p60nv46x</a>"
      ],
      "text/plain": [
       "<IPython.core.display.HTML object>"
      ]
     },
     "metadata": {},
     "output_type": "display_data"
    },
    {
     "data": {
      "text/html": [
       " View run at <a href='https://wandb.ai/ed24s401-indian-institute-of-technology-madras/q4_sweep_project/runs/sfanokm3' target=\"_blank\">https://wandb.ai/ed24s401-indian-institute-of-technology-madras/q4_sweep_project/runs/sfanokm3</a>"
      ],
      "text/plain": [
       "<IPython.core.display.HTML object>"
      ]
     },
     "metadata": {},
     "output_type": "display_data"
    },
    {
     "name": "stdout",
     "output_type": "stream",
     "text": [
      "Epoch 1/10 - loss=1.6146, val_acc=0.5805, val_loss=1.0941827307565963\n",
      "Epoch 2/10 - loss=0.9099, val_acc=0.7280, val_loss=0.794222893856428\n",
      "Epoch 3/10 - loss=0.6987, val_acc=0.7647, val_loss=0.6553949047708305\n",
      "Epoch 4/10 - loss=0.6043, val_acc=0.7820, val_loss=0.5938219521646441\n",
      "Epoch 5/10 - loss=0.5539, val_acc=0.7912, val_loss=0.5514526221307969\n",
      "Epoch 6/10 - loss=0.5190, val_acc=0.8093, val_loss=0.5189406094148027\n",
      "Epoch 7/10 - loss=0.4893, val_acc=0.8210, val_loss=0.4933283969571248\n",
      "Epoch 8/10 - loss=0.4646, val_acc=0.8292, val_loss=0.47173530711730616\n",
      "Epoch 9/10 - loss=0.4451, val_acc=0.8373, val_loss=0.4527234083301381\n",
      "Epoch 10/10 - loss=0.4291, val_acc=0.8402, val_loss=0.4391439940109482\n",
      "test accuracy  0.84\n"
     ]
    },
    {
     "data": {
      "text/html": [],
      "text/plain": [
       "<IPython.core.display.HTML object>"
      ]
     },
     "metadata": {},
     "output_type": "display_data"
    },
    {
     "data": {
      "text/html": [
       "<br>    <style><br>        .wandb-row {<br>            display: flex;<br>            flex-direction: row;<br>            flex-wrap: wrap;<br>            justify-content: flex-start;<br>            width: 100%;<br>        }<br>        .wandb-col {<br>            display: flex;<br>            flex-direction: column;<br>            flex-basis: 100%;<br>            flex: 1;<br>            padding: 10px;<br>        }<br>    </style><br><div class=\"wandb-row\"><div class=\"wandb-col\"><h3>Run history:</h3><br/><table class=\"wandb\"><tr><td>epoch</td><td>▁▂▃▃▄▅▆▆▇█</td></tr><tr><td>test_accuracy</td><td>▁</td></tr><tr><td>training_loss</td><td>█▄▃▂▂▂▁▁▁▁</td></tr><tr><td>validation loss</td><td>█▅▃▃▂▂▂▁▁▁</td></tr><tr><td>validation_accuracy</td><td>▁▅▆▆▇▇▇███</td></tr></table><br/></div><div class=\"wandb-col\"><h3>Run summary:</h3><br/><table class=\"wandb\"><tr><td>epoch</td><td>10</td></tr><tr><td>test_accuracy</td><td>0.84</td></tr><tr><td>training_loss</td><td>0.4291</td></tr><tr><td>validation loss</td><td>0.43914</td></tr><tr><td>validation_accuracy</td><td>0.84017</td></tr></table><br/></div></div>"
      ],
      "text/plain": [
       "<IPython.core.display.HTML object>"
      ]
     },
     "metadata": {},
     "output_type": "display_data"
    },
    {
     "data": {
      "text/html": [
       " View run <strong style=\"color:#cdcd00\">hl_3_bs_32_ac_sigmoid_opt_rmsprop</strong> at: <a href='https://wandb.ai/ed24s401-indian-institute-of-technology-madras/q4_sweep_project/runs/sfanokm3' target=\"_blank\">https://wandb.ai/ed24s401-indian-institute-of-technology-madras/q4_sweep_project/runs/sfanokm3</a><br> View project at: <a href='https://wandb.ai/ed24s401-indian-institute-of-technology-madras/q4_sweep_project' target=\"_blank\">https://wandb.ai/ed24s401-indian-institute-of-technology-madras/q4_sweep_project</a><br>Synced 5 W&B file(s), 0 media file(s), 0 artifact file(s) and 0 other file(s)"
      ],
      "text/plain": [
       "<IPython.core.display.HTML object>"
      ]
     },
     "metadata": {},
     "output_type": "display_data"
    },
    {
     "data": {
      "text/html": [
       "Find logs at: <code>.\\wandb\\run-20250316_201259-sfanokm3\\logs</code>"
      ],
      "text/plain": [
       "<IPython.core.display.HTML object>"
      ]
     },
     "metadata": {},
     "output_type": "display_data"
    },
    {
     "name": "stderr",
     "output_type": "stream",
     "text": [
      "\u001b[34m\u001b[1mwandb\u001b[0m: Agent Starting Run: 4i0s7br5 with config:\n",
      "\u001b[34m\u001b[1mwandb\u001b[0m: \tactivation: tanh\n",
      "\u001b[34m\u001b[1mwandb\u001b[0m: \tbatch_size: 32\n",
      "\u001b[34m\u001b[1mwandb\u001b[0m: \tbeta1: 0.9\n",
      "\u001b[34m\u001b[1mwandb\u001b[0m: \tbeta2: 0.999\n",
      "\u001b[34m\u001b[1mwandb\u001b[0m: \tbeta_rms: 0.9\n",
      "\u001b[34m\u001b[1mwandb\u001b[0m: \tepochs: 10\n",
      "\u001b[34m\u001b[1mwandb\u001b[0m: \tepsilon: 1e-08\n",
      "\u001b[34m\u001b[1mwandb\u001b[0m: \thidden_size: 128\n",
      "\u001b[34m\u001b[1mwandb\u001b[0m: \tinit_type: random\n",
      "\u001b[34m\u001b[1mwandb\u001b[0m: \tlearning_rate: 0.001\n",
      "\u001b[34m\u001b[1mwandb\u001b[0m: \tmomentum: 0.9\n",
      "\u001b[34m\u001b[1mwandb\u001b[0m: \tnum_hidden_layers: 3\n",
      "\u001b[34m\u001b[1mwandb\u001b[0m: \toptimizer: adam\n",
      "\u001b[34m\u001b[1mwandb\u001b[0m: \tweight_decay: 0.0005\n"
     ]
    },
    {
     "data": {
      "text/html": [
       "Tracking run with wandb version 0.19.8"
      ],
      "text/plain": [
       "<IPython.core.display.HTML object>"
      ]
     },
     "metadata": {},
     "output_type": "display_data"
    },
    {
     "data": {
      "text/html": [
       "Run data is saved locally in <code>c:\\Users\\acer\\OneDrive\\Documents\\GitHub\\dl_assignment_ed24s401\\wandb\\run-20250316_201403-4i0s7br5</code>"
      ],
      "text/plain": [
       "<IPython.core.display.HTML object>"
      ]
     },
     "metadata": {},
     "output_type": "display_data"
    },
    {
     "data": {
      "text/html": [
       "Syncing run <strong><a href='https://wandb.ai/ed24s401-indian-institute-of-technology-madras/q4_sweep_project/runs/4i0s7br5' target=\"_blank\">logical-sweep-18</a></strong> to <a href='https://wandb.ai/ed24s401-indian-institute-of-technology-madras/q4_sweep_project' target=\"_blank\">Weights & Biases</a> (<a href='https://wandb.me/developer-guide' target=\"_blank\">docs</a>)<br>Sweep page: <a href='https://wandb.ai/ed24s401-indian-institute-of-technology-madras/q4_sweep_project/sweeps/p60nv46x' target=\"_blank\">https://wandb.ai/ed24s401-indian-institute-of-technology-madras/q4_sweep_project/sweeps/p60nv46x</a>"
      ],
      "text/plain": [
       "<IPython.core.display.HTML object>"
      ]
     },
     "metadata": {},
     "output_type": "display_data"
    },
    {
     "data": {
      "text/html": [
       " View project at <a href='https://wandb.ai/ed24s401-indian-institute-of-technology-madras/q4_sweep_project' target=\"_blank\">https://wandb.ai/ed24s401-indian-institute-of-technology-madras/q4_sweep_project</a>"
      ],
      "text/plain": [
       "<IPython.core.display.HTML object>"
      ]
     },
     "metadata": {},
     "output_type": "display_data"
    },
    {
     "data": {
      "text/html": [
       " View sweep at <a href='https://wandb.ai/ed24s401-indian-institute-of-technology-madras/q4_sweep_project/sweeps/p60nv46x' target=\"_blank\">https://wandb.ai/ed24s401-indian-institute-of-technology-madras/q4_sweep_project/sweeps/p60nv46x</a>"
      ],
      "text/plain": [
       "<IPython.core.display.HTML object>"
      ]
     },
     "metadata": {},
     "output_type": "display_data"
    },
    {
     "data": {
      "text/html": [
       " View run at <a href='https://wandb.ai/ed24s401-indian-institute-of-technology-madras/q4_sweep_project/runs/4i0s7br5' target=\"_blank\">https://wandb.ai/ed24s401-indian-institute-of-technology-madras/q4_sweep_project/runs/4i0s7br5</a>"
      ],
      "text/plain": [
       "<IPython.core.display.HTML object>"
      ]
     },
     "metadata": {},
     "output_type": "display_data"
    },
    {
     "name": "stdout",
     "output_type": "stream",
     "text": [
      "Epoch 1/10 - loss=0.6652, val_acc=0.8530, val_loss=0.40190003921103834\n",
      "Epoch 2/10 - loss=0.5329, val_acc=0.8558, val_loss=0.38664011381065483\n",
      "Epoch 3/10 - loss=0.4909, val_acc=0.8675, val_loss=0.36779681542488407\n",
      "Epoch 4/10 - loss=0.4683, val_acc=0.8720, val_loss=0.34719066558647804\n",
      "Epoch 5/10 - loss=0.4491, val_acc=0.8630, val_loss=0.36899379085688844\n",
      "Epoch 6/10 - loss=0.4389, val_acc=0.8733, val_loss=0.35014310054714476\n",
      "Epoch 7/10 - loss=0.4329, val_acc=0.8735, val_loss=0.349062959071303\n",
      "Epoch 8/10 - loss=0.4259, val_acc=0.8763, val_loss=0.3396814481277801\n",
      "Epoch 9/10 - loss=0.4161, val_acc=0.8660, val_loss=0.3612485302096555\n",
      "Epoch 10/10 - loss=0.4126, val_acc=0.8693, val_loss=0.34604696393793954\n",
      "test accuracy  0.8623\n"
     ]
    },
    {
     "data": {
      "text/html": [],
      "text/plain": [
       "<IPython.core.display.HTML object>"
      ]
     },
     "metadata": {},
     "output_type": "display_data"
    },
    {
     "data": {
      "text/html": [
       "<br>    <style><br>        .wandb-row {<br>            display: flex;<br>            flex-direction: row;<br>            flex-wrap: wrap;<br>            justify-content: flex-start;<br>            width: 100%;<br>        }<br>        .wandb-col {<br>            display: flex;<br>            flex-direction: column;<br>            flex-basis: 100%;<br>            flex: 1;<br>            padding: 10px;<br>        }<br>    </style><br><div class=\"wandb-row\"><div class=\"wandb-col\"><h3>Run history:</h3><br/><table class=\"wandb\"><tr><td>epoch</td><td>▁▂▃▃▄▅▆▆▇█</td></tr><tr><td>test_accuracy</td><td>▁</td></tr><tr><td>training_loss</td><td>█▄▃▃▂▂▂▁▁▁</td></tr><tr><td>validation loss</td><td>█▆▄▂▄▂▂▁▃▂</td></tr><tr><td>validation_accuracy</td><td>▁▂▅▇▄▇▇█▅▆</td></tr></table><br/></div><div class=\"wandb-col\"><h3>Run summary:</h3><br/><table class=\"wandb\"><tr><td>epoch</td><td>10</td></tr><tr><td>test_accuracy</td><td>0.8623</td></tr><tr><td>training_loss</td><td>0.41263</td></tr><tr><td>validation loss</td><td>0.34605</td></tr><tr><td>validation_accuracy</td><td>0.86933</td></tr></table><br/></div></div>"
      ],
      "text/plain": [
       "<IPython.core.display.HTML object>"
      ]
     },
     "metadata": {},
     "output_type": "display_data"
    },
    {
     "data": {
      "text/html": [
       " View run <strong style=\"color:#cdcd00\">hl_3_bs_32_ac_tanh_opt_adam</strong> at: <a href='https://wandb.ai/ed24s401-indian-institute-of-technology-madras/q4_sweep_project/runs/4i0s7br5' target=\"_blank\">https://wandb.ai/ed24s401-indian-institute-of-technology-madras/q4_sweep_project/runs/4i0s7br5</a><br> View project at: <a href='https://wandb.ai/ed24s401-indian-institute-of-technology-madras/q4_sweep_project' target=\"_blank\">https://wandb.ai/ed24s401-indian-institute-of-technology-madras/q4_sweep_project</a><br>Synced 5 W&B file(s), 0 media file(s), 0 artifact file(s) and 0 other file(s)"
      ],
      "text/plain": [
       "<IPython.core.display.HTML object>"
      ]
     },
     "metadata": {},
     "output_type": "display_data"
    },
    {
     "data": {
      "text/html": [
       "Find logs at: <code>.\\wandb\\run-20250316_201403-4i0s7br5\\logs</code>"
      ],
      "text/plain": [
       "<IPython.core.display.HTML object>"
      ]
     },
     "metadata": {},
     "output_type": "display_data"
    },
    {
     "name": "stderr",
     "output_type": "stream",
     "text": [
      "\u001b[34m\u001b[1mwandb\u001b[0m: Agent Starting Run: l1cwwmqk with config:\n",
      "\u001b[34m\u001b[1mwandb\u001b[0m: \tactivation: tanh\n",
      "\u001b[34m\u001b[1mwandb\u001b[0m: \tbatch_size: 32\n",
      "\u001b[34m\u001b[1mwandb\u001b[0m: \tbeta1: 0.9\n",
      "\u001b[34m\u001b[1mwandb\u001b[0m: \tbeta2: 0.999\n",
      "\u001b[34m\u001b[1mwandb\u001b[0m: \tbeta_rms: 0.9\n",
      "\u001b[34m\u001b[1mwandb\u001b[0m: \tepochs: 10\n",
      "\u001b[34m\u001b[1mwandb\u001b[0m: \tepsilon: 1e-08\n",
      "\u001b[34m\u001b[1mwandb\u001b[0m: \thidden_size: 128\n",
      "\u001b[34m\u001b[1mwandb\u001b[0m: \tinit_type: random\n",
      "\u001b[34m\u001b[1mwandb\u001b[0m: \tlearning_rate: 0.001\n",
      "\u001b[34m\u001b[1mwandb\u001b[0m: \tmomentum: 0.9\n",
      "\u001b[34m\u001b[1mwandb\u001b[0m: \tnum_hidden_layers: 5\n",
      "\u001b[34m\u001b[1mwandb\u001b[0m: \toptimizer: rmsprop\n",
      "\u001b[34m\u001b[1mwandb\u001b[0m: \tweight_decay: 0\n"
     ]
    },
    {
     "data": {
      "text/html": [
       "Tracking run with wandb version 0.19.8"
      ],
      "text/plain": [
       "<IPython.core.display.HTML object>"
      ]
     },
     "metadata": {},
     "output_type": "display_data"
    },
    {
     "data": {
      "text/html": [
       "Run data is saved locally in <code>c:\\Users\\acer\\OneDrive\\Documents\\GitHub\\dl_assignment_ed24s401\\wandb\\run-20250316_201527-l1cwwmqk</code>"
      ],
      "text/plain": [
       "<IPython.core.display.HTML object>"
      ]
     },
     "metadata": {},
     "output_type": "display_data"
    },
    {
     "data": {
      "text/html": [
       "Syncing run <strong><a href='https://wandb.ai/ed24s401-indian-institute-of-technology-madras/q4_sweep_project/runs/l1cwwmqk' target=\"_blank\">glowing-sweep-19</a></strong> to <a href='https://wandb.ai/ed24s401-indian-institute-of-technology-madras/q4_sweep_project' target=\"_blank\">Weights & Biases</a> (<a href='https://wandb.me/developer-guide' target=\"_blank\">docs</a>)<br>Sweep page: <a href='https://wandb.ai/ed24s401-indian-institute-of-technology-madras/q4_sweep_project/sweeps/p60nv46x' target=\"_blank\">https://wandb.ai/ed24s401-indian-institute-of-technology-madras/q4_sweep_project/sweeps/p60nv46x</a>"
      ],
      "text/plain": [
       "<IPython.core.display.HTML object>"
      ]
     },
     "metadata": {},
     "output_type": "display_data"
    },
    {
     "data": {
      "text/html": [
       " View project at <a href='https://wandb.ai/ed24s401-indian-institute-of-technology-madras/q4_sweep_project' target=\"_blank\">https://wandb.ai/ed24s401-indian-institute-of-technology-madras/q4_sweep_project</a>"
      ],
      "text/plain": [
       "<IPython.core.display.HTML object>"
      ]
     },
     "metadata": {},
     "output_type": "display_data"
    },
    {
     "data": {
      "text/html": [
       " View sweep at <a href='https://wandb.ai/ed24s401-indian-institute-of-technology-madras/q4_sweep_project/sweeps/p60nv46x' target=\"_blank\">https://wandb.ai/ed24s401-indian-institute-of-technology-madras/q4_sweep_project/sweeps/p60nv46x</a>"
      ],
      "text/plain": [
       "<IPython.core.display.HTML object>"
      ]
     },
     "metadata": {},
     "output_type": "display_data"
    },
    {
     "data": {
      "text/html": [
       " View run at <a href='https://wandb.ai/ed24s401-indian-institute-of-technology-madras/q4_sweep_project/runs/l1cwwmqk' target=\"_blank\">https://wandb.ai/ed24s401-indian-institute-of-technology-madras/q4_sweep_project/runs/l1cwwmqk</a>"
      ],
      "text/plain": [
       "<IPython.core.display.HTML object>"
      ]
     },
     "metadata": {},
     "output_type": "display_data"
    },
    {
     "name": "stdout",
     "output_type": "stream",
     "text": [
      "Epoch 1/10 - loss=0.5235, val_acc=0.8253, val_loss=0.4633600436704045\n",
      "Epoch 2/10 - loss=0.3967, val_acc=0.8488, val_loss=0.40709307504086384\n",
      "Epoch 3/10 - loss=0.3610, val_acc=0.8640, val_loss=0.3750663852004295\n",
      "Epoch 4/10 - loss=0.3397, val_acc=0.8732, val_loss=0.3487636518233484\n",
      "Epoch 5/10 - loss=0.3226, val_acc=0.8778, val_loss=0.33550856993749373\n",
      "Epoch 6/10 - loss=0.3093, val_acc=0.8700, val_loss=0.3507626464132797\n",
      "Epoch 7/10 - loss=0.2964, val_acc=0.8770, val_loss=0.3380899762526547\n",
      "Epoch 8/10 - loss=0.2882, val_acc=0.8720, val_loss=0.35602823451083776\n",
      "Epoch 9/10 - loss=0.2785, val_acc=0.8805, val_loss=0.3330456849676104\n",
      "Epoch 10/10 - loss=0.2719, val_acc=0.8753, val_loss=0.34319352018095023\n",
      "test accuracy  0.8643\n"
     ]
    },
    {
     "data": {
      "text/html": [],
      "text/plain": [
       "<IPython.core.display.HTML object>"
      ]
     },
     "metadata": {},
     "output_type": "display_data"
    },
    {
     "data": {
      "text/html": [
       "<br>    <style><br>        .wandb-row {<br>            display: flex;<br>            flex-direction: row;<br>            flex-wrap: wrap;<br>            justify-content: flex-start;<br>            width: 100%;<br>        }<br>        .wandb-col {<br>            display: flex;<br>            flex-direction: column;<br>            flex-basis: 100%;<br>            flex: 1;<br>            padding: 10px;<br>        }<br>    </style><br><div class=\"wandb-row\"><div class=\"wandb-col\"><h3>Run history:</h3><br/><table class=\"wandb\"><tr><td>epoch</td><td>▁▂▃▃▄▅▆▆▇█</td></tr><tr><td>test_accuracy</td><td>▁</td></tr><tr><td>training_loss</td><td>█▄▃▃▂▂▂▁▁▁</td></tr><tr><td>validation loss</td><td>█▅▃▂▁▂▁▂▁▂</td></tr><tr><td>validation_accuracy</td><td>▁▄▆▇█▇█▇█▇</td></tr></table><br/></div><div class=\"wandb-col\"><h3>Run summary:</h3><br/><table class=\"wandb\"><tr><td>epoch</td><td>10</td></tr><tr><td>test_accuracy</td><td>0.8643</td></tr><tr><td>training_loss</td><td>0.27193</td></tr><tr><td>validation loss</td><td>0.34319</td></tr><tr><td>validation_accuracy</td><td>0.87533</td></tr></table><br/></div></div>"
      ],
      "text/plain": [
       "<IPython.core.display.HTML object>"
      ]
     },
     "metadata": {},
     "output_type": "display_data"
    },
    {
     "data": {
      "text/html": [
       " View run <strong style=\"color:#cdcd00\">hl_5_bs_32_ac_tanh_opt_rmsprop</strong> at: <a href='https://wandb.ai/ed24s401-indian-institute-of-technology-madras/q4_sweep_project/runs/l1cwwmqk' target=\"_blank\">https://wandb.ai/ed24s401-indian-institute-of-technology-madras/q4_sweep_project/runs/l1cwwmqk</a><br> View project at: <a href='https://wandb.ai/ed24s401-indian-institute-of-technology-madras/q4_sweep_project' target=\"_blank\">https://wandb.ai/ed24s401-indian-institute-of-technology-madras/q4_sweep_project</a><br>Synced 5 W&B file(s), 0 media file(s), 0 artifact file(s) and 0 other file(s)"
      ],
      "text/plain": [
       "<IPython.core.display.HTML object>"
      ]
     },
     "metadata": {},
     "output_type": "display_data"
    },
    {
     "data": {
      "text/html": [
       "Find logs at: <code>.\\wandb\\run-20250316_201527-l1cwwmqk\\logs</code>"
      ],
      "text/plain": [
       "<IPython.core.display.HTML object>"
      ]
     },
     "metadata": {},
     "output_type": "display_data"
    },
    {
     "name": "stderr",
     "output_type": "stream",
     "text": [
      "\u001b[34m\u001b[1mwandb\u001b[0m: Sweep Agent: Waiting for job.\n",
      "\u001b[34m\u001b[1mwandb\u001b[0m: Job received.\n",
      "\u001b[34m\u001b[1mwandb\u001b[0m: Agent Starting Run: qxmrbax7 with config:\n",
      "\u001b[34m\u001b[1mwandb\u001b[0m: \tactivation: tanh\n",
      "\u001b[34m\u001b[1mwandb\u001b[0m: \tbatch_size: 32\n",
      "\u001b[34m\u001b[1mwandb\u001b[0m: \tbeta1: 0.9\n",
      "\u001b[34m\u001b[1mwandb\u001b[0m: \tbeta2: 0.999\n",
      "\u001b[34m\u001b[1mwandb\u001b[0m: \tbeta_rms: 0.9\n",
      "\u001b[34m\u001b[1mwandb\u001b[0m: \tepochs: 10\n",
      "\u001b[34m\u001b[1mwandb\u001b[0m: \tepsilon: 1e-08\n",
      "\u001b[34m\u001b[1mwandb\u001b[0m: \thidden_size: 128\n",
      "\u001b[34m\u001b[1mwandb\u001b[0m: \tinit_type: xavier\n",
      "\u001b[34m\u001b[1mwandb\u001b[0m: \tlearning_rate: 0.001\n",
      "\u001b[34m\u001b[1mwandb\u001b[0m: \tmomentum: 0.8\n",
      "\u001b[34m\u001b[1mwandb\u001b[0m: \tnum_hidden_layers: 3\n",
      "\u001b[34m\u001b[1mwandb\u001b[0m: \toptimizer: adam\n",
      "\u001b[34m\u001b[1mwandb\u001b[0m: \tweight_decay: 0.0005\n"
     ]
    },
    {
     "data": {
      "text/html": [
       "Tracking run with wandb version 0.19.8"
      ],
      "text/plain": [
       "<IPython.core.display.HTML object>"
      ]
     },
     "metadata": {},
     "output_type": "display_data"
    },
    {
     "data": {
      "text/html": [
       "Run data is saved locally in <code>c:\\Users\\acer\\OneDrive\\Documents\\GitHub\\dl_assignment_ed24s401\\wandb\\run-20250316_201651-qxmrbax7</code>"
      ],
      "text/plain": [
       "<IPython.core.display.HTML object>"
      ]
     },
     "metadata": {},
     "output_type": "display_data"
    },
    {
     "data": {
      "text/html": [
       "Syncing run <strong><a href='https://wandb.ai/ed24s401-indian-institute-of-technology-madras/q4_sweep_project/runs/qxmrbax7' target=\"_blank\">peachy-sweep-20</a></strong> to <a href='https://wandb.ai/ed24s401-indian-institute-of-technology-madras/q4_sweep_project' target=\"_blank\">Weights & Biases</a> (<a href='https://wandb.me/developer-guide' target=\"_blank\">docs</a>)<br>Sweep page: <a href='https://wandb.ai/ed24s401-indian-institute-of-technology-madras/q4_sweep_project/sweeps/p60nv46x' target=\"_blank\">https://wandb.ai/ed24s401-indian-institute-of-technology-madras/q4_sweep_project/sweeps/p60nv46x</a>"
      ],
      "text/plain": [
       "<IPython.core.display.HTML object>"
      ]
     },
     "metadata": {},
     "output_type": "display_data"
    },
    {
     "data": {
      "text/html": [
       " View project at <a href='https://wandb.ai/ed24s401-indian-institute-of-technology-madras/q4_sweep_project' target=\"_blank\">https://wandb.ai/ed24s401-indian-institute-of-technology-madras/q4_sweep_project</a>"
      ],
      "text/plain": [
       "<IPython.core.display.HTML object>"
      ]
     },
     "metadata": {},
     "output_type": "display_data"
    },
    {
     "data": {
      "text/html": [
       " View sweep at <a href='https://wandb.ai/ed24s401-indian-institute-of-technology-madras/q4_sweep_project/sweeps/p60nv46x' target=\"_blank\">https://wandb.ai/ed24s401-indian-institute-of-technology-madras/q4_sweep_project/sweeps/p60nv46x</a>"
      ],
      "text/plain": [
       "<IPython.core.display.HTML object>"
      ]
     },
     "metadata": {},
     "output_type": "display_data"
    },
    {
     "data": {
      "text/html": [
       " View run at <a href='https://wandb.ai/ed24s401-indian-institute-of-technology-madras/q4_sweep_project/runs/qxmrbax7' target=\"_blank\">https://wandb.ai/ed24s401-indian-institute-of-technology-madras/q4_sweep_project/runs/qxmrbax7</a>"
      ],
      "text/plain": [
       "<IPython.core.display.HTML object>"
      ]
     },
     "metadata": {},
     "output_type": "display_data"
    },
    {
     "name": "stdout",
     "output_type": "stream",
     "text": [
      "Epoch 1/10 - loss=0.5989, val_acc=0.8478, val_loss=0.41970906043412487\n",
      "Epoch 2/10 - loss=0.4915, val_acc=0.8545, val_loss=0.392838231025159\n",
      "Epoch 3/10 - loss=0.4646, val_acc=0.8608, val_loss=0.37799624343090227\n",
      "Epoch 4/10 - loss=0.4496, val_acc=0.8642, val_loss=0.36305117779936236\n",
      "Epoch 5/10 - loss=0.4352, val_acc=0.8605, val_loss=0.3680567154066666\n",
      "Epoch 6/10 - loss=0.4299, val_acc=0.8705, val_loss=0.35336949691059216\n",
      "Epoch 7/10 - loss=0.4217, val_acc=0.8715, val_loss=0.35497743564564316\n",
      "Epoch 8/10 - loss=0.4179, val_acc=0.8727, val_loss=0.3404028179054465\n",
      "Epoch 9/10 - loss=0.4078, val_acc=0.8598, val_loss=0.3717643313340888\n",
      "Epoch 10/10 - loss=0.4033, val_acc=0.8638, val_loss=0.357059538077422\n",
      "test accuracy  0.8601\n"
     ]
    },
    {
     "data": {
      "text/html": [],
      "text/plain": [
       "<IPython.core.display.HTML object>"
      ]
     },
     "metadata": {},
     "output_type": "display_data"
    },
    {
     "data": {
      "text/html": [
       "<br>    <style><br>        .wandb-row {<br>            display: flex;<br>            flex-direction: row;<br>            flex-wrap: wrap;<br>            justify-content: flex-start;<br>            width: 100%;<br>        }<br>        .wandb-col {<br>            display: flex;<br>            flex-direction: column;<br>            flex-basis: 100%;<br>            flex: 1;<br>            padding: 10px;<br>        }<br>    </style><br><div class=\"wandb-row\"><div class=\"wandb-col\"><h3>Run history:</h3><br/><table class=\"wandb\"><tr><td>epoch</td><td>▁▂▃▃▄▅▆▆▇█</td></tr><tr><td>test_accuracy</td><td>▁</td></tr><tr><td>training_loss</td><td>█▄▃▃▂▂▂▂▁▁</td></tr><tr><td>validation loss</td><td>█▆▄▃▃▂▂▁▄▂</td></tr><tr><td>validation_accuracy</td><td>▁▃▅▆▅▇██▄▆</td></tr></table><br/></div><div class=\"wandb-col\"><h3>Run summary:</h3><br/><table class=\"wandb\"><tr><td>epoch</td><td>10</td></tr><tr><td>test_accuracy</td><td>0.8601</td></tr><tr><td>training_loss</td><td>0.40332</td></tr><tr><td>validation loss</td><td>0.35706</td></tr><tr><td>validation_accuracy</td><td>0.86383</td></tr></table><br/></div></div>"
      ],
      "text/plain": [
       "<IPython.core.display.HTML object>"
      ]
     },
     "metadata": {},
     "output_type": "display_data"
    },
    {
     "data": {
      "text/html": [
       " View run <strong style=\"color:#cdcd00\">hl_3_bs_32_ac_tanh_opt_adam</strong> at: <a href='https://wandb.ai/ed24s401-indian-institute-of-technology-madras/q4_sweep_project/runs/qxmrbax7' target=\"_blank\">https://wandb.ai/ed24s401-indian-institute-of-technology-madras/q4_sweep_project/runs/qxmrbax7</a><br> View project at: <a href='https://wandb.ai/ed24s401-indian-institute-of-technology-madras/q4_sweep_project' target=\"_blank\">https://wandb.ai/ed24s401-indian-institute-of-technology-madras/q4_sweep_project</a><br>Synced 5 W&B file(s), 0 media file(s), 0 artifact file(s) and 0 other file(s)"
      ],
      "text/plain": [
       "<IPython.core.display.HTML object>"
      ]
     },
     "metadata": {},
     "output_type": "display_data"
    },
    {
     "data": {
      "text/html": [
       "Find logs at: <code>.\\wandb\\run-20250316_201651-qxmrbax7\\logs</code>"
      ],
      "text/plain": [
       "<IPython.core.display.HTML object>"
      ]
     },
     "metadata": {},
     "output_type": "display_data"
    },
    {
     "name": "stderr",
     "output_type": "stream",
     "text": [
      "\u001b[34m\u001b[1mwandb\u001b[0m: Agent Starting Run: bq0xhfvs with config:\n",
      "\u001b[34m\u001b[1mwandb\u001b[0m: \tactivation: sigmoid\n",
      "\u001b[34m\u001b[1mwandb\u001b[0m: \tbatch_size: 32\n",
      "\u001b[34m\u001b[1mwandb\u001b[0m: \tbeta1: 0.9\n",
      "\u001b[34m\u001b[1mwandb\u001b[0m: \tbeta2: 0.999\n",
      "\u001b[34m\u001b[1mwandb\u001b[0m: \tbeta_rms: 0.9\n",
      "\u001b[34m\u001b[1mwandb\u001b[0m: \tepochs: 10\n",
      "\u001b[34m\u001b[1mwandb\u001b[0m: \tepsilon: 1e-08\n",
      "\u001b[34m\u001b[1mwandb\u001b[0m: \thidden_size: 64\n",
      "\u001b[34m\u001b[1mwandb\u001b[0m: \tinit_type: random\n",
      "\u001b[34m\u001b[1mwandb\u001b[0m: \tlearning_rate: 0.001\n",
      "\u001b[34m\u001b[1mwandb\u001b[0m: \tmomentum: 0.8\n",
      "\u001b[34m\u001b[1mwandb\u001b[0m: \tnum_hidden_layers: 3\n",
      "\u001b[34m\u001b[1mwandb\u001b[0m: \toptimizer: adam\n",
      "\u001b[34m\u001b[1mwandb\u001b[0m: \tweight_decay: 0\n"
     ]
    },
    {
     "data": {
      "text/html": [
       "Tracking run with wandb version 0.19.8"
      ],
      "text/plain": [
       "<IPython.core.display.HTML object>"
      ]
     },
     "metadata": {},
     "output_type": "display_data"
    },
    {
     "data": {
      "text/html": [
       "Run data is saved locally in <code>c:\\Users\\acer\\OneDrive\\Documents\\GitHub\\dl_assignment_ed24s401\\wandb\\run-20250316_201828-bq0xhfvs</code>"
      ],
      "text/plain": [
       "<IPython.core.display.HTML object>"
      ]
     },
     "metadata": {},
     "output_type": "display_data"
    },
    {
     "data": {
      "text/html": [
       "Syncing run <strong><a href='https://wandb.ai/ed24s401-indian-institute-of-technology-madras/q4_sweep_project/runs/bq0xhfvs' target=\"_blank\">glamorous-sweep-21</a></strong> to <a href='https://wandb.ai/ed24s401-indian-institute-of-technology-madras/q4_sweep_project' target=\"_blank\">Weights & Biases</a> (<a href='https://wandb.me/developer-guide' target=\"_blank\">docs</a>)<br>Sweep page: <a href='https://wandb.ai/ed24s401-indian-institute-of-technology-madras/q4_sweep_project/sweeps/p60nv46x' target=\"_blank\">https://wandb.ai/ed24s401-indian-institute-of-technology-madras/q4_sweep_project/sweeps/p60nv46x</a>"
      ],
      "text/plain": [
       "<IPython.core.display.HTML object>"
      ]
     },
     "metadata": {},
     "output_type": "display_data"
    },
    {
     "data": {
      "text/html": [
       " View project at <a href='https://wandb.ai/ed24s401-indian-institute-of-technology-madras/q4_sweep_project' target=\"_blank\">https://wandb.ai/ed24s401-indian-institute-of-technology-madras/q4_sweep_project</a>"
      ],
      "text/plain": [
       "<IPython.core.display.HTML object>"
      ]
     },
     "metadata": {},
     "output_type": "display_data"
    },
    {
     "data": {
      "text/html": [
       " View sweep at <a href='https://wandb.ai/ed24s401-indian-institute-of-technology-madras/q4_sweep_project/sweeps/p60nv46x' target=\"_blank\">https://wandb.ai/ed24s401-indian-institute-of-technology-madras/q4_sweep_project/sweeps/p60nv46x</a>"
      ],
      "text/plain": [
       "<IPython.core.display.HTML object>"
      ]
     },
     "metadata": {},
     "output_type": "display_data"
    },
    {
     "data": {
      "text/html": [
       " View run at <a href='https://wandb.ai/ed24s401-indian-institute-of-technology-madras/q4_sweep_project/runs/bq0xhfvs' target=\"_blank\">https://wandb.ai/ed24s401-indian-institute-of-technology-madras/q4_sweep_project/runs/bq0xhfvs</a>"
      ],
      "text/plain": [
       "<IPython.core.display.HTML object>"
      ]
     },
     "metadata": {},
     "output_type": "display_data"
    },
    {
     "name": "stdout",
     "output_type": "stream",
     "text": [
      "Epoch 1/10 - loss=0.7384, val_acc=0.8442, val_loss=0.44929709339667245\n",
      "Epoch 2/10 - loss=0.4116, val_acc=0.8608, val_loss=0.39029753459721195\n",
      "Epoch 3/10 - loss=0.3683, val_acc=0.8682, val_loss=0.3662082821915141\n",
      "Epoch 4/10 - loss=0.3435, val_acc=0.8710, val_loss=0.3527548945868662\n",
      "Epoch 5/10 - loss=0.3247, val_acc=0.8728, val_loss=0.3428160543798559\n",
      "Epoch 6/10 - loss=0.3120, val_acc=0.8805, val_loss=0.33990519086044596\n",
      "Epoch 7/10 - loss=0.2998, val_acc=0.8745, val_loss=0.3311118536134983\n",
      "Epoch 8/10 - loss=0.2903, val_acc=0.8793, val_loss=0.3258548674831543\n",
      "Epoch 9/10 - loss=0.2794, val_acc=0.8792, val_loss=0.3244729602770525\n",
      "Epoch 10/10 - loss=0.2721, val_acc=0.8835, val_loss=0.3205575965837035\n",
      "test accuracy  0.8758\n"
     ]
    },
    {
     "data": {
      "text/html": [],
      "text/plain": [
       "<IPython.core.display.HTML object>"
      ]
     },
     "metadata": {},
     "output_type": "display_data"
    },
    {
     "data": {
      "text/html": [
       "<br>    <style><br>        .wandb-row {<br>            display: flex;<br>            flex-direction: row;<br>            flex-wrap: wrap;<br>            justify-content: flex-start;<br>            width: 100%;<br>        }<br>        .wandb-col {<br>            display: flex;<br>            flex-direction: column;<br>            flex-basis: 100%;<br>            flex: 1;<br>            padding: 10px;<br>        }<br>    </style><br><div class=\"wandb-row\"><div class=\"wandb-col\"><h3>Run history:</h3><br/><table class=\"wandb\"><tr><td>epoch</td><td>▁▂▃▃▄▅▆▆▇█</td></tr><tr><td>test_accuracy</td><td>▁</td></tr><tr><td>training_loss</td><td>█▃▂▂▂▂▁▁▁▁</td></tr><tr><td>validation loss</td><td>█▅▃▃▂▂▂▁▁▁</td></tr><tr><td>validation_accuracy</td><td>▁▄▅▆▆▇▆▇▇█</td></tr></table><br/></div><div class=\"wandb-col\"><h3>Run summary:</h3><br/><table class=\"wandb\"><tr><td>epoch</td><td>10</td></tr><tr><td>test_accuracy</td><td>0.8758</td></tr><tr><td>training_loss</td><td>0.2721</td></tr><tr><td>validation loss</td><td>0.32056</td></tr><tr><td>validation_accuracy</td><td>0.8835</td></tr></table><br/></div></div>"
      ],
      "text/plain": [
       "<IPython.core.display.HTML object>"
      ]
     },
     "metadata": {},
     "output_type": "display_data"
    },
    {
     "data": {
      "text/html": [
       " View run <strong style=\"color:#cdcd00\">hl_3_bs_32_ac_sigmoid_opt_adam</strong> at: <a href='https://wandb.ai/ed24s401-indian-institute-of-technology-madras/q4_sweep_project/runs/bq0xhfvs' target=\"_blank\">https://wandb.ai/ed24s401-indian-institute-of-technology-madras/q4_sweep_project/runs/bq0xhfvs</a><br> View project at: <a href='https://wandb.ai/ed24s401-indian-institute-of-technology-madras/q4_sweep_project' target=\"_blank\">https://wandb.ai/ed24s401-indian-institute-of-technology-madras/q4_sweep_project</a><br>Synced 5 W&B file(s), 0 media file(s), 0 artifact file(s) and 0 other file(s)"
      ],
      "text/plain": [
       "<IPython.core.display.HTML object>"
      ]
     },
     "metadata": {},
     "output_type": "display_data"
    },
    {
     "data": {
      "text/html": [
       "Find logs at: <code>.\\wandb\\run-20250316_201828-bq0xhfvs\\logs</code>"
      ],
      "text/plain": [
       "<IPython.core.display.HTML object>"
      ]
     },
     "metadata": {},
     "output_type": "display_data"
    },
    {
     "name": "stderr",
     "output_type": "stream",
     "text": [
      "\u001b[34m\u001b[1mwandb\u001b[0m: Agent Starting Run: 85yffuw1 with config:\n",
      "\u001b[34m\u001b[1mwandb\u001b[0m: \tactivation: relu\n",
      "\u001b[34m\u001b[1mwandb\u001b[0m: \tbatch_size: 32\n",
      "\u001b[34m\u001b[1mwandb\u001b[0m: \tbeta1: 0.9\n",
      "\u001b[34m\u001b[1mwandb\u001b[0m: \tbeta2: 0.999\n",
      "\u001b[34m\u001b[1mwandb\u001b[0m: \tbeta_rms: 0.9\n",
      "\u001b[34m\u001b[1mwandb\u001b[0m: \tepochs: 10\n",
      "\u001b[34m\u001b[1mwandb\u001b[0m: \tepsilon: 1e-08\n",
      "\u001b[34m\u001b[1mwandb\u001b[0m: \thidden_size: 128\n",
      "\u001b[34m\u001b[1mwandb\u001b[0m: \tinit_type: xavier\n",
      "\u001b[34m\u001b[1mwandb\u001b[0m: \tlearning_rate: 0.0001\n",
      "\u001b[34m\u001b[1mwandb\u001b[0m: \tmomentum: 0.9\n",
      "\u001b[34m\u001b[1mwandb\u001b[0m: \tnum_hidden_layers: 3\n",
      "\u001b[34m\u001b[1mwandb\u001b[0m: \toptimizer: momentum\n",
      "\u001b[34m\u001b[1mwandb\u001b[0m: \tweight_decay: 0.0005\n"
     ]
    },
    {
     "data": {
      "text/html": [
       "Tracking run with wandb version 0.19.8"
      ],
      "text/plain": [
       "<IPython.core.display.HTML object>"
      ]
     },
     "metadata": {},
     "output_type": "display_data"
    },
    {
     "data": {
      "text/html": [
       "Run data is saved locally in <code>c:\\Users\\acer\\OneDrive\\Documents\\GitHub\\dl_assignment_ed24s401\\wandb\\run-20250316_201910-85yffuw1</code>"
      ],
      "text/plain": [
       "<IPython.core.display.HTML object>"
      ]
     },
     "metadata": {},
     "output_type": "display_data"
    },
    {
     "data": {
      "text/html": [
       "Syncing run <strong><a href='https://wandb.ai/ed24s401-indian-institute-of-technology-madras/q4_sweep_project/runs/85yffuw1' target=\"_blank\">driven-sweep-22</a></strong> to <a href='https://wandb.ai/ed24s401-indian-institute-of-technology-madras/q4_sweep_project' target=\"_blank\">Weights & Biases</a> (<a href='https://wandb.me/developer-guide' target=\"_blank\">docs</a>)<br>Sweep page: <a href='https://wandb.ai/ed24s401-indian-institute-of-technology-madras/q4_sweep_project/sweeps/p60nv46x' target=\"_blank\">https://wandb.ai/ed24s401-indian-institute-of-technology-madras/q4_sweep_project/sweeps/p60nv46x</a>"
      ],
      "text/plain": [
       "<IPython.core.display.HTML object>"
      ]
     },
     "metadata": {},
     "output_type": "display_data"
    },
    {
     "data": {
      "text/html": [
       " View project at <a href='https://wandb.ai/ed24s401-indian-institute-of-technology-madras/q4_sweep_project' target=\"_blank\">https://wandb.ai/ed24s401-indian-institute-of-technology-madras/q4_sweep_project</a>"
      ],
      "text/plain": [
       "<IPython.core.display.HTML object>"
      ]
     },
     "metadata": {},
     "output_type": "display_data"
    },
    {
     "data": {
      "text/html": [
       " View sweep at <a href='https://wandb.ai/ed24s401-indian-institute-of-technology-madras/q4_sweep_project/sweeps/p60nv46x' target=\"_blank\">https://wandb.ai/ed24s401-indian-institute-of-technology-madras/q4_sweep_project/sweeps/p60nv46x</a>"
      ],
      "text/plain": [
       "<IPython.core.display.HTML object>"
      ]
     },
     "metadata": {},
     "output_type": "display_data"
    },
    {
     "data": {
      "text/html": [
       " View run at <a href='https://wandb.ai/ed24s401-indian-institute-of-technology-madras/q4_sweep_project/runs/85yffuw1' target=\"_blank\">https://wandb.ai/ed24s401-indian-institute-of-technology-madras/q4_sweep_project/runs/85yffuw1</a>"
      ],
      "text/plain": [
       "<IPython.core.display.HTML object>"
      ]
     },
     "metadata": {},
     "output_type": "display_data"
    },
    {
     "name": "stdout",
     "output_type": "stream",
     "text": [
      "Epoch 1/10 - loss=2.0524, val_acc=0.6217, val_loss=1.4913677175989664\n",
      "Epoch 2/10 - loss=1.2682, val_acc=0.6715, val_loss=0.9849910493824618\n",
      "Epoch 3/10 - loss=0.9801, val_acc=0.7198, val_loss=0.8226347576227293\n",
      "Epoch 4/10 - loss=0.8603, val_acc=0.7480, val_loss=0.7358059700852158\n",
      "Epoch 5/10 - loss=0.7883, val_acc=0.7708, val_loss=0.6771725064066416\n",
      "Epoch 6/10 - loss=0.7386, val_acc=0.7870, val_loss=0.6339038920989798\n",
      "Epoch 7/10 - loss=0.7001, val_acc=0.7927, val_loss=0.6034520612606704\n",
      "Epoch 8/10 - loss=0.6714, val_acc=0.8025, val_loss=0.573628052082561\n",
      "Epoch 9/10 - loss=0.6487, val_acc=0.8082, val_loss=0.5555827518895411\n",
      "Epoch 10/10 - loss=0.6310, val_acc=0.8082, val_loss=0.5431267292891337\n",
      "test accuracy  0.8037\n"
     ]
    },
    {
     "data": {
      "text/html": [],
      "text/plain": [
       "<IPython.core.display.HTML object>"
      ]
     },
     "metadata": {},
     "output_type": "display_data"
    },
    {
     "data": {
      "text/html": [
       "<br>    <style><br>        .wandb-row {<br>            display: flex;<br>            flex-direction: row;<br>            flex-wrap: wrap;<br>            justify-content: flex-start;<br>            width: 100%;<br>        }<br>        .wandb-col {<br>            display: flex;<br>            flex-direction: column;<br>            flex-basis: 100%;<br>            flex: 1;<br>            padding: 10px;<br>        }<br>    </style><br><div class=\"wandb-row\"><div class=\"wandb-col\"><h3>Run history:</h3><br/><table class=\"wandb\"><tr><td>epoch</td><td>▁▂▃▃▄▅▆▆▇█</td></tr><tr><td>test_accuracy</td><td>▁</td></tr><tr><td>training_loss</td><td>█▄▃▂▂▂▁▁▁▁</td></tr><tr><td>validation loss</td><td>█▄▃▂▂▂▁▁▁▁</td></tr><tr><td>validation_accuracy</td><td>▁▃▅▆▇▇▇███</td></tr></table><br/></div><div class=\"wandb-col\"><h3>Run summary:</h3><br/><table class=\"wandb\"><tr><td>epoch</td><td>10</td></tr><tr><td>test_accuracy</td><td>0.8037</td></tr><tr><td>training_loss</td><td>0.63097</td></tr><tr><td>validation loss</td><td>0.54313</td></tr><tr><td>validation_accuracy</td><td>0.80817</td></tr></table><br/></div></div>"
      ],
      "text/plain": [
       "<IPython.core.display.HTML object>"
      ]
     },
     "metadata": {},
     "output_type": "display_data"
    },
    {
     "data": {
      "text/html": [
       " View run <strong style=\"color:#cdcd00\">hl_3_bs_32_ac_relu_opt_momentum</strong> at: <a href='https://wandb.ai/ed24s401-indian-institute-of-technology-madras/q4_sweep_project/runs/85yffuw1' target=\"_blank\">https://wandb.ai/ed24s401-indian-institute-of-technology-madras/q4_sweep_project/runs/85yffuw1</a><br> View project at: <a href='https://wandb.ai/ed24s401-indian-institute-of-technology-madras/q4_sweep_project' target=\"_blank\">https://wandb.ai/ed24s401-indian-institute-of-technology-madras/q4_sweep_project</a><br>Synced 5 W&B file(s), 0 media file(s), 0 artifact file(s) and 0 other file(s)"
      ],
      "text/plain": [
       "<IPython.core.display.HTML object>"
      ]
     },
     "metadata": {},
     "output_type": "display_data"
    },
    {
     "data": {
      "text/html": [
       "Find logs at: <code>.\\wandb\\run-20250316_201910-85yffuw1\\logs</code>"
      ],
      "text/plain": [
       "<IPython.core.display.HTML object>"
      ]
     },
     "metadata": {},
     "output_type": "display_data"
    },
    {
     "name": "stderr",
     "output_type": "stream",
     "text": [
      "\u001b[34m\u001b[1mwandb\u001b[0m: Sweep Agent: Waiting for job.\n",
      "\u001b[34m\u001b[1mwandb\u001b[0m: Job received.\n",
      "\u001b[34m\u001b[1mwandb\u001b[0m: Agent Starting Run: ukqf25xa with config:\n",
      "\u001b[34m\u001b[1mwandb\u001b[0m: \tactivation: sigmoid\n",
      "\u001b[34m\u001b[1mwandb\u001b[0m: \tbatch_size: 32\n",
      "\u001b[34m\u001b[1mwandb\u001b[0m: \tbeta1: 0.9\n",
      "\u001b[34m\u001b[1mwandb\u001b[0m: \tbeta2: 0.999\n",
      "\u001b[34m\u001b[1mwandb\u001b[0m: \tbeta_rms: 0.9\n",
      "\u001b[34m\u001b[1mwandb\u001b[0m: \tepochs: 10\n",
      "\u001b[34m\u001b[1mwandb\u001b[0m: \tepsilon: 1e-08\n",
      "\u001b[34m\u001b[1mwandb\u001b[0m: \thidden_size: 64\n",
      "\u001b[34m\u001b[1mwandb\u001b[0m: \tinit_type: random\n",
      "\u001b[34m\u001b[1mwandb\u001b[0m: \tlearning_rate: 0.0001\n",
      "\u001b[34m\u001b[1mwandb\u001b[0m: \tmomentum: 0.8\n",
      "\u001b[34m\u001b[1mwandb\u001b[0m: \tnum_hidden_layers: 5\n",
      "\u001b[34m\u001b[1mwandb\u001b[0m: \toptimizer: nadam\n",
      "\u001b[34m\u001b[1mwandb\u001b[0m: \tweight_decay: 0\n"
     ]
    },
    {
     "data": {
      "text/html": [
       "Tracking run with wandb version 0.19.8"
      ],
      "text/plain": [
       "<IPython.core.display.HTML object>"
      ]
     },
     "metadata": {},
     "output_type": "display_data"
    },
    {
     "data": {
      "text/html": [
       "Run data is saved locally in <code>c:\\Users\\acer\\OneDrive\\Documents\\GitHub\\dl_assignment_ed24s401\\wandb\\run-20250316_202012-ukqf25xa</code>"
      ],
      "text/plain": [
       "<IPython.core.display.HTML object>"
      ]
     },
     "metadata": {},
     "output_type": "display_data"
    },
    {
     "data": {
      "text/html": [
       "Syncing run <strong><a href='https://wandb.ai/ed24s401-indian-institute-of-technology-madras/q4_sweep_project/runs/ukqf25xa' target=\"_blank\">iconic-sweep-23</a></strong> to <a href='https://wandb.ai/ed24s401-indian-institute-of-technology-madras/q4_sweep_project' target=\"_blank\">Weights & Biases</a> (<a href='https://wandb.me/developer-guide' target=\"_blank\">docs</a>)<br>Sweep page: <a href='https://wandb.ai/ed24s401-indian-institute-of-technology-madras/q4_sweep_project/sweeps/p60nv46x' target=\"_blank\">https://wandb.ai/ed24s401-indian-institute-of-technology-madras/q4_sweep_project/sweeps/p60nv46x</a>"
      ],
      "text/plain": [
       "<IPython.core.display.HTML object>"
      ]
     },
     "metadata": {},
     "output_type": "display_data"
    },
    {
     "data": {
      "text/html": [
       " View project at <a href='https://wandb.ai/ed24s401-indian-institute-of-technology-madras/q4_sweep_project' target=\"_blank\">https://wandb.ai/ed24s401-indian-institute-of-technology-madras/q4_sweep_project</a>"
      ],
      "text/plain": [
       "<IPython.core.display.HTML object>"
      ]
     },
     "metadata": {},
     "output_type": "display_data"
    },
    {
     "data": {
      "text/html": [
       " View sweep at <a href='https://wandb.ai/ed24s401-indian-institute-of-technology-madras/q4_sweep_project/sweeps/p60nv46x' target=\"_blank\">https://wandb.ai/ed24s401-indian-institute-of-technology-madras/q4_sweep_project/sweeps/p60nv46x</a>"
      ],
      "text/plain": [
       "<IPython.core.display.HTML object>"
      ]
     },
     "metadata": {},
     "output_type": "display_data"
    },
    {
     "data": {
      "text/html": [
       " View run at <a href='https://wandb.ai/ed24s401-indian-institute-of-technology-madras/q4_sweep_project/runs/ukqf25xa' target=\"_blank\">https://wandb.ai/ed24s401-indian-institute-of-technology-madras/q4_sweep_project/runs/ukqf25xa</a>"
      ],
      "text/plain": [
       "<IPython.core.display.HTML object>"
      ]
     },
     "metadata": {},
     "output_type": "display_data"
    },
    {
     "name": "stdout",
     "output_type": "stream",
     "text": [
      "Epoch 1/10 - loss=2.0587, val_acc=0.3055, val_loss=1.7334853526327958\n",
      "Epoch 2/10 - loss=1.5013, val_acc=0.4195, val_loss=1.2980689043578804\n",
      "Epoch 3/10 - loss=1.1921, val_acc=0.5462, val_loss=1.1103010869695438\n",
      "Epoch 4/10 - loss=1.0272, val_acc=0.6357, val_loss=0.969085243009809\n",
      "Epoch 5/10 - loss=0.8923, val_acc=0.7052, val_loss=0.8468564462964443\n",
      "Epoch 6/10 - loss=0.7658, val_acc=0.7503, val_loss=0.7294345944194273\n",
      "Epoch 7/10 - loss=0.6720, val_acc=0.7675, val_loss=0.6637225598858318\n",
      "Epoch 8/10 - loss=0.6176, val_acc=0.7807, val_loss=0.6171374223996476\n",
      "Epoch 9/10 - loss=0.5803, val_acc=0.7902, val_loss=0.5846230379331021\n",
      "Epoch 10/10 - loss=0.5521, val_acc=0.7958, val_loss=0.5613758420505413\n",
      "test accuracy  0.793\n"
     ]
    },
    {
     "data": {
      "text/html": [],
      "text/plain": [
       "<IPython.core.display.HTML object>"
      ]
     },
     "metadata": {},
     "output_type": "display_data"
    },
    {
     "data": {
      "text/html": [
       "<br>    <style><br>        .wandb-row {<br>            display: flex;<br>            flex-direction: row;<br>            flex-wrap: wrap;<br>            justify-content: flex-start;<br>            width: 100%;<br>        }<br>        .wandb-col {<br>            display: flex;<br>            flex-direction: column;<br>            flex-basis: 100%;<br>            flex: 1;<br>            padding: 10px;<br>        }<br>    </style><br><div class=\"wandb-row\"><div class=\"wandb-col\"><h3>Run history:</h3><br/><table class=\"wandb\"><tr><td>epoch</td><td>▁▂▃▃▄▅▆▆▇█</td></tr><tr><td>test_accuracy</td><td>▁</td></tr><tr><td>training_loss</td><td>█▅▄▃▃▂▂▁▁▁</td></tr><tr><td>validation loss</td><td>█▅▄▃▃▂▂▁▁▁</td></tr><tr><td>validation_accuracy</td><td>▁▃▄▆▇▇████</td></tr></table><br/></div><div class=\"wandb-col\"><h3>Run summary:</h3><br/><table class=\"wandb\"><tr><td>epoch</td><td>10</td></tr><tr><td>test_accuracy</td><td>0.793</td></tr><tr><td>training_loss</td><td>0.55205</td></tr><tr><td>validation loss</td><td>0.56138</td></tr><tr><td>validation_accuracy</td><td>0.79583</td></tr></table><br/></div></div>"
      ],
      "text/plain": [
       "<IPython.core.display.HTML object>"
      ]
     },
     "metadata": {},
     "output_type": "display_data"
    },
    {
     "data": {
      "text/html": [
       " View run <strong style=\"color:#cdcd00\">hl_5_bs_32_ac_sigmoid_opt_nadam</strong> at: <a href='https://wandb.ai/ed24s401-indian-institute-of-technology-madras/q4_sweep_project/runs/ukqf25xa' target=\"_blank\">https://wandb.ai/ed24s401-indian-institute-of-technology-madras/q4_sweep_project/runs/ukqf25xa</a><br> View project at: <a href='https://wandb.ai/ed24s401-indian-institute-of-technology-madras/q4_sweep_project' target=\"_blank\">https://wandb.ai/ed24s401-indian-institute-of-technology-madras/q4_sweep_project</a><br>Synced 5 W&B file(s), 0 media file(s), 0 artifact file(s) and 0 other file(s)"
      ],
      "text/plain": [
       "<IPython.core.display.HTML object>"
      ]
     },
     "metadata": {},
     "output_type": "display_data"
    },
    {
     "data": {
      "text/html": [
       "Find logs at: <code>.\\wandb\\run-20250316_202012-ukqf25xa\\logs</code>"
      ],
      "text/plain": [
       "<IPython.core.display.HTML object>"
      ]
     },
     "metadata": {},
     "output_type": "display_data"
    },
    {
     "name": "stderr",
     "output_type": "stream",
     "text": [
      "\u001b[34m\u001b[1mwandb\u001b[0m: Agent Starting Run: yfr81jrj with config:\n",
      "\u001b[34m\u001b[1mwandb\u001b[0m: \tactivation: relu\n",
      "\u001b[34m\u001b[1mwandb\u001b[0m: \tbatch_size: 32\n",
      "\u001b[34m\u001b[1mwandb\u001b[0m: \tbeta1: 0.9\n",
      "\u001b[34m\u001b[1mwandb\u001b[0m: \tbeta2: 0.999\n",
      "\u001b[34m\u001b[1mwandb\u001b[0m: \tbeta_rms: 0.9\n",
      "\u001b[34m\u001b[1mwandb\u001b[0m: \tepochs: 10\n",
      "\u001b[34m\u001b[1mwandb\u001b[0m: \tepsilon: 1e-08\n",
      "\u001b[34m\u001b[1mwandb\u001b[0m: \thidden_size: 64\n",
      "\u001b[34m\u001b[1mwandb\u001b[0m: \tinit_type: xavier\n",
      "\u001b[34m\u001b[1mwandb\u001b[0m: \tlearning_rate: 0.0001\n",
      "\u001b[34m\u001b[1mwandb\u001b[0m: \tmomentum: 0.9\n",
      "\u001b[34m\u001b[1mwandb\u001b[0m: \tnum_hidden_layers: 3\n",
      "\u001b[34m\u001b[1mwandb\u001b[0m: \toptimizer: nadam\n",
      "\u001b[34m\u001b[1mwandb\u001b[0m: \tweight_decay: 0\n"
     ]
    },
    {
     "data": {
      "text/html": [
       "Tracking run with wandb version 0.19.8"
      ],
      "text/plain": [
       "<IPython.core.display.HTML object>"
      ]
     },
     "metadata": {},
     "output_type": "display_data"
    },
    {
     "data": {
      "text/html": [
       "Run data is saved locally in <code>c:\\Users\\acer\\OneDrive\\Documents\\GitHub\\dl_assignment_ed24s401\\wandb\\run-20250316_202144-yfr81jrj</code>"
      ],
      "text/plain": [
       "<IPython.core.display.HTML object>"
      ]
     },
     "metadata": {},
     "output_type": "display_data"
    },
    {
     "data": {
      "text/html": [
       "Syncing run <strong><a href='https://wandb.ai/ed24s401-indian-institute-of-technology-madras/q4_sweep_project/runs/yfr81jrj' target=\"_blank\">kind-sweep-24</a></strong> to <a href='https://wandb.ai/ed24s401-indian-institute-of-technology-madras/q4_sweep_project' target=\"_blank\">Weights & Biases</a> (<a href='https://wandb.me/developer-guide' target=\"_blank\">docs</a>)<br>Sweep page: <a href='https://wandb.ai/ed24s401-indian-institute-of-technology-madras/q4_sweep_project/sweeps/p60nv46x' target=\"_blank\">https://wandb.ai/ed24s401-indian-institute-of-technology-madras/q4_sweep_project/sweeps/p60nv46x</a>"
      ],
      "text/plain": [
       "<IPython.core.display.HTML object>"
      ]
     },
     "metadata": {},
     "output_type": "display_data"
    },
    {
     "data": {
      "text/html": [
       " View project at <a href='https://wandb.ai/ed24s401-indian-institute-of-technology-madras/q4_sweep_project' target=\"_blank\">https://wandb.ai/ed24s401-indian-institute-of-technology-madras/q4_sweep_project</a>"
      ],
      "text/plain": [
       "<IPython.core.display.HTML object>"
      ]
     },
     "metadata": {},
     "output_type": "display_data"
    },
    {
     "data": {
      "text/html": [
       " View sweep at <a href='https://wandb.ai/ed24s401-indian-institute-of-technology-madras/q4_sweep_project/sweeps/p60nv46x' target=\"_blank\">https://wandb.ai/ed24s401-indian-institute-of-technology-madras/q4_sweep_project/sweeps/p60nv46x</a>"
      ],
      "text/plain": [
       "<IPython.core.display.HTML object>"
      ]
     },
     "metadata": {},
     "output_type": "display_data"
    },
    {
     "data": {
      "text/html": [
       " View run at <a href='https://wandb.ai/ed24s401-indian-institute-of-technology-madras/q4_sweep_project/runs/yfr81jrj' target=\"_blank\">https://wandb.ai/ed24s401-indian-institute-of-technology-madras/q4_sweep_project/runs/yfr81jrj</a>"
      ],
      "text/plain": [
       "<IPython.core.display.HTML object>"
      ]
     },
     "metadata": {},
     "output_type": "display_data"
    },
    {
     "name": "stdout",
     "output_type": "stream",
     "text": [
      "Epoch 1/10 - loss=0.7868, val_acc=0.8167, val_loss=0.5217478342201655\n",
      "Epoch 2/10 - loss=0.4816, val_acc=0.8377, val_loss=0.4585569569009179\n",
      "Epoch 3/10 - loss=0.4367, val_acc=0.8437, val_loss=0.43797609699630824\n",
      "Epoch 4/10 - loss=0.4112, val_acc=0.8547, val_loss=0.40707383224604626\n",
      "Epoch 5/10 - loss=0.3929, val_acc=0.8593, val_loss=0.39868272907460245\n",
      "Epoch 6/10 - loss=0.3794, val_acc=0.8622, val_loss=0.38730276633180966\n",
      "Epoch 7/10 - loss=0.3672, val_acc=0.8595, val_loss=0.383965068278298\n",
      "Epoch 8/10 - loss=0.3567, val_acc=0.8680, val_loss=0.36583353707208216\n",
      "Epoch 9/10 - loss=0.3465, val_acc=0.8702, val_loss=0.35970920867590317\n",
      "Epoch 10/10 - loss=0.3392, val_acc=0.8698, val_loss=0.3568636316582727\n",
      "test accuracy  0.8618\n"
     ]
    },
    {
     "data": {
      "text/html": [],
      "text/plain": [
       "<IPython.core.display.HTML object>"
      ]
     },
     "metadata": {},
     "output_type": "display_data"
    },
    {
     "data": {
      "text/html": [
       "<br>    <style><br>        .wandb-row {<br>            display: flex;<br>            flex-direction: row;<br>            flex-wrap: wrap;<br>            justify-content: flex-start;<br>            width: 100%;<br>        }<br>        .wandb-col {<br>            display: flex;<br>            flex-direction: column;<br>            flex-basis: 100%;<br>            flex: 1;<br>            padding: 10px;<br>        }<br>    </style><br><div class=\"wandb-row\"><div class=\"wandb-col\"><h3>Run history:</h3><br/><table class=\"wandb\"><tr><td>epoch</td><td>▁▂▃▃▄▅▆▆▇█</td></tr><tr><td>test_accuracy</td><td>▁</td></tr><tr><td>training_loss</td><td>█▃▃▂▂▂▁▁▁▁</td></tr><tr><td>validation loss</td><td>█▅▄▃▃▂▂▁▁▁</td></tr><tr><td>validation_accuracy</td><td>▁▄▅▆▇▇▇███</td></tr></table><br/></div><div class=\"wandb-col\"><h3>Run summary:</h3><br/><table class=\"wandb\"><tr><td>epoch</td><td>10</td></tr><tr><td>test_accuracy</td><td>0.8618</td></tr><tr><td>training_loss</td><td>0.33918</td></tr><tr><td>validation loss</td><td>0.35686</td></tr><tr><td>validation_accuracy</td><td>0.86983</td></tr></table><br/></div></div>"
      ],
      "text/plain": [
       "<IPython.core.display.HTML object>"
      ]
     },
     "metadata": {},
     "output_type": "display_data"
    },
    {
     "data": {
      "text/html": [
       " View run <strong style=\"color:#cdcd00\">hl_3_bs_32_ac_relu_opt_nadam</strong> at: <a href='https://wandb.ai/ed24s401-indian-institute-of-technology-madras/q4_sweep_project/runs/yfr81jrj' target=\"_blank\">https://wandb.ai/ed24s401-indian-institute-of-technology-madras/q4_sweep_project/runs/yfr81jrj</a><br> View project at: <a href='https://wandb.ai/ed24s401-indian-institute-of-technology-madras/q4_sweep_project' target=\"_blank\">https://wandb.ai/ed24s401-indian-institute-of-technology-madras/q4_sweep_project</a><br>Synced 5 W&B file(s), 0 media file(s), 0 artifact file(s) and 0 other file(s)"
      ],
      "text/plain": [
       "<IPython.core.display.HTML object>"
      ]
     },
     "metadata": {},
     "output_type": "display_data"
    },
    {
     "data": {
      "text/html": [
       "Find logs at: <code>.\\wandb\\run-20250316_202144-yfr81jrj\\logs</code>"
      ],
      "text/plain": [
       "<IPython.core.display.HTML object>"
      ]
     },
     "metadata": {},
     "output_type": "display_data"
    },
    {
     "name": "stderr",
     "output_type": "stream",
     "text": [
      "\u001b[34m\u001b[1mwandb\u001b[0m: Agent Starting Run: tewg7q73 with config:\n",
      "\u001b[34m\u001b[1mwandb\u001b[0m: \tactivation: sigmoid\n",
      "\u001b[34m\u001b[1mwandb\u001b[0m: \tbatch_size: 32\n",
      "\u001b[34m\u001b[1mwandb\u001b[0m: \tbeta1: 0.9\n",
      "\u001b[34m\u001b[1mwandb\u001b[0m: \tbeta2: 0.999\n",
      "\u001b[34m\u001b[1mwandb\u001b[0m: \tbeta_rms: 0.9\n",
      "\u001b[34m\u001b[1mwandb\u001b[0m: \tepochs: 10\n",
      "\u001b[34m\u001b[1mwandb\u001b[0m: \tepsilon: 1e-08\n",
      "\u001b[34m\u001b[1mwandb\u001b[0m: \thidden_size: 128\n",
      "\u001b[34m\u001b[1mwandb\u001b[0m: \tinit_type: xavier\n",
      "\u001b[34m\u001b[1mwandb\u001b[0m: \tlearning_rate: 0.001\n",
      "\u001b[34m\u001b[1mwandb\u001b[0m: \tmomentum: 0.8\n",
      "\u001b[34m\u001b[1mwandb\u001b[0m: \tnum_hidden_layers: 5\n",
      "\u001b[34m\u001b[1mwandb\u001b[0m: \toptimizer: rmsprop\n",
      "\u001b[34m\u001b[1mwandb\u001b[0m: \tweight_decay: 0\n"
     ]
    },
    {
     "data": {
      "text/html": [
       "Tracking run with wandb version 0.19.8"
      ],
      "text/plain": [
       "<IPython.core.display.HTML object>"
      ]
     },
     "metadata": {},
     "output_type": "display_data"
    },
    {
     "data": {
      "text/html": [
       "Run data is saved locally in <code>c:\\Users\\acer\\OneDrive\\Documents\\GitHub\\dl_assignment_ed24s401\\wandb\\run-20250316_202241-tewg7q73</code>"
      ],
      "text/plain": [
       "<IPython.core.display.HTML object>"
      ]
     },
     "metadata": {},
     "output_type": "display_data"
    },
    {
     "data": {
      "text/html": [
       "Syncing run <strong><a href='https://wandb.ai/ed24s401-indian-institute-of-technology-madras/q4_sweep_project/runs/tewg7q73' target=\"_blank\">scarlet-sweep-25</a></strong> to <a href='https://wandb.ai/ed24s401-indian-institute-of-technology-madras/q4_sweep_project' target=\"_blank\">Weights & Biases</a> (<a href='https://wandb.me/developer-guide' target=\"_blank\">docs</a>)<br>Sweep page: <a href='https://wandb.ai/ed24s401-indian-institute-of-technology-madras/q4_sweep_project/sweeps/p60nv46x' target=\"_blank\">https://wandb.ai/ed24s401-indian-institute-of-technology-madras/q4_sweep_project/sweeps/p60nv46x</a>"
      ],
      "text/plain": [
       "<IPython.core.display.HTML object>"
      ]
     },
     "metadata": {},
     "output_type": "display_data"
    },
    {
     "data": {
      "text/html": [
       " View project at <a href='https://wandb.ai/ed24s401-indian-institute-of-technology-madras/q4_sweep_project' target=\"_blank\">https://wandb.ai/ed24s401-indian-institute-of-technology-madras/q4_sweep_project</a>"
      ],
      "text/plain": [
       "<IPython.core.display.HTML object>"
      ]
     },
     "metadata": {},
     "output_type": "display_data"
    },
    {
     "data": {
      "text/html": [
       " View sweep at <a href='https://wandb.ai/ed24s401-indian-institute-of-technology-madras/q4_sweep_project/sweeps/p60nv46x' target=\"_blank\">https://wandb.ai/ed24s401-indian-institute-of-technology-madras/q4_sweep_project/sweeps/p60nv46x</a>"
      ],
      "text/plain": [
       "<IPython.core.display.HTML object>"
      ]
     },
     "metadata": {},
     "output_type": "display_data"
    },
    {
     "data": {
      "text/html": [
       " View run at <a href='https://wandb.ai/ed24s401-indian-institute-of-technology-madras/q4_sweep_project/runs/tewg7q73' target=\"_blank\">https://wandb.ai/ed24s401-indian-institute-of-technology-madras/q4_sweep_project/runs/tewg7q73</a>"
      ],
      "text/plain": [
       "<IPython.core.display.HTML object>"
      ]
     },
     "metadata": {},
     "output_type": "display_data"
    },
    {
     "name": "stdout",
     "output_type": "stream",
     "text": [
      "Epoch 1/10 - loss=0.8951, val_acc=0.7687, val_loss=0.6317323622913114\n",
      "Epoch 2/10 - loss=0.5409, val_acc=0.8318, val_loss=0.4904202835232726\n",
      "Epoch 3/10 - loss=0.4743, val_acc=0.8278, val_loss=0.49711713173726596\n",
      "Epoch 4/10 - loss=0.4353, val_acc=0.8400, val_loss=0.4547748386550395\n",
      "Epoch 5/10 - loss=0.4084, val_acc=0.8448, val_loss=0.42994919418965144\n",
      "Epoch 6/10 - loss=0.3877, val_acc=0.8645, val_loss=0.38962028736764415\n",
      "Epoch 7/10 - loss=0.3719, val_acc=0.8695, val_loss=0.3749814437184869\n",
      "Epoch 8/10 - loss=0.3560, val_acc=0.8727, val_loss=0.36309485865762303\n",
      "Epoch 9/10 - loss=0.3429, val_acc=0.8627, val_loss=0.38277883014484254\n",
      "Epoch 10/10 - loss=0.3326, val_acc=0.8598, val_loss=0.3912337574388703\n",
      "test accuracy  0.8539\n"
     ]
    },
    {
     "data": {
      "text/html": [],
      "text/plain": [
       "<IPython.core.display.HTML object>"
      ]
     },
     "metadata": {},
     "output_type": "display_data"
    },
    {
     "data": {
      "text/html": [
       "<br>    <style><br>        .wandb-row {<br>            display: flex;<br>            flex-direction: row;<br>            flex-wrap: wrap;<br>            justify-content: flex-start;<br>            width: 100%;<br>        }<br>        .wandb-col {<br>            display: flex;<br>            flex-direction: column;<br>            flex-basis: 100%;<br>            flex: 1;<br>            padding: 10px;<br>        }<br>    </style><br><div class=\"wandb-row\"><div class=\"wandb-col\"><h3>Run history:</h3><br/><table class=\"wandb\"><tr><td>epoch</td><td>▁▂▃▃▄▅▆▆▇█</td></tr><tr><td>test_accuracy</td><td>▁</td></tr><tr><td>training_loss</td><td>█▄▃▂▂▂▁▁▁▁</td></tr><tr><td>validation loss</td><td>█▄▄▃▃▂▁▁▂▂</td></tr><tr><td>validation_accuracy</td><td>▁▅▅▆▆▇██▇▇</td></tr></table><br/></div><div class=\"wandb-col\"><h3>Run summary:</h3><br/><table class=\"wandb\"><tr><td>epoch</td><td>10</td></tr><tr><td>test_accuracy</td><td>0.8539</td></tr><tr><td>training_loss</td><td>0.33263</td></tr><tr><td>validation loss</td><td>0.39123</td></tr><tr><td>validation_accuracy</td><td>0.85983</td></tr></table><br/></div></div>"
      ],
      "text/plain": [
       "<IPython.core.display.HTML object>"
      ]
     },
     "metadata": {},
     "output_type": "display_data"
    },
    {
     "data": {
      "text/html": [
       " View run <strong style=\"color:#cdcd00\">hl_5_bs_32_ac_sigmoid_opt_rmsprop</strong> at: <a href='https://wandb.ai/ed24s401-indian-institute-of-technology-madras/q4_sweep_project/runs/tewg7q73' target=\"_blank\">https://wandb.ai/ed24s401-indian-institute-of-technology-madras/q4_sweep_project/runs/tewg7q73</a><br> View project at: <a href='https://wandb.ai/ed24s401-indian-institute-of-technology-madras/q4_sweep_project' target=\"_blank\">https://wandb.ai/ed24s401-indian-institute-of-technology-madras/q4_sweep_project</a><br>Synced 5 W&B file(s), 0 media file(s), 0 artifact file(s) and 0 other file(s)"
      ],
      "text/plain": [
       "<IPython.core.display.HTML object>"
      ]
     },
     "metadata": {},
     "output_type": "display_data"
    },
    {
     "data": {
      "text/html": [
       "Find logs at: <code>.\\wandb\\run-20250316_202241-tewg7q73\\logs</code>"
      ],
      "text/plain": [
       "<IPython.core.display.HTML object>"
      ]
     },
     "metadata": {},
     "output_type": "display_data"
    },
    {
     "name": "stderr",
     "output_type": "stream",
     "text": [
      "\u001b[34m\u001b[1mwandb\u001b[0m: Agent Starting Run: lr95q2c4 with config:\n",
      "\u001b[34m\u001b[1mwandb\u001b[0m: \tactivation: relu\n",
      "\u001b[34m\u001b[1mwandb\u001b[0m: \tbatch_size: 32\n",
      "\u001b[34m\u001b[1mwandb\u001b[0m: \tbeta1: 0.9\n",
      "\u001b[34m\u001b[1mwandb\u001b[0m: \tbeta2: 0.999\n",
      "\u001b[34m\u001b[1mwandb\u001b[0m: \tbeta_rms: 0.9\n",
      "\u001b[34m\u001b[1mwandb\u001b[0m: \tepochs: 10\n",
      "\u001b[34m\u001b[1mwandb\u001b[0m: \tepsilon: 1e-08\n",
      "\u001b[34m\u001b[1mwandb\u001b[0m: \thidden_size: 64\n",
      "\u001b[34m\u001b[1mwandb\u001b[0m: \tinit_type: random\n",
      "\u001b[34m\u001b[1mwandb\u001b[0m: \tlearning_rate: 0.001\n",
      "\u001b[34m\u001b[1mwandb\u001b[0m: \tmomentum: 0.9\n",
      "\u001b[34m\u001b[1mwandb\u001b[0m: \tnum_hidden_layers: 5\n",
      "\u001b[34m\u001b[1mwandb\u001b[0m: \toptimizer: rmsprop\n",
      "\u001b[34m\u001b[1mwandb\u001b[0m: \tweight_decay: 0\n"
     ]
    },
    {
     "data": {
      "text/html": [
       "Tracking run with wandb version 0.19.8"
      ],
      "text/plain": [
       "<IPython.core.display.HTML object>"
      ]
     },
     "metadata": {},
     "output_type": "display_data"
    },
    {
     "data": {
      "text/html": [
       "Run data is saved locally in <code>c:\\Users\\acer\\OneDrive\\Documents\\GitHub\\dl_assignment_ed24s401\\wandb\\run-20250316_202422-lr95q2c4</code>"
      ],
      "text/plain": [
       "<IPython.core.display.HTML object>"
      ]
     },
     "metadata": {},
     "output_type": "display_data"
    },
    {
     "data": {
      "text/html": [
       "Syncing run <strong><a href='https://wandb.ai/ed24s401-indian-institute-of-technology-madras/q4_sweep_project/runs/lr95q2c4' target=\"_blank\">chocolate-sweep-26</a></strong> to <a href='https://wandb.ai/ed24s401-indian-institute-of-technology-madras/q4_sweep_project' target=\"_blank\">Weights & Biases</a> (<a href='https://wandb.me/developer-guide' target=\"_blank\">docs</a>)<br>Sweep page: <a href='https://wandb.ai/ed24s401-indian-institute-of-technology-madras/q4_sweep_project/sweeps/p60nv46x' target=\"_blank\">https://wandb.ai/ed24s401-indian-institute-of-technology-madras/q4_sweep_project/sweeps/p60nv46x</a>"
      ],
      "text/plain": [
       "<IPython.core.display.HTML object>"
      ]
     },
     "metadata": {},
     "output_type": "display_data"
    },
    {
     "data": {
      "text/html": [
       " View project at <a href='https://wandb.ai/ed24s401-indian-institute-of-technology-madras/q4_sweep_project' target=\"_blank\">https://wandb.ai/ed24s401-indian-institute-of-technology-madras/q4_sweep_project</a>"
      ],
      "text/plain": [
       "<IPython.core.display.HTML object>"
      ]
     },
     "metadata": {},
     "output_type": "display_data"
    },
    {
     "data": {
      "text/html": [
       " View sweep at <a href='https://wandb.ai/ed24s401-indian-institute-of-technology-madras/q4_sweep_project/sweeps/p60nv46x' target=\"_blank\">https://wandb.ai/ed24s401-indian-institute-of-technology-madras/q4_sweep_project/sweeps/p60nv46x</a>"
      ],
      "text/plain": [
       "<IPython.core.display.HTML object>"
      ]
     },
     "metadata": {},
     "output_type": "display_data"
    },
    {
     "data": {
      "text/html": [
       " View run at <a href='https://wandb.ai/ed24s401-indian-institute-of-technology-madras/q4_sweep_project/runs/lr95q2c4' target=\"_blank\">https://wandb.ai/ed24s401-indian-institute-of-technology-madras/q4_sweep_project/runs/lr95q2c4</a>"
      ],
      "text/plain": [
       "<IPython.core.display.HTML object>"
      ]
     },
     "metadata": {},
     "output_type": "display_data"
    },
    {
     "name": "stdout",
     "output_type": "stream",
     "text": [
      "Epoch 1/10 - loss=0.5553, val_acc=0.8282, val_loss=0.4502716316380152\n",
      "Epoch 2/10 - loss=0.4163, val_acc=0.8480, val_loss=0.42432164110251913\n",
      "Epoch 3/10 - loss=0.3919, val_acc=0.8623, val_loss=0.3812924125999896\n",
      "Epoch 4/10 - loss=0.3840, val_acc=0.8690, val_loss=0.4012169075061982\n",
      "Epoch 5/10 - loss=0.3837, val_acc=0.8687, val_loss=0.39931507821164314\n",
      "Epoch 6/10 - loss=0.3857, val_acc=0.8615, val_loss=0.40627183501358344\n",
      "Epoch 7/10 - loss=0.3884, val_acc=0.8632, val_loss=0.4016074682796713\n",
      "Epoch 8/10 - loss=0.3928, val_acc=0.8398, val_loss=0.5069759598151149\n",
      "Epoch 9/10 - loss=0.3916, val_acc=0.8578, val_loss=0.4444773724894061\n",
      "Epoch 10/10 - loss=0.3890, val_acc=0.8718, val_loss=0.42694463804726085\n",
      "test accuracy  0.8656\n"
     ]
    },
    {
     "data": {
      "text/html": [],
      "text/plain": [
       "<IPython.core.display.HTML object>"
      ]
     },
     "metadata": {},
     "output_type": "display_data"
    },
    {
     "data": {
      "text/html": [
       "<br>    <style><br>        .wandb-row {<br>            display: flex;<br>            flex-direction: row;<br>            flex-wrap: wrap;<br>            justify-content: flex-start;<br>            width: 100%;<br>        }<br>        .wandb-col {<br>            display: flex;<br>            flex-direction: column;<br>            flex-basis: 100%;<br>            flex: 1;<br>            padding: 10px;<br>        }<br>    </style><br><div class=\"wandb-row\"><div class=\"wandb-col\"><h3>Run history:</h3><br/><table class=\"wandb\"><tr><td>epoch</td><td>▁▂▃▃▄▅▆▆▇█</td></tr><tr><td>test_accuracy</td><td>▁</td></tr><tr><td>training_loss</td><td>█▂▁▁▁▁▁▁▁▁</td></tr><tr><td>validation loss</td><td>▅▃▁▂▂▂▂█▅▄</td></tr><tr><td>validation_accuracy</td><td>▁▄▆█▇▆▇▃▆█</td></tr></table><br/></div><div class=\"wandb-col\"><h3>Run summary:</h3><br/><table class=\"wandb\"><tr><td>epoch</td><td>10</td></tr><tr><td>test_accuracy</td><td>0.8656</td></tr><tr><td>training_loss</td><td>0.38904</td></tr><tr><td>validation loss</td><td>0.42694</td></tr><tr><td>validation_accuracy</td><td>0.87183</td></tr></table><br/></div></div>"
      ],
      "text/plain": [
       "<IPython.core.display.HTML object>"
      ]
     },
     "metadata": {},
     "output_type": "display_data"
    },
    {
     "data": {
      "text/html": [
       " View run <strong style=\"color:#cdcd00\">hl_5_bs_32_ac_relu_opt_rmsprop</strong> at: <a href='https://wandb.ai/ed24s401-indian-institute-of-technology-madras/q4_sweep_project/runs/lr95q2c4' target=\"_blank\">https://wandb.ai/ed24s401-indian-institute-of-technology-madras/q4_sweep_project/runs/lr95q2c4</a><br> View project at: <a href='https://wandb.ai/ed24s401-indian-institute-of-technology-madras/q4_sweep_project' target=\"_blank\">https://wandb.ai/ed24s401-indian-institute-of-technology-madras/q4_sweep_project</a><br>Synced 5 W&B file(s), 0 media file(s), 0 artifact file(s) and 0 other file(s)"
      ],
      "text/plain": [
       "<IPython.core.display.HTML object>"
      ]
     },
     "metadata": {},
     "output_type": "display_data"
    },
    {
     "data": {
      "text/html": [
       "Find logs at: <code>.\\wandb\\run-20250316_202422-lr95q2c4\\logs</code>"
      ],
      "text/plain": [
       "<IPython.core.display.HTML object>"
      ]
     },
     "metadata": {},
     "output_type": "display_data"
    },
    {
     "name": "stderr",
     "output_type": "stream",
     "text": [
      "\u001b[34m\u001b[1mwandb\u001b[0m: Agent Starting Run: psoodmf7 with config:\n",
      "\u001b[34m\u001b[1mwandb\u001b[0m: \tactivation: relu\n",
      "\u001b[34m\u001b[1mwandb\u001b[0m: \tbatch_size: 32\n",
      "\u001b[34m\u001b[1mwandb\u001b[0m: \tbeta1: 0.9\n",
      "\u001b[34m\u001b[1mwandb\u001b[0m: \tbeta2: 0.999\n",
      "\u001b[34m\u001b[1mwandb\u001b[0m: \tbeta_rms: 0.9\n",
      "\u001b[34m\u001b[1mwandb\u001b[0m: \tepochs: 10\n",
      "\u001b[34m\u001b[1mwandb\u001b[0m: \tepsilon: 1e-08\n",
      "\u001b[34m\u001b[1mwandb\u001b[0m: \thidden_size: 128\n",
      "\u001b[34m\u001b[1mwandb\u001b[0m: \tinit_type: random\n",
      "\u001b[34m\u001b[1mwandb\u001b[0m: \tlearning_rate: 0.001\n",
      "\u001b[34m\u001b[1mwandb\u001b[0m: \tmomentum: 0.9\n",
      "\u001b[34m\u001b[1mwandb\u001b[0m: \tnum_hidden_layers: 5\n",
      "\u001b[34m\u001b[1mwandb\u001b[0m: \toptimizer: nesterov\n",
      "\u001b[34m\u001b[1mwandb\u001b[0m: \tweight_decay: 0.0005\n"
     ]
    },
    {
     "data": {
      "text/html": [
       "Tracking run with wandb version 0.19.8"
      ],
      "text/plain": [
       "<IPython.core.display.HTML object>"
      ]
     },
     "metadata": {},
     "output_type": "display_data"
    },
    {
     "data": {
      "text/html": [
       "Run data is saved locally in <code>c:\\Users\\acer\\OneDrive\\Documents\\GitHub\\dl_assignment_ed24s401\\wandb\\run-20250316_202505-psoodmf7</code>"
      ],
      "text/plain": [
       "<IPython.core.display.HTML object>"
      ]
     },
     "metadata": {},
     "output_type": "display_data"
    },
    {
     "data": {
      "text/html": [
       "Syncing run <strong><a href='https://wandb.ai/ed24s401-indian-institute-of-technology-madras/q4_sweep_project/runs/psoodmf7' target=\"_blank\">sweet-sweep-27</a></strong> to <a href='https://wandb.ai/ed24s401-indian-institute-of-technology-madras/q4_sweep_project' target=\"_blank\">Weights & Biases</a> (<a href='https://wandb.me/developer-guide' target=\"_blank\">docs</a>)<br>Sweep page: <a href='https://wandb.ai/ed24s401-indian-institute-of-technology-madras/q4_sweep_project/sweeps/p60nv46x' target=\"_blank\">https://wandb.ai/ed24s401-indian-institute-of-technology-madras/q4_sweep_project/sweeps/p60nv46x</a>"
      ],
      "text/plain": [
       "<IPython.core.display.HTML object>"
      ]
     },
     "metadata": {},
     "output_type": "display_data"
    },
    {
     "data": {
      "text/html": [
       " View project at <a href='https://wandb.ai/ed24s401-indian-institute-of-technology-madras/q4_sweep_project' target=\"_blank\">https://wandb.ai/ed24s401-indian-institute-of-technology-madras/q4_sweep_project</a>"
      ],
      "text/plain": [
       "<IPython.core.display.HTML object>"
      ]
     },
     "metadata": {},
     "output_type": "display_data"
    },
    {
     "data": {
      "text/html": [
       " View sweep at <a href='https://wandb.ai/ed24s401-indian-institute-of-technology-madras/q4_sweep_project/sweeps/p60nv46x' target=\"_blank\">https://wandb.ai/ed24s401-indian-institute-of-technology-madras/q4_sweep_project/sweeps/p60nv46x</a>"
      ],
      "text/plain": [
       "<IPython.core.display.HTML object>"
      ]
     },
     "metadata": {},
     "output_type": "display_data"
    },
    {
     "data": {
      "text/html": [
       " View run at <a href='https://wandb.ai/ed24s401-indian-institute-of-technology-madras/q4_sweep_project/runs/psoodmf7' target=\"_blank\">https://wandb.ai/ed24s401-indian-institute-of-technology-madras/q4_sweep_project/runs/psoodmf7</a>"
      ],
      "text/plain": [
       "<IPython.core.display.HTML object>"
      ]
     },
     "metadata": {},
     "output_type": "display_data"
    },
    {
     "name": "stdout",
     "output_type": "stream",
     "text": [
      "Epoch 1/10 - loss=0.9458, val_acc=0.8307, val_loss=0.4717492848556397\n",
      "Epoch 2/10 - loss=0.7505, val_acc=0.8492, val_loss=0.4149236866866515\n",
      "Epoch 3/10 - loss=0.7053, val_acc=0.8497, val_loss=0.4047650881879877\n",
      "Epoch 4/10 - loss=0.6761, val_acc=0.8537, val_loss=0.3858373777010057\n",
      "Epoch 5/10 - loss=0.6542, val_acc=0.8605, val_loss=0.3692215402204152\n",
      "Epoch 6/10 - loss=0.6355, val_acc=0.8732, val_loss=0.34359989486151715\n",
      "Epoch 7/10 - loss=0.6203, val_acc=0.8643, val_loss=0.3541446593248155\n",
      "Epoch 8/10 - loss=0.6051, val_acc=0.8683, val_loss=0.3538595572741048\n",
      "Epoch 9/10 - loss=0.5931, val_acc=0.8763, val_loss=0.32662779599426184\n",
      "Epoch 10/10 - loss=0.5808, val_acc=0.8738, val_loss=0.3445214310005897\n",
      "test accuracy  0.8681\n"
     ]
    },
    {
     "data": {
      "text/html": [],
      "text/plain": [
       "<IPython.core.display.HTML object>"
      ]
     },
     "metadata": {},
     "output_type": "display_data"
    },
    {
     "data": {
      "text/html": [
       "<br>    <style><br>        .wandb-row {<br>            display: flex;<br>            flex-direction: row;<br>            flex-wrap: wrap;<br>            justify-content: flex-start;<br>            width: 100%;<br>        }<br>        .wandb-col {<br>            display: flex;<br>            flex-direction: column;<br>            flex-basis: 100%;<br>            flex: 1;<br>            padding: 10px;<br>        }<br>    </style><br><div class=\"wandb-row\"><div class=\"wandb-col\"><h3>Run history:</h3><br/><table class=\"wandb\"><tr><td>epoch</td><td>▁▂▃▃▄▅▆▆▇█</td></tr><tr><td>test_accuracy</td><td>▁</td></tr><tr><td>training_loss</td><td>█▄▃▃▂▂▂▁▁▁</td></tr><tr><td>validation loss</td><td>█▅▅▄▃▂▂▂▁▂</td></tr><tr><td>validation_accuracy</td><td>▁▄▄▅▆█▆▇██</td></tr></table><br/></div><div class=\"wandb-col\"><h3>Run summary:</h3><br/><table class=\"wandb\"><tr><td>epoch</td><td>10</td></tr><tr><td>test_accuracy</td><td>0.8681</td></tr><tr><td>training_loss</td><td>0.58082</td></tr><tr><td>validation loss</td><td>0.34452</td></tr><tr><td>validation_accuracy</td><td>0.87383</td></tr></table><br/></div></div>"
      ],
      "text/plain": [
       "<IPython.core.display.HTML object>"
      ]
     },
     "metadata": {},
     "output_type": "display_data"
    },
    {
     "data": {
      "text/html": [
       " View run <strong style=\"color:#cdcd00\">hl_5_bs_32_ac_relu_opt_nesterov</strong> at: <a href='https://wandb.ai/ed24s401-indian-institute-of-technology-madras/q4_sweep_project/runs/psoodmf7' target=\"_blank\">https://wandb.ai/ed24s401-indian-institute-of-technology-madras/q4_sweep_project/runs/psoodmf7</a><br> View project at: <a href='https://wandb.ai/ed24s401-indian-institute-of-technology-madras/q4_sweep_project' target=\"_blank\">https://wandb.ai/ed24s401-indian-institute-of-technology-madras/q4_sweep_project</a><br>Synced 5 W&B file(s), 0 media file(s), 0 artifact file(s) and 0 other file(s)"
      ],
      "text/plain": [
       "<IPython.core.display.HTML object>"
      ]
     },
     "metadata": {},
     "output_type": "display_data"
    },
    {
     "data": {
      "text/html": [
       "Find logs at: <code>.\\wandb\\run-20250316_202505-psoodmf7\\logs</code>"
      ],
      "text/plain": [
       "<IPython.core.display.HTML object>"
      ]
     },
     "metadata": {},
     "output_type": "display_data"
    },
    {
     "name": "stderr",
     "output_type": "stream",
     "text": [
      "\u001b[34m\u001b[1mwandb\u001b[0m: Sweep Agent: Waiting for job.\n",
      "\u001b[34m\u001b[1mwandb\u001b[0m: Job received.\n",
      "\u001b[34m\u001b[1mwandb\u001b[0m: Agent Starting Run: x3e7fk3x with config:\n",
      "\u001b[34m\u001b[1mwandb\u001b[0m: \tactivation: sigmoid\n",
      "\u001b[34m\u001b[1mwandb\u001b[0m: \tbatch_size: 32\n",
      "\u001b[34m\u001b[1mwandb\u001b[0m: \tbeta1: 0.9\n",
      "\u001b[34m\u001b[1mwandb\u001b[0m: \tbeta2: 0.999\n",
      "\u001b[34m\u001b[1mwandb\u001b[0m: \tbeta_rms: 0.9\n",
      "\u001b[34m\u001b[1mwandb\u001b[0m: \tepochs: 10\n",
      "\u001b[34m\u001b[1mwandb\u001b[0m: \tepsilon: 1e-08\n",
      "\u001b[34m\u001b[1mwandb\u001b[0m: \thidden_size: 64\n",
      "\u001b[34m\u001b[1mwandb\u001b[0m: \tinit_type: random\n",
      "\u001b[34m\u001b[1mwandb\u001b[0m: \tlearning_rate: 0.0001\n",
      "\u001b[34m\u001b[1mwandb\u001b[0m: \tmomentum: 0.8\n",
      "\u001b[34m\u001b[1mwandb\u001b[0m: \tnum_hidden_layers: 5\n",
      "\u001b[34m\u001b[1mwandb\u001b[0m: \toptimizer: nesterov\n",
      "\u001b[34m\u001b[1mwandb\u001b[0m: \tweight_decay: 0.0005\n"
     ]
    },
    {
     "data": {
      "text/html": [
       "Tracking run with wandb version 0.19.8"
      ],
      "text/plain": [
       "<IPython.core.display.HTML object>"
      ]
     },
     "metadata": {},
     "output_type": "display_data"
    },
    {
     "data": {
      "text/html": [
       "Run data is saved locally in <code>c:\\Users\\acer\\OneDrive\\Documents\\GitHub\\dl_assignment_ed24s401\\wandb\\run-20250316_202633-x3e7fk3x</code>"
      ],
      "text/plain": [
       "<IPython.core.display.HTML object>"
      ]
     },
     "metadata": {},
     "output_type": "display_data"
    },
    {
     "data": {
      "text/html": [
       "Syncing run <strong><a href='https://wandb.ai/ed24s401-indian-institute-of-technology-madras/q4_sweep_project/runs/x3e7fk3x' target=\"_blank\">dainty-sweep-28</a></strong> to <a href='https://wandb.ai/ed24s401-indian-institute-of-technology-madras/q4_sweep_project' target=\"_blank\">Weights & Biases</a> (<a href='https://wandb.me/developer-guide' target=\"_blank\">docs</a>)<br>Sweep page: <a href='https://wandb.ai/ed24s401-indian-institute-of-technology-madras/q4_sweep_project/sweeps/p60nv46x' target=\"_blank\">https://wandb.ai/ed24s401-indian-institute-of-technology-madras/q4_sweep_project/sweeps/p60nv46x</a>"
      ],
      "text/plain": [
       "<IPython.core.display.HTML object>"
      ]
     },
     "metadata": {},
     "output_type": "display_data"
    },
    {
     "data": {
      "text/html": [
       " View project at <a href='https://wandb.ai/ed24s401-indian-institute-of-technology-madras/q4_sweep_project' target=\"_blank\">https://wandb.ai/ed24s401-indian-institute-of-technology-madras/q4_sweep_project</a>"
      ],
      "text/plain": [
       "<IPython.core.display.HTML object>"
      ]
     },
     "metadata": {},
     "output_type": "display_data"
    },
    {
     "data": {
      "text/html": [
       " View sweep at <a href='https://wandb.ai/ed24s401-indian-institute-of-technology-madras/q4_sweep_project/sweeps/p60nv46x' target=\"_blank\">https://wandb.ai/ed24s401-indian-institute-of-technology-madras/q4_sweep_project/sweeps/p60nv46x</a>"
      ],
      "text/plain": [
       "<IPython.core.display.HTML object>"
      ]
     },
     "metadata": {},
     "output_type": "display_data"
    },
    {
     "data": {
      "text/html": [
       " View run at <a href='https://wandb.ai/ed24s401-indian-institute-of-technology-madras/q4_sweep_project/runs/x3e7fk3x' target=\"_blank\">https://wandb.ai/ed24s401-indian-institute-of-technology-madras/q4_sweep_project/runs/x3e7fk3x</a>"
      ],
      "text/plain": [
       "<IPython.core.display.HTML object>"
      ]
     },
     "metadata": {},
     "output_type": "display_data"
    },
    {
     "name": "stdout",
     "output_type": "stream",
     "text": [
      "Epoch 1/10 - loss=2.5374, val_acc=0.0985, val_loss=2.3121771854705244\n",
      "Epoch 2/10 - loss=2.4683, val_acc=0.0565, val_loss=2.3028506409185963\n",
      "Epoch 3/10 - loss=2.4657, val_acc=0.0985, val_loss=2.3025417670037673\n",
      "Epoch 4/10 - loss=2.4655, val_acc=0.0985, val_loss=2.302450844586812\n",
      "Epoch 5/10 - loss=2.4653, val_acc=0.1008, val_loss=2.3024113084779354\n",
      "Epoch 6/10 - loss=2.4652, val_acc=0.1000, val_loss=2.3023695339661865\n",
      "Epoch 7/10 - loss=2.4650, val_acc=0.1340, val_loss=2.302327853384874\n",
      "Epoch 8/10 - loss=2.4649, val_acc=0.1265, val_loss=2.3022962478471762\n",
      "Epoch 9/10 - loss=2.4647, val_acc=0.1000, val_loss=2.3022770195152655\n",
      "Epoch 10/10 - loss=2.4646, val_acc=0.1513, val_loss=2.3022897082031553\n",
      "test accuracy  0.1551\n"
     ]
    },
    {
     "data": {
      "text/html": [],
      "text/plain": [
       "<IPython.core.display.HTML object>"
      ]
     },
     "metadata": {},
     "output_type": "display_data"
    },
    {
     "data": {
      "text/html": [
       "<br>    <style><br>        .wandb-row {<br>            display: flex;<br>            flex-direction: row;<br>            flex-wrap: wrap;<br>            justify-content: flex-start;<br>            width: 100%;<br>        }<br>        .wandb-col {<br>            display: flex;<br>            flex-direction: column;<br>            flex-basis: 100%;<br>            flex: 1;<br>            padding: 10px;<br>        }<br>    </style><br><div class=\"wandb-row\"><div class=\"wandb-col\"><h3>Run history:</h3><br/><table class=\"wandb\"><tr><td>epoch</td><td>▁▂▃▃▄▅▆▆▇█</td></tr><tr><td>test_accuracy</td><td>▁</td></tr><tr><td>training_loss</td><td>█▁▁▁▁▁▁▁▁▁</td></tr><tr><td>validation loss</td><td>█▁▁▁▁▁▁▁▁▁</td></tr><tr><td>validation_accuracy</td><td>▄▁▄▄▄▄▇▆▄█</td></tr></table><br/></div><div class=\"wandb-col\"><h3>Run summary:</h3><br/><table class=\"wandb\"><tr><td>epoch</td><td>10</td></tr><tr><td>test_accuracy</td><td>0.1551</td></tr><tr><td>training_loss</td><td>2.46456</td></tr><tr><td>validation loss</td><td>2.30229</td></tr><tr><td>validation_accuracy</td><td>0.15133</td></tr></table><br/></div></div>"
      ],
      "text/plain": [
       "<IPython.core.display.HTML object>"
      ]
     },
     "metadata": {},
     "output_type": "display_data"
    },
    {
     "data": {
      "text/html": [
       " View run <strong style=\"color:#cdcd00\">hl_5_bs_32_ac_sigmoid_opt_nesterov</strong> at: <a href='https://wandb.ai/ed24s401-indian-institute-of-technology-madras/q4_sweep_project/runs/x3e7fk3x' target=\"_blank\">https://wandb.ai/ed24s401-indian-institute-of-technology-madras/q4_sweep_project/runs/x3e7fk3x</a><br> View project at: <a href='https://wandb.ai/ed24s401-indian-institute-of-technology-madras/q4_sweep_project' target=\"_blank\">https://wandb.ai/ed24s401-indian-institute-of-technology-madras/q4_sweep_project</a><br>Synced 5 W&B file(s), 0 media file(s), 0 artifact file(s) and 0 other file(s)"
      ],
      "text/plain": [
       "<IPython.core.display.HTML object>"
      ]
     },
     "metadata": {},
     "output_type": "display_data"
    },
    {
     "data": {
      "text/html": [
       "Find logs at: <code>.\\wandb\\run-20250316_202633-x3e7fk3x\\logs</code>"
      ],
      "text/plain": [
       "<IPython.core.display.HTML object>"
      ]
     },
     "metadata": {},
     "output_type": "display_data"
    },
    {
     "name": "stderr",
     "output_type": "stream",
     "text": [
      "\u001b[34m\u001b[1mwandb\u001b[0m: Agent Starting Run: bm327x0t with config:\n",
      "\u001b[34m\u001b[1mwandb\u001b[0m: \tactivation: relu\n",
      "\u001b[34m\u001b[1mwandb\u001b[0m: \tbatch_size: 32\n",
      "\u001b[34m\u001b[1mwandb\u001b[0m: \tbeta1: 0.9\n",
      "\u001b[34m\u001b[1mwandb\u001b[0m: \tbeta2: 0.999\n",
      "\u001b[34m\u001b[1mwandb\u001b[0m: \tbeta_rms: 0.9\n",
      "\u001b[34m\u001b[1mwandb\u001b[0m: \tepochs: 10\n",
      "\u001b[34m\u001b[1mwandb\u001b[0m: \tepsilon: 1e-08\n",
      "\u001b[34m\u001b[1mwandb\u001b[0m: \thidden_size: 64\n",
      "\u001b[34m\u001b[1mwandb\u001b[0m: \tinit_type: xavier\n",
      "\u001b[34m\u001b[1mwandb\u001b[0m: \tlearning_rate: 0.0001\n",
      "\u001b[34m\u001b[1mwandb\u001b[0m: \tmomentum: 0.9\n",
      "\u001b[34m\u001b[1mwandb\u001b[0m: \tnum_hidden_layers: 5\n",
      "\u001b[34m\u001b[1mwandb\u001b[0m: \toptimizer: momentum\n",
      "\u001b[34m\u001b[1mwandb\u001b[0m: \tweight_decay: 0.0005\n"
     ]
    },
    {
     "data": {
      "text/html": [
       "Tracking run with wandb version 0.19.8"
      ],
      "text/plain": [
       "<IPython.core.display.HTML object>"
      ]
     },
     "metadata": {},
     "output_type": "display_data"
    },
    {
     "data": {
      "text/html": [
       "Run data is saved locally in <code>c:\\Users\\acer\\OneDrive\\Documents\\GitHub\\dl_assignment_ed24s401\\wandb\\run-20250316_202717-bm327x0t</code>"
      ],
      "text/plain": [
       "<IPython.core.display.HTML object>"
      ]
     },
     "metadata": {},
     "output_type": "display_data"
    },
    {
     "data": {
      "text/html": [
       "Syncing run <strong><a href='https://wandb.ai/ed24s401-indian-institute-of-technology-madras/q4_sweep_project/runs/bm327x0t' target=\"_blank\">electric-sweep-29</a></strong> to <a href='https://wandb.ai/ed24s401-indian-institute-of-technology-madras/q4_sweep_project' target=\"_blank\">Weights & Biases</a> (<a href='https://wandb.me/developer-guide' target=\"_blank\">docs</a>)<br>Sweep page: <a href='https://wandb.ai/ed24s401-indian-institute-of-technology-madras/q4_sweep_project/sweeps/p60nv46x' target=\"_blank\">https://wandb.ai/ed24s401-indian-institute-of-technology-madras/q4_sweep_project/sweeps/p60nv46x</a>"
      ],
      "text/plain": [
       "<IPython.core.display.HTML object>"
      ]
     },
     "metadata": {},
     "output_type": "display_data"
    },
    {
     "data": {
      "text/html": [
       " View project at <a href='https://wandb.ai/ed24s401-indian-institute-of-technology-madras/q4_sweep_project' target=\"_blank\">https://wandb.ai/ed24s401-indian-institute-of-technology-madras/q4_sweep_project</a>"
      ],
      "text/plain": [
       "<IPython.core.display.HTML object>"
      ]
     },
     "metadata": {},
     "output_type": "display_data"
    },
    {
     "data": {
      "text/html": [
       " View sweep at <a href='https://wandb.ai/ed24s401-indian-institute-of-technology-madras/q4_sweep_project/sweeps/p60nv46x' target=\"_blank\">https://wandb.ai/ed24s401-indian-institute-of-technology-madras/q4_sweep_project/sweeps/p60nv46x</a>"
      ],
      "text/plain": [
       "<IPython.core.display.HTML object>"
      ]
     },
     "metadata": {},
     "output_type": "display_data"
    },
    {
     "data": {
      "text/html": [
       " View run at <a href='https://wandb.ai/ed24s401-indian-institute-of-technology-madras/q4_sweep_project/runs/bm327x0t' target=\"_blank\">https://wandb.ai/ed24s401-indian-institute-of-technology-madras/q4_sweep_project/runs/bm327x0t</a>"
      ],
      "text/plain": [
       "<IPython.core.display.HTML object>"
      ]
     },
     "metadata": {},
     "output_type": "display_data"
    },
    {
     "name": "stdout",
     "output_type": "stream",
     "text": [
      "Epoch 1/10 - loss=2.3081, val_acc=0.2553, val_loss=2.1058923593780623\n",
      "Epoch 2/10 - loss=1.9266, val_acc=0.4692, val_loss=1.5164345320150387\n",
      "Epoch 3/10 - loss=1.3078, val_acc=0.6187, val_loss=1.0185960674297476\n",
      "Epoch 4/10 - loss=0.9976, val_acc=0.6745, val_loss=0.855118582710457\n",
      "Epoch 5/10 - loss=0.8832, val_acc=0.7007, val_loss=0.7821122982786574\n",
      "Epoch 6/10 - loss=0.8224, val_acc=0.7300, val_loss=0.7270636160485401\n",
      "Epoch 7/10 - loss=0.7783, val_acc=0.7520, val_loss=0.687869736322436\n",
      "Epoch 8/10 - loss=0.7408, val_acc=0.7727, val_loss=0.6551448341213724\n",
      "Epoch 9/10 - loss=0.7082, val_acc=0.7858, val_loss=0.6188450660197422\n",
      "Epoch 10/10 - loss=0.6775, val_acc=0.7843, val_loss=0.6039336734814228\n",
      "test accuracy  0.7819\n"
     ]
    },
    {
     "data": {
      "text/html": [],
      "text/plain": [
       "<IPython.core.display.HTML object>"
      ]
     },
     "metadata": {},
     "output_type": "display_data"
    },
    {
     "data": {
      "text/html": [
       "<br>    <style><br>        .wandb-row {<br>            display: flex;<br>            flex-direction: row;<br>            flex-wrap: wrap;<br>            justify-content: flex-start;<br>            width: 100%;<br>        }<br>        .wandb-col {<br>            display: flex;<br>            flex-direction: column;<br>            flex-basis: 100%;<br>            flex: 1;<br>            padding: 10px;<br>        }<br>    </style><br><div class=\"wandb-row\"><div class=\"wandb-col\"><h3>Run history:</h3><br/><table class=\"wandb\"><tr><td>epoch</td><td>▁▂▃▃▄▅▆▆▇█</td></tr><tr><td>test_accuracy</td><td>▁</td></tr><tr><td>training_loss</td><td>█▆▄▂▂▂▁▁▁▁</td></tr><tr><td>validation loss</td><td>█▅▃▂▂▂▁▁▁▁</td></tr><tr><td>validation_accuracy</td><td>▁▄▆▇▇▇████</td></tr></table><br/></div><div class=\"wandb-col\"><h3>Run summary:</h3><br/><table class=\"wandb\"><tr><td>epoch</td><td>10</td></tr><tr><td>test_accuracy</td><td>0.7819</td></tr><tr><td>training_loss</td><td>0.67755</td></tr><tr><td>validation loss</td><td>0.60393</td></tr><tr><td>validation_accuracy</td><td>0.78433</td></tr></table><br/></div></div>"
      ],
      "text/plain": [
       "<IPython.core.display.HTML object>"
      ]
     },
     "metadata": {},
     "output_type": "display_data"
    },
    {
     "data": {
      "text/html": [
       " View run <strong style=\"color:#cdcd00\">hl_5_bs_32_ac_relu_opt_momentum</strong> at: <a href='https://wandb.ai/ed24s401-indian-institute-of-technology-madras/q4_sweep_project/runs/bm327x0t' target=\"_blank\">https://wandb.ai/ed24s401-indian-institute-of-technology-madras/q4_sweep_project/runs/bm327x0t</a><br> View project at: <a href='https://wandb.ai/ed24s401-indian-institute-of-technology-madras/q4_sweep_project' target=\"_blank\">https://wandb.ai/ed24s401-indian-institute-of-technology-madras/q4_sweep_project</a><br>Synced 5 W&B file(s), 0 media file(s), 0 artifact file(s) and 0 other file(s)"
      ],
      "text/plain": [
       "<IPython.core.display.HTML object>"
      ]
     },
     "metadata": {},
     "output_type": "display_data"
    },
    {
     "data": {
      "text/html": [
       "Find logs at: <code>.\\wandb\\run-20250316_202717-bm327x0t\\logs</code>"
      ],
      "text/plain": [
       "<IPython.core.display.HTML object>"
      ]
     },
     "metadata": {},
     "output_type": "display_data"
    },
    {
     "name": "stderr",
     "output_type": "stream",
     "text": [
      "\u001b[34m\u001b[1mwandb\u001b[0m: Sweep Agent: Waiting for job.\n",
      "\u001b[34m\u001b[1mwandb\u001b[0m: Job received.\n",
      "\u001b[34m\u001b[1mwandb\u001b[0m: Agent Starting Run: kc11tucu with config:\n",
      "\u001b[34m\u001b[1mwandb\u001b[0m: \tactivation: relu\n",
      "\u001b[34m\u001b[1mwandb\u001b[0m: \tbatch_size: 32\n",
      "\u001b[34m\u001b[1mwandb\u001b[0m: \tbeta1: 0.9\n",
      "\u001b[34m\u001b[1mwandb\u001b[0m: \tbeta2: 0.999\n",
      "\u001b[34m\u001b[1mwandb\u001b[0m: \tbeta_rms: 0.9\n",
      "\u001b[34m\u001b[1mwandb\u001b[0m: \tepochs: 10\n",
      "\u001b[34m\u001b[1mwandb\u001b[0m: \tepsilon: 1e-08\n",
      "\u001b[34m\u001b[1mwandb\u001b[0m: \thidden_size: 128\n",
      "\u001b[34m\u001b[1mwandb\u001b[0m: \tinit_type: xavier\n",
      "\u001b[34m\u001b[1mwandb\u001b[0m: \tlearning_rate: 0.0001\n",
      "\u001b[34m\u001b[1mwandb\u001b[0m: \tmomentum: 0.9\n",
      "\u001b[34m\u001b[1mwandb\u001b[0m: \tnum_hidden_layers: 3\n",
      "\u001b[34m\u001b[1mwandb\u001b[0m: \toptimizer: momentum\n",
      "\u001b[34m\u001b[1mwandb\u001b[0m: \tweight_decay: 0\n"
     ]
    },
    {
     "data": {
      "text/html": [
       "Tracking run with wandb version 0.19.8"
      ],
      "text/plain": [
       "<IPython.core.display.HTML object>"
      ]
     },
     "metadata": {},
     "output_type": "display_data"
    },
    {
     "data": {
      "text/html": [
       "Run data is saved locally in <code>c:\\Users\\acer\\OneDrive\\Documents\\GitHub\\dl_assignment_ed24s401\\wandb\\run-20250316_202758-kc11tucu</code>"
      ],
      "text/plain": [
       "<IPython.core.display.HTML object>"
      ]
     },
     "metadata": {},
     "output_type": "display_data"
    },
    {
     "data": {
      "text/html": [
       "Syncing run <strong><a href='https://wandb.ai/ed24s401-indian-institute-of-technology-madras/q4_sweep_project/runs/kc11tucu' target=\"_blank\">peachy-sweep-30</a></strong> to <a href='https://wandb.ai/ed24s401-indian-institute-of-technology-madras/q4_sweep_project' target=\"_blank\">Weights & Biases</a> (<a href='https://wandb.me/developer-guide' target=\"_blank\">docs</a>)<br>Sweep page: <a href='https://wandb.ai/ed24s401-indian-institute-of-technology-madras/q4_sweep_project/sweeps/p60nv46x' target=\"_blank\">https://wandb.ai/ed24s401-indian-institute-of-technology-madras/q4_sweep_project/sweeps/p60nv46x</a>"
      ],
      "text/plain": [
       "<IPython.core.display.HTML object>"
      ]
     },
     "metadata": {},
     "output_type": "display_data"
    },
    {
     "data": {
      "text/html": [
       " View project at <a href='https://wandb.ai/ed24s401-indian-institute-of-technology-madras/q4_sweep_project' target=\"_blank\">https://wandb.ai/ed24s401-indian-institute-of-technology-madras/q4_sweep_project</a>"
      ],
      "text/plain": [
       "<IPython.core.display.HTML object>"
      ]
     },
     "metadata": {},
     "output_type": "display_data"
    },
    {
     "data": {
      "text/html": [
       " View sweep at <a href='https://wandb.ai/ed24s401-indian-institute-of-technology-madras/q4_sweep_project/sweeps/p60nv46x' target=\"_blank\">https://wandb.ai/ed24s401-indian-institute-of-technology-madras/q4_sweep_project/sweeps/p60nv46x</a>"
      ],
      "text/plain": [
       "<IPython.core.display.HTML object>"
      ]
     },
     "metadata": {},
     "output_type": "display_data"
    },
    {
     "data": {
      "text/html": [
       " View run at <a href='https://wandb.ai/ed24s401-indian-institute-of-technology-madras/q4_sweep_project/runs/kc11tucu' target=\"_blank\">https://wandb.ai/ed24s401-indian-institute-of-technology-madras/q4_sweep_project/runs/kc11tucu</a>"
      ],
      "text/plain": [
       "<IPython.core.display.HTML object>"
      ]
     },
     "metadata": {},
     "output_type": "display_data"
    },
    {
     "name": "stdout",
     "output_type": "stream",
     "text": [
      "Epoch 1/10 - loss=1.9537, val_acc=0.6215, val_loss=1.4895556826599456\n",
      "Epoch 2/10 - loss=1.1672, val_acc=0.6715, val_loss=0.9832608663296118\n",
      "Epoch 3/10 - loss=0.8780, val_acc=0.7203, val_loss=0.8208723950380293\n",
      "Epoch 4/10 - loss=0.7574, val_acc=0.7483, val_loss=0.7339664405128069\n",
      "Epoch 5/10 - loss=0.6849, val_acc=0.7712, val_loss=0.6752168550212373\n",
      "Epoch 6/10 - loss=0.6346, val_acc=0.7877, val_loss=0.6319089450692479\n",
      "Epoch 7/10 - loss=0.5957, val_acc=0.7935, val_loss=0.6014234778546999\n",
      "Epoch 8/10 - loss=0.5667, val_acc=0.8033, val_loss=0.5716297730551\n",
      "Epoch 9/10 - loss=0.5439, val_acc=0.8087, val_loss=0.5536474427258639\n",
      "Epoch 10/10 - loss=0.5260, val_acc=0.8082, val_loss=0.541292236940221\n",
      "test accuracy  0.8042\n"
     ]
    },
    {
     "data": {
      "text/html": [],
      "text/plain": [
       "<IPython.core.display.HTML object>"
      ]
     },
     "metadata": {},
     "output_type": "display_data"
    },
    {
     "data": {
      "text/html": [
       "<br>    <style><br>        .wandb-row {<br>            display: flex;<br>            flex-direction: row;<br>            flex-wrap: wrap;<br>            justify-content: flex-start;<br>            width: 100%;<br>        }<br>        .wandb-col {<br>            display: flex;<br>            flex-direction: column;<br>            flex-basis: 100%;<br>            flex: 1;<br>            padding: 10px;<br>        }<br>    </style><br><div class=\"wandb-row\"><div class=\"wandb-col\"><h3>Run history:</h3><br/><table class=\"wandb\"><tr><td>epoch</td><td>▁▂▃▃▄▅▆▆▇█</td></tr><tr><td>test_accuracy</td><td>▁</td></tr><tr><td>training_loss</td><td>█▄▃▂▂▂▁▁▁▁</td></tr><tr><td>validation loss</td><td>█▄▃▂▂▂▁▁▁▁</td></tr><tr><td>validation_accuracy</td><td>▁▃▅▆▇▇▇███</td></tr></table><br/></div><div class=\"wandb-col\"><h3>Run summary:</h3><br/><table class=\"wandb\"><tr><td>epoch</td><td>10</td></tr><tr><td>test_accuracy</td><td>0.8042</td></tr><tr><td>training_loss</td><td>0.526</td></tr><tr><td>validation loss</td><td>0.54129</td></tr><tr><td>validation_accuracy</td><td>0.80817</td></tr></table><br/></div></div>"
      ],
      "text/plain": [
       "<IPython.core.display.HTML object>"
      ]
     },
     "metadata": {},
     "output_type": "display_data"
    },
    {
     "data": {
      "text/html": [
       " View run <strong style=\"color:#cdcd00\">hl_3_bs_32_ac_relu_opt_momentum</strong> at: <a href='https://wandb.ai/ed24s401-indian-institute-of-technology-madras/q4_sweep_project/runs/kc11tucu' target=\"_blank\">https://wandb.ai/ed24s401-indian-institute-of-technology-madras/q4_sweep_project/runs/kc11tucu</a><br> View project at: <a href='https://wandb.ai/ed24s401-indian-institute-of-technology-madras/q4_sweep_project' target=\"_blank\">https://wandb.ai/ed24s401-indian-institute-of-technology-madras/q4_sweep_project</a><br>Synced 5 W&B file(s), 0 media file(s), 0 artifact file(s) and 0 other file(s)"
      ],
      "text/plain": [
       "<IPython.core.display.HTML object>"
      ]
     },
     "metadata": {},
     "output_type": "display_data"
    },
    {
     "data": {
      "text/html": [
       "Find logs at: <code>.\\wandb\\run-20250316_202758-kc11tucu\\logs</code>"
      ],
      "text/plain": [
       "<IPython.core.display.HTML object>"
      ]
     },
     "metadata": {},
     "output_type": "display_data"
    },
    {
     "name": "stderr",
     "output_type": "stream",
     "text": [
      "\u001b[34m\u001b[1mwandb\u001b[0m: Sweep Agent: Waiting for job.\n",
      "\u001b[34m\u001b[1mwandb\u001b[0m: Job received.\n",
      "\u001b[34m\u001b[1mwandb\u001b[0m: Agent Starting Run: h087iat4 with config:\n",
      "\u001b[34m\u001b[1mwandb\u001b[0m: \tactivation: sigmoid\n",
      "\u001b[34m\u001b[1mwandb\u001b[0m: \tbatch_size: 32\n",
      "\u001b[34m\u001b[1mwandb\u001b[0m: \tbeta1: 0.9\n",
      "\u001b[34m\u001b[1mwandb\u001b[0m: \tbeta2: 0.999\n",
      "\u001b[34m\u001b[1mwandb\u001b[0m: \tbeta_rms: 0.9\n",
      "\u001b[34m\u001b[1mwandb\u001b[0m: \tepochs: 10\n",
      "\u001b[34m\u001b[1mwandb\u001b[0m: \tepsilon: 1e-08\n",
      "\u001b[34m\u001b[1mwandb\u001b[0m: \thidden_size: 64\n",
      "\u001b[34m\u001b[1mwandb\u001b[0m: \tinit_type: xavier\n",
      "\u001b[34m\u001b[1mwandb\u001b[0m: \tlearning_rate: 0.001\n",
      "\u001b[34m\u001b[1mwandb\u001b[0m: \tmomentum: 0.9\n",
      "\u001b[34m\u001b[1mwandb\u001b[0m: \tnum_hidden_layers: 5\n",
      "\u001b[34m\u001b[1mwandb\u001b[0m: \toptimizer: momentum\n",
      "\u001b[34m\u001b[1mwandb\u001b[0m: \tweight_decay: 0\n"
     ]
    },
    {
     "data": {
      "text/html": [
       "Tracking run with wandb version 0.19.8"
      ],
      "text/plain": [
       "<IPython.core.display.HTML object>"
      ]
     },
     "metadata": {},
     "output_type": "display_data"
    },
    {
     "data": {
      "text/html": [
       "Run data is saved locally in <code>c:\\Users\\acer\\OneDrive\\Documents\\GitHub\\dl_assignment_ed24s401\\wandb\\run-20250316_202857-h087iat4</code>"
      ],
      "text/plain": [
       "<IPython.core.display.HTML object>"
      ]
     },
     "metadata": {},
     "output_type": "display_data"
    },
    {
     "data": {
      "text/html": [
       "Syncing run <strong><a href='https://wandb.ai/ed24s401-indian-institute-of-technology-madras/q4_sweep_project/runs/h087iat4' target=\"_blank\">generous-sweep-31</a></strong> to <a href='https://wandb.ai/ed24s401-indian-institute-of-technology-madras/q4_sweep_project' target=\"_blank\">Weights & Biases</a> (<a href='https://wandb.me/developer-guide' target=\"_blank\">docs</a>)<br>Sweep page: <a href='https://wandb.ai/ed24s401-indian-institute-of-technology-madras/q4_sweep_project/sweeps/p60nv46x' target=\"_blank\">https://wandb.ai/ed24s401-indian-institute-of-technology-madras/q4_sweep_project/sweeps/p60nv46x</a>"
      ],
      "text/plain": [
       "<IPython.core.display.HTML object>"
      ]
     },
     "metadata": {},
     "output_type": "display_data"
    },
    {
     "data": {
      "text/html": [
       " View project at <a href='https://wandb.ai/ed24s401-indian-institute-of-technology-madras/q4_sweep_project' target=\"_blank\">https://wandb.ai/ed24s401-indian-institute-of-technology-madras/q4_sweep_project</a>"
      ],
      "text/plain": [
       "<IPython.core.display.HTML object>"
      ]
     },
     "metadata": {},
     "output_type": "display_data"
    },
    {
     "data": {
      "text/html": [
       " View sweep at <a href='https://wandb.ai/ed24s401-indian-institute-of-technology-madras/q4_sweep_project/sweeps/p60nv46x' target=\"_blank\">https://wandb.ai/ed24s401-indian-institute-of-technology-madras/q4_sweep_project/sweeps/p60nv46x</a>"
      ],
      "text/plain": [
       "<IPython.core.display.HTML object>"
      ]
     },
     "metadata": {},
     "output_type": "display_data"
    },
    {
     "data": {
      "text/html": [
       " View run at <a href='https://wandb.ai/ed24s401-indian-institute-of-technology-madras/q4_sweep_project/runs/h087iat4' target=\"_blank\">https://wandb.ai/ed24s401-indian-institute-of-technology-madras/q4_sweep_project/runs/h087iat4</a>"
      ],
      "text/plain": [
       "<IPython.core.display.HTML object>"
      ]
     },
     "metadata": {},
     "output_type": "display_data"
    },
    {
     "name": "stdout",
     "output_type": "stream",
     "text": [
      "Epoch 1/10 - loss=2.3062, val_acc=0.0977, val_loss=2.303974915229481\n",
      "Epoch 2/10 - loss=2.3041, val_acc=0.1013, val_loss=2.303352820200559\n",
      "Epoch 3/10 - loss=2.3038, val_acc=0.0985, val_loss=2.3053607235277527\n",
      "Epoch 4/10 - loss=2.3041, val_acc=0.0977, val_loss=2.3034478026941754\n",
      "Epoch 5/10 - loss=2.3038, val_acc=0.1013, val_loss=2.304703166190963\n",
      "Epoch 6/10 - loss=2.3038, val_acc=0.1000, val_loss=2.303048407506977\n",
      "Epoch 7/10 - loss=2.3039, val_acc=0.1013, val_loss=2.3030503863014564\n",
      "Epoch 8/10 - loss=2.3037, val_acc=0.1000, val_loss=2.302993919066203\n",
      "Epoch 9/10 - loss=2.3039, val_acc=0.1018, val_loss=2.303747821363612\n",
      "Epoch 10/10 - loss=2.3036, val_acc=0.1000, val_loss=2.3042547144259826\n",
      "test accuracy  0.1\n"
     ]
    },
    {
     "data": {
      "text/html": [],
      "text/plain": [
       "<IPython.core.display.HTML object>"
      ]
     },
     "metadata": {},
     "output_type": "display_data"
    },
    {
     "data": {
      "text/html": [
       "<br>    <style><br>        .wandb-row {<br>            display: flex;<br>            flex-direction: row;<br>            flex-wrap: wrap;<br>            justify-content: flex-start;<br>            width: 100%;<br>        }<br>        .wandb-col {<br>            display: flex;<br>            flex-direction: column;<br>            flex-basis: 100%;<br>            flex: 1;<br>            padding: 10px;<br>        }<br>    </style><br><div class=\"wandb-row\"><div class=\"wandb-col\"><h3>Run history:</h3><br/><table class=\"wandb\"><tr><td>epoch</td><td>▁▂▃▃▄▅▆▆▇█</td></tr><tr><td>test_accuracy</td><td>▁</td></tr><tr><td>training_loss</td><td>█▃▂▂▂▂▂▂▂▁</td></tr><tr><td>validation loss</td><td>▄▂█▂▆▁▁▁▃▅</td></tr><tr><td>validation_accuracy</td><td>▁▇▂▁▇▅▇▅█▅</td></tr></table><br/></div><div class=\"wandb-col\"><h3>Run summary:</h3><br/><table class=\"wandb\"><tr><td>epoch</td><td>10</td></tr><tr><td>test_accuracy</td><td>0.1</td></tr><tr><td>training_loss</td><td>2.30355</td></tr><tr><td>validation loss</td><td>2.30425</td></tr><tr><td>validation_accuracy</td><td>0.1</td></tr></table><br/></div></div>"
      ],
      "text/plain": [
       "<IPython.core.display.HTML object>"
      ]
     },
     "metadata": {},
     "output_type": "display_data"
    },
    {
     "data": {
      "text/html": [
       " View run <strong style=\"color:#cdcd00\">hl_5_bs_32_ac_sigmoid_opt_momentum</strong> at: <a href='https://wandb.ai/ed24s401-indian-institute-of-technology-madras/q4_sweep_project/runs/h087iat4' target=\"_blank\">https://wandb.ai/ed24s401-indian-institute-of-technology-madras/q4_sweep_project/runs/h087iat4</a><br> View project at: <a href='https://wandb.ai/ed24s401-indian-institute-of-technology-madras/q4_sweep_project' target=\"_blank\">https://wandb.ai/ed24s401-indian-institute-of-technology-madras/q4_sweep_project</a><br>Synced 5 W&B file(s), 0 media file(s), 0 artifact file(s) and 0 other file(s)"
      ],
      "text/plain": [
       "<IPython.core.display.HTML object>"
      ]
     },
     "metadata": {},
     "output_type": "display_data"
    },
    {
     "data": {
      "text/html": [
       "Find logs at: <code>.\\wandb\\run-20250316_202857-h087iat4\\logs</code>"
      ],
      "text/plain": [
       "<IPython.core.display.HTML object>"
      ]
     },
     "metadata": {},
     "output_type": "display_data"
    },
    {
     "name": "stderr",
     "output_type": "stream",
     "text": [
      "\u001b[34m\u001b[1mwandb\u001b[0m: Agent Starting Run: b280jmqr with config:\n",
      "\u001b[34m\u001b[1mwandb\u001b[0m: \tactivation: sigmoid\n",
      "\u001b[34m\u001b[1mwandb\u001b[0m: \tbatch_size: 32\n",
      "\u001b[34m\u001b[1mwandb\u001b[0m: \tbeta1: 0.9\n",
      "\u001b[34m\u001b[1mwandb\u001b[0m: \tbeta2: 0.999\n",
      "\u001b[34m\u001b[1mwandb\u001b[0m: \tbeta_rms: 0.9\n",
      "\u001b[34m\u001b[1mwandb\u001b[0m: \tepochs: 10\n",
      "\u001b[34m\u001b[1mwandb\u001b[0m: \tepsilon: 1e-08\n",
      "\u001b[34m\u001b[1mwandb\u001b[0m: \thidden_size: 128\n",
      "\u001b[34m\u001b[1mwandb\u001b[0m: \tinit_type: xavier\n",
      "\u001b[34m\u001b[1mwandb\u001b[0m: \tlearning_rate: 0.001\n",
      "\u001b[34m\u001b[1mwandb\u001b[0m: \tmomentum: 0.8\n",
      "\u001b[34m\u001b[1mwandb\u001b[0m: \tnum_hidden_layers: 5\n",
      "\u001b[34m\u001b[1mwandb\u001b[0m: \toptimizer: nesterov\n",
      "\u001b[34m\u001b[1mwandb\u001b[0m: \tweight_decay: 0\n"
     ]
    },
    {
     "data": {
      "text/html": [
       "Tracking run with wandb version 0.19.8"
      ],
      "text/plain": [
       "<IPython.core.display.HTML object>"
      ]
     },
     "metadata": {},
     "output_type": "display_data"
    },
    {
     "data": {
      "text/html": [
       "Run data is saved locally in <code>c:\\Users\\acer\\OneDrive\\Documents\\GitHub\\dl_assignment_ed24s401\\wandb\\run-20250316_202940-b280jmqr</code>"
      ],
      "text/plain": [
       "<IPython.core.display.HTML object>"
      ]
     },
     "metadata": {},
     "output_type": "display_data"
    },
    {
     "data": {
      "text/html": [
       "Syncing run <strong><a href='https://wandb.ai/ed24s401-indian-institute-of-technology-madras/q4_sweep_project/runs/b280jmqr' target=\"_blank\">whole-sweep-32</a></strong> to <a href='https://wandb.ai/ed24s401-indian-institute-of-technology-madras/q4_sweep_project' target=\"_blank\">Weights & Biases</a> (<a href='https://wandb.me/developer-guide' target=\"_blank\">docs</a>)<br>Sweep page: <a href='https://wandb.ai/ed24s401-indian-institute-of-technology-madras/q4_sweep_project/sweeps/p60nv46x' target=\"_blank\">https://wandb.ai/ed24s401-indian-institute-of-technology-madras/q4_sweep_project/sweeps/p60nv46x</a>"
      ],
      "text/plain": [
       "<IPython.core.display.HTML object>"
      ]
     },
     "metadata": {},
     "output_type": "display_data"
    },
    {
     "data": {
      "text/html": [
       " View project at <a href='https://wandb.ai/ed24s401-indian-institute-of-technology-madras/q4_sweep_project' target=\"_blank\">https://wandb.ai/ed24s401-indian-institute-of-technology-madras/q4_sweep_project</a>"
      ],
      "text/plain": [
       "<IPython.core.display.HTML object>"
      ]
     },
     "metadata": {},
     "output_type": "display_data"
    },
    {
     "data": {
      "text/html": [
       " View sweep at <a href='https://wandb.ai/ed24s401-indian-institute-of-technology-madras/q4_sweep_project/sweeps/p60nv46x' target=\"_blank\">https://wandb.ai/ed24s401-indian-institute-of-technology-madras/q4_sweep_project/sweeps/p60nv46x</a>"
      ],
      "text/plain": [
       "<IPython.core.display.HTML object>"
      ]
     },
     "metadata": {},
     "output_type": "display_data"
    },
    {
     "data": {
      "text/html": [
       " View run at <a href='https://wandb.ai/ed24s401-indian-institute-of-technology-madras/q4_sweep_project/runs/b280jmqr' target=\"_blank\">https://wandb.ai/ed24s401-indian-institute-of-technology-madras/q4_sweep_project/runs/b280jmqr</a>"
      ],
      "text/plain": [
       "<IPython.core.display.HTML object>"
      ]
     },
     "metadata": {},
     "output_type": "display_data"
    },
    {
     "name": "stdout",
     "output_type": "stream",
     "text": [
      "Epoch 1/10 - loss=2.3069, val_acc=0.0977, val_loss=2.3039294933728303\n",
      "Epoch 2/10 - loss=2.3041, val_acc=0.1145, val_loss=2.3036475947900055\n",
      "Epoch 3/10 - loss=2.3041, val_acc=0.0977, val_loss=2.3040859922048162\n",
      "Epoch 4/10 - loss=2.3041, val_acc=0.0985, val_loss=2.302757747155341\n",
      "Epoch 5/10 - loss=2.3041, val_acc=0.1023, val_loss=2.3030441769201704\n",
      "Epoch 6/10 - loss=2.3040, val_acc=0.0985, val_loss=2.3032501931688043\n",
      "Epoch 7/10 - loss=2.3039, val_acc=0.1000, val_loss=2.3035614843626755\n",
      "Epoch 8/10 - loss=2.3039, val_acc=0.0977, val_loss=2.3051427433363156\n",
      "Epoch 9/10 - loss=2.3038, val_acc=0.1000, val_loss=2.303022491236831\n",
      "Epoch 10/10 - loss=2.3038, val_acc=0.0995, val_loss=2.3036126237574437\n",
      "test accuracy  0.1\n"
     ]
    },
    {
     "data": {
      "text/html": [],
      "text/plain": [
       "<IPython.core.display.HTML object>"
      ]
     },
     "metadata": {},
     "output_type": "display_data"
    },
    {
     "data": {
      "text/html": [
       "<br>    <style><br>        .wandb-row {<br>            display: flex;<br>            flex-direction: row;<br>            flex-wrap: wrap;<br>            justify-content: flex-start;<br>            width: 100%;<br>        }<br>        .wandb-col {<br>            display: flex;<br>            flex-direction: column;<br>            flex-basis: 100%;<br>            flex: 1;<br>            padding: 10px;<br>        }<br>    </style><br><div class=\"wandb-row\"><div class=\"wandb-col\"><h3>Run history:</h3><br/><table class=\"wandb\"><tr><td>epoch</td><td>▁▂▃▃▄▅▆▆▇█</td></tr><tr><td>test_accuracy</td><td>▁</td></tr><tr><td>training_loss</td><td>█▂▂▂▂▂▁▁▁▁</td></tr><tr><td>validation loss</td><td>▄▄▅▁▂▂▃█▂▄</td></tr><tr><td>validation_accuracy</td><td>▁█▁▁▃▁▂▁▂▂</td></tr></table><br/></div><div class=\"wandb-col\"><h3>Run summary:</h3><br/><table class=\"wandb\"><tr><td>epoch</td><td>10</td></tr><tr><td>test_accuracy</td><td>0.1</td></tr><tr><td>training_loss</td><td>2.30375</td></tr><tr><td>validation loss</td><td>2.30361</td></tr><tr><td>validation_accuracy</td><td>0.0995</td></tr></table><br/></div></div>"
      ],
      "text/plain": [
       "<IPython.core.display.HTML object>"
      ]
     },
     "metadata": {},
     "output_type": "display_data"
    },
    {
     "data": {
      "text/html": [
       " View run <strong style=\"color:#cdcd00\">hl_5_bs_32_ac_sigmoid_opt_nesterov</strong> at: <a href='https://wandb.ai/ed24s401-indian-institute-of-technology-madras/q4_sweep_project/runs/b280jmqr' target=\"_blank\">https://wandb.ai/ed24s401-indian-institute-of-technology-madras/q4_sweep_project/runs/b280jmqr</a><br> View project at: <a href='https://wandb.ai/ed24s401-indian-institute-of-technology-madras/q4_sweep_project' target=\"_blank\">https://wandb.ai/ed24s401-indian-institute-of-technology-madras/q4_sweep_project</a><br>Synced 5 W&B file(s), 0 media file(s), 0 artifact file(s) and 0 other file(s)"
      ],
      "text/plain": [
       "<IPython.core.display.HTML object>"
      ]
     },
     "metadata": {},
     "output_type": "display_data"
    },
    {
     "data": {
      "text/html": [
       "Find logs at: <code>.\\wandb\\run-20250316_202940-b280jmqr\\logs</code>"
      ],
      "text/plain": [
       "<IPython.core.display.HTML object>"
      ]
     },
     "metadata": {},
     "output_type": "display_data"
    },
    {
     "name": "stderr",
     "output_type": "stream",
     "text": [
      "\u001b[34m\u001b[1mwandb\u001b[0m: Agent Starting Run: d1v9slx6 with config:\n",
      "\u001b[34m\u001b[1mwandb\u001b[0m: \tactivation: tanh\n",
      "\u001b[34m\u001b[1mwandb\u001b[0m: \tbatch_size: 32\n",
      "\u001b[34m\u001b[1mwandb\u001b[0m: \tbeta1: 0.9\n",
      "\u001b[34m\u001b[1mwandb\u001b[0m: \tbeta2: 0.999\n",
      "\u001b[34m\u001b[1mwandb\u001b[0m: \tbeta_rms: 0.9\n",
      "\u001b[34m\u001b[1mwandb\u001b[0m: \tepochs: 10\n",
      "\u001b[34m\u001b[1mwandb\u001b[0m: \tepsilon: 1e-08\n",
      "\u001b[34m\u001b[1mwandb\u001b[0m: \thidden_size: 64\n",
      "\u001b[34m\u001b[1mwandb\u001b[0m: \tinit_type: random\n",
      "\u001b[34m\u001b[1mwandb\u001b[0m: \tlearning_rate: 0.0001\n",
      "\u001b[34m\u001b[1mwandb\u001b[0m: \tmomentum: 0.8\n",
      "\u001b[34m\u001b[1mwandb\u001b[0m: \tnum_hidden_layers: 3\n",
      "\u001b[34m\u001b[1mwandb\u001b[0m: \toptimizer: nesterov\n",
      "\u001b[34m\u001b[1mwandb\u001b[0m: \tweight_decay: 0\n"
     ]
    },
    {
     "data": {
      "text/html": [
       "Tracking run with wandb version 0.19.8"
      ],
      "text/plain": [
       "<IPython.core.display.HTML object>"
      ]
     },
     "metadata": {},
     "output_type": "display_data"
    },
    {
     "data": {
      "text/html": [
       "Run data is saved locally in <code>c:\\Users\\acer\\OneDrive\\Documents\\GitHub\\dl_assignment_ed24s401\\wandb\\run-20250316_203104-d1v9slx6</code>"
      ],
      "text/plain": [
       "<IPython.core.display.HTML object>"
      ]
     },
     "metadata": {},
     "output_type": "display_data"
    },
    {
     "data": {
      "text/html": [
       "Syncing run <strong><a href='https://wandb.ai/ed24s401-indian-institute-of-technology-madras/q4_sweep_project/runs/d1v9slx6' target=\"_blank\">gallant-sweep-33</a></strong> to <a href='https://wandb.ai/ed24s401-indian-institute-of-technology-madras/q4_sweep_project' target=\"_blank\">Weights & Biases</a> (<a href='https://wandb.me/developer-guide' target=\"_blank\">docs</a>)<br>Sweep page: <a href='https://wandb.ai/ed24s401-indian-institute-of-technology-madras/q4_sweep_project/sweeps/p60nv46x' target=\"_blank\">https://wandb.ai/ed24s401-indian-institute-of-technology-madras/q4_sweep_project/sweeps/p60nv46x</a>"
      ],
      "text/plain": [
       "<IPython.core.display.HTML object>"
      ]
     },
     "metadata": {},
     "output_type": "display_data"
    },
    {
     "data": {
      "text/html": [
       " View project at <a href='https://wandb.ai/ed24s401-indian-institute-of-technology-madras/q4_sweep_project' target=\"_blank\">https://wandb.ai/ed24s401-indian-institute-of-technology-madras/q4_sweep_project</a>"
      ],
      "text/plain": [
       "<IPython.core.display.HTML object>"
      ]
     },
     "metadata": {},
     "output_type": "display_data"
    },
    {
     "data": {
      "text/html": [
       " View sweep at <a href='https://wandb.ai/ed24s401-indian-institute-of-technology-madras/q4_sweep_project/sweeps/p60nv46x' target=\"_blank\">https://wandb.ai/ed24s401-indian-institute-of-technology-madras/q4_sweep_project/sweeps/p60nv46x</a>"
      ],
      "text/plain": [
       "<IPython.core.display.HTML object>"
      ]
     },
     "metadata": {},
     "output_type": "display_data"
    },
    {
     "data": {
      "text/html": [
       " View run at <a href='https://wandb.ai/ed24s401-indian-institute-of-technology-madras/q4_sweep_project/runs/d1v9slx6' target=\"_blank\">https://wandb.ai/ed24s401-indian-institute-of-technology-madras/q4_sweep_project/runs/d1v9slx6</a>"
      ],
      "text/plain": [
       "<IPython.core.display.HTML object>"
      ]
     },
     "metadata": {},
     "output_type": "display_data"
    },
    {
     "name": "stdout",
     "output_type": "stream",
     "text": [
      "Epoch 1/10 - loss=1.4495, val_acc=0.6555, val_loss=1.1057567094704246\n",
      "Epoch 2/10 - loss=0.9782, val_acc=0.7152, val_loss=0.8925417709375482\n",
      "Epoch 3/10 - loss=0.8300, val_acc=0.7400, val_loss=0.7911863218934891\n",
      "Epoch 4/10 - loss=0.7487, val_acc=0.7555, val_loss=0.7268907522606611\n",
      "Epoch 5/10 - loss=0.6951, val_acc=0.7690, val_loss=0.6820783325512757\n",
      "Epoch 6/10 - loss=0.6563, val_acc=0.7782, val_loss=0.6492531203908745\n",
      "Epoch 7/10 - loss=0.6266, val_acc=0.7862, val_loss=0.623056697578619\n",
      "Epoch 8/10 - loss=0.6028, val_acc=0.7905, val_loss=0.6022458178492165\n",
      "Epoch 9/10 - loss=0.5833, val_acc=0.7955, val_loss=0.5840648765722177\n",
      "Epoch 10/10 - loss=0.5671, val_acc=0.7995, val_loss=0.5694665725577399\n",
      "test accuracy  0.7986\n"
     ]
    },
    {
     "data": {
      "text/html": [],
      "text/plain": [
       "<IPython.core.display.HTML object>"
      ]
     },
     "metadata": {},
     "output_type": "display_data"
    },
    {
     "data": {
      "text/html": [
       "<br>    <style><br>        .wandb-row {<br>            display: flex;<br>            flex-direction: row;<br>            flex-wrap: wrap;<br>            justify-content: flex-start;<br>            width: 100%;<br>        }<br>        .wandb-col {<br>            display: flex;<br>            flex-direction: column;<br>            flex-basis: 100%;<br>            flex: 1;<br>            padding: 10px;<br>        }<br>    </style><br><div class=\"wandb-row\"><div class=\"wandb-col\"><h3>Run history:</h3><br/><table class=\"wandb\"><tr><td>epoch</td><td>▁▂▃▃▄▅▆▆▇█</td></tr><tr><td>test_accuracy</td><td>▁</td></tr><tr><td>training_loss</td><td>█▄▃▂▂▂▁▁▁▁</td></tr><tr><td>validation loss</td><td>█▅▄▃▂▂▂▁▁▁</td></tr><tr><td>validation_accuracy</td><td>▁▄▅▆▇▇▇███</td></tr></table><br/></div><div class=\"wandb-col\"><h3>Run summary:</h3><br/><table class=\"wandb\"><tr><td>epoch</td><td>10</td></tr><tr><td>test_accuracy</td><td>0.7986</td></tr><tr><td>training_loss</td><td>0.56709</td></tr><tr><td>validation loss</td><td>0.56947</td></tr><tr><td>validation_accuracy</td><td>0.7995</td></tr></table><br/></div></div>"
      ],
      "text/plain": [
       "<IPython.core.display.HTML object>"
      ]
     },
     "metadata": {},
     "output_type": "display_data"
    },
    {
     "data": {
      "text/html": [
       " View run <strong style=\"color:#cdcd00\">hl_3_bs_32_ac_tanh_opt_nesterov</strong> at: <a href='https://wandb.ai/ed24s401-indian-institute-of-technology-madras/q4_sweep_project/runs/d1v9slx6' target=\"_blank\">https://wandb.ai/ed24s401-indian-institute-of-technology-madras/q4_sweep_project/runs/d1v9slx6</a><br> View project at: <a href='https://wandb.ai/ed24s401-indian-institute-of-technology-madras/q4_sweep_project' target=\"_blank\">https://wandb.ai/ed24s401-indian-institute-of-technology-madras/q4_sweep_project</a><br>Synced 5 W&B file(s), 0 media file(s), 0 artifact file(s) and 0 other file(s)"
      ],
      "text/plain": [
       "<IPython.core.display.HTML object>"
      ]
     },
     "metadata": {},
     "output_type": "display_data"
    },
    {
     "data": {
      "text/html": [
       "Find logs at: <code>.\\wandb\\run-20250316_203104-d1v9slx6\\logs</code>"
      ],
      "text/plain": [
       "<IPython.core.display.HTML object>"
      ]
     },
     "metadata": {},
     "output_type": "display_data"
    },
    {
     "name": "stderr",
     "output_type": "stream",
     "text": [
      "\u001b[34m\u001b[1mwandb\u001b[0m: Agent Starting Run: 0t1d1fpq with config:\n",
      "\u001b[34m\u001b[1mwandb\u001b[0m: \tactivation: relu\n",
      "\u001b[34m\u001b[1mwandb\u001b[0m: \tbatch_size: 32\n",
      "\u001b[34m\u001b[1mwandb\u001b[0m: \tbeta1: 0.9\n",
      "\u001b[34m\u001b[1mwandb\u001b[0m: \tbeta2: 0.999\n",
      "\u001b[34m\u001b[1mwandb\u001b[0m: \tbeta_rms: 0.9\n",
      "\u001b[34m\u001b[1mwandb\u001b[0m: \tepochs: 10\n",
      "\u001b[34m\u001b[1mwandb\u001b[0m: \tepsilon: 1e-08\n",
      "\u001b[34m\u001b[1mwandb\u001b[0m: \thidden_size: 64\n",
      "\u001b[34m\u001b[1mwandb\u001b[0m: \tinit_type: random\n",
      "\u001b[34m\u001b[1mwandb\u001b[0m: \tlearning_rate: 0.001\n",
      "\u001b[34m\u001b[1mwandb\u001b[0m: \tmomentum: 0.9\n",
      "\u001b[34m\u001b[1mwandb\u001b[0m: \tnum_hidden_layers: 3\n",
      "\u001b[34m\u001b[1mwandb\u001b[0m: \toptimizer: nesterov\n",
      "\u001b[34m\u001b[1mwandb\u001b[0m: \tweight_decay: 0\n"
     ]
    },
    {
     "data": {
      "text/html": [
       "Tracking run with wandb version 0.19.8"
      ],
      "text/plain": [
       "<IPython.core.display.HTML object>"
      ]
     },
     "metadata": {},
     "output_type": "display_data"
    },
    {
     "data": {
      "text/html": [
       "Run data is saved locally in <code>c:\\Users\\acer\\OneDrive\\Documents\\GitHub\\dl_assignment_ed24s401\\wandb\\run-20250316_203137-0t1d1fpq</code>"
      ],
      "text/plain": [
       "<IPython.core.display.HTML object>"
      ]
     },
     "metadata": {},
     "output_type": "display_data"
    },
    {
     "data": {
      "text/html": [
       "Syncing run <strong><a href='https://wandb.ai/ed24s401-indian-institute-of-technology-madras/q4_sweep_project/runs/0t1d1fpq' target=\"_blank\">gentle-sweep-34</a></strong> to <a href='https://wandb.ai/ed24s401-indian-institute-of-technology-madras/q4_sweep_project' target=\"_blank\">Weights & Biases</a> (<a href='https://wandb.me/developer-guide' target=\"_blank\">docs</a>)<br>Sweep page: <a href='https://wandb.ai/ed24s401-indian-institute-of-technology-madras/q4_sweep_project/sweeps/p60nv46x' target=\"_blank\">https://wandb.ai/ed24s401-indian-institute-of-technology-madras/q4_sweep_project/sweeps/p60nv46x</a>"
      ],
      "text/plain": [
       "<IPython.core.display.HTML object>"
      ]
     },
     "metadata": {},
     "output_type": "display_data"
    },
    {
     "data": {
      "text/html": [
       " View project at <a href='https://wandb.ai/ed24s401-indian-institute-of-technology-madras/q4_sweep_project' target=\"_blank\">https://wandb.ai/ed24s401-indian-institute-of-technology-madras/q4_sweep_project</a>"
      ],
      "text/plain": [
       "<IPython.core.display.HTML object>"
      ]
     },
     "metadata": {},
     "output_type": "display_data"
    },
    {
     "data": {
      "text/html": [
       " View sweep at <a href='https://wandb.ai/ed24s401-indian-institute-of-technology-madras/q4_sweep_project/sweeps/p60nv46x' target=\"_blank\">https://wandb.ai/ed24s401-indian-institute-of-technology-madras/q4_sweep_project/sweeps/p60nv46x</a>"
      ],
      "text/plain": [
       "<IPython.core.display.HTML object>"
      ]
     },
     "metadata": {},
     "output_type": "display_data"
    },
    {
     "data": {
      "text/html": [
       " View run at <a href='https://wandb.ai/ed24s401-indian-institute-of-technology-madras/q4_sweep_project/runs/0t1d1fpq' target=\"_blank\">https://wandb.ai/ed24s401-indian-institute-of-technology-madras/q4_sweep_project/runs/0t1d1fpq</a>"
      ],
      "text/plain": [
       "<IPython.core.display.HTML object>"
      ]
     },
     "metadata": {},
     "output_type": "display_data"
    },
    {
     "name": "stdout",
     "output_type": "stream",
     "text": [
      "Epoch 1/10 - loss=0.6975, val_acc=0.8257, val_loss=0.4909688508627646\n",
      "Epoch 2/10 - loss=0.4701, val_acc=0.8468, val_loss=0.4404039728104688\n",
      "Epoch 3/10 - loss=0.4268, val_acc=0.8507, val_loss=0.4185324033728051\n",
      "Epoch 4/10 - loss=0.4017, val_acc=0.8615, val_loss=0.3897991543178661\n",
      "Epoch 5/10 - loss=0.3832, val_acc=0.8570, val_loss=0.39360127803452094\n",
      "Epoch 6/10 - loss=0.3675, val_acc=0.8635, val_loss=0.376634273848217\n",
      "Epoch 7/10 - loss=0.3563, val_acc=0.8657, val_loss=0.3630551852859084\n",
      "Epoch 8/10 - loss=0.3461, val_acc=0.8677, val_loss=0.3570034831621371\n",
      "Epoch 9/10 - loss=0.3355, val_acc=0.8712, val_loss=0.35884386898329995\n",
      "Epoch 10/10 - loss=0.3280, val_acc=0.8713, val_loss=0.34810187685248656\n",
      "test accuracy  0.8635\n"
     ]
    },
    {
     "data": {
      "text/html": [],
      "text/plain": [
       "<IPython.core.display.HTML object>"
      ]
     },
     "metadata": {},
     "output_type": "display_data"
    },
    {
     "data": {
      "text/html": [
       "<br>    <style><br>        .wandb-row {<br>            display: flex;<br>            flex-direction: row;<br>            flex-wrap: wrap;<br>            justify-content: flex-start;<br>            width: 100%;<br>        }<br>        .wandb-col {<br>            display: flex;<br>            flex-direction: column;<br>            flex-basis: 100%;<br>            flex: 1;<br>            padding: 10px;<br>        }<br>    </style><br><div class=\"wandb-row\"><div class=\"wandb-col\"><h3>Run history:</h3><br/><table class=\"wandb\"><tr><td>epoch</td><td>▁▂▃▃▄▅▆▆▇█</td></tr><tr><td>test_accuracy</td><td>▁</td></tr><tr><td>training_loss</td><td>█▄▃▂▂▂▂▁▁▁</td></tr><tr><td>validation loss</td><td>█▆▄▃▃▂▂▁▂▁</td></tr><tr><td>validation_accuracy</td><td>▁▄▅▆▆▇▇▇██</td></tr></table><br/></div><div class=\"wandb-col\"><h3>Run summary:</h3><br/><table class=\"wandb\"><tr><td>epoch</td><td>10</td></tr><tr><td>test_accuracy</td><td>0.8635</td></tr><tr><td>training_loss</td><td>0.32804</td></tr><tr><td>validation loss</td><td>0.3481</td></tr><tr><td>validation_accuracy</td><td>0.87133</td></tr></table><br/></div></div>"
      ],
      "text/plain": [
       "<IPython.core.display.HTML object>"
      ]
     },
     "metadata": {},
     "output_type": "display_data"
    },
    {
     "data": {
      "text/html": [
       " View run <strong style=\"color:#cdcd00\">hl_3_bs_32_ac_relu_opt_nesterov</strong> at: <a href='https://wandb.ai/ed24s401-indian-institute-of-technology-madras/q4_sweep_project/runs/0t1d1fpq' target=\"_blank\">https://wandb.ai/ed24s401-indian-institute-of-technology-madras/q4_sweep_project/runs/0t1d1fpq</a><br> View project at: <a href='https://wandb.ai/ed24s401-indian-institute-of-technology-madras/q4_sweep_project' target=\"_blank\">https://wandb.ai/ed24s401-indian-institute-of-technology-madras/q4_sweep_project</a><br>Synced 5 W&B file(s), 0 media file(s), 0 artifact file(s) and 0 other file(s)"
      ],
      "text/plain": [
       "<IPython.core.display.HTML object>"
      ]
     },
     "metadata": {},
     "output_type": "display_data"
    },
    {
     "data": {
      "text/html": [
       "Find logs at: <code>.\\wandb\\run-20250316_203137-0t1d1fpq\\logs</code>"
      ],
      "text/plain": [
       "<IPython.core.display.HTML object>"
      ]
     },
     "metadata": {},
     "output_type": "display_data"
    },
    {
     "name": "stderr",
     "output_type": "stream",
     "text": [
      "\u001b[34m\u001b[1mwandb\u001b[0m: Agent Starting Run: 38kjwemk with config:\n",
      "\u001b[34m\u001b[1mwandb\u001b[0m: \tactivation: relu\n",
      "\u001b[34m\u001b[1mwandb\u001b[0m: \tbatch_size: 32\n",
      "\u001b[34m\u001b[1mwandb\u001b[0m: \tbeta1: 0.9\n",
      "\u001b[34m\u001b[1mwandb\u001b[0m: \tbeta2: 0.999\n",
      "\u001b[34m\u001b[1mwandb\u001b[0m: \tbeta_rms: 0.9\n",
      "\u001b[34m\u001b[1mwandb\u001b[0m: \tepochs: 10\n",
      "\u001b[34m\u001b[1mwandb\u001b[0m: \tepsilon: 1e-08\n",
      "\u001b[34m\u001b[1mwandb\u001b[0m: \thidden_size: 128\n",
      "\u001b[34m\u001b[1mwandb\u001b[0m: \tinit_type: xavier\n",
      "\u001b[34m\u001b[1mwandb\u001b[0m: \tlearning_rate: 0.0001\n",
      "\u001b[34m\u001b[1mwandb\u001b[0m: \tmomentum: 0.9\n",
      "\u001b[34m\u001b[1mwandb\u001b[0m: \tnum_hidden_layers: 5\n",
      "\u001b[34m\u001b[1mwandb\u001b[0m: \toptimizer: nadam\n",
      "\u001b[34m\u001b[1mwandb\u001b[0m: \tweight_decay: 0.0005\n"
     ]
    },
    {
     "data": {
      "text/html": [
       "Tracking run with wandb version 0.19.8"
      ],
      "text/plain": [
       "<IPython.core.display.HTML object>"
      ]
     },
     "metadata": {},
     "output_type": "display_data"
    },
    {
     "data": {
      "text/html": [
       "Run data is saved locally in <code>c:\\Users\\acer\\OneDrive\\Documents\\GitHub\\dl_assignment_ed24s401\\wandb\\run-20250316_203208-38kjwemk</code>"
      ],
      "text/plain": [
       "<IPython.core.display.HTML object>"
      ]
     },
     "metadata": {},
     "output_type": "display_data"
    },
    {
     "data": {
      "text/html": [
       "Syncing run <strong><a href='https://wandb.ai/ed24s401-indian-institute-of-technology-madras/q4_sweep_project/runs/38kjwemk' target=\"_blank\">driven-sweep-35</a></strong> to <a href='https://wandb.ai/ed24s401-indian-institute-of-technology-madras/q4_sweep_project' target=\"_blank\">Weights & Biases</a> (<a href='https://wandb.me/developer-guide' target=\"_blank\">docs</a>)<br>Sweep page: <a href='https://wandb.ai/ed24s401-indian-institute-of-technology-madras/q4_sweep_project/sweeps/p60nv46x' target=\"_blank\">https://wandb.ai/ed24s401-indian-institute-of-technology-madras/q4_sweep_project/sweeps/p60nv46x</a>"
      ],
      "text/plain": [
       "<IPython.core.display.HTML object>"
      ]
     },
     "metadata": {},
     "output_type": "display_data"
    },
    {
     "data": {
      "text/html": [
       " View project at <a href='https://wandb.ai/ed24s401-indian-institute-of-technology-madras/q4_sweep_project' target=\"_blank\">https://wandb.ai/ed24s401-indian-institute-of-technology-madras/q4_sweep_project</a>"
      ],
      "text/plain": [
       "<IPython.core.display.HTML object>"
      ]
     },
     "metadata": {},
     "output_type": "display_data"
    },
    {
     "data": {
      "text/html": [
       " View sweep at <a href='https://wandb.ai/ed24s401-indian-institute-of-technology-madras/q4_sweep_project/sweeps/p60nv46x' target=\"_blank\">https://wandb.ai/ed24s401-indian-institute-of-technology-madras/q4_sweep_project/sweeps/p60nv46x</a>"
      ],
      "text/plain": [
       "<IPython.core.display.HTML object>"
      ]
     },
     "metadata": {},
     "output_type": "display_data"
    },
    {
     "data": {
      "text/html": [
       " View run at <a href='https://wandb.ai/ed24s401-indian-institute-of-technology-madras/q4_sweep_project/runs/38kjwemk' target=\"_blank\">https://wandb.ai/ed24s401-indian-institute-of-technology-madras/q4_sweep_project/runs/38kjwemk</a>"
      ],
      "text/plain": [
       "<IPython.core.display.HTML object>"
      ]
     },
     "metadata": {},
     "output_type": "display_data"
    },
    {
     "name": "stdout",
     "output_type": "stream",
     "text": [
      "Epoch 1/10 - loss=0.8068, val_acc=0.8245, val_loss=0.48460313163559043\n",
      "Epoch 2/10 - loss=0.5657, val_acc=0.8507, val_loss=0.42441486305631687\n",
      "Epoch 3/10 - loss=0.5233, val_acc=0.8438, val_loss=0.4250030600844261\n",
      "Epoch 4/10 - loss=0.4951, val_acc=0.8500, val_loss=0.39805016474225263\n",
      "Epoch 5/10 - loss=0.4755, val_acc=0.8645, val_loss=0.37296798847230667\n",
      "Epoch 6/10 - loss=0.4583, val_acc=0.8717, val_loss=0.3495343054376769\n",
      "Epoch 7/10 - loss=0.4457, val_acc=0.8670, val_loss=0.35775600224671744\n",
      "Epoch 8/10 - loss=0.4335, val_acc=0.8725, val_loss=0.34672425176180693\n",
      "Epoch 9/10 - loss=0.4234, val_acc=0.8738, val_loss=0.33049233409171475\n",
      "Epoch 10/10 - loss=0.4134, val_acc=0.8697, val_loss=0.3574495601553445\n",
      "test accuracy  0.8669\n"
     ]
    },
    {
     "data": {
      "text/html": [],
      "text/plain": [
       "<IPython.core.display.HTML object>"
      ]
     },
     "metadata": {},
     "output_type": "display_data"
    },
    {
     "data": {
      "text/html": [
       "<br>    <style><br>        .wandb-row {<br>            display: flex;<br>            flex-direction: row;<br>            flex-wrap: wrap;<br>            justify-content: flex-start;<br>            width: 100%;<br>        }<br>        .wandb-col {<br>            display: flex;<br>            flex-direction: column;<br>            flex-basis: 100%;<br>            flex: 1;<br>            padding: 10px;<br>        }<br>    </style><br><div class=\"wandb-row\"><div class=\"wandb-col\"><h3>Run history:</h3><br/><table class=\"wandb\"><tr><td>epoch</td><td>▁▂▃▃▄▅▆▆▇█</td></tr><tr><td>test_accuracy</td><td>▁</td></tr><tr><td>training_loss</td><td>█▄▃▂▂▂▂▁▁▁</td></tr><tr><td>validation loss</td><td>█▅▅▄▃▂▂▂▁▂</td></tr><tr><td>validation_accuracy</td><td>▁▅▄▅▇█▇██▇</td></tr></table><br/></div><div class=\"wandb-col\"><h3>Run summary:</h3><br/><table class=\"wandb\"><tr><td>epoch</td><td>10</td></tr><tr><td>test_accuracy</td><td>0.8669</td></tr><tr><td>training_loss</td><td>0.41336</td></tr><tr><td>validation loss</td><td>0.35745</td></tr><tr><td>validation_accuracy</td><td>0.86967</td></tr></table><br/></div></div>"
      ],
      "text/plain": [
       "<IPython.core.display.HTML object>"
      ]
     },
     "metadata": {},
     "output_type": "display_data"
    },
    {
     "data": {
      "text/html": [
       " View run <strong style=\"color:#cdcd00\">hl_5_bs_32_ac_relu_opt_nadam</strong> at: <a href='https://wandb.ai/ed24s401-indian-institute-of-technology-madras/q4_sweep_project/runs/38kjwemk' target=\"_blank\">https://wandb.ai/ed24s401-indian-institute-of-technology-madras/q4_sweep_project/runs/38kjwemk</a><br> View project at: <a href='https://wandb.ai/ed24s401-indian-institute-of-technology-madras/q4_sweep_project' target=\"_blank\">https://wandb.ai/ed24s401-indian-institute-of-technology-madras/q4_sweep_project</a><br>Synced 5 W&B file(s), 0 media file(s), 0 artifact file(s) and 0 other file(s)"
      ],
      "text/plain": [
       "<IPython.core.display.HTML object>"
      ]
     },
     "metadata": {},
     "output_type": "display_data"
    },
    {
     "data": {
      "text/html": [
       "Find logs at: <code>.\\wandb\\run-20250316_203208-38kjwemk\\logs</code>"
      ],
      "text/plain": [
       "<IPython.core.display.HTML object>"
      ]
     },
     "metadata": {},
     "output_type": "display_data"
    },
    {
     "name": "stderr",
     "output_type": "stream",
     "text": [
      "\u001b[34m\u001b[1mwandb\u001b[0m: Agent Starting Run: o0q3vah8 with config:\n",
      "\u001b[34m\u001b[1mwandb\u001b[0m: \tactivation: sigmoid\n",
      "\u001b[34m\u001b[1mwandb\u001b[0m: \tbatch_size: 32\n",
      "\u001b[34m\u001b[1mwandb\u001b[0m: \tbeta1: 0.9\n",
      "\u001b[34m\u001b[1mwandb\u001b[0m: \tbeta2: 0.999\n",
      "\u001b[34m\u001b[1mwandb\u001b[0m: \tbeta_rms: 0.9\n",
      "\u001b[34m\u001b[1mwandb\u001b[0m: \tepochs: 10\n",
      "\u001b[34m\u001b[1mwandb\u001b[0m: \tepsilon: 1e-08\n",
      "\u001b[34m\u001b[1mwandb\u001b[0m: \thidden_size: 128\n",
      "\u001b[34m\u001b[1mwandb\u001b[0m: \tinit_type: random\n",
      "\u001b[34m\u001b[1mwandb\u001b[0m: \tlearning_rate: 0.001\n",
      "\u001b[34m\u001b[1mwandb\u001b[0m: \tmomentum: 0.9\n",
      "\u001b[34m\u001b[1mwandb\u001b[0m: \tnum_hidden_layers: 3\n",
      "\u001b[34m\u001b[1mwandb\u001b[0m: \toptimizer: nadam\n",
      "\u001b[34m\u001b[1mwandb\u001b[0m: \tweight_decay: 0\n"
     ]
    },
    {
     "data": {
      "text/html": [
       "Tracking run with wandb version 0.19.8"
      ],
      "text/plain": [
       "<IPython.core.display.HTML object>"
      ]
     },
     "metadata": {},
     "output_type": "display_data"
    },
    {
     "data": {
      "text/html": [
       "Run data is saved locally in <code>c:\\Users\\acer\\OneDrive\\Documents\\GitHub\\dl_assignment_ed24s401\\wandb\\run-20250316_203420-o0q3vah8</code>"
      ],
      "text/plain": [
       "<IPython.core.display.HTML object>"
      ]
     },
     "metadata": {},
     "output_type": "display_data"
    },
    {
     "data": {
      "text/html": [
       "Syncing run <strong><a href='https://wandb.ai/ed24s401-indian-institute-of-technology-madras/q4_sweep_project/runs/o0q3vah8' target=\"_blank\">dark-sweep-36</a></strong> to <a href='https://wandb.ai/ed24s401-indian-institute-of-technology-madras/q4_sweep_project' target=\"_blank\">Weights & Biases</a> (<a href='https://wandb.me/developer-guide' target=\"_blank\">docs</a>)<br>Sweep page: <a href='https://wandb.ai/ed24s401-indian-institute-of-technology-madras/q4_sweep_project/sweeps/p60nv46x' target=\"_blank\">https://wandb.ai/ed24s401-indian-institute-of-technology-madras/q4_sweep_project/sweeps/p60nv46x</a>"
      ],
      "text/plain": [
       "<IPython.core.display.HTML object>"
      ]
     },
     "metadata": {},
     "output_type": "display_data"
    },
    {
     "data": {
      "text/html": [
       " View project at <a href='https://wandb.ai/ed24s401-indian-institute-of-technology-madras/q4_sweep_project' target=\"_blank\">https://wandb.ai/ed24s401-indian-institute-of-technology-madras/q4_sweep_project</a>"
      ],
      "text/plain": [
       "<IPython.core.display.HTML object>"
      ]
     },
     "metadata": {},
     "output_type": "display_data"
    },
    {
     "data": {
      "text/html": [
       " View sweep at <a href='https://wandb.ai/ed24s401-indian-institute-of-technology-madras/q4_sweep_project/sweeps/p60nv46x' target=\"_blank\">https://wandb.ai/ed24s401-indian-institute-of-technology-madras/q4_sweep_project/sweeps/p60nv46x</a>"
      ],
      "text/plain": [
       "<IPython.core.display.HTML object>"
      ]
     },
     "metadata": {},
     "output_type": "display_data"
    },
    {
     "data": {
      "text/html": [
       " View run at <a href='https://wandb.ai/ed24s401-indian-institute-of-technology-madras/q4_sweep_project/runs/o0q3vah8' target=\"_blank\">https://wandb.ai/ed24s401-indian-institute-of-technology-madras/q4_sweep_project/runs/o0q3vah8</a>"
      ],
      "text/plain": [
       "<IPython.core.display.HTML object>"
      ]
     },
     "metadata": {},
     "output_type": "display_data"
    },
    {
     "name": "stdout",
     "output_type": "stream",
     "text": [
      "Epoch 1/10 - loss=0.6319, val_acc=0.8482, val_loss=0.41032161635779246\n",
      "Epoch 2/10 - loss=0.3863, val_acc=0.8690, val_loss=0.3621803123398466\n",
      "Epoch 3/10 - loss=0.3482, val_acc=0.8668, val_loss=0.36053820623089133\n",
      "Epoch 4/10 - loss=0.3248, val_acc=0.8713, val_loss=0.3367102290093226\n",
      "Epoch 5/10 - loss=0.3062, val_acc=0.8798, val_loss=0.33028242139786046\n",
      "Epoch 6/10 - loss=0.2934, val_acc=0.8838, val_loss=0.3103834000682259\n",
      "Epoch 7/10 - loss=0.2790, val_acc=0.8847, val_loss=0.3073644912756381\n",
      "Epoch 8/10 - loss=0.2690, val_acc=0.8900, val_loss=0.29842738446706546\n",
      "Epoch 9/10 - loss=0.2588, val_acc=0.8828, val_loss=0.3122128336770696\n",
      "Epoch 10/10 - loss=0.2490, val_acc=0.8815, val_loss=0.3131750293829135\n",
      "test accuracy  0.8809\n"
     ]
    },
    {
     "data": {
      "text/html": [],
      "text/plain": [
       "<IPython.core.display.HTML object>"
      ]
     },
     "metadata": {},
     "output_type": "display_data"
    },
    {
     "data": {
      "text/html": [
       "<br>    <style><br>        .wandb-row {<br>            display: flex;<br>            flex-direction: row;<br>            flex-wrap: wrap;<br>            justify-content: flex-start;<br>            width: 100%;<br>        }<br>        .wandb-col {<br>            display: flex;<br>            flex-direction: column;<br>            flex-basis: 100%;<br>            flex: 1;<br>            padding: 10px;<br>        }<br>    </style><br><div class=\"wandb-row\"><div class=\"wandb-col\"><h3>Run history:</h3><br/><table class=\"wandb\"><tr><td>epoch</td><td>▁▂▃▃▄▅▆▆▇█</td></tr><tr><td>test_accuracy</td><td>▁</td></tr><tr><td>training_loss</td><td>█▄▃▂▂▂▂▁▁▁</td></tr><tr><td>validation loss</td><td>█▅▅▃▃▂▂▁▂▂</td></tr><tr><td>validation_accuracy</td><td>▁▄▄▅▆▇▇█▇▇</td></tr></table><br/></div><div class=\"wandb-col\"><h3>Run summary:</h3><br/><table class=\"wandb\"><tr><td>epoch</td><td>10</td></tr><tr><td>test_accuracy</td><td>0.8809</td></tr><tr><td>training_loss</td><td>0.24904</td></tr><tr><td>validation loss</td><td>0.31318</td></tr><tr><td>validation_accuracy</td><td>0.8815</td></tr></table><br/></div></div>"
      ],
      "text/plain": [
       "<IPython.core.display.HTML object>"
      ]
     },
     "metadata": {},
     "output_type": "display_data"
    },
    {
     "data": {
      "text/html": [
       " View run <strong style=\"color:#cdcd00\">hl_3_bs_32_ac_sigmoid_opt_nadam</strong> at: <a href='https://wandb.ai/ed24s401-indian-institute-of-technology-madras/q4_sweep_project/runs/o0q3vah8' target=\"_blank\">https://wandb.ai/ed24s401-indian-institute-of-technology-madras/q4_sweep_project/runs/o0q3vah8</a><br> View project at: <a href='https://wandb.ai/ed24s401-indian-institute-of-technology-madras/q4_sweep_project' target=\"_blank\">https://wandb.ai/ed24s401-indian-institute-of-technology-madras/q4_sweep_project</a><br>Synced 5 W&B file(s), 0 media file(s), 0 artifact file(s) and 0 other file(s)"
      ],
      "text/plain": [
       "<IPython.core.display.HTML object>"
      ]
     },
     "metadata": {},
     "output_type": "display_data"
    },
    {
     "data": {
      "text/html": [
       "Find logs at: <code>.\\wandb\\run-20250316_203420-o0q3vah8\\logs</code>"
      ],
      "text/plain": [
       "<IPython.core.display.HTML object>"
      ]
     },
     "metadata": {},
     "output_type": "display_data"
    },
    {
     "name": "stderr",
     "output_type": "stream",
     "text": [
      "\u001b[34m\u001b[1mwandb\u001b[0m: Agent Starting Run: uichwsbf with config:\n",
      "\u001b[34m\u001b[1mwandb\u001b[0m: \tactivation: relu\n",
      "\u001b[34m\u001b[1mwandb\u001b[0m: \tbatch_size: 32\n",
      "\u001b[34m\u001b[1mwandb\u001b[0m: \tbeta1: 0.9\n",
      "\u001b[34m\u001b[1mwandb\u001b[0m: \tbeta2: 0.999\n",
      "\u001b[34m\u001b[1mwandb\u001b[0m: \tbeta_rms: 0.9\n",
      "\u001b[34m\u001b[1mwandb\u001b[0m: \tepochs: 10\n",
      "\u001b[34m\u001b[1mwandb\u001b[0m: \tepsilon: 1e-08\n",
      "\u001b[34m\u001b[1mwandb\u001b[0m: \thidden_size: 128\n",
      "\u001b[34m\u001b[1mwandb\u001b[0m: \tinit_type: random\n",
      "\u001b[34m\u001b[1mwandb\u001b[0m: \tlearning_rate: 0.0001\n",
      "\u001b[34m\u001b[1mwandb\u001b[0m: \tmomentum: 0.8\n",
      "\u001b[34m\u001b[1mwandb\u001b[0m: \tnum_hidden_layers: 5\n",
      "\u001b[34m\u001b[1mwandb\u001b[0m: \toptimizer: nesterov\n",
      "\u001b[34m\u001b[1mwandb\u001b[0m: \tweight_decay: 0.0005\n"
     ]
    },
    {
     "data": {
      "text/html": [
       "Tracking run with wandb version 0.19.8"
      ],
      "text/plain": [
       "<IPython.core.display.HTML object>"
      ]
     },
     "metadata": {},
     "output_type": "display_data"
    },
    {
     "data": {
      "text/html": [
       "Run data is saved locally in <code>c:\\Users\\acer\\OneDrive\\Documents\\GitHub\\dl_assignment_ed24s401\\wandb\\run-20250316_203606-uichwsbf</code>"
      ],
      "text/plain": [
       "<IPython.core.display.HTML object>"
      ]
     },
     "metadata": {},
     "output_type": "display_data"
    },
    {
     "data": {
      "text/html": [
       "Syncing run <strong><a href='https://wandb.ai/ed24s401-indian-institute-of-technology-madras/q4_sweep_project/runs/uichwsbf' target=\"_blank\">zany-sweep-37</a></strong> to <a href='https://wandb.ai/ed24s401-indian-institute-of-technology-madras/q4_sweep_project' target=\"_blank\">Weights & Biases</a> (<a href='https://wandb.me/developer-guide' target=\"_blank\">docs</a>)<br>Sweep page: <a href='https://wandb.ai/ed24s401-indian-institute-of-technology-madras/q4_sweep_project/sweeps/p60nv46x' target=\"_blank\">https://wandb.ai/ed24s401-indian-institute-of-technology-madras/q4_sweep_project/sweeps/p60nv46x</a>"
      ],
      "text/plain": [
       "<IPython.core.display.HTML object>"
      ]
     },
     "metadata": {},
     "output_type": "display_data"
    },
    {
     "data": {
      "text/html": [
       " View project at <a href='https://wandb.ai/ed24s401-indian-institute-of-technology-madras/q4_sweep_project' target=\"_blank\">https://wandb.ai/ed24s401-indian-institute-of-technology-madras/q4_sweep_project</a>"
      ],
      "text/plain": [
       "<IPython.core.display.HTML object>"
      ]
     },
     "metadata": {},
     "output_type": "display_data"
    },
    {
     "data": {
      "text/html": [
       " View sweep at <a href='https://wandb.ai/ed24s401-indian-institute-of-technology-madras/q4_sweep_project/sweeps/p60nv46x' target=\"_blank\">https://wandb.ai/ed24s401-indian-institute-of-technology-madras/q4_sweep_project/sweeps/p60nv46x</a>"
      ],
      "text/plain": [
       "<IPython.core.display.HTML object>"
      ]
     },
     "metadata": {},
     "output_type": "display_data"
    },
    {
     "data": {
      "text/html": [
       " View run at <a href='https://wandb.ai/ed24s401-indian-institute-of-technology-madras/q4_sweep_project/runs/uichwsbf' target=\"_blank\">https://wandb.ai/ed24s401-indian-institute-of-technology-madras/q4_sweep_project/runs/uichwsbf</a>"
      ],
      "text/plain": [
       "<IPython.core.display.HTML object>"
      ]
     },
     "metadata": {},
     "output_type": "display_data"
    },
    {
     "name": "stdout",
     "output_type": "stream",
     "text": [
      "Epoch 1/10 - loss=1.8016, val_acc=0.6790, val_loss=0.9804535881290728\n",
      "Epoch 2/10 - loss=1.1582, val_acc=0.7352, val_loss=0.7594119776884702\n",
      "Epoch 3/10 - loss=1.0158, val_acc=0.7695, val_loss=0.6610090867275565\n",
      "Epoch 4/10 - loss=0.9390, val_acc=0.7933, val_loss=0.6011567021805156\n",
      "Epoch 5/10 - loss=0.8901, val_acc=0.8023, val_loss=0.5623255178529079\n",
      "Epoch 6/10 - loss=0.8583, val_acc=0.8102, val_loss=0.5341619190918158\n",
      "Epoch 7/10 - loss=0.8363, val_acc=0.8175, val_loss=0.5149791021784477\n",
      "Epoch 8/10 - loss=0.8186, val_acc=0.8195, val_loss=0.510186877484347\n",
      "Epoch 9/10 - loss=0.8054, val_acc=0.8258, val_loss=0.4900451325941546\n",
      "Epoch 10/10 - loss=0.7940, val_acc=0.8318, val_loss=0.48176495180232237\n",
      "test accuracy  0.8226\n"
     ]
    },
    {
     "data": {
      "text/html": [],
      "text/plain": [
       "<IPython.core.display.HTML object>"
      ]
     },
     "metadata": {},
     "output_type": "display_data"
    },
    {
     "data": {
      "text/html": [
       "<br>    <style><br>        .wandb-row {<br>            display: flex;<br>            flex-direction: row;<br>            flex-wrap: wrap;<br>            justify-content: flex-start;<br>            width: 100%;<br>        }<br>        .wandb-col {<br>            display: flex;<br>            flex-direction: column;<br>            flex-basis: 100%;<br>            flex: 1;<br>            padding: 10px;<br>        }<br>    </style><br><div class=\"wandb-row\"><div class=\"wandb-col\"><h3>Run history:</h3><br/><table class=\"wandb\"><tr><td>epoch</td><td>▁▂▃▃▄▅▆▆▇█</td></tr><tr><td>test_accuracy</td><td>▁</td></tr><tr><td>training_loss</td><td>█▄▃▂▂▁▁▁▁▁</td></tr><tr><td>validation loss</td><td>█▅▄▃▂▂▁▁▁▁</td></tr><tr><td>validation_accuracy</td><td>▁▄▅▆▇▇▇▇██</td></tr></table><br/></div><div class=\"wandb-col\"><h3>Run summary:</h3><br/><table class=\"wandb\"><tr><td>epoch</td><td>10</td></tr><tr><td>test_accuracy</td><td>0.8226</td></tr><tr><td>training_loss</td><td>0.79401</td></tr><tr><td>validation loss</td><td>0.48176</td></tr><tr><td>validation_accuracy</td><td>0.83183</td></tr></table><br/></div></div>"
      ],
      "text/plain": [
       "<IPython.core.display.HTML object>"
      ]
     },
     "metadata": {},
     "output_type": "display_data"
    },
    {
     "data": {
      "text/html": [
       " View run <strong style=\"color:#cdcd00\">hl_5_bs_32_ac_relu_opt_nesterov</strong> at: <a href='https://wandb.ai/ed24s401-indian-institute-of-technology-madras/q4_sweep_project/runs/uichwsbf' target=\"_blank\">https://wandb.ai/ed24s401-indian-institute-of-technology-madras/q4_sweep_project/runs/uichwsbf</a><br> View project at: <a href='https://wandb.ai/ed24s401-indian-institute-of-technology-madras/q4_sweep_project' target=\"_blank\">https://wandb.ai/ed24s401-indian-institute-of-technology-madras/q4_sweep_project</a><br>Synced 5 W&B file(s), 0 media file(s), 0 artifact file(s) and 0 other file(s)"
      ],
      "text/plain": [
       "<IPython.core.display.HTML object>"
      ]
     },
     "metadata": {},
     "output_type": "display_data"
    },
    {
     "data": {
      "text/html": [
       "Find logs at: <code>.\\wandb\\run-20250316_203606-uichwsbf\\logs</code>"
      ],
      "text/plain": [
       "<IPython.core.display.HTML object>"
      ]
     },
     "metadata": {},
     "output_type": "display_data"
    },
    {
     "name": "stderr",
     "output_type": "stream",
     "text": [
      "\u001b[34m\u001b[1mwandb\u001b[0m: Agent Starting Run: 9d1nyypy with config:\n",
      "\u001b[34m\u001b[1mwandb\u001b[0m: \tactivation: tanh\n",
      "\u001b[34m\u001b[1mwandb\u001b[0m: \tbatch_size: 32\n",
      "\u001b[34m\u001b[1mwandb\u001b[0m: \tbeta1: 0.9\n",
      "\u001b[34m\u001b[1mwandb\u001b[0m: \tbeta2: 0.999\n",
      "\u001b[34m\u001b[1mwandb\u001b[0m: \tbeta_rms: 0.9\n",
      "\u001b[34m\u001b[1mwandb\u001b[0m: \tepochs: 10\n",
      "\u001b[34m\u001b[1mwandb\u001b[0m: \tepsilon: 1e-08\n",
      "\u001b[34m\u001b[1mwandb\u001b[0m: \thidden_size: 64\n",
      "\u001b[34m\u001b[1mwandb\u001b[0m: \tinit_type: xavier\n",
      "\u001b[34m\u001b[1mwandb\u001b[0m: \tlearning_rate: 0.001\n",
      "\u001b[34m\u001b[1mwandb\u001b[0m: \tmomentum: 0.9\n",
      "\u001b[34m\u001b[1mwandb\u001b[0m: \tnum_hidden_layers: 5\n",
      "\u001b[34m\u001b[1mwandb\u001b[0m: \toptimizer: adam\n",
      "\u001b[34m\u001b[1mwandb\u001b[0m: \tweight_decay: 0\n"
     ]
    },
    {
     "data": {
      "text/html": [
       "Tracking run with wandb version 0.19.8"
      ],
      "text/plain": [
       "<IPython.core.display.HTML object>"
      ]
     },
     "metadata": {},
     "output_type": "display_data"
    },
    {
     "data": {
      "text/html": [
       "Run data is saved locally in <code>c:\\Users\\acer\\OneDrive\\Documents\\GitHub\\dl_assignment_ed24s401\\wandb\\run-20250316_203730-9d1nyypy</code>"
      ],
      "text/plain": [
       "<IPython.core.display.HTML object>"
      ]
     },
     "metadata": {},
     "output_type": "display_data"
    },
    {
     "data": {
      "text/html": [
       "Syncing run <strong><a href='https://wandb.ai/ed24s401-indian-institute-of-technology-madras/q4_sweep_project/runs/9d1nyypy' target=\"_blank\">vivid-sweep-38</a></strong> to <a href='https://wandb.ai/ed24s401-indian-institute-of-technology-madras/q4_sweep_project' target=\"_blank\">Weights & Biases</a> (<a href='https://wandb.me/developer-guide' target=\"_blank\">docs</a>)<br>Sweep page: <a href='https://wandb.ai/ed24s401-indian-institute-of-technology-madras/q4_sweep_project/sweeps/p60nv46x' target=\"_blank\">https://wandb.ai/ed24s401-indian-institute-of-technology-madras/q4_sweep_project/sweeps/p60nv46x</a>"
      ],
      "text/plain": [
       "<IPython.core.display.HTML object>"
      ]
     },
     "metadata": {},
     "output_type": "display_data"
    },
    {
     "data": {
      "text/html": [
       " View project at <a href='https://wandb.ai/ed24s401-indian-institute-of-technology-madras/q4_sweep_project' target=\"_blank\">https://wandb.ai/ed24s401-indian-institute-of-technology-madras/q4_sweep_project</a>"
      ],
      "text/plain": [
       "<IPython.core.display.HTML object>"
      ]
     },
     "metadata": {},
     "output_type": "display_data"
    },
    {
     "data": {
      "text/html": [
       " View sweep at <a href='https://wandb.ai/ed24s401-indian-institute-of-technology-madras/q4_sweep_project/sweeps/p60nv46x' target=\"_blank\">https://wandb.ai/ed24s401-indian-institute-of-technology-madras/q4_sweep_project/sweeps/p60nv46x</a>"
      ],
      "text/plain": [
       "<IPython.core.display.HTML object>"
      ]
     },
     "metadata": {},
     "output_type": "display_data"
    },
    {
     "data": {
      "text/html": [
       " View run at <a href='https://wandb.ai/ed24s401-indian-institute-of-technology-madras/q4_sweep_project/runs/9d1nyypy' target=\"_blank\">https://wandb.ai/ed24s401-indian-institute-of-technology-madras/q4_sweep_project/runs/9d1nyypy</a>"
      ],
      "text/plain": [
       "<IPython.core.display.HTML object>"
      ]
     },
     "metadata": {},
     "output_type": "display_data"
    },
    {
     "name": "stdout",
     "output_type": "stream",
     "text": [
      "Epoch 1/10 - loss=0.5110, val_acc=0.8445, val_loss=0.41731685878230323\n",
      "Epoch 2/10 - loss=0.3877, val_acc=0.8582, val_loss=0.4026808516989839\n",
      "Epoch 3/10 - loss=0.3543, val_acc=0.8688, val_loss=0.3576988630079578\n",
      "Epoch 4/10 - loss=0.3370, val_acc=0.8590, val_loss=0.3982048896122742\n",
      "Epoch 5/10 - loss=0.3188, val_acc=0.8745, val_loss=0.3381999577785887\n",
      "Epoch 6/10 - loss=0.3059, val_acc=0.8737, val_loss=0.3341030155522551\n",
      "Epoch 7/10 - loss=0.2964, val_acc=0.8718, val_loss=0.34447520389734365\n",
      "Epoch 8/10 - loss=0.2848, val_acc=0.8815, val_loss=0.32981068640999844\n",
      "Epoch 9/10 - loss=0.2774, val_acc=0.8793, val_loss=0.33755768932031066\n",
      "Epoch 10/10 - loss=0.2727, val_acc=0.8813, val_loss=0.34274082961877667\n",
      "test accuracy  0.8747\n"
     ]
    },
    {
     "data": {
      "text/html": [],
      "text/plain": [
       "<IPython.core.display.HTML object>"
      ]
     },
     "metadata": {},
     "output_type": "display_data"
    },
    {
     "data": {
      "text/html": [
       "<br>    <style><br>        .wandb-row {<br>            display: flex;<br>            flex-direction: row;<br>            flex-wrap: wrap;<br>            justify-content: flex-start;<br>            width: 100%;<br>        }<br>        .wandb-col {<br>            display: flex;<br>            flex-direction: column;<br>            flex-basis: 100%;<br>            flex: 1;<br>            padding: 10px;<br>        }<br>    </style><br><div class=\"wandb-row\"><div class=\"wandb-col\"><h3>Run history:</h3><br/><table class=\"wandb\"><tr><td>epoch</td><td>▁▂▃▃▄▅▆▆▇█</td></tr><tr><td>test_accuracy</td><td>▁</td></tr><tr><td>training_loss</td><td>█▄▃▃▂▂▂▁▁▁</td></tr><tr><td>validation loss</td><td>█▇▃▆▂▁▂▁▂▂</td></tr><tr><td>validation_accuracy</td><td>▁▄▆▄▇▇▆███</td></tr></table><br/></div><div class=\"wandb-col\"><h3>Run summary:</h3><br/><table class=\"wandb\"><tr><td>epoch</td><td>10</td></tr><tr><td>test_accuracy</td><td>0.8747</td></tr><tr><td>training_loss</td><td>0.27268</td></tr><tr><td>validation loss</td><td>0.34274</td></tr><tr><td>validation_accuracy</td><td>0.88133</td></tr></table><br/></div></div>"
      ],
      "text/plain": [
       "<IPython.core.display.HTML object>"
      ]
     },
     "metadata": {},
     "output_type": "display_data"
    },
    {
     "data": {
      "text/html": [
       " View run <strong style=\"color:#cdcd00\">hl_5_bs_32_ac_tanh_opt_adam</strong> at: <a href='https://wandb.ai/ed24s401-indian-institute-of-technology-madras/q4_sweep_project/runs/9d1nyypy' target=\"_blank\">https://wandb.ai/ed24s401-indian-institute-of-technology-madras/q4_sweep_project/runs/9d1nyypy</a><br> View project at: <a href='https://wandb.ai/ed24s401-indian-institute-of-technology-madras/q4_sweep_project' target=\"_blank\">https://wandb.ai/ed24s401-indian-institute-of-technology-madras/q4_sweep_project</a><br>Synced 5 W&B file(s), 0 media file(s), 0 artifact file(s) and 0 other file(s)"
      ],
      "text/plain": [
       "<IPython.core.display.HTML object>"
      ]
     },
     "metadata": {},
     "output_type": "display_data"
    },
    {
     "data": {
      "text/html": [
       "Find logs at: <code>.\\wandb\\run-20250316_203730-9d1nyypy\\logs</code>"
      ],
      "text/plain": [
       "<IPython.core.display.HTML object>"
      ]
     },
     "metadata": {},
     "output_type": "display_data"
    },
    {
     "name": "stderr",
     "output_type": "stream",
     "text": [
      "\u001b[34m\u001b[1mwandb\u001b[0m: Agent Starting Run: 6yoa9a6l with config:\n",
      "\u001b[34m\u001b[1mwandb\u001b[0m: \tactivation: tanh\n",
      "\u001b[34m\u001b[1mwandb\u001b[0m: \tbatch_size: 32\n",
      "\u001b[34m\u001b[1mwandb\u001b[0m: \tbeta1: 0.9\n",
      "\u001b[34m\u001b[1mwandb\u001b[0m: \tbeta2: 0.999\n",
      "\u001b[34m\u001b[1mwandb\u001b[0m: \tbeta_rms: 0.9\n",
      "\u001b[34m\u001b[1mwandb\u001b[0m: \tepochs: 10\n",
      "\u001b[34m\u001b[1mwandb\u001b[0m: \tepsilon: 1e-08\n",
      "\u001b[34m\u001b[1mwandb\u001b[0m: \thidden_size: 128\n",
      "\u001b[34m\u001b[1mwandb\u001b[0m: \tinit_type: xavier\n",
      "\u001b[34m\u001b[1mwandb\u001b[0m: \tlearning_rate: 0.0001\n",
      "\u001b[34m\u001b[1mwandb\u001b[0m: \tmomentum: 0.8\n",
      "\u001b[34m\u001b[1mwandb\u001b[0m: \tnum_hidden_layers: 5\n",
      "\u001b[34m\u001b[1mwandb\u001b[0m: \toptimizer: rmsprop\n",
      "\u001b[34m\u001b[1mwandb\u001b[0m: \tweight_decay: 0.0005\n"
     ]
    },
    {
     "data": {
      "text/html": [
       "Tracking run with wandb version 0.19.8"
      ],
      "text/plain": [
       "<IPython.core.display.HTML object>"
      ]
     },
     "metadata": {},
     "output_type": "display_data"
    },
    {
     "data": {
      "text/html": [
       "Run data is saved locally in <code>c:\\Users\\acer\\OneDrive\\Documents\\GitHub\\dl_assignment_ed24s401\\wandb\\run-20250316_203823-6yoa9a6l</code>"
      ],
      "text/plain": [
       "<IPython.core.display.HTML object>"
      ]
     },
     "metadata": {},
     "output_type": "display_data"
    },
    {
     "data": {
      "text/html": [
       "Syncing run <strong><a href='https://wandb.ai/ed24s401-indian-institute-of-technology-madras/q4_sweep_project/runs/6yoa9a6l' target=\"_blank\">flowing-sweep-39</a></strong> to <a href='https://wandb.ai/ed24s401-indian-institute-of-technology-madras/q4_sweep_project' target=\"_blank\">Weights & Biases</a> (<a href='https://wandb.me/developer-guide' target=\"_blank\">docs</a>)<br>Sweep page: <a href='https://wandb.ai/ed24s401-indian-institute-of-technology-madras/q4_sweep_project/sweeps/p60nv46x' target=\"_blank\">https://wandb.ai/ed24s401-indian-institute-of-technology-madras/q4_sweep_project/sweeps/p60nv46x</a>"
      ],
      "text/plain": [
       "<IPython.core.display.HTML object>"
      ]
     },
     "metadata": {},
     "output_type": "display_data"
    },
    {
     "data": {
      "text/html": [
       " View project at <a href='https://wandb.ai/ed24s401-indian-institute-of-technology-madras/q4_sweep_project' target=\"_blank\">https://wandb.ai/ed24s401-indian-institute-of-technology-madras/q4_sweep_project</a>"
      ],
      "text/plain": [
       "<IPython.core.display.HTML object>"
      ]
     },
     "metadata": {},
     "output_type": "display_data"
    },
    {
     "data": {
      "text/html": [
       " View sweep at <a href='https://wandb.ai/ed24s401-indian-institute-of-technology-madras/q4_sweep_project/sweeps/p60nv46x' target=\"_blank\">https://wandb.ai/ed24s401-indian-institute-of-technology-madras/q4_sweep_project/sweeps/p60nv46x</a>"
      ],
      "text/plain": [
       "<IPython.core.display.HTML object>"
      ]
     },
     "metadata": {},
     "output_type": "display_data"
    },
    {
     "data": {
      "text/html": [
       " View run at <a href='https://wandb.ai/ed24s401-indian-institute-of-technology-madras/q4_sweep_project/runs/6yoa9a6l' target=\"_blank\">https://wandb.ai/ed24s401-indian-institute-of-technology-madras/q4_sweep_project/runs/6yoa9a6l</a>"
      ],
      "text/plain": [
       "<IPython.core.display.HTML object>"
      ]
     },
     "metadata": {},
     "output_type": "display_data"
    },
    {
     "name": "stdout",
     "output_type": "stream",
     "text": [
      "Epoch 1/10 - loss=0.7681, val_acc=0.8290, val_loss=0.46376235509071556\n",
      "Epoch 2/10 - loss=0.5850, val_acc=0.8490, val_loss=0.4136026527884151\n",
      "Epoch 3/10 - loss=0.5490, val_acc=0.8470, val_loss=0.409510880212974\n",
      "Epoch 4/10 - loss=0.5252, val_acc=0.8608, val_loss=0.3777728595698547\n",
      "Epoch 5/10 - loss=0.5077, val_acc=0.8640, val_loss=0.36355409927132026\n",
      "Epoch 6/10 - loss=0.4927, val_acc=0.8675, val_loss=0.357906690732336\n",
      "Epoch 7/10 - loss=0.4810, val_acc=0.8693, val_loss=0.35458540147957424\n",
      "Epoch 8/10 - loss=0.4691, val_acc=0.8705, val_loss=0.3494467253523409\n",
      "Epoch 9/10 - loss=0.4596, val_acc=0.8643, val_loss=0.35960365520510756\n",
      "Epoch 10/10 - loss=0.4504, val_acc=0.8675, val_loss=0.35112915327788824\n",
      "test accuracy  0.8652\n"
     ]
    },
    {
     "data": {
      "text/html": [],
      "text/plain": [
       "<IPython.core.display.HTML object>"
      ]
     },
     "metadata": {},
     "output_type": "display_data"
    },
    {
     "data": {
      "text/html": [
       "<br>    <style><br>        .wandb-row {<br>            display: flex;<br>            flex-direction: row;<br>            flex-wrap: wrap;<br>            justify-content: flex-start;<br>            width: 100%;<br>        }<br>        .wandb-col {<br>            display: flex;<br>            flex-direction: column;<br>            flex-basis: 100%;<br>            flex: 1;<br>            padding: 10px;<br>        }<br>    </style><br><div class=\"wandb-row\"><div class=\"wandb-col\"><h3>Run history:</h3><br/><table class=\"wandb\"><tr><td>epoch</td><td>▁▂▃▃▄▅▆▆▇█</td></tr><tr><td>test_accuracy</td><td>▁</td></tr><tr><td>training_loss</td><td>█▄▃▃▂▂▂▁▁▁</td></tr><tr><td>validation loss</td><td>█▅▅▃▂▂▁▁▂▁</td></tr><tr><td>validation_accuracy</td><td>▁▄▄▆▇▇██▇▇</td></tr></table><br/></div><div class=\"wandb-col\"><h3>Run summary:</h3><br/><table class=\"wandb\"><tr><td>epoch</td><td>10</td></tr><tr><td>test_accuracy</td><td>0.8652</td></tr><tr><td>training_loss</td><td>0.45037</td></tr><tr><td>validation loss</td><td>0.35113</td></tr><tr><td>validation_accuracy</td><td>0.8675</td></tr></table><br/></div></div>"
      ],
      "text/plain": [
       "<IPython.core.display.HTML object>"
      ]
     },
     "metadata": {},
     "output_type": "display_data"
    },
    {
     "data": {
      "text/html": [
       " View run <strong style=\"color:#cdcd00\">hl_5_bs_32_ac_tanh_opt_rmsprop</strong> at: <a href='https://wandb.ai/ed24s401-indian-institute-of-technology-madras/q4_sweep_project/runs/6yoa9a6l' target=\"_blank\">https://wandb.ai/ed24s401-indian-institute-of-technology-madras/q4_sweep_project/runs/6yoa9a6l</a><br> View project at: <a href='https://wandb.ai/ed24s401-indian-institute-of-technology-madras/q4_sweep_project' target=\"_blank\">https://wandb.ai/ed24s401-indian-institute-of-technology-madras/q4_sweep_project</a><br>Synced 5 W&B file(s), 0 media file(s), 0 artifact file(s) and 0 other file(s)"
      ],
      "text/plain": [
       "<IPython.core.display.HTML object>"
      ]
     },
     "metadata": {},
     "output_type": "display_data"
    },
    {
     "data": {
      "text/html": [
       "Find logs at: <code>.\\wandb\\run-20250316_203823-6yoa9a6l\\logs</code>"
      ],
      "text/plain": [
       "<IPython.core.display.HTML object>"
      ]
     },
     "metadata": {},
     "output_type": "display_data"
    },
    {
     "name": "stderr",
     "output_type": "stream",
     "text": [
      "\u001b[34m\u001b[1mwandb\u001b[0m: Agent Starting Run: wy4t3qli with config:\n",
      "\u001b[34m\u001b[1mwandb\u001b[0m: \tactivation: tanh\n",
      "\u001b[34m\u001b[1mwandb\u001b[0m: \tbatch_size: 32\n",
      "\u001b[34m\u001b[1mwandb\u001b[0m: \tbeta1: 0.9\n",
      "\u001b[34m\u001b[1mwandb\u001b[0m: \tbeta2: 0.999\n",
      "\u001b[34m\u001b[1mwandb\u001b[0m: \tbeta_rms: 0.9\n",
      "\u001b[34m\u001b[1mwandb\u001b[0m: \tepochs: 10\n",
      "\u001b[34m\u001b[1mwandb\u001b[0m: \tepsilon: 1e-08\n",
      "\u001b[34m\u001b[1mwandb\u001b[0m: \thidden_size: 64\n",
      "\u001b[34m\u001b[1mwandb\u001b[0m: \tinit_type: random\n",
      "\u001b[34m\u001b[1mwandb\u001b[0m: \tlearning_rate: 0.001\n",
      "\u001b[34m\u001b[1mwandb\u001b[0m: \tmomentum: 0.8\n",
      "\u001b[34m\u001b[1mwandb\u001b[0m: \tnum_hidden_layers: 5\n",
      "\u001b[34m\u001b[1mwandb\u001b[0m: \toptimizer: momentum\n",
      "\u001b[34m\u001b[1mwandb\u001b[0m: \tweight_decay: 0.0005\n"
     ]
    },
    {
     "data": {
      "text/html": [
       "Tracking run with wandb version 0.19.8"
      ],
      "text/plain": [
       "<IPython.core.display.HTML object>"
      ]
     },
     "metadata": {},
     "output_type": "display_data"
    },
    {
     "data": {
      "text/html": [
       "Run data is saved locally in <code>c:\\Users\\acer\\OneDrive\\Documents\\GitHub\\dl_assignment_ed24s401\\wandb\\run-20250316_203953-wy4t3qli</code>"
      ],
      "text/plain": [
       "<IPython.core.display.HTML object>"
      ]
     },
     "metadata": {},
     "output_type": "display_data"
    },
    {
     "data": {
      "text/html": [
       "Syncing run <strong><a href='https://wandb.ai/ed24s401-indian-institute-of-technology-madras/q4_sweep_project/runs/wy4t3qli' target=\"_blank\">worldly-sweep-40</a></strong> to <a href='https://wandb.ai/ed24s401-indian-institute-of-technology-madras/q4_sweep_project' target=\"_blank\">Weights & Biases</a> (<a href='https://wandb.me/developer-guide' target=\"_blank\">docs</a>)<br>Sweep page: <a href='https://wandb.ai/ed24s401-indian-institute-of-technology-madras/q4_sweep_project/sweeps/p60nv46x' target=\"_blank\">https://wandb.ai/ed24s401-indian-institute-of-technology-madras/q4_sweep_project/sweeps/p60nv46x</a>"
      ],
      "text/plain": [
       "<IPython.core.display.HTML object>"
      ]
     },
     "metadata": {},
     "output_type": "display_data"
    },
    {
     "data": {
      "text/html": [
       " View project at <a href='https://wandb.ai/ed24s401-indian-institute-of-technology-madras/q4_sweep_project' target=\"_blank\">https://wandb.ai/ed24s401-indian-institute-of-technology-madras/q4_sweep_project</a>"
      ],
      "text/plain": [
       "<IPython.core.display.HTML object>"
      ]
     },
     "metadata": {},
     "output_type": "display_data"
    },
    {
     "data": {
      "text/html": [
       " View sweep at <a href='https://wandb.ai/ed24s401-indian-institute-of-technology-madras/q4_sweep_project/sweeps/p60nv46x' target=\"_blank\">https://wandb.ai/ed24s401-indian-institute-of-technology-madras/q4_sweep_project/sweeps/p60nv46x</a>"
      ],
      "text/plain": [
       "<IPython.core.display.HTML object>"
      ]
     },
     "metadata": {},
     "output_type": "display_data"
    },
    {
     "data": {
      "text/html": [
       " View run at <a href='https://wandb.ai/ed24s401-indian-institute-of-technology-madras/q4_sweep_project/runs/wy4t3qli' target=\"_blank\">https://wandb.ai/ed24s401-indian-institute-of-technology-madras/q4_sweep_project/runs/wy4t3qli</a>"
      ],
      "text/plain": [
       "<IPython.core.display.HTML object>"
      ]
     },
     "metadata": {},
     "output_type": "display_data"
    },
    {
     "name": "stdout",
     "output_type": "stream",
     "text": [
      "Epoch 1/10 - loss=0.9438, val_acc=0.8075, val_loss=0.5450329698841433\n",
      "Epoch 2/10 - loss=0.6564, val_acc=0.8317, val_loss=0.4744028034904157\n",
      "Epoch 3/10 - loss=0.6028, val_acc=0.8443, val_loss=0.4328132859490495\n",
      "Epoch 4/10 - loss=0.5741, val_acc=0.8453, val_loss=0.4180453489393723\n",
      "Epoch 5/10 - loss=0.5547, val_acc=0.8497, val_loss=0.3998252193053268\n",
      "Epoch 6/10 - loss=0.5398, val_acc=0.8603, val_loss=0.38186287685823267\n",
      "Epoch 7/10 - loss=0.5271, val_acc=0.8600, val_loss=0.38820815938232256\n",
      "Epoch 8/10 - loss=0.5167, val_acc=0.8648, val_loss=0.36643093084671075\n",
      "Epoch 9/10 - loss=0.5070, val_acc=0.8662, val_loss=0.3686045723369192\n",
      "Epoch 10/10 - loss=0.4991, val_acc=0.8640, val_loss=0.3709058891053292\n",
      "test accuracy  0.8578\n"
     ]
    },
    {
     "data": {
      "text/html": [],
      "text/plain": [
       "<IPython.core.display.HTML object>"
      ]
     },
     "metadata": {},
     "output_type": "display_data"
    },
    {
     "data": {
      "text/html": [
       "<br>    <style><br>        .wandb-row {<br>            display: flex;<br>            flex-direction: row;<br>            flex-wrap: wrap;<br>            justify-content: flex-start;<br>            width: 100%;<br>        }<br>        .wandb-col {<br>            display: flex;<br>            flex-direction: column;<br>            flex-basis: 100%;<br>            flex: 1;<br>            padding: 10px;<br>        }<br>    </style><br><div class=\"wandb-row\"><div class=\"wandb-col\"><h3>Run history:</h3><br/><table class=\"wandb\"><tr><td>epoch</td><td>▁▂▃▃▄▅▆▆▇█</td></tr><tr><td>test_accuracy</td><td>▁</td></tr><tr><td>training_loss</td><td>█▃▃▂▂▂▁▁▁▁</td></tr><tr><td>validation loss</td><td>█▅▄▃▂▂▂▁▁▁</td></tr><tr><td>validation_accuracy</td><td>▁▄▅▆▆▇▇███</td></tr></table><br/></div><div class=\"wandb-col\"><h3>Run summary:</h3><br/><table class=\"wandb\"><tr><td>epoch</td><td>10</td></tr><tr><td>test_accuracy</td><td>0.8578</td></tr><tr><td>training_loss</td><td>0.49913</td></tr><tr><td>validation loss</td><td>0.37091</td></tr><tr><td>validation_accuracy</td><td>0.864</td></tr></table><br/></div></div>"
      ],
      "text/plain": [
       "<IPython.core.display.HTML object>"
      ]
     },
     "metadata": {},
     "output_type": "display_data"
    },
    {
     "data": {
      "text/html": [
       " View run <strong style=\"color:#cdcd00\">hl_5_bs_32_ac_tanh_opt_momentum</strong> at: <a href='https://wandb.ai/ed24s401-indian-institute-of-technology-madras/q4_sweep_project/runs/wy4t3qli' target=\"_blank\">https://wandb.ai/ed24s401-indian-institute-of-technology-madras/q4_sweep_project/runs/wy4t3qli</a><br> View project at: <a href='https://wandb.ai/ed24s401-indian-institute-of-technology-madras/q4_sweep_project' target=\"_blank\">https://wandb.ai/ed24s401-indian-institute-of-technology-madras/q4_sweep_project</a><br>Synced 5 W&B file(s), 0 media file(s), 0 artifact file(s) and 0 other file(s)"
      ],
      "text/plain": [
       "<IPython.core.display.HTML object>"
      ]
     },
     "metadata": {},
     "output_type": "display_data"
    },
    {
     "data": {
      "text/html": [
       "Find logs at: <code>.\\wandb\\run-20250316_203953-wy4t3qli\\logs</code>"
      ],
      "text/plain": [
       "<IPython.core.display.HTML object>"
      ]
     },
     "metadata": {},
     "output_type": "display_data"
    },
    {
     "name": "stderr",
     "output_type": "stream",
     "text": [
      "\u001b[34m\u001b[1mwandb\u001b[0m: Agent Starting Run: 33ifnyay with config:\n",
      "\u001b[34m\u001b[1mwandb\u001b[0m: \tactivation: relu\n",
      "\u001b[34m\u001b[1mwandb\u001b[0m: \tbatch_size: 32\n",
      "\u001b[34m\u001b[1mwandb\u001b[0m: \tbeta1: 0.9\n",
      "\u001b[34m\u001b[1mwandb\u001b[0m: \tbeta2: 0.999\n",
      "\u001b[34m\u001b[1mwandb\u001b[0m: \tbeta_rms: 0.9\n",
      "\u001b[34m\u001b[1mwandb\u001b[0m: \tepochs: 10\n",
      "\u001b[34m\u001b[1mwandb\u001b[0m: \tepsilon: 1e-08\n",
      "\u001b[34m\u001b[1mwandb\u001b[0m: \thidden_size: 128\n",
      "\u001b[34m\u001b[1mwandb\u001b[0m: \tinit_type: xavier\n",
      "\u001b[34m\u001b[1mwandb\u001b[0m: \tlearning_rate: 0.0001\n",
      "\u001b[34m\u001b[1mwandb\u001b[0m: \tmomentum: 0.9\n",
      "\u001b[34m\u001b[1mwandb\u001b[0m: \tnum_hidden_layers: 5\n",
      "\u001b[34m\u001b[1mwandb\u001b[0m: \toptimizer: nadam\n",
      "\u001b[34m\u001b[1mwandb\u001b[0m: \tweight_decay: 0.0005\n"
     ]
    },
    {
     "data": {
      "text/html": [
       "Tracking run with wandb version 0.19.8"
      ],
      "text/plain": [
       "<IPython.core.display.HTML object>"
      ]
     },
     "metadata": {},
     "output_type": "display_data"
    },
    {
     "data": {
      "text/html": [
       "Run data is saved locally in <code>c:\\Users\\acer\\OneDrive\\Documents\\GitHub\\dl_assignment_ed24s401\\wandb\\run-20250316_204025-33ifnyay</code>"
      ],
      "text/plain": [
       "<IPython.core.display.HTML object>"
      ]
     },
     "metadata": {},
     "output_type": "display_data"
    },
    {
     "data": {
      "text/html": [
       "Syncing run <strong><a href='https://wandb.ai/ed24s401-indian-institute-of-technology-madras/q4_sweep_project/runs/33ifnyay' target=\"_blank\">spring-sweep-41</a></strong> to <a href='https://wandb.ai/ed24s401-indian-institute-of-technology-madras/q4_sweep_project' target=\"_blank\">Weights & Biases</a> (<a href='https://wandb.me/developer-guide' target=\"_blank\">docs</a>)<br>Sweep page: <a href='https://wandb.ai/ed24s401-indian-institute-of-technology-madras/q4_sweep_project/sweeps/p60nv46x' target=\"_blank\">https://wandb.ai/ed24s401-indian-institute-of-technology-madras/q4_sweep_project/sweeps/p60nv46x</a>"
      ],
      "text/plain": [
       "<IPython.core.display.HTML object>"
      ]
     },
     "metadata": {},
     "output_type": "display_data"
    },
    {
     "data": {
      "text/html": [
       " View project at <a href='https://wandb.ai/ed24s401-indian-institute-of-technology-madras/q4_sweep_project' target=\"_blank\">https://wandb.ai/ed24s401-indian-institute-of-technology-madras/q4_sweep_project</a>"
      ],
      "text/plain": [
       "<IPython.core.display.HTML object>"
      ]
     },
     "metadata": {},
     "output_type": "display_data"
    },
    {
     "data": {
      "text/html": [
       " View sweep at <a href='https://wandb.ai/ed24s401-indian-institute-of-technology-madras/q4_sweep_project/sweeps/p60nv46x' target=\"_blank\">https://wandb.ai/ed24s401-indian-institute-of-technology-madras/q4_sweep_project/sweeps/p60nv46x</a>"
      ],
      "text/plain": [
       "<IPython.core.display.HTML object>"
      ]
     },
     "metadata": {},
     "output_type": "display_data"
    },
    {
     "data": {
      "text/html": [
       " View run at <a href='https://wandb.ai/ed24s401-indian-institute-of-technology-madras/q4_sweep_project/runs/33ifnyay' target=\"_blank\">https://wandb.ai/ed24s401-indian-institute-of-technology-madras/q4_sweep_project/runs/33ifnyay</a>"
      ],
      "text/plain": [
       "<IPython.core.display.HTML object>"
      ]
     },
     "metadata": {},
     "output_type": "display_data"
    },
    {
     "name": "stdout",
     "output_type": "stream",
     "text": [
      "Epoch 1/10 - loss=0.8068, val_acc=0.8245, val_loss=0.48460313163559043\n",
      "Epoch 2/10 - loss=0.5657, val_acc=0.8507, val_loss=0.42441486305631687\n",
      "Epoch 3/10 - loss=0.5233, val_acc=0.8438, val_loss=0.4250030600844261\n",
      "Epoch 4/10 - loss=0.4951, val_acc=0.8500, val_loss=0.39805016474225263\n",
      "Epoch 5/10 - loss=0.4755, val_acc=0.8645, val_loss=0.37296798847230667\n",
      "Epoch 6/10 - loss=0.4583, val_acc=0.8717, val_loss=0.3495343054376769\n",
      "Epoch 7/10 - loss=0.4457, val_acc=0.8670, val_loss=0.35775600224671744\n",
      "Epoch 8/10 - loss=0.4335, val_acc=0.8725, val_loss=0.34672425176180693\n",
      "Epoch 9/10 - loss=0.4234, val_acc=0.8738, val_loss=0.33049233409171475\n",
      "Epoch 10/10 - loss=0.4134, val_acc=0.8697, val_loss=0.3574495601553445\n",
      "test accuracy  0.8669\n"
     ]
    },
    {
     "data": {
      "text/html": [],
      "text/plain": [
       "<IPython.core.display.HTML object>"
      ]
     },
     "metadata": {},
     "output_type": "display_data"
    },
    {
     "data": {
      "text/html": [
       "<br>    <style><br>        .wandb-row {<br>            display: flex;<br>            flex-direction: row;<br>            flex-wrap: wrap;<br>            justify-content: flex-start;<br>            width: 100%;<br>        }<br>        .wandb-col {<br>            display: flex;<br>            flex-direction: column;<br>            flex-basis: 100%;<br>            flex: 1;<br>            padding: 10px;<br>        }<br>    </style><br><div class=\"wandb-row\"><div class=\"wandb-col\"><h3>Run history:</h3><br/><table class=\"wandb\"><tr><td>epoch</td><td>▁▂▃▃▄▅▆▆▇█</td></tr><tr><td>test_accuracy</td><td>▁</td></tr><tr><td>training_loss</td><td>█▄▃▂▂▂▂▁▁▁</td></tr><tr><td>validation loss</td><td>█▅▅▄▃▂▂▂▁▂</td></tr><tr><td>validation_accuracy</td><td>▁▅▄▅▇█▇██▇</td></tr></table><br/></div><div class=\"wandb-col\"><h3>Run summary:</h3><br/><table class=\"wandb\"><tr><td>epoch</td><td>10</td></tr><tr><td>test_accuracy</td><td>0.8669</td></tr><tr><td>training_loss</td><td>0.41336</td></tr><tr><td>validation loss</td><td>0.35745</td></tr><tr><td>validation_accuracy</td><td>0.86967</td></tr></table><br/></div></div>"
      ],
      "text/plain": [
       "<IPython.core.display.HTML object>"
      ]
     },
     "metadata": {},
     "output_type": "display_data"
    },
    {
     "data": {
      "text/html": [
       " View run <strong style=\"color:#cdcd00\">hl_5_bs_32_ac_relu_opt_nadam</strong> at: <a href='https://wandb.ai/ed24s401-indian-institute-of-technology-madras/q4_sweep_project/runs/33ifnyay' target=\"_blank\">https://wandb.ai/ed24s401-indian-institute-of-technology-madras/q4_sweep_project/runs/33ifnyay</a><br> View project at: <a href='https://wandb.ai/ed24s401-indian-institute-of-technology-madras/q4_sweep_project' target=\"_blank\">https://wandb.ai/ed24s401-indian-institute-of-technology-madras/q4_sweep_project</a><br>Synced 5 W&B file(s), 0 media file(s), 0 artifact file(s) and 0 other file(s)"
      ],
      "text/plain": [
       "<IPython.core.display.HTML object>"
      ]
     },
     "metadata": {},
     "output_type": "display_data"
    },
    {
     "data": {
      "text/html": [
       "Find logs at: <code>.\\wandb\\run-20250316_204025-33ifnyay\\logs</code>"
      ],
      "text/plain": [
       "<IPython.core.display.HTML object>"
      ]
     },
     "metadata": {},
     "output_type": "display_data"
    },
    {
     "name": "stderr",
     "output_type": "stream",
     "text": [
      "\u001b[34m\u001b[1mwandb\u001b[0m: Agent Starting Run: gwt7n34g with config:\n",
      "\u001b[34m\u001b[1mwandb\u001b[0m: \tactivation: relu\n",
      "\u001b[34m\u001b[1mwandb\u001b[0m: \tbatch_size: 32\n",
      "\u001b[34m\u001b[1mwandb\u001b[0m: \tbeta1: 0.9\n",
      "\u001b[34m\u001b[1mwandb\u001b[0m: \tbeta2: 0.999\n",
      "\u001b[34m\u001b[1mwandb\u001b[0m: \tbeta_rms: 0.9\n",
      "\u001b[34m\u001b[1mwandb\u001b[0m: \tepochs: 10\n",
      "\u001b[34m\u001b[1mwandb\u001b[0m: \tepsilon: 1e-08\n",
      "\u001b[34m\u001b[1mwandb\u001b[0m: \thidden_size: 64\n",
      "\u001b[34m\u001b[1mwandb\u001b[0m: \tinit_type: random\n",
      "\u001b[34m\u001b[1mwandb\u001b[0m: \tlearning_rate: 0.001\n",
      "\u001b[34m\u001b[1mwandb\u001b[0m: \tmomentum: 0.9\n",
      "\u001b[34m\u001b[1mwandb\u001b[0m: \tnum_hidden_layers: 5\n",
      "\u001b[34m\u001b[1mwandb\u001b[0m: \toptimizer: nesterov\n",
      "\u001b[34m\u001b[1mwandb\u001b[0m: \tweight_decay: 0.0005\n"
     ]
    },
    {
     "data": {
      "text/html": [
       "Tracking run with wandb version 0.19.8"
      ],
      "text/plain": [
       "<IPython.core.display.HTML object>"
      ]
     },
     "metadata": {},
     "output_type": "display_data"
    },
    {
     "data": {
      "text/html": [
       "Run data is saved locally in <code>c:\\Users\\acer\\OneDrive\\Documents\\GitHub\\dl_assignment_ed24s401\\wandb\\run-20250316_204248-gwt7n34g</code>"
      ],
      "text/plain": [
       "<IPython.core.display.HTML object>"
      ]
     },
     "metadata": {},
     "output_type": "display_data"
    },
    {
     "data": {
      "text/html": [
       "Syncing run <strong><a href='https://wandb.ai/ed24s401-indian-institute-of-technology-madras/q4_sweep_project/runs/gwt7n34g' target=\"_blank\">lively-sweep-42</a></strong> to <a href='https://wandb.ai/ed24s401-indian-institute-of-technology-madras/q4_sweep_project' target=\"_blank\">Weights & Biases</a> (<a href='https://wandb.me/developer-guide' target=\"_blank\">docs</a>)<br>Sweep page: <a href='https://wandb.ai/ed24s401-indian-institute-of-technology-madras/q4_sweep_project/sweeps/p60nv46x' target=\"_blank\">https://wandb.ai/ed24s401-indian-institute-of-technology-madras/q4_sweep_project/sweeps/p60nv46x</a>"
      ],
      "text/plain": [
       "<IPython.core.display.HTML object>"
      ]
     },
     "metadata": {},
     "output_type": "display_data"
    },
    {
     "data": {
      "text/html": [
       " View project at <a href='https://wandb.ai/ed24s401-indian-institute-of-technology-madras/q4_sweep_project' target=\"_blank\">https://wandb.ai/ed24s401-indian-institute-of-technology-madras/q4_sweep_project</a>"
      ],
      "text/plain": [
       "<IPython.core.display.HTML object>"
      ]
     },
     "metadata": {},
     "output_type": "display_data"
    },
    {
     "data": {
      "text/html": [
       " View sweep at <a href='https://wandb.ai/ed24s401-indian-institute-of-technology-madras/q4_sweep_project/sweeps/p60nv46x' target=\"_blank\">https://wandb.ai/ed24s401-indian-institute-of-technology-madras/q4_sweep_project/sweeps/p60nv46x</a>"
      ],
      "text/plain": [
       "<IPython.core.display.HTML object>"
      ]
     },
     "metadata": {},
     "output_type": "display_data"
    },
    {
     "data": {
      "text/html": [
       " View run at <a href='https://wandb.ai/ed24s401-indian-institute-of-technology-madras/q4_sweep_project/runs/gwt7n34g' target=\"_blank\">https://wandb.ai/ed24s401-indian-institute-of-technology-madras/q4_sweep_project/runs/gwt7n34g</a>"
      ],
      "text/plain": [
       "<IPython.core.display.HTML object>"
      ]
     },
     "metadata": {},
     "output_type": "display_data"
    },
    {
     "name": "stdout",
     "output_type": "stream",
     "text": [
      "Epoch 1/10 - loss=0.8769, val_acc=0.8278, val_loss=0.49833848913031953\n",
      "Epoch 2/10 - loss=0.6218, val_acc=0.8465, val_loss=0.43311498432685586\n",
      "Epoch 3/10 - loss=0.5752, val_acc=0.8533, val_loss=0.40044057168346026\n",
      "Epoch 4/10 - loss=0.5463, val_acc=0.8623, val_loss=0.3835845182125025\n",
      "Epoch 5/10 - loss=0.5253, val_acc=0.8540, val_loss=0.3945468502034772\n",
      "Epoch 6/10 - loss=0.5109, val_acc=0.8655, val_loss=0.36056368987632437\n",
      "Epoch 7/10 - loss=0.4971, val_acc=0.8623, val_loss=0.3672698172302763\n",
      "Epoch 8/10 - loss=0.4844, val_acc=0.8680, val_loss=0.353410330872395\n",
      "Epoch 9/10 - loss=0.4744, val_acc=0.8667, val_loss=0.35411812229755574\n",
      "Epoch 10/10 - loss=0.4652, val_acc=0.8643, val_loss=0.35689214784333245\n",
      "test accuracy  0.8639\n"
     ]
    },
    {
     "data": {
      "text/html": [],
      "text/plain": [
       "<IPython.core.display.HTML object>"
      ]
     },
     "metadata": {},
     "output_type": "display_data"
    },
    {
     "data": {
      "text/html": [
       "<br>    <style><br>        .wandb-row {<br>            display: flex;<br>            flex-direction: row;<br>            flex-wrap: wrap;<br>            justify-content: flex-start;<br>            width: 100%;<br>        }<br>        .wandb-col {<br>            display: flex;<br>            flex-direction: column;<br>            flex-basis: 100%;<br>            flex: 1;<br>            padding: 10px;<br>        }<br>    </style><br><div class=\"wandb-row\"><div class=\"wandb-col\"><h3>Run history:</h3><br/><table class=\"wandb\"><tr><td>epoch</td><td>▁▂▃▃▄▅▆▆▇█</td></tr><tr><td>test_accuracy</td><td>▁</td></tr><tr><td>training_loss</td><td>█▄▃▂▂▂▂▁▁▁</td></tr><tr><td>validation loss</td><td>█▅▃▂▃▁▂▁▁▁</td></tr><tr><td>validation_accuracy</td><td>▁▄▅▇▆█▇██▇</td></tr></table><br/></div><div class=\"wandb-col\"><h3>Run summary:</h3><br/><table class=\"wandb\"><tr><td>epoch</td><td>10</td></tr><tr><td>test_accuracy</td><td>0.8639</td></tr><tr><td>training_loss</td><td>0.46523</td></tr><tr><td>validation loss</td><td>0.35689</td></tr><tr><td>validation_accuracy</td><td>0.86433</td></tr></table><br/></div></div>"
      ],
      "text/plain": [
       "<IPython.core.display.HTML object>"
      ]
     },
     "metadata": {},
     "output_type": "display_data"
    },
    {
     "data": {
      "text/html": [
       " View run <strong style=\"color:#cdcd00\">hl_5_bs_32_ac_relu_opt_nesterov</strong> at: <a href='https://wandb.ai/ed24s401-indian-institute-of-technology-madras/q4_sweep_project/runs/gwt7n34g' target=\"_blank\">https://wandb.ai/ed24s401-indian-institute-of-technology-madras/q4_sweep_project/runs/gwt7n34g</a><br> View project at: <a href='https://wandb.ai/ed24s401-indian-institute-of-technology-madras/q4_sweep_project' target=\"_blank\">https://wandb.ai/ed24s401-indian-institute-of-technology-madras/q4_sweep_project</a><br>Synced 5 W&B file(s), 0 media file(s), 0 artifact file(s) and 0 other file(s)"
      ],
      "text/plain": [
       "<IPython.core.display.HTML object>"
      ]
     },
     "metadata": {},
     "output_type": "display_data"
    },
    {
     "data": {
      "text/html": [
       "Find logs at: <code>.\\wandb\\run-20250316_204248-gwt7n34g\\logs</code>"
      ],
      "text/plain": [
       "<IPython.core.display.HTML object>"
      ]
     },
     "metadata": {},
     "output_type": "display_data"
    },
    {
     "name": "stderr",
     "output_type": "stream",
     "text": [
      "\u001b[34m\u001b[1mwandb\u001b[0m: Agent Starting Run: xlhea1wh with config:\n",
      "\u001b[34m\u001b[1mwandb\u001b[0m: \tactivation: relu\n",
      "\u001b[34m\u001b[1mwandb\u001b[0m: \tbatch_size: 32\n",
      "\u001b[34m\u001b[1mwandb\u001b[0m: \tbeta1: 0.9\n",
      "\u001b[34m\u001b[1mwandb\u001b[0m: \tbeta2: 0.999\n",
      "\u001b[34m\u001b[1mwandb\u001b[0m: \tbeta_rms: 0.9\n",
      "\u001b[34m\u001b[1mwandb\u001b[0m: \tepochs: 10\n",
      "\u001b[34m\u001b[1mwandb\u001b[0m: \tepsilon: 1e-08\n",
      "\u001b[34m\u001b[1mwandb\u001b[0m: \thidden_size: 64\n",
      "\u001b[34m\u001b[1mwandb\u001b[0m: \tinit_type: xavier\n",
      "\u001b[34m\u001b[1mwandb\u001b[0m: \tlearning_rate: 0.0001\n",
      "\u001b[34m\u001b[1mwandb\u001b[0m: \tmomentum: 0.8\n",
      "\u001b[34m\u001b[1mwandb\u001b[0m: \tnum_hidden_layers: 3\n",
      "\u001b[34m\u001b[1mwandb\u001b[0m: \toptimizer: nadam\n",
      "\u001b[34m\u001b[1mwandb\u001b[0m: \tweight_decay: 0\n"
     ]
    },
    {
     "data": {
      "text/html": [
       "Tracking run with wandb version 0.19.8"
      ],
      "text/plain": [
       "<IPython.core.display.HTML object>"
      ]
     },
     "metadata": {},
     "output_type": "display_data"
    },
    {
     "data": {
      "text/html": [
       "Run data is saved locally in <code>c:\\Users\\acer\\OneDrive\\Documents\\GitHub\\dl_assignment_ed24s401\\wandb\\run-20250316_204319-xlhea1wh</code>"
      ],
      "text/plain": [
       "<IPython.core.display.HTML object>"
      ]
     },
     "metadata": {},
     "output_type": "display_data"
    },
    {
     "data": {
      "text/html": [
       "Syncing run <strong><a href='https://wandb.ai/ed24s401-indian-institute-of-technology-madras/q4_sweep_project/runs/xlhea1wh' target=\"_blank\">dashing-sweep-43</a></strong> to <a href='https://wandb.ai/ed24s401-indian-institute-of-technology-madras/q4_sweep_project' target=\"_blank\">Weights & Biases</a> (<a href='https://wandb.me/developer-guide' target=\"_blank\">docs</a>)<br>Sweep page: <a href='https://wandb.ai/ed24s401-indian-institute-of-technology-madras/q4_sweep_project/sweeps/p60nv46x' target=\"_blank\">https://wandb.ai/ed24s401-indian-institute-of-technology-madras/q4_sweep_project/sweeps/p60nv46x</a>"
      ],
      "text/plain": [
       "<IPython.core.display.HTML object>"
      ]
     },
     "metadata": {},
     "output_type": "display_data"
    },
    {
     "data": {
      "text/html": [
       " View project at <a href='https://wandb.ai/ed24s401-indian-institute-of-technology-madras/q4_sweep_project' target=\"_blank\">https://wandb.ai/ed24s401-indian-institute-of-technology-madras/q4_sweep_project</a>"
      ],
      "text/plain": [
       "<IPython.core.display.HTML object>"
      ]
     },
     "metadata": {},
     "output_type": "display_data"
    },
    {
     "data": {
      "text/html": [
       " View sweep at <a href='https://wandb.ai/ed24s401-indian-institute-of-technology-madras/q4_sweep_project/sweeps/p60nv46x' target=\"_blank\">https://wandb.ai/ed24s401-indian-institute-of-technology-madras/q4_sweep_project/sweeps/p60nv46x</a>"
      ],
      "text/plain": [
       "<IPython.core.display.HTML object>"
      ]
     },
     "metadata": {},
     "output_type": "display_data"
    },
    {
     "data": {
      "text/html": [
       " View run at <a href='https://wandb.ai/ed24s401-indian-institute-of-technology-madras/q4_sweep_project/runs/xlhea1wh' target=\"_blank\">https://wandb.ai/ed24s401-indian-institute-of-technology-madras/q4_sweep_project/runs/xlhea1wh</a>"
      ],
      "text/plain": [
       "<IPython.core.display.HTML object>"
      ]
     },
     "metadata": {},
     "output_type": "display_data"
    },
    {
     "name": "stdout",
     "output_type": "stream",
     "text": [
      "Epoch 1/10 - loss=0.7868, val_acc=0.8167, val_loss=0.5217478342201655\n",
      "Epoch 2/10 - loss=0.4816, val_acc=0.8377, val_loss=0.4585569569009179\n",
      "Epoch 3/10 - loss=0.4367, val_acc=0.8437, val_loss=0.43797609699630824\n",
      "Epoch 4/10 - loss=0.4112, val_acc=0.8547, val_loss=0.40707383224604626\n",
      "Epoch 5/10 - loss=0.3929, val_acc=0.8593, val_loss=0.39868272907460245\n",
      "Epoch 6/10 - loss=0.3794, val_acc=0.8622, val_loss=0.38730276633180966\n",
      "Epoch 7/10 - loss=0.3672, val_acc=0.8595, val_loss=0.383965068278298\n",
      "Epoch 8/10 - loss=0.3567, val_acc=0.8680, val_loss=0.36583353707208216\n",
      "Epoch 9/10 - loss=0.3465, val_acc=0.8702, val_loss=0.35970920867590317\n",
      "Epoch 10/10 - loss=0.3392, val_acc=0.8698, val_loss=0.3568636316582727\n",
      "test accuracy  0.8618\n"
     ]
    },
    {
     "data": {
      "text/html": [],
      "text/plain": [
       "<IPython.core.display.HTML object>"
      ]
     },
     "metadata": {},
     "output_type": "display_data"
    },
    {
     "data": {
      "text/html": [
       "<br>    <style><br>        .wandb-row {<br>            display: flex;<br>            flex-direction: row;<br>            flex-wrap: wrap;<br>            justify-content: flex-start;<br>            width: 100%;<br>        }<br>        .wandb-col {<br>            display: flex;<br>            flex-direction: column;<br>            flex-basis: 100%;<br>            flex: 1;<br>            padding: 10px;<br>        }<br>    </style><br><div class=\"wandb-row\"><div class=\"wandb-col\"><h3>Run history:</h3><br/><table class=\"wandb\"><tr><td>epoch</td><td>▁▂▃▃▄▅▆▆▇█</td></tr><tr><td>test_accuracy</td><td>▁</td></tr><tr><td>training_loss</td><td>█▃▃▂▂▂▁▁▁▁</td></tr><tr><td>validation loss</td><td>█▅▄▃▃▂▂▁▁▁</td></tr><tr><td>validation_accuracy</td><td>▁▄▅▆▇▇▇███</td></tr></table><br/></div><div class=\"wandb-col\"><h3>Run summary:</h3><br/><table class=\"wandb\"><tr><td>epoch</td><td>10</td></tr><tr><td>test_accuracy</td><td>0.8618</td></tr><tr><td>training_loss</td><td>0.33918</td></tr><tr><td>validation loss</td><td>0.35686</td></tr><tr><td>validation_accuracy</td><td>0.86983</td></tr></table><br/></div></div>"
      ],
      "text/plain": [
       "<IPython.core.display.HTML object>"
      ]
     },
     "metadata": {},
     "output_type": "display_data"
    },
    {
     "data": {
      "text/html": [
       " View run <strong style=\"color:#cdcd00\">hl_3_bs_32_ac_relu_opt_nadam</strong> at: <a href='https://wandb.ai/ed24s401-indian-institute-of-technology-madras/q4_sweep_project/runs/xlhea1wh' target=\"_blank\">https://wandb.ai/ed24s401-indian-institute-of-technology-madras/q4_sweep_project/runs/xlhea1wh</a><br> View project at: <a href='https://wandb.ai/ed24s401-indian-institute-of-technology-madras/q4_sweep_project' target=\"_blank\">https://wandb.ai/ed24s401-indian-institute-of-technology-madras/q4_sweep_project</a><br>Synced 5 W&B file(s), 0 media file(s), 0 artifact file(s) and 0 other file(s)"
      ],
      "text/plain": [
       "<IPython.core.display.HTML object>"
      ]
     },
     "metadata": {},
     "output_type": "display_data"
    },
    {
     "data": {
      "text/html": [
       "Find logs at: <code>.\\wandb\\run-20250316_204319-xlhea1wh\\logs</code>"
      ],
      "text/plain": [
       "<IPython.core.display.HTML object>"
      ]
     },
     "metadata": {},
     "output_type": "display_data"
    },
    {
     "name": "stderr",
     "output_type": "stream",
     "text": [
      "\u001b[34m\u001b[1mwandb\u001b[0m: Agent Starting Run: kzgeivlg with config:\n",
      "\u001b[34m\u001b[1mwandb\u001b[0m: \tactivation: relu\n",
      "\u001b[34m\u001b[1mwandb\u001b[0m: \tbatch_size: 32\n",
      "\u001b[34m\u001b[1mwandb\u001b[0m: \tbeta1: 0.9\n",
      "\u001b[34m\u001b[1mwandb\u001b[0m: \tbeta2: 0.999\n",
      "\u001b[34m\u001b[1mwandb\u001b[0m: \tbeta_rms: 0.9\n",
      "\u001b[34m\u001b[1mwandb\u001b[0m: \tepochs: 10\n",
      "\u001b[34m\u001b[1mwandb\u001b[0m: \tepsilon: 1e-08\n",
      "\u001b[34m\u001b[1mwandb\u001b[0m: \thidden_size: 128\n",
      "\u001b[34m\u001b[1mwandb\u001b[0m: \tinit_type: random\n",
      "\u001b[34m\u001b[1mwandb\u001b[0m: \tlearning_rate: 0.0001\n",
      "\u001b[34m\u001b[1mwandb\u001b[0m: \tmomentum: 0.8\n",
      "\u001b[34m\u001b[1mwandb\u001b[0m: \tnum_hidden_layers: 3\n",
      "\u001b[34m\u001b[1mwandb\u001b[0m: \toptimizer: adam\n",
      "\u001b[34m\u001b[1mwandb\u001b[0m: \tweight_decay: 0.0005\n"
     ]
    },
    {
     "data": {
      "text/html": [
       "Tracking run with wandb version 0.19.8"
      ],
      "text/plain": [
       "<IPython.core.display.HTML object>"
      ]
     },
     "metadata": {},
     "output_type": "display_data"
    },
    {
     "data": {
      "text/html": [
       "Run data is saved locally in <code>c:\\Users\\acer\\OneDrive\\Documents\\GitHub\\dl_assignment_ed24s401\\wandb\\run-20250316_204407-kzgeivlg</code>"
      ],
      "text/plain": [
       "<IPython.core.display.HTML object>"
      ]
     },
     "metadata": {},
     "output_type": "display_data"
    },
    {
     "data": {
      "text/html": [
       "Syncing run <strong><a href='https://wandb.ai/ed24s401-indian-institute-of-technology-madras/q4_sweep_project/runs/kzgeivlg' target=\"_blank\">lunar-sweep-44</a></strong> to <a href='https://wandb.ai/ed24s401-indian-institute-of-technology-madras/q4_sweep_project' target=\"_blank\">Weights & Biases</a> (<a href='https://wandb.me/developer-guide' target=\"_blank\">docs</a>)<br>Sweep page: <a href='https://wandb.ai/ed24s401-indian-institute-of-technology-madras/q4_sweep_project/sweeps/p60nv46x' target=\"_blank\">https://wandb.ai/ed24s401-indian-institute-of-technology-madras/q4_sweep_project/sweeps/p60nv46x</a>"
      ],
      "text/plain": [
       "<IPython.core.display.HTML object>"
      ]
     },
     "metadata": {},
     "output_type": "display_data"
    },
    {
     "data": {
      "text/html": [
       " View project at <a href='https://wandb.ai/ed24s401-indian-institute-of-technology-madras/q4_sweep_project' target=\"_blank\">https://wandb.ai/ed24s401-indian-institute-of-technology-madras/q4_sweep_project</a>"
      ],
      "text/plain": [
       "<IPython.core.display.HTML object>"
      ]
     },
     "metadata": {},
     "output_type": "display_data"
    },
    {
     "data": {
      "text/html": [
       " View sweep at <a href='https://wandb.ai/ed24s401-indian-institute-of-technology-madras/q4_sweep_project/sweeps/p60nv46x' target=\"_blank\">https://wandb.ai/ed24s401-indian-institute-of-technology-madras/q4_sweep_project/sweeps/p60nv46x</a>"
      ],
      "text/plain": [
       "<IPython.core.display.HTML object>"
      ]
     },
     "metadata": {},
     "output_type": "display_data"
    },
    {
     "data": {
      "text/html": [
       " View run at <a href='https://wandb.ai/ed24s401-indian-institute-of-technology-madras/q4_sweep_project/runs/kzgeivlg' target=\"_blank\">https://wandb.ai/ed24s401-indian-institute-of-technology-madras/q4_sweep_project/runs/kzgeivlg</a>"
      ],
      "text/plain": [
       "<IPython.core.display.HTML object>"
      ]
     },
     "metadata": {},
     "output_type": "display_data"
    },
    {
     "name": "stdout",
     "output_type": "stream",
     "text": [
      "Epoch 1/10 - loss=0.8317, val_acc=0.8258, val_loss=0.4757579152108262\n",
      "Epoch 2/10 - loss=0.5906, val_acc=0.8502, val_loss=0.41328346409049\n",
      "Epoch 3/10 - loss=0.5434, val_acc=0.8562, val_loss=0.40813697109285646\n",
      "Epoch 4/10 - loss=0.5149, val_acc=0.8628, val_loss=0.3739574488702956\n",
      "Epoch 5/10 - loss=0.4938, val_acc=0.8658, val_loss=0.3692313030829563\n",
      "Epoch 6/10 - loss=0.4785, val_acc=0.8693, val_loss=0.3513944451690005\n",
      "Epoch 7/10 - loss=0.4640, val_acc=0.8740, val_loss=0.3431881958227336\n",
      "Epoch 8/10 - loss=0.4528, val_acc=0.8783, val_loss=0.330285510888617\n",
      "Epoch 9/10 - loss=0.4400, val_acc=0.8770, val_loss=0.33109005835320926\n",
      "Epoch 10/10 - loss=0.4306, val_acc=0.8795, val_loss=0.32264725908270125\n",
      "test accuracy  0.8748\n"
     ]
    },
    {
     "data": {
      "text/html": [],
      "text/plain": [
       "<IPython.core.display.HTML object>"
      ]
     },
     "metadata": {},
     "output_type": "display_data"
    },
    {
     "data": {
      "text/html": [
       "<br>    <style><br>        .wandb-row {<br>            display: flex;<br>            flex-direction: row;<br>            flex-wrap: wrap;<br>            justify-content: flex-start;<br>            width: 100%;<br>        }<br>        .wandb-col {<br>            display: flex;<br>            flex-direction: column;<br>            flex-basis: 100%;<br>            flex: 1;<br>            padding: 10px;<br>        }<br>    </style><br><div class=\"wandb-row\"><div class=\"wandb-col\"><h3>Run history:</h3><br/><table class=\"wandb\"><tr><td>epoch</td><td>▁▂▃▃▄▅▆▆▇█</td></tr><tr><td>test_accuracy</td><td>▁</td></tr><tr><td>training_loss</td><td>█▄▃▂▂▂▂▁▁▁</td></tr><tr><td>validation loss</td><td>█▅▅▃▃▂▂▁▁▁</td></tr><tr><td>validation_accuracy</td><td>▁▄▅▆▆▇▇███</td></tr></table><br/></div><div class=\"wandb-col\"><h3>Run summary:</h3><br/><table class=\"wandb\"><tr><td>epoch</td><td>10</td></tr><tr><td>test_accuracy</td><td>0.8748</td></tr><tr><td>training_loss</td><td>0.43059</td></tr><tr><td>validation loss</td><td>0.32265</td></tr><tr><td>validation_accuracy</td><td>0.8795</td></tr></table><br/></div></div>"
      ],
      "text/plain": [
       "<IPython.core.display.HTML object>"
      ]
     },
     "metadata": {},
     "output_type": "display_data"
    },
    {
     "data": {
      "text/html": [
       " View run <strong style=\"color:#cdcd00\">hl_3_bs_32_ac_relu_opt_adam</strong> at: <a href='https://wandb.ai/ed24s401-indian-institute-of-technology-madras/q4_sweep_project/runs/kzgeivlg' target=\"_blank\">https://wandb.ai/ed24s401-indian-institute-of-technology-madras/q4_sweep_project/runs/kzgeivlg</a><br> View project at: <a href='https://wandb.ai/ed24s401-indian-institute-of-technology-madras/q4_sweep_project' target=\"_blank\">https://wandb.ai/ed24s401-indian-institute-of-technology-madras/q4_sweep_project</a><br>Synced 5 W&B file(s), 0 media file(s), 0 artifact file(s) and 0 other file(s)"
      ],
      "text/plain": [
       "<IPython.core.display.HTML object>"
      ]
     },
     "metadata": {},
     "output_type": "display_data"
    },
    {
     "data": {
      "text/html": [
       "Find logs at: <code>.\\wandb\\run-20250316_204407-kzgeivlg\\logs</code>"
      ],
      "text/plain": [
       "<IPython.core.display.HTML object>"
      ]
     },
     "metadata": {},
     "output_type": "display_data"
    },
    {
     "name": "stderr",
     "output_type": "stream",
     "text": [
      "\u001b[34m\u001b[1mwandb\u001b[0m: Agent Starting Run: cz40h8yp with config:\n",
      "\u001b[34m\u001b[1mwandb\u001b[0m: \tactivation: relu\n",
      "\u001b[34m\u001b[1mwandb\u001b[0m: \tbatch_size: 32\n",
      "\u001b[34m\u001b[1mwandb\u001b[0m: \tbeta1: 0.9\n",
      "\u001b[34m\u001b[1mwandb\u001b[0m: \tbeta2: 0.999\n",
      "\u001b[34m\u001b[1mwandb\u001b[0m: \tbeta_rms: 0.9\n",
      "\u001b[34m\u001b[1mwandb\u001b[0m: \tepochs: 10\n",
      "\u001b[34m\u001b[1mwandb\u001b[0m: \tepsilon: 1e-08\n",
      "\u001b[34m\u001b[1mwandb\u001b[0m: \thidden_size: 128\n",
      "\u001b[34m\u001b[1mwandb\u001b[0m: \tinit_type: xavier\n",
      "\u001b[34m\u001b[1mwandb\u001b[0m: \tlearning_rate: 0.001\n",
      "\u001b[34m\u001b[1mwandb\u001b[0m: \tmomentum: 0.9\n",
      "\u001b[34m\u001b[1mwandb\u001b[0m: \tnum_hidden_layers: 3\n",
      "\u001b[34m\u001b[1mwandb\u001b[0m: \toptimizer: adam\n",
      "\u001b[34m\u001b[1mwandb\u001b[0m: \tweight_decay: 0\n"
     ]
    },
    {
     "data": {
      "text/html": [
       "Tracking run with wandb version 0.19.8"
      ],
      "text/plain": [
       "<IPython.core.display.HTML object>"
      ]
     },
     "metadata": {},
     "output_type": "display_data"
    },
    {
     "data": {
      "text/html": [
       "Run data is saved locally in <code>c:\\Users\\acer\\OneDrive\\Documents\\GitHub\\dl_assignment_ed24s401\\wandb\\run-20250316_204552-cz40h8yp</code>"
      ],
      "text/plain": [
       "<IPython.core.display.HTML object>"
      ]
     },
     "metadata": {},
     "output_type": "display_data"
    },
    {
     "data": {
      "text/html": [
       "Syncing run <strong><a href='https://wandb.ai/ed24s401-indian-institute-of-technology-madras/q4_sweep_project/runs/cz40h8yp' target=\"_blank\">giddy-sweep-45</a></strong> to <a href='https://wandb.ai/ed24s401-indian-institute-of-technology-madras/q4_sweep_project' target=\"_blank\">Weights & Biases</a> (<a href='https://wandb.me/developer-guide' target=\"_blank\">docs</a>)<br>Sweep page: <a href='https://wandb.ai/ed24s401-indian-institute-of-technology-madras/q4_sweep_project/sweeps/p60nv46x' target=\"_blank\">https://wandb.ai/ed24s401-indian-institute-of-technology-madras/q4_sweep_project/sweeps/p60nv46x</a>"
      ],
      "text/plain": [
       "<IPython.core.display.HTML object>"
      ]
     },
     "metadata": {},
     "output_type": "display_data"
    },
    {
     "data": {
      "text/html": [
       " View project at <a href='https://wandb.ai/ed24s401-indian-institute-of-technology-madras/q4_sweep_project' target=\"_blank\">https://wandb.ai/ed24s401-indian-institute-of-technology-madras/q4_sweep_project</a>"
      ],
      "text/plain": [
       "<IPython.core.display.HTML object>"
      ]
     },
     "metadata": {},
     "output_type": "display_data"
    },
    {
     "data": {
      "text/html": [
       " View sweep at <a href='https://wandb.ai/ed24s401-indian-institute-of-technology-madras/q4_sweep_project/sweeps/p60nv46x' target=\"_blank\">https://wandb.ai/ed24s401-indian-institute-of-technology-madras/q4_sweep_project/sweeps/p60nv46x</a>"
      ],
      "text/plain": [
       "<IPython.core.display.HTML object>"
      ]
     },
     "metadata": {},
     "output_type": "display_data"
    },
    {
     "data": {
      "text/html": [
       " View run at <a href='https://wandb.ai/ed24s401-indian-institute-of-technology-madras/q4_sweep_project/runs/cz40h8yp' target=\"_blank\">https://wandb.ai/ed24s401-indian-institute-of-technology-madras/q4_sweep_project/runs/cz40h8yp</a>"
      ],
      "text/plain": [
       "<IPython.core.display.HTML object>"
      ]
     },
     "metadata": {},
     "output_type": "display_data"
    },
    {
     "name": "stdout",
     "output_type": "stream",
     "text": [
      "Epoch 1/10 - loss=0.5077, val_acc=0.8492, val_loss=0.40737801492036063\n",
      "Epoch 2/10 - loss=0.3722, val_acc=0.8715, val_loss=0.3396064193370988\n",
      "Epoch 3/10 - loss=0.3384, val_acc=0.8583, val_loss=0.366624837734801\n",
      "Epoch 4/10 - loss=0.3145, val_acc=0.8763, val_loss=0.3379841200786454\n",
      "Epoch 5/10 - loss=0.2955, val_acc=0.8787, val_loss=0.3256897137472036\n",
      "Epoch 6/10 - loss=0.2820, val_acc=0.8867, val_loss=0.31204421024490914\n",
      "Epoch 7/10 - loss=0.2691, val_acc=0.8903, val_loss=0.31161403607265575\n",
      "Epoch 8/10 - loss=0.2601, val_acc=0.8832, val_loss=0.31869695173533424\n",
      "Epoch 9/10 - loss=0.2483, val_acc=0.8870, val_loss=0.32339436454480425\n",
      "Epoch 10/10 - loss=0.2376, val_acc=0.8873, val_loss=0.32405208778690026\n",
      "test accuracy  0.8852\n"
     ]
    },
    {
     "data": {
      "text/html": [],
      "text/plain": [
       "<IPython.core.display.HTML object>"
      ]
     },
     "metadata": {},
     "output_type": "display_data"
    },
    {
     "data": {
      "text/html": [
       "<br>    <style><br>        .wandb-row {<br>            display: flex;<br>            flex-direction: row;<br>            flex-wrap: wrap;<br>            justify-content: flex-start;<br>            width: 100%;<br>        }<br>        .wandb-col {<br>            display: flex;<br>            flex-direction: column;<br>            flex-basis: 100%;<br>            flex: 1;<br>            padding: 10px;<br>        }<br>    </style><br><div class=\"wandb-row\"><div class=\"wandb-col\"><h3>Run history:</h3><br/><table class=\"wandb\"><tr><td>epoch</td><td>▁▂▃▃▄▅▆▆▇█</td></tr><tr><td>test_accuracy</td><td>▁</td></tr><tr><td>training_loss</td><td>█▄▄▃▃▂▂▂▁▁</td></tr><tr><td>validation loss</td><td>█▃▅▃▂▁▁▂▂▂</td></tr><tr><td>validation_accuracy</td><td>▁▅▃▆▆▇█▇▇▇</td></tr></table><br/></div><div class=\"wandb-col\"><h3>Run summary:</h3><br/><table class=\"wandb\"><tr><td>epoch</td><td>10</td></tr><tr><td>test_accuracy</td><td>0.8852</td></tr><tr><td>training_loss</td><td>0.23757</td></tr><tr><td>validation loss</td><td>0.32405</td></tr><tr><td>validation_accuracy</td><td>0.88733</td></tr></table><br/></div></div>"
      ],
      "text/plain": [
       "<IPython.core.display.HTML object>"
      ]
     },
     "metadata": {},
     "output_type": "display_data"
    },
    {
     "data": {
      "text/html": [
       " View run <strong style=\"color:#cdcd00\">hl_3_bs_32_ac_relu_opt_adam</strong> at: <a href='https://wandb.ai/ed24s401-indian-institute-of-technology-madras/q4_sweep_project/runs/cz40h8yp' target=\"_blank\">https://wandb.ai/ed24s401-indian-institute-of-technology-madras/q4_sweep_project/runs/cz40h8yp</a><br> View project at: <a href='https://wandb.ai/ed24s401-indian-institute-of-technology-madras/q4_sweep_project' target=\"_blank\">https://wandb.ai/ed24s401-indian-institute-of-technology-madras/q4_sweep_project</a><br>Synced 5 W&B file(s), 0 media file(s), 0 artifact file(s) and 0 other file(s)"
      ],
      "text/plain": [
       "<IPython.core.display.HTML object>"
      ]
     },
     "metadata": {},
     "output_type": "display_data"
    },
    {
     "data": {
      "text/html": [
       "Find logs at: <code>.\\wandb\\run-20250316_204552-cz40h8yp\\logs</code>"
      ],
      "text/plain": [
       "<IPython.core.display.HTML object>"
      ]
     },
     "metadata": {},
     "output_type": "display_data"
    },
    {
     "name": "stderr",
     "output_type": "stream",
     "text": [
      "\u001b[34m\u001b[1mwandb\u001b[0m: Agent Starting Run: uavnpf8p with config:\n",
      "\u001b[34m\u001b[1mwandb\u001b[0m: \tactivation: sigmoid\n",
      "\u001b[34m\u001b[1mwandb\u001b[0m: \tbatch_size: 32\n",
      "\u001b[34m\u001b[1mwandb\u001b[0m: \tbeta1: 0.9\n",
      "\u001b[34m\u001b[1mwandb\u001b[0m: \tbeta2: 0.999\n",
      "\u001b[34m\u001b[1mwandb\u001b[0m: \tbeta_rms: 0.9\n",
      "\u001b[34m\u001b[1mwandb\u001b[0m: \tepochs: 10\n",
      "\u001b[34m\u001b[1mwandb\u001b[0m: \tepsilon: 1e-08\n",
      "\u001b[34m\u001b[1mwandb\u001b[0m: \thidden_size: 128\n",
      "\u001b[34m\u001b[1mwandb\u001b[0m: \tinit_type: random\n",
      "\u001b[34m\u001b[1mwandb\u001b[0m: \tlearning_rate: 0.0001\n",
      "\u001b[34m\u001b[1mwandb\u001b[0m: \tmomentum: 0.8\n",
      "\u001b[34m\u001b[1mwandb\u001b[0m: \tnum_hidden_layers: 5\n",
      "\u001b[34m\u001b[1mwandb\u001b[0m: \toptimizer: momentum\n",
      "\u001b[34m\u001b[1mwandb\u001b[0m: \tweight_decay: 0\n"
     ]
    },
    {
     "data": {
      "text/html": [
       "Tracking run with wandb version 0.19.8"
      ],
      "text/plain": [
       "<IPython.core.display.HTML object>"
      ]
     },
     "metadata": {},
     "output_type": "display_data"
    },
    {
     "data": {
      "text/html": [
       "Run data is saved locally in <code>c:\\Users\\acer\\OneDrive\\Documents\\GitHub\\dl_assignment_ed24s401\\wandb\\run-20250316_204743-uavnpf8p</code>"
      ],
      "text/plain": [
       "<IPython.core.display.HTML object>"
      ]
     },
     "metadata": {},
     "output_type": "display_data"
    },
    {
     "data": {
      "text/html": [
       "Syncing run <strong><a href='https://wandb.ai/ed24s401-indian-institute-of-technology-madras/q4_sweep_project/runs/uavnpf8p' target=\"_blank\">glamorous-sweep-46</a></strong> to <a href='https://wandb.ai/ed24s401-indian-institute-of-technology-madras/q4_sweep_project' target=\"_blank\">Weights & Biases</a> (<a href='https://wandb.me/developer-guide' target=\"_blank\">docs</a>)<br>Sweep page: <a href='https://wandb.ai/ed24s401-indian-institute-of-technology-madras/q4_sweep_project/sweeps/p60nv46x' target=\"_blank\">https://wandb.ai/ed24s401-indian-institute-of-technology-madras/q4_sweep_project/sweeps/p60nv46x</a>"
      ],
      "text/plain": [
       "<IPython.core.display.HTML object>"
      ]
     },
     "metadata": {},
     "output_type": "display_data"
    },
    {
     "data": {
      "text/html": [
       " View project at <a href='https://wandb.ai/ed24s401-indian-institute-of-technology-madras/q4_sweep_project' target=\"_blank\">https://wandb.ai/ed24s401-indian-institute-of-technology-madras/q4_sweep_project</a>"
      ],
      "text/plain": [
       "<IPython.core.display.HTML object>"
      ]
     },
     "metadata": {},
     "output_type": "display_data"
    },
    {
     "data": {
      "text/html": [
       " View sweep at <a href='https://wandb.ai/ed24s401-indian-institute-of-technology-madras/q4_sweep_project/sweeps/p60nv46x' target=\"_blank\">https://wandb.ai/ed24s401-indian-institute-of-technology-madras/q4_sweep_project/sweeps/p60nv46x</a>"
      ],
      "text/plain": [
       "<IPython.core.display.HTML object>"
      ]
     },
     "metadata": {},
     "output_type": "display_data"
    },
    {
     "data": {
      "text/html": [
       " View run at <a href='https://wandb.ai/ed24s401-indian-institute-of-technology-madras/q4_sweep_project/runs/uavnpf8p' target=\"_blank\">https://wandb.ai/ed24s401-indian-institute-of-technology-madras/q4_sweep_project/runs/uavnpf8p</a>"
      ],
      "text/plain": [
       "<IPython.core.display.HTML object>"
      ]
     },
     "metadata": {},
     "output_type": "display_data"
    },
    {
     "name": "stdout",
     "output_type": "stream",
     "text": [
      "Epoch 1/10 - loss=2.3505, val_acc=0.1033, val_loss=2.303114840127441\n",
      "Epoch 2/10 - loss=2.3030, val_acc=0.0977, val_loss=2.302991830490144\n",
      "Epoch 3/10 - loss=2.3029, val_acc=0.1017, val_loss=2.302877073553554\n",
      "Epoch 4/10 - loss=2.3029, val_acc=0.1390, val_loss=2.3027453588016695\n",
      "Epoch 5/10 - loss=2.3029, val_acc=0.0588, val_loss=2.3026822158058344\n",
      "Epoch 6/10 - loss=2.3028, val_acc=0.0977, val_loss=2.3028041736631644\n",
      "Epoch 7/10 - loss=2.3028, val_acc=0.1023, val_loss=2.302529165400271\n",
      "Epoch 8/10 - loss=2.3028, val_acc=0.0950, val_loss=2.3026551629448933\n",
      "Epoch 9/10 - loss=2.3027, val_acc=0.0995, val_loss=2.3026615993658277\n",
      "Epoch 10/10 - loss=2.3027, val_acc=0.0995, val_loss=2.3024827947628483\n",
      "test accuracy  0.1\n"
     ]
    },
    {
     "data": {
      "text/html": [],
      "text/plain": [
       "<IPython.core.display.HTML object>"
      ]
     },
     "metadata": {},
     "output_type": "display_data"
    },
    {
     "data": {
      "text/html": [
       "<br>    <style><br>        .wandb-row {<br>            display: flex;<br>            flex-direction: row;<br>            flex-wrap: wrap;<br>            justify-content: flex-start;<br>            width: 100%;<br>        }<br>        .wandb-col {<br>            display: flex;<br>            flex-direction: column;<br>            flex-basis: 100%;<br>            flex: 1;<br>            padding: 10px;<br>        }<br>    </style><br><div class=\"wandb-row\"><div class=\"wandb-col\"><h3>Run history:</h3><br/><table class=\"wandb\"><tr><td>epoch</td><td>▁▂▃▃▄▅▆▆▇█</td></tr><tr><td>test_accuracy</td><td>▁</td></tr><tr><td>training_loss</td><td>█▁▁▁▁▁▁▁▁▁</td></tr><tr><td>validation loss</td><td>█▇▅▄▃▅▂▃▃▁</td></tr><tr><td>validation_accuracy</td><td>▅▄▅█▁▄▅▄▅▅</td></tr></table><br/></div><div class=\"wandb-col\"><h3>Run summary:</h3><br/><table class=\"wandb\"><tr><td>epoch</td><td>10</td></tr><tr><td>test_accuracy</td><td>0.1</td></tr><tr><td>training_loss</td><td>2.30265</td></tr><tr><td>validation loss</td><td>2.30248</td></tr><tr><td>validation_accuracy</td><td>0.0995</td></tr></table><br/></div></div>"
      ],
      "text/plain": [
       "<IPython.core.display.HTML object>"
      ]
     },
     "metadata": {},
     "output_type": "display_data"
    },
    {
     "data": {
      "text/html": [
       " View run <strong style=\"color:#cdcd00\">hl_5_bs_32_ac_sigmoid_opt_momentum</strong> at: <a href='https://wandb.ai/ed24s401-indian-institute-of-technology-madras/q4_sweep_project/runs/uavnpf8p' target=\"_blank\">https://wandb.ai/ed24s401-indian-institute-of-technology-madras/q4_sweep_project/runs/uavnpf8p</a><br> View project at: <a href='https://wandb.ai/ed24s401-indian-institute-of-technology-madras/q4_sweep_project' target=\"_blank\">https://wandb.ai/ed24s401-indian-institute-of-technology-madras/q4_sweep_project</a><br>Synced 5 W&B file(s), 0 media file(s), 0 artifact file(s) and 0 other file(s)"
      ],
      "text/plain": [
       "<IPython.core.display.HTML object>"
      ]
     },
     "metadata": {},
     "output_type": "display_data"
    },
    {
     "data": {
      "text/html": [
       "Find logs at: <code>.\\wandb\\run-20250316_204743-uavnpf8p\\logs</code>"
      ],
      "text/plain": [
       "<IPython.core.display.HTML object>"
      ]
     },
     "metadata": {},
     "output_type": "display_data"
    },
    {
     "name": "stderr",
     "output_type": "stream",
     "text": [
      "\u001b[34m\u001b[1mwandb\u001b[0m: Agent Starting Run: cg0mzruy with config:\n",
      "\u001b[34m\u001b[1mwandb\u001b[0m: \tactivation: relu\n",
      "\u001b[34m\u001b[1mwandb\u001b[0m: \tbatch_size: 32\n",
      "\u001b[34m\u001b[1mwandb\u001b[0m: \tbeta1: 0.9\n",
      "\u001b[34m\u001b[1mwandb\u001b[0m: \tbeta2: 0.999\n",
      "\u001b[34m\u001b[1mwandb\u001b[0m: \tbeta_rms: 0.9\n",
      "\u001b[34m\u001b[1mwandb\u001b[0m: \tepochs: 10\n",
      "\u001b[34m\u001b[1mwandb\u001b[0m: \tepsilon: 1e-08\n",
      "\u001b[34m\u001b[1mwandb\u001b[0m: \thidden_size: 64\n",
      "\u001b[34m\u001b[1mwandb\u001b[0m: \tinit_type: xavier\n",
      "\u001b[34m\u001b[1mwandb\u001b[0m: \tlearning_rate: 0.001\n",
      "\u001b[34m\u001b[1mwandb\u001b[0m: \tmomentum: 0.8\n",
      "\u001b[34m\u001b[1mwandb\u001b[0m: \tnum_hidden_layers: 5\n",
      "\u001b[34m\u001b[1mwandb\u001b[0m: \toptimizer: nadam\n",
      "\u001b[34m\u001b[1mwandb\u001b[0m: \tweight_decay: 0\n"
     ]
    },
    {
     "data": {
      "text/html": [
       "Tracking run with wandb version 0.19.8"
      ],
      "text/plain": [
       "<IPython.core.display.HTML object>"
      ]
     },
     "metadata": {},
     "output_type": "display_data"
    },
    {
     "data": {
      "text/html": [
       "Run data is saved locally in <code>c:\\Users\\acer\\OneDrive\\Documents\\GitHub\\dl_assignment_ed24s401\\wandb\\run-20250316_204918-cg0mzruy</code>"
      ],
      "text/plain": [
       "<IPython.core.display.HTML object>"
      ]
     },
     "metadata": {},
     "output_type": "display_data"
    },
    {
     "data": {
      "text/html": [
       "Syncing run <strong><a href='https://wandb.ai/ed24s401-indian-institute-of-technology-madras/q4_sweep_project/runs/cg0mzruy' target=\"_blank\">vivid-sweep-47</a></strong> to <a href='https://wandb.ai/ed24s401-indian-institute-of-technology-madras/q4_sweep_project' target=\"_blank\">Weights & Biases</a> (<a href='https://wandb.me/developer-guide' target=\"_blank\">docs</a>)<br>Sweep page: <a href='https://wandb.ai/ed24s401-indian-institute-of-technology-madras/q4_sweep_project/sweeps/p60nv46x' target=\"_blank\">https://wandb.ai/ed24s401-indian-institute-of-technology-madras/q4_sweep_project/sweeps/p60nv46x</a>"
      ],
      "text/plain": [
       "<IPython.core.display.HTML object>"
      ]
     },
     "metadata": {},
     "output_type": "display_data"
    },
    {
     "data": {
      "text/html": [
       " View project at <a href='https://wandb.ai/ed24s401-indian-institute-of-technology-madras/q4_sweep_project' target=\"_blank\">https://wandb.ai/ed24s401-indian-institute-of-technology-madras/q4_sweep_project</a>"
      ],
      "text/plain": [
       "<IPython.core.display.HTML object>"
      ]
     },
     "metadata": {},
     "output_type": "display_data"
    },
    {
     "data": {
      "text/html": [
       " View sweep at <a href='https://wandb.ai/ed24s401-indian-institute-of-technology-madras/q4_sweep_project/sweeps/p60nv46x' target=\"_blank\">https://wandb.ai/ed24s401-indian-institute-of-technology-madras/q4_sweep_project/sweeps/p60nv46x</a>"
      ],
      "text/plain": [
       "<IPython.core.display.HTML object>"
      ]
     },
     "metadata": {},
     "output_type": "display_data"
    },
    {
     "data": {
      "text/html": [
       " View run at <a href='https://wandb.ai/ed24s401-indian-institute-of-technology-madras/q4_sweep_project/runs/cg0mzruy' target=\"_blank\">https://wandb.ai/ed24s401-indian-institute-of-technology-madras/q4_sweep_project/runs/cg0mzruy</a>"
      ],
      "text/plain": [
       "<IPython.core.display.HTML object>"
      ]
     },
     "metadata": {},
     "output_type": "display_data"
    },
    {
     "name": "stdout",
     "output_type": "stream",
     "text": [
      "Epoch 1/10 - loss=0.5329, val_acc=0.8527, val_loss=0.4092622362524991\n",
      "Epoch 2/10 - loss=0.3801, val_acc=0.8627, val_loss=0.37678530092138246\n",
      "Epoch 3/10 - loss=0.3484, val_acc=0.8715, val_loss=0.3536841316474912\n",
      "Epoch 4/10 - loss=0.3250, val_acc=0.8775, val_loss=0.33737200769110104\n",
      "Epoch 5/10 - loss=0.3100, val_acc=0.8733, val_loss=0.3366078429537517\n",
      "Epoch 6/10 - loss=0.2979, val_acc=0.8770, val_loss=0.3347923308453668\n",
      "Epoch 7/10 - loss=0.2882, val_acc=0.8792, val_loss=0.3343706348091062\n",
      "Epoch 8/10 - loss=0.2760, val_acc=0.8788, val_loss=0.3289205366126509\n",
      "Epoch 9/10 - loss=0.2691, val_acc=0.8818, val_loss=0.3333668671057646\n",
      "Epoch 10/10 - loss=0.2616, val_acc=0.8867, val_loss=0.3194607393409948\n",
      "test accuracy  0.8772\n"
     ]
    },
    {
     "data": {
      "text/html": [],
      "text/plain": [
       "<IPython.core.display.HTML object>"
      ]
     },
     "metadata": {},
     "output_type": "display_data"
    },
    {
     "data": {
      "text/html": [
       "<br>    <style><br>        .wandb-row {<br>            display: flex;<br>            flex-direction: row;<br>            flex-wrap: wrap;<br>            justify-content: flex-start;<br>            width: 100%;<br>        }<br>        .wandb-col {<br>            display: flex;<br>            flex-direction: column;<br>            flex-basis: 100%;<br>            flex: 1;<br>            padding: 10px;<br>        }<br>    </style><br><div class=\"wandb-row\"><div class=\"wandb-col\"><h3>Run history:</h3><br/><table class=\"wandb\"><tr><td>epoch</td><td>▁▂▃▃▄▅▆▆▇█</td></tr><tr><td>test_accuracy</td><td>▁</td></tr><tr><td>training_loss</td><td>█▄▃▃▂▂▂▁▁▁</td></tr><tr><td>validation loss</td><td>█▅▄▂▂▂▂▂▂▁</td></tr><tr><td>validation_accuracy</td><td>▁▃▅▆▅▆▆▆▇█</td></tr></table><br/></div><div class=\"wandb-col\"><h3>Run summary:</h3><br/><table class=\"wandb\"><tr><td>epoch</td><td>10</td></tr><tr><td>test_accuracy</td><td>0.8772</td></tr><tr><td>training_loss</td><td>0.26155</td></tr><tr><td>validation loss</td><td>0.31946</td></tr><tr><td>validation_accuracy</td><td>0.88667</td></tr></table><br/></div></div>"
      ],
      "text/plain": [
       "<IPython.core.display.HTML object>"
      ]
     },
     "metadata": {},
     "output_type": "display_data"
    },
    {
     "data": {
      "text/html": [
       " View run <strong style=\"color:#cdcd00\">hl_5_bs_32_ac_relu_opt_nadam</strong> at: <a href='https://wandb.ai/ed24s401-indian-institute-of-technology-madras/q4_sweep_project/runs/cg0mzruy' target=\"_blank\">https://wandb.ai/ed24s401-indian-institute-of-technology-madras/q4_sweep_project/runs/cg0mzruy</a><br> View project at: <a href='https://wandb.ai/ed24s401-indian-institute-of-technology-madras/q4_sweep_project' target=\"_blank\">https://wandb.ai/ed24s401-indian-institute-of-technology-madras/q4_sweep_project</a><br>Synced 5 W&B file(s), 0 media file(s), 0 artifact file(s) and 0 other file(s)"
      ],
      "text/plain": [
       "<IPython.core.display.HTML object>"
      ]
     },
     "metadata": {},
     "output_type": "display_data"
    },
    {
     "data": {
      "text/html": [
       "Find logs at: <code>.\\wandb\\run-20250316_204918-cg0mzruy\\logs</code>"
      ],
      "text/plain": [
       "<IPython.core.display.HTML object>"
      ]
     },
     "metadata": {},
     "output_type": "display_data"
    },
    {
     "name": "stderr",
     "output_type": "stream",
     "text": [
      "\u001b[34m\u001b[1mwandb\u001b[0m: Agent Starting Run: hp6rfeb7 with config:\n",
      "\u001b[34m\u001b[1mwandb\u001b[0m: \tactivation: tanh\n",
      "\u001b[34m\u001b[1mwandb\u001b[0m: \tbatch_size: 32\n",
      "\u001b[34m\u001b[1mwandb\u001b[0m: \tbeta1: 0.9\n",
      "\u001b[34m\u001b[1mwandb\u001b[0m: \tbeta2: 0.999\n",
      "\u001b[34m\u001b[1mwandb\u001b[0m: \tbeta_rms: 0.9\n",
      "\u001b[34m\u001b[1mwandb\u001b[0m: \tepochs: 10\n",
      "\u001b[34m\u001b[1mwandb\u001b[0m: \tepsilon: 1e-08\n",
      "\u001b[34m\u001b[1mwandb\u001b[0m: \thidden_size: 64\n",
      "\u001b[34m\u001b[1mwandb\u001b[0m: \tinit_type: random\n",
      "\u001b[34m\u001b[1mwandb\u001b[0m: \tlearning_rate: 0.001\n",
      "\u001b[34m\u001b[1mwandb\u001b[0m: \tmomentum: 0.9\n",
      "\u001b[34m\u001b[1mwandb\u001b[0m: \tnum_hidden_layers: 3\n",
      "\u001b[34m\u001b[1mwandb\u001b[0m: \toptimizer: momentum\n",
      "\u001b[34m\u001b[1mwandb\u001b[0m: \tweight_decay: 0\n"
     ]
    },
    {
     "data": {
      "text/html": [
       "Tracking run with wandb version 0.19.8"
      ],
      "text/plain": [
       "<IPython.core.display.HTML object>"
      ]
     },
     "metadata": {},
     "output_type": "display_data"
    },
    {
     "data": {
      "text/html": [
       "Run data is saved locally in <code>c:\\Users\\acer\\OneDrive\\Documents\\GitHub\\dl_assignment_ed24s401\\wandb\\run-20250316_205032-hp6rfeb7</code>"
      ],
      "text/plain": [
       "<IPython.core.display.HTML object>"
      ]
     },
     "metadata": {},
     "output_type": "display_data"
    },
    {
     "data": {
      "text/html": [
       "Syncing run <strong><a href='https://wandb.ai/ed24s401-indian-institute-of-technology-madras/q4_sweep_project/runs/hp6rfeb7' target=\"_blank\">upbeat-sweep-48</a></strong> to <a href='https://wandb.ai/ed24s401-indian-institute-of-technology-madras/q4_sweep_project' target=\"_blank\">Weights & Biases</a> (<a href='https://wandb.me/developer-guide' target=\"_blank\">docs</a>)<br>Sweep page: <a href='https://wandb.ai/ed24s401-indian-institute-of-technology-madras/q4_sweep_project/sweeps/p60nv46x' target=\"_blank\">https://wandb.ai/ed24s401-indian-institute-of-technology-madras/q4_sweep_project/sweeps/p60nv46x</a>"
      ],
      "text/plain": [
       "<IPython.core.display.HTML object>"
      ]
     },
     "metadata": {},
     "output_type": "display_data"
    },
    {
     "data": {
      "text/html": [
       " View project at <a href='https://wandb.ai/ed24s401-indian-institute-of-technology-madras/q4_sweep_project' target=\"_blank\">https://wandb.ai/ed24s401-indian-institute-of-technology-madras/q4_sweep_project</a>"
      ],
      "text/plain": [
       "<IPython.core.display.HTML object>"
      ]
     },
     "metadata": {},
     "output_type": "display_data"
    },
    {
     "data": {
      "text/html": [
       " View sweep at <a href='https://wandb.ai/ed24s401-indian-institute-of-technology-madras/q4_sweep_project/sweeps/p60nv46x' target=\"_blank\">https://wandb.ai/ed24s401-indian-institute-of-technology-madras/q4_sweep_project/sweeps/p60nv46x</a>"
      ],
      "text/plain": [
       "<IPython.core.display.HTML object>"
      ]
     },
     "metadata": {},
     "output_type": "display_data"
    },
    {
     "data": {
      "text/html": [
       " View run at <a href='https://wandb.ai/ed24s401-indian-institute-of-technology-madras/q4_sweep_project/runs/hp6rfeb7' target=\"_blank\">https://wandb.ai/ed24s401-indian-institute-of-technology-madras/q4_sweep_project/runs/hp6rfeb7</a>"
      ],
      "text/plain": [
       "<IPython.core.display.HTML object>"
      ]
     },
     "metadata": {},
     "output_type": "display_data"
    },
    {
     "name": "stdout",
     "output_type": "stream",
     "text": [
      "Epoch 1/10 - loss=0.6682, val_acc=0.8212, val_loss=0.4960866594166533\n",
      "Epoch 2/10 - loss=0.4613, val_acc=0.8437, val_loss=0.43831543837941583\n",
      "Epoch 3/10 - loss=0.4184, val_acc=0.8458, val_loss=0.41931714840191103\n",
      "Epoch 4/10 - loss=0.3938, val_acc=0.8570, val_loss=0.39253523318361644\n",
      "Epoch 5/10 - loss=0.3747, val_acc=0.8622, val_loss=0.37704187077881884\n",
      "Epoch 6/10 - loss=0.3616, val_acc=0.8610, val_loss=0.37511828601601077\n",
      "Epoch 7/10 - loss=0.3498, val_acc=0.8590, val_loss=0.3763203924808063\n",
      "Epoch 8/10 - loss=0.3389, val_acc=0.8700, val_loss=0.35616856559083326\n",
      "Epoch 9/10 - loss=0.3295, val_acc=0.8705, val_loss=0.35277462155179856\n",
      "Epoch 10/10 - loss=0.3230, val_acc=0.8763, val_loss=0.33946002539413217\n",
      "test accuracy  0.8677\n"
     ]
    },
    {
     "data": {
      "text/html": [],
      "text/plain": [
       "<IPython.core.display.HTML object>"
      ]
     },
     "metadata": {},
     "output_type": "display_data"
    },
    {
     "data": {
      "text/html": [
       "<br>    <style><br>        .wandb-row {<br>            display: flex;<br>            flex-direction: row;<br>            flex-wrap: wrap;<br>            justify-content: flex-start;<br>            width: 100%;<br>        }<br>        .wandb-col {<br>            display: flex;<br>            flex-direction: column;<br>            flex-basis: 100%;<br>            flex: 1;<br>            padding: 10px;<br>        }<br>    </style><br><div class=\"wandb-row\"><div class=\"wandb-col\"><h3>Run history:</h3><br/><table class=\"wandb\"><tr><td>epoch</td><td>▁▂▃▃▄▅▆▆▇█</td></tr><tr><td>test_accuracy</td><td>▁</td></tr><tr><td>training_loss</td><td>█▄▃▂▂▂▂▁▁▁</td></tr><tr><td>validation loss</td><td>█▅▅▃▃▃▃▂▂▁</td></tr><tr><td>validation_accuracy</td><td>▁▄▄▆▆▆▆▇▇█</td></tr></table><br/></div><div class=\"wandb-col\"><h3>Run summary:</h3><br/><table class=\"wandb\"><tr><td>epoch</td><td>10</td></tr><tr><td>test_accuracy</td><td>0.8677</td></tr><tr><td>training_loss</td><td>0.323</td></tr><tr><td>validation loss</td><td>0.33946</td></tr><tr><td>validation_accuracy</td><td>0.87633</td></tr></table><br/></div></div>"
      ],
      "text/plain": [
       "<IPython.core.display.HTML object>"
      ]
     },
     "metadata": {},
     "output_type": "display_data"
    },
    {
     "data": {
      "text/html": [
       " View run <strong style=\"color:#cdcd00\">hl_3_bs_32_ac_tanh_opt_momentum</strong> at: <a href='https://wandb.ai/ed24s401-indian-institute-of-technology-madras/q4_sweep_project/runs/hp6rfeb7' target=\"_blank\">https://wandb.ai/ed24s401-indian-institute-of-technology-madras/q4_sweep_project/runs/hp6rfeb7</a><br> View project at: <a href='https://wandb.ai/ed24s401-indian-institute-of-technology-madras/q4_sweep_project' target=\"_blank\">https://wandb.ai/ed24s401-indian-institute-of-technology-madras/q4_sweep_project</a><br>Synced 5 W&B file(s), 0 media file(s), 0 artifact file(s) and 0 other file(s)"
      ],
      "text/plain": [
       "<IPython.core.display.HTML object>"
      ]
     },
     "metadata": {},
     "output_type": "display_data"
    },
    {
     "data": {
      "text/html": [
       "Find logs at: <code>.\\wandb\\run-20250316_205032-hp6rfeb7\\logs</code>"
      ],
      "text/plain": [
       "<IPython.core.display.HTML object>"
      ]
     },
     "metadata": {},
     "output_type": "display_data"
    },
    {
     "name": "stderr",
     "output_type": "stream",
     "text": [
      "\u001b[34m\u001b[1mwandb\u001b[0m: Agent Starting Run: vpvdawoy with config:\n",
      "\u001b[34m\u001b[1mwandb\u001b[0m: \tactivation: sigmoid\n",
      "\u001b[34m\u001b[1mwandb\u001b[0m: \tbatch_size: 32\n",
      "\u001b[34m\u001b[1mwandb\u001b[0m: \tbeta1: 0.9\n",
      "\u001b[34m\u001b[1mwandb\u001b[0m: \tbeta2: 0.999\n",
      "\u001b[34m\u001b[1mwandb\u001b[0m: \tbeta_rms: 0.9\n",
      "\u001b[34m\u001b[1mwandb\u001b[0m: \tepochs: 10\n",
      "\u001b[34m\u001b[1mwandb\u001b[0m: \tepsilon: 1e-08\n",
      "\u001b[34m\u001b[1mwandb\u001b[0m: \thidden_size: 64\n",
      "\u001b[34m\u001b[1mwandb\u001b[0m: \tinit_type: random\n",
      "\u001b[34m\u001b[1mwandb\u001b[0m: \tlearning_rate: 0.001\n",
      "\u001b[34m\u001b[1mwandb\u001b[0m: \tmomentum: 0.8\n",
      "\u001b[34m\u001b[1mwandb\u001b[0m: \tnum_hidden_layers: 3\n",
      "\u001b[34m\u001b[1mwandb\u001b[0m: \toptimizer: nadam\n",
      "\u001b[34m\u001b[1mwandb\u001b[0m: \tweight_decay: 0\n"
     ]
    },
    {
     "data": {
      "text/html": [
       "Tracking run with wandb version 0.19.8"
      ],
      "text/plain": [
       "<IPython.core.display.HTML object>"
      ]
     },
     "metadata": {},
     "output_type": "display_data"
    },
    {
     "data": {
      "text/html": [
       "Run data is saved locally in <code>c:\\Users\\acer\\OneDrive\\Documents\\GitHub\\dl_assignment_ed24s401\\wandb\\run-20250316_205058-vpvdawoy</code>"
      ],
      "text/plain": [
       "<IPython.core.display.HTML object>"
      ]
     },
     "metadata": {},
     "output_type": "display_data"
    },
    {
     "data": {
      "text/html": [
       "Syncing run <strong><a href='https://wandb.ai/ed24s401-indian-institute-of-technology-madras/q4_sweep_project/runs/vpvdawoy' target=\"_blank\">happy-sweep-49</a></strong> to <a href='https://wandb.ai/ed24s401-indian-institute-of-technology-madras/q4_sweep_project' target=\"_blank\">Weights & Biases</a> (<a href='https://wandb.me/developer-guide' target=\"_blank\">docs</a>)<br>Sweep page: <a href='https://wandb.ai/ed24s401-indian-institute-of-technology-madras/q4_sweep_project/sweeps/p60nv46x' target=\"_blank\">https://wandb.ai/ed24s401-indian-institute-of-technology-madras/q4_sweep_project/sweeps/p60nv46x</a>"
      ],
      "text/plain": [
       "<IPython.core.display.HTML object>"
      ]
     },
     "metadata": {},
     "output_type": "display_data"
    },
    {
     "data": {
      "text/html": [
       " View project at <a href='https://wandb.ai/ed24s401-indian-institute-of-technology-madras/q4_sweep_project' target=\"_blank\">https://wandb.ai/ed24s401-indian-institute-of-technology-madras/q4_sweep_project</a>"
      ],
      "text/plain": [
       "<IPython.core.display.HTML object>"
      ]
     },
     "metadata": {},
     "output_type": "display_data"
    },
    {
     "data": {
      "text/html": [
       " View sweep at <a href='https://wandb.ai/ed24s401-indian-institute-of-technology-madras/q4_sweep_project/sweeps/p60nv46x' target=\"_blank\">https://wandb.ai/ed24s401-indian-institute-of-technology-madras/q4_sweep_project/sweeps/p60nv46x</a>"
      ],
      "text/plain": [
       "<IPython.core.display.HTML object>"
      ]
     },
     "metadata": {},
     "output_type": "display_data"
    },
    {
     "data": {
      "text/html": [
       " View run at <a href='https://wandb.ai/ed24s401-indian-institute-of-technology-madras/q4_sweep_project/runs/vpvdawoy' target=\"_blank\">https://wandb.ai/ed24s401-indian-institute-of-technology-madras/q4_sweep_project/runs/vpvdawoy</a>"
      ],
      "text/plain": [
       "<IPython.core.display.HTML object>"
      ]
     },
     "metadata": {},
     "output_type": "display_data"
    },
    {
     "name": "stdout",
     "output_type": "stream",
     "text": [
      "Epoch 1/10 - loss=0.7300, val_acc=0.8450, val_loss=0.4435416368954084\n",
      "Epoch 2/10 - loss=0.4073, val_acc=0.8620, val_loss=0.3860047900777413\n",
      "Epoch 3/10 - loss=0.3647, val_acc=0.8710, val_loss=0.36089079914533434\n",
      "Epoch 4/10 - loss=0.3395, val_acc=0.8740, val_loss=0.3447158601452188\n",
      "Epoch 5/10 - loss=0.3219, val_acc=0.8697, val_loss=0.3428662401267571\n",
      "Epoch 6/10 - loss=0.3082, val_acc=0.8785, val_loss=0.3388292589004029\n",
      "Epoch 7/10 - loss=0.2960, val_acc=0.8803, val_loss=0.3249173169138768\n",
      "Epoch 8/10 - loss=0.2861, val_acc=0.8807, val_loss=0.32296377960348327\n",
      "Epoch 9/10 - loss=0.2752, val_acc=0.8800, val_loss=0.32424029818772904\n",
      "Epoch 10/10 - loss=0.2681, val_acc=0.8812, val_loss=0.32541383176483074\n",
      "test accuracy  0.8759\n"
     ]
    },
    {
     "data": {
      "text/html": [],
      "text/plain": [
       "<IPython.core.display.HTML object>"
      ]
     },
     "metadata": {},
     "output_type": "display_data"
    },
    {
     "data": {
      "text/html": [
       "<br>    <style><br>        .wandb-row {<br>            display: flex;<br>            flex-direction: row;<br>            flex-wrap: wrap;<br>            justify-content: flex-start;<br>            width: 100%;<br>        }<br>        .wandb-col {<br>            display: flex;<br>            flex-direction: column;<br>            flex-basis: 100%;<br>            flex: 1;<br>            padding: 10px;<br>        }<br>    </style><br><div class=\"wandb-row\"><div class=\"wandb-col\"><h3>Run history:</h3><br/><table class=\"wandb\"><tr><td>epoch</td><td>▁▂▃▃▄▅▆▆▇█</td></tr><tr><td>test_accuracy</td><td>▁</td></tr><tr><td>training_loss</td><td>█▃▂▂▂▂▁▁▁▁</td></tr><tr><td>validation loss</td><td>█▅▃▂▂▂▁▁▁▁</td></tr><tr><td>validation_accuracy</td><td>▁▄▆▇▆▇████</td></tr></table><br/></div><div class=\"wandb-col\"><h3>Run summary:</h3><br/><table class=\"wandb\"><tr><td>epoch</td><td>10</td></tr><tr><td>test_accuracy</td><td>0.8759</td></tr><tr><td>training_loss</td><td>0.26814</td></tr><tr><td>validation loss</td><td>0.32541</td></tr><tr><td>validation_accuracy</td><td>0.88117</td></tr></table><br/></div></div>"
      ],
      "text/plain": [
       "<IPython.core.display.HTML object>"
      ]
     },
     "metadata": {},
     "output_type": "display_data"
    },
    {
     "data": {
      "text/html": [
       " View run <strong style=\"color:#cdcd00\">hl_3_bs_32_ac_sigmoid_opt_nadam</strong> at: <a href='https://wandb.ai/ed24s401-indian-institute-of-technology-madras/q4_sweep_project/runs/vpvdawoy' target=\"_blank\">https://wandb.ai/ed24s401-indian-institute-of-technology-madras/q4_sweep_project/runs/vpvdawoy</a><br> View project at: <a href='https://wandb.ai/ed24s401-indian-institute-of-technology-madras/q4_sweep_project' target=\"_blank\">https://wandb.ai/ed24s401-indian-institute-of-technology-madras/q4_sweep_project</a><br>Synced 5 W&B file(s), 0 media file(s), 0 artifact file(s) and 0 other file(s)"
      ],
      "text/plain": [
       "<IPython.core.display.HTML object>"
      ]
     },
     "metadata": {},
     "output_type": "display_data"
    },
    {
     "data": {
      "text/html": [
       "Find logs at: <code>.\\wandb\\run-20250316_205058-vpvdawoy\\logs</code>"
      ],
      "text/plain": [
       "<IPython.core.display.HTML object>"
      ]
     },
     "metadata": {},
     "output_type": "display_data"
    },
    {
     "name": "stderr",
     "output_type": "stream",
     "text": [
      "\u001b[34m\u001b[1mwandb\u001b[0m: Agent Starting Run: 3sdyw555 with config:\n",
      "\u001b[34m\u001b[1mwandb\u001b[0m: \tactivation: tanh\n",
      "\u001b[34m\u001b[1mwandb\u001b[0m: \tbatch_size: 32\n",
      "\u001b[34m\u001b[1mwandb\u001b[0m: \tbeta1: 0.9\n",
      "\u001b[34m\u001b[1mwandb\u001b[0m: \tbeta2: 0.999\n",
      "\u001b[34m\u001b[1mwandb\u001b[0m: \tbeta_rms: 0.9\n",
      "\u001b[34m\u001b[1mwandb\u001b[0m: \tepochs: 10\n",
      "\u001b[34m\u001b[1mwandb\u001b[0m: \tepsilon: 1e-08\n",
      "\u001b[34m\u001b[1mwandb\u001b[0m: \thidden_size: 64\n",
      "\u001b[34m\u001b[1mwandb\u001b[0m: \tinit_type: random\n",
      "\u001b[34m\u001b[1mwandb\u001b[0m: \tlearning_rate: 0.0001\n",
      "\u001b[34m\u001b[1mwandb\u001b[0m: \tmomentum: 0.8\n",
      "\u001b[34m\u001b[1mwandb\u001b[0m: \tnum_hidden_layers: 5\n",
      "\u001b[34m\u001b[1mwandb\u001b[0m: \toptimizer: nadam\n",
      "\u001b[34m\u001b[1mwandb\u001b[0m: \tweight_decay: 0.0005\n"
     ]
    },
    {
     "data": {
      "text/html": [
       "Tracking run with wandb version 0.19.8"
      ],
      "text/plain": [
       "<IPython.core.display.HTML object>"
      ]
     },
     "metadata": {},
     "output_type": "display_data"
    },
    {
     "data": {
      "text/html": [
       "Run data is saved locally in <code>c:\\Users\\acer\\OneDrive\\Documents\\GitHub\\dl_assignment_ed24s401\\wandb\\run-20250316_205141-3sdyw555</code>"
      ],
      "text/plain": [
       "<IPython.core.display.HTML object>"
      ]
     },
     "metadata": {},
     "output_type": "display_data"
    },
    {
     "data": {
      "text/html": [
       "Syncing run <strong><a href='https://wandb.ai/ed24s401-indian-institute-of-technology-madras/q4_sweep_project/runs/3sdyw555' target=\"_blank\">ruby-sweep-50</a></strong> to <a href='https://wandb.ai/ed24s401-indian-institute-of-technology-madras/q4_sweep_project' target=\"_blank\">Weights & Biases</a> (<a href='https://wandb.me/developer-guide' target=\"_blank\">docs</a>)<br>Sweep page: <a href='https://wandb.ai/ed24s401-indian-institute-of-technology-madras/q4_sweep_project/sweeps/p60nv46x' target=\"_blank\">https://wandb.ai/ed24s401-indian-institute-of-technology-madras/q4_sweep_project/sweeps/p60nv46x</a>"
      ],
      "text/plain": [
       "<IPython.core.display.HTML object>"
      ]
     },
     "metadata": {},
     "output_type": "display_data"
    },
    {
     "data": {
      "text/html": [
       " View project at <a href='https://wandb.ai/ed24s401-indian-institute-of-technology-madras/q4_sweep_project' target=\"_blank\">https://wandb.ai/ed24s401-indian-institute-of-technology-madras/q4_sweep_project</a>"
      ],
      "text/plain": [
       "<IPython.core.display.HTML object>"
      ]
     },
     "metadata": {},
     "output_type": "display_data"
    },
    {
     "data": {
      "text/html": [
       " View sweep at <a href='https://wandb.ai/ed24s401-indian-institute-of-technology-madras/q4_sweep_project/sweeps/p60nv46x' target=\"_blank\">https://wandb.ai/ed24s401-indian-institute-of-technology-madras/q4_sweep_project/sweeps/p60nv46x</a>"
      ],
      "text/plain": [
       "<IPython.core.display.HTML object>"
      ]
     },
     "metadata": {},
     "output_type": "display_data"
    },
    {
     "data": {
      "text/html": [
       " View run at <a href='https://wandb.ai/ed24s401-indian-institute-of-technology-madras/q4_sweep_project/runs/3sdyw555' target=\"_blank\">https://wandb.ai/ed24s401-indian-institute-of-technology-madras/q4_sweep_project/runs/3sdyw555</a>"
      ],
      "text/plain": [
       "<IPython.core.display.HTML object>"
      ]
     },
     "metadata": {},
     "output_type": "display_data"
    },
    {
     "name": "stdout",
     "output_type": "stream",
     "text": [
      "Epoch 1/10 - loss=0.8478, val_acc=0.8262, val_loss=0.4783358270358508\n",
      "Epoch 2/10 - loss=0.5955, val_acc=0.8448, val_loss=0.4267881054358972\n",
      "Epoch 3/10 - loss=0.5490, val_acc=0.8573, val_loss=0.38842400722619513\n",
      "Epoch 4/10 - loss=0.5226, val_acc=0.8627, val_loss=0.3748567832569485\n",
      "Epoch 5/10 - loss=0.5039, val_acc=0.8683, val_loss=0.35971185546307394\n",
      "Epoch 6/10 - loss=0.4890, val_acc=0.8708, val_loss=0.3480860320712212\n",
      "Epoch 7/10 - loss=0.4764, val_acc=0.8732, val_loss=0.34536249464667107\n",
      "Epoch 8/10 - loss=0.4656, val_acc=0.8803, val_loss=0.332780731479129\n",
      "Epoch 9/10 - loss=0.4552, val_acc=0.8767, val_loss=0.3356068055435803\n",
      "Epoch 10/10 - loss=0.4470, val_acc=0.8777, val_loss=0.33938896037424465\n",
      "test accuracy  0.8696\n"
     ]
    },
    {
     "data": {
      "text/html": [],
      "text/plain": [
       "<IPython.core.display.HTML object>"
      ]
     },
     "metadata": {},
     "output_type": "display_data"
    },
    {
     "data": {
      "text/html": [
       "<br>    <style><br>        .wandb-row {<br>            display: flex;<br>            flex-direction: row;<br>            flex-wrap: wrap;<br>            justify-content: flex-start;<br>            width: 100%;<br>        }<br>        .wandb-col {<br>            display: flex;<br>            flex-direction: column;<br>            flex-basis: 100%;<br>            flex: 1;<br>            padding: 10px;<br>        }<br>    </style><br><div class=\"wandb-row\"><div class=\"wandb-col\"><h3>Run history:</h3><br/><table class=\"wandb\"><tr><td>epoch</td><td>▁▂▃▃▄▅▆▆▇█</td></tr><tr><td>test_accuracy</td><td>▁</td></tr><tr><td>training_loss</td><td>█▄▃▂▂▂▂▁▁▁</td></tr><tr><td>validation loss</td><td>█▆▄▃▂▂▂▁▁▁</td></tr><tr><td>validation_accuracy</td><td>▁▃▅▆▆▇▇███</td></tr></table><br/></div><div class=\"wandb-col\"><h3>Run summary:</h3><br/><table class=\"wandb\"><tr><td>epoch</td><td>10</td></tr><tr><td>test_accuracy</td><td>0.8696</td></tr><tr><td>training_loss</td><td>0.44701</td></tr><tr><td>validation loss</td><td>0.33939</td></tr><tr><td>validation_accuracy</td><td>0.87767</td></tr></table><br/></div></div>"
      ],
      "text/plain": [
       "<IPython.core.display.HTML object>"
      ]
     },
     "metadata": {},
     "output_type": "display_data"
    },
    {
     "data": {
      "text/html": [
       " View run <strong style=\"color:#cdcd00\">hl_5_bs_32_ac_tanh_opt_nadam</strong> at: <a href='https://wandb.ai/ed24s401-indian-institute-of-technology-madras/q4_sweep_project/runs/3sdyw555' target=\"_blank\">https://wandb.ai/ed24s401-indian-institute-of-technology-madras/q4_sweep_project/runs/3sdyw555</a><br> View project at: <a href='https://wandb.ai/ed24s401-indian-institute-of-technology-madras/q4_sweep_project' target=\"_blank\">https://wandb.ai/ed24s401-indian-institute-of-technology-madras/q4_sweep_project</a><br>Synced 5 W&B file(s), 0 media file(s), 0 artifact file(s) and 0 other file(s)"
      ],
      "text/plain": [
       "<IPython.core.display.HTML object>"
      ]
     },
     "metadata": {},
     "output_type": "display_data"
    },
    {
     "data": {
      "text/html": [
       "Find logs at: <code>.\\wandb\\run-20250316_205141-3sdyw555\\logs</code>"
      ],
      "text/plain": [
       "<IPython.core.display.HTML object>"
      ]
     },
     "metadata": {},
     "output_type": "display_data"
    },
    {
     "name": "stderr",
     "output_type": "stream",
     "text": [
      "\u001b[34m\u001b[1mwandb\u001b[0m: Agent Starting Run: 5lhugntd with config:\n",
      "\u001b[34m\u001b[1mwandb\u001b[0m: \tactivation: relu\n",
      "\u001b[34m\u001b[1mwandb\u001b[0m: \tbatch_size: 32\n",
      "\u001b[34m\u001b[1mwandb\u001b[0m: \tbeta1: 0.9\n",
      "\u001b[34m\u001b[1mwandb\u001b[0m: \tbeta2: 0.999\n",
      "\u001b[34m\u001b[1mwandb\u001b[0m: \tbeta_rms: 0.9\n",
      "\u001b[34m\u001b[1mwandb\u001b[0m: \tepochs: 10\n",
      "\u001b[34m\u001b[1mwandb\u001b[0m: \tepsilon: 1e-08\n",
      "\u001b[34m\u001b[1mwandb\u001b[0m: \thidden_size: 128\n",
      "\u001b[34m\u001b[1mwandb\u001b[0m: \tinit_type: xavier\n",
      "\u001b[34m\u001b[1mwandb\u001b[0m: \tlearning_rate: 0.001\n",
      "\u001b[34m\u001b[1mwandb\u001b[0m: \tmomentum: 0.8\n",
      "\u001b[34m\u001b[1mwandb\u001b[0m: \tnum_hidden_layers: 3\n",
      "\u001b[34m\u001b[1mwandb\u001b[0m: \toptimizer: adam\n",
      "\u001b[34m\u001b[1mwandb\u001b[0m: \tweight_decay: 0.0005\n"
     ]
    },
    {
     "data": {
      "text/html": [
       "Tracking run with wandb version 0.19.8"
      ],
      "text/plain": [
       "<IPython.core.display.HTML object>"
      ]
     },
     "metadata": {},
     "output_type": "display_data"
    },
    {
     "data": {
      "text/html": [
       "Run data is saved locally in <code>c:\\Users\\acer\\OneDrive\\Documents\\GitHub\\dl_assignment_ed24s401\\wandb\\run-20250316_205234-5lhugntd</code>"
      ],
      "text/plain": [
       "<IPython.core.display.HTML object>"
      ]
     },
     "metadata": {},
     "output_type": "display_data"
    },
    {
     "data": {
      "text/html": [
       "Syncing run <strong><a href='https://wandb.ai/ed24s401-indian-institute-of-technology-madras/q4_sweep_project/runs/5lhugntd' target=\"_blank\">dutiful-sweep-51</a></strong> to <a href='https://wandb.ai/ed24s401-indian-institute-of-technology-madras/q4_sweep_project' target=\"_blank\">Weights & Biases</a> (<a href='https://wandb.me/developer-guide' target=\"_blank\">docs</a>)<br>Sweep page: <a href='https://wandb.ai/ed24s401-indian-institute-of-technology-madras/q4_sweep_project/sweeps/p60nv46x' target=\"_blank\">https://wandb.ai/ed24s401-indian-institute-of-technology-madras/q4_sweep_project/sweeps/p60nv46x</a>"
      ],
      "text/plain": [
       "<IPython.core.display.HTML object>"
      ]
     },
     "metadata": {},
     "output_type": "display_data"
    },
    {
     "data": {
      "text/html": [
       " View project at <a href='https://wandb.ai/ed24s401-indian-institute-of-technology-madras/q4_sweep_project' target=\"_blank\">https://wandb.ai/ed24s401-indian-institute-of-technology-madras/q4_sweep_project</a>"
      ],
      "text/plain": [
       "<IPython.core.display.HTML object>"
      ]
     },
     "metadata": {},
     "output_type": "display_data"
    },
    {
     "data": {
      "text/html": [
       " View sweep at <a href='https://wandb.ai/ed24s401-indian-institute-of-technology-madras/q4_sweep_project/sweeps/p60nv46x' target=\"_blank\">https://wandb.ai/ed24s401-indian-institute-of-technology-madras/q4_sweep_project/sweeps/p60nv46x</a>"
      ],
      "text/plain": [
       "<IPython.core.display.HTML object>"
      ]
     },
     "metadata": {},
     "output_type": "display_data"
    },
    {
     "data": {
      "text/html": [
       " View run at <a href='https://wandb.ai/ed24s401-indian-institute-of-technology-madras/q4_sweep_project/runs/5lhugntd' target=\"_blank\">https://wandb.ai/ed24s401-indian-institute-of-technology-madras/q4_sweep_project/runs/5lhugntd</a>"
      ],
      "text/plain": [
       "<IPython.core.display.HTML object>"
      ]
     },
     "metadata": {},
     "output_type": "display_data"
    },
    {
     "name": "stdout",
     "output_type": "stream",
     "text": [
      "Epoch 1/10 - loss=0.5947, val_acc=0.8550, val_loss=0.40004481059941327\n"
     ]
    }
   ],
   "source": [
    "import numpy as np\n",
    "import wandb\n",
    "from keras.datasets import fashion_mnist\n",
    "\n",
    "\n",
    "# Neural Network Class: feed_forward_NN_4\n",
    "\n",
    "class feed_forward_NN_4:\n",
    "    def __init__(self,\n",
    "                 layers,\n",
    "                 optimizer,\n",
    "                 learning_rate,\n",
    "                 momentum,\n",
    "                 beta1,\n",
    "                 beta2,\n",
    "                 beta_rms,\n",
    "                 epsilon,\n",
    "                 weight_decay,\n",
    "                 init_type,\n",
    "                 activation\n",
    "                 ):\n",
    "    \n",
    "        \n",
    "        self.layers = layers\n",
    "        self.layer_n = len(layers)\n",
    "        self.optimizer = optimizer.lower()\n",
    "        self.lr = learning_rate\n",
    "        self.momentum = momentum\n",
    "        self.beta1 = beta1\n",
    "        self.beta2 = beta2\n",
    "        self.beta_rms = beta_rms\n",
    "        self.epsilon = epsilon\n",
    "        self.weight_decay = weight_decay\n",
    "        self.init_type = init_type.lower()\n",
    "        self.activation = activation.lower()\n",
    "        \n",
    "\n",
    "        # Initialize Weights & BiaseS\n",
    "        self.weights = []\n",
    "        self.biases = []\n",
    "        for i in range(self.layer_n - 1):\n",
    "            if self.init_type == \"xavier\":\n",
    "                # \"Xavier\" initialization\n",
    "                w = np.random.randn(layers[i], layers[i+1]) * np.sqrt(1.0 / layers[i])\n",
    "            else:\n",
    "                # \"random\" initialization\n",
    "                w = np.random.randn(layers[i], layers[i+1]) * np.sqrt(2.0 / layers[i])\n",
    "            b = np.zeros((1, layers[i+1]))\n",
    "            self.weights.append(w)\n",
    "            self.biases.append(b)\n",
    "\n",
    "        # initialize extra Params \n",
    "        if self.optimizer in [\"momentum\", \"nesterov\", \"rmsprop\", \"adam\", \"nadam\"]:\n",
    "            self.v_w = [np.zeros_like(w) for w in self.weights]\n",
    "            self.v_b = [np.zeros_like(b) for b in self.biases]\n",
    "        if self.optimizer in [\"adam\", \"nadam\"]:\n",
    "            self.m_w = [np.zeros_like(w) for w in self.weights]\n",
    "            self.m_b = [np.zeros_like(b) for b in self.biases]\n",
    "            self.t = 0\n",
    "\n",
    "    # activations \n",
    "    def sigmoid(self, x):\n",
    "        return 1 / (1 + np.exp(-np.clip(x, -500, 500)))\n",
    "    \n",
    "    def tanh(self, x):\n",
    "        return np.tanh(x)\n",
    "    \n",
    "    def relu(self, x):\n",
    "        return np.maximum(0, x)\n",
    "\n",
    "    def activate(self, x):\n",
    "        if self.activation == \"sigmoid\":\n",
    "            return self.sigmoid(x)\n",
    "        elif self.activation == \"tanh\":\n",
    "            return self.tanh(x)\n",
    "        elif self.activation == \"relu\":\n",
    "            return self.relu(x)\n",
    "        else:\n",
    "            return self.sigmoid(x) \n",
    "        \n",
    "    # derivatives\n",
    "    def derivative(self, a):\n",
    "\n",
    "        if self.activation == \"sigmoid\":\n",
    "            return a * (1 - a)\n",
    "        elif self.activation == \"tanh\":\n",
    "            return 1 - a**2\n",
    "        elif self.activation == \"relu\":\n",
    "            return (a > 0).astype(float)\n",
    "        else:\n",
    "            return a * (1 - a) \n",
    "\n",
    "    def softmax(self, x):\n",
    "        exp_x = np.exp(x - np.max(x, axis=1, keepdims=True))\n",
    "        return exp_x / np.sum(exp_x, axis=1, keepdims=True)\n",
    "\n",
    "    # Forward Pass\n",
    "    def forward_pass(self, x):\n",
    "        self.h = [x]  \n",
    "        # Hidden layers\n",
    "        for i in range(self.layer_n - 2):\n",
    "            z = np.dot(self.h[i], self.weights[i]) + self.biases[i]\n",
    "            act = self.activate(z)\n",
    "            self.h.append(act)\n",
    "        # Output layer- softmax\n",
    "        z_out = np.dot(self.h[-1], self.weights[-1]) + self.biases[-1]\n",
    "        out = self.softmax(z_out)\n",
    "        self.h.append(out)\n",
    "        return self.h\n",
    "\n",
    "    # Backward Pass\n",
    "    def backward_prop(self, y_true):\n",
    "        m = y_true.shape[0]\n",
    "        dw = [None] * (self.layer_n - 1)\n",
    "        db = [None] * (self.layer_n - 1)\n",
    "\n",
    "        # Cross-entropy derivative for output layer\n",
    "        delta = self.h[-1] - y_true  # shape: (batch_size, output_dim)\n",
    "\n",
    "        # Propagation\n",
    "        for i in reversed(range(self.layer_n - 1)):\n",
    "            dw[i] = np.dot(self.h[i].T, delta) / m\n",
    "            db[i] = np.sum(delta, axis=0, keepdims=True) / m\n",
    "            if i > 0:\n",
    "                # For hidden layers, multiply by derivative of activation\n",
    "                delta = np.dot(delta, self.weights[i].T) * self.derivative(self.h[i])\n",
    "        return dw, db\n",
    "\n",
    "    # Param Updates for \"Non-Nesterov\" \n",
    "    def _update_params(self, dw, db):\n",
    "        # Add weight decay to each gradient\n",
    "        for i in range(self.layer_n - 1):\n",
    "            dw[i] += self.weight_decay * self.weights[i]\n",
    "\n",
    "        if self.optimizer == \"sgd\":\n",
    "            for i in range(self.layer_n - 1):\n",
    "                self.weights[i] -= self.lr * dw[i]\n",
    "                self.biases[i] -= self.lr * db[i]\n",
    "\n",
    "        elif self.optimizer == \"momentum\":\n",
    "            for i in range(self.layer_n - 1):\n",
    "                self.v_w[i] = self.momentum * self.v_w[i] + dw[i]\n",
    "                self.v_b[i] = self.momentum * self.v_b[i] + db[i]\n",
    "                self.weights[i] -= self.lr * self.v_w[i]\n",
    "                self.biases[i] -= self.lr * self.v_b[i]\n",
    "\n",
    "        elif self.optimizer == \"rmsprop\":\n",
    "            for i in range(self.layer_n - 1):\n",
    "                self.v_w[i] = self.beta_rms * self.v_w[i] + (1 - self.beta_rms) * (dw[i] ** 2)\n",
    "                self.v_b[i] = self.beta_rms * self.v_b[i] + (1 - self.beta_rms) * (db[i] ** 2)\n",
    "                self.weights[i] -= self.lr * dw[i] / (np.sqrt(self.v_w[i]) + self.epsilon)\n",
    "                self.biases[i]  -= self.lr * db[i] / (np.sqrt(self.v_b[i]) + self.epsilon)\n",
    "\n",
    "        elif self.optimizer == \"adam\":\n",
    "            self.t += 1\n",
    "            for i in range(self.layer_n - 1):\n",
    "                self.m_w[i] = self.beta1 * self.m_w[i] + (1 - self.beta1) * dw[i]\n",
    "                self.m_b[i] = self.beta1 * self.m_b[i] + (1 - self.beta1) * db[i]\n",
    "                self.v_w[i] = self.beta2 * self.v_w[i] + (1 - self.beta2) * (dw[i] ** 2)\n",
    "                self.v_b[i] = self.beta2 * self.v_b[i] + (1 - self.beta2) * (db[i] ** 2)\n",
    "\n",
    "                # bias correction\n",
    "                m_w_hat = self.m_w[i] / (1 - self.beta1 ** self.t)\n",
    "                m_b_hat = self.m_b[i] / (1 - self.beta1 ** self.t)\n",
    "                v_w_hat = self.v_w[i] / (1 - self.beta2 ** self.t)\n",
    "                v_b_hat = self.v_b[i] / (1 - self.beta2 ** self.t)\n",
    "\n",
    "                self.weights[i] -= self.lr * m_w_hat / (np.sqrt(v_w_hat) + self.epsilon)\n",
    "                self.biases[i]  -= self.lr * m_b_hat / (np.sqrt(v_b_hat) + self.epsilon)\n",
    "\n",
    "        elif self.optimizer == \"nadam\":\n",
    "            self.t += 1\n",
    "            for i in range(self.layer_n - 1):\n",
    "                self.m_w[i] = self.beta1 * self.m_w[i] + (1 - self.beta1) * dw[i]\n",
    "                self.m_b[i] = self.beta1 * self.m_b[i] + (1 - self.beta1) * db[i]\n",
    "                self.v_w[i] = self.beta2 * self.v_w[i] + (1 - self.beta2) * (dw[i] ** 2)\n",
    "                self.v_b[i] = self.beta2 * self.v_b[i] + (1 - self.beta2) * (db[i] ** 2)\n",
    "\n",
    "                # bias correction\n",
    "                m_w_hat = self.m_w[i] / (1 - self.beta1 ** (self.t + 1))\n",
    "                m_b_hat = self.m_b[i] / (1 - self.beta1 ** (self.t + 1))\n",
    "                v_w_hat = self.v_w[i] / (1 - self.beta2 ** (self.t + 1))\n",
    "                v_b_hat = self.v_b[i] / (1 - self.beta2 ** (self.t + 1))\n",
    "\n",
    "                grad_term_w = self.beta1 * m_w_hat + (1 - self.beta1) * dw[i] / (1 - self.beta1 ** (self.t + 1))\n",
    "                grad_term_b = self.beta1 * m_b_hat + (1 - self.beta1) * db[i] / (1 - self.beta1 ** (self.t + 1))\n",
    "\n",
    "                self.weights[i] -= self.lr * grad_term_w / (np.sqrt(v_w_hat) + self.epsilon)\n",
    "                self.biases[i]  -= self.lr * grad_term_b / (np.sqrt(v_b_hat) + self.epsilon)\n",
    "\n",
    "    # Training Step  with \"Nesterov\"\n",
    "    def _train_step(self, x_batch, y_batch):\n",
    "        if self.optimizer == \"nesterov\":\n",
    "            # to look-ahead: w_look = w - momentum * v\n",
    "            for i in range(self.layer_n - 1):\n",
    "                self.weights[i] -= self.lr*self.momentum * self.v_w[i]\n",
    "                self.biases[i]  -= self.lr*self.momentum * self.v_b[i]\n",
    "\n",
    "            # Forward at the look-ahead position\n",
    "            self.forward_pass(x_batch)\n",
    "            out = self.h[-1]\n",
    "            l2_norm_weights = 0\n",
    "            for i in range(len(self.weights)):\n",
    "                l2_norm_weights += np.sum(self.weights[i] ** 2)\n",
    "            # for i in range(len(self.biases)):\n",
    "            #     l2_norm_bias += np.sum(self.biases[i] ** 2)\n",
    "                    \n",
    "            l2_norm_params = l2_norm_weights #+ l2_norm_bias\n",
    "            \n",
    "            loss = -np.mean(np.sum(y_batch * np.log(out + 1e-10), axis = 1)) +  (self.weight_decay/2) * l2_norm_params # (1e-10) to prevent underflow\n",
    "            #loss = -np.mean(np.sum(y_batch * np.log(out + 1e-10), axis=1))\n",
    "            dW, dB = self.backward_prop(y_batch)\n",
    "\n",
    "            # add weight decay here\n",
    "            for i in range(self.layer_n - 1):\n",
    "                dW[i] += self.weight_decay * self.weights[i]\n",
    "\n",
    "            # backward at the look-ahead position (go back to w_t)\n",
    "            for i in range(self.layer_n - 1):\n",
    "                self.weights[i] += self.lr*self.momentum * self.v_w[i]\n",
    "                self.biases[i]  += self.lr*self.momentum * self.v_b[i]\n",
    "\n",
    "            # update velocity: u_t = momentum*u_{t-1} + dW\n",
    "            for i in range(self.layer_n - 1):\n",
    "                self.v_w[i] = self.momentum * self.v_w[i] + dW[i]\n",
    "                self.v_b[i] = self.momentum * self.v_b[i] + dB[i]\n",
    "\n",
    "            # final param update: w = w - lr*u_t\n",
    "            for i in range(self.layer_n - 1):\n",
    "                self.weights[i] -= self.lr * self.v_w[i]\n",
    "                self.biases[i]  -= self.lr * self.v_b[i]\n",
    "\n",
    "            return loss\n",
    "        else:\n",
    "            # Normal forward/back\n",
    "            self.forward_pass(x_batch)\n",
    "            out = self.h[-1]\n",
    "\n",
    "            l2_norm_weights=0\n",
    "            l2_norm_bias= 0\n",
    "            for i in range(len(self.weights)):\n",
    "                l2_norm_weights += np.sum(self.weights[i] ** 2)\n",
    "            # for i in range(len(self.biases)):\n",
    "            #     l2_norm_bias += np.sum(self.biases[i] ** 2)\n",
    "                    \n",
    "            l2_norm_params = l2_norm_weights #+ l2_norm_bias\n",
    "            \n",
    "            loss = -np.mean(np.sum(y_batch * np.log(out + 1e-10), axis = 1)) +  (self.weight_decay/2) * l2_norm_params \n",
    "\n",
    "            #loss = -np.mean(np.sum(y_batch * np.log(out + 1e-10), axis=1))\n",
    "            dW, dB = self.backward_prop(y_batch)\n",
    "            self._update_params(dW, dB)\n",
    "            return loss\n",
    "\n",
    "    # Outer Training Loop \n",
    "    def training(self, x_train, y_train, x_val, y_val, epochs, batch_size):\n",
    "       \n",
    "        for ep in range(epochs):\n",
    "            idx = np.random.permutation(x_train.shape[0])\n",
    "            x_train_shuff = x_train[idx]\n",
    "            y_train_shuff = y_train[idx]\n",
    "            n_batches = len(x_train) // batch_size\n",
    "            epoch_loss = 0.0\n",
    "            for b in range(n_batches):\n",
    "                start = b * batch_size\n",
    "                end = start + batch_size\n",
    "                x_batch = x_train_shuff[start:end]\n",
    "                y_batch = y_train_shuff[start:end]\n",
    "                loss = self._train_step(x_batch, y_batch)\n",
    "                epoch_loss += loss\n",
    "            avg_loss = epoch_loss / n_batches\n",
    "\n",
    "            # Validation\n",
    "\n",
    "            preds = self.predict(x_val)\n",
    "            val_labels = np.argmax(y_val, axis=1)\n",
    "            val_acc = np.mean(preds == val_labels)\n",
    "\n",
    "            val_outputs = self.forward_pass(x_val)[-1]\n",
    "        \n",
    "            # Cross-entropy loss for validation\n",
    "            val_loss = -np.mean(np.sum(y_val * np.log(val_outputs + 1e-10), axis=1))\n",
    "\n",
    "            # Log metrics to wandb\n",
    "            wandb.log({\"epoch\": ep+1, \"training_loss\": avg_loss, \"validation_accuracy\": val_acc, \"validation loss\": val_loss})\n",
    "            print(f\"Epoch {ep+1}/{epochs} - loss={avg_loss:.4f}, val_acc={val_acc:.4f}, val_loss={val_loss}\" )\n",
    "\n",
    "    #Prediction \n",
    "    def predict(self, X):\n",
    "        self.forward_pass(X)\n",
    "        return np.argmax(self.h[-1], axis=1)\n",
    "\n",
    "\n",
    "\n",
    "\n",
    "# (x_train_full, y_train_full), (x_test, y_test) = fashion_mnist.load_data()\n",
    "# x_train_full = x_train_full.reshape(x_train_full.shape[0], -1) / 255.0\n",
    "# x_test = x_test.reshape(x_test.shape[0], -1) / 255.0\n",
    "\n",
    "# np.random.seed(42)\n",
    "# idx = np.arange(x_train_full.shape[0])\n",
    "# np.random.shuffle(idx)\n",
    "# x_train_full = x_train_full[idx]\n",
    "# y_train_full = y_train_full[idx]\n",
    "\n",
    "# # 90% training, 10% validation \n",
    "# train_size=int(.9*len(x_train_full))\n",
    "\n",
    "# x_train, y_train=x_train_full[:train_size],y_train_full[:train_size]\n",
    "# x_val, y_val=x_train_full[train_size:], y_train_full[train_size:]\n",
    "\n",
    "# num_classes = 10\n",
    "# y_train_1h = np.eye(num_classes)[y_train]\n",
    "# y_val_1h = np.eye(num_classes)[y_val]\n",
    "# y_test_1h = np.eye(num_classes)[y_test]\n",
    "\n",
    "# # model\n",
    "# model = feed_forward_NN_4(\n",
    "#     layers=[784] + [32] *3 + [10],\n",
    "# optimizer=\"nesterov\",\n",
    "# learning_rate=0.01,\n",
    "# momentum=0.9,\n",
    "# beta1=0.9,\n",
    "# beta2=0.999,\n",
    "# beta_rms=0.9,\n",
    "# epsilon=1e-4,\n",
    "# weight_decay=0.0005,\n",
    "# init_type=\"xavier\",\n",
    "# activation=\"relu\")\n",
    "\n",
    "#     # Train the model\n",
    "# model.training(\n",
    "#         x_train=x_train,\n",
    "#         y_train=y_train_1h,\n",
    "#         x_val=x_val,\n",
    "#         y_val=y_val_1h,\n",
    "#         epochs=10,\n",
    "#         batch_size=32\n",
    "#     )\n",
    "\n",
    "#     #Evaluation on test set\n",
    "# test_preds = model.predict(x_test)\n",
    "# test_labels = np.argmax(y_test_1h, axis=1)\n",
    "# test_acc = np.mean(test_preds == test_labels)\n",
    "# print(\"test accuracy \",test_acc)\n",
    "# #wandb.log({\"test_accuracy\": test_acc})\n",
    "\n",
    "\n",
    "\n",
    "\n",
    "# train_sweep() function\n",
    "\n",
    "def train_sweep():\n",
    "    # Initialize wandb\n",
    "    wandb.init()\n",
    "    config = wandb.config\n",
    "\n",
    "    #custom run name from hyperparameters\n",
    "    run_name = f\"hl_{config.num_hidden_layers}_bs_{config.batch_size}_ac_{config.activation}_opt_{config.optimizer}\"\n",
    "    wandb.run.name = run_name\n",
    "\n",
    "    # Load Fashion-MNIST\n",
    "    (x_train_full, y_train_full), (x_test, y_test) = fashion_mnist.load_data()\n",
    "    x_train_full = x_train_full.reshape(x_train_full.shape[0], -1) / 255.0\n",
    "    x_test = x_test.reshape(x_test.shape[0], -1) / 255.0\n",
    "\n",
    "    np.random.seed(42)\n",
    "    idx = np.arange(x_train_full.shape[0])\n",
    "    np.random.shuffle(idx)\n",
    "    x_train_full = x_train_full[idx]\n",
    "    y_train_full = y_train_full[idx]\n",
    "\n",
    "    # 90% training, 10% validation \n",
    "    train_size=int(.9*len(x_train_full))\n",
    "\n",
    "    x_train, y_train=x_train_full[:train_size],y_train_full[:train_size]\n",
    "    x_val, y_val=x_train_full[train_size:], y_train_full[train_size:]\n",
    "\n",
    "    num_classes = 10\n",
    "    y_train_1h = np.eye(num_classes)[y_train]\n",
    "    y_val_1h = np.eye(num_classes)[y_val]\n",
    "    y_test_1h = np.eye(num_classes)[y_test]\n",
    "\n",
    "    # model\n",
    "    model = feed_forward_NN_4(\n",
    "        layers=[784] + [config.hidden_size] * config.num_hidden_layers + [10],\n",
    "        optimizer=config.optimizer,\n",
    "        learning_rate=config.learning_rate,\n",
    "        momentum=config.momentum,\n",
    "        beta1=config.beta1,\n",
    "        beta2=config.beta2,\n",
    "        beta_rms=config.beta_rms,\n",
    "        epsilon=config.epsilon,\n",
    "        weight_decay=config.weight_decay,\n",
    "        init_type=config.init_type,\n",
    "        activation=config.activation\n",
    "    )\n",
    "\n",
    "    # Train the model\n",
    "    model.training(\n",
    "        x_train=x_train,\n",
    "        y_train=y_train_1h,\n",
    "        x_val=x_val,\n",
    "        y_val=y_val_1h,\n",
    "        epochs=config.epochs,\n",
    "        batch_size=config.batch_size\n",
    "    )\n",
    "\n",
    "    #Evaluation on test set\n",
    "    test_preds = model.predict(x_test)\n",
    "    test_labels = np.argmax(y_test_1h, axis=1)\n",
    "    test_acc = np.mean(test_preds == test_labels)\n",
    "    \n",
    "    wandb.log({\"test_accuracy\": test_acc})\n",
    "    print(\"test accuracy \",test_acc)\n",
    "\n",
    "\n",
    "# sweep configuration\n",
    "sweep_config = {\n",
    "    \"method\": \"random\", \n",
    "    \"metric\": {\n",
    "        \"name\": \"validation_accuracy\",\n",
    "        \"goal\": \"maximize\"\n",
    "    },\n",
    "    \"parameters\": {\n",
    "        \"epochs\": {\"values\": [10]},\n",
    "        \"num_hidden_layers\": {\"values\": [3,5]},\n",
    "        \"hidden_size\": {\"values\": [64, 128]},\n",
    "        \"weight_decay\": {\"values\": [0.0, 0.0005]},\n",
    "        \"learning_rate\": {\"values\": [1e-3, 1e-4]},\n",
    "        \"optimizer\": {\"values\": [\"momentum\", \"nesterov\", \"rmsprop\", \"adam\", \"nadam\"]},\n",
    "        \"batch_size\": {\"values\": [32]},\n",
    "        \"init_type\": {\"values\": [\"random\", \"xavier\"]},\n",
    "        \"activation\": {\"values\": [\"sigmoid\", \"tanh\", \"relu\"]},\n",
    "        \"momentum\": {\"values\": [0.8, 0.9]},\n",
    "        \"beta1\": {\"values\": [0.9]},\n",
    "        \"beta2\": {\"values\": [0.999]},\n",
    "        \"beta_rms\": {\"values\": [0.9]},\n",
    "        \"epsilon\": {\"values\": [1e-8]}\n",
    "    }\n",
    "}\n",
    "\n",
    "# Running the sweep\n",
    "\n",
    "if __name__ == \"__main__\":\n",
    "    # Creating sweep\n",
    "    sweep_id = wandb.sweep(sweep_config, project=\"q4_sweep_project\")\n",
    "    # Launching sweep agent\n",
    "    wandb.agent(sweep_id, function=train_sweep)\n"
   ]
  },
  {
   "cell_type": "code",
   "execution_count": null,
   "metadata": {},
   "outputs": [],
   "source": []
  }
 ],
 "metadata": {
  "kernelspec": {
   "display_name": "Python 3",
   "language": "python",
   "name": "python3"
  },
  "language_info": {
   "codemirror_mode": {
    "name": "ipython",
    "version": 3
   },
   "file_extension": ".py",
   "mimetype": "text/x-python",
   "name": "python",
   "nbconvert_exporter": "python",
   "pygments_lexer": "ipython3",
   "version": "3.11.6"
  }
 },
 "nbformat": 4,
 "nbformat_minor": 2
}
