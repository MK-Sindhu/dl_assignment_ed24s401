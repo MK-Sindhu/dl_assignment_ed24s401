{
 "cells": [
  {
   "cell_type": "code",
   "execution_count": null,
   "metadata": {},
   "outputs": [
    {
     "name": "stderr",
     "output_type": "stream",
     "text": [
      "\u001b[34m\u001b[1mwandb\u001b[0m: Using wandb-core as the SDK backend.  Please refer to https://wandb.me/wandb-core for more information.\n"
     ]
    },
    {
     "name": "stdout",
     "output_type": "stream",
     "text": [
      "Create sweep with ID: p60nv46x\n",
      "Sweep URL: https://wandb.ai/ed24s401-indian-institute-of-technology-madras/q4_sweep_project/sweeps/p60nv46x\n"
     ]
    },
    {
     "name": "stderr",
     "output_type": "stream",
     "text": [
      "\u001b[34m\u001b[1mwandb\u001b[0m: Agent Starting Run: 983zh0zp with config:\n",
      "\u001b[34m\u001b[1mwandb\u001b[0m: \tactivation: relu\n",
      "\u001b[34m\u001b[1mwandb\u001b[0m: \tbatch_size: 32\n",
      "\u001b[34m\u001b[1mwandb\u001b[0m: \tbeta1: 0.9\n",
      "\u001b[34m\u001b[1mwandb\u001b[0m: \tbeta2: 0.999\n",
      "\u001b[34m\u001b[1mwandb\u001b[0m: \tbeta_rms: 0.9\n",
      "\u001b[34m\u001b[1mwandb\u001b[0m: \tepochs: 10\n",
      "\u001b[34m\u001b[1mwandb\u001b[0m: \tepsilon: 1e-08\n",
      "\u001b[34m\u001b[1mwandb\u001b[0m: \thidden_size: 64\n",
      "\u001b[34m\u001b[1mwandb\u001b[0m: \tinit_type: random\n",
      "\u001b[34m\u001b[1mwandb\u001b[0m: \tlearning_rate: 0.001\n",
      "\u001b[34m\u001b[1mwandb\u001b[0m: \tmomentum: 0.9\n",
      "\u001b[34m\u001b[1mwandb\u001b[0m: \tnum_hidden_layers: 5\n",
      "\u001b[34m\u001b[1mwandb\u001b[0m: \toptimizer: rmsprop\n",
      "\u001b[34m\u001b[1mwandb\u001b[0m: \tweight_decay: 0\n",
      "\u001b[34m\u001b[1mwandb\u001b[0m: Currently logged in as: \u001b[33med24s401\u001b[0m (\u001b[33med24s401-indian-institute-of-technology-madras\u001b[0m) to \u001b[32mhttps://api.wandb.ai\u001b[0m. Use \u001b[1m`wandb login --relogin`\u001b[0m to force relogin\n"
     ]
    },
    {
     "data": {
      "text/html": [
       "Waiting for wandb.init()..."
      ],
      "text/plain": [
       "<IPython.core.display.HTML object>"
      ]
     },
     "metadata": {},
     "output_type": "display_data"
    },
    {
     "data": {
      "text/html": [
       "Tracking run with wandb version 0.19.8"
      ],
      "text/plain": [
       "<IPython.core.display.HTML object>"
      ]
     },
     "metadata": {},
     "output_type": "display_data"
    },
    {
     "data": {
      "text/html": [
       "Run data is saved locally in <code>c:\\Users\\acer\\OneDrive\\Documents\\GitHub\\dl_assignment_ed24s401\\wandb\\run-20250316_194620-983zh0zp</code>"
      ],
      "text/plain": [
       "<IPython.core.display.HTML object>"
      ]
     },
     "metadata": {},
     "output_type": "display_data"
    },
    {
     "data": {
      "text/html": [
       "Syncing run <strong><a href='https://wandb.ai/ed24s401-indian-institute-of-technology-madras/q4_sweep_project/runs/983zh0zp' target=\"_blank\">wild-sweep-1</a></strong> to <a href='https://wandb.ai/ed24s401-indian-institute-of-technology-madras/q4_sweep_project' target=\"_blank\">Weights & Biases</a> (<a href='https://wandb.me/developer-guide' target=\"_blank\">docs</a>)<br>Sweep page: <a href='https://wandb.ai/ed24s401-indian-institute-of-technology-madras/q4_sweep_project/sweeps/p60nv46x' target=\"_blank\">https://wandb.ai/ed24s401-indian-institute-of-technology-madras/q4_sweep_project/sweeps/p60nv46x</a>"
      ],
      "text/plain": [
       "<IPython.core.display.HTML object>"
      ]
     },
     "metadata": {},
     "output_type": "display_data"
    },
    {
     "data": {
      "text/html": [
       " View project at <a href='https://wandb.ai/ed24s401-indian-institute-of-technology-madras/q4_sweep_project' target=\"_blank\">https://wandb.ai/ed24s401-indian-institute-of-technology-madras/q4_sweep_project</a>"
      ],
      "text/plain": [
       "<IPython.core.display.HTML object>"
      ]
     },
     "metadata": {},
     "output_type": "display_data"
    },
    {
     "data": {
      "text/html": [
       " View sweep at <a href='https://wandb.ai/ed24s401-indian-institute-of-technology-madras/q4_sweep_project/sweeps/p60nv46x' target=\"_blank\">https://wandb.ai/ed24s401-indian-institute-of-technology-madras/q4_sweep_project/sweeps/p60nv46x</a>"
      ],
      "text/plain": [
       "<IPython.core.display.HTML object>"
      ]
     },
     "metadata": {},
     "output_type": "display_data"
    },
    {
     "data": {
      "text/html": [
       " View run at <a href='https://wandb.ai/ed24s401-indian-institute-of-technology-madras/q4_sweep_project/runs/983zh0zp' target=\"_blank\">https://wandb.ai/ed24s401-indian-institute-of-technology-madras/q4_sweep_project/runs/983zh0zp</a>"
      ],
      "text/plain": [
       "<IPython.core.display.HTML object>"
      ]
     },
     "metadata": {},
     "output_type": "display_data"
    },
    {
     "name": "stdout",
     "output_type": "stream",
     "text": [
      "Epoch 1/10 - loss=0.5553, val_acc=0.8282, val_loss=0.4502716316380152\n",
      "Epoch 2/10 - loss=0.4163, val_acc=0.8480, val_loss=0.42432164110251913\n",
      "Epoch 3/10 - loss=0.3919, val_acc=0.8623, val_loss=0.3812924125999896\n",
      "Epoch 4/10 - loss=0.3840, val_acc=0.8690, val_loss=0.4012169075061982\n",
      "Epoch 5/10 - loss=0.3837, val_acc=0.8687, val_loss=0.39931507821164314\n",
      "Epoch 6/10 - loss=0.3857, val_acc=0.8615, val_loss=0.40627183501358344\n",
      "Epoch 7/10 - loss=0.3884, val_acc=0.8632, val_loss=0.4016074682796713\n",
      "Epoch 8/10 - loss=0.3928, val_acc=0.8398, val_loss=0.5069759598151149\n",
      "Epoch 9/10 - loss=0.3916, val_acc=0.8578, val_loss=0.4444773724894061\n",
      "Epoch 10/10 - loss=0.3890, val_acc=0.8718, val_loss=0.42694463804726085\n",
      "test accuracy  0.8656\n"
     ]
    },
    {
     "data": {
      "text/html": [],
      "text/plain": [
       "<IPython.core.display.HTML object>"
      ]
     },
     "metadata": {},
     "output_type": "display_data"
    },
    {
     "data": {
      "text/html": [
       "<br>    <style><br>        .wandb-row {<br>            display: flex;<br>            flex-direction: row;<br>            flex-wrap: wrap;<br>            justify-content: flex-start;<br>            width: 100%;<br>        }<br>        .wandb-col {<br>            display: flex;<br>            flex-direction: column;<br>            flex-basis: 100%;<br>            flex: 1;<br>            padding: 10px;<br>        }<br>    </style><br><div class=\"wandb-row\"><div class=\"wandb-col\"><h3>Run history:</h3><br/><table class=\"wandb\"><tr><td>epoch</td><td>▁▂▃▃▄▅▆▆▇█</td></tr><tr><td>test_accuracy</td><td>▁</td></tr><tr><td>training_loss</td><td>█▂▁▁▁▁▁▁▁▁</td></tr><tr><td>validation loss</td><td>▅▃▁▂▂▂▂█▅▄</td></tr><tr><td>validation_accuracy</td><td>▁▄▆█▇▆▇▃▆█</td></tr></table><br/></div><div class=\"wandb-col\"><h3>Run summary:</h3><br/><table class=\"wandb\"><tr><td>epoch</td><td>10</td></tr><tr><td>test_accuracy</td><td>0.8656</td></tr><tr><td>training_loss</td><td>0.38904</td></tr><tr><td>validation loss</td><td>0.42694</td></tr><tr><td>validation_accuracy</td><td>0.87183</td></tr></table><br/></div></div>"
      ],
      "text/plain": [
       "<IPython.core.display.HTML object>"
      ]
     },
     "metadata": {},
     "output_type": "display_data"
    },
    {
     "data": {
      "text/html": [
       " View run <strong style=\"color:#cdcd00\">hl_5_bs_32_ac_relu_opt_rmsprop</strong> at: <a href='https://wandb.ai/ed24s401-indian-institute-of-technology-madras/q4_sweep_project/runs/983zh0zp' target=\"_blank\">https://wandb.ai/ed24s401-indian-institute-of-technology-madras/q4_sweep_project/runs/983zh0zp</a><br> View project at: <a href='https://wandb.ai/ed24s401-indian-institute-of-technology-madras/q4_sweep_project' target=\"_blank\">https://wandb.ai/ed24s401-indian-institute-of-technology-madras/q4_sweep_project</a><br>Synced 5 W&B file(s), 0 media file(s), 0 artifact file(s) and 0 other file(s)"
      ],
      "text/plain": [
       "<IPython.core.display.HTML object>"
      ]
     },
     "metadata": {},
     "output_type": "display_data"
    },
    {
     "data": {
      "text/html": [
       "Find logs at: <code>.\\wandb\\run-20250316_194620-983zh0zp\\logs</code>"
      ],
      "text/plain": [
       "<IPython.core.display.HTML object>"
      ]
     },
     "metadata": {},
     "output_type": "display_data"
    },
    {
     "name": "stderr",
     "output_type": "stream",
     "text": [
      "\u001b[34m\u001b[1mwandb\u001b[0m: Agent Starting Run: uovgr4vw with config:\n",
      "\u001b[34m\u001b[1mwandb\u001b[0m: \tactivation: relu\n",
      "\u001b[34m\u001b[1mwandb\u001b[0m: \tbatch_size: 32\n",
      "\u001b[34m\u001b[1mwandb\u001b[0m: \tbeta1: 0.9\n",
      "\u001b[34m\u001b[1mwandb\u001b[0m: \tbeta2: 0.999\n",
      "\u001b[34m\u001b[1mwandb\u001b[0m: \tbeta_rms: 0.9\n",
      "\u001b[34m\u001b[1mwandb\u001b[0m: \tepochs: 10\n",
      "\u001b[34m\u001b[1mwandb\u001b[0m: \tepsilon: 1e-08\n",
      "\u001b[34m\u001b[1mwandb\u001b[0m: \thidden_size: 128\n",
      "\u001b[34m\u001b[1mwandb\u001b[0m: \tinit_type: random\n",
      "\u001b[34m\u001b[1mwandb\u001b[0m: \tlearning_rate: 0.0001\n",
      "\u001b[34m\u001b[1mwandb\u001b[0m: \tmomentum: 0.9\n",
      "\u001b[34m\u001b[1mwandb\u001b[0m: \tnum_hidden_layers: 5\n",
      "\u001b[34m\u001b[1mwandb\u001b[0m: \toptimizer: rmsprop\n",
      "\u001b[34m\u001b[1mwandb\u001b[0m: \tweight_decay: 0.0005\n"
     ]
    },
    {
     "data": {
      "text/html": [
       "Tracking run with wandb version 0.19.8"
      ],
      "text/plain": [
       "<IPython.core.display.HTML object>"
      ]
     },
     "metadata": {},
     "output_type": "display_data"
    },
    {
     "data": {
      "text/html": [
       "Run data is saved locally in <code>c:\\Users\\acer\\OneDrive\\Documents\\GitHub\\dl_assignment_ed24s401\\wandb\\run-20250316_194723-uovgr4vw</code>"
      ],
      "text/plain": [
       "<IPython.core.display.HTML object>"
      ]
     },
     "metadata": {},
     "output_type": "display_data"
    },
    {
     "data": {
      "text/html": [
       "Syncing run <strong><a href='https://wandb.ai/ed24s401-indian-institute-of-technology-madras/q4_sweep_project/runs/uovgr4vw' target=\"_blank\">dulcet-sweep-2</a></strong> to <a href='https://wandb.ai/ed24s401-indian-institute-of-technology-madras/q4_sweep_project' target=\"_blank\">Weights & Biases</a> (<a href='https://wandb.me/developer-guide' target=\"_blank\">docs</a>)<br>Sweep page: <a href='https://wandb.ai/ed24s401-indian-institute-of-technology-madras/q4_sweep_project/sweeps/p60nv46x' target=\"_blank\">https://wandb.ai/ed24s401-indian-institute-of-technology-madras/q4_sweep_project/sweeps/p60nv46x</a>"
      ],
      "text/plain": [
       "<IPython.core.display.HTML object>"
      ]
     },
     "metadata": {},
     "output_type": "display_data"
    },
    {
     "data": {
      "text/html": [
       " View project at <a href='https://wandb.ai/ed24s401-indian-institute-of-technology-madras/q4_sweep_project' target=\"_blank\">https://wandb.ai/ed24s401-indian-institute-of-technology-madras/q4_sweep_project</a>"
      ],
      "text/plain": [
       "<IPython.core.display.HTML object>"
      ]
     },
     "metadata": {},
     "output_type": "display_data"
    },
    {
     "data": {
      "text/html": [
       " View sweep at <a href='https://wandb.ai/ed24s401-indian-institute-of-technology-madras/q4_sweep_project/sweeps/p60nv46x' target=\"_blank\">https://wandb.ai/ed24s401-indian-institute-of-technology-madras/q4_sweep_project/sweeps/p60nv46x</a>"
      ],
      "text/plain": [
       "<IPython.core.display.HTML object>"
      ]
     },
     "metadata": {},
     "output_type": "display_data"
    },
    {
     "data": {
      "text/html": [
       " View run at <a href='https://wandb.ai/ed24s401-indian-institute-of-technology-madras/q4_sweep_project/runs/uovgr4vw' target=\"_blank\">https://wandb.ai/ed24s401-indian-institute-of-technology-madras/q4_sweep_project/runs/uovgr4vw</a>"
      ],
      "text/plain": [
       "<IPython.core.display.HTML object>"
      ]
     },
     "metadata": {},
     "output_type": "display_data"
    },
    {
     "name": "stdout",
     "output_type": "stream",
     "text": [
      "Epoch 1/10 - loss=0.8834, val_acc=0.8267, val_loss=0.47538230296875705\n",
      "Epoch 2/10 - loss=0.6570, val_acc=0.8558, val_loss=0.39825404014473625\n",
      "Epoch 3/10 - loss=0.6084, val_acc=0.8575, val_loss=0.39168677438194544\n",
      "Epoch 4/10 - loss=0.5783, val_acc=0.8637, val_loss=0.36085865300128966\n",
      "Epoch 5/10 - loss=0.5563, val_acc=0.8707, val_loss=0.3545870458846383\n",
      "Epoch 6/10 - loss=0.5377, val_acc=0.8703, val_loss=0.34473827226874093\n",
      "Epoch 7/10 - loss=0.5217, val_acc=0.8723, val_loss=0.3401226195617471\n",
      "Epoch 8/10 - loss=0.5085, val_acc=0.8760, val_loss=0.33950222180277234\n",
      "Epoch 9/10 - loss=0.4963, val_acc=0.8757, val_loss=0.3220967424473837\n",
      "Epoch 10/10 - loss=0.4843, val_acc=0.8688, val_loss=0.343127294585632\n",
      "test accuracy  0.8675\n"
     ]
    },
    {
     "data": {
      "text/html": [],
      "text/plain": [
       "<IPython.core.display.HTML object>"
      ]
     },
     "metadata": {},
     "output_type": "display_data"
    },
    {
     "data": {
      "text/html": [
       "<br>    <style><br>        .wandb-row {<br>            display: flex;<br>            flex-direction: row;<br>            flex-wrap: wrap;<br>            justify-content: flex-start;<br>            width: 100%;<br>        }<br>        .wandb-col {<br>            display: flex;<br>            flex-direction: column;<br>            flex-basis: 100%;<br>            flex: 1;<br>            padding: 10px;<br>        }<br>    </style><br><div class=\"wandb-row\"><div class=\"wandb-col\"><h3>Run history:</h3><br/><table class=\"wandb\"><tr><td>epoch</td><td>▁▂▃▃▄▅▆▆▇█</td></tr><tr><td>test_accuracy</td><td>▁</td></tr><tr><td>training_loss</td><td>█▄▃▃▂▂▂▁▁▁</td></tr><tr><td>validation loss</td><td>█▄▄▃▂▂▂▂▁▂</td></tr><tr><td>validation_accuracy</td><td>▁▅▅▆▇▇▇██▇</td></tr></table><br/></div><div class=\"wandb-col\"><h3>Run summary:</h3><br/><table class=\"wandb\"><tr><td>epoch</td><td>10</td></tr><tr><td>test_accuracy</td><td>0.8675</td></tr><tr><td>training_loss</td><td>0.48426</td></tr><tr><td>validation loss</td><td>0.34313</td></tr><tr><td>validation_accuracy</td><td>0.86883</td></tr></table><br/></div></div>"
      ],
      "text/plain": [
       "<IPython.core.display.HTML object>"
      ]
     },
     "metadata": {},
     "output_type": "display_data"
    },
    {
     "data": {
      "text/html": [
       " View run <strong style=\"color:#cdcd00\">hl_5_bs_32_ac_relu_opt_rmsprop</strong> at: <a href='https://wandb.ai/ed24s401-indian-institute-of-technology-madras/q4_sweep_project/runs/uovgr4vw' target=\"_blank\">https://wandb.ai/ed24s401-indian-institute-of-technology-madras/q4_sweep_project/runs/uovgr4vw</a><br> View project at: <a href='https://wandb.ai/ed24s401-indian-institute-of-technology-madras/q4_sweep_project' target=\"_blank\">https://wandb.ai/ed24s401-indian-institute-of-technology-madras/q4_sweep_project</a><br>Synced 5 W&B file(s), 0 media file(s), 0 artifact file(s) and 0 other file(s)"
      ],
      "text/plain": [
       "<IPython.core.display.HTML object>"
      ]
     },
     "metadata": {},
     "output_type": "display_data"
    },
    {
     "data": {
      "text/html": [
       "Find logs at: <code>.\\wandb\\run-20250316_194723-uovgr4vw\\logs</code>"
      ],
      "text/plain": [
       "<IPython.core.display.HTML object>"
      ]
     },
     "metadata": {},
     "output_type": "display_data"
    },
    {
     "name": "stderr",
     "output_type": "stream",
     "text": [
      "\u001b[34m\u001b[1mwandb\u001b[0m: Agent Starting Run: q3c3z15h with config:\n",
      "\u001b[34m\u001b[1mwandb\u001b[0m: \tactivation: relu\n",
      "\u001b[34m\u001b[1mwandb\u001b[0m: \tbatch_size: 32\n",
      "\u001b[34m\u001b[1mwandb\u001b[0m: \tbeta1: 0.9\n",
      "\u001b[34m\u001b[1mwandb\u001b[0m: \tbeta2: 0.999\n",
      "\u001b[34m\u001b[1mwandb\u001b[0m: \tbeta_rms: 0.9\n",
      "\u001b[34m\u001b[1mwandb\u001b[0m: \tepochs: 10\n",
      "\u001b[34m\u001b[1mwandb\u001b[0m: \tepsilon: 1e-08\n",
      "\u001b[34m\u001b[1mwandb\u001b[0m: \thidden_size: 128\n",
      "\u001b[34m\u001b[1mwandb\u001b[0m: \tinit_type: random\n",
      "\u001b[34m\u001b[1mwandb\u001b[0m: \tlearning_rate: 0.0001\n",
      "\u001b[34m\u001b[1mwandb\u001b[0m: \tmomentum: 0.9\n",
      "\u001b[34m\u001b[1mwandb\u001b[0m: \tnum_hidden_layers: 3\n",
      "\u001b[34m\u001b[1mwandb\u001b[0m: \toptimizer: nesterov\n",
      "\u001b[34m\u001b[1mwandb\u001b[0m: \tweight_decay: 0\n"
     ]
    },
    {
     "data": {
      "text/html": [
       "Tracking run with wandb version 0.19.8"
      ],
      "text/plain": [
       "<IPython.core.display.HTML object>"
      ]
     },
     "metadata": {},
     "output_type": "display_data"
    },
    {
     "data": {
      "text/html": [
       "Run data is saved locally in <code>c:\\Users\\acer\\OneDrive\\Documents\\GitHub\\dl_assignment_ed24s401\\wandb\\run-20250316_194941-q3c3z15h</code>"
      ],
      "text/plain": [
       "<IPython.core.display.HTML object>"
      ]
     },
     "metadata": {},
     "output_type": "display_data"
    },
    {
     "data": {
      "text/html": [
       "Syncing run <strong><a href='https://wandb.ai/ed24s401-indian-institute-of-technology-madras/q4_sweep_project/runs/q3c3z15h' target=\"_blank\">crimson-sweep-3</a></strong> to <a href='https://wandb.ai/ed24s401-indian-institute-of-technology-madras/q4_sweep_project' target=\"_blank\">Weights & Biases</a> (<a href='https://wandb.me/developer-guide' target=\"_blank\">docs</a>)<br>Sweep page: <a href='https://wandb.ai/ed24s401-indian-institute-of-technology-madras/q4_sweep_project/sweeps/p60nv46x' target=\"_blank\">https://wandb.ai/ed24s401-indian-institute-of-technology-madras/q4_sweep_project/sweeps/p60nv46x</a>"
      ],
      "text/plain": [
       "<IPython.core.display.HTML object>"
      ]
     },
     "metadata": {},
     "output_type": "display_data"
    },
    {
     "data": {
      "text/html": [
       " View project at <a href='https://wandb.ai/ed24s401-indian-institute-of-technology-madras/q4_sweep_project' target=\"_blank\">https://wandb.ai/ed24s401-indian-institute-of-technology-madras/q4_sweep_project</a>"
      ],
      "text/plain": [
       "<IPython.core.display.HTML object>"
      ]
     },
     "metadata": {},
     "output_type": "display_data"
    },
    {
     "data": {
      "text/html": [
       " View sweep at <a href='https://wandb.ai/ed24s401-indian-institute-of-technology-madras/q4_sweep_project/sweeps/p60nv46x' target=\"_blank\">https://wandb.ai/ed24s401-indian-institute-of-technology-madras/q4_sweep_project/sweeps/p60nv46x</a>"
      ],
      "text/plain": [
       "<IPython.core.display.HTML object>"
      ]
     },
     "metadata": {},
     "output_type": "display_data"
    },
    {
     "data": {
      "text/html": [
       " View run at <a href='https://wandb.ai/ed24s401-indian-institute-of-technology-madras/q4_sweep_project/runs/q3c3z15h' target=\"_blank\">https://wandb.ai/ed24s401-indian-institute-of-technology-madras/q4_sweep_project/runs/q3c3z15h</a>"
      ],
      "text/plain": [
       "<IPython.core.display.HTML object>"
      ]
     },
     "metadata": {},
     "output_type": "display_data"
    },
    {
     "name": "stdout",
     "output_type": "stream",
     "text": [
      "Epoch 1/10 - loss=1.3440, val_acc=0.7082, val_loss=0.9073662886684932\n",
      "Epoch 2/10 - loss=0.7750, val_acc=0.7633, val_loss=0.7138991853294984\n",
      "Epoch 3/10 - loss=0.6476, val_acc=0.7920, val_loss=0.6288609369578053\n",
      "Epoch 4/10 - loss=0.5838, val_acc=0.7983, val_loss=0.5806358211738426\n",
      "Epoch 5/10 - loss=0.5445, val_acc=0.8093, val_loss=0.5485756062703193\n",
      "Epoch 6/10 - loss=0.5190, val_acc=0.8168, val_loss=0.5264923467970231\n",
      "Epoch 7/10 - loss=0.4991, val_acc=0.8190, val_loss=0.5119154577780011\n",
      "Epoch 8/10 - loss=0.4842, val_acc=0.8245, val_loss=0.4939587734489917\n",
      "Epoch 9/10 - loss=0.4717, val_acc=0.8273, val_loss=0.48385537928223477\n",
      "Epoch 10/10 - loss=0.4610, val_acc=0.8283, val_loss=0.477346511452069\n",
      "test accuracy  0.8235\n"
     ]
    },
    {
     "data": {
      "text/html": [],
      "text/plain": [
       "<IPython.core.display.HTML object>"
      ]
     },
     "metadata": {},
     "output_type": "display_data"
    },
    {
     "data": {
      "text/html": [
       "<br>    <style><br>        .wandb-row {<br>            display: flex;<br>            flex-direction: row;<br>            flex-wrap: wrap;<br>            justify-content: flex-start;<br>            width: 100%;<br>        }<br>        .wandb-col {<br>            display: flex;<br>            flex-direction: column;<br>            flex-basis: 100%;<br>            flex: 1;<br>            padding: 10px;<br>        }<br>    </style><br><div class=\"wandb-row\"><div class=\"wandb-col\"><h3>Run history:</h3><br/><table class=\"wandb\"><tr><td>epoch</td><td>▁▂▃▃▄▅▆▆▇█</td></tr><tr><td>test_accuracy</td><td>▁</td></tr><tr><td>training_loss</td><td>█▃▂▂▂▁▁▁▁▁</td></tr><tr><td>validation loss</td><td>█▅▃▃▂▂▂▁▁▁</td></tr><tr><td>validation_accuracy</td><td>▁▄▆▆▇▇▇███</td></tr></table><br/></div><div class=\"wandb-col\"><h3>Run summary:</h3><br/><table class=\"wandb\"><tr><td>epoch</td><td>10</td></tr><tr><td>test_accuracy</td><td>0.8235</td></tr><tr><td>training_loss</td><td>0.46102</td></tr><tr><td>validation loss</td><td>0.47735</td></tr><tr><td>validation_accuracy</td><td>0.82833</td></tr></table><br/></div></div>"
      ],
      "text/plain": [
       "<IPython.core.display.HTML object>"
      ]
     },
     "metadata": {},
     "output_type": "display_data"
    },
    {
     "data": {
      "text/html": [
       " View run <strong style=\"color:#cdcd00\">hl_3_bs_32_ac_relu_opt_nesterov</strong> at: <a href='https://wandb.ai/ed24s401-indian-institute-of-technology-madras/q4_sweep_project/runs/q3c3z15h' target=\"_blank\">https://wandb.ai/ed24s401-indian-institute-of-technology-madras/q4_sweep_project/runs/q3c3z15h</a><br> View project at: <a href='https://wandb.ai/ed24s401-indian-institute-of-technology-madras/q4_sweep_project' target=\"_blank\">https://wandb.ai/ed24s401-indian-institute-of-technology-madras/q4_sweep_project</a><br>Synced 5 W&B file(s), 0 media file(s), 0 artifact file(s) and 0 other file(s)"
      ],
      "text/plain": [
       "<IPython.core.display.HTML object>"
      ]
     },
     "metadata": {},
     "output_type": "display_data"
    },
    {
     "data": {
      "text/html": [
       "Find logs at: <code>.\\wandb\\run-20250316_194941-q3c3z15h\\logs</code>"
      ],
      "text/plain": [
       "<IPython.core.display.HTML object>"
      ]
     },
     "metadata": {},
     "output_type": "display_data"
    },
    {
     "name": "stderr",
     "output_type": "stream",
     "text": [
      "\u001b[34m\u001b[1mwandb\u001b[0m: Agent Starting Run: 9he8lidr with config:\n",
      "\u001b[34m\u001b[1mwandb\u001b[0m: \tactivation: tanh\n",
      "\u001b[34m\u001b[1mwandb\u001b[0m: \tbatch_size: 32\n",
      "\u001b[34m\u001b[1mwandb\u001b[0m: \tbeta1: 0.9\n",
      "\u001b[34m\u001b[1mwandb\u001b[0m: \tbeta2: 0.999\n",
      "\u001b[34m\u001b[1mwandb\u001b[0m: \tbeta_rms: 0.9\n",
      "\u001b[34m\u001b[1mwandb\u001b[0m: \tepochs: 10\n",
      "\u001b[34m\u001b[1mwandb\u001b[0m: \tepsilon: 1e-08\n",
      "\u001b[34m\u001b[1mwandb\u001b[0m: \thidden_size: 128\n",
      "\u001b[34m\u001b[1mwandb\u001b[0m: \tinit_type: xavier\n",
      "\u001b[34m\u001b[1mwandb\u001b[0m: \tlearning_rate: 0.0001\n",
      "\u001b[34m\u001b[1mwandb\u001b[0m: \tmomentum: 0.9\n",
      "\u001b[34m\u001b[1mwandb\u001b[0m: \tnum_hidden_layers: 5\n",
      "\u001b[34m\u001b[1mwandb\u001b[0m: \toptimizer: momentum\n",
      "\u001b[34m\u001b[1mwandb\u001b[0m: \tweight_decay: 0.0005\n"
     ]
    },
    {
     "data": {
      "text/html": [
       "Tracking run with wandb version 0.19.8"
      ],
      "text/plain": [
       "<IPython.core.display.HTML object>"
      ]
     },
     "metadata": {},
     "output_type": "display_data"
    },
    {
     "data": {
      "text/html": [
       "Run data is saved locally in <code>c:\\Users\\acer\\OneDrive\\Documents\\GitHub\\dl_assignment_ed24s401\\wandb\\run-20250316_195200-9he8lidr</code>"
      ],
      "text/plain": [
       "<IPython.core.display.HTML object>"
      ]
     },
     "metadata": {},
     "output_type": "display_data"
    },
    {
     "data": {
      "text/html": [
       "Syncing run <strong><a href='https://wandb.ai/ed24s401-indian-institute-of-technology-madras/q4_sweep_project/runs/9he8lidr' target=\"_blank\">deft-sweep-4</a></strong> to <a href='https://wandb.ai/ed24s401-indian-institute-of-technology-madras/q4_sweep_project' target=\"_blank\">Weights & Biases</a> (<a href='https://wandb.me/developer-guide' target=\"_blank\">docs</a>)<br>Sweep page: <a href='https://wandb.ai/ed24s401-indian-institute-of-technology-madras/q4_sweep_project/sweeps/p60nv46x' target=\"_blank\">https://wandb.ai/ed24s401-indian-institute-of-technology-madras/q4_sweep_project/sweeps/p60nv46x</a>"
      ],
      "text/plain": [
       "<IPython.core.display.HTML object>"
      ]
     },
     "metadata": {},
     "output_type": "display_data"
    },
    {
     "data": {
      "text/html": [
       " View project at <a href='https://wandb.ai/ed24s401-indian-institute-of-technology-madras/q4_sweep_project' target=\"_blank\">https://wandb.ai/ed24s401-indian-institute-of-technology-madras/q4_sweep_project</a>"
      ],
      "text/plain": [
       "<IPython.core.display.HTML object>"
      ]
     },
     "metadata": {},
     "output_type": "display_data"
    },
    {
     "data": {
      "text/html": [
       " View sweep at <a href='https://wandb.ai/ed24s401-indian-institute-of-technology-madras/q4_sweep_project/sweeps/p60nv46x' target=\"_blank\">https://wandb.ai/ed24s401-indian-institute-of-technology-madras/q4_sweep_project/sweeps/p60nv46x</a>"
      ],
      "text/plain": [
       "<IPython.core.display.HTML object>"
      ]
     },
     "metadata": {},
     "output_type": "display_data"
    },
    {
     "data": {
      "text/html": [
       " View run at <a href='https://wandb.ai/ed24s401-indian-institute-of-technology-madras/q4_sweep_project/runs/9he8lidr' target=\"_blank\">https://wandb.ai/ed24s401-indian-institute-of-technology-madras/q4_sweep_project/runs/9he8lidr</a>"
      ],
      "text/plain": [
       "<IPython.core.display.HTML object>"
      ]
     },
     "metadata": {},
     "output_type": "display_data"
    },
    {
     "name": "stdout",
     "output_type": "stream",
     "text": [
      "Epoch 1/10 - loss=1.6901, val_acc=0.6608, val_loss=1.0849220550864034\n",
      "Epoch 2/10 - loss=1.0849, val_acc=0.7203, val_loss=0.8209892621538978\n",
      "Epoch 3/10 - loss=0.9088, val_acc=0.7500, val_loss=0.7014003415657878\n",
      "Epoch 4/10 - loss=0.8141, val_acc=0.7800, val_loss=0.6265385215766032\n",
      "Epoch 5/10 - loss=0.7525, val_acc=0.7970, val_loss=0.5769467214846653\n",
      "Epoch 6/10 - loss=0.7115, val_acc=0.8092, val_loss=0.5440950830985022\n",
      "Epoch 7/10 - loss=0.6837, val_acc=0.8172, val_loss=0.520259758321714\n",
      "Epoch 8/10 - loss=0.6639, val_acc=0.8195, val_loss=0.5060898067384088\n",
      "Epoch 9/10 - loss=0.6491, val_acc=0.8228, val_loss=0.4920164784575944\n",
      "Epoch 10/10 - loss=0.6372, val_acc=0.8255, val_loss=0.4804385771582166\n",
      "test accuracy  0.8225\n"
     ]
    },
    {
     "data": {
      "text/html": [],
      "text/plain": [
       "<IPython.core.display.HTML object>"
      ]
     },
     "metadata": {},
     "output_type": "display_data"
    },
    {
     "data": {
      "text/html": [
       "<br>    <style><br>        .wandb-row {<br>            display: flex;<br>            flex-direction: row;<br>            flex-wrap: wrap;<br>            justify-content: flex-start;<br>            width: 100%;<br>        }<br>        .wandb-col {<br>            display: flex;<br>            flex-direction: column;<br>            flex-basis: 100%;<br>            flex: 1;<br>            padding: 10px;<br>        }<br>    </style><br><div class=\"wandb-row\"><div class=\"wandb-col\"><h3>Run history:</h3><br/><table class=\"wandb\"><tr><td>epoch</td><td>▁▂▃▃▄▅▆▆▇█</td></tr><tr><td>test_accuracy</td><td>▁</td></tr><tr><td>training_loss</td><td>█▄▃▂▂▁▁▁▁▁</td></tr><tr><td>validation loss</td><td>█▅▄▃▂▂▁▁▁▁</td></tr><tr><td>validation_accuracy</td><td>▁▄▅▆▇▇████</td></tr></table><br/></div><div class=\"wandb-col\"><h3>Run summary:</h3><br/><table class=\"wandb\"><tr><td>epoch</td><td>10</td></tr><tr><td>test_accuracy</td><td>0.8225</td></tr><tr><td>training_loss</td><td>0.63718</td></tr><tr><td>validation loss</td><td>0.48044</td></tr><tr><td>validation_accuracy</td><td>0.8255</td></tr></table><br/></div></div>"
      ],
      "text/plain": [
       "<IPython.core.display.HTML object>"
      ]
     },
     "metadata": {},
     "output_type": "display_data"
    },
    {
     "data": {
      "text/html": [
       " View run <strong style=\"color:#cdcd00\">hl_5_bs_32_ac_tanh_opt_momentum</strong> at: <a href='https://wandb.ai/ed24s401-indian-institute-of-technology-madras/q4_sweep_project/runs/9he8lidr' target=\"_blank\">https://wandb.ai/ed24s401-indian-institute-of-technology-madras/q4_sweep_project/runs/9he8lidr</a><br> View project at: <a href='https://wandb.ai/ed24s401-indian-institute-of-technology-madras/q4_sweep_project' target=\"_blank\">https://wandb.ai/ed24s401-indian-institute-of-technology-madras/q4_sweep_project</a><br>Synced 5 W&B file(s), 0 media file(s), 0 artifact file(s) and 0 other file(s)"
      ],
      "text/plain": [
       "<IPython.core.display.HTML object>"
      ]
     },
     "metadata": {},
     "output_type": "display_data"
    },
    {
     "data": {
      "text/html": [
       "Find logs at: <code>.\\wandb\\run-20250316_195200-9he8lidr\\logs</code>"
      ],
      "text/plain": [
       "<IPython.core.display.HTML object>"
      ]
     },
     "metadata": {},
     "output_type": "display_data"
    },
    {
     "name": "stderr",
     "output_type": "stream",
     "text": [
      "\u001b[34m\u001b[1mwandb\u001b[0m: Agent Starting Run: 06fllqqi with config:\n",
      "\u001b[34m\u001b[1mwandb\u001b[0m: \tactivation: tanh\n",
      "\u001b[34m\u001b[1mwandb\u001b[0m: \tbatch_size: 32\n",
      "\u001b[34m\u001b[1mwandb\u001b[0m: \tbeta1: 0.9\n",
      "\u001b[34m\u001b[1mwandb\u001b[0m: \tbeta2: 0.999\n",
      "\u001b[34m\u001b[1mwandb\u001b[0m: \tbeta_rms: 0.9\n",
      "\u001b[34m\u001b[1mwandb\u001b[0m: \tepochs: 10\n",
      "\u001b[34m\u001b[1mwandb\u001b[0m: \tepsilon: 1e-08\n",
      "\u001b[34m\u001b[1mwandb\u001b[0m: \thidden_size: 128\n",
      "\u001b[34m\u001b[1mwandb\u001b[0m: \tinit_type: xavier\n",
      "\u001b[34m\u001b[1mwandb\u001b[0m: \tlearning_rate: 0.0001\n",
      "\u001b[34m\u001b[1mwandb\u001b[0m: \tmomentum: 0.8\n",
      "\u001b[34m\u001b[1mwandb\u001b[0m: \tnum_hidden_layers: 5\n",
      "\u001b[34m\u001b[1mwandb\u001b[0m: \toptimizer: adam\n",
      "\u001b[34m\u001b[1mwandb\u001b[0m: \tweight_decay: 0\n"
     ]
    },
    {
     "data": {
      "text/html": [],
      "text/plain": [
       "<IPython.core.display.HTML object>"
      ]
     },
     "metadata": {},
     "output_type": "display_data"
    },
    {
     "data": {
      "text/html": [
       "Tracking run with wandb version 0.19.8"
      ],
      "text/plain": [
       "<IPython.core.display.HTML object>"
      ]
     },
     "metadata": {},
     "output_type": "display_data"
    },
    {
     "data": {
      "text/html": [
       "Run data is saved locally in <code>c:\\Users\\acer\\OneDrive\\Documents\\GitHub\\dl_assignment_ed24s401\\wandb\\run-20250316_195445-06fllqqi</code>"
      ],
      "text/plain": [
       "<IPython.core.display.HTML object>"
      ]
     },
     "metadata": {},
     "output_type": "display_data"
    },
    {
     "data": {
      "text/html": [
       "Syncing run <strong><a href='https://wandb.ai/ed24s401-indian-institute-of-technology-madras/q4_sweep_project/runs/06fllqqi' target=\"_blank\">copper-sweep-5</a></strong> to <a href='https://wandb.ai/ed24s401-indian-institute-of-technology-madras/q4_sweep_project' target=\"_blank\">Weights & Biases</a> (<a href='https://wandb.me/developer-guide' target=\"_blank\">docs</a>)<br>Sweep page: <a href='https://wandb.ai/ed24s401-indian-institute-of-technology-madras/q4_sweep_project/sweeps/p60nv46x' target=\"_blank\">https://wandb.ai/ed24s401-indian-institute-of-technology-madras/q4_sweep_project/sweeps/p60nv46x</a>"
      ],
      "text/plain": [
       "<IPython.core.display.HTML object>"
      ]
     },
     "metadata": {},
     "output_type": "display_data"
    },
    {
     "data": {
      "text/html": [
       " View project at <a href='https://wandb.ai/ed24s401-indian-institute-of-technology-madras/q4_sweep_project' target=\"_blank\">https://wandb.ai/ed24s401-indian-institute-of-technology-madras/q4_sweep_project</a>"
      ],
      "text/plain": [
       "<IPython.core.display.HTML object>"
      ]
     },
     "metadata": {},
     "output_type": "display_data"
    },
    {
     "data": {
      "text/html": [
       " View sweep at <a href='https://wandb.ai/ed24s401-indian-institute-of-technology-madras/q4_sweep_project/sweeps/p60nv46x' target=\"_blank\">https://wandb.ai/ed24s401-indian-institute-of-technology-madras/q4_sweep_project/sweeps/p60nv46x</a>"
      ],
      "text/plain": [
       "<IPython.core.display.HTML object>"
      ]
     },
     "metadata": {},
     "output_type": "display_data"
    },
    {
     "data": {
      "text/html": [
       " View run at <a href='https://wandb.ai/ed24s401-indian-institute-of-technology-madras/q4_sweep_project/runs/06fllqqi' target=\"_blank\">https://wandb.ai/ed24s401-indian-institute-of-technology-madras/q4_sweep_project/runs/06fllqqi</a>"
      ],
      "text/plain": [
       "<IPython.core.display.HTML object>"
      ]
     },
     "metadata": {},
     "output_type": "display_data"
    },
    {
     "name": "stdout",
     "output_type": "stream",
     "text": [
      "Epoch 1/10 - loss=0.6100, val_acc=0.8407, val_loss=0.44123077796022897\n",
      "Epoch 2/10 - loss=0.4132, val_acc=0.8550, val_loss=0.4002993521066746\n",
      "Epoch 3/10 - loss=0.3807, val_acc=0.8495, val_loss=0.40426051903768817\n",
      "Epoch 4/10 - loss=0.3577, val_acc=0.8613, val_loss=0.3784133103676986\n",
      "Epoch 5/10 - loss=0.3424, val_acc=0.8652, val_loss=0.35747088755349204\n",
      "Epoch 6/10 - loss=0.3284, val_acc=0.8642, val_loss=0.3588343176087859\n",
      "Epoch 7/10 - loss=0.3184, val_acc=0.8747, val_loss=0.33800688875213775\n",
      "Epoch 8/10 - loss=0.3071, val_acc=0.8792, val_loss=0.33343892668284936\n",
      "Epoch 9/10 - loss=0.3005, val_acc=0.8750, val_loss=0.33113935830790064\n",
      "Epoch 10/10 - loss=0.2907, val_acc=0.8742, val_loss=0.34139463457914676\n",
      "test accuracy  0.8719\n"
     ]
    },
    {
     "data": {
      "text/html": [],
      "text/plain": [
       "<IPython.core.display.HTML object>"
      ]
     },
     "metadata": {},
     "output_type": "display_data"
    },
    {
     "data": {
      "text/html": [
       "<br>    <style><br>        .wandb-row {<br>            display: flex;<br>            flex-direction: row;<br>            flex-wrap: wrap;<br>            justify-content: flex-start;<br>            width: 100%;<br>        }<br>        .wandb-col {<br>            display: flex;<br>            flex-direction: column;<br>            flex-basis: 100%;<br>            flex: 1;<br>            padding: 10px;<br>        }<br>    </style><br><div class=\"wandb-row\"><div class=\"wandb-col\"><h3>Run history:</h3><br/><table class=\"wandb\"><tr><td>epoch</td><td>▁▂▃▃▄▅▆▆▇█</td></tr><tr><td>test_accuracy</td><td>▁</td></tr><tr><td>training_loss</td><td>█▄▃▂▂▂▂▁▁▁</td></tr><tr><td>validation loss</td><td>█▅▆▄▃▃▁▁▁▂</td></tr><tr><td>validation_accuracy</td><td>▁▄▃▅▅▅▇█▇▇</td></tr></table><br/></div><div class=\"wandb-col\"><h3>Run summary:</h3><br/><table class=\"wandb\"><tr><td>epoch</td><td>10</td></tr><tr><td>test_accuracy</td><td>0.8719</td></tr><tr><td>training_loss</td><td>0.29069</td></tr><tr><td>validation loss</td><td>0.34139</td></tr><tr><td>validation_accuracy</td><td>0.87417</td></tr></table><br/></div></div>"
      ],
      "text/plain": [
       "<IPython.core.display.HTML object>"
      ]
     },
     "metadata": {},
     "output_type": "display_data"
    },
    {
     "data": {
      "text/html": [
       " View run <strong style=\"color:#cdcd00\">hl_5_bs_32_ac_tanh_opt_adam</strong> at: <a href='https://wandb.ai/ed24s401-indian-institute-of-technology-madras/q4_sweep_project/runs/06fllqqi' target=\"_blank\">https://wandb.ai/ed24s401-indian-institute-of-technology-madras/q4_sweep_project/runs/06fllqqi</a><br> View project at: <a href='https://wandb.ai/ed24s401-indian-institute-of-technology-madras/q4_sweep_project' target=\"_blank\">https://wandb.ai/ed24s401-indian-institute-of-technology-madras/q4_sweep_project</a><br>Synced 5 W&B file(s), 0 media file(s), 0 artifact file(s) and 0 other file(s)"
      ],
      "text/plain": [
       "<IPython.core.display.HTML object>"
      ]
     },
     "metadata": {},
     "output_type": "display_data"
    },
    {
     "data": {
      "text/html": [
       "Find logs at: <code>.\\wandb\\run-20250316_195445-06fllqqi\\logs</code>"
      ],
      "text/plain": [
       "<IPython.core.display.HTML object>"
      ]
     },
     "metadata": {},
     "output_type": "display_data"
    },
    {
     "name": "stderr",
     "output_type": "stream",
     "text": [
      "\u001b[34m\u001b[1mwandb\u001b[0m: Agent Starting Run: c283qtl2 with config:\n",
      "\u001b[34m\u001b[1mwandb\u001b[0m: \tactivation: relu\n",
      "\u001b[34m\u001b[1mwandb\u001b[0m: \tbatch_size: 32\n",
      "\u001b[34m\u001b[1mwandb\u001b[0m: \tbeta1: 0.9\n",
      "\u001b[34m\u001b[1mwandb\u001b[0m: \tbeta2: 0.999\n",
      "\u001b[34m\u001b[1mwandb\u001b[0m: \tbeta_rms: 0.9\n",
      "\u001b[34m\u001b[1mwandb\u001b[0m: \tepochs: 10\n",
      "\u001b[34m\u001b[1mwandb\u001b[0m: \tepsilon: 1e-08\n",
      "\u001b[34m\u001b[1mwandb\u001b[0m: \thidden_size: 64\n",
      "\u001b[34m\u001b[1mwandb\u001b[0m: \tinit_type: random\n",
      "\u001b[34m\u001b[1mwandb\u001b[0m: \tlearning_rate: 0.001\n",
      "\u001b[34m\u001b[1mwandb\u001b[0m: \tmomentum: 0.9\n",
      "\u001b[34m\u001b[1mwandb\u001b[0m: \tnum_hidden_layers: 5\n",
      "\u001b[34m\u001b[1mwandb\u001b[0m: \toptimizer: adam\n",
      "\u001b[34m\u001b[1mwandb\u001b[0m: \tweight_decay: 0\n"
     ]
    },
    {
     "data": {
      "text/html": [
       "Tracking run with wandb version 0.19.8"
      ],
      "text/plain": [
       "<IPython.core.display.HTML object>"
      ]
     },
     "metadata": {},
     "output_type": "display_data"
    },
    {
     "data": {
      "text/html": [
       "Run data is saved locally in <code>c:\\Users\\acer\\OneDrive\\Documents\\GitHub\\dl_assignment_ed24s401\\wandb\\run-20250316_195730-c283qtl2</code>"
      ],
      "text/plain": [
       "<IPython.core.display.HTML object>"
      ]
     },
     "metadata": {},
     "output_type": "display_data"
    },
    {
     "data": {
      "text/html": [
       "Syncing run <strong><a href='https://wandb.ai/ed24s401-indian-institute-of-technology-madras/q4_sweep_project/runs/c283qtl2' target=\"_blank\">faithful-sweep-6</a></strong> to <a href='https://wandb.ai/ed24s401-indian-institute-of-technology-madras/q4_sweep_project' target=\"_blank\">Weights & Biases</a> (<a href='https://wandb.me/developer-guide' target=\"_blank\">docs</a>)<br>Sweep page: <a href='https://wandb.ai/ed24s401-indian-institute-of-technology-madras/q4_sweep_project/sweeps/p60nv46x' target=\"_blank\">https://wandb.ai/ed24s401-indian-institute-of-technology-madras/q4_sweep_project/sweeps/p60nv46x</a>"
      ],
      "text/plain": [
       "<IPython.core.display.HTML object>"
      ]
     },
     "metadata": {},
     "output_type": "display_data"
    },
    {
     "data": {
      "text/html": [
       " View project at <a href='https://wandb.ai/ed24s401-indian-institute-of-technology-madras/q4_sweep_project' target=\"_blank\">https://wandb.ai/ed24s401-indian-institute-of-technology-madras/q4_sweep_project</a>"
      ],
      "text/plain": [
       "<IPython.core.display.HTML object>"
      ]
     },
     "metadata": {},
     "output_type": "display_data"
    },
    {
     "data": {
      "text/html": [
       " View sweep at <a href='https://wandb.ai/ed24s401-indian-institute-of-technology-madras/q4_sweep_project/sweeps/p60nv46x' target=\"_blank\">https://wandb.ai/ed24s401-indian-institute-of-technology-madras/q4_sweep_project/sweeps/p60nv46x</a>"
      ],
      "text/plain": [
       "<IPython.core.display.HTML object>"
      ]
     },
     "metadata": {},
     "output_type": "display_data"
    },
    {
     "data": {
      "text/html": [
       " View run at <a href='https://wandb.ai/ed24s401-indian-institute-of-technology-madras/q4_sweep_project/runs/c283qtl2' target=\"_blank\">https://wandb.ai/ed24s401-indian-institute-of-technology-madras/q4_sweep_project/runs/c283qtl2</a>"
      ],
      "text/plain": [
       "<IPython.core.display.HTML object>"
      ]
     },
     "metadata": {},
     "output_type": "display_data"
    },
    {
     "name": "stdout",
     "output_type": "stream",
     "text": [
      "Epoch 1/10 - loss=0.5316, val_acc=0.8408, val_loss=0.4262506810276712\n",
      "Epoch 2/10 - loss=0.3910, val_acc=0.8612, val_loss=0.38029229947575316\n",
      "Epoch 3/10 - loss=0.3584, val_acc=0.8673, val_loss=0.35333921797827467\n",
      "Epoch 4/10 - loss=0.3346, val_acc=0.8703, val_loss=0.35265591099771987\n",
      "Epoch 5/10 - loss=0.3207, val_acc=0.8672, val_loss=0.3440293440400351\n",
      "Epoch 6/10 - loss=0.3072, val_acc=0.8673, val_loss=0.3479996395814301\n",
      "Epoch 7/10 - loss=0.2944, val_acc=0.8773, val_loss=0.3374566103018656\n",
      "Epoch 8/10 - loss=0.2859, val_acc=0.8805, val_loss=0.3280997443162233\n",
      "Epoch 9/10 - loss=0.2771, val_acc=0.8798, val_loss=0.3222661801201401\n",
      "Epoch 10/10 - loss=0.2679, val_acc=0.8777, val_loss=0.33938835640725173\n",
      "test accuracy  0.8716\n"
     ]
    },
    {
     "data": {
      "text/html": [],
      "text/plain": [
       "<IPython.core.display.HTML object>"
      ]
     },
     "metadata": {},
     "output_type": "display_data"
    },
    {
     "data": {
      "text/html": [
       "<br>    <style><br>        .wandb-row {<br>            display: flex;<br>            flex-direction: row;<br>            flex-wrap: wrap;<br>            justify-content: flex-start;<br>            width: 100%;<br>        }<br>        .wandb-col {<br>            display: flex;<br>            flex-direction: column;<br>            flex-basis: 100%;<br>            flex: 1;<br>            padding: 10px;<br>        }<br>    </style><br><div class=\"wandb-row\"><div class=\"wandb-col\"><h3>Run history:</h3><br/><table class=\"wandb\"><tr><td>epoch</td><td>▁▂▃▃▄▅▆▆▇█</td></tr><tr><td>test_accuracy</td><td>▁</td></tr><tr><td>training_loss</td><td>█▄▃▃▂▂▂▁▁▁</td></tr><tr><td>validation loss</td><td>█▅▃▃▂▃▂▁▁▂</td></tr><tr><td>validation_accuracy</td><td>▁▅▆▆▆▆▇██▇</td></tr></table><br/></div><div class=\"wandb-col\"><h3>Run summary:</h3><br/><table class=\"wandb\"><tr><td>epoch</td><td>10</td></tr><tr><td>test_accuracy</td><td>0.8716</td></tr><tr><td>training_loss</td><td>0.26789</td></tr><tr><td>validation loss</td><td>0.33939</td></tr><tr><td>validation_accuracy</td><td>0.87767</td></tr></table><br/></div></div>"
      ],
      "text/plain": [
       "<IPython.core.display.HTML object>"
      ]
     },
     "metadata": {},
     "output_type": "display_data"
    },
    {
     "data": {
      "text/html": [
       " View run <strong style=\"color:#cdcd00\">hl_5_bs_32_ac_relu_opt_adam</strong> at: <a href='https://wandb.ai/ed24s401-indian-institute-of-technology-madras/q4_sweep_project/runs/c283qtl2' target=\"_blank\">https://wandb.ai/ed24s401-indian-institute-of-technology-madras/q4_sweep_project/runs/c283qtl2</a><br> View project at: <a href='https://wandb.ai/ed24s401-indian-institute-of-technology-madras/q4_sweep_project' target=\"_blank\">https://wandb.ai/ed24s401-indian-institute-of-technology-madras/q4_sweep_project</a><br>Synced 5 W&B file(s), 0 media file(s), 0 artifact file(s) and 0 other file(s)"
      ],
      "text/plain": [
       "<IPython.core.display.HTML object>"
      ]
     },
     "metadata": {},
     "output_type": "display_data"
    },
    {
     "data": {
      "text/html": [
       "Find logs at: <code>.\\wandb\\run-20250316_195730-c283qtl2\\logs</code>"
      ],
      "text/plain": [
       "<IPython.core.display.HTML object>"
      ]
     },
     "metadata": {},
     "output_type": "display_data"
    },
    {
     "name": "stderr",
     "output_type": "stream",
     "text": [
      "\u001b[34m\u001b[1mwandb\u001b[0m: Agent Starting Run: 87e7mxie with config:\n",
      "\u001b[34m\u001b[1mwandb\u001b[0m: \tactivation: sigmoid\n",
      "\u001b[34m\u001b[1mwandb\u001b[0m: \tbatch_size: 32\n",
      "\u001b[34m\u001b[1mwandb\u001b[0m: \tbeta1: 0.9\n",
      "\u001b[34m\u001b[1mwandb\u001b[0m: \tbeta2: 0.999\n",
      "\u001b[34m\u001b[1mwandb\u001b[0m: \tbeta_rms: 0.9\n",
      "\u001b[34m\u001b[1mwandb\u001b[0m: \tepochs: 10\n",
      "\u001b[34m\u001b[1mwandb\u001b[0m: \tepsilon: 1e-08\n",
      "\u001b[34m\u001b[1mwandb\u001b[0m: \thidden_size: 128\n",
      "\u001b[34m\u001b[1mwandb\u001b[0m: \tinit_type: random\n",
      "\u001b[34m\u001b[1mwandb\u001b[0m: \tlearning_rate: 0.0001\n",
      "\u001b[34m\u001b[1mwandb\u001b[0m: \tmomentum: 0.9\n",
      "\u001b[34m\u001b[1mwandb\u001b[0m: \tnum_hidden_layers: 3\n",
      "\u001b[34m\u001b[1mwandb\u001b[0m: \toptimizer: rmsprop\n",
      "\u001b[34m\u001b[1mwandb\u001b[0m: \tweight_decay: 0.0005\n"
     ]
    },
    {
     "data": {
      "text/html": [
       "Tracking run with wandb version 0.19.8"
      ],
      "text/plain": [
       "<IPython.core.display.HTML object>"
      ]
     },
     "metadata": {},
     "output_type": "display_data"
    },
    {
     "data": {
      "text/html": [
       "Run data is saved locally in <code>c:\\Users\\acer\\OneDrive\\Documents\\GitHub\\dl_assignment_ed24s401\\wandb\\run-20250316_195901-87e7mxie</code>"
      ],
      "text/plain": [
       "<IPython.core.display.HTML object>"
      ]
     },
     "metadata": {},
     "output_type": "display_data"
    },
    {
     "data": {
      "text/html": [
       "Syncing run <strong><a href='https://wandb.ai/ed24s401-indian-institute-of-technology-madras/q4_sweep_project/runs/87e7mxie' target=\"_blank\">expert-sweep-7</a></strong> to <a href='https://wandb.ai/ed24s401-indian-institute-of-technology-madras/q4_sweep_project' target=\"_blank\">Weights & Biases</a> (<a href='https://wandb.me/developer-guide' target=\"_blank\">docs</a>)<br>Sweep page: <a href='https://wandb.ai/ed24s401-indian-institute-of-technology-madras/q4_sweep_project/sweeps/p60nv46x' target=\"_blank\">https://wandb.ai/ed24s401-indian-institute-of-technology-madras/q4_sweep_project/sweeps/p60nv46x</a>"
      ],
      "text/plain": [
       "<IPython.core.display.HTML object>"
      ]
     },
     "metadata": {},
     "output_type": "display_data"
    },
    {
     "data": {
      "text/html": [
       " View project at <a href='https://wandb.ai/ed24s401-indian-institute-of-technology-madras/q4_sweep_project' target=\"_blank\">https://wandb.ai/ed24s401-indian-institute-of-technology-madras/q4_sweep_project</a>"
      ],
      "text/plain": [
       "<IPython.core.display.HTML object>"
      ]
     },
     "metadata": {},
     "output_type": "display_data"
    },
    {
     "data": {
      "text/html": [
       " View sweep at <a href='https://wandb.ai/ed24s401-indian-institute-of-technology-madras/q4_sweep_project/sweeps/p60nv46x' target=\"_blank\">https://wandb.ai/ed24s401-indian-institute-of-technology-madras/q4_sweep_project/sweeps/p60nv46x</a>"
      ],
      "text/plain": [
       "<IPython.core.display.HTML object>"
      ]
     },
     "metadata": {},
     "output_type": "display_data"
    },
    {
     "data": {
      "text/html": [
       " View run at <a href='https://wandb.ai/ed24s401-indian-institute-of-technology-madras/q4_sweep_project/runs/87e7mxie' target=\"_blank\">https://wandb.ai/ed24s401-indian-institute-of-technology-madras/q4_sweep_project/runs/87e7mxie</a>"
      ],
      "text/plain": [
       "<IPython.core.display.HTML object>"
      ]
     },
     "metadata": {},
     "output_type": "display_data"
    },
    {
     "name": "stdout",
     "output_type": "stream",
     "text": [
      "Epoch 1/10 - loss=1.6882, val_acc=0.6713, val_loss=0.9829690042692873\n",
      "Epoch 2/10 - loss=1.0144, val_acc=0.7610, val_loss=0.7127878521082422\n",
      "Epoch 3/10 - loss=0.8510, val_acc=0.7903, val_loss=0.6126208839811959\n",
      "Epoch 4/10 - loss=0.7720, val_acc=0.8055, val_loss=0.556748979053276\n",
      "Epoch 5/10 - loss=0.7221, val_acc=0.8183, val_loss=0.5202245598817438\n",
      "Epoch 6/10 - loss=0.6901, val_acc=0.8305, val_loss=0.4956543569604034\n",
      "Epoch 7/10 - loss=0.6667, val_acc=0.8338, val_loss=0.4803127923235173\n",
      "Epoch 8/10 - loss=0.6491, val_acc=0.8340, val_loss=0.46663277474079934\n",
      "Epoch 9/10 - loss=0.6347, val_acc=0.8390, val_loss=0.45545805654147564\n",
      "Epoch 10/10 - loss=0.6227, val_acc=0.8425, val_loss=0.44658549176739265\n",
      "test accuracy  0.836\n"
     ]
    },
    {
     "data": {
      "text/html": [],
      "text/plain": [
       "<IPython.core.display.HTML object>"
      ]
     },
     "metadata": {},
     "output_type": "display_data"
    },
    {
     "data": {
      "text/html": [
       "<br>    <style><br>        .wandb-row {<br>            display: flex;<br>            flex-direction: row;<br>            flex-wrap: wrap;<br>            justify-content: flex-start;<br>            width: 100%;<br>        }<br>        .wandb-col {<br>            display: flex;<br>            flex-direction: column;<br>            flex-basis: 100%;<br>            flex: 1;<br>            padding: 10px;<br>        }<br>    </style><br><div class=\"wandb-row\"><div class=\"wandb-col\"><h3>Run history:</h3><br/><table class=\"wandb\"><tr><td>epoch</td><td>▁▂▃▃▄▅▆▆▇█</td></tr><tr><td>test_accuracy</td><td>▁</td></tr><tr><td>training_loss</td><td>█▄▂▂▂▁▁▁▁▁</td></tr><tr><td>validation loss</td><td>█▄▃▂▂▂▁▁▁▁</td></tr><tr><td>validation_accuracy</td><td>▁▅▆▆▇█████</td></tr></table><br/></div><div class=\"wandb-col\"><h3>Run summary:</h3><br/><table class=\"wandb\"><tr><td>epoch</td><td>10</td></tr><tr><td>test_accuracy</td><td>0.836</td></tr><tr><td>training_loss</td><td>0.62273</td></tr><tr><td>validation loss</td><td>0.44659</td></tr><tr><td>validation_accuracy</td><td>0.8425</td></tr></table><br/></div></div>"
      ],
      "text/plain": [
       "<IPython.core.display.HTML object>"
      ]
     },
     "metadata": {},
     "output_type": "display_data"
    },
    {
     "data": {
      "text/html": [
       " View run <strong style=\"color:#cdcd00\">hl_3_bs_32_ac_sigmoid_opt_rmsprop</strong> at: <a href='https://wandb.ai/ed24s401-indian-institute-of-technology-madras/q4_sweep_project/runs/87e7mxie' target=\"_blank\">https://wandb.ai/ed24s401-indian-institute-of-technology-madras/q4_sweep_project/runs/87e7mxie</a><br> View project at: <a href='https://wandb.ai/ed24s401-indian-institute-of-technology-madras/q4_sweep_project' target=\"_blank\">https://wandb.ai/ed24s401-indian-institute-of-technology-madras/q4_sweep_project</a><br>Synced 5 W&B file(s), 0 media file(s), 0 artifact file(s) and 0 other file(s)"
      ],
      "text/plain": [
       "<IPython.core.display.HTML object>"
      ]
     },
     "metadata": {},
     "output_type": "display_data"
    },
    {
     "data": {
      "text/html": [
       "Find logs at: <code>.\\wandb\\run-20250316_195901-87e7mxie\\logs</code>"
      ],
      "text/plain": [
       "<IPython.core.display.HTML object>"
      ]
     },
     "metadata": {},
     "output_type": "display_data"
    },
    {
     "name": "stderr",
     "output_type": "stream",
     "text": [
      "\u001b[34m\u001b[1mwandb\u001b[0m: Agent Starting Run: pxrx0b96 with config:\n",
      "\u001b[34m\u001b[1mwandb\u001b[0m: \tactivation: tanh\n",
      "\u001b[34m\u001b[1mwandb\u001b[0m: \tbatch_size: 32\n",
      "\u001b[34m\u001b[1mwandb\u001b[0m: \tbeta1: 0.9\n",
      "\u001b[34m\u001b[1mwandb\u001b[0m: \tbeta2: 0.999\n",
      "\u001b[34m\u001b[1mwandb\u001b[0m: \tbeta_rms: 0.9\n",
      "\u001b[34m\u001b[1mwandb\u001b[0m: \tepochs: 10\n",
      "\u001b[34m\u001b[1mwandb\u001b[0m: \tepsilon: 1e-08\n",
      "\u001b[34m\u001b[1mwandb\u001b[0m: \thidden_size: 64\n",
      "\u001b[34m\u001b[1mwandb\u001b[0m: \tinit_type: xavier\n",
      "\u001b[34m\u001b[1mwandb\u001b[0m: \tlearning_rate: 0.001\n",
      "\u001b[34m\u001b[1mwandb\u001b[0m: \tmomentum: 0.8\n",
      "\u001b[34m\u001b[1mwandb\u001b[0m: \tnum_hidden_layers: 3\n",
      "\u001b[34m\u001b[1mwandb\u001b[0m: \toptimizer: nadam\n",
      "\u001b[34m\u001b[1mwandb\u001b[0m: \tweight_decay: 0\n"
     ]
    },
    {
     "data": {
      "text/html": [
       "Tracking run with wandb version 0.19.8"
      ],
      "text/plain": [
       "<IPython.core.display.HTML object>"
      ]
     },
     "metadata": {},
     "output_type": "display_data"
    },
    {
     "data": {
      "text/html": [
       "Run data is saved locally in <code>c:\\Users\\acer\\OneDrive\\Documents\\GitHub\\dl_assignment_ed24s401\\wandb\\run-20250316_200059-pxrx0b96</code>"
      ],
      "text/plain": [
       "<IPython.core.display.HTML object>"
      ]
     },
     "metadata": {},
     "output_type": "display_data"
    },
    {
     "data": {
      "text/html": [
       "Syncing run <strong><a href='https://wandb.ai/ed24s401-indian-institute-of-technology-madras/q4_sweep_project/runs/pxrx0b96' target=\"_blank\">dandy-sweep-8</a></strong> to <a href='https://wandb.ai/ed24s401-indian-institute-of-technology-madras/q4_sweep_project' target=\"_blank\">Weights & Biases</a> (<a href='https://wandb.me/developer-guide' target=\"_blank\">docs</a>)<br>Sweep page: <a href='https://wandb.ai/ed24s401-indian-institute-of-technology-madras/q4_sweep_project/sweeps/p60nv46x' target=\"_blank\">https://wandb.ai/ed24s401-indian-institute-of-technology-madras/q4_sweep_project/sweeps/p60nv46x</a>"
      ],
      "text/plain": [
       "<IPython.core.display.HTML object>"
      ]
     },
     "metadata": {},
     "output_type": "display_data"
    },
    {
     "data": {
      "text/html": [
       " View project at <a href='https://wandb.ai/ed24s401-indian-institute-of-technology-madras/q4_sweep_project' target=\"_blank\">https://wandb.ai/ed24s401-indian-institute-of-technology-madras/q4_sweep_project</a>"
      ],
      "text/plain": [
       "<IPython.core.display.HTML object>"
      ]
     },
     "metadata": {},
     "output_type": "display_data"
    },
    {
     "data": {
      "text/html": [
       " View sweep at <a href='https://wandb.ai/ed24s401-indian-institute-of-technology-madras/q4_sweep_project/sweeps/p60nv46x' target=\"_blank\">https://wandb.ai/ed24s401-indian-institute-of-technology-madras/q4_sweep_project/sweeps/p60nv46x</a>"
      ],
      "text/plain": [
       "<IPython.core.display.HTML object>"
      ]
     },
     "metadata": {},
     "output_type": "display_data"
    },
    {
     "data": {
      "text/html": [
       " View run at <a href='https://wandb.ai/ed24s401-indian-institute-of-technology-madras/q4_sweep_project/runs/pxrx0b96' target=\"_blank\">https://wandb.ai/ed24s401-indian-institute-of-technology-madras/q4_sweep_project/runs/pxrx0b96</a>"
      ],
      "text/plain": [
       "<IPython.core.display.HTML object>"
      ]
     },
     "metadata": {},
     "output_type": "display_data"
    },
    {
     "name": "stdout",
     "output_type": "stream",
     "text": [
      "Epoch 1/10 - loss=0.4830, val_acc=0.8525, val_loss=0.3915567499634833\n",
      "Epoch 2/10 - loss=0.3673, val_acc=0.8642, val_loss=0.3709101547896698\n",
      "Epoch 3/10 - loss=0.3353, val_acc=0.8743, val_loss=0.3340325507608215\n",
      "Epoch 4/10 - loss=0.3147, val_acc=0.8802, val_loss=0.32716974497891876\n",
      "Epoch 5/10 - loss=0.2985, val_acc=0.8735, val_loss=0.3279797500329235\n",
      "Epoch 6/10 - loss=0.2853, val_acc=0.8817, val_loss=0.3249539008688805\n",
      "Epoch 7/10 - loss=0.2745, val_acc=0.8837, val_loss=0.32202964045447513\n",
      "Epoch 8/10 - loss=0.2651, val_acc=0.8832, val_loss=0.30925817110188275\n",
      "Epoch 9/10 - loss=0.2554, val_acc=0.8857, val_loss=0.3108576969021752\n",
      "Epoch 10/10 - loss=0.2466, val_acc=0.8797, val_loss=0.3196521121128617\n",
      "test accuracy  0.8726\n"
     ]
    },
    {
     "data": {
      "text/html": [],
      "text/plain": [
       "<IPython.core.display.HTML object>"
      ]
     },
     "metadata": {},
     "output_type": "display_data"
    },
    {
     "data": {
      "text/html": [
       "<br>    <style><br>        .wandb-row {<br>            display: flex;<br>            flex-direction: row;<br>            flex-wrap: wrap;<br>            justify-content: flex-start;<br>            width: 100%;<br>        }<br>        .wandb-col {<br>            display: flex;<br>            flex-direction: column;<br>            flex-basis: 100%;<br>            flex: 1;<br>            padding: 10px;<br>        }<br>    </style><br><div class=\"wandb-row\"><div class=\"wandb-col\"><h3>Run history:</h3><br/><table class=\"wandb\"><tr><td>epoch</td><td>▁▂▃▃▄▅▆▆▇█</td></tr><tr><td>test_accuracy</td><td>▁</td></tr><tr><td>training_loss</td><td>█▅▄▃▃▂▂▂▁▁</td></tr><tr><td>validation loss</td><td>█▆▃▃▃▂▂▁▁▂</td></tr><tr><td>validation_accuracy</td><td>▁▃▆▇▅▇█▇█▇</td></tr></table><br/></div><div class=\"wandb-col\"><h3>Run summary:</h3><br/><table class=\"wandb\"><tr><td>epoch</td><td>10</td></tr><tr><td>test_accuracy</td><td>0.8726</td></tr><tr><td>training_loss</td><td>0.24655</td></tr><tr><td>validation loss</td><td>0.31965</td></tr><tr><td>validation_accuracy</td><td>0.87967</td></tr></table><br/></div></div>"
      ],
      "text/plain": [
       "<IPython.core.display.HTML object>"
      ]
     },
     "metadata": {},
     "output_type": "display_data"
    },
    {
     "data": {
      "text/html": [
       " View run <strong style=\"color:#cdcd00\">hl_3_bs_32_ac_tanh_opt_nadam</strong> at: <a href='https://wandb.ai/ed24s401-indian-institute-of-technology-madras/q4_sweep_project/runs/pxrx0b96' target=\"_blank\">https://wandb.ai/ed24s401-indian-institute-of-technology-madras/q4_sweep_project/runs/pxrx0b96</a><br> View project at: <a href='https://wandb.ai/ed24s401-indian-institute-of-technology-madras/q4_sweep_project' target=\"_blank\">https://wandb.ai/ed24s401-indian-institute-of-technology-madras/q4_sweep_project</a><br>Synced 5 W&B file(s), 0 media file(s), 0 artifact file(s) and 0 other file(s)"
      ],
      "text/plain": [
       "<IPython.core.display.HTML object>"
      ]
     },
     "metadata": {},
     "output_type": "display_data"
    },
    {
     "data": {
      "text/html": [
       "Find logs at: <code>.\\wandb\\run-20250316_200059-pxrx0b96\\logs</code>"
      ],
      "text/plain": [
       "<IPython.core.display.HTML object>"
      ]
     },
     "metadata": {},
     "output_type": "display_data"
    },
    {
     "name": "stderr",
     "output_type": "stream",
     "text": [
      "\u001b[34m\u001b[1mwandb\u001b[0m: Agent Starting Run: gag8ms48 with config:\n",
      "\u001b[34m\u001b[1mwandb\u001b[0m: \tactivation: sigmoid\n",
      "\u001b[34m\u001b[1mwandb\u001b[0m: \tbatch_size: 32\n",
      "\u001b[34m\u001b[1mwandb\u001b[0m: \tbeta1: 0.9\n",
      "\u001b[34m\u001b[1mwandb\u001b[0m: \tbeta2: 0.999\n",
      "\u001b[34m\u001b[1mwandb\u001b[0m: \tbeta_rms: 0.9\n",
      "\u001b[34m\u001b[1mwandb\u001b[0m: \tepochs: 10\n",
      "\u001b[34m\u001b[1mwandb\u001b[0m: \tepsilon: 1e-08\n",
      "\u001b[34m\u001b[1mwandb\u001b[0m: \thidden_size: 64\n",
      "\u001b[34m\u001b[1mwandb\u001b[0m: \tinit_type: random\n",
      "\u001b[34m\u001b[1mwandb\u001b[0m: \tlearning_rate: 0.0001\n",
      "\u001b[34m\u001b[1mwandb\u001b[0m: \tmomentum: 0.9\n",
      "\u001b[34m\u001b[1mwandb\u001b[0m: \tnum_hidden_layers: 3\n",
      "\u001b[34m\u001b[1mwandb\u001b[0m: \toptimizer: nesterov\n",
      "\u001b[34m\u001b[1mwandb\u001b[0m: \tweight_decay: 0.0005\n"
     ]
    },
    {
     "data": {
      "text/html": [
       "Tracking run with wandb version 0.19.8"
      ],
      "text/plain": [
       "<IPython.core.display.HTML object>"
      ]
     },
     "metadata": {},
     "output_type": "display_data"
    },
    {
     "data": {
      "text/html": [
       "Run data is saved locally in <code>c:\\Users\\acer\\OneDrive\\Documents\\GitHub\\dl_assignment_ed24s401\\wandb\\run-20250316_200229-gag8ms48</code>"
      ],
      "text/plain": [
       "<IPython.core.display.HTML object>"
      ]
     },
     "metadata": {},
     "output_type": "display_data"
    },
    {
     "data": {
      "text/html": [
       "Syncing run <strong><a href='https://wandb.ai/ed24s401-indian-institute-of-technology-madras/q4_sweep_project/runs/gag8ms48' target=\"_blank\">deft-sweep-9</a></strong> to <a href='https://wandb.ai/ed24s401-indian-institute-of-technology-madras/q4_sweep_project' target=\"_blank\">Weights & Biases</a> (<a href='https://wandb.me/developer-guide' target=\"_blank\">docs</a>)<br>Sweep page: <a href='https://wandb.ai/ed24s401-indian-institute-of-technology-madras/q4_sweep_project/sweeps/p60nv46x' target=\"_blank\">https://wandb.ai/ed24s401-indian-institute-of-technology-madras/q4_sweep_project/sweeps/p60nv46x</a>"
      ],
      "text/plain": [
       "<IPython.core.display.HTML object>"
      ]
     },
     "metadata": {},
     "output_type": "display_data"
    },
    {
     "data": {
      "text/html": [
       " View project at <a href='https://wandb.ai/ed24s401-indian-institute-of-technology-madras/q4_sweep_project' target=\"_blank\">https://wandb.ai/ed24s401-indian-institute-of-technology-madras/q4_sweep_project</a>"
      ],
      "text/plain": [
       "<IPython.core.display.HTML object>"
      ]
     },
     "metadata": {},
     "output_type": "display_data"
    },
    {
     "data": {
      "text/html": [
       " View sweep at <a href='https://wandb.ai/ed24s401-indian-institute-of-technology-madras/q4_sweep_project/sweeps/p60nv46x' target=\"_blank\">https://wandb.ai/ed24s401-indian-institute-of-technology-madras/q4_sweep_project/sweeps/p60nv46x</a>"
      ],
      "text/plain": [
       "<IPython.core.display.HTML object>"
      ]
     },
     "metadata": {},
     "output_type": "display_data"
    },
    {
     "data": {
      "text/html": [
       " View run at <a href='https://wandb.ai/ed24s401-indian-institute-of-technology-madras/q4_sweep_project/runs/gag8ms48' target=\"_blank\">https://wandb.ai/ed24s401-indian-institute-of-technology-madras/q4_sweep_project/runs/gag8ms48</a>"
      ],
      "text/plain": [
       "<IPython.core.display.HTML object>"
      ]
     },
     "metadata": {},
     "output_type": "display_data"
    },
    {
     "name": "stdout",
     "output_type": "stream",
     "text": [
      "Epoch 1/10 - loss=2.4132, val_acc=0.1768, val_loss=2.292150293765403\n",
      "Epoch 2/10 - loss=2.3905, val_acc=0.2853, val_loss=2.2861204554435686\n",
      "Epoch 3/10 - loss=2.3842, val_acc=0.2873, val_loss=2.2802184838898456\n",
      "Epoch 4/10 - loss=2.3777, val_acc=0.4022, val_loss=2.2732270674223356\n",
      "Epoch 5/10 - loss=2.3706, val_acc=0.4557, val_loss=2.2657527965506956\n",
      "Epoch 6/10 - loss=2.3627, val_acc=0.4705, val_loss=2.2576536299632615\n",
      "Epoch 7/10 - loss=2.3540, val_acc=0.4965, val_loss=2.2483936568820377\n",
      "Epoch 8/10 - loss=2.3440, val_acc=0.4177, val_loss=2.2378449647951\n",
      "Epoch 9/10 - loss=2.3327, val_acc=0.4445, val_loss=2.2254009518067543\n",
      "Epoch 10/10 - loss=2.3195, val_acc=0.4220, val_loss=2.2110843586417293\n",
      "test accuracy  0.4219\n"
     ]
    },
    {
     "data": {
      "text/html": [],
      "text/plain": [
       "<IPython.core.display.HTML object>"
      ]
     },
     "metadata": {},
     "output_type": "display_data"
    },
    {
     "data": {
      "text/html": [
       "<br>    <style><br>        .wandb-row {<br>            display: flex;<br>            flex-direction: row;<br>            flex-wrap: wrap;<br>            justify-content: flex-start;<br>            width: 100%;<br>        }<br>        .wandb-col {<br>            display: flex;<br>            flex-direction: column;<br>            flex-basis: 100%;<br>            flex: 1;<br>            padding: 10px;<br>        }<br>    </style><br><div class=\"wandb-row\"><div class=\"wandb-col\"><h3>Run history:</h3><br/><table class=\"wandb\"><tr><td>epoch</td><td>▁▂▃▃▄▅▆▆▇█</td></tr><tr><td>test_accuracy</td><td>▁</td></tr><tr><td>training_loss</td><td>█▆▆▅▅▄▄▃▂▁</td></tr><tr><td>validation loss</td><td>█▇▇▆▆▅▄▃▂▁</td></tr><tr><td>validation_accuracy</td><td>▁▃▃▆▇▇█▆▇▆</td></tr></table><br/></div><div class=\"wandb-col\"><h3>Run summary:</h3><br/><table class=\"wandb\"><tr><td>epoch</td><td>10</td></tr><tr><td>test_accuracy</td><td>0.4219</td></tr><tr><td>training_loss</td><td>2.31946</td></tr><tr><td>validation loss</td><td>2.21108</td></tr><tr><td>validation_accuracy</td><td>0.422</td></tr></table><br/></div></div>"
      ],
      "text/plain": [
       "<IPython.core.display.HTML object>"
      ]
     },
     "metadata": {},
     "output_type": "display_data"
    },
    {
     "data": {
      "text/html": [
       " View run <strong style=\"color:#cdcd00\">hl_3_bs_32_ac_sigmoid_opt_nesterov</strong> at: <a href='https://wandb.ai/ed24s401-indian-institute-of-technology-madras/q4_sweep_project/runs/gag8ms48' target=\"_blank\">https://wandb.ai/ed24s401-indian-institute-of-technology-madras/q4_sweep_project/runs/gag8ms48</a><br> View project at: <a href='https://wandb.ai/ed24s401-indian-institute-of-technology-madras/q4_sweep_project' target=\"_blank\">https://wandb.ai/ed24s401-indian-institute-of-technology-madras/q4_sweep_project</a><br>Synced 5 W&B file(s), 0 media file(s), 0 artifact file(s) and 0 other file(s)"
      ],
      "text/plain": [
       "<IPython.core.display.HTML object>"
      ]
     },
     "metadata": {},
     "output_type": "display_data"
    },
    {
     "data": {
      "text/html": [
       "Find logs at: <code>.\\wandb\\run-20250316_200229-gag8ms48\\logs</code>"
      ],
      "text/plain": [
       "<IPython.core.display.HTML object>"
      ]
     },
     "metadata": {},
     "output_type": "display_data"
    },
    {
     "name": "stderr",
     "output_type": "stream",
     "text": [
      "\u001b[34m\u001b[1mwandb\u001b[0m: Agent Starting Run: 8np5n7m6 with config:\n",
      "\u001b[34m\u001b[1mwandb\u001b[0m: \tactivation: relu\n",
      "\u001b[34m\u001b[1mwandb\u001b[0m: \tbatch_size: 32\n",
      "\u001b[34m\u001b[1mwandb\u001b[0m: \tbeta1: 0.9\n",
      "\u001b[34m\u001b[1mwandb\u001b[0m: \tbeta2: 0.999\n",
      "\u001b[34m\u001b[1mwandb\u001b[0m: \tbeta_rms: 0.9\n",
      "\u001b[34m\u001b[1mwandb\u001b[0m: \tepochs: 10\n",
      "\u001b[34m\u001b[1mwandb\u001b[0m: \tepsilon: 1e-08\n",
      "\u001b[34m\u001b[1mwandb\u001b[0m: \thidden_size: 64\n",
      "\u001b[34m\u001b[1mwandb\u001b[0m: \tinit_type: random\n",
      "\u001b[34m\u001b[1mwandb\u001b[0m: \tlearning_rate: 0.001\n",
      "\u001b[34m\u001b[1mwandb\u001b[0m: \tmomentum: 0.9\n",
      "\u001b[34m\u001b[1mwandb\u001b[0m: \tnum_hidden_layers: 5\n",
      "\u001b[34m\u001b[1mwandb\u001b[0m: \toptimizer: rmsprop\n",
      "\u001b[34m\u001b[1mwandb\u001b[0m: \tweight_decay: 0\n"
     ]
    },
    {
     "data": {
      "text/html": [
       "Tracking run with wandb version 0.19.8"
      ],
      "text/plain": [
       "<IPython.core.display.HTML object>"
      ]
     },
     "metadata": {},
     "output_type": "display_data"
    },
    {
     "data": {
      "text/html": [
       "Run data is saved locally in <code>c:\\Users\\acer\\OneDrive\\Documents\\GitHub\\dl_assignment_ed24s401\\wandb\\run-20250316_200317-8np5n7m6</code>"
      ],
      "text/plain": [
       "<IPython.core.display.HTML object>"
      ]
     },
     "metadata": {},
     "output_type": "display_data"
    },
    {
     "data": {
      "text/html": [
       "Syncing run <strong><a href='https://wandb.ai/ed24s401-indian-institute-of-technology-madras/q4_sweep_project/runs/8np5n7m6' target=\"_blank\">celestial-sweep-10</a></strong> to <a href='https://wandb.ai/ed24s401-indian-institute-of-technology-madras/q4_sweep_project' target=\"_blank\">Weights & Biases</a> (<a href='https://wandb.me/developer-guide' target=\"_blank\">docs</a>)<br>Sweep page: <a href='https://wandb.ai/ed24s401-indian-institute-of-technology-madras/q4_sweep_project/sweeps/p60nv46x' target=\"_blank\">https://wandb.ai/ed24s401-indian-institute-of-technology-madras/q4_sweep_project/sweeps/p60nv46x</a>"
      ],
      "text/plain": [
       "<IPython.core.display.HTML object>"
      ]
     },
     "metadata": {},
     "output_type": "display_data"
    },
    {
     "data": {
      "text/html": [
       " View project at <a href='https://wandb.ai/ed24s401-indian-institute-of-technology-madras/q4_sweep_project' target=\"_blank\">https://wandb.ai/ed24s401-indian-institute-of-technology-madras/q4_sweep_project</a>"
      ],
      "text/plain": [
       "<IPython.core.display.HTML object>"
      ]
     },
     "metadata": {},
     "output_type": "display_data"
    },
    {
     "data": {
      "text/html": [
       " View sweep at <a href='https://wandb.ai/ed24s401-indian-institute-of-technology-madras/q4_sweep_project/sweeps/p60nv46x' target=\"_blank\">https://wandb.ai/ed24s401-indian-institute-of-technology-madras/q4_sweep_project/sweeps/p60nv46x</a>"
      ],
      "text/plain": [
       "<IPython.core.display.HTML object>"
      ]
     },
     "metadata": {},
     "output_type": "display_data"
    },
    {
     "data": {
      "text/html": [
       " View run at <a href='https://wandb.ai/ed24s401-indian-institute-of-technology-madras/q4_sweep_project/runs/8np5n7m6' target=\"_blank\">https://wandb.ai/ed24s401-indian-institute-of-technology-madras/q4_sweep_project/runs/8np5n7m6</a>"
      ],
      "text/plain": [
       "<IPython.core.display.HTML object>"
      ]
     },
     "metadata": {},
     "output_type": "display_data"
    },
    {
     "name": "stdout",
     "output_type": "stream",
     "text": [
      "Epoch 1/10 - loss=0.5553, val_acc=0.8282, val_loss=0.4502716316380152\n",
      "Epoch 2/10 - loss=0.4163, val_acc=0.8480, val_loss=0.42432164110251913\n",
      "Epoch 3/10 - loss=0.3919, val_acc=0.8623, val_loss=0.3812924125999896\n",
      "Epoch 4/10 - loss=0.3840, val_acc=0.8690, val_loss=0.4012169075061982\n",
      "Epoch 5/10 - loss=0.3837, val_acc=0.8687, val_loss=0.39931507821164314\n",
      "Epoch 6/10 - loss=0.3857, val_acc=0.8615, val_loss=0.40627183501358344\n",
      "Epoch 7/10 - loss=0.3884, val_acc=0.8632, val_loss=0.4016074682796713\n",
      "Epoch 8/10 - loss=0.3928, val_acc=0.8398, val_loss=0.5069759598151149\n",
      "Epoch 9/10 - loss=0.3916, val_acc=0.8578, val_loss=0.4444773724894061\n",
      "Epoch 10/10 - loss=0.3890, val_acc=0.8718, val_loss=0.42694463804726085\n",
      "test accuracy  0.8656\n"
     ]
    },
    {
     "data": {
      "text/html": [],
      "text/plain": [
       "<IPython.core.display.HTML object>"
      ]
     },
     "metadata": {},
     "output_type": "display_data"
    },
    {
     "data": {
      "text/html": [
       "<br>    <style><br>        .wandb-row {<br>            display: flex;<br>            flex-direction: row;<br>            flex-wrap: wrap;<br>            justify-content: flex-start;<br>            width: 100%;<br>        }<br>        .wandb-col {<br>            display: flex;<br>            flex-direction: column;<br>            flex-basis: 100%;<br>            flex: 1;<br>            padding: 10px;<br>        }<br>    </style><br><div class=\"wandb-row\"><div class=\"wandb-col\"><h3>Run history:</h3><br/><table class=\"wandb\"><tr><td>epoch</td><td>▁▂▃▃▄▅▆▆▇█</td></tr><tr><td>test_accuracy</td><td>▁</td></tr><tr><td>training_loss</td><td>█▂▁▁▁▁▁▁▁▁</td></tr><tr><td>validation loss</td><td>▅▃▁▂▂▂▂█▅▄</td></tr><tr><td>validation_accuracy</td><td>▁▄▆█▇▆▇▃▆█</td></tr></table><br/></div><div class=\"wandb-col\"><h3>Run summary:</h3><br/><table class=\"wandb\"><tr><td>epoch</td><td>10</td></tr><tr><td>test_accuracy</td><td>0.8656</td></tr><tr><td>training_loss</td><td>0.38904</td></tr><tr><td>validation loss</td><td>0.42694</td></tr><tr><td>validation_accuracy</td><td>0.87183</td></tr></table><br/></div></div>"
      ],
      "text/plain": [
       "<IPython.core.display.HTML object>"
      ]
     },
     "metadata": {},
     "output_type": "display_data"
    },
    {
     "data": {
      "text/html": [
       " View run <strong style=\"color:#cdcd00\">hl_5_bs_32_ac_relu_opt_rmsprop</strong> at: <a href='https://wandb.ai/ed24s401-indian-institute-of-technology-madras/q4_sweep_project/runs/8np5n7m6' target=\"_blank\">https://wandb.ai/ed24s401-indian-institute-of-technology-madras/q4_sweep_project/runs/8np5n7m6</a><br> View project at: <a href='https://wandb.ai/ed24s401-indian-institute-of-technology-madras/q4_sweep_project' target=\"_blank\">https://wandb.ai/ed24s401-indian-institute-of-technology-madras/q4_sweep_project</a><br>Synced 5 W&B file(s), 0 media file(s), 0 artifact file(s) and 0 other file(s)"
      ],
      "text/plain": [
       "<IPython.core.display.HTML object>"
      ]
     },
     "metadata": {},
     "output_type": "display_data"
    },
    {
     "data": {
      "text/html": [
       "Find logs at: <code>.\\wandb\\run-20250316_200317-8np5n7m6\\logs</code>"
      ],
      "text/plain": [
       "<IPython.core.display.HTML object>"
      ]
     },
     "metadata": {},
     "output_type": "display_data"
    },
    {
     "name": "stderr",
     "output_type": "stream",
     "text": [
      "\u001b[34m\u001b[1mwandb\u001b[0m: Agent Starting Run: d7kc72pl with config:\n",
      "\u001b[34m\u001b[1mwandb\u001b[0m: \tactivation: tanh\n",
      "\u001b[34m\u001b[1mwandb\u001b[0m: \tbatch_size: 32\n",
      "\u001b[34m\u001b[1mwandb\u001b[0m: \tbeta1: 0.9\n",
      "\u001b[34m\u001b[1mwandb\u001b[0m: \tbeta2: 0.999\n",
      "\u001b[34m\u001b[1mwandb\u001b[0m: \tbeta_rms: 0.9\n",
      "\u001b[34m\u001b[1mwandb\u001b[0m: \tepochs: 10\n",
      "\u001b[34m\u001b[1mwandb\u001b[0m: \tepsilon: 1e-08\n",
      "\u001b[34m\u001b[1mwandb\u001b[0m: \thidden_size: 128\n",
      "\u001b[34m\u001b[1mwandb\u001b[0m: \tinit_type: xavier\n",
      "\u001b[34m\u001b[1mwandb\u001b[0m: \tlearning_rate: 0.0001\n",
      "\u001b[34m\u001b[1mwandb\u001b[0m: \tmomentum: 0.8\n",
      "\u001b[34m\u001b[1mwandb\u001b[0m: \tnum_hidden_layers: 5\n",
      "\u001b[34m\u001b[1mwandb\u001b[0m: \toptimizer: momentum\n",
      "\u001b[34m\u001b[1mwandb\u001b[0m: \tweight_decay: 0\n"
     ]
    },
    {
     "data": {
      "text/html": [
       "Tracking run with wandb version 0.19.8"
      ],
      "text/plain": [
       "<IPython.core.display.HTML object>"
      ]
     },
     "metadata": {},
     "output_type": "display_data"
    },
    {
     "data": {
      "text/html": [
       "Run data is saved locally in <code>c:\\Users\\acer\\OneDrive\\Documents\\GitHub\\dl_assignment_ed24s401\\wandb\\run-20250316_200410-d7kc72pl</code>"
      ],
      "text/plain": [
       "<IPython.core.display.HTML object>"
      ]
     },
     "metadata": {},
     "output_type": "display_data"
    },
    {
     "data": {
      "text/html": [
       "Syncing run <strong><a href='https://wandb.ai/ed24s401-indian-institute-of-technology-madras/q4_sweep_project/runs/d7kc72pl' target=\"_blank\">ancient-sweep-11</a></strong> to <a href='https://wandb.ai/ed24s401-indian-institute-of-technology-madras/q4_sweep_project' target=\"_blank\">Weights & Biases</a> (<a href='https://wandb.me/developer-guide' target=\"_blank\">docs</a>)<br>Sweep page: <a href='https://wandb.ai/ed24s401-indian-institute-of-technology-madras/q4_sweep_project/sweeps/p60nv46x' target=\"_blank\">https://wandb.ai/ed24s401-indian-institute-of-technology-madras/q4_sweep_project/sweeps/p60nv46x</a>"
      ],
      "text/plain": [
       "<IPython.core.display.HTML object>"
      ]
     },
     "metadata": {},
     "output_type": "display_data"
    },
    {
     "data": {
      "text/html": [
       " View project at <a href='https://wandb.ai/ed24s401-indian-institute-of-technology-madras/q4_sweep_project' target=\"_blank\">https://wandb.ai/ed24s401-indian-institute-of-technology-madras/q4_sweep_project</a>"
      ],
      "text/plain": [
       "<IPython.core.display.HTML object>"
      ]
     },
     "metadata": {},
     "output_type": "display_data"
    },
    {
     "data": {
      "text/html": [
       " View sweep at <a href='https://wandb.ai/ed24s401-indian-institute-of-technology-madras/q4_sweep_project/sweeps/p60nv46x' target=\"_blank\">https://wandb.ai/ed24s401-indian-institute-of-technology-madras/q4_sweep_project/sweeps/p60nv46x</a>"
      ],
      "text/plain": [
       "<IPython.core.display.HTML object>"
      ]
     },
     "metadata": {},
     "output_type": "display_data"
    },
    {
     "data": {
      "text/html": [
       " View run at <a href='https://wandb.ai/ed24s401-indian-institute-of-technology-madras/q4_sweep_project/runs/d7kc72pl' target=\"_blank\">https://wandb.ai/ed24s401-indian-institute-of-technology-madras/q4_sweep_project/runs/d7kc72pl</a>"
      ],
      "text/plain": [
       "<IPython.core.display.HTML object>"
      ]
     },
     "metadata": {},
     "output_type": "display_data"
    },
    {
     "name": "stdout",
     "output_type": "stream",
     "text": [
      "Epoch 1/10 - loss=1.8201, val_acc=0.6285, val_loss=1.4182794127681342\n",
      "Epoch 2/10 - loss=1.2176, val_acc=0.6615, val_loss=1.0795495502435692\n",
      "Epoch 3/10 - loss=0.9810, val_acc=0.6913, val_loss=0.916333560681336\n",
      "Epoch 4/10 - loss=0.8531, val_acc=0.7242, val_loss=0.8176308782402324\n",
      "Epoch 5/10 - loss=0.7706, val_acc=0.7383, val_loss=0.7493140426217068\n",
      "Epoch 6/10 - loss=0.7109, val_acc=0.7557, val_loss=0.6978554089214497\n",
      "Epoch 7/10 - loss=0.6642, val_acc=0.7702, val_loss=0.6565216775726654\n",
      "Epoch 8/10 - loss=0.6268, val_acc=0.7792, val_loss=0.6239664273975669\n",
      "Epoch 9/10 - loss=0.5962, val_acc=0.7862, val_loss=0.5977701306216459\n",
      "Epoch 10/10 - loss=0.5711, val_acc=0.7950, val_loss=0.5747982165197526\n",
      "test accuracy  0.7966\n"
     ]
    },
    {
     "data": {
      "text/html": [],
      "text/plain": [
       "<IPython.core.display.HTML object>"
      ]
     },
     "metadata": {},
     "output_type": "display_data"
    },
    {
     "data": {
      "text/html": [
       "<br>    <style><br>        .wandb-row {<br>            display: flex;<br>            flex-direction: row;<br>            flex-wrap: wrap;<br>            justify-content: flex-start;<br>            width: 100%;<br>        }<br>        .wandb-col {<br>            display: flex;<br>            flex-direction: column;<br>            flex-basis: 100%;<br>            flex: 1;<br>            padding: 10px;<br>        }<br>    </style><br><div class=\"wandb-row\"><div class=\"wandb-col\"><h3>Run history:</h3><br/><table class=\"wandb\"><tr><td>epoch</td><td>▁▂▃▃▄▅▆▆▇█</td></tr><tr><td>test_accuracy</td><td>▁</td></tr><tr><td>training_loss</td><td>█▅▃▃▂▂▂▁▁▁</td></tr><tr><td>validation loss</td><td>█▅▄▃▂▂▂▁▁▁</td></tr><tr><td>validation_accuracy</td><td>▁▂▄▅▆▆▇▇██</td></tr></table><br/></div><div class=\"wandb-col\"><h3>Run summary:</h3><br/><table class=\"wandb\"><tr><td>epoch</td><td>10</td></tr><tr><td>test_accuracy</td><td>0.7966</td></tr><tr><td>training_loss</td><td>0.57108</td></tr><tr><td>validation loss</td><td>0.5748</td></tr><tr><td>validation_accuracy</td><td>0.795</td></tr></table><br/></div></div>"
      ],
      "text/plain": [
       "<IPython.core.display.HTML object>"
      ]
     },
     "metadata": {},
     "output_type": "display_data"
    },
    {
     "data": {
      "text/html": [
       " View run <strong style=\"color:#cdcd00\">hl_5_bs_32_ac_tanh_opt_momentum</strong> at: <a href='https://wandb.ai/ed24s401-indian-institute-of-technology-madras/q4_sweep_project/runs/d7kc72pl' target=\"_blank\">https://wandb.ai/ed24s401-indian-institute-of-technology-madras/q4_sweep_project/runs/d7kc72pl</a><br> View project at: <a href='https://wandb.ai/ed24s401-indian-institute-of-technology-madras/q4_sweep_project' target=\"_blank\">https://wandb.ai/ed24s401-indian-institute-of-technology-madras/q4_sweep_project</a><br>Synced 5 W&B file(s), 0 media file(s), 0 artifact file(s) and 0 other file(s)"
      ],
      "text/plain": [
       "<IPython.core.display.HTML object>"
      ]
     },
     "metadata": {},
     "output_type": "display_data"
    },
    {
     "data": {
      "text/html": [
       "Find logs at: <code>.\\wandb\\run-20250316_200410-d7kc72pl\\logs</code>"
      ],
      "text/plain": [
       "<IPython.core.display.HTML object>"
      ]
     },
     "metadata": {},
     "output_type": "display_data"
    },
    {
     "name": "stderr",
     "output_type": "stream",
     "text": [
      "\u001b[34m\u001b[1mwandb\u001b[0m: Agent Starting Run: b2u3g9u7 with config:\n",
      "\u001b[34m\u001b[1mwandb\u001b[0m: \tactivation: sigmoid\n",
      "\u001b[34m\u001b[1mwandb\u001b[0m: \tbatch_size: 32\n",
      "\u001b[34m\u001b[1mwandb\u001b[0m: \tbeta1: 0.9\n",
      "\u001b[34m\u001b[1mwandb\u001b[0m: \tbeta2: 0.999\n",
      "\u001b[34m\u001b[1mwandb\u001b[0m: \tbeta_rms: 0.9\n",
      "\u001b[34m\u001b[1mwandb\u001b[0m: \tepochs: 10\n",
      "\u001b[34m\u001b[1mwandb\u001b[0m: \tepsilon: 1e-08\n",
      "\u001b[34m\u001b[1mwandb\u001b[0m: \thidden_size: 128\n",
      "\u001b[34m\u001b[1mwandb\u001b[0m: \tinit_type: xavier\n",
      "\u001b[34m\u001b[1mwandb\u001b[0m: \tlearning_rate: 0.001\n",
      "\u001b[34m\u001b[1mwandb\u001b[0m: \tmomentum: 0.9\n",
      "\u001b[34m\u001b[1mwandb\u001b[0m: \tnum_hidden_layers: 5\n",
      "\u001b[34m\u001b[1mwandb\u001b[0m: \toptimizer: adam\n",
      "\u001b[34m\u001b[1mwandb\u001b[0m: \tweight_decay: 0.0005\n"
     ]
    },
    {
     "data": {
      "text/html": [
       "Tracking run with wandb version 0.19.8"
      ],
      "text/plain": [
       "<IPython.core.display.HTML object>"
      ]
     },
     "metadata": {},
     "output_type": "display_data"
    },
    {
     "data": {
      "text/html": [
       "Run data is saved locally in <code>c:\\Users\\acer\\OneDrive\\Documents\\GitHub\\dl_assignment_ed24s401\\wandb\\run-20250316_200607-b2u3g9u7</code>"
      ],
      "text/plain": [
       "<IPython.core.display.HTML object>"
      ]
     },
     "metadata": {},
     "output_type": "display_data"
    },
    {
     "data": {
      "text/html": [
       "Syncing run <strong><a href='https://wandb.ai/ed24s401-indian-institute-of-technology-madras/q4_sweep_project/runs/b2u3g9u7' target=\"_blank\">hopeful-sweep-12</a></strong> to <a href='https://wandb.ai/ed24s401-indian-institute-of-technology-madras/q4_sweep_project' target=\"_blank\">Weights & Biases</a> (<a href='https://wandb.me/developer-guide' target=\"_blank\">docs</a>)<br>Sweep page: <a href='https://wandb.ai/ed24s401-indian-institute-of-technology-madras/q4_sweep_project/sweeps/p60nv46x' target=\"_blank\">https://wandb.ai/ed24s401-indian-institute-of-technology-madras/q4_sweep_project/sweeps/p60nv46x</a>"
      ],
      "text/plain": [
       "<IPython.core.display.HTML object>"
      ]
     },
     "metadata": {},
     "output_type": "display_data"
    },
    {
     "data": {
      "text/html": [
       " View project at <a href='https://wandb.ai/ed24s401-indian-institute-of-technology-madras/q4_sweep_project' target=\"_blank\">https://wandb.ai/ed24s401-indian-institute-of-technology-madras/q4_sweep_project</a>"
      ],
      "text/plain": [
       "<IPython.core.display.HTML object>"
      ]
     },
     "metadata": {},
     "output_type": "display_data"
    },
    {
     "data": {
      "text/html": [
       " View sweep at <a href='https://wandb.ai/ed24s401-indian-institute-of-technology-madras/q4_sweep_project/sweeps/p60nv46x' target=\"_blank\">https://wandb.ai/ed24s401-indian-institute-of-technology-madras/q4_sweep_project/sweeps/p60nv46x</a>"
      ],
      "text/plain": [
       "<IPython.core.display.HTML object>"
      ]
     },
     "metadata": {},
     "output_type": "display_data"
    },
    {
     "data": {
      "text/html": [
       " View run at <a href='https://wandb.ai/ed24s401-indian-institute-of-technology-madras/q4_sweep_project/runs/b2u3g9u7' target=\"_blank\">https://wandb.ai/ed24s401-indian-institute-of-technology-madras/q4_sweep_project/runs/b2u3g9u7</a>"
      ],
      "text/plain": [
       "<IPython.core.display.HTML object>"
      ]
     },
     "metadata": {},
     "output_type": "display_data"
    },
    {
     "name": "stdout",
     "output_type": "stream",
     "text": [
      "Epoch 1/10 - loss=1.4049, val_acc=0.6580, val_loss=0.8802240088826195\n",
      "Epoch 2/10 - loss=0.9893, val_acc=0.6897, val_loss=0.7898220231309623\n",
      "Epoch 3/10 - loss=0.9177, val_acc=0.7102, val_loss=0.7576589613292878\n",
      "Epoch 4/10 - loss=0.8454, val_acc=0.7783, val_loss=0.6096843799087401\n",
      "Epoch 5/10 - loss=0.7688, val_acc=0.8012, val_loss=0.5732428096530953\n",
      "Epoch 6/10 - loss=0.7143, val_acc=0.8263, val_loss=0.51107325815624\n",
      "Epoch 7/10 - loss=0.6963, val_acc=0.8280, val_loss=0.48082160792455714\n",
      "Epoch 8/10 - loss=0.6796, val_acc=0.8390, val_loss=0.4740562301790807\n",
      "Epoch 9/10 - loss=0.6668, val_acc=0.8388, val_loss=0.4716351772123521\n",
      "Epoch 10/10 - loss=0.6625, val_acc=0.8365, val_loss=0.4660809467256131\n",
      "test accuracy  0.8336\n"
     ]
    },
    {
     "data": {
      "text/html": [],
      "text/plain": [
       "<IPython.core.display.HTML object>"
      ]
     },
     "metadata": {},
     "output_type": "display_data"
    },
    {
     "data": {
      "text/html": [
       "<br>    <style><br>        .wandb-row {<br>            display: flex;<br>            flex-direction: row;<br>            flex-wrap: wrap;<br>            justify-content: flex-start;<br>            width: 100%;<br>        }<br>        .wandb-col {<br>            display: flex;<br>            flex-direction: column;<br>            flex-basis: 100%;<br>            flex: 1;<br>            padding: 10px;<br>        }<br>    </style><br><div class=\"wandb-row\"><div class=\"wandb-col\"><h3>Run history:</h3><br/><table class=\"wandb\"><tr><td>epoch</td><td>▁▂▃▃▄▅▆▆▇█</td></tr><tr><td>test_accuracy</td><td>▁</td></tr><tr><td>training_loss</td><td>█▄▃▃▂▁▁▁▁▁</td></tr><tr><td>validation loss</td><td>█▆▆▃▃▂▁▁▁▁</td></tr><tr><td>validation_accuracy</td><td>▁▂▃▆▇█████</td></tr></table><br/></div><div class=\"wandb-col\"><h3>Run summary:</h3><br/><table class=\"wandb\"><tr><td>epoch</td><td>10</td></tr><tr><td>test_accuracy</td><td>0.8336</td></tr><tr><td>training_loss</td><td>0.66249</td></tr><tr><td>validation loss</td><td>0.46608</td></tr><tr><td>validation_accuracy</td><td>0.8365</td></tr></table><br/></div></div>"
      ],
      "text/plain": [
       "<IPython.core.display.HTML object>"
      ]
     },
     "metadata": {},
     "output_type": "display_data"
    },
    {
     "data": {
      "text/html": [
       " View run <strong style=\"color:#cdcd00\">hl_5_bs_32_ac_sigmoid_opt_adam</strong> at: <a href='https://wandb.ai/ed24s401-indian-institute-of-technology-madras/q4_sweep_project/runs/b2u3g9u7' target=\"_blank\">https://wandb.ai/ed24s401-indian-institute-of-technology-madras/q4_sweep_project/runs/b2u3g9u7</a><br> View project at: <a href='https://wandb.ai/ed24s401-indian-institute-of-technology-madras/q4_sweep_project' target=\"_blank\">https://wandb.ai/ed24s401-indian-institute-of-technology-madras/q4_sweep_project</a><br>Synced 5 W&B file(s), 0 media file(s), 0 artifact file(s) and 0 other file(s)"
      ],
      "text/plain": [
       "<IPython.core.display.HTML object>"
      ]
     },
     "metadata": {},
     "output_type": "display_data"
    },
    {
     "data": {
      "text/html": [
       "Find logs at: <code>.\\wandb\\run-20250316_200607-b2u3g9u7\\logs</code>"
      ],
      "text/plain": [
       "<IPython.core.display.HTML object>"
      ]
     },
     "metadata": {},
     "output_type": "display_data"
    },
    {
     "name": "stderr",
     "output_type": "stream",
     "text": [
      "\u001b[34m\u001b[1mwandb\u001b[0m: Agent Starting Run: rzj40vla with config:\n",
      "\u001b[34m\u001b[1mwandb\u001b[0m: \tactivation: relu\n",
      "\u001b[34m\u001b[1mwandb\u001b[0m: \tbatch_size: 32\n",
      "\u001b[34m\u001b[1mwandb\u001b[0m: \tbeta1: 0.9\n",
      "\u001b[34m\u001b[1mwandb\u001b[0m: \tbeta2: 0.999\n",
      "\u001b[34m\u001b[1mwandb\u001b[0m: \tbeta_rms: 0.9\n",
      "\u001b[34m\u001b[1mwandb\u001b[0m: \tepochs: 10\n",
      "\u001b[34m\u001b[1mwandb\u001b[0m: \tepsilon: 1e-08\n",
      "\u001b[34m\u001b[1mwandb\u001b[0m: \thidden_size: 128\n",
      "\u001b[34m\u001b[1mwandb\u001b[0m: \tinit_type: random\n",
      "\u001b[34m\u001b[1mwandb\u001b[0m: \tlearning_rate: 0.0001\n",
      "\u001b[34m\u001b[1mwandb\u001b[0m: \tmomentum: 0.8\n",
      "\u001b[34m\u001b[1mwandb\u001b[0m: \tnum_hidden_layers: 3\n",
      "\u001b[34m\u001b[1mwandb\u001b[0m: \toptimizer: rmsprop\n",
      "\u001b[34m\u001b[1mwandb\u001b[0m: \tweight_decay: 0.0005\n"
     ]
    },
    {
     "data": {
      "text/html": [
       "Tracking run with wandb version 0.19.8"
      ],
      "text/plain": [
       "<IPython.core.display.HTML object>"
      ]
     },
     "metadata": {},
     "output_type": "display_data"
    },
    {
     "data": {
      "text/html": [
       "Run data is saved locally in <code>c:\\Users\\acer\\OneDrive\\Documents\\GitHub\\dl_assignment_ed24s401\\wandb\\run-20250316_200825-rzj40vla</code>"
      ],
      "text/plain": [
       "<IPython.core.display.HTML object>"
      ]
     },
     "metadata": {},
     "output_type": "display_data"
    },
    {
     "data": {
      "text/html": [
       "Syncing run <strong><a href='https://wandb.ai/ed24s401-indian-institute-of-technology-madras/q4_sweep_project/runs/rzj40vla' target=\"_blank\">playful-sweep-13</a></strong> to <a href='https://wandb.ai/ed24s401-indian-institute-of-technology-madras/q4_sweep_project' target=\"_blank\">Weights & Biases</a> (<a href='https://wandb.me/developer-guide' target=\"_blank\">docs</a>)<br>Sweep page: <a href='https://wandb.ai/ed24s401-indian-institute-of-technology-madras/q4_sweep_project/sweeps/p60nv46x' target=\"_blank\">https://wandb.ai/ed24s401-indian-institute-of-technology-madras/q4_sweep_project/sweeps/p60nv46x</a>"
      ],
      "text/plain": [
       "<IPython.core.display.HTML object>"
      ]
     },
     "metadata": {},
     "output_type": "display_data"
    },
    {
     "data": {
      "text/html": [
       " View project at <a href='https://wandb.ai/ed24s401-indian-institute-of-technology-madras/q4_sweep_project' target=\"_blank\">https://wandb.ai/ed24s401-indian-institute-of-technology-madras/q4_sweep_project</a>"
      ],
      "text/plain": [
       "<IPython.core.display.HTML object>"
      ]
     },
     "metadata": {},
     "output_type": "display_data"
    },
    {
     "data": {
      "text/html": [
       " View sweep at <a href='https://wandb.ai/ed24s401-indian-institute-of-technology-madras/q4_sweep_project/sweeps/p60nv46x' target=\"_blank\">https://wandb.ai/ed24s401-indian-institute-of-technology-madras/q4_sweep_project/sweeps/p60nv46x</a>"
      ],
      "text/plain": [
       "<IPython.core.display.HTML object>"
      ]
     },
     "metadata": {},
     "output_type": "display_data"
    },
    {
     "data": {
      "text/html": [
       " View run at <a href='https://wandb.ai/ed24s401-indian-institute-of-technology-madras/q4_sweep_project/runs/rzj40vla' target=\"_blank\">https://wandb.ai/ed24s401-indian-institute-of-technology-madras/q4_sweep_project/runs/rzj40vla</a>"
      ],
      "text/plain": [
       "<IPython.core.display.HTML object>"
      ]
     },
     "metadata": {},
     "output_type": "display_data"
    },
    {
     "name": "stdout",
     "output_type": "stream",
     "text": [
      "Epoch 1/10 - loss=0.8189, val_acc=0.8330, val_loss=0.47288786305722436\n",
      "Epoch 2/10 - loss=0.5876, val_acc=0.8490, val_loss=0.42048123166841916\n",
      "Epoch 3/10 - loss=0.5446, val_acc=0.8553, val_loss=0.40074556277352696\n",
      "Epoch 4/10 - loss=0.5177, val_acc=0.8617, val_loss=0.37286030160037376\n",
      "Epoch 5/10 - loss=0.4973, val_acc=0.8620, val_loss=0.3725171362276269\n",
      "Epoch 6/10 - loss=0.4816, val_acc=0.8667, val_loss=0.3578653649249147\n",
      "Epoch 7/10 - loss=0.4685, val_acc=0.8707, val_loss=0.34814295280925867\n",
      "Epoch 8/10 - loss=0.4573, val_acc=0.8785, val_loss=0.3339394323350977\n",
      "Epoch 9/10 - loss=0.4464, val_acc=0.8735, val_loss=0.3362757898576429\n",
      "Epoch 10/10 - loss=0.4362, val_acc=0.8832, val_loss=0.3229743905907827\n",
      "test accuracy  0.876\n"
     ]
    },
    {
     "data": {
      "text/html": [],
      "text/plain": [
       "<IPython.core.display.HTML object>"
      ]
     },
     "metadata": {},
     "output_type": "display_data"
    },
    {
     "data": {
      "text/html": [
       "<br>    <style><br>        .wandb-row {<br>            display: flex;<br>            flex-direction: row;<br>            flex-wrap: wrap;<br>            justify-content: flex-start;<br>            width: 100%;<br>        }<br>        .wandb-col {<br>            display: flex;<br>            flex-direction: column;<br>            flex-basis: 100%;<br>            flex: 1;<br>            padding: 10px;<br>        }<br>    </style><br><div class=\"wandb-row\"><div class=\"wandb-col\"><h3>Run history:</h3><br/><table class=\"wandb\"><tr><td>epoch</td><td>▁▂▃▃▄▅▆▆▇█</td></tr><tr><td>test_accuracy</td><td>▁</td></tr><tr><td>training_loss</td><td>█▄▃▂▂▂▂▁▁▁</td></tr><tr><td>validation loss</td><td>█▆▅▃▃▃▂▂▂▁</td></tr><tr><td>validation_accuracy</td><td>▁▃▄▅▅▆▆▇▇█</td></tr></table><br/></div><div class=\"wandb-col\"><h3>Run summary:</h3><br/><table class=\"wandb\"><tr><td>epoch</td><td>10</td></tr><tr><td>test_accuracy</td><td>0.876</td></tr><tr><td>training_loss</td><td>0.43622</td></tr><tr><td>validation loss</td><td>0.32297</td></tr><tr><td>validation_accuracy</td><td>0.88317</td></tr></table><br/></div></div>"
      ],
      "text/plain": [
       "<IPython.core.display.HTML object>"
      ]
     },
     "metadata": {},
     "output_type": "display_data"
    },
    {
     "data": {
      "text/html": [
       " View run <strong style=\"color:#cdcd00\">hl_3_bs_32_ac_relu_opt_rmsprop</strong> at: <a href='https://wandb.ai/ed24s401-indian-institute-of-technology-madras/q4_sweep_project/runs/rzj40vla' target=\"_blank\">https://wandb.ai/ed24s401-indian-institute-of-technology-madras/q4_sweep_project/runs/rzj40vla</a><br> View project at: <a href='https://wandb.ai/ed24s401-indian-institute-of-technology-madras/q4_sweep_project' target=\"_blank\">https://wandb.ai/ed24s401-indian-institute-of-technology-madras/q4_sweep_project</a><br>Synced 5 W&B file(s), 0 media file(s), 0 artifact file(s) and 0 other file(s)"
      ],
      "text/plain": [
       "<IPython.core.display.HTML object>"
      ]
     },
     "metadata": {},
     "output_type": "display_data"
    },
    {
     "data": {
      "text/html": [
       "Find logs at: <code>.\\wandb\\run-20250316_200825-rzj40vla\\logs</code>"
      ],
      "text/plain": [
       "<IPython.core.display.HTML object>"
      ]
     },
     "metadata": {},
     "output_type": "display_data"
    },
    {
     "name": "stderr",
     "output_type": "stream",
     "text": [
      "\u001b[34m\u001b[1mwandb\u001b[0m: Sweep Agent: Waiting for job.\n",
      "\u001b[34m\u001b[1mwandb\u001b[0m: Job received.\n",
      "\u001b[34m\u001b[1mwandb\u001b[0m: Agent Starting Run: 1ybr11n1 with config:\n",
      "\u001b[34m\u001b[1mwandb\u001b[0m: \tactivation: relu\n",
      "\u001b[34m\u001b[1mwandb\u001b[0m: \tbatch_size: 32\n",
      "\u001b[34m\u001b[1mwandb\u001b[0m: \tbeta1: 0.9\n",
      "\u001b[34m\u001b[1mwandb\u001b[0m: \tbeta2: 0.999\n",
      "\u001b[34m\u001b[1mwandb\u001b[0m: \tbeta_rms: 0.9\n",
      "\u001b[34m\u001b[1mwandb\u001b[0m: \tepochs: 10\n",
      "\u001b[34m\u001b[1mwandb\u001b[0m: \tepsilon: 1e-08\n",
      "\u001b[34m\u001b[1mwandb\u001b[0m: \thidden_size: 128\n",
      "\u001b[34m\u001b[1mwandb\u001b[0m: \tinit_type: random\n",
      "\u001b[34m\u001b[1mwandb\u001b[0m: \tlearning_rate: 0.0001\n",
      "\u001b[34m\u001b[1mwandb\u001b[0m: \tmomentum: 0.8\n",
      "\u001b[34m\u001b[1mwandb\u001b[0m: \tnum_hidden_layers: 3\n",
      "\u001b[34m\u001b[1mwandb\u001b[0m: \toptimizer: adam\n",
      "\u001b[34m\u001b[1mwandb\u001b[0m: \tweight_decay: 0\n"
     ]
    },
    {
     "data": {
      "text/html": [
       "Tracking run with wandb version 0.19.8"
      ],
      "text/plain": [
       "<IPython.core.display.HTML object>"
      ]
     },
     "metadata": {},
     "output_type": "display_data"
    },
    {
     "data": {
      "text/html": [
       "Run data is saved locally in <code>c:\\Users\\acer\\OneDrive\\Documents\\GitHub\\dl_assignment_ed24s401\\wandb\\run-20250316_201004-1ybr11n1</code>"
      ],
      "text/plain": [
       "<IPython.core.display.HTML object>"
      ]
     },
     "metadata": {},
     "output_type": "display_data"
    },
    {
     "data": {
      "text/html": [
       "Syncing run <strong><a href='https://wandb.ai/ed24s401-indian-institute-of-technology-madras/q4_sweep_project/runs/1ybr11n1' target=\"_blank\">bumbling-sweep-14</a></strong> to <a href='https://wandb.ai/ed24s401-indian-institute-of-technology-madras/q4_sweep_project' target=\"_blank\">Weights & Biases</a> (<a href='https://wandb.me/developer-guide' target=\"_blank\">docs</a>)<br>Sweep page: <a href='https://wandb.ai/ed24s401-indian-institute-of-technology-madras/q4_sweep_project/sweeps/p60nv46x' target=\"_blank\">https://wandb.ai/ed24s401-indian-institute-of-technology-madras/q4_sweep_project/sweeps/p60nv46x</a>"
      ],
      "text/plain": [
       "<IPython.core.display.HTML object>"
      ]
     },
     "metadata": {},
     "output_type": "display_data"
    },
    {
     "data": {
      "text/html": [
       " View project at <a href='https://wandb.ai/ed24s401-indian-institute-of-technology-madras/q4_sweep_project' target=\"_blank\">https://wandb.ai/ed24s401-indian-institute-of-technology-madras/q4_sweep_project</a>"
      ],
      "text/plain": [
       "<IPython.core.display.HTML object>"
      ]
     },
     "metadata": {},
     "output_type": "display_data"
    },
    {
     "data": {
      "text/html": [
       " View sweep at <a href='https://wandb.ai/ed24s401-indian-institute-of-technology-madras/q4_sweep_project/sweeps/p60nv46x' target=\"_blank\">https://wandb.ai/ed24s401-indian-institute-of-technology-madras/q4_sweep_project/sweeps/p60nv46x</a>"
      ],
      "text/plain": [
       "<IPython.core.display.HTML object>"
      ]
     },
     "metadata": {},
     "output_type": "display_data"
    },
    {
     "data": {
      "text/html": [
       " View run at <a href='https://wandb.ai/ed24s401-indian-institute-of-technology-madras/q4_sweep_project/runs/1ybr11n1' target=\"_blank\">https://wandb.ai/ed24s401-indian-institute-of-technology-madras/q4_sweep_project/runs/1ybr11n1</a>"
      ],
      "text/plain": [
       "<IPython.core.display.HTML object>"
      ]
     },
     "metadata": {},
     "output_type": "display_data"
    },
    {
     "name": "stdout",
     "output_type": "stream",
     "text": [
      "Epoch 1/10 - loss=0.6495, val_acc=0.8287, val_loss=0.4716594105169914\n",
      "Epoch 2/10 - loss=0.4239, val_acc=0.8508, val_loss=0.4094628426307846\n",
      "Epoch 3/10 - loss=0.3844, val_acc=0.8553, val_loss=0.4017706956811508\n",
      "Epoch 4/10 - loss=0.3606, val_acc=0.8672, val_loss=0.36979783960650636\n",
      "Epoch 5/10 - loss=0.3414, val_acc=0.8645, val_loss=0.3633434222988479\n",
      "Epoch 6/10 - loss=0.3276, val_acc=0.8720, val_loss=0.3461213650769512\n",
      "Epoch 7/10 - loss=0.3138, val_acc=0.8745, val_loss=0.339501928620412\n",
      "Epoch 8/10 - loss=0.3028, val_acc=0.8777, val_loss=0.32613300740102114\n",
      "Epoch 9/10 - loss=0.2913, val_acc=0.8803, val_loss=0.32298694665596944\n",
      "Epoch 10/10 - loss=0.2815, val_acc=0.8817, val_loss=0.31899116400933514\n",
      "test accuracy  0.8767\n"
     ]
    },
    {
     "data": {
      "text/html": [],
      "text/plain": [
       "<IPython.core.display.HTML object>"
      ]
     },
     "metadata": {},
     "output_type": "display_data"
    },
    {
     "data": {
      "text/html": [
       "<br>    <style><br>        .wandb-row {<br>            display: flex;<br>            flex-direction: row;<br>            flex-wrap: wrap;<br>            justify-content: flex-start;<br>            width: 100%;<br>        }<br>        .wandb-col {<br>            display: flex;<br>            flex-direction: column;<br>            flex-basis: 100%;<br>            flex: 1;<br>            padding: 10px;<br>        }<br>    </style><br><div class=\"wandb-row\"><div class=\"wandb-col\"><h3>Run history:</h3><br/><table class=\"wandb\"><tr><td>epoch</td><td>▁▂▃▃▄▅▆▆▇█</td></tr><tr><td>test_accuracy</td><td>▁</td></tr><tr><td>training_loss</td><td>█▄▃▃▂▂▂▁▁▁</td></tr><tr><td>validation loss</td><td>█▅▅▃▃▂▂▁▁▁</td></tr><tr><td>validation_accuracy</td><td>▁▄▅▆▆▇▇▇██</td></tr></table><br/></div><div class=\"wandb-col\"><h3>Run summary:</h3><br/><table class=\"wandb\"><tr><td>epoch</td><td>10</td></tr><tr><td>test_accuracy</td><td>0.8767</td></tr><tr><td>training_loss</td><td>0.28153</td></tr><tr><td>validation loss</td><td>0.31899</td></tr><tr><td>validation_accuracy</td><td>0.88167</td></tr></table><br/></div></div>"
      ],
      "text/plain": [
       "<IPython.core.display.HTML object>"
      ]
     },
     "metadata": {},
     "output_type": "display_data"
    },
    {
     "data": {
      "text/html": [
       " View run <strong style=\"color:#cdcd00\">hl_3_bs_32_ac_relu_opt_adam</strong> at: <a href='https://wandb.ai/ed24s401-indian-institute-of-technology-madras/q4_sweep_project/runs/1ybr11n1' target=\"_blank\">https://wandb.ai/ed24s401-indian-institute-of-technology-madras/q4_sweep_project/runs/1ybr11n1</a><br> View project at: <a href='https://wandb.ai/ed24s401-indian-institute-of-technology-madras/q4_sweep_project' target=\"_blank\">https://wandb.ai/ed24s401-indian-institute-of-technology-madras/q4_sweep_project</a><br>Synced 5 W&B file(s), 0 media file(s), 0 artifact file(s) and 0 other file(s)"
      ],
      "text/plain": [
       "<IPython.core.display.HTML object>"
      ]
     },
     "metadata": {},
     "output_type": "display_data"
    },
    {
     "data": {
      "text/html": [
       "Find logs at: <code>.\\wandb\\run-20250316_201004-1ybr11n1\\logs</code>"
      ],
      "text/plain": [
       "<IPython.core.display.HTML object>"
      ]
     },
     "metadata": {},
     "output_type": "display_data"
    },
    {
     "name": "stderr",
     "output_type": "stream",
     "text": [
      "\u001b[34m\u001b[1mwandb\u001b[0m: Sweep Agent: Waiting for job.\n",
      "\u001b[34m\u001b[1mwandb\u001b[0m: Job received.\n",
      "\u001b[34m\u001b[1mwandb\u001b[0m: Agent Starting Run: nglt2wjb with config:\n",
      "\u001b[34m\u001b[1mwandb\u001b[0m: \tactivation: relu\n",
      "\u001b[34m\u001b[1mwandb\u001b[0m: \tbatch_size: 32\n",
      "\u001b[34m\u001b[1mwandb\u001b[0m: \tbeta1: 0.9\n",
      "\u001b[34m\u001b[1mwandb\u001b[0m: \tbeta2: 0.999\n",
      "\u001b[34m\u001b[1mwandb\u001b[0m: \tbeta_rms: 0.9\n",
      "\u001b[34m\u001b[1mwandb\u001b[0m: \tepochs: 10\n",
      "\u001b[34m\u001b[1mwandb\u001b[0m: \tepsilon: 1e-08\n",
      "\u001b[34m\u001b[1mwandb\u001b[0m: \thidden_size: 128\n",
      "\u001b[34m\u001b[1mwandb\u001b[0m: \tinit_type: xavier\n",
      "\u001b[34m\u001b[1mwandb\u001b[0m: \tlearning_rate: 0.001\n",
      "\u001b[34m\u001b[1mwandb\u001b[0m: \tmomentum: 0.9\n",
      "\u001b[34m\u001b[1mwandb\u001b[0m: \tnum_hidden_layers: 3\n",
      "\u001b[34m\u001b[1mwandb\u001b[0m: \toptimizer: nesterov\n",
      "\u001b[34m\u001b[1mwandb\u001b[0m: \tweight_decay: 0\n"
     ]
    },
    {
     "data": {
      "text/html": [
       "Tracking run with wandb version 0.19.8"
      ],
      "text/plain": [
       "<IPython.core.display.HTML object>"
      ]
     },
     "metadata": {},
     "output_type": "display_data"
    },
    {
     "data": {
      "text/html": [
       "Run data is saved locally in <code>c:\\Users\\acer\\OneDrive\\Documents\\GitHub\\dl_assignment_ed24s401\\wandb\\run-20250316_201133-nglt2wjb</code>"
      ],
      "text/plain": [
       "<IPython.core.display.HTML object>"
      ]
     },
     "metadata": {},
     "output_type": "display_data"
    },
    {
     "data": {
      "text/html": [
       "Syncing run <strong><a href='https://wandb.ai/ed24s401-indian-institute-of-technology-madras/q4_sweep_project/runs/nglt2wjb' target=\"_blank\">super-sweep-15</a></strong> to <a href='https://wandb.ai/ed24s401-indian-institute-of-technology-madras/q4_sweep_project' target=\"_blank\">Weights & Biases</a> (<a href='https://wandb.me/developer-guide' target=\"_blank\">docs</a>)<br>Sweep page: <a href='https://wandb.ai/ed24s401-indian-institute-of-technology-madras/q4_sweep_project/sweeps/p60nv46x' target=\"_blank\">https://wandb.ai/ed24s401-indian-institute-of-technology-madras/q4_sweep_project/sweeps/p60nv46x</a>"
      ],
      "text/plain": [
       "<IPython.core.display.HTML object>"
      ]
     },
     "metadata": {},
     "output_type": "display_data"
    },
    {
     "data": {
      "text/html": [
       " View project at <a href='https://wandb.ai/ed24s401-indian-institute-of-technology-madras/q4_sweep_project' target=\"_blank\">https://wandb.ai/ed24s401-indian-institute-of-technology-madras/q4_sweep_project</a>"
      ],
      "text/plain": [
       "<IPython.core.display.HTML object>"
      ]
     },
     "metadata": {},
     "output_type": "display_data"
    },
    {
     "data": {
      "text/html": [
       " View sweep at <a href='https://wandb.ai/ed24s401-indian-institute-of-technology-madras/q4_sweep_project/sweeps/p60nv46x' target=\"_blank\">https://wandb.ai/ed24s401-indian-institute-of-technology-madras/q4_sweep_project/sweeps/p60nv46x</a>"
      ],
      "text/plain": [
       "<IPython.core.display.HTML object>"
      ]
     },
     "metadata": {},
     "output_type": "display_data"
    },
    {
     "data": {
      "text/html": [
       " View run at <a href='https://wandb.ai/ed24s401-indian-institute-of-technology-madras/q4_sweep_project/runs/nglt2wjb' target=\"_blank\">https://wandb.ai/ed24s401-indian-institute-of-technology-madras/q4_sweep_project/runs/nglt2wjb</a>"
      ],
      "text/plain": [
       "<IPython.core.display.HTML object>"
      ]
     },
     "metadata": {},
     "output_type": "display_data"
    },
    {
     "name": "stdout",
     "output_type": "stream",
     "text": [
      "Epoch 1/10 - loss=0.8667, val_acc=0.8015, val_loss=0.5542136418987664\n",
      "Epoch 2/10 - loss=0.4980, val_acc=0.8322, val_loss=0.46923135082256345\n",
      "Epoch 3/10 - loss=0.4471, val_acc=0.8422, val_loss=0.4511293157104777\n",
      "Epoch 4/10 - loss=0.4176, val_acc=0.8525, val_loss=0.4181017991411145\n",
      "Epoch 5/10 - loss=0.3947, val_acc=0.8477, val_loss=0.4115344210252111\n",
      "Epoch 6/10 - loss=0.3807, val_acc=0.8617, val_loss=0.3815295543177438\n",
      "Epoch 7/10 - loss=0.3656, val_acc=0.8640, val_loss=0.3686995210007295\n",
      "Epoch 8/10 - loss=0.3543, val_acc=0.8678, val_loss=0.35666497829869853\n",
      "Epoch 9/10 - loss=0.3424, val_acc=0.8685, val_loss=0.357329174166745\n",
      "Epoch 10/10 - loss=0.3330, val_acc=0.8713, val_loss=0.34871448679526496\n",
      "test accuracy  0.8641\n"
     ]
    },
    {
     "data": {
      "text/html": [],
      "text/plain": [
       "<IPython.core.display.HTML object>"
      ]
     },
     "metadata": {},
     "output_type": "display_data"
    },
    {
     "data": {
      "text/html": [
       "<br>    <style><br>        .wandb-row {<br>            display: flex;<br>            flex-direction: row;<br>            flex-wrap: wrap;<br>            justify-content: flex-start;<br>            width: 100%;<br>        }<br>        .wandb-col {<br>            display: flex;<br>            flex-direction: column;<br>            flex-basis: 100%;<br>            flex: 1;<br>            padding: 10px;<br>        }<br>    </style><br><div class=\"wandb-row\"><div class=\"wandb-col\"><h3>Run history:</h3><br/><table class=\"wandb\"><tr><td>epoch</td><td>▁▂▃▃▄▅▆▆▇█</td></tr><tr><td>test_accuracy</td><td>▁</td></tr><tr><td>training_loss</td><td>█▃▂▂▂▂▁▁▁▁</td></tr><tr><td>validation loss</td><td>█▅▄▃▃▂▂▁▁▁</td></tr><tr><td>validation_accuracy</td><td>▁▄▅▆▆▇▇███</td></tr></table><br/></div><div class=\"wandb-col\"><h3>Run summary:</h3><br/><table class=\"wandb\"><tr><td>epoch</td><td>10</td></tr><tr><td>test_accuracy</td><td>0.8641</td></tr><tr><td>training_loss</td><td>0.33302</td></tr><tr><td>validation loss</td><td>0.34871</td></tr><tr><td>validation_accuracy</td><td>0.87133</td></tr></table><br/></div></div>"
      ],
      "text/plain": [
       "<IPython.core.display.HTML object>"
      ]
     },
     "metadata": {},
     "output_type": "display_data"
    },
    {
     "data": {
      "text/html": [
       " View run <strong style=\"color:#cdcd00\">hl_3_bs_32_ac_relu_opt_nesterov</strong> at: <a href='https://wandb.ai/ed24s401-indian-institute-of-technology-madras/q4_sweep_project/runs/nglt2wjb' target=\"_blank\">https://wandb.ai/ed24s401-indian-institute-of-technology-madras/q4_sweep_project/runs/nglt2wjb</a><br> View project at: <a href='https://wandb.ai/ed24s401-indian-institute-of-technology-madras/q4_sweep_project' target=\"_blank\">https://wandb.ai/ed24s401-indian-institute-of-technology-madras/q4_sweep_project</a><br>Synced 5 W&B file(s), 0 media file(s), 0 artifact file(s) and 0 other file(s)"
      ],
      "text/plain": [
       "<IPython.core.display.HTML object>"
      ]
     },
     "metadata": {},
     "output_type": "display_data"
    },
    {
     "data": {
      "text/html": [
       "Find logs at: <code>.\\wandb\\run-20250316_201133-nglt2wjb\\logs</code>"
      ],
      "text/plain": [
       "<IPython.core.display.HTML object>"
      ]
     },
     "metadata": {},
     "output_type": "display_data"
    },
    {
     "name": "stderr",
     "output_type": "stream",
     "text": [
      "\u001b[34m\u001b[1mwandb\u001b[0m: Agent Starting Run: 4nee0p0z with config:\n",
      "\u001b[34m\u001b[1mwandb\u001b[0m: \tactivation: relu\n",
      "\u001b[34m\u001b[1mwandb\u001b[0m: \tbatch_size: 32\n",
      "\u001b[34m\u001b[1mwandb\u001b[0m: \tbeta1: 0.9\n",
      "\u001b[34m\u001b[1mwandb\u001b[0m: \tbeta2: 0.999\n",
      "\u001b[34m\u001b[1mwandb\u001b[0m: \tbeta_rms: 0.9\n",
      "\u001b[34m\u001b[1mwandb\u001b[0m: \tepochs: 10\n",
      "\u001b[34m\u001b[1mwandb\u001b[0m: \tepsilon: 1e-08\n",
      "\u001b[34m\u001b[1mwandb\u001b[0m: \thidden_size: 64\n",
      "\u001b[34m\u001b[1mwandb\u001b[0m: \tinit_type: random\n",
      "\u001b[34m\u001b[1mwandb\u001b[0m: \tlearning_rate: 0.0001\n",
      "\u001b[34m\u001b[1mwandb\u001b[0m: \tmomentum: 0.9\n",
      "\u001b[34m\u001b[1mwandb\u001b[0m: \tnum_hidden_layers: 5\n",
      "\u001b[34m\u001b[1mwandb\u001b[0m: \toptimizer: nesterov\n",
      "\u001b[34m\u001b[1mwandb\u001b[0m: \tweight_decay: 0.0005\n"
     ]
    },
    {
     "data": {
      "text/html": [
       "Tracking run with wandb version 0.19.8"
      ],
      "text/plain": [
       "<IPython.core.display.HTML object>"
      ]
     },
     "metadata": {},
     "output_type": "display_data"
    },
    {
     "data": {
      "text/html": [
       "Run data is saved locally in <code>c:\\Users\\acer\\OneDrive\\Documents\\GitHub\\dl_assignment_ed24s401\\wandb\\run-20250316_201222-4nee0p0z</code>"
      ],
      "text/plain": [
       "<IPython.core.display.HTML object>"
      ]
     },
     "metadata": {},
     "output_type": "display_data"
    },
    {
     "data": {
      "text/html": [
       "Syncing run <strong><a href='https://wandb.ai/ed24s401-indian-institute-of-technology-madras/q4_sweep_project/runs/4nee0p0z' target=\"_blank\">youthful-sweep-16</a></strong> to <a href='https://wandb.ai/ed24s401-indian-institute-of-technology-madras/q4_sweep_project' target=\"_blank\">Weights & Biases</a> (<a href='https://wandb.me/developer-guide' target=\"_blank\">docs</a>)<br>Sweep page: <a href='https://wandb.ai/ed24s401-indian-institute-of-technology-madras/q4_sweep_project/sweeps/p60nv46x' target=\"_blank\">https://wandb.ai/ed24s401-indian-institute-of-technology-madras/q4_sweep_project/sweeps/p60nv46x</a>"
      ],
      "text/plain": [
       "<IPython.core.display.HTML object>"
      ]
     },
     "metadata": {},
     "output_type": "display_data"
    },
    {
     "data": {
      "text/html": [
       " View project at <a href='https://wandb.ai/ed24s401-indian-institute-of-technology-madras/q4_sweep_project' target=\"_blank\">https://wandb.ai/ed24s401-indian-institute-of-technology-madras/q4_sweep_project</a>"
      ],
      "text/plain": [
       "<IPython.core.display.HTML object>"
      ]
     },
     "metadata": {},
     "output_type": "display_data"
    },
    {
     "data": {
      "text/html": [
       " View sweep at <a href='https://wandb.ai/ed24s401-indian-institute-of-technology-madras/q4_sweep_project/sweeps/p60nv46x' target=\"_blank\">https://wandb.ai/ed24s401-indian-institute-of-technology-madras/q4_sweep_project/sweeps/p60nv46x</a>"
      ],
      "text/plain": [
       "<IPython.core.display.HTML object>"
      ]
     },
     "metadata": {},
     "output_type": "display_data"
    },
    {
     "data": {
      "text/html": [
       " View run at <a href='https://wandb.ai/ed24s401-indian-institute-of-technology-madras/q4_sweep_project/runs/4nee0p0z' target=\"_blank\">https://wandb.ai/ed24s401-indian-institute-of-technology-madras/q4_sweep_project/runs/4nee0p0z</a>"
      ],
      "text/plain": [
       "<IPython.core.display.HTML object>"
      ]
     },
     "metadata": {},
     "output_type": "display_data"
    },
    {
     "name": "stdout",
     "output_type": "stream",
     "text": [
      "Epoch 1/10 - loss=1.6906, val_acc=0.6823, val_loss=0.9048527284554221\n",
      "Epoch 2/10 - loss=0.9201, val_acc=0.7538, val_loss=0.6892007252587247\n",
      "Epoch 3/10 - loss=0.7928, val_acc=0.7907, val_loss=0.6004321967752192\n",
      "Epoch 4/10 - loss=0.7314, val_acc=0.8097, val_loss=0.5544426119523772\n"
     ]
    }
   ],
   "source": [
    "import numpy as np\n",
    "import wandb\n",
    "from keras.datasets import fashion_mnist\n",
    "\n",
    "\n",
    "# Neural Network Class: feed_forward_NN_4\n",
    "\n",
    "class feed_forward_NN_4:\n",
    "    def __init__(self,\n",
    "                 layers,\n",
    "                 optimizer,\n",
    "                 learning_rate,\n",
    "                 momentum,\n",
    "                 beta1,\n",
    "                 beta2,\n",
    "                 beta_rms,\n",
    "                 epsilon,\n",
    "                 weight_decay,\n",
    "                 init_type,\n",
    "                 activation\n",
    "                 ):\n",
    "    \n",
    "        \n",
    "        self.layers = layers\n",
    "        self.layer_n = len(layers)\n",
    "        self.optimizer = optimizer.lower()\n",
    "        self.lr = learning_rate\n",
    "        self.momentum = momentum\n",
    "        self.beta1 = beta1\n",
    "        self.beta2 = beta2\n",
    "        self.beta_rms = beta_rms\n",
    "        self.epsilon = epsilon\n",
    "        self.weight_decay = weight_decay\n",
    "        self.init_type = init_type.lower()\n",
    "        self.activation = activation.lower()\n",
    "        \n",
    "\n",
    "        # Initialize Weights & BiaseS\n",
    "        self.weights = []\n",
    "        self.biases = []\n",
    "        for i in range(self.layer_n - 1):\n",
    "            if self.init_type == \"xavier\":\n",
    "                # \"Xavier\" initialization\n",
    "                w = np.random.randn(layers[i], layers[i+1]) * np.sqrt(1.0 / layers[i])\n",
    "            else:\n",
    "                # \"random\" initialization\n",
    "                w = np.random.randn(layers[i], layers[i+1]) * np.sqrt(2.0 / layers[i])\n",
    "            b = np.zeros((1, layers[i+1]))\n",
    "            self.weights.append(w)\n",
    "            self.biases.append(b)\n",
    "\n",
    "        # initialize extra Params \n",
    "        if self.optimizer in [\"momentum\", \"nesterov\", \"rmsprop\", \"adam\", \"nadam\"]:\n",
    "            self.v_w = [np.zeros_like(w) for w in self.weights]\n",
    "            self.v_b = [np.zeros_like(b) for b in self.biases]\n",
    "        if self.optimizer in [\"adam\", \"nadam\"]:\n",
    "            self.m_w = [np.zeros_like(w) for w in self.weights]\n",
    "            self.m_b = [np.zeros_like(b) for b in self.biases]\n",
    "            self.t = 0\n",
    "\n",
    "    # activations \n",
    "    def sigmoid(self, x):\n",
    "        return 1 / (1 + np.exp(-np.clip(x, -500, 500)))\n",
    "    \n",
    "    def tanh(self, x):\n",
    "        return np.tanh(x)\n",
    "    \n",
    "    def relu(self, x):\n",
    "        return np.maximum(0, x)\n",
    "\n",
    "    def activate(self, x):\n",
    "        if self.activation == \"sigmoid\":\n",
    "            return self.sigmoid(x)\n",
    "        elif self.activation == \"tanh\":\n",
    "            return self.tanh(x)\n",
    "        elif self.activation == \"relu\":\n",
    "            return self.relu(x)\n",
    "        else:\n",
    "            return self.sigmoid(x) \n",
    "        \n",
    "    # derivatives\n",
    "    def derivative(self, a):\n",
    "\n",
    "        if self.activation == \"sigmoid\":\n",
    "            return a * (1 - a)\n",
    "        elif self.activation == \"tanh\":\n",
    "            return 1 - a**2\n",
    "        elif self.activation == \"relu\":\n",
    "            return (a > 0).astype(float)\n",
    "        else:\n",
    "            return a * (1 - a) \n",
    "\n",
    "    def softmax(self, x):\n",
    "        exp_x = np.exp(x - np.max(x, axis=1, keepdims=True))\n",
    "        return exp_x / np.sum(exp_x, axis=1, keepdims=True)\n",
    "\n",
    "    # Forward Pass\n",
    "    def forward_pass(self, x):\n",
    "        self.h = [x]  \n",
    "        # Hidden layers\n",
    "        for i in range(self.layer_n - 2):\n",
    "            z = np.dot(self.h[i], self.weights[i]) + self.biases[i]\n",
    "            act = self.activate(z)\n",
    "            self.h.append(act)\n",
    "        # Output layer- softmax\n",
    "        z_out = np.dot(self.h[-1], self.weights[-1]) + self.biases[-1]\n",
    "        out = self.softmax(z_out)\n",
    "        self.h.append(out)\n",
    "        return self.h\n",
    "\n",
    "    # Backward Pass\n",
    "    def backward_prop(self, y_true):\n",
    "        m = y_true.shape[0]\n",
    "        dw = [None] * (self.layer_n - 1)\n",
    "        db = [None] * (self.layer_n - 1)\n",
    "\n",
    "        # Cross-entropy derivative for output layer\n",
    "        delta = self.h[-1] - y_true  # shape: (batch_size, output_dim)\n",
    "\n",
    "        # Propagation\n",
    "        for i in reversed(range(self.layer_n - 1)):\n",
    "            dw[i] = np.dot(self.h[i].T, delta) / m\n",
    "            db[i] = np.sum(delta, axis=0, keepdims=True) / m\n",
    "            if i > 0:\n",
    "                # For hidden layers, multiply by derivative of activation\n",
    "                delta = np.dot(delta, self.weights[i].T) * self.derivative(self.h[i])\n",
    "        return dw, db\n",
    "\n",
    "    # Param Updates for \"Non-Nesterov\" \n",
    "    def _update_params(self, dw, db):\n",
    "        # Add weight decay to each gradient\n",
    "        for i in range(self.layer_n - 1):\n",
    "            dw[i] += self.weight_decay * self.weights[i]\n",
    "\n",
    "        if self.optimizer == \"sgd\":\n",
    "            for i in range(self.layer_n - 1):\n",
    "                self.weights[i] -= self.lr * dw[i]\n",
    "                self.biases[i] -= self.lr * db[i]\n",
    "\n",
    "        elif self.optimizer == \"momentum\":\n",
    "            for i in range(self.layer_n - 1):\n",
    "                self.v_w[i] = self.momentum * self.v_w[i] + dw[i]\n",
    "                self.v_b[i] = self.momentum * self.v_b[i] + db[i]\n",
    "                self.weights[i] -= self.lr * self.v_w[i]\n",
    "                self.biases[i] -= self.lr * self.v_b[i]\n",
    "\n",
    "        elif self.optimizer == \"rmsprop\":\n",
    "            for i in range(self.layer_n - 1):\n",
    "                self.v_w[i] = self.beta_rms * self.v_w[i] + (1 - self.beta_rms) * (dw[i] ** 2)\n",
    "                self.v_b[i] = self.beta_rms * self.v_b[i] + (1 - self.beta_rms) * (db[i] ** 2)\n",
    "                self.weights[i] -= self.lr * dw[i] / (np.sqrt(self.v_w[i]) + self.epsilon)\n",
    "                self.biases[i]  -= self.lr * db[i] / (np.sqrt(self.v_b[i]) + self.epsilon)\n",
    "\n",
    "        elif self.optimizer == \"adam\":\n",
    "            self.t += 1\n",
    "            for i in range(self.layer_n - 1):\n",
    "                self.m_w[i] = self.beta1 * self.m_w[i] + (1 - self.beta1) * dw[i]\n",
    "                self.m_b[i] = self.beta1 * self.m_b[i] + (1 - self.beta1) * db[i]\n",
    "                self.v_w[i] = self.beta2 * self.v_w[i] + (1 - self.beta2) * (dw[i] ** 2)\n",
    "                self.v_b[i] = self.beta2 * self.v_b[i] + (1 - self.beta2) * (db[i] ** 2)\n",
    "\n",
    "                # bias correction\n",
    "                m_w_hat = self.m_w[i] / (1 - self.beta1 ** self.t)\n",
    "                m_b_hat = self.m_b[i] / (1 - self.beta1 ** self.t)\n",
    "                v_w_hat = self.v_w[i] / (1 - self.beta2 ** self.t)\n",
    "                v_b_hat = self.v_b[i] / (1 - self.beta2 ** self.t)\n",
    "\n",
    "                self.weights[i] -= self.lr * m_w_hat / (np.sqrt(v_w_hat) + self.epsilon)\n",
    "                self.biases[i]  -= self.lr * m_b_hat / (np.sqrt(v_b_hat) + self.epsilon)\n",
    "\n",
    "        elif self.optimizer == \"nadam\":\n",
    "            self.t += 1\n",
    "            for i in range(self.layer_n - 1):\n",
    "                self.m_w[i] = self.beta1 * self.m_w[i] + (1 - self.beta1) * dw[i]\n",
    "                self.m_b[i] = self.beta1 * self.m_b[i] + (1 - self.beta1) * db[i]\n",
    "                self.v_w[i] = self.beta2 * self.v_w[i] + (1 - self.beta2) * (dw[i] ** 2)\n",
    "                self.v_b[i] = self.beta2 * self.v_b[i] + (1 - self.beta2) * (db[i] ** 2)\n",
    "\n",
    "                # bias correction\n",
    "                m_w_hat = self.m_w[i] / (1 - self.beta1 ** (self.t + 1))\n",
    "                m_b_hat = self.m_b[i] / (1 - self.beta1 ** (self.t + 1))\n",
    "                v_w_hat = self.v_w[i] / (1 - self.beta2 ** (self.t + 1))\n",
    "                v_b_hat = self.v_b[i] / (1 - self.beta2 ** (self.t + 1))\n",
    "\n",
    "                grad_term_w = self.beta1 * m_w_hat + (1 - self.beta1) * dw[i] / (1 - self.beta1 ** (self.t + 1))\n",
    "                grad_term_b = self.beta1 * m_b_hat + (1 - self.beta1) * db[i] / (1 - self.beta1 ** (self.t + 1))\n",
    "\n",
    "                self.weights[i] -= self.lr * grad_term_w / (np.sqrt(v_w_hat) + self.epsilon)\n",
    "                self.biases[i]  -= self.lr * grad_term_b / (np.sqrt(v_b_hat) + self.epsilon)\n",
    "\n",
    "    # Training Step  with \"Nesterov\"\n",
    "    def _train_step(self, x_batch, y_batch):\n",
    "        if self.optimizer == \"nesterov\":\n",
    "            # to look-ahead: w_look = w - momentum * v\n",
    "            for i in range(self.layer_n - 1):\n",
    "                self.weights[i] -= self.lr*self.momentum * self.v_w[i]\n",
    "                self.biases[i]  -= self.lr*self.momentum * self.v_b[i]\n",
    "\n",
    "            # Forward at the look-ahead position\n",
    "            self.forward_pass(x_batch)\n",
    "            out = self.h[-1]\n",
    "            l2_norm_weights = 0\n",
    "            for i in range(len(self.weights)):\n",
    "                l2_norm_weights += np.sum(self.weights[i] ** 2)\n",
    "            # for i in range(len(self.biases)):\n",
    "            #     l2_norm_bias += np.sum(self.biases[i] ** 2)\n",
    "                    \n",
    "            l2_norm_params = l2_norm_weights #+ l2_norm_bias\n",
    "            \n",
    "            loss = -np.mean(np.sum(y_batch * np.log(out + 1e-10), axis = 1)) +  (self.weight_decay/2) * l2_norm_params # (1e-10) to prevent underflow\n",
    "            #loss = -np.mean(np.sum(y_batch * np.log(out + 1e-10), axis=1))\n",
    "            dW, dB = self.backward_prop(y_batch)\n",
    "\n",
    "            # add weight decay here\n",
    "            for i in range(self.layer_n - 1):\n",
    "                dW[i] += self.weight_decay * self.weights[i]\n",
    "\n",
    "            # backward at the look-ahead position (go back to w_t)\n",
    "            for i in range(self.layer_n - 1):\n",
    "                self.weights[i] += self.lr*self.momentum * self.v_w[i]\n",
    "                self.biases[i]  += self.lr*self.momentum * self.v_b[i]\n",
    "\n",
    "            # update velocity: u_t = momentum*u_{t-1} + dW\n",
    "            for i in range(self.layer_n - 1):\n",
    "                self.v_w[i] = self.momentum * self.v_w[i] + dW[i]\n",
    "                self.v_b[i] = self.momentum * self.v_b[i] + dB[i]\n",
    "\n",
    "            # final param update: w = w - lr*u_t\n",
    "            for i in range(self.layer_n - 1):\n",
    "                self.weights[i] -= self.lr * self.v_w[i]\n",
    "                self.biases[i]  -= self.lr * self.v_b[i]\n",
    "\n",
    "            return loss\n",
    "        else:\n",
    "            # Normal forward/back\n",
    "            self.forward_pass(x_batch)\n",
    "            out = self.h[-1]\n",
    "\n",
    "            l2_norm_weights=0\n",
    "            l2_norm_bias= 0\n",
    "            for i in range(len(self.weights)):\n",
    "                l2_norm_weights += np.sum(self.weights[i] ** 2)\n",
    "            # for i in range(len(self.biases)):\n",
    "            #     l2_norm_bias += np.sum(self.biases[i] ** 2)\n",
    "                    \n",
    "            l2_norm_params = l2_norm_weights #+ l2_norm_bias\n",
    "            \n",
    "            loss = -np.mean(np.sum(y_batch * np.log(out + 1e-10), axis = 1)) +  (self.weight_decay/2) * l2_norm_params \n",
    "\n",
    "            #loss = -np.mean(np.sum(y_batch * np.log(out + 1e-10), axis=1))\n",
    "            dW, dB = self.backward_prop(y_batch)\n",
    "            self._update_params(dW, dB)\n",
    "            return loss\n",
    "\n",
    "    # Outer Training Loop \n",
    "    def training(self, x_train, y_train, x_val, y_val, epochs, batch_size):\n",
    "       \n",
    "        for ep in range(epochs):\n",
    "            idx = np.random.permutation(x_train.shape[0])\n",
    "            x_train_shuff = x_train[idx]\n",
    "            y_train_shuff = y_train[idx]\n",
    "            n_batches = len(x_train) // batch_size\n",
    "            epoch_loss = 0.0\n",
    "            for b in range(n_batches):\n",
    "                start = b * batch_size\n",
    "                end = start + batch_size\n",
    "                x_batch = x_train_shuff[start:end]\n",
    "                y_batch = y_train_shuff[start:end]\n",
    "                loss = self._train_step(x_batch, y_batch)\n",
    "                epoch_loss += loss\n",
    "            avg_loss = epoch_loss / n_batches\n",
    "\n",
    "            # Validation\n",
    "\n",
    "            preds = self.predict(x_val)\n",
    "            val_labels = np.argmax(y_val, axis=1)\n",
    "            val_acc = np.mean(preds == val_labels)\n",
    "\n",
    "            val_outputs = self.forward_pass(x_val)[-1]\n",
    "        \n",
    "            # Cross-entropy loss for validation\n",
    "            val_loss = -np.mean(np.sum(y_val * np.log(val_outputs + 1e-10), axis=1))\n",
    "\n",
    "            # Log metrics to wandb\n",
    "            wandb.log({\"epoch\": ep+1, \"training_loss\": avg_loss, \"validation_accuracy\": val_acc, \"validation loss\": val_loss})\n",
    "            print(f\"Epoch {ep+1}/{epochs} - loss={avg_loss:.4f}, val_acc={val_acc:.4f}, val_loss={val_loss}\" )\n",
    "\n",
    "    #Prediction \n",
    "    def predict(self, X):\n",
    "        self.forward_pass(X)\n",
    "        return np.argmax(self.h[-1], axis=1)\n",
    "\n",
    "\n",
    "\n",
    "\n",
    "# (x_train_full, y_train_full), (x_test, y_test) = fashion_mnist.load_data()\n",
    "# x_train_full = x_train_full.reshape(x_train_full.shape[0], -1) / 255.0\n",
    "# x_test = x_test.reshape(x_test.shape[0], -1) / 255.0\n",
    "\n",
    "# np.random.seed(42)\n",
    "# idx = np.arange(x_train_full.shape[0])\n",
    "# np.random.shuffle(idx)\n",
    "# x_train_full = x_train_full[idx]\n",
    "# y_train_full = y_train_full[idx]\n",
    "\n",
    "# # 90% training, 10% validation \n",
    "# train_size=int(.9*len(x_train_full))\n",
    "\n",
    "# x_train, y_train=x_train_full[:train_size],y_train_full[:train_size]\n",
    "# x_val, y_val=x_train_full[train_size:], y_train_full[train_size:]\n",
    "\n",
    "# num_classes = 10\n",
    "# y_train_1h = np.eye(num_classes)[y_train]\n",
    "# y_val_1h = np.eye(num_classes)[y_val]\n",
    "# y_test_1h = np.eye(num_classes)[y_test]\n",
    "\n",
    "# # model\n",
    "# model = feed_forward_NN_4(\n",
    "#     layers=[784] + [32] *3 + [10],\n",
    "# optimizer=\"nesterov\",\n",
    "# learning_rate=0.01,\n",
    "# momentum=0.9,\n",
    "# beta1=0.9,\n",
    "# beta2=0.999,\n",
    "# beta_rms=0.9,\n",
    "# epsilon=1e-4,\n",
    "# weight_decay=0.0005,\n",
    "# init_type=\"xavier\",\n",
    "# activation=\"relu\")\n",
    "\n",
    "#     # Train the model\n",
    "# model.training(\n",
    "#         x_train=x_train,\n",
    "#         y_train=y_train_1h,\n",
    "#         x_val=x_val,\n",
    "#         y_val=y_val_1h,\n",
    "#         epochs=10,\n",
    "#         batch_size=32\n",
    "#     )\n",
    "\n",
    "#     #Evaluation on test set\n",
    "# test_preds = model.predict(x_test)\n",
    "# test_labels = np.argmax(y_test_1h, axis=1)\n",
    "# test_acc = np.mean(test_preds == test_labels)\n",
    "# print(\"test accuracy \",test_acc)\n",
    "# #wandb.log({\"test_accuracy\": test_acc})\n",
    "\n",
    "\n",
    "\n",
    "\n",
    "# train_sweep() function\n",
    "\n",
    "def train_sweep():\n",
    "    # Initialize wandb\n",
    "    wandb.init()\n",
    "    config = wandb.config\n",
    "\n",
    "    #custom run name from hyperparameters\n",
    "    run_name = f\"hl_{config.num_hidden_layers}_bs_{config.batch_size}_ac_{config.activation}_opt_{config.optimizer}\"\n",
    "    wandb.run.name = run_name\n",
    "\n",
    "    # Load Fashion-MNIST\n",
    "    (x_train_full, y_train_full), (x_test, y_test) = fashion_mnist.load_data()\n",
    "    x_train_full = x_train_full.reshape(x_train_full.shape[0], -1) / 255.0\n",
    "    x_test = x_test.reshape(x_test.shape[0], -1) / 255.0\n",
    "\n",
    "    np.random.seed(42)\n",
    "    idx = np.arange(x_train_full.shape[0])\n",
    "    np.random.shuffle(idx)\n",
    "    x_train_full = x_train_full[idx]\n",
    "    y_train_full = y_train_full[idx]\n",
    "\n",
    "    # 90% training, 10% validation \n",
    "    train_size=int(.9*len(x_train_full))\n",
    "\n",
    "    x_train, y_train=x_train_full[:train_size],y_train_full[:train_size]\n",
    "    x_val, y_val=x_train_full[train_size:], y_train_full[train_size:]\n",
    "\n",
    "    num_classes = 10\n",
    "    y_train_1h = np.eye(num_classes)[y_train]\n",
    "    y_val_1h = np.eye(num_classes)[y_val]\n",
    "    y_test_1h = np.eye(num_classes)[y_test]\n",
    "\n",
    "    # model\n",
    "    model = feed_forward_NN_4(\n",
    "        layers=[784] + [config.hidden_size] * config.num_hidden_layers + [10],\n",
    "        optimizer=config.optimizer,\n",
    "        learning_rate=config.learning_rate,\n",
    "        momentum=config.momentum,\n",
    "        beta1=config.beta1,\n",
    "        beta2=config.beta2,\n",
    "        beta_rms=config.beta_rms,\n",
    "        epsilon=config.epsilon,\n",
    "        weight_decay=config.weight_decay,\n",
    "        init_type=config.init_type,\n",
    "        activation=config.activation\n",
    "    )\n",
    "\n",
    "    # Train the model\n",
    "    model.training(\n",
    "        x_train=x_train,\n",
    "        y_train=y_train_1h,\n",
    "        x_val=x_val,\n",
    "        y_val=y_val_1h,\n",
    "        epochs=config.epochs,\n",
    "        batch_size=config.batch_size\n",
    "    )\n",
    "\n",
    "    #Evaluation on test set\n",
    "    test_preds = model.predict(x_test)\n",
    "    test_labels = np.argmax(y_test_1h, axis=1)\n",
    "    test_acc = np.mean(test_preds == test_labels)\n",
    "    \n",
    "    wandb.log({\"test_accuracy\": test_acc})\n",
    "    print(\"test accuracy \",test_acc)\n",
    "\n",
    "\n",
    "# sweep configuration\n",
    "sweep_config = {\n",
    "    \"method\": \"random\", \n",
    "    \"metric\": {\n",
    "        \"name\": \"validation_accuracy\",\n",
    "        \"goal\": \"maximize\"\n",
    "    },\n",
    "    \"parameters\": {\n",
    "        \"epochs\": {\"values\": [10]},\n",
    "        \"num_hidden_layers\": {\"values\": [3,5]},\n",
    "        \"hidden_size\": {\"values\": [64, 128]},\n",
    "        \"weight_decay\": {\"values\": [0.0, 0.0005]},\n",
    "        \"learning_rate\": {\"values\": [1e-3, 1e-4]},\n",
    "        \"optimizer\": {\"values\": [\"momentum\", \"nesterov\", \"rmsprop\", \"adam\", \"nadam\"]},\n",
    "        \"batch_size\": {\"values\": [32]},\n",
    "        \"init_type\": {\"values\": [\"random\", \"xavier\"]},\n",
    "        \"activation\": {\"values\": [\"sigmoid\", \"tanh\", \"relu\"]},\n",
    "        \"momentum\": {\"values\": [0.8, 0.9]},\n",
    "        \"beta1\": {\"values\": [0.9]},\n",
    "        \"beta2\": {\"values\": [0.999]},\n",
    "        \"beta_rms\": {\"values\": [0.9]},\n",
    "        \"epsilon\": {\"values\": [1e-8]}\n",
    "    }\n",
    "}\n",
    "\n",
    "# Running the sweep\n",
    "\n",
    "if __name__ == \"__main__\":\n",
    "    # Creating sweep\n",
    "    sweep_id = wandb.sweep(sweep_config, project=\"q4_sweep_project\")\n",
    "    # Launching sweep agent\n",
    "    wandb.agent(sweep_id, function=train_sweep)\n"
   ]
  },
  {
   "cell_type": "code",
   "execution_count": null,
   "metadata": {},
   "outputs": [],
   "source": []
  }
 ],
 "metadata": {
  "kernelspec": {
   "display_name": "Python 3",
   "language": "python",
   "name": "python3"
  },
  "language_info": {
   "codemirror_mode": {
    "name": "ipython",
    "version": 3
   },
   "file_extension": ".py",
   "mimetype": "text/x-python",
   "name": "python",
   "nbconvert_exporter": "python",
   "pygments_lexer": "ipython3",
   "version": "3.11.6"
  }
 },
 "nbformat": 4,
 "nbformat_minor": 2
}
